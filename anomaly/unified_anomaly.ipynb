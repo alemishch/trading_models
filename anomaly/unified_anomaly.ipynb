{
 "cells": [
  {
   "cell_type": "code",
   "execution_count": 62,
   "id": "3b3883a7-db5c-425c-89de-8d026f055cef",
   "metadata": {},
   "outputs": [],
   "source": [
    "import pandas as pd\n",
    "import numpy as np\n",
    "import torch\n",
    "import torch.nn as nn\n",
    "import torch.optim as optim\n",
    "import matplotlib.pyplot as plt\n",
    "from tqdm import tqdm\n",
    "from sklearn.preprocessing import StandardScaler\n",
    "from dtaidistance import dtw\n",
    "import random\n",
    "from datetime import timedelta\n",
    "from pandas.tseries.offsets import DateOffset\n",
    "from scipy.stats import percentileofscore"
   ]
  },
  {
   "cell_type": "code",
   "execution_count": 2,
   "id": "3b86eb88-342f-464c-8071-2cad345002be",
   "metadata": {},
   "outputs": [
    {
     "name": "stderr",
     "output_type": "stream",
     "text": [
      "/tmp/ipykernel_19482/4068834835.py:2: DtypeWarning: Columns (7) have mixed types. Specify dtype option on import or set low_memory=False.\n",
      "  data = pd.read_csv(file_path)\n"
     ]
    }
   ],
   "source": [
    "file_path = 'BTCUSDT.csv'\n",
    "data = pd.read_csv(file_path)\n",
    "\n",
    "data['datetime'] = pd.to_datetime(data['datetime'])\n",
    "data.set_index('datetime', inplace=True)\n",
    "\n",
    "train_start = '2020-01-01 00:00:00'\n",
    "train_end   = '2020-08-30 23:59:00'\n",
    "test_start  = '2020-09-01 00:00:00'\n",
    "test_end    = '2021-07-30 23:59:00'\n",
    "\n",
    "train_data = data.loc[train_start:train_end]\n",
    "test_data  = data.loc[test_start:test_end]\n",
    "\n",
    "scaler = StandardScaler()\n",
    "train_scaled = scaler.fit_transform(train_data[['open']])\n",
    "test_scaled  = scaler.transform(test_data[['open']])\n",
    "\n",
    "train_torch = torch.tensor(train_scaled, dtype=torch.float32)\n",
    "test_torch  = torch.tensor(test_scaled,  dtype=torch.float32)"
   ]
  },
  {
   "cell_type": "code",
   "execution_count": 3,
   "id": "ce62a765-03d2-468d-a86a-2d35269f30a9",
   "metadata": {},
   "outputs": [],
   "source": [
    "def create_sequences(data_tensor, seq_length):\n",
    "    sequences = []\n",
    "    for i in range(len(data_tensor) - seq_length):\n",
    "        seq = data_tensor[i:i + seq_length]\n",
    "        sequences.append(seq)\n",
    "    return torch.stack(sequences)\n",
    "\n",
    "sequence_length = 30\n",
    "test_dates = test_data.index[sequence_length:]\n",
    "train_sequences = create_sequences(train_torch, sequence_length)\n",
    "test_sequences  = create_sequences(test_torch, sequence_length)"
   ]
  },
  {
   "cell_type": "code",
   "execution_count": 4,
   "id": "9c646df4-e5fd-4bc0-b796-5ccea3cd1391",
   "metadata": {},
   "outputs": [],
   "source": [
    "class Autoencoder(nn.Module):\n",
    "    def __init__(self, input_size, hidden_dims=[64, 32, 16]):\n",
    "        super(Autoencoder, self).__init__()\n",
    "        # Encoder\n",
    "        encoder_layers = []\n",
    "        curr_size = input_size\n",
    "        for hd in hidden_dims:\n",
    "            encoder_layers.append(nn.Linear(curr_size, hd))\n",
    "            encoder_layers.append(nn.ReLU())\n",
    "            curr_size = hd\n",
    "        \n",
    "        # Decoder\n",
    "        decoder_layers = []\n",
    "        hidden_dims.reverse()\n",
    "        for hd in hidden_dims[1:]:\n",
    "            decoder_layers.append(nn.Linear(curr_size, hd))\n",
    "            decoder_layers.append(nn.ReLU())\n",
    "            curr_size = hd\n",
    "        \n",
    "        decoder_layers.append(nn.Linear(curr_size, input_size))\n",
    "        \n",
    "        self.encoder = nn.Sequential(*encoder_layers)\n",
    "        self.decoder = nn.Sequential(*decoder_layers)\n",
    "\n",
    "    def forward(self, x):\n",
    "        x = x.view(x.size(0), -1)      #(batch_size, seq_length*features) flatten\n",
    "        encoded = self.encoder(x)\n",
    "        decoded = self.decoder(encoded)\n",
    "        decoded = decoded.view(x.size(0), -1)  # reshape back\n",
    "        return decoded"
   ]
  },
  {
   "cell_type": "code",
   "execution_count": 5,
   "id": "0289d081-3769-4693-b551-4f1f7300af2a",
   "metadata": {},
   "outputs": [],
   "source": [
    "class LSTMModel(nn.Module):\n",
    "    def __init__(self, input_size, hidden_size=32, num_layers=1):\n",
    "        super(LSTMModel, self).__init__()\n",
    "        self.hidden_size = hidden_size\n",
    "        self.num_layers = num_layers\n",
    "        self.lstm = nn.LSTM(input_size, hidden_size, num_layers, batch_first=True)\n",
    "        self.fc = nn.Linear(hidden_size, input_size)\n",
    "\n",
    "    def forward(self, x):\n",
    "        # x shape: (batch_size, seq_len, input_size)\n",
    "        h0 = torch.zeros(self.num_layers, x.size(0), self.hidden_size, device=x.device)\n",
    "        c0 = torch.zeros(self.num_layers, x.size(0), self.hidden_size, device=x.device)\n",
    "        \n",
    "        out, _ = self.lstm(x, (h0, c0))\n",
    "        out = self.fc(out)  \n",
    "        return out"
   ]
  },
  {
   "cell_type": "code",
   "execution_count": 6,
   "id": "8173d604-dc96-442b-80b3-f09b9c76d7d1",
   "metadata": {},
   "outputs": [],
   "source": [
    "class CNNModel(nn.Module):\n",
    "    \"\"\"\n",
    "    CNN-based model for reconstruction-based anomaly detection.\n",
    "    \"\"\"\n",
    "    def __init__(self, input_size, out_channels=16, kernel_size=3):\n",
    "        super(CNNModel, self).__init__()\n",
    "        # 1 feature, channel=1\n",
    "        self.conv1 = nn.Conv1d(in_channels=1, out_channels=out_channels, \n",
    "                               kernel_size=kernel_size, padding=1)\n",
    "        self.relu = nn.ReLU()\n",
    "        # Flatten -> fully connected -> reshape\n",
    "        self.fc = nn.Linear(out_channels * input_size, input_size)\n",
    "\n",
    "    def forward(self, x):\n",
    "        # x shape: (batch_size, seq_len, 1) \n",
    "        x = x.transpose(1, 2)   # shape: (batch_size, 1, seq_len)\n",
    "        x = self.conv1(x)       # (batch_size, out_channels, seq_len)\n",
    "        x = self.relu(x)\n",
    "        x = x.reshape(x.size(0), -1)  # flatten to (batch_size, out_channels * seq_len)\n",
    "        x = self.fc(x)             # (batch_size, input_size)\n",
    "        return x.unsqueeze(-1)     # (batch_size, input_size, 1)\n"
   ]
  },
  {
   "cell_type": "code",
   "execution_count": 7,
   "id": "98b13834-3273-4445-901f-344f3e8641e3",
   "metadata": {},
   "outputs": [],
   "source": [
    "class StackVAEG(nn.Module):\n",
    "    def __init__(self, input_size, hidden_dims=[64, 32], latent_dim=16):\n",
    "        super(StackVAEG, self).__init__()\n",
    "        self.input_size = input_size\n",
    "        self.hidden_dims = hidden_dims\n",
    "        self.latent_dim = latent_dim\n",
    "        \n",
    "        # Encoder\n",
    "        encoder_layers = []\n",
    "        in_dim = self.input_size\n",
    "        for hdim in self.hidden_dims:\n",
    "            encoder_layers.append(nn.Linear(in_dim, hdim))\n",
    "            encoder_layers.append(nn.ReLU())\n",
    "            in_dim = hdim\n",
    "        self.encoder = nn.Sequential(*encoder_layers)\n",
    "        \n",
    "        self.fc_mu = nn.Linear(in_dim, self.latent_dim)\n",
    "        self.fc_logvar = nn.Linear(in_dim, self.latent_dim)\n",
    "        \n",
    "        # Decoder\n",
    "        decoder_layers = []\n",
    "        out_dim = self.hidden_dims[-1]\n",
    "        decoder_layers.append(nn.Linear(self.latent_dim, out_dim))\n",
    "        decoder_layers.append(nn.ReLU())\n",
    "        for hdim in reversed(self.hidden_dims[:-1]):\n",
    "            decoder_layers.append(nn.Linear(out_dim, hdim))\n",
    "            decoder_layers.append(nn.ReLU())\n",
    "            out_dim = hdim\n",
    "        decoder_layers.append(nn.Linear(out_dim, self.input_size))\n",
    "        \n",
    "        self.decoder = nn.Sequential(*decoder_layers)\n",
    "\n",
    "    def reparameterize(self, mu, logvar):\n",
    "        std = torch.exp(0.5 * logvar)\n",
    "        eps = torch.randn_like(std)\n",
    "        return mu + std * eps\n",
    "\n",
    "    def forward(self, x):\n",
    "        # Flatten\n",
    "        x = x.view(x.size(0), -1)\n",
    "        hidden = self.encoder(x)\n",
    "        mu = self.fc_mu(hidden)\n",
    "        logvar = self.fc_logvar(hidden)\n",
    "        \n",
    "        z = self.reparameterize(mu, logvar)\n",
    "        reconstructed = self.decoder(z)\n",
    "        \n",
    "        return reconstructed.view(x.size(0), -1), mu, logvar"
   ]
  },
  {
   "cell_type": "code",
   "execution_count": 8,
   "id": "b8270f18-c312-4e00-a95c-f7aafad11562",
   "metadata": {},
   "outputs": [],
   "source": [
    "class OmniAnomaly(nn.Module):\n",
    "    def __init__(self, input_size=1, hidden_size=32, latent_dim=16, num_layers=1):\n",
    "        super(OmniAnomaly, self).__init__()\n",
    "        self.hidden_size = hidden_size\n",
    "        self.latent_dim = latent_dim\n",
    "        self.num_layers = num_layers\n",
    "        \n",
    "        # LSTM Encoder\n",
    "        self.lstm_enc = nn.LSTM(input_size, hidden_size, num_layers, batch_first=True)\n",
    "        self.fc_mu = nn.Linear(hidden_size, latent_dim)\n",
    "        self.fc_logvar = nn.Linear(hidden_size, latent_dim)\n",
    "        \n",
    "        # LSTM Decoder\n",
    "        self.lstm_dec = nn.LSTM(latent_dim, hidden_size, num_layers, batch_first=True)\n",
    "        self.fc_out = nn.Linear(hidden_size, input_size)\n",
    "\n",
    "    def reparameterize(self, mu, logvar):\n",
    "        std = torch.exp(0.5 * logvar)\n",
    "        eps = torch.randn_like(std)\n",
    "        return mu + eps * std\n",
    "    \n",
    "    def forward(self, x):\n",
    "        batch_size, seq_len, _ = x.shape\n",
    "        enc_out, _ = self.lstm_enc(x)  \n",
    "        mu = self.fc_mu(enc_out)       # (batch_size, seq_len, latent_dim)\n",
    "        logvar = self.fc_logvar(enc_out)\n",
    "        \n",
    "        z = self.reparameterize(mu, logvar)  # (batch_size, seq_len, latent_dim)\n",
    "        \n",
    "        dec_out, _ = self.lstm_dec(z)\n",
    "        reconstructed = self.fc_out(dec_out)  # (batch_size, seq_len, input_size)\n",
    "        \n",
    "        return reconstructed, mu, logvar"
   ]
  },
  {
   "cell_type": "code",
   "execution_count": 9,
   "id": "aab87fdb-27bd-4daf-9d71-f5caaf3f1ba2",
   "metadata": {},
   "outputs": [],
   "source": [
    "class EGADSModel:\n",
    "    def __init__(self, window=30):\n",
    "        self.window = window\n",
    "        self.train_length_ = None\n",
    "\n",
    "    def fit(self, data):\n",
    "        data = data.flatten()\n",
    "        self.train_length_ = len(data)\n",
    "        \n",
    "    def predict(self, data):\n",
    "        data = data.flatten()\n",
    "        full_series = pd.Series(data)\n",
    "        \n",
    "        roll_mean = full_series.rolling(self.window, min_periods=1).mean()\n",
    "        roll_std = full_series.rolling(self.window, min_periods=1).std()\n",
    "\n",
    "        roll_std = roll_std.fillna(1e-8)\n",
    "\n",
    "        z_scores = np.abs(data - roll_mean) / roll_std\n",
    "        \n",
    "        anomaly_scores = z_scores.to_numpy()  \n",
    "        return anomaly_scores"
   ]
  },
  {
   "cell_type": "code",
   "execution_count": 10,
   "id": "af35510c-9bf9-4475-91a4-27782be06200",
   "metadata": {},
   "outputs": [],
   "source": [
    "class DTWModel:\n",
    "    def __init__(self, window=30, n_references=10, seed=42):\n",
    "        self.window = window\n",
    "        self.n_references = n_references\n",
    "        self.references = []\n",
    "        self.seed = seed\n",
    "    \n",
    "    def fit(self, train_sequences):\n",
    "        np.random.seed(self.seed)\n",
    "        total_sequences = train_sequences.shape[0]\n",
    "        selected_indices = np.random.choice(total_sequences, self.n_references, replace=False)\n",
    "        self.references = [train_sequences[i].squeeze().numpy() for i in selected_indices]\n",
    "        print(f\"DTWModel: Selected {self.n_references} reference sequences.\")\n",
    "    \n",
    "    def predict(self, test_sequences):\n",
    "        scores = []\n",
    "        for seq in test_sequences:\n",
    "            seq_np = seq.squeeze().numpy()\n",
    "            distances = [dtw.distance(seq_np, ref) for ref in self.references]\n",
    "            min_distance = min(distances)\n",
    "            scores.append(min_distance)\n",
    "        return np.array(scores)"
   ]
  },
  {
   "cell_type": "code",
   "execution_count": 11,
   "id": "14a4a9b2-fba1-4992-97c1-40a66256a584",
   "metadata": {},
   "outputs": [],
   "source": [
    "class AnomalyDetector:\n",
    "    def __init__(self, model_name, model_params, sequence_length=30, device='cpu'):\n",
    "        self.model_name = model_name.lower()\n",
    "        self.model_params = model_params\n",
    "        self.sequence_length = sequence_length\n",
    "        self.device = device\n",
    "        \n",
    "        if self.model_name == 'egads':\n",
    "            self.model = EGADSModel(**self.model_params)\n",
    "        elif self.model_name == 'dtw':\n",
    "            self.model = DTWModel(**self.model_params)\n",
    "        else:\n",
    "            self.model = self._initialize_model().to(self.device)\n",
    "        \n",
    "    def _initialize_model(self):\n",
    "        if self.model_name == 'autoencoder':\n",
    "            return Autoencoder(**self.model_params)\n",
    "        elif self.model_name == 'lstm':\n",
    "            return LSTMModel(**self.model_params)\n",
    "        elif self.model_name == 'cnn':\n",
    "            return CNNModel(**self.model_params)\n",
    "        elif self.model_name == 'stackvaeg':\n",
    "            return StackVAEG(**self.model_params)\n",
    "        elif self.model_name == 'omnianomaly':\n",
    "            return OmniAnomaly(**self.model_params)\n",
    "        else:\n",
    "            raise ValueError(f\"Unknown model_name: {self.model_name}\")\n",
    "    \n",
    "    def train(self, train_sequences=None, num_epochs=10, batch_size=32, learning_rate=1e-3, train_raw=None):\n",
    "        if self.model_name == 'egads':\n",
    "            if train_raw is None:\n",
    "                raise ValueError(\"EGADS requires 'train_raw'\")\n",
    "            data_np = train_raw.cpu().numpy().flatten()\n",
    "            self.model.fit(data_np)\n",
    "            return\n",
    "        elif self.model_name == 'dtw':\n",
    "            if train_sequences is None:\n",
    "                raise ValueError(\"DTW requires 'train_sequences'\")\n",
    "            self.model.fit(train_sequences)\n",
    "            return\n",
    "        \n",
    "        if train_sequences is None:\n",
    "            raise ValueError(f\"{self.model_name} requires 'train_sequences'\")\n",
    "        \n",
    "        train_loader = torch.utils.data.DataLoader(train_sequences, batch_size=batch_size, shuffle=True)\n",
    "        optimizer = optim.Adam(self.model.parameters(), lr=learning_rate)\n",
    "        \n",
    "        self.model.train()\n",
    "        for epoch in tqdm(range(num_epochs), desc=f\"Training {self.model_name}\"):\n",
    "            running_loss = 0.0\n",
    "            for batch in train_loader:\n",
    "                batch = batch.to(self.device)\n",
    "                optimizer.zero_grad()\n",
    "                \n",
    "                if self.model_name in ['stackvaeg', 'omnianomaly']:\n",
    "                    if self.model_name == 'stackvaeg':\n",
    "                        outputs, mu, logvar = self.model(batch)\n",
    "                        batch_flat = batch.view(batch.size(0), -1)\n",
    "                        recon_loss = nn.MSELoss()(outputs, batch_flat)\n",
    "                    else:  \n",
    "                        reconstructed, mu, logvar = self.model(batch)\n",
    "                        recon_loss = nn.MSELoss()(reconstructed, batch)\n",
    "                    # KLD\n",
    "                    kld = -0.5 * torch.mean(1 + logvar - mu.pow(2) - logvar.exp())\n",
    "                    loss = recon_loss + kld * 0.001\n",
    "                else:\n",
    "                    outputs = self.model(batch)\n",
    "                    if self.model_name == 'cnn':\n",
    "                        loss = nn.MSELoss()(outputs, batch.view_as(outputs))\n",
    "                    elif self.model_name == 'lstm':\n",
    "                        loss = nn.MSELoss()(outputs, batch)\n",
    "                    else:\n",
    "                        loss = nn.MSELoss()(outputs, batch.view(outputs.size()))\n",
    "                \n",
    "                loss.backward()\n",
    "                optimizer.step()\n",
    "                running_loss += loss.item()\n",
    "            \n",
    "            epoch_loss = running_loss / len(train_loader)\n",
    "            print(f\"Epoch {epoch+1}/{num_epochs}, Loss: {epoch_loss:.6f}\")\n",
    "\n",
    "    def predict(self, test_sequences=None, test_raw=None):\n",
    "        if self.model_name == 'egads':\n",
    "            if test_raw is None:\n",
    "                raise ValueError(\"EGADS requires 'test_raw'\")\n",
    "            scores = self.model.predict(test_raw.cpu().numpy().flatten())\n",
    "            return scores\n",
    "        elif self.model_name == 'dtw':\n",
    "            if test_sequences is None:\n",
    "                raise ValueError(\"DTW requires 'test_sequences'\")\n",
    "            scores = self.model.predict(test_sequences)\n",
    "            return scores\n",
    "        \n",
    "        self.model.eval()\n",
    "        all_errors = []\n",
    "        with torch.no_grad():\n",
    "            for i in range(len(test_sequences)):\n",
    "                x = test_sequences[i].unsqueeze(0).to(self.device)\n",
    "                if self.model_name in ['stackvaeg', 'omnianomaly']:\n",
    "                    if self.model_name == 'stackvaeg':\n",
    "                        outputs, _, _ = self.model(x)\n",
    "                        target = x.view(1, -1)\n",
    "                        mse = torch.mean((outputs - target) ** 2, dim=1)\n",
    "                    else:\n",
    "                        reconstructed, _, _ = self.model(x)\n",
    "                        mse = torch.mean((reconstructed - x) ** 2, dim=[1,2])\n",
    "                else:\n",
    "                    outputs = self.model(x)\n",
    "                    if self.model_name == 'cnn':\n",
    "                        mse = torch.mean((outputs - x.view_as(outputs)) ** 2, dim=[1,2])\n",
    "                    elif self.model_name == 'lstm':\n",
    "                        mse = torch.mean((outputs - x) ** 2, dim=[1,2])\n",
    "                    else:\n",
    "                        # autoencoder\n",
    "                        mse = torch.mean((outputs - x.view(1, -1)) ** 2, dim=1)\n",
    "                all_errors.append(mse.item())\n",
    "        return np.array(all_errors)\n",
    "    \n",
    "    def get_anomalies(self, errors, percentile=99.5):\n",
    "        threshold = np.percentile(errors, percentile)\n",
    "        anomalies = errors > threshold\n",
    "        return anomalies, threshold\n"
   ]
  },
  {
   "cell_type": "code",
   "execution_count": 67,
   "id": "9971c9d5-8933-494e-9432-cafc3655d110",
   "metadata": {},
   "outputs": [],
   "source": [
    "def merge_anomaly_clusters(clusters, merge_threshold_minutes):\n",
    "    if not clusters:\n",
    "        return []\n",
    "    \n",
    "    sorted_clusters = sorted(clusters, key=lambda x: x[0])\n",
    "    merged = [sorted_clusters[0]]\n",
    "    \n",
    "    for current_start, current_end in sorted_clusters[1:]:\n",
    "        last_start, last_end = merged[-1]\n",
    "        gap = (current_start - last_end).total_seconds() / 60.0  # gap in minutes\n",
    "        \n",
    "        if gap <= merge_threshold_minutes:\n",
    "            merged[-1] = (last_start, max(last_end, current_end))\n",
    "        else:\n",
    "            merged.append((current_start, current_end))\n",
    "    \n",
    "    return merged\n",
    "\n",
    "def simulate_trading_with_clusters(\n",
    "    model_name, \n",
    "    merged_clusters, \n",
    "    price_data, \n",
    "    ma_data, \n",
    "    scores, \n",
    "    percentile, \n",
    "    max_entries,\n",
    "    window_thresholds,    \n",
    "    window_end_times,\n",
    "    window_ranges\n",
    "):  \n",
    "    initial_capital = 1.0\n",
    "    capital = initial_capital\n",
    "    capital_history = pd.Series(index=price_data.index, data=np.nan)\n",
    "    capital_history.iloc[0] = capital \n",
    "\n",
    "    trade_entries = set()\n",
    "\n",
    "    for cluster in merged_clusters:\n",
    "        cluster_start, cluster_end = cluster\n",
    "        \n",
    "        window_idx = next(\n",
    "            (i for i, end_time in enumerate(window_end_times) if end_time >= cluster_end),\n",
    "            len(window_thresholds) - 1  # Use the last threshold if no window is found\n",
    "        )\n",
    "        window_threshold = window_thresholds[window_idx]\n",
    "        \n",
    "        start_idx, end_idx = window_ranges[window_idx] \n",
    "        scores_in_window = scores[start_idx:end_idx] \n",
    "        \n",
    "        if cluster_end not in price_data.index or cluster_end not in ma_data.index:\n",
    "            print(f\"Anomaly end time {cluster_end} not in data. Skipping trade.\")\n",
    "            continue  \n",
    "    \n",
    "        entries_made = 0  \n",
    "    \n",
    "        for _ in range(max_entries):\n",
    "            if entries_made >= max_entries:\n",
    "                break  \n",
    "\n",
    "            # first point where score exceeds threshold within cluster\n",
    "            eligible_indices = np.where(\n",
    "                (scores >= window_threshold) &\n",
    "                (price_data.index >= cluster_start) &\n",
    "                (price_data.index <= cluster_end)\n",
    "            )[0]\n",
    "\n",
    "            if len(eligible_indices) == 0:\n",
    "                break  \n",
    "\n",
    "            entry_idx = eligible_indices[0]\n",
    "            entry_time = price_data.index[entry_idx]\n",
    "\n",
    "            # check if a trade has already been made at this time\n",
    "            if entry_time in trade_entries:\n",
    "                continue  \n",
    "\n",
    "            # add entry_time to trade_entries set\n",
    "            trade_entries.add(entry_time)\n",
    "\n",
    "            current_price = price_data.loc[entry_time]\n",
    "            current_ma = ma_data.loc[entry_time]\n",
    "\n",
    "            if current_price > current_ma:\n",
    "                trade_type = 'sell'\n",
    "            elif current_price < current_ma:\n",
    "                trade_type = 'buy'\n",
    "            else:\n",
    "                print(f\"Price equals MA at {entry_time}. No trade executed.\")\n",
    "                continue  # No trade if price equals MA\n",
    "\n",
    "            trade_amount = (1.0 / max_entries) * capital \n",
    "            trade_entry_price = current_price\n",
    "\n",
    "            trade_exit_time = None\n",
    "            for timestamp in price_data.loc[entry_time:].index:\n",
    "                if timestamp not in ma_data.index:\n",
    "                    continue  \n",
    "\n",
    "                current_price_exit = price_data.loc[timestamp]\n",
    "                current_ma_exit = ma_data.loc[timestamp]\n",
    "\n",
    "                if trade_type == 'buy' and current_price_exit >= current_ma_exit:\n",
    "                    trade_exit_time = timestamp\n",
    "                    exit_price = current_price_exit\n",
    "                    break\n",
    "                elif trade_type == 'sell' and current_price_exit <= current_ma_exit:\n",
    "                    trade_exit_time = timestamp\n",
    "                    exit_price = current_price_exit\n",
    "                    break\n",
    "\n",
    "            if trade_exit_time is None:\n",
    "                print(f\"No suitable exit found for trade starting at {entry_time}. Skipping trade.\")\n",
    "                continue\n",
    "\n",
    "            if trade_type == 'buy':\n",
    "                profit = (exit_price - trade_entry_price) * (trade_amount / trade_entry_price)\n",
    "            elif trade_type == 'sell':\n",
    "                profit = (trade_entry_price - exit_price) * (trade_amount / trade_entry_price)\n",
    "\n",
    "            capital += profit\n",
    "\n",
    "            mask = (capital_history.index >= entry_time) & (capital_history.index <= trade_exit_time)\n",
    "            capital_history.loc[mask] = capital  \n",
    "\n",
    "            if trade_exit_time < capital_history.index[-1]:\n",
    "                capital_history.loc[trade_exit_time:] = capital\n",
    "\n",
    "            entries_made += 1  \n",
    "\n",
    "            anomaly_score = scores[entry_idx]\n",
    "            percentile_rank = percentileofscore(scores_in_window, anomaly_score, kind='rank')\n",
    "            anomaly_percentage = 100.0 - percentile_rank\n",
    "\n",
    "            \n",
    "            print(\n",
    "                f\"Trade executed: {trade_type} at {entry_time} \"\n",
    "                f\"(Entry Price: {trade_entry_price:.2f}), exited at {trade_exit_time} \"\n",
    "                f\"(Exit Price: {exit_price:.2f}), Volume: {trade_amount:.4f}, \"\n",
    "                f\"Anomaly: {anomaly_percentage:.2f}%, P&L: {profit:.4f}\"\n",
    "            )\n",
    "\n",
    "    capital_history.ffill(inplace=True)\n",
    "\n",
    "    capital_history.fillna(capital, inplace=True)\n",
    "\n",
    "    return capital_history\n",
    "# def simulate_trading_with_clusters(model_name, merged_clusters, price_data, ma_data, window_minutes):\n",
    "#     initial_capital = 1.0\n",
    "#     capital = initial_capital\n",
    "#     capital_history = pd.Series(index=price_data.index, data=np.nan)\n",
    "#     capital_history.iloc[0] = capital  \n",
    "    \n",
    "#     for cluster in merged_clusters:\n",
    "#         anomaly_end_time = cluster[1]\n",
    "        \n",
    "#         if anomaly_end_time not in price_data.index or anomaly_end_time not in ma_data.index:\n",
    "#             print(f\"Anomaly end time {anomaly_end_time} not in data. Skipping trade.\")\n",
    "#             continue  \n",
    "        \n",
    "#         current_price = price_data.loc[anomaly_end_time]\n",
    "#         current_ma = ma_data.loc[anomaly_end_time]\n",
    "        \n",
    "#         if current_price > current_ma:\n",
    "#             trade_type = 'sell'\n",
    "#         elif current_price < current_ma:\n",
    "#             trade_type = 'buy'\n",
    "#         else:\n",
    "#             print(f\"Price equals MA at {anomaly_end_time}. No trade executed.\")\n",
    "#             continue  \n",
    "        \n",
    "#         trade_amount = 0.1 * capital  \n",
    "#         trade_entry_price = current_price\n",
    "        \n",
    "#         trade_exit_time = None\n",
    "#         for timestamp in price_data.loc[anomaly_end_time:].index:\n",
    "#             if timestamp not in ma_data.index:\n",
    "#                 continue  \n",
    "            \n",
    "#             current_price = price_data.loc[timestamp]\n",
    "#             current_ma = ma_data.loc[timestamp]\n",
    "            \n",
    "#             if trade_type == 'buy' and current_price >= current_ma:\n",
    "#                 trade_exit_time = timestamp\n",
    "#                 exit_price = current_price\n",
    "#                 break\n",
    "#             elif trade_type == 'sell' and current_price <= current_ma:\n",
    "#                 trade_exit_time = timestamp\n",
    "#                 exit_price = current_price\n",
    "#                 break\n",
    "        \n",
    "#         if trade_exit_time is None:\n",
    "#             print(f\"No suitable exit found for trade starting at {anomaly_end_time}. Skipping trade.\")\n",
    "#             continue\n",
    "        \n",
    "#         if trade_type == 'buy':\n",
    "#             profit = (exit_price - trade_entry_price) * (trade_amount / trade_entry_price)\n",
    "#         elif trade_type == 'sell':\n",
    "#             profit = (trade_entry_price - exit_price) * (trade_amount / trade_entry_price)\n",
    "        \n",
    "#         capital += profit\n",
    "        \n",
    "#         mask = (capital_history.index >= anomaly_end_time) & (capital_history.index <= trade_exit_time)\n",
    "#         capital_history.loc[mask] = capital\n",
    "        \n",
    "#         if trade_exit_time < capital_history.index[-1]:\n",
    "#             capital_history.loc[trade_exit_time:] = capital\n",
    "    \n",
    "#     capital_history.ffill(inplace=True)\n",
    "    \n",
    "#     capital_history.fillna(capital, inplace=True)\n",
    "    \n",
    "#     return capital_history"
   ]
  },
  {
   "cell_type": "code",
   "execution_count": 71,
   "id": "6a34f468-e411-47be-8ef3-4e4733ca190e",
   "metadata": {},
   "outputs": [],
   "source": [
    "window_days = 55\n",
    "window_minutes = 50 #for rolling mean\n",
    "percentile = 99.5\n",
    "max_entries = 5\n",
    "step = (100 - percentile) / max_entries\n",
    "\n",
    "window_size_minutes = 100 #window for final anomalies distribution\n",
    "\n",
    "original_data_sorted = data[['open', 'close']].copy().sort_index()\n",
    "\n",
    "original_data_sorted['rolling_avg'] = original_data_sorted['open'].rolling(window=window_minutes).mean()\n",
    "original_data_sorted['rolling_low'] = original_data_sorted['open'].rolling(window=window_minutes).min()\n",
    "original_data_sorted['rolling_high'] = original_data_sorted['open'].rolling(window=window_minutes).max()\n",
    "\n",
    "\n",
    "def analyze_anomalies(anomaly_timestamps, original_data_sorted, window_minutes=13*24*60):\n",
    "    results = []\n",
    "    \n",
    "    for ts in anomaly_timestamps:\n",
    "        if ts < original_data_sorted.index[window_minutes-1]:\n",
    "            continue\n",
    "        \n",
    "        future_time = ts + pd.Timedelta(hours=1)\n",
    "        if future_time > original_data_sorted.index[-1]:\n",
    "            continue\n",
    "        \n",
    "        try:\n",
    "            open_price = original_data_sorted.loc[ts, 'open']\n",
    "        except KeyError:\n",
    "            continue\n",
    "        \n",
    "        prev_time = ts - pd.Timedelta(minutes=1)\n",
    "        if prev_time not in original_data_sorted.index:\n",
    "            continue\n",
    "        rolling_avg = original_data_sorted.loc[prev_time, 'rolling_avg']\n",
    "        rolling_low = original_data_sorted.loc[prev_time, 'rolling_low']\n",
    "        rolling_high = original_data_sorted.loc[prev_time, 'rolling_high']\n",
    "        \n",
    "        if np.isnan(rolling_avg) or np.isnan(rolling_low) or np.isnan(rolling_high):\n",
    "            continue\n",
    "        \n",
    "        above_avg = open_price > rolling_avg\n",
    "        \n",
    "        above_low = open_price > rolling_low\n",
    "        below_high = open_price < rolling_high\n",
    "        \n",
    "        try:\n",
    "            next_hour_data = original_data_sorted.loc[ts + pd.Timedelta(minutes=1): ts + pd.Timedelta(hours=1)]\n",
    "        except KeyError:\n",
    "            continue\n",
    "        \n",
    "        if next_hour_data.empty:\n",
    "            continue\n",
    "        \n",
    "        min_open_next_hour = next_hour_data['open'].min()\n",
    "        max_open_next_hour = next_hour_data['open'].max()\n",
    "        \n",
    "        try:\n",
    "            close_price_next_hour = original_data_sorted.loc[ts + pd.Timedelta(hours=1), 'close']\n",
    "        except KeyError:\n",
    "            continue\n",
    "        \n",
    "        if above_avg:\n",
    "            price_after = min_open_next_hour\n",
    "            price_change = min_open_next_hour - open_price\n",
    "            direction = 'Min'\n",
    "        else:\n",
    "            price_after = max_open_next_hour\n",
    "            price_change = max_open_next_hour - open_price\n",
    "            direction = 'Max'\n",
    "        \n",
    "        close_change = close_price_next_hour - open_price\n",
    "        \n",
    "        price_change_pct = (price_change / open_price) * 100\n",
    "        close_change_pct = (close_change / open_price) * 100\n",
    "        \n",
    "        if above_avg:\n",
    "            if price_after < open_price:\n",
    "                sign = 1  \n",
    "            elif price_after > open_price:\n",
    "                sign = -1  \n",
    "            else:\n",
    "                sign = 0\n",
    "        else:\n",
    "            if price_after > open_price:\n",
    "                sign = 1  \n",
    "            elif price_after < open_price:\n",
    "                sign = -1  \n",
    "            else:\n",
    "                sign = 0\n",
    "        \n",
    "        price_change_pct_signed = price_change_pct * sign\n",
    "        close_change_pct_signed = close_change_pct * sign\n",
    "        \n",
    "        relative_to_avg = 'Above Avg' if above_avg else 'Below Avg'\n",
    "        relative_to_low_high = []\n",
    "        if above_low:\n",
    "            relative_to_low_high.append('Above Low')\n",
    "        if below_high:\n",
    "            relative_to_low_high.append('Below High')\n",
    "        if not relative_to_low_high:\n",
    "            relative_to_low_high.append('At Low/High')  \n",
    "        \n",
    "        results.append({\n",
    "            'timestamp': ts,\n",
    "            'open_price': open_price,\n",
    "            'rolling_avg': rolling_avg,\n",
    "            'rolling_low': rolling_low,\n",
    "            'rolling_high': rolling_high,\n",
    "            'relative_to_avg': relative_to_avg,\n",
    "            'relative_to_low_high': ', '.join(relative_to_low_high),\n",
    "            'price_after': price_after,\n",
    "            'price_change_pct_signed': price_change_pct_signed,\n",
    "            'direction': direction,\n",
    "            'close_next_hour': close_price_next_hour,\n",
    "            'close_change_pct_signed': close_change_pct_signed\n",
    "        })\n",
    "    \n",
    "    results_df = pd.DataFrame(results)\n",
    "    return results_df\n",
    "\n",
    "def compute_statistics(results_df, model_name):\n",
    "    if results_df.empty:\n",
    "        print(\"No anomalies to analyze.\")\n",
    "        return\n",
    "    \n",
    "    print(f\"\\n=== Statistics for {model_name.capitalize()} ===\")\n",
    "    \n",
    "    relative_to_avg = results_df['relative_to_avg']\n",
    "    print(f\"\\nRelative to {window_minutes}-minutes Average:\")\n",
    "    print(relative_to_avg.value_counts())\n",
    "    \n",
    "    relative_to_low_high = results_df['relative_to_low_high']\n",
    "    print(f\"\\nRelative to {window_minutes}-minutes Low/High:\")\n",
    "    print(relative_to_low_high.value_counts())\n",
    "    \n",
    "    print(\"\\nNext Hour Min/Max Open Price Change (%):\")\n",
    "    print(results_df['price_change_pct_signed'].describe())\n",
    "    \n",
    "    print(\"\\nNext Hour Close Price Change (%):\")\n",
    "    print(results_df['close_change_pct_signed'].describe())\n",
    "    \n",
    "    plt.figure(figsize=(10, 5))\n",
    "    relative_to_avg.value_counts().plot(kind='bar')\n",
    "    plt.title(f'{model_name.capitalize()} - Relative to {window_minutes}-minutes Average')\n",
    "    plt.xlabel('Position')\n",
    "    plt.ylabel('Count')\n",
    "    plt.show()\n",
    "    \n",
    "    plt.figure(figsize=(10, 5))\n",
    "    relative_to_low_high.value_counts().plot(kind='bar')\n",
    "    plt.title(f'{model_name.capitalize()} - Relative to {window_minutes}-minutes Low/High')\n",
    "    plt.xlabel('Position')\n",
    "    plt.ylabel('Count')\n",
    "    plt.show()\n",
    "    \n",
    "    plt.figure(figsize=(10, 5))\n",
    "    results_df['price_change_pct_signed'].hist(bins=30)\n",
    "    plt.title(f'{model_name.capitalize()} - Next Hour Min/Max Open Price Change (%) Distribution')\n",
    "    plt.xlabel('Price Change (%)')\n",
    "    plt.ylabel('Frequency')\n",
    "    plt.show()\n",
    "    \n",
    "    plt.figure(figsize=(10, 5))\n",
    "    results_df['close_change_pct_signed'].hist(bins=30)\n",
    "    plt.title(f'{model_name.capitalize()} - Next Hour Close Price Change (%) Distribution')\n",
    "    plt.xlabel('Price Change (%)')\n",
    "    plt.ylabel('Frequency')\n",
    "    plt.show()"
   ]
  },
  {
   "cell_type": "code",
   "execution_count": 14,
   "id": "70b69959-2007-4b23-a778-5c9db21e7c4c",
   "metadata": {},
   "outputs": [],
   "source": [
    "#model_names = ['autoencoder', 'lstm', 'cnn', 'stackvaeg', 'omnianomaly', 'egads'] ######\n",
    "model_names = ['autoencoder']\n",
    "model_params = {\n",
    "    'autoencoder': {\n",
    "        'input_size': sequence_length * 1,  \n",
    "        'hidden_dims': [64, 32, 16]\n",
    "    },\n",
    "    'lstm': {\n",
    "        'input_size': 1,     \n",
    "        'hidden_size': 32,\n",
    "        'num_layers': 1\n",
    "    },\n",
    "    'cnn': {\n",
    "        'input_size': sequence_length,\n",
    "        'out_channels': 16,\n",
    "        'kernel_size': 3\n",
    "    },\n",
    "    'stackvaeg': {\n",
    "        'input_size': sequence_length * 1,  \n",
    "        'hidden_dims': [64, 32],\n",
    "        'latent_dim': 16\n",
    "    },\n",
    "    'omnianomaly': {\n",
    "        'input_size': 1,     \n",
    "        'hidden_size': 32,\n",
    "        'latent_dim': 16,\n",
    "        'num_layers': 1\n",
    "    },\n",
    "    'egads': {\n",
    "        'window': 30\n",
    "    },\n",
    "    'dtw': {\n",
    "        'window': 30,\n",
    "        'n_references': 10,\n",
    "        'seed': 42\n",
    "    }\n",
    "}"
   ]
  },
  {
   "cell_type": "code",
   "execution_count": 15,
   "id": "e7a83162-b685-43a8-a949-1cdd42715750",
   "metadata": {},
   "outputs": [],
   "source": [
    "train_initial_length = pd.DateOffset(months=6)  \n",
    "train_expand_step = pd.DateOffset(months=3)    \n",
    "test_length = pd.DateOffset(months=3)           \n",
    "\n",
    "start_date = pd.Timestamp('2020-01-01 00:00:00')\n",
    "end_date = pd.Timestamp('2021-12-31 23:59:00')\n",
    "\n",
    "combined_test_dates = []      \n",
    "combined_scores = {}          \n",
    "combined_anomalies = {}  \n",
    "original_prices_buffer = []\n",
    "\n",
    "for model_name in model_names:\n",
    "    combined_scores[model_name] = []\n",
    "    combined_anomalies[model_name] = []\n",
    "\n",
    "current_train_start = start_date\n",
    "current_train_end = current_train_start + train_initial_length\n",
    "current_test_start = current_train_end\n",
    "current_test_end = current_test_start + test_length"
   ]
  },
  {
   "cell_type": "code",
   "execution_count": 16,
   "id": "f56e756b-6df1-4ecd-af8f-c66c198adce2",
   "metadata": {},
   "outputs": [
    {
     "name": "stdout",
     "output_type": "stream",
     "text": [
      "\n",
      "=== Processing Window: Train 2020-01-01 00:00:00 to 2020-07-01 00:00:00, Test 2020-07-01 00:00:00 to 2020-10-01 00:00:00 ===\n",
      "\n",
      "=== Processing Model: autoencoder ===\n"
     ]
    },
    {
     "name": "stderr",
     "output_type": "stream",
     "text": [
      "Training autoencoder:  10%|██████████████▌                                                                                                                                   | 1/10 [00:33<04:57, 33.10s/it]"
     ]
    },
    {
     "name": "stdout",
     "output_type": "stream",
     "text": [
      "Epoch 1/10, Loss: 0.004207\n"
     ]
    },
    {
     "name": "stderr",
     "output_type": "stream",
     "text": [
      "Training autoencoder:  20%|█████████████████████████████▏                                                                                                                    | 2/10 [01:01<04:01, 30.25s/it]"
     ]
    },
    {
     "name": "stdout",
     "output_type": "stream",
     "text": [
      "Epoch 2/10, Loss: 0.000184\n"
     ]
    },
    {
     "name": "stderr",
     "output_type": "stream",
     "text": [
      "Training autoencoder:  30%|███████████████████████████████████████████▊                                                                                                      | 3/10 [01:28<03:20, 28.71s/it]"
     ]
    },
    {
     "name": "stdout",
     "output_type": "stream",
     "text": [
      "Epoch 3/10, Loss: 0.000152\n"
     ]
    },
    {
     "name": "stderr",
     "output_type": "stream",
     "text": [
      "Training autoencoder:  40%|██████████████████████████████████████████████████████████▍                                                                                       | 4/10 [01:54<02:47, 27.84s/it]"
     ]
    },
    {
     "name": "stdout",
     "output_type": "stream",
     "text": [
      "Epoch 4/10, Loss: 0.000146\n"
     ]
    },
    {
     "name": "stderr",
     "output_type": "stream",
     "text": [
      "Training autoencoder:  50%|█████████████████████████████████████████████████████████████████████████                                                                         | 5/10 [02:23<02:20, 28.08s/it]"
     ]
    },
    {
     "name": "stdout",
     "output_type": "stream",
     "text": [
      "Epoch 5/10, Loss: 0.000132\n"
     ]
    },
    {
     "name": "stderr",
     "output_type": "stream",
     "text": [
      "Training autoencoder:  60%|███████████████████████████████████████████████████████████████████████████████████████▌                                                          | 6/10 [02:50<01:50, 27.69s/it]"
     ]
    },
    {
     "name": "stdout",
     "output_type": "stream",
     "text": [
      "Epoch 6/10, Loss: 0.000119\n"
     ]
    },
    {
     "name": "stderr",
     "output_type": "stream",
     "text": [
      "Training autoencoder:  70%|██████████████████████████████████████████████████████████████████████████████████████████████████████▏                                           | 7/10 [03:18<01:23, 27.85s/it]"
     ]
    },
    {
     "name": "stdout",
     "output_type": "stream",
     "text": [
      "Epoch 7/10, Loss: 0.000100\n"
     ]
    },
    {
     "name": "stderr",
     "output_type": "stream",
     "text": [
      "Training autoencoder:  80%|████████████████████████████████████████████████████████████████████████████████████████████████████████████████████▊                             | 8/10 [03:46<00:56, 28.06s/it]"
     ]
    },
    {
     "name": "stdout",
     "output_type": "stream",
     "text": [
      "Epoch 8/10, Loss: 0.000102\n"
     ]
    },
    {
     "name": "stderr",
     "output_type": "stream",
     "text": [
      "Training autoencoder:  90%|███████████████████████████████████████████████████████████████████████████████████████████████████████████████████████████████████▍              | 9/10 [04:13<00:27, 27.59s/it]"
     ]
    },
    {
     "name": "stdout",
     "output_type": "stream",
     "text": [
      "Epoch 9/10, Loss: 0.000097\n"
     ]
    },
    {
     "name": "stderr",
     "output_type": "stream",
     "text": [
      "Training autoencoder: 100%|█████████████████████████████████████████████████████████████████████████████████████████████████████████████████████████████████████████████████| 10/10 [04:40<00:00, 28.02s/it]"
     ]
    },
    {
     "name": "stdout",
     "output_type": "stream",
     "text": [
      "Epoch 10/10, Loss: 0.000102\n"
     ]
    },
    {
     "name": "stderr",
     "output_type": "stream",
     "text": [
      "\n"
     ]
    },
    {
     "name": "stdout",
     "output_type": "stream",
     "text": [
      "\n",
      "=== Processing Window: Train 2020-01-01 00:00:00 to 2020-10-01 00:00:00, Test 2020-10-01 00:00:00 to 2021-01-01 00:00:00 ===\n",
      "\n",
      "=== Processing Model: autoencoder ===\n"
     ]
    },
    {
     "name": "stderr",
     "output_type": "stream",
     "text": [
      "Training autoencoder:  10%|██████████████▌                                                                                                                                   | 1/10 [00:41<06:17, 41.97s/it]"
     ]
    },
    {
     "name": "stdout",
     "output_type": "stream",
     "text": [
      "Epoch 1/10, Loss: 0.004999\n"
     ]
    },
    {
     "name": "stderr",
     "output_type": "stream",
     "text": [
      "Training autoencoder:  20%|█████████████████████████████▏                                                                                                                    | 2/10 [01:30<06:06, 45.82s/it]"
     ]
    },
    {
     "name": "stdout",
     "output_type": "stream",
     "text": [
      "Epoch 2/10, Loss: 0.000172\n"
     ]
    },
    {
     "name": "stderr",
     "output_type": "stream",
     "text": [
      "Training autoencoder:  30%|███████████████████████████████████████████▊                                                                                                      | 3/10 [02:13<05:10, 44.42s/it]"
     ]
    },
    {
     "name": "stdout",
     "output_type": "stream",
     "text": [
      "Epoch 3/10, Loss: 0.000100\n"
     ]
    },
    {
     "name": "stderr",
     "output_type": "stream",
     "text": [
      "Training autoencoder:  40%|██████████████████████████████████████████████████████████▍                                                                                       | 4/10 [02:58<04:27, 44.61s/it]"
     ]
    },
    {
     "name": "stdout",
     "output_type": "stream",
     "text": [
      "Epoch 4/10, Loss: 0.000095\n"
     ]
    },
    {
     "name": "stderr",
     "output_type": "stream",
     "text": [
      "Training autoencoder:  50%|█████████████████████████████████████████████████████████████████████████                                                                         | 5/10 [03:41<03:40, 44.15s/it]"
     ]
    },
    {
     "name": "stdout",
     "output_type": "stream",
     "text": [
      "Epoch 5/10, Loss: 0.000091\n"
     ]
    },
    {
     "name": "stderr",
     "output_type": "stream",
     "text": [
      "Training autoencoder:  60%|███████████████████████████████████████████████████████████████████████████████████████▌                                                          | 6/10 [04:28<03:00, 45.12s/it]"
     ]
    },
    {
     "name": "stdout",
     "output_type": "stream",
     "text": [
      "Epoch 6/10, Loss: 0.000087\n"
     ]
    },
    {
     "name": "stderr",
     "output_type": "stream",
     "text": [
      "Training autoencoder:  70%|██████████████████████████████████████████████████████████████████████████████████████████████████████▏                                           | 7/10 [05:11<02:13, 44.46s/it]"
     ]
    },
    {
     "name": "stdout",
     "output_type": "stream",
     "text": [
      "Epoch 7/10, Loss: 0.000090\n"
     ]
    },
    {
     "name": "stderr",
     "output_type": "stream",
     "text": [
      "Training autoencoder:  80%|████████████████████████████████████████████████████████████████████████████████████████████████████████████████████▊                             | 8/10 [05:57<01:29, 44.83s/it]"
     ]
    },
    {
     "name": "stdout",
     "output_type": "stream",
     "text": [
      "Epoch 8/10, Loss: 0.000083\n"
     ]
    },
    {
     "name": "stderr",
     "output_type": "stream",
     "text": [
      "Training autoencoder:  90%|███████████████████████████████████████████████████████████████████████████████████████████████████████████████████████████████████▍              | 9/10 [06:45<00:46, 46.05s/it]"
     ]
    },
    {
     "name": "stdout",
     "output_type": "stream",
     "text": [
      "Epoch 9/10, Loss: 0.000080\n"
     ]
    },
    {
     "name": "stderr",
     "output_type": "stream",
     "text": [
      "Training autoencoder: 100%|█████████████████████████████████████████████████████████████████████████████████████████████████████████████████████████████████████████████████| 10/10 [07:35<00:00, 45.58s/it]"
     ]
    },
    {
     "name": "stdout",
     "output_type": "stream",
     "text": [
      "Epoch 10/10, Loss: 0.000079\n"
     ]
    },
    {
     "name": "stderr",
     "output_type": "stream",
     "text": [
      "\n"
     ]
    },
    {
     "name": "stdout",
     "output_type": "stream",
     "text": [
      "\n",
      "=== Processing Window: Train 2020-01-01 00:00:00 to 2021-01-01 00:00:00, Test 2021-01-01 00:00:00 to 2021-04-01 00:00:00 ===\n",
      "\n",
      "=== Processing Model: autoencoder ===\n"
     ]
    },
    {
     "name": "stderr",
     "output_type": "stream",
     "text": [
      "Training autoencoder:  10%|██████████████▌                                                                                                                                   | 1/10 [00:58<08:48, 58.77s/it]"
     ]
    },
    {
     "name": "stdout",
     "output_type": "stream",
     "text": [
      "Epoch 1/10, Loss: 0.002143\n"
     ]
    },
    {
     "name": "stderr",
     "output_type": "stream",
     "text": [
      "Training autoencoder:  20%|█████████████████████████████▏                                                                                                                    | 2/10 [01:55<07:38, 57.31s/it]"
     ]
    },
    {
     "name": "stdout",
     "output_type": "stream",
     "text": [
      "Epoch 2/10, Loss: 0.000135\n"
     ]
    },
    {
     "name": "stderr",
     "output_type": "stream",
     "text": [
      "Training autoencoder:  30%|███████████████████████████████████████████▊                                                                                                      | 3/10 [02:56<06:53, 59.08s/it]"
     ]
    },
    {
     "name": "stdout",
     "output_type": "stream",
     "text": [
      "Epoch 3/10, Loss: 0.000096\n"
     ]
    },
    {
     "name": "stderr",
     "output_type": "stream",
     "text": [
      "Training autoencoder:  40%|██████████████████████████████████████████████████████████▍                                                                                       | 4/10 [03:48<05:39, 56.58s/it]"
     ]
    },
    {
     "name": "stdout",
     "output_type": "stream",
     "text": [
      "Epoch 4/10, Loss: 0.000089\n"
     ]
    },
    {
     "name": "stderr",
     "output_type": "stream",
     "text": [
      "Training autoencoder:  50%|█████████████████████████████████████████████████████████████████████████                                                                         | 5/10 [04:44<04:40, 56.15s/it]"
     ]
    },
    {
     "name": "stdout",
     "output_type": "stream",
     "text": [
      "Epoch 5/10, Loss: 0.000106\n"
     ]
    },
    {
     "name": "stderr",
     "output_type": "stream",
     "text": [
      "Training autoencoder:  60%|███████████████████████████████████████████████████████████████████████████████████████▌                                                          | 6/10 [05:40<03:44, 56.06s/it]"
     ]
    },
    {
     "name": "stdout",
     "output_type": "stream",
     "text": [
      "Epoch 6/10, Loss: 0.000070\n"
     ]
    },
    {
     "name": "stderr",
     "output_type": "stream",
     "text": [
      "Training autoencoder:  70%|██████████████████████████████████████████████████████████████████████████████████████████████████████▏                                           | 7/10 [06:50<03:01, 60.57s/it]"
     ]
    },
    {
     "name": "stdout",
     "output_type": "stream",
     "text": [
      "Epoch 7/10, Loss: 0.000077\n"
     ]
    },
    {
     "name": "stderr",
     "output_type": "stream",
     "text": [
      "Training autoencoder:  80%|████████████████████████████████████████████████████████████████████████████████████████████████████████████████████▊                             | 8/10 [07:55<02:04, 62.11s/it]"
     ]
    },
    {
     "name": "stdout",
     "output_type": "stream",
     "text": [
      "Epoch 8/10, Loss: 0.000062\n"
     ]
    },
    {
     "name": "stderr",
     "output_type": "stream",
     "text": [
      "Training autoencoder:  90%|███████████████████████████████████████████████████████████████████████████████████████████████████████████████████████████████████▍              | 9/10 [09:03<01:03, 63.88s/it]"
     ]
    },
    {
     "name": "stdout",
     "output_type": "stream",
     "text": [
      "Epoch 9/10, Loss: 0.000062\n"
     ]
    },
    {
     "name": "stderr",
     "output_type": "stream",
     "text": [
      "Training autoencoder: 100%|█████████████████████████████████████████████████████████████████████████████████████████████████████████████████████████████████████████████████| 10/10 [10:00<00:00, 60.08s/it]"
     ]
    },
    {
     "name": "stdout",
     "output_type": "stream",
     "text": [
      "Epoch 10/10, Loss: 0.000061\n"
     ]
    },
    {
     "name": "stderr",
     "output_type": "stream",
     "text": [
      "\n"
     ]
    },
    {
     "name": "stdout",
     "output_type": "stream",
     "text": [
      "\n",
      "=== Processing Window: Train 2020-01-01 00:00:00 to 2021-04-01 00:00:00, Test 2021-04-01 00:00:00 to 2021-07-01 00:00:00 ===\n",
      "\n",
      "=== Processing Model: autoencoder ===\n"
     ]
    },
    {
     "name": "stderr",
     "output_type": "stream",
     "text": [
      "Training autoencoder:  10%|██████████████▌                                                                                                                                   | 1/10 [01:06<09:57, 66.35s/it]"
     ]
    },
    {
     "name": "stdout",
     "output_type": "stream",
     "text": [
      "Epoch 1/10, Loss: 0.002407\n"
     ]
    },
    {
     "name": "stderr",
     "output_type": "stream",
     "text": [
      "Training autoencoder:  20%|█████████████████████████████▏                                                                                                                    | 2/10 [02:10<08:41, 65.17s/it]"
     ]
    },
    {
     "name": "stdout",
     "output_type": "stream",
     "text": [
      "Epoch 2/10, Loss: 0.000063\n"
     ]
    },
    {
     "name": "stderr",
     "output_type": "stream",
     "text": [
      "Training autoencoder:  30%|███████████████████████████████████████████▊                                                                                                      | 3/10 [03:19<07:47, 66.81s/it]"
     ]
    },
    {
     "name": "stdout",
     "output_type": "stream",
     "text": [
      "Epoch 3/10, Loss: 0.000049\n"
     ]
    },
    {
     "name": "stderr",
     "output_type": "stream",
     "text": [
      "Training autoencoder:  40%|██████████████████████████████████████████████████████████▍                                                                                       | 4/10 [04:28<06:46, 67.70s/it]"
     ]
    },
    {
     "name": "stdout",
     "output_type": "stream",
     "text": [
      "Epoch 4/10, Loss: 0.000051\n"
     ]
    },
    {
     "name": "stderr",
     "output_type": "stream",
     "text": [
      "Training autoencoder:  50%|█████████████████████████████████████████████████████████████████████████                                                                         | 5/10 [05:34<05:36, 67.22s/it]"
     ]
    },
    {
     "name": "stdout",
     "output_type": "stream",
     "text": [
      "Epoch 5/10, Loss: 0.000046\n"
     ]
    },
    {
     "name": "stderr",
     "output_type": "stream",
     "text": [
      "Training autoencoder:  60%|███████████████████████████████████████████████████████████████████████████████████████▌                                                          | 6/10 [06:55<04:47, 71.79s/it]"
     ]
    },
    {
     "name": "stdout",
     "output_type": "stream",
     "text": [
      "Epoch 6/10, Loss: 0.000041\n"
     ]
    },
    {
     "name": "stderr",
     "output_type": "stream",
     "text": [
      "Training autoencoder:  70%|██████████████████████████████████████████████████████████████████████████████████████████████████████▏                                           | 7/10 [08:14<03:42, 74.17s/it]"
     ]
    },
    {
     "name": "stdout",
     "output_type": "stream",
     "text": [
      "Epoch 7/10, Loss: 0.000041\n"
     ]
    },
    {
     "name": "stderr",
     "output_type": "stream",
     "text": [
      "Training autoencoder:  80%|████████████████████████████████████████████████████████████████████████████████████████████████████████████████████▊                             | 8/10 [09:29<02:28, 74.33s/it]"
     ]
    },
    {
     "name": "stdout",
     "output_type": "stream",
     "text": [
      "Epoch 8/10, Loss: 0.000036\n"
     ]
    },
    {
     "name": "stderr",
     "output_type": "stream",
     "text": [
      "Training autoencoder:  90%|███████████████████████████████████████████████████████████████████████████████████████████████████████████████████████████████████▍              | 9/10 [10:54<01:17, 77.85s/it]"
     ]
    },
    {
     "name": "stdout",
     "output_type": "stream",
     "text": [
      "Epoch 9/10, Loss: 0.000043\n"
     ]
    },
    {
     "name": "stderr",
     "output_type": "stream",
     "text": [
      "Training autoencoder: 100%|█████████████████████████████████████████████████████████████████████████████████████████████████████████████████████████████████████████████████| 10/10 [12:14<00:00, 73.46s/it]"
     ]
    },
    {
     "name": "stdout",
     "output_type": "stream",
     "text": [
      "Epoch 10/10, Loss: 0.000036\n"
     ]
    },
    {
     "name": "stderr",
     "output_type": "stream",
     "text": [
      "\n"
     ]
    },
    {
     "name": "stdout",
     "output_type": "stream",
     "text": [
      "\n",
      "=== Processing Window: Train 2020-01-01 00:00:00 to 2021-07-01 00:00:00, Test 2021-07-01 00:00:00 to 2021-10-01 00:00:00 ===\n",
      "\n",
      "=== Processing Model: autoencoder ===\n"
     ]
    },
    {
     "name": "stderr",
     "output_type": "stream",
     "text": [
      "Training autoencoder:  10%|██████████████▌                                                                                                                                   | 1/10 [01:27<13:07, 87.51s/it]"
     ]
    },
    {
     "name": "stdout",
     "output_type": "stream",
     "text": [
      "Epoch 1/10, Loss: 0.001488\n"
     ]
    },
    {
     "name": "stderr",
     "output_type": "stream",
     "text": [
      "Training autoencoder:  20%|█████████████████████████████▏                                                                                                                    | 2/10 [02:52<11:26, 85.83s/it]"
     ]
    },
    {
     "name": "stdout",
     "output_type": "stream",
     "text": [
      "Epoch 2/10, Loss: 0.000051\n"
     ]
    },
    {
     "name": "stderr",
     "output_type": "stream",
     "text": [
      "Training autoencoder:  30%|███████████████████████████████████████████▊                                                                                                      | 3/10 [04:24<10:22, 88.96s/it]"
     ]
    },
    {
     "name": "stdout",
     "output_type": "stream",
     "text": [
      "Epoch 3/10, Loss: 0.000044\n"
     ]
    },
    {
     "name": "stderr",
     "output_type": "stream",
     "text": [
      "Training autoencoder:  40%|██████████████████████████████████████████████████████████▍                                                                                       | 4/10 [05:58<09:05, 90.87s/it]"
     ]
    },
    {
     "name": "stdout",
     "output_type": "stream",
     "text": [
      "Epoch 4/10, Loss: 0.000043\n"
     ]
    },
    {
     "name": "stderr",
     "output_type": "stream",
     "text": [
      "Training autoencoder:  50%|█████████████████████████████████████████████████████████████████████████                                                                         | 5/10 [07:29<07:34, 90.98s/it]"
     ]
    },
    {
     "name": "stdout",
     "output_type": "stream",
     "text": [
      "Epoch 5/10, Loss: 0.000039\n"
     ]
    },
    {
     "name": "stderr",
     "output_type": "stream",
     "text": [
      "Training autoencoder:  60%|███████████████████████████████████████████████████████████████████████████████████████▌                                                          | 6/10 [08:57<06:00, 90.03s/it]"
     ]
    },
    {
     "name": "stdout",
     "output_type": "stream",
     "text": [
      "Epoch 6/10, Loss: 0.000037\n"
     ]
    },
    {
     "name": "stderr",
     "output_type": "stream",
     "text": [
      "Training autoencoder:  70%|██████████████████████████████████████████████████████████████████████████████████████████████████████▏                                           | 7/10 [10:23<04:25, 88.44s/it]"
     ]
    },
    {
     "name": "stdout",
     "output_type": "stream",
     "text": [
      "Epoch 7/10, Loss: 0.000036\n"
     ]
    },
    {
     "name": "stderr",
     "output_type": "stream",
     "text": [
      "Training autoencoder:  80%|████████████████████████████████████████████████████████████████████████████████████████████████████████████████████▊                             | 8/10 [11:49<02:55, 87.85s/it]"
     ]
    },
    {
     "name": "stdout",
     "output_type": "stream",
     "text": [
      "Epoch 8/10, Loss: 0.000034\n"
     ]
    },
    {
     "name": "stderr",
     "output_type": "stream",
     "text": [
      "Training autoencoder:  90%|███████████████████████████████████████████████████████████████████████████████████████████████████████████████████████████████████▍              | 9/10 [13:29<01:31, 91.44s/it]"
     ]
    },
    {
     "name": "stdout",
     "output_type": "stream",
     "text": [
      "Epoch 9/10, Loss: 0.000036\n"
     ]
    },
    {
     "name": "stderr",
     "output_type": "stream",
     "text": [
      "Training autoencoder: 100%|█████████████████████████████████████████████████████████████████████████████████████████████████████████████████████████████████████████████████| 10/10 [15:11<00:00, 91.13s/it]"
     ]
    },
    {
     "name": "stdout",
     "output_type": "stream",
     "text": [
      "Epoch 10/10, Loss: 0.000034\n"
     ]
    },
    {
     "name": "stderr",
     "output_type": "stream",
     "text": [
      "\n"
     ]
    },
    {
     "name": "stdout",
     "output_type": "stream",
     "text": [
      "\n",
      "=== Processing Window: Train 2020-01-01 00:00:00 to 2021-10-01 00:00:00, Test 2021-10-01 00:00:00 to 2021-12-31 23:59:00 ===\n",
      "\n",
      "=== Processing Model: autoencoder ===\n"
     ]
    },
    {
     "name": "stderr",
     "output_type": "stream",
     "text": [
      "Training autoencoder:  10%|██████████████▌                                                                                                                                  | 1/10 [01:41<15:10, 101.19s/it]"
     ]
    },
    {
     "name": "stdout",
     "output_type": "stream",
     "text": [
      "Epoch 1/10, Loss: 0.001865\n"
     ]
    },
    {
     "name": "stderr",
     "output_type": "stream",
     "text": [
      "Training autoencoder:  20%|█████████████████████████████                                                                                                                    | 2/10 [03:30<14:07, 105.96s/it]"
     ]
    },
    {
     "name": "stdout",
     "output_type": "stream",
     "text": [
      "Epoch 2/10, Loss: 0.000033\n"
     ]
    },
    {
     "name": "stderr",
     "output_type": "stream",
     "text": [
      "Training autoencoder:  30%|███████████████████████████████████████████▌                                                                                                     | 3/10 [05:17<12:25, 106.56s/it]"
     ]
    },
    {
     "name": "stdout",
     "output_type": "stream",
     "text": [
      "Epoch 3/10, Loss: 0.000024\n"
     ]
    },
    {
     "name": "stderr",
     "output_type": "stream",
     "text": [
      "Training autoencoder:  40%|██████████████████████████████████████████████████████████                                                                                       | 4/10 [07:08<10:48, 108.01s/it]"
     ]
    },
    {
     "name": "stdout",
     "output_type": "stream",
     "text": [
      "Epoch 4/10, Loss: 0.000024\n"
     ]
    },
    {
     "name": "stderr",
     "output_type": "stream",
     "text": [
      "Training autoencoder:  50%|████████████████████████████████████████████████████████████████████████▌                                                                        | 5/10 [08:56<09:00, 108.10s/it]"
     ]
    },
    {
     "name": "stdout",
     "output_type": "stream",
     "text": [
      "Epoch 5/10, Loss: 0.000020\n"
     ]
    },
    {
     "name": "stderr",
     "output_type": "stream",
     "text": [
      "Training autoencoder:  60%|███████████████████████████████████████████████████████████████████████████████████████                                                          | 6/10 [10:29<06:52, 103.02s/it]"
     ]
    },
    {
     "name": "stdout",
     "output_type": "stream",
     "text": [
      "Epoch 6/10, Loss: 0.000019\n"
     ]
    },
    {
     "name": "stderr",
     "output_type": "stream",
     "text": [
      "Training autoencoder:  70%|██████████████████████████████████████████████████████████████████████████████████████████████████████▏                                           | 7/10 [12:02<04:58, 99.64s/it]"
     ]
    },
    {
     "name": "stdout",
     "output_type": "stream",
     "text": [
      "Epoch 7/10, Loss: 0.000018\n"
     ]
    },
    {
     "name": "stderr",
     "output_type": "stream",
     "text": [
      "Training autoencoder:  80%|████████████████████████████████████████████████████████████████████████████████████████████████████████████████████▊                             | 8/10 [13:39<03:17, 98.79s/it]"
     ]
    },
    {
     "name": "stdout",
     "output_type": "stream",
     "text": [
      "Epoch 8/10, Loss: 0.000017\n"
     ]
    },
    {
     "name": "stderr",
     "output_type": "stream",
     "text": [
      "Training autoencoder:  90%|███████████████████████████████████████████████████████████████████████████████████████████████████████████████████████████████████▍              | 9/10 [15:18<01:38, 98.93s/it]"
     ]
    },
    {
     "name": "stdout",
     "output_type": "stream",
     "text": [
      "Epoch 9/10, Loss: 0.000017\n"
     ]
    },
    {
     "name": "stderr",
     "output_type": "stream",
     "text": [
      "Training autoencoder: 100%|████████████████████████████████████████████████████████████████████████████████████████████████████████████████████████████████████████████████| 10/10 [17:19<00:00, 103.99s/it]"
     ]
    },
    {
     "name": "stdout",
     "output_type": "stream",
     "text": [
      "Epoch 10/10, Loss: 0.000017\n"
     ]
    },
    {
     "name": "stderr",
     "output_type": "stream",
     "text": [
      "\n"
     ]
    }
   ],
   "source": [
    "while current_test_end <= end_date or current_test_start < end_date:\n",
    "    if current_test_end > end_date:\n",
    "        current_test_end = end_date\n",
    "    print(f\"\\n=== Processing Window: Train {current_train_start} to {current_train_end}, \"\n",
    "          f\"Test {current_test_start} to {current_test_end} ===\")\n",
    "    \n",
    "    train_data = data.loc[current_train_start:current_train_end]\n",
    "    test_data = data.loc[current_test_start:current_test_end]\n",
    "\n",
    "    if test_data.empty:\n",
    "        break\n",
    "        \n",
    "    scaler = StandardScaler()\n",
    "    train_scaled = scaler.fit_transform(train_data[['open']])\n",
    "    test_scaled = scaler.transform(test_data[['open']])\n",
    "\n",
    "    original_prices_buffer.extend(test_data['open'].values[sequence_length:])\n",
    "    \n",
    "    train_torch = torch.tensor(train_scaled, dtype=torch.float32)\n",
    "    test_torch = torch.tensor(test_scaled, dtype=torch.float32)\n",
    "\n",
    "\n",
    "    train_sequences = create_sequences(train_torch, sequence_length)\n",
    "    test_sequences = create_sequences(test_torch, sequence_length)\n",
    "    test_dates = test_data.index[sequence_length:]\n",
    "    combined_test_dates.extend(test_dates)\n",
    "    \n",
    "    for model_name in model_names:\n",
    "        print(f\"\\n=== Processing Model: {model_name} ===\")\n",
    "        \n",
    "        params = model_params[model_name]\n",
    "        detector = AnomalyDetector(\n",
    "            model_name=model_name,\n",
    "            model_params=params,\n",
    "            sequence_length=sequence_length,\n",
    "            device='cpu' \n",
    "        )\n",
    "        \n",
    "        if model_name not in ['egads', 'dtw']:\n",
    "            detector.train(\n",
    "                train_sequences=train_sequences,\n",
    "                num_epochs=10,\n",
    "                batch_size=32,\n",
    "                learning_rate=1e-3\n",
    "            )\n",
    "        elif model_name == 'egads':\n",
    "            detector.train(\n",
    "                train_sequences=None,\n",
    "                train_raw=train_torch\n",
    "            )\n",
    "        elif model_name == 'dtw':\n",
    "            detector.train(\n",
    "                train_sequences=train_sequences,\n",
    "                num_epochs=0,\n",
    "                batch_size=0,\n",
    "                learning_rate=0,\n",
    "                train_raw=None\n",
    "            )\n",
    "        \n",
    "        if model_name not in ['egads', 'dtw']:\n",
    "            scores = detector.predict(test_sequences=test_sequences)\n",
    "        elif model_name == 'egads':\n",
    "            scores = detector.predict(test_raw=test_torch)[sequence_length:]\n",
    "        elif model_name == 'dtw':\n",
    "            scores = detector.predict(test_sequences=test_sequences)\n",
    "        \n",
    "        combined_scores[model_name].extend(scores)\n",
    "    \n",
    "    current_train_end += train_expand_step\n",
    "    current_test_start += train_expand_step\n",
    "    current_test_end = current_test_start + test_length\n",
    "\n"
   ]
  },
  {
   "cell_type": "code",
   "execution_count": 17,
   "id": "0ad52b1a-8048-4cfb-a932-0918ad61d243",
   "metadata": {},
   "outputs": [
    {
     "name": "stdout",
     "output_type": "stream",
     "text": [
      "Saved combined_scores for autoencoder to autoencoder_combined_scores.npy\n"
     ]
    }
   ],
   "source": [
    "import numpy as np\n",
    "\n",
    "for model_name, scores in combined_scores.items():\n",
    "    scores_array = np.array(scores)\n",
    "    \n",
    "    np.save(f\"{model_name}_combined_scores_3m.npy\", scores_array)\n",
    "    print(f\"Saved combined_scores for {model_name} to {model_name}_combined_scores.npy\")\n",
    "\n"
   ]
  },
  {
   "cell_type": "code",
   "execution_count": 70,
   "id": "41023a4a-7f79-41bc-847c-00dcc6fb2e62",
   "metadata": {},
   "outputs": [
    {
     "name": "stdout",
     "output_type": "stream",
     "text": [
      "\n",
      "=== Final Outputs for Model: autoencoder ===\n"
     ]
    },
    {
     "data": {
      "image/png": "[encoded data removed]",
      "text/plain": [
       "<Figure size 1500x500 with 1 Axes>"
      ]
     },
     "metadata": {},
     "output_type": "display_data"
    },
    {
     "name": "stdout",
     "output_type": "stream",
     "text": [
      "\n",
      "=== Statistics for Autoencoder ===\n",
      "\n",
      "Relative to 50-minutes Average:\n",
      "relative_to_avg\n",
      "Above Avg    2399\n",
      "Below Avg    1552\n",
      "Name: count, dtype: int64\n",
      "\n",
      "Relative to 50-minutes Low/High:\n",
      "relative_to_low_high\n",
      "Above Low, Below High    3675\n",
      "Above Low                 185\n",
      "Below High                 91\n",
      "Name: count, dtype: int64\n",
      "\n",
      "Next Hour Min/Max Open Price Change (%):\n",
      "count    3951.000000\n",
      "mean       -0.035790\n",
      "std         1.054903\n",
      "min        -5.788421\n",
      "25%        -0.483954\n",
      "50%        -0.125206\n",
      "75%         0.278944\n",
      "max         8.338705\n",
      "Name: price_change_pct_signed, dtype: float64\n",
      "\n",
      "Next Hour Close Price Change (%):\n",
      "count    3951.000000\n",
      "mean        0.053940\n",
      "std         0.905067\n",
      "min        -4.929402\n",
      "25%        -0.375110\n",
      "50%         0.002126\n",
      "75%         0.403517\n",
      "max         6.021045\n",
      "Name: close_change_pct_signed, dtype: float64\n"
     ]
    },
    {
     "data": {
      "image/png": "[encoded data removed]",
      "text/plain": [
       "<Figure size 1000x500 with 1 Axes>"
      ]
     },
     "metadata": {},
     "output_type": "display_data"
    },
    {
     "data": {
      "image/png": "[encoded data removed]",
      "text/plain": [
       "<Figure size 1000x500 with 1 Axes>"
      ]
     },
     "metadata": {},
     "output_type": "display_data"
    },
    {
     "data": {
      "image/png": "[encoded data removed]",
      "text/plain": [
       "<Figure size 1000x500 with 1 Axes>"
      ]
     },
     "metadata": {},
     "output_type": "display_data"
    },
    {
     "data": {
      "image/png": "[encoded data removed]",
      "text/plain": [
       "<Figure size 1000x500 with 1 Axes>"
      ]
     },
     "metadata": {},
     "output_type": "display_data"
    },
    {
     "name": "stdout",
     "output_type": "stream",
     "text": [
      "Total Merged Clusters for Trading: 902\n",
      "Trade executed: sell at 2020-07-01 13:52:00 (Entry Price: 9220.13), exited at 2020-07-01 14:46:00 (Exit Price: 9221.51), Volume: 0.2000, Anomaly: 0.40%, P&L: -0.0000\n",
      "Trade executed: buy at 2020-07-01 17:25:00 (Entry Price: 9267.96), exited at 2020-07-01 17:33:00 (Exit Price: 9272.22), Volume: 0.2000, Anomaly: 0.40%, P&L: 0.0001\n",
      "Trade executed: sell at 2020-07-01 21:47:00 (Entry Price: 9242.14), exited at 2020-07-01 21:50:00 (Exit Price: 9228.00), Volume: 0.2000, Anomaly: 0.10%, P&L: 0.0003\n",
      "Trade executed: sell at 2020-07-02 09:16:00 (Entry Price: 9218.54), exited at 2020-07-02 09:34:00 (Exit Price: 9210.01), Volume: 0.2001, Anomaly: 0.00%, P&L: 0.0002\n",
      "Trade executed: buy at 2020-07-02 15:08:00 (Entry Price: 9100.00), exited at 2020-07-02 16:53:00 (Exit Price: 9043.72), Volume: 0.2001, Anomaly: 0.40%, P&L: -0.0012\n",
      "Trade executed: buy at 2020-07-02 17:04:00 (Entry Price: 9026.15), exited at 2020-07-02 17:05:00 (Exit Price: 9034.00), Volume: 0.1999, Anomaly: 0.30%, P&L: 0.0002\n",
      "Trade executed: buy at 2020-07-03 10:02:00 (Entry Price: 9063.43), exited at 2020-07-03 10:25:00 (Exit Price: 9078.00), Volume: 0.1999, Anomaly: 0.40%, P&L: 0.0003\n",
      "Trade executed: buy at 2020-07-04 00:04:00 (Entry Price: 9051.18), exited at 2020-07-04 00:11:00 (Exit Price: 9067.17), Volume: 0.2000, Anomaly: 0.40%, P&L: 0.0004\n",
      "Trade executed: sell at 2020-07-04 17:59:00 (Entry Price: 9167.71), exited at 2020-07-04 18:22:00 (Exit Price: 9158.11), Volume: 0.2000, Anomaly: 0.30%, P&L: 0.0002\n",
      "Trade executed: buy at 2020-07-05 09:59:00 (Entry Price: 9024.72), exited at 2020-07-05 10:19:00 (Exit Price: 9044.69), Volume: 0.2001, Anomaly: 0.30%, P&L: 0.0004\n",
      "Trade executed: sell at 2020-07-05 21:40:00 (Entry Price: 9028.10), exited at 2020-07-05 22:25:00 (Exit Price: 9030.00), Volume: 0.2002, Anomaly: 0.40%, P&L: -0.0000\n",
      "Trade executed: buy at 2020-07-06 16:36:00 (Entry Price: 9302.88), exited at 2020-07-06 16:52:00 (Exit Price: 9318.11), Volume: 0.2002, Anomaly: 0.30%, P&L: 0.0003\n",
      "Trade executed: buy at 2020-07-06 22:14:00 (Entry Price: 9273.00), exited at 2020-07-06 22:15:00 (Exit Price: 9283.15), Volume: 0.2002, Anomaly: 0.20%, P&L: 0.0002\n",
      "Trade executed: buy at 2020-07-07 20:06:00 (Entry Price: 9208.97), exited at 2020-07-07 20:26:00 (Exit Price: 9231.20), Volume: 0.2003, Anomaly: 0.20%, P&L: 0.0005\n",
      "Trade executed: sell at 2020-07-08 14:07:00 (Entry Price: 9423.60), exited at 2020-07-08 14:34:00 (Exit Price: 9416.83), Volume: 0.2004, Anomaly: 0.40%, P&L: 0.0001\n",
      "Trade executed: buy at 2020-07-08 16:19:00 (Entry Price: 9402.21), exited at 2020-07-08 16:21:00 (Exit Price: 9417.93), Volume: 0.2004, Anomaly: 0.00%, P&L: 0.0003\n",
      "Trade executed: buy at 2020-07-09 00:12:00 (Entry Price: 9413.73), exited at 2020-07-09 01:24:00 (Exit Price: 9406.75), Volume: 0.2005, Anomaly: 0.40%, P&L: -0.0001\n",
      "Trade executed: buy at 2020-07-09 15:23:00 (Entry Price: 9182.98), exited at 2020-07-09 15:50:00 (Exit Price: 9229.25), Volume: 0.2004, Anomaly: 0.20%, P&L: 0.0010\n",
      "Trade executed: buy at 2020-07-10 04:38:00 (Entry Price: 9150.12), exited at 2020-07-10 05:24:00 (Exit Price: 9158.13), Volume: 0.2006, Anomaly: 0.30%, P&L: 0.0002\n",
      "Trade executed: buy at 2020-07-11 09:15:00 (Entry Price: 9213.25), exited at 2020-07-11 09:48:00 (Exit Price: 9220.00), Volume: 0.2007, Anomaly: 0.20%, P&L: 0.0001\n",
      "Trade executed: buy at 2020-07-11 16:35:00 (Entry Price: 9216.10), exited at 2020-07-11 17:26:00 (Exit Price: 9216.61), Volume: 0.2007, Anomaly: 0.40%, P&L: 0.0000\n",
      "Trade executed: sell at 2020-07-12 01:57:00 (Entry Price: 9273.01), exited at 2020-07-12 02:17:00 (Exit Price: 9270.72), Volume: 0.2007, Anomaly: 0.30%, P&L: 0.0000\n",
      "Trade executed: buy at 2020-07-12 13:30:00 (Entry Price: 9239.74), exited at 2020-07-12 14:17:00 (Exit Price: 9217.65), Volume: 0.2007, Anomaly: 0.40%, P&L: -0.0005\n",
      "Trade executed: sell at 2020-07-12 22:22:00 (Entry Price: 9282.65), exited at 2020-07-12 22:42:00 (Exit Price: 9284.28), Volume: 0.2006, Anomaly: 0.40%, P&L: -0.0000\n",
      "Trade executed: buy at 2020-07-14 04:34:00 (Entry Price: 9176.01), exited at 2020-07-14 04:55:00 (Exit Price: 9191.10), Volume: 0.2006, Anomaly: 0.30%, P&L: 0.0003\n",
      "Trade executed: sell at 2020-07-14 11:34:00 (Entry Price: 9215.47), exited at 2020-07-14 12:14:00 (Exit Price: 9217.90), Volume: 0.2007, Anomaly: 0.30%, P&L: -0.0001\n",
      "Trade executed: sell at 2020-07-15 10:07:00 (Entry Price: 9224.51), exited at 2020-07-15 11:03:00 (Exit Price: 9240.31), Volume: 0.2007, Anomaly: 0.10%, P&L: -0.0003\n",
      "Trade executed: sell at 2020-07-15 12:43:00 (Entry Price: 9239.00), exited at 2020-07-15 13:07:00 (Exit Price: 9235.58), Volume: 0.2006, Anomaly: 0.30%, P&L: 0.0001\n",
      "Trade executed: buy at 2020-07-15 18:54:00 (Entry Price: 9180.83), exited at 2020-07-15 19:29:00 (Exit Price: 9190.66), Volume: 0.2006, Anomaly: 0.40%, P&L: 0.0002\n",
      "Trade executed: buy at 2020-07-16 07:29:00 (Entry Price: 9130.75), exited at 2020-07-16 08:04:00 (Exit Price: 9138.01), Volume: 0.2006, Anomaly: 0.40%, P&L: 0.0002\n",
      "Trade executed: sell at 2020-07-17 12:24:00 (Entry Price: 9177.00), exited at 2020-07-17 12:40:00 (Exit Price: 9157.54), Volume: 0.2007, Anomaly: 0.40%, P&L: 0.0004\n",
      "Trade executed: buy at 2020-07-18 02:43:00 (Entry Price: 9135.01), exited at 2020-07-18 02:44:00 (Exit Price: 9137.05), Volume: 0.2008, Anomaly: 0.30%, P&L: 0.0000\n",
      "Trade executed: sell at 2020-07-18 09:14:00 (Entry Price: 9171.68), exited at 2020-07-18 09:40:00 (Exit Price: 9165.21), Volume: 0.2008, Anomaly: 0.30%, P&L: 0.0001\n",
      "Trade executed: buy at 2020-07-18 20:05:00 (Entry Price: 9168.79), exited at 2020-07-18 20:38:00 (Exit Price: 9170.27), Volume: 0.2008, Anomaly: 0.20%, P&L: 0.0000\n",
      "Trade executed: buy at 2020-07-19 10:19:00 (Entry Price: 9122.74), exited at 2020-07-19 11:02:00 (Exit Price: 9127.34), Volume: 0.2008, Anomaly: 0.00%, P&L: 0.0001\n",
      "Trade executed: buy at 2020-07-20 10:50:00 (Entry Price: 9153.70), exited at 2020-07-20 11:25:00 (Exit Price: 9163.87), Volume: 0.2008, Anomaly: 0.00%, P&L: 0.0002\n",
      "Trade executed: sell at 2020-07-21 08:06:00 (Entry Price: 9316.40), exited at 2020-07-21 08:27:00 (Exit Price: 9311.98), Volume: 0.2009, Anomaly: 0.40%, P&L: 0.0001\n",
      "Trade executed: buy at 2020-07-22 08:00:00 (Entry Price: 9301.44), exited at 2020-07-22 08:32:00 (Exit Price: 9317.23), Volume: 0.2009, Anomaly: 0.10%, P&L: 0.0003\n",
      "Trade executed: sell at 2020-07-22 22:45:00 (Entry Price: 9519.18), exited at 2020-07-22 23:20:00 (Exit Price: 9506.50), Volume: 0.2010, Anomaly: 0.20%, P&L: 0.0003\n",
      "Trade executed: buy at 2020-07-23 14:34:00 (Entry Price: 9491.30), exited at 2020-07-23 14:55:00 (Exit Price: 9494.52), Volume: 0.2010, Anomaly: 0.40%, P&L: 0.0001\n",
      "Trade executed: buy at 2020-07-24 02:05:00 (Entry Price: 9568.45), exited at 2020-07-24 02:12:00 (Exit Price: 9577.94), Volume: 0.2010, Anomaly: 0.40%, P&L: 0.0002\n",
      "Trade executed: buy at 2020-07-24 06:27:00 (Entry Price: 9527.63), exited at 2020-07-24 07:19:00 (Exit Price: 9497.37), Volume: 0.2011, Anomaly: 0.10%, P&L: -0.0006\n",
      "Trade executed: buy at 2020-07-25 05:12:00 (Entry Price: 9579.99), exited at 2020-07-25 05:13:00 (Exit Price: 9585.44), Volume: 0.2009, Anomaly: 0.00%, P&L: 0.0001\n",
      "Trade executed: sell at 2020-07-25 17:32:00 (Entry Price: 9687.36), exited at 2020-07-25 18:05:00 (Exit Price: 9661.95), Volume: 0.2010, Anomaly: 0.40%, P&L: 0.0005\n",
      "Trade executed: sell at 2020-07-25 21:11:00 (Entry Price: 9711.00), exited at 2020-07-25 21:14:00 (Exit Price: 9706.00), Volume: 0.2011, Anomaly: 0.30%, P&L: 0.0001\n",
      "Trade executed: sell at 2020-07-26 10:17:00 (Entry Price: 10048.51), exited at 2020-07-26 10:42:00 (Exit Price: 9970.20), Volume: 0.2011, Anomaly: 0.40%, P&L: 0.0016\n",
      "Trade executed: sell at 2020-07-27 03:57:00 (Entry Price: 10297.62), exited at 2020-07-27 04:24:00 (Exit Price: 10236.92), Volume: 0.2014, Anomaly: 0.00%, P&L: 0.0012\n",
      "Trade executed: sell at 2020-07-27 17:23:00 (Entry Price: 10837.16), exited at 2020-07-27 17:46:00 (Exit Price: 10796.85), Volume: 0.2016, Anomaly: 0.30%, P&L: 0.0008\n",
      "Trade executed: buy at 2020-07-27 23:23:00 (Entry Price: 10966.62), exited at 2020-07-28 00:01:00 (Exit Price: 11116.21), Volume: 0.2018, Anomaly: 0.10%, P&L: 0.0028\n",
      "Trade executed: buy at 2020-07-28 16:16:00 (Entry Price: 11123.21), exited at 2020-07-28 16:17:00 (Exit Price: 11131.89), Volume: 0.2023, Anomaly: 0.20%, P&L: 0.0002\n",
      "Trade executed: buy at 2020-07-29 09:31:00 (Entry Price: 11030.16), exited at 2020-07-29 10:32:00 (Exit Price: 11033.57), Volume: 0.2024, Anomaly: 0.00%, P&L: 0.0001\n",
      "Trade executed: buy at 2020-07-29 14:58:00 (Entry Price: 11120.00), exited at 2020-07-29 15:13:00 (Exit Price: 11170.28), Volume: 0.2024, Anomaly: 0.30%, P&L: 0.0009\n",
      "Trade executed: sell at 2020-07-30 13:18:00 (Entry Price: 10992.08), exited at 2020-07-30 14:02:00 (Exit Price: 11009.54), Volume: 0.2026, Anomaly: 0.00%, P&L: -0.0003\n",
      "Trade executed: buy at 2020-07-30 21:14:00 (Entry Price: 11136.70), exited at 2020-07-30 21:21:00 (Exit Price: 11161.99), Volume: 0.2025, Anomaly: 0.40%, P&L: 0.0005\n",
      "Trade executed: buy at 2020-07-31 16:29:00 (Entry Price: 11268.31), exited at 2020-07-31 16:46:00 (Exit Price: 11370.03), Volume: 0.2026, Anomaly: 0.30%, P&L: 0.0018\n",
      "Trade executed: sell at 2020-08-01 06:18:00 (Entry Price: 11673.15), exited at 2020-08-01 06:37:00 (Exit Price: 11642.70), Volume: 0.2030, Anomaly: 0.40%, P&L: 0.0005\n",
      "Trade executed: sell at 2020-08-01 19:49:00 (Entry Price: 11806.51), exited at 2020-08-01 19:56:00 (Exit Price: 11782.60), Volume: 0.2031, Anomaly: 0.10%, P&L: 0.0004\n",
      "Trade executed: buy at 2020-08-02 04:51:00 (Entry Price: 11190.00), exited at 2020-08-02 05:23:00 (Exit Price: 11309.99), Volume: 0.2031, Anomaly: 0.30%, P&L: 0.0022\n",
      "Trade executed: buy at 2020-08-02 21:49:00 (Entry Price: 11122.59), exited at 2020-08-02 21:52:00 (Exit Price: 11134.01), Volume: 0.2036, Anomaly: 0.40%, P&L: 0.0002\n",
      "Trade executed: buy at 2020-08-03 22:01:00 (Entry Price: 11218.00), exited at 2020-08-03 22:21:00 (Exit Price: 11289.99), Volume: 0.2036, Anomaly: 0.40%, P&L: 0.0013\n",
      "Trade executed: buy at 2020-08-04 01:14:00 (Entry Price: 11352.99), exited at 2020-08-04 01:18:00 (Exit Price: 11376.95), Volume: 0.2039, Anomaly: 0.10%, P&L: 0.0004\n",
      "Trade executed: buy at 2020-08-04 12:07:00 (Entry Price: 11160.47), exited at 2020-08-04 12:20:00 (Exit Price: 11177.95), Volume: 0.2040, Anomaly: 0.30%, P&L: 0.0003\n",
      "Trade executed: sell at 2020-08-05 09:33:00 (Entry Price: 11381.30), exited at 2020-08-05 10:14:00 (Exit Price: 11393.03), Volume: 0.2040, Anomaly: 0.00%, P&L: -0.0002\n",
      "Trade executed: buy at 2020-08-05 10:27:00 (Entry Price: 11395.44), exited at 2020-08-05 10:46:00 (Exit Price: 11399.01), Volume: 0.2040, Anomaly: 0.30%, P&L: 0.0001\n",
      "Trade executed: buy at 2020-08-05 22:05:00 (Entry Price: 11655.72), exited at 2020-08-05 23:04:00 (Exit Price: 11657.39), Volume: 0.2040, Anomaly: 0.10%, P&L: 0.0000\n",
      "Trade executed: sell at 2020-08-06 14:13:00 (Entry Price: 11847.18), exited at 2020-08-06 14:15:00 (Exit Price: 11843.03), Volume: 0.2040, Anomaly: 0.10%, P&L: 0.0001\n",
      "Trade executed: buy at 2020-08-06 21:52:00 (Entry Price: 11722.71), exited at 2020-08-06 22:18:00 (Exit Price: 11785.51), Volume: 0.2040, Anomaly: 0.00%, P&L: 0.0011\n",
      "Trade executed: buy at 2020-08-07 14:22:00 (Entry Price: 11623.43), exited at 2020-08-07 14:53:00 (Exit Price: 11645.14), Volume: 0.2042, Anomaly: 0.00%, P&L: 0.0004\n",
      "Trade executed: buy at 2020-08-07 17:45:00 (Entry Price: 11534.99), exited at 2020-08-07 18:44:00 (Exit Price: 11480.00), Volume: 0.2043, Anomaly: 0.30%, P&L: -0.0010\n",
      "Trade executed: buy at 2020-08-07 18:45:00 (Entry Price: 11453.54), exited at 2020-08-07 18:46:00 (Exit Price: 11488.57), Volume: 0.2041, Anomaly: 0.10%, P&L: 0.0006\n",
      "Trade executed: buy at 2020-08-08 16:11:00 (Entry Price: 11694.85), exited at 2020-08-08 16:53:00 (Exit Price: 11680.00), Volume: 0.2043, Anomaly: 0.10%, P&L: -0.0003\n",
      "Trade executed: buy at 2020-08-08 23:17:00 (Entry Price: 11704.19), exited at 2020-08-08 23:29:00 (Exit Price: 11747.00), Volume: 0.2042, Anomaly: 0.30%, P&L: 0.0007\n",
      "Trade executed: sell at 2020-08-09 00:20:00 (Entry Price: 11761.71), exited at 2020-08-09 00:51:00 (Exit Price: 11778.38), Volume: 0.2044, Anomaly: 0.40%, P&L: -0.0003\n",
      "Trade executed: buy at 2020-08-09 14:12:00 (Entry Price: 11566.84), exited at 2020-08-09 14:27:00 (Exit Price: 11615.66), Volume: 0.2043, Anomaly: 0.10%, P&L: 0.0009\n",
      "Trade executed: sell at 2020-08-10 02:30:00 (Entry Price: 12009.99), exited at 2020-08-10 02:44:00 (Exit Price: 11958.19), Volume: 0.2045, Anomaly: 0.40%, P&L: 0.0009\n",
      "Trade executed: buy at 2020-08-10 10:33:00 (Entry Price: 11684.32), exited at 2020-08-10 11:16:00 (Exit Price: 11720.71), Volume: 0.2046, Anomaly: 0.10%, P&L: 0.0006\n",
      "Trade executed: buy at 2020-08-11 15:26:00 (Entry Price: 11546.00), exited at 2020-08-11 15:29:00 (Exit Price: 11556.35), Volume: 0.2048, Anomaly: 0.40%, P&L: 0.0002\n",
      "Trade executed: buy at 2020-08-11 16:27:00 (Entry Price: 11460.00), exited at 2020-08-11 16:56:00 (Exit Price: 11425.73), Volume: 0.2048, Anomaly: 0.20%, P&L: -0.0006\n",
      "Trade executed: buy at 2020-08-11 20:36:00 (Entry Price: 11195.79), exited at 2020-08-11 20:43:00 (Exit Price: 11311.23), Volume: 0.2047, Anomaly: 0.40%, P&L: 0.0021\n",
      "Trade executed: buy at 2020-08-12 16:18:00 (Entry Price: 11560.01), exited at 2020-08-12 16:23:00 (Exit Price: 11581.55), Volume: 0.2051, Anomaly: 0.10%, P&L: 0.0004\n",
      "Trade executed: sell at 2020-08-13 00:46:00 (Entry Price: 11640.28), exited at 2020-08-13 00:59:00 (Exit Price: 11634.01), Volume: 0.2052, Anomaly: 0.00%, P&L: 0.0001\n",
      "Trade executed: sell at 2020-08-13 11:42:00 (Entry Price: 11577.24), exited at 2020-08-13 11:49:00 (Exit Price: 11547.72), Volume: 0.2052, Anomaly: 0.30%, P&L: 0.0005\n",
      "Trade executed: sell at 2020-08-13 13:46:00 (Entry Price: 11491.02), exited at 2020-08-13 14:09:00 (Exit Price: 11493.00), Volume: 0.2053, Anomaly: 0.20%, P&L: -0.0000\n",
      "Trade executed: sell at 2020-08-13 21:25:00 (Entry Price: 11674.22), exited at 2020-08-13 21:30:00 (Exit Price: 11644.66), Volume: 0.2053, Anomaly: 0.10%, P&L: 0.0005\n",
      "Trade executed: buy at 2020-08-14 16:50:00 (Entry Price: 11806.01), exited at 2020-08-14 16:51:00 (Exit Price: 11810.26), Volume: 0.2054, Anomaly: 0.40%, P&L: 0.0001\n",
      "Trade executed: sell at 2020-08-15 00:58:00 (Entry Price: 11936.18), exited at 2020-08-15 01:03:00 (Exit Price: 11909.93), Volume: 0.2054, Anomaly: 0.10%, P&L: 0.0005\n",
      "Trade executed: buy at 2020-08-15 12:26:00 (Entry Price: 11785.71), exited at 2020-08-15 13:11:00 (Exit Price: 11789.16), Volume: 0.2055, Anomaly: 0.00%, P&L: 0.0001\n",
      "Trade executed: buy at 2020-08-15 16:14:00 (Entry Price: 11866.55), exited at 2020-08-15 16:50:00 (Exit Price: 11869.96), Volume: 0.2055, Anomaly: 0.30%, P&L: 0.0001\n",
      "Trade executed: buy at 2020-08-15 21:59:00 (Entry Price: 11926.42), exited at 2020-08-15 22:05:00 (Exit Price: 11966.65), Volume: 0.2055, Anomaly: 0.00%, P&L: 0.0007\n",
      "Trade executed: buy at 2020-08-17 00:09:00 (Entry Price: 11887.81), exited at 2020-08-17 01:31:00 (Exit Price: 11835.99), Volume: 0.2057, Anomaly: 0.40%, P&L: -0.0009\n",
      "Trade executed: sell at 2020-08-17 13:32:00 (Entry Price: 12009.62), exited at 2020-08-17 14:25:00 (Exit Price: 12130.28), Volume: 0.2055, Anomaly: 0.40%, P&L: -0.0021\n",
      "Trade executed: buy at 2020-08-18 14:31:00 (Entry Price: 11933.52), exited at 2020-08-18 15:03:00 (Exit Price: 11978.33), Volume: 0.2051, Anomaly: 0.40%, P&L: 0.0008\n",
      "Trade executed: buy at 2020-08-19 04:19:00 (Entry Price: 11765.89), exited at 2020-08-19 04:56:00 (Exit Price: 11777.79), Volume: 0.2052, Anomaly: 0.10%, P&L: 0.0002\n",
      "Trade executed: sell at 2020-08-19 11:38:00 (Entry Price: 11866.87), exited at 2020-08-19 11:48:00 (Exit Price: 11831.85), Volume: 0.2053, Anomaly: 0.10%, P&L: 0.0006\n",
      "Trade executed: buy at 2020-08-19 14:49:00 (Entry Price: 11805.68), exited at 2020-08-19 15:49:00 (Exit Price: 11743.35), Volume: 0.2054, Anomaly: 0.20%, P&L: -0.0011\n",
      "Trade executed: buy at 2020-08-20 10:11:00 (Entry Price: 11778.62), exited at 2020-08-20 10:27:00 (Exit Price: 11787.59), Volume: 0.2052, Anomaly: 0.40%, P&L: 0.0002\n",
      "Trade executed: buy at 2020-08-20 15:12:00 (Entry Price: 11837.50), exited at 2020-08-20 15:13:00 (Exit Price: 11843.01), Volume: 0.2052, Anomaly: 0.30%, P&L: 0.0001\n",
      "Trade executed: buy at 2020-08-21 00:18:00 (Entry Price: 11851.58), exited at 2020-08-21 00:57:00 (Exit Price: 11852.00), Volume: 0.2052, Anomaly: 0.40%, P&L: 0.0000\n",
      "Trade executed: buy at 2020-08-21 05:22:00 (Entry Price: 11857.09), exited at 2020-08-21 05:24:00 (Exit Price: 11858.85), Volume: 0.2052, Anomaly: 0.30%, P&L: 0.0000\n",
      "Trade executed: buy at 2020-08-21 07:53:00 (Entry Price: 11830.01), exited at 2020-08-21 08:00:00 (Exit Price: 11842.01), Volume: 0.2052, Anomaly: 0.20%, P&L: 0.0002\n",
      "Trade executed: buy at 2020-08-21 21:29:00 (Entry Price: 11589.00), exited at 2020-08-21 22:03:00 (Exit Price: 11568.46), Volume: 0.2053, Anomaly: 0.00%, P&L: -0.0004\n",
      "Trade executed: buy at 2020-08-22 08:07:00 (Entry Price: 11560.55), exited at 2020-08-22 08:14:00 (Exit Price: 11585.00), Volume: 0.2052, Anomaly: 0.30%, P&L: 0.0004\n",
      "Trade executed: sell at 2020-08-22 15:13:00 (Entry Price: 11614.56), exited at 2020-08-22 15:18:00 (Exit Price: 11614.13), Volume: 0.2053, Anomaly: 0.00%, P&L: 0.0000\n",
      "Trade executed: sell at 2020-08-22 21:55:00 (Entry Price: 11663.72), exited at 2020-08-22 22:09:00 (Exit Price: 11663.33), Volume: 0.2053, Anomaly: 0.40%, P&L: 0.0000\n",
      "Trade executed: buy at 2020-08-23 13:52:00 (Entry Price: 11593.39), exited at 2020-08-23 14:04:00 (Exit Price: 11603.48), Volume: 0.2053, Anomaly: 0.30%, P&L: 0.0002\n",
      "Trade executed: buy at 2020-08-24 08:34:00 (Entry Price: 11772.14), exited at 2020-08-24 08:45:00 (Exit Price: 11780.44), Volume: 0.2053, Anomaly: 0.20%, P&L: 0.0001\n",
      "Trade executed: buy at 2020-08-24 14:38:00 (Entry Price: 11757.40), exited at 2020-08-24 15:20:00 (Exit Price: 11756.65), Volume: 0.2054, Anomaly: 0.40%, P&L: -0.0000\n",
      "Trade executed: sell at 2020-08-25 13:14:00 (Entry Price: 11509.08), exited at 2020-08-25 13:31:00 (Exit Price: 11509.97), Volume: 0.2054, Anomaly: 0.40%, P&L: -0.0000\n",
      "Trade executed: buy at 2020-08-25 17:41:00 (Entry Price: 11277.59), exited at 2020-08-25 18:22:00 (Exit Price: 11241.78), Volume: 0.2054, Anomaly: 0.30%, P&L: -0.0007\n",
      "Trade executed: sell at 2020-08-26 14:25:00 (Entry Price: 11470.36), exited at 2020-08-26 14:47:00 (Exit Price: 11462.47), Volume: 0.2052, Anomaly: 0.30%, P&L: 0.0001\n",
      "Trade executed: sell at 2020-08-27 13:40:00 (Entry Price: 11470.86), exited at 2020-08-27 13:41:00 (Exit Price: 11455.08), Volume: 0.2053, Anomaly: 0.40%, P&L: 0.0003\n",
      "Trade executed: buy at 2020-08-27 17:17:00 (Entry Price: 11238.22), exited at 2020-08-27 18:13:00 (Exit Price: 11217.17), Volume: 0.2053, Anomaly: 0.20%, P&L: -0.0004\n",
      "Trade executed: sell at 2020-08-28 12:31:00 (Entry Price: 11475.44), exited at 2020-08-28 12:34:00 (Exit Price: 11465.57), Volume: 0.2052, Anomaly: 0.20%, P&L: 0.0002\n",
      "Trade executed: sell at 2020-08-28 15:53:00 (Entry Price: 11503.16), exited at 2020-08-28 16:28:00 (Exit Price: 11513.63), Volume: 0.2053, Anomaly: 0.30%, P&L: -0.0002\n",
      "Trade executed: sell at 2020-08-29 07:56:00 (Entry Price: 11559.92), exited at 2020-08-29 08:06:00 (Exit Price: 11546.17), Volume: 0.2052, Anomaly: 0.10%, P&L: 0.0002\n",
      "Trade executed: sell at 2020-08-29 15:50:00 (Entry Price: 11506.57), exited at 2020-08-29 15:55:00 (Exit Price: 11490.01), Volume: 0.2053, Anomaly: 0.40%, P&L: 0.0003\n",
      "Trade executed: sell at 2020-08-30 01:58:00 (Entry Price: 11624.94), exited at 2020-08-30 02:43:00 (Exit Price: 11624.00), Volume: 0.2053, Anomaly: 0.40%, P&L: 0.0000\n",
      "Trade executed: buy at 2020-08-30 15:54:00 (Entry Price: 11604.45), exited at 2020-08-30 16:19:00 (Exit Price: 11631.94), Volume: 0.2053, Anomaly: 0.00%, P&L: 0.0005\n",
      "Trade executed: sell at 2020-08-30 23:39:00 (Entry Price: 11696.55), exited at 2020-08-30 23:45:00 (Exit Price: 11683.00), Volume: 0.2054, Anomaly: 0.40%, P&L: 0.0002\n",
      "Trade executed: sell at 2020-08-31 13:16:00 (Entry Price: 11746.78), exited at 2020-08-31 13:36:00 (Exit Price: 11731.28), Volume: 0.2055, Anomaly: 0.30%, P&L: 0.0003\n",
      "Trade executed: sell at 2020-09-01 06:22:00 (Entry Price: 11816.02), exited at 2020-09-01 07:29:00 (Exit Price: 11874.39), Volume: 0.2055, Anomaly: 0.40%, P&L: -0.0010\n",
      "Trade executed: buy at 2020-09-01 08:13:00 (Entry Price: 11901.15), exited at 2020-09-01 08:28:00 (Exit Price: 11916.97), Volume: 0.2053, Anomaly: 0.20%, P&L: 0.0003\n",
      "Trade executed: sell at 2020-09-01 16:16:00 (Entry Price: 12040.43), exited at 2020-09-01 16:27:00 (Exit Price: 12004.14), Volume: 0.2054, Anomaly: 0.00%, P&L: 0.0006\n",
      "Trade executed: buy at 2020-09-01 23:56:00 (Entry Price: 11933.33), exited at 2020-09-02 00:42:00 (Exit Price: 11938.95), Volume: 0.2055, Anomaly: 0.30%, P&L: 0.0001\n",
      "Trade executed: buy at 2020-09-02 11:24:00 (Entry Price: 11262.02), exited at 2020-09-02 11:50:00 (Exit Price: 11432.89), Volume: 0.2055, Anomaly: 0.30%, P&L: 0.0031\n",
      "Trade executed: buy at 2020-09-03 12:28:00 (Entry Price: 10829.29), exited at 2020-09-03 13:07:00 (Exit Price: 10855.00), Volume: 0.2062, Anomaly: 0.30%, P&L: 0.0005\n",
      "Trade executed: buy at 2020-09-03 23:33:00 (Entry Price: 10123.96), exited at 2020-09-04 00:12:00 (Exit Price: 10204.40), Volume: 0.2063, Anomaly: 0.20%, P&L: 0.0016\n",
      "Trade executed: sell at 2020-09-04 15:09:00 (Entry Price: 10253.75), exited at 2020-09-04 15:13:00 (Exit Price: 10231.41), Volume: 0.2066, Anomaly: 0.40%, P&L: 0.0005\n",
      "Trade executed: sell at 2020-09-05 13:08:00 (Entry Price: 10179.33), exited at 2020-09-05 14:20:00 (Exit Price: 10240.00), Volume: 0.2067, Anomaly: 0.00%, P&L: -0.0012\n",
      "Trade executed: buy at 2020-09-05 19:12:00 (Entry Price: 10012.66), exited at 2020-09-05 19:45:00 (Exit Price: 10039.09), Volume: 0.2064, Anomaly: 0.40%, P&L: 0.0005\n",
      "Trade executed: sell at 2020-09-06 09:10:00 (Entry Price: 10253.00), exited at 2020-09-06 09:18:00 (Exit Price: 10212.68), Volume: 0.2065, Anomaly: 0.30%, P&L: 0.0008\n",
      "Trade executed: sell at 2020-09-07 00:07:00 (Entry Price: 10266.17), exited at 2020-09-07 00:32:00 (Exit Price: 10272.50), Volume: 0.2067, Anomaly: 0.20%, P&L: -0.0001\n",
      "Trade executed: sell at 2020-09-07 13:19:00 (Entry Price: 10051.66), exited at 2020-09-07 14:12:00 (Exit Price: 10051.73), Volume: 0.2067, Anomaly: 0.40%, P&L: -0.0000\n",
      "Trade executed: sell at 2020-09-07 22:55:00 (Entry Price: 10346.92), exited at 2020-09-07 23:23:00 (Exit Price: 10360.69), Volume: 0.2067, Anomaly: 0.30%, P&L: -0.0003\n",
      "Trade executed: sell at 2020-09-08 22:57:00 (Entry Price: 10111.45), exited at 2020-09-08 23:24:00 (Exit Price: 10096.51), Volume: 0.2066, Anomaly: 0.30%, P&L: 0.0003\n",
      "Trade executed: sell at 2020-09-09 11:27:00 (Entry Price: 10238.02), exited at 2020-09-09 11:47:00 (Exit Price: 10213.84), Volume: 0.2067, Anomaly: 0.30%, P&L: 0.0005\n",
      "Trade executed: sell at 2020-09-10 00:35:00 (Entry Price: 10303.83), exited at 2020-09-10 00:48:00 (Exit Price: 10288.09), Volume: 0.2068, Anomaly: 0.40%, P&L: 0.0003\n",
      "Trade executed: sell at 2020-09-10 16:09:00 (Entry Price: 10393.76), exited at 2020-09-10 16:10:00 (Exit Price: 10379.99), Volume: 0.2068, Anomaly: 0.40%, P&L: 0.0003\n",
      "Trade executed: buy at 2020-09-11 14:12:00 (Entry Price: 10260.53), exited at 2020-09-11 14:25:00 (Exit Price: 10292.58), Volume: 0.2069, Anomaly: 0.40%, P&L: 0.0006\n",
      "Trade executed: buy at 2020-09-12 00:09:00 (Entry Price: 10372.34), exited at 2020-09-12 01:00:00 (Exit Price: 10348.77), Volume: 0.2070, Anomaly: 0.40%, P&L: -0.0005\n",
      "Trade executed: sell at 2020-09-12 14:42:00 (Entry Price: 10339.61), exited at 2020-09-12 15:54:00 (Exit Price: 10358.49), Volume: 0.2069, Anomaly: 0.20%, P&L: -0.0004\n",
      "Trade executed: sell at 2020-09-13 04:02:00 (Entry Price: 10544.06), exited at 2020-09-13 04:23:00 (Exit Price: 10527.90), Volume: 0.2069, Anomaly: 0.40%, P&L: 0.0003\n",
      "Trade executed: buy at 2020-09-13 11:34:00 (Entry Price: 10375.78), exited at 2020-09-13 12:21:00 (Exit Price: 10346.85), Volume: 0.2069, Anomaly: 0.20%, P&L: -0.0006\n",
      "Trade executed: sell at 2020-09-14 13:35:00 (Entry Price: 10616.71), exited at 2020-09-14 14:25:00 (Exit Price: 10628.90), Volume: 0.2068, Anomaly: 0.10%, P&L: -0.0002\n",
      "Trade executed: buy at 2020-09-15 08:43:00 (Entry Price: 10626.13), exited at 2020-09-15 09:18:00 (Exit Price: 10658.94), Volume: 0.2068, Anomaly: 0.20%, P&L: 0.0006\n",
      "Trade executed: sell at 2020-09-15 11:03:00 (Entry Price: 10822.42), exited at 2020-09-15 11:33:00 (Exit Price: 10810.44), Volume: 0.2069, Anomaly: 0.30%, P&L: 0.0002\n",
      "Trade executed: buy at 2020-09-15 13:04:00 (Entry Price: 10884.41), exited at 2020-09-15 13:21:00 (Exit Price: 10898.52), Volume: 0.2069, Anomaly: 0.10%, P&L: 0.0003\n",
      "Trade executed: sell at 2020-09-16 18:22:00 (Entry Price: 11047.00), exited at 2020-09-16 18:53:00 (Exit Price: 11030.88), Volume: 0.2070, Anomaly: 0.30%, P&L: 0.0003\n",
      "Trade executed: sell at 2020-09-17 00:57:00 (Entry Price: 11001.86), exited at 2020-09-17 01:16:00 (Exit Price: 11004.03), Volume: 0.2070, Anomaly: 0.40%, P&L: -0.0000\n",
      "Trade executed: buy at 2020-09-17 13:12:00 (Entry Price: 10756.47), exited at 2020-09-17 13:39:00 (Exit Price: 10787.50), Volume: 0.2070, Anomaly: 0.00%, P&L: 0.0006\n",
      "Trade executed: sell at 2020-09-17 14:59:00 (Entry Price: 10832.00), exited at 2020-09-17 15:37:00 (Exit Price: 10847.81), Volume: 0.2072, Anomaly: 0.20%, P&L: -0.0003\n",
      "Trade executed: buy at 2020-09-18 00:28:00 (Entry Price: 10899.05), exited at 2020-09-18 01:02:00 (Exit Price: 10913.12), Volume: 0.2071, Anomaly: 0.40%, P&L: 0.0003\n",
      "Trade executed: buy at 2020-09-18 13:52:00 (Entry Price: 10922.21), exited at 2020-09-18 14:17:00 (Exit Price: 10938.94), Volume: 0.2071, Anomaly: 0.10%, P&L: 0.0003\n",
      "Trade executed: buy at 2020-09-18 16:16:00 (Entry Price: 10844.99), exited at 2020-09-18 16:40:00 (Exit Price: 10878.63), Volume: 0.2072, Anomaly: 0.30%, P&L: 0.0006\n",
      "Trade executed: buy at 2020-09-18 17:36:00 (Entry Price: 10820.74), exited at 2020-09-18 18:13:00 (Exit Price: 10829.98), Volume: 0.2073, Anomaly: 0.20%, P&L: 0.0002\n",
      "Trade executed: sell at 2020-09-19 12:21:00 (Entry Price: 11064.70), exited at 2020-09-19 12:28:00 (Exit Price: 11067.00), Volume: 0.2074, Anomaly: 0.20%, P&L: -0.0000\n",
      "Trade executed: buy at 2020-09-20 01:04:00 (Entry Price: 10979.43), exited at 2020-09-20 02:17:00 (Exit Price: 10951.33), Volume: 0.2074, Anomaly: 0.40%, P&L: -0.0005\n",
      "Trade executed: buy at 2020-09-20 12:19:00 (Entry Price: 10853.00), exited at 2020-09-20 13:27:00 (Exit Price: 10851.36), Volume: 0.2073, Anomaly: 0.40%, P&L: -0.0000\n",
      "Trade executed: buy at 2020-09-21 14:50:00 (Entry Price: 10418.69), exited at 2020-09-21 15:31:00 (Exit Price: 10402.40), Volume: 0.2073, Anomaly: 0.10%, P&L: -0.0003\n",
      "Trade executed: sell at 2020-09-22 00:19:00 (Entry Price: 10460.00), exited at 2020-09-22 00:43:00 (Exit Price: 10447.31), Volume: 0.2072, Anomaly: 0.40%, P&L: 0.0003\n",
      "Trade executed: buy at 2020-09-22 21:14:00 (Entry Price: 10490.05), exited at 2020-09-22 21:17:00 (Exit Price: 10502.44), Volume: 0.2072, Anomaly: 0.40%, P&L: 0.0002\n",
      "Trade executed: buy at 2020-09-23 07:22:00 (Entry Price: 10390.08), exited at 2020-09-23 07:40:00 (Exit Price: 10413.59), Volume: 0.2073, Anomaly: 0.30%, P&L: 0.0005\n",
      "Trade executed: sell at 2020-09-23 08:46:00 (Entry Price: 10432.52), exited at 2020-09-23 09:24:00 (Exit Price: 10448.64), Volume: 0.2074, Anomaly: 0.40%, P&L: -0.0003\n",
      "Trade executed: buy at 2020-09-23 19:20:00 (Entry Price: 10301.87), exited at 2020-09-23 20:01:00 (Exit Price: 10302.53), Volume: 0.2073, Anomaly: 0.40%, P&L: 0.0000\n",
      "Trade executed: sell at 2020-09-24 16:24:00 (Entry Price: 10640.51), exited at 2020-09-24 16:46:00 (Exit Price: 10620.38), Volume: 0.2073, Anomaly: 0.30%, P&L: 0.0004\n",
      "Trade executed: sell at 2020-09-25 17:53:00 (Entry Price: 10698.30), exited at 2020-09-25 18:41:00 (Exit Price: 10708.90), Volume: 0.2074, Anomaly: 0.40%, P&L: -0.0002\n",
      "Trade executed: buy at 2020-09-26 06:01:00 (Entry Price: 10727.50), exited at 2020-09-26 06:02:00 (Exit Price: 10737.41), Volume: 0.2074, Anomaly: 0.20%, P&L: 0.0002\n",
      "Trade executed: buy at 2020-09-26 18:23:00 (Entry Price: 10730.00), exited at 2020-09-26 18:29:00 (Exit Price: 10733.83), Volume: 0.2074, Anomaly: 0.40%, P&L: 0.0001\n",
      "Trade executed: buy at 2020-09-27 06:43:00 (Entry Price: 10673.55), exited at 2020-09-27 07:25:00 (Exit Price: 10676.03), Volume: 0.2074, Anomaly: 0.20%, P&L: 0.0000\n",
      "Trade executed: sell at 2020-09-27 16:08:00 (Entry Price: 10752.36), exited at 2020-09-27 16:25:00 (Exit Price: 10727.25), Volume: 0.2074, Anomaly: 0.30%, P&L: 0.0005\n",
      "Trade executed: sell at 2020-09-28 00:25:00 (Entry Price: 10850.47), exited at 2020-09-28 00:55:00 (Exit Price: 10869.99), Volume: 0.2075, Anomaly: 0.40%, P&L: -0.0004\n",
      "Trade executed: buy at 2020-09-28 23:20:00 (Entry Price: 10737.06), exited at 2020-09-29 00:17:00 (Exit Price: 10719.38), Volume: 0.2074, Anomaly: 0.00%, P&L: -0.0003\n",
      "Trade executed: buy at 2020-09-29 17:25:00 (Entry Price: 10644.88), exited at 2020-09-29 17:38:00 (Exit Price: 10664.04), Volume: 0.2074, Anomaly: 0.40%, P&L: 0.0004\n",
      "Trade executed: sell at 2020-09-29 23:38:00 (Entry Price: 10837.32), exited at 2020-09-29 23:58:00 (Exit Price: 10834.40), Volume: 0.2075, Anomaly: 0.30%, P&L: 0.0001\n",
      "Trade executed: buy at 2020-09-30 03:00:00 (Entry Price: 10770.78), exited at 2020-09-30 03:43:00 (Exit Price: 10767.75), Volume: 0.2075, Anomaly: 0.20%, P&L: -0.0001\n",
      "Trade executed: buy at 2020-09-30 04:19:00 (Entry Price: 10712.88), exited at 2020-09-30 04:33:00 (Exit Price: 10743.17), Volume: 0.2074, Anomaly: 0.40%, P&L: 0.0006\n",
      "Trade executed: buy at 2020-09-30 18:28:00 (Entry Price: 10706.20), exited at 2020-09-30 18:57:00 (Exit Price: 10731.08), Volume: 0.2076, Anomaly: 0.10%, P&L: 0.0005\n",
      "Trade executed: buy at 2020-10-01 16:37:00 (Entry Price: 10555.03), exited at 2020-10-01 17:24:00 (Exit Price: 10519.59), Volume: 0.2077, Anomaly: 0.30%, P&L: -0.0007\n",
      "Trade executed: buy at 2020-10-02 05:26:00 (Entry Price: 10425.60), exited at 2020-10-02 06:09:00 (Exit Price: 10439.01), Volume: 0.2075, Anomaly: 0.10%, P&L: 0.0003\n",
      "Trade executed: sell at 2020-10-02 22:52:00 (Entry Price: 10544.03), exited at 2020-10-02 23:40:00 (Exit Price: 10554.89), Volume: 0.2076, Anomaly: 0.30%, P&L: -0.0002\n",
      "Trade executed: sell at 2020-10-03 16:57:00 (Entry Price: 10571.83), exited at 2020-10-03 17:19:00 (Exit Price: 10556.99), Volume: 0.2075, Anomaly: 0.10%, P&L: 0.0003\n",
      "Trade executed: buy at 2020-10-03 22:29:00 (Entry Price: 10543.83), exited at 2020-10-03 22:47:00 (Exit Price: 10544.10), Volume: 0.2076, Anomaly: 0.20%, P&L: 0.0000\n",
      "Trade executed: sell at 2020-10-04 06:37:00 (Entry Price: 10607.93), exited at 2020-10-04 07:14:00 (Exit Price: 10597.55), Volume: 0.2076, Anomaly: 0.20%, P&L: 0.0002\n",
      "Trade executed: sell at 2020-10-05 00:12:00 (Entry Price: 10710.01), exited at 2020-10-05 00:51:00 (Exit Price: 10699.61), Volume: 0.2076, Anomaly: 0.20%, P&L: 0.0002\n",
      "Trade executed: sell at 2020-10-05 14:03:00 (Entry Price: 10717.76), exited at 2020-10-05 14:47:00 (Exit Price: 10725.04), Volume: 0.2077, Anomaly: 0.00%, P&L: -0.0001\n",
      "Trade executed: sell at 2020-10-05 16:51:00 (Entry Price: 10728.91), exited at 2020-10-05 17:14:00 (Exit Price: 10715.16), Volume: 0.2076, Anomaly: 0.30%, P&L: 0.0003\n",
      "Trade executed: buy at 2020-10-06 19:17:00 (Entry Price: 10579.59), exited at 2020-10-06 19:44:00 (Exit Price: 10577.01), Volume: 0.2077, Anomaly: 0.30%, P&L: -0.0001\n",
      "Trade executed: sell at 2020-10-07 01:50:00 (Entry Price: 10571.76), exited at 2020-10-07 01:51:00 (Exit Price: 10569.18), Volume: 0.2077, Anomaly: 0.00%, P&L: 0.0001\n",
      "Trade executed: buy at 2020-10-08 07:18:00 (Entry Price: 10600.24), exited at 2020-10-08 07:37:00 (Exit Price: 10602.00), Volume: 0.2077, Anomaly: 0.00%, P&L: 0.0000\n",
      "Trade executed: sell at 2020-10-08 14:41:00 (Entry Price: 10846.78), exited at 2020-10-08 15:27:00 (Exit Price: 10881.00), Volume: 0.2077, Anomaly: 0.20%, P&L: -0.0007\n",
      "Trade executed: sell at 2020-10-09 11:04:00 (Entry Price: 11026.26), exited at 2020-10-09 11:48:00 (Exit Price: 11043.37), Volume: 0.2076, Anomaly: 0.40%, P&L: -0.0003\n",
      "Trade executed: sell at 2020-10-10 02:11:00 (Entry Price: 11339.99), exited at 2020-10-10 02:57:00 (Exit Price: 11376.99), Volume: 0.2075, Anomaly: 0.40%, P&L: -0.0007\n",
      "Trade executed: sell at 2020-10-11 01:53:00 (Entry Price: 11370.44), exited at 2020-10-11 02:25:00 (Exit Price: 11351.52), Volume: 0.2074, Anomaly: 0.00%, P&L: 0.0003\n",
      "Trade executed: sell at 2020-10-11 15:09:00 (Entry Price: 11415.70), exited at 2020-10-11 15:46:00 (Exit Price: 11407.61), Volume: 0.2074, Anomaly: 0.30%, P&L: 0.0001\n",
      "Trade executed: buy at 2020-10-12 11:03:00 (Entry Price: 11262.03), exited at 2020-10-12 11:26:00 (Exit Price: 11269.16), Volume: 0.2075, Anomaly: 0.40%, P&L: 0.0001\n",
      "Trade executed: sell at 2020-10-12 13:53:00 (Entry Price: 11497.41), exited at 2020-10-12 14:32:00 (Exit Price: 11478.01), Volume: 0.2075, Anomaly: 0.00%, P&L: 0.0004\n",
      "Trade executed: sell at 2020-10-13 10:22:00 (Entry Price: 11510.33), exited at 2020-10-13 11:01:00 (Exit Price: 11514.04), Volume: 0.2076, Anomaly: 0.40%, P&L: -0.0001\n",
      "Trade executed: buy at 2020-10-14 14:48:00 (Entry Price: 11403.38), exited at 2020-10-14 15:15:00 (Exit Price: 11404.42), Volume: 0.2076, Anomaly: 0.40%, P&L: 0.0000\n",
      "Trade executed: buy at 2020-10-15 16:41:00 (Entry Price: 11370.94), exited at 2020-10-15 17:06:00 (Exit Price: 11396.95), Volume: 0.2076, Anomaly: 0.40%, P&L: 0.0005\n",
      "Trade executed: buy at 2020-10-16 04:12:00 (Entry Price: 11350.72), exited at 2020-10-16 05:03:00 (Exit Price: 11296.17), Volume: 0.2077, Anomaly: 0.40%, P&L: -0.0010\n",
      "Trade executed: buy at 2020-10-16 20:19:00 (Entry Price: 11293.05), exited at 2020-10-16 20:46:00 (Exit Price: 11299.31), Volume: 0.2075, Anomaly: 0.40%, P&L: 0.0001\n",
      "Trade executed: buy at 2020-10-17 06:46:00 (Entry Price: 11342.40), exited at 2020-10-17 06:52:00 (Exit Price: 11351.70), Volume: 0.2075, Anomaly: 0.20%, P&L: 0.0002\n",
      "Trade executed: sell at 2020-10-17 14:53:00 (Entry Price: 11351.36), exited at 2020-10-17 15:22:00 (Exit Price: 11339.35), Volume: 0.2075, Anomaly: 0.40%, P&L: 0.0002\n",
      "Trade executed: sell at 2020-10-18 06:46:00 (Entry Price: 11430.43), exited at 2020-10-18 07:34:00 (Exit Price: 11430.11), Volume: 0.2076, Anomaly: 0.30%, P&L: 0.0000\n",
      "Trade executed: buy at 2020-10-19 00:18:00 (Entry Price: 11471.78), exited at 2020-10-19 01:04:00 (Exit Price: 11466.53), Volume: 0.2076, Anomaly: 0.30%, P&L: -0.0001\n",
      "Trade executed: sell at 2020-10-19 13:07:00 (Entry Price: 11605.87), exited at 2020-10-19 14:00:00 (Exit Price: 11635.38), Volume: 0.2075, Anomaly: 0.30%, P&L: -0.0005\n",
      "Trade executed: buy at 2020-10-20 11:29:00 (Entry Price: 11795.74), exited at 2020-10-20 12:10:00 (Exit Price: 11791.77), Volume: 0.2074, Anomaly: 0.10%, P&L: -0.0001\n",
      "Trade executed: sell at 2020-10-21 03:08:00 (Entry Price: 12160.00), exited at 2020-10-21 03:48:00 (Exit Price: 12176.73), Volume: 0.2074, Anomaly: 0.10%, P&L: -0.0003\n",
      "Trade executed: sell at 2020-10-21 11:55:00 (Entry Price: 12320.02), exited at 2020-10-21 12:20:00 (Exit Price: 12273.79), Volume: 0.2074, Anomaly: 0.20%, P&L: 0.0008\n",
      "Trade executed: sell at 2020-10-21 14:42:00 (Entry Price: 12702.74), exited at 2020-10-21 15:07:00 (Exit Price: 12696.47), Volume: 0.2075, Anomaly: 0.40%, P&L: 0.0001\n",
      "Trade executed: buy at 2020-10-21 23:10:00 (Entry Price: 12877.28), exited at 2020-10-22 00:03:00 (Exit Price: 12858.00), Volume: 0.2075, Anomaly: 0.10%, P&L: -0.0003\n",
      "Trade executed: sell at 2020-10-22 22:02:00 (Entry Price: 13122.65), exited at 2020-10-22 22:39:00 (Exit Price: 13122.01), Volume: 0.2075, Anomaly: 0.20%, P&L: 0.0000\n",
      "Trade executed: buy at 2020-10-22 23:20:00 (Entry Price: 12975.57), exited at 2020-10-23 00:54:00 (Exit Price: 12904.94), Volume: 0.2075, Anomaly: 0.20%, P&L: -0.0011\n",
      "Trade executed: buy at 2020-10-23 16:23:00 (Entry Price: 12827.35), exited at 2020-10-23 17:18:00 (Exit Price: 12790.44), Volume: 0.2073, Anomaly: 0.00%, P&L: -0.0006\n",
      "Trade executed: buy at 2020-10-24 14:34:00 (Entry Price: 12972.43), exited at 2020-10-24 14:43:00 (Exit Price: 13041.53), Volume: 0.2071, Anomaly: 0.20%, P&L: 0.0011\n",
      "Trade executed: buy at 2020-10-25 06:08:00 (Entry Price: 13002.52), exited at 2020-10-25 06:33:00 (Exit Price: 12993.18), Volume: 0.2074, Anomaly: 0.40%, P&L: -0.0001\n",
      "Trade executed: sell at 2020-10-26 01:05:00 (Entry Price: 13083.20), exited at 2020-10-26 01:35:00 (Exit Price: 13060.00), Volume: 0.2073, Anomaly: 0.10%, P&L: 0.0004\n",
      "Trade executed: sell at 2020-10-26 08:40:00 (Entry Price: 13027.73), exited at 2020-10-26 08:41:00 (Exit Price: 13018.03), Volume: 0.2074, Anomaly: 0.20%, P&L: 0.0002\n",
      "Trade executed: buy at 2020-10-26 16:54:00 (Entry Price: 12895.52), exited at 2020-10-26 17:09:00 (Exit Price: 12909.96), Volume: 0.2074, Anomaly: 0.20%, P&L: 0.0002\n",
      "Trade executed: sell at 2020-10-27 11:30:00 (Entry Price: 13448.37), exited at 2020-10-27 12:05:00 (Exit Price: 13397.00), Volume: 0.2075, Anomaly: 0.40%, P&L: 0.0008\n",
      "Trade executed: buy at 2020-10-28 11:46:00 (Entry Price: 13418.79), exited at 2020-10-28 12:58:00 (Exit Price: 13276.85), Volume: 0.2076, Anomaly: 0.30%, P&L: -0.0022\n",
      "Trade executed: buy at 2020-10-28 14:30:00 (Entry Price: 13058.75), exited at 2020-10-28 14:34:00 (Exit Price: 13088.30), Volume: 0.2072, Anomaly: 0.30%, P&L: 0.0005\n",
      "Trade executed: sell at 2020-10-29 12:39:00 (Entry Price: 13091.31), exited at 2020-10-29 13:20:00 (Exit Price: 13094.98), Volume: 0.2073, Anomaly: 0.00%, P&L: -0.0001\n",
      "Trade executed: sell at 2020-10-30 01:03:00 (Entry Price: 13592.84), exited at 2020-10-30 01:33:00 (Exit Price: 13562.47), Volume: 0.2073, Anomaly: 0.30%, P&L: 0.0005\n",
      "Trade executed: buy at 2020-10-30 21:29:00 (Entry Price: 13551.99), exited at 2020-10-30 21:48:00 (Exit Price: 13556.86), Volume: 0.2074, Anomaly: 0.30%, P&L: 0.0001\n",
      "Trade executed: sell at 2020-10-31 10:08:00 (Entry Price: 13994.16), exited at 2020-10-31 10:23:00 (Exit Price: 13850.09), Volume: 0.2074, Anomaly: 0.40%, P&L: 0.0021\n",
      "Trade executed: sell at 2020-11-01 00:11:00 (Entry Price: 13870.04), exited at 2020-11-01 00:33:00 (Exit Price: 13794.71), Volume: 0.2078, Anomaly: 0.20%, P&L: 0.0011\n",
      "Trade executed: buy at 2020-11-01 00:57:00 (Entry Price: 13717.01), exited at 2020-11-01 01:15:00 (Exit Price: 13748.01), Volume: 0.2080, Anomaly: 0.30%, P&L: 0.0005\n",
      "Trade executed: sell at 2020-11-02 00:09:00 (Entry Price: 13809.99), exited at 2020-11-02 00:48:00 (Exit Price: 13794.46), Volume: 0.2081, Anomaly: 0.10%, P&L: 0.0002\n",
      "Trade executed: buy at 2020-11-02 02:30:00 (Entry Price: 13691.61), exited at 2020-11-02 02:42:00 (Exit Price: 13716.01), Volume: 0.2082, Anomaly: 0.40%, P&L: 0.0004\n",
      "Trade executed: buy at 2020-11-02 12:59:00 (Entry Price: 13295.84), exited at 2020-11-02 13:09:00 (Exit Price: 13344.51), Volume: 0.2083, Anomaly: 0.30%, P&L: 0.0008\n",
      "Trade executed: sell at 2020-11-03 13:39:00 (Entry Price: 13694.02), exited at 2020-11-03 14:17:00 (Exit Price: 13678.76), Volume: 0.2084, Anomaly: 0.20%, P&L: 0.0002\n",
      "Trade executed: sell at 2020-11-03 23:29:00 (Entry Price: 14011.94), exited at 2020-11-03 23:47:00 (Exit Price: 13939.38), Volume: 0.2085, Anomaly: 0.00%, P&L: 0.0011\n",
      "Trade executed: sell at 2020-11-04 03:20:00 (Entry Price: 13892.09), exited at 2020-11-04 04:02:00 (Exit Price: 13879.30), Volume: 0.2087, Anomaly: 0.40%, P&L: 0.0002\n",
      "Trade executed: sell at 2020-11-04 17:11:00 (Entry Price: 14142.60), exited at 2020-11-04 17:46:00 (Exit Price: 14145.01), Volume: 0.2087, Anomaly: 0.30%, P&L: -0.0000\n",
      "Trade executed: sell at 2020-11-05 16:08:00 (Entry Price: 15171.65), exited at 2020-11-05 16:41:00 (Exit Price: 15184.02), Volume: 0.2087, Anomaly: 0.40%, P&L: -0.0002\n",
      "Trade executed: sell at 2020-11-06 00:46:00 (Entry Price: 15937.60), exited at 2020-11-06 01:24:00 (Exit Price: 15879.00), Volume: 0.2087, Anomaly: 0.30%, P&L: 0.0008\n",
      "Trade executed: sell at 2020-11-06 20:51:00 (Entry Price: 15533.21), exited at 2020-11-06 21:34:00 (Exit Price: 15516.80), Volume: 0.2088, Anomaly: 0.30%, P&L: 0.0002\n",
      "Trade executed: sell at 2020-11-07 16:51:00 (Entry Price: 15391.72), exited at 2020-11-07 17:12:00 (Exit Price: 15306.99), Volume: 0.2089, Anomaly: 0.40%, P&L: 0.0011\n",
      "Trade executed: sell at 2020-11-08 01:50:00 (Entry Price: 15011.26), exited at 2020-11-08 02:29:00 (Exit Price: 15025.01), Volume: 0.2091, Anomaly: 0.40%, P&L: -0.0002\n",
      "Trade executed: sell at 2020-11-08 17:30:00 (Entry Price: 15571.87), exited at 2020-11-08 18:14:00 (Exit Price: 15550.00), Volume: 0.2091, Anomaly: 0.30%, P&L: 0.0003\n",
      "Trade executed: sell at 2020-11-09 00:44:00 (Entry Price: 15585.00), exited at 2020-11-09 01:04:00 (Exit Price: 15529.00), Volume: 0.2091, Anomaly: 0.40%, P&L: 0.0008\n",
      "Trade executed: sell at 2020-11-09 12:01:00 (Entry Price: 15781.99), exited at 2020-11-09 12:12:00 (Exit Price: 15546.40), Volume: 0.2093, Anomaly: 0.40%, P&L: 0.0031\n",
      "Trade executed: sell at 2020-11-10 12:21:00 (Entry Price: 15365.63), exited at 2020-11-10 12:33:00 (Exit Price: 15312.00), Volume: 0.2099, Anomaly: 0.30%, P&L: 0.0007\n",
      "Trade executed: sell at 2020-11-11 00:34:00 (Entry Price: 15420.52), exited at 2020-11-11 01:16:00 (Exit Price: 15437.34), Volume: 0.2100, Anomaly: 0.30%, P&L: -0.0002\n",
      "Trade executed: sell at 2020-11-11 16:34:00 (Entry Price: 15807.35), exited at 2020-11-11 16:45:00 (Exit Price: 15733.32), Volume: 0.2100, Anomaly: 0.30%, P&L: 0.0010\n",
      "Trade executed: sell at 2020-11-11 17:44:00 (Entry Price: 15878.51), exited at 2020-11-11 18:01:00 (Exit Price: 15860.61), Volume: 0.2102, Anomaly: 0.00%, P&L: 0.0002\n",
      "Trade executed: sell at 2020-11-12 10:07:00 (Entry Price: 16137.20), exited at 2020-11-12 10:17:00 (Exit Price: 15871.67), Volume: 0.2102, Anomaly: 0.40%, P&L: 0.0035\n",
      "Trade executed: sell at 2020-11-12 22:24:00 (Entry Price: 16257.77), exited at 2020-11-12 22:39:00 (Exit Price: 16184.56), Volume: 0.2109, Anomaly: 0.30%, P&L: 0.0009\n",
      "Trade executed: sell at 2020-11-13 16:50:00 (Entry Price: 16169.85), exited at 2020-11-13 17:19:00 (Exit Price: 16143.99), Volume: 0.2111, Anomaly: 0.30%, P&L: 0.0003\n",
      "Trade executed: sell at 2020-11-14 17:43:00 (Entry Price: 15901.19), exited at 2020-11-14 18:21:00 (Exit Price: 15898.67), Volume: 0.2112, Anomaly: 0.20%, P&L: 0.0000\n",
      "Trade executed: sell at 2020-11-14 23:18:00 (Entry Price: 16092.65), exited at 2020-11-14 23:38:00 (Exit Price: 16058.02), Volume: 0.2112, Anomaly: 0.40%, P&L: 0.0005\n",
      "Trade executed: sell at 2020-11-15 11:43:00 (Entry Price: 16060.20), exited at 2020-11-15 11:51:00 (Exit Price: 16000.26), Volume: 0.2113, Anomaly: 0.30%, P&L: 0.0008\n",
      "Trade executed: sell at 2020-11-16 05:18:00 (Entry Price: 16101.00), exited at 2020-11-16 05:46:00 (Exit Price: 16082.54), Volume: 0.2114, Anomaly: 0.40%, P&L: 0.0002\n",
      "Trade executed: sell at 2020-11-16 19:28:00 (Entry Price: 16829.02), exited at 2020-11-16 19:57:00 (Exit Price: 16775.87), Volume: 0.2115, Anomaly: 0.40%, P&L: 0.0007\n",
      "Trade executed: sell at 2020-11-17 11:37:00 (Entry Price: 16968.22), exited at 2020-11-17 12:08:00 (Exit Price: 16944.00), Volume: 0.2116, Anomaly: 0.30%, P&L: 0.0003\n",
      "Trade executed: sell at 2020-11-18 04:02:00 (Entry Price: 18024.53), exited at 2020-11-18 05:03:00 (Exit Price: 18235.93), Volume: 0.2117, Anomaly: 0.40%, P&L: -0.0025\n",
      "Trade executed: sell at 2020-11-18 08:10:00 (Entry Price: 18174.80), exited at 2020-11-18 08:58:00 (Exit Price: 18188.01), Volume: 0.2112, Anomaly: 0.30%, P&L: -0.0002\n",
      "Trade executed: sell at 2020-11-19 15:06:00 (Entry Price: 18142.41), exited at 2020-11-19 15:35:00 (Exit Price: 18089.97), Volume: 0.2112, Anomaly: 0.40%, P&L: 0.0006\n",
      "Trade executed: sell at 2020-11-20 07:20:00 (Entry Price: 18389.59), exited at 2020-11-20 07:26:00 (Exit Price: 18166.02), Volume: 0.2113, Anomaly: 0.40%, P&L: 0.0026\n",
      "Trade executed: sell at 2020-11-20 14:54:00 (Entry Price: 18595.53), exited at 2020-11-20 15:42:00 (Exit Price: 18636.80), Volume: 0.2118, Anomaly: 0.40%, P&L: -0.0005\n",
      "Trade executed: sell at 2020-11-21 12:27:00 (Entry Price: 18673.83), exited at 2020-11-21 12:57:00 (Exit Price: 18652.38), Volume: 0.2117, Anomaly: 0.40%, P&L: 0.0002\n",
      "Trade executed: sell at 2020-11-22 09:49:00 (Entry Price: 18408.01), exited at 2020-11-22 10:02:00 (Exit Price: 18356.02), Volume: 0.2117, Anomaly: 0.40%, P&L: 0.0006\n",
      "Trade executed: sell at 2020-11-22 12:19:00 (Entry Price: 18083.53), exited at 2020-11-22 13:02:00 (Exit Price: 18086.00), Volume: 0.2119, Anomaly: 0.40%, P&L: -0.0000\n",
      "Trade executed: sell at 2020-11-23 14:09:00 (Entry Price: 18676.83), exited at 2020-11-23 14:29:00 (Exit Price: 18589.99), Volume: 0.2119, Anomaly: 0.20%, P&L: 0.0010\n",
      "Trade executed: sell at 2020-11-24 09:38:00 (Entry Price: 18996.72), exited at 2020-11-24 10:13:00 (Exit Price: 18925.41), Volume: 0.2121, Anomaly: 0.40%, P&L: 0.0008\n",
      "Trade executed: sell at 2020-11-24 14:54:00 (Entry Price: 19356.00), exited at 2020-11-24 15:18:00 (Exit Price: 19339.02), Volume: 0.2122, Anomaly: 0.30%, P&L: 0.0002\n",
      "Trade executed: sell at 2020-11-25 13:50:00 (Entry Price: 19536.41), exited at 2020-11-25 13:57:00 (Exit Price: 19275.27), Volume: 0.2122, Anomaly: 0.30%, P&L: 0.0028\n",
      "Trade executed: buy at 2020-11-26 03:58:00 (Entry Price: 17902.05), exited at 2020-11-26 04:04:00 (Exit Price: 17926.64), Volume: 0.2128, Anomaly: 0.30%, P&L: 0.0003\n",
      "Trade executed: sell at 2020-11-26 20:23:00 (Entry Price: 16860.43), exited at 2020-11-26 21:27:00 (Exit Price: 17098.42), Volume: 0.2129, Anomaly: 0.20%, P&L: -0.0030\n",
      "Trade executed: sell at 2020-11-27 09:12:00 (Entry Price: 17138.61), exited at 2020-11-27 09:21:00 (Exit Price: 16888.40), Volume: 0.2123, Anomaly: 0.30%, P&L: 0.0031\n",
      "Trade executed: sell at 2020-11-28 16:15:00 (Entry Price: 17687.12), exited at 2020-11-28 17:04:00 (Exit Price: 17689.83), Volume: 0.2129, Anomaly: 0.40%, P&L: -0.0000\n",
      "Trade executed: sell at 2020-11-29 08:22:00 (Entry Price: 18043.24), exited at 2020-11-29 09:06:00 (Exit Price: 18079.00), Volume: 0.2129, Anomaly: 0.00%, P&L: -0.0004\n",
      "Trade executed: sell at 2020-11-30 00:46:00 (Entry Price: 18416.94), exited at 2020-11-30 01:18:00 (Exit Price: 18415.21), Volume: 0.2128, Anomaly: 0.40%, P&L: 0.0000\n",
      "Trade executed: sell at 2020-11-30 14:56:00 (Entry Price: 19655.74), exited at 2020-11-30 15:31:00 (Exit Price: 19651.15), Volume: 0.2128, Anomaly: 0.20%, P&L: 0.0000\n",
      "Trade executed: sell at 2020-12-01 10:17:00 (Entry Price: 19807.91), exited at 2020-12-01 11:00:00 (Exit Price: 19770.97), Volume: 0.2128, Anomaly: 0.30%, P&L: 0.0004\n",
      "Trade executed: sell at 2020-12-01 14:51:00 (Entry Price: 19258.18), exited at 2020-12-01 15:33:00 (Exit Price: 19310.22), Volume: 0.2129, Anomaly: 0.20%, P&L: -0.0006\n",
      "Trade executed: sell at 2020-12-02 08:33:00 (Entry Price: 19291.01), exited at 2020-12-02 08:56:00 (Exit Price: 19198.71), Volume: 0.2128, Anomaly: 0.30%, P&L: 0.0010\n",
      "Trade executed: sell at 2020-12-02 13:14:00 (Entry Price: 19077.60), exited at 2020-12-02 13:56:00 (Exit Price: 19135.12), Volume: 0.2130, Anomaly: 0.40%, P&L: -0.0006\n",
      "Trade executed: sell at 2020-12-03 08:33:00 (Entry Price: 19456.59), exited at 2020-12-03 09:04:00 (Exit Price: 19402.34), Volume: 0.2129, Anomaly: 0.30%, P&L: 0.0006\n",
      "Trade executed: sell at 2020-12-03 16:07:00 (Entry Price: 19583.01), exited at 2020-12-03 16:14:00 (Exit Price: 19445.67), Volume: 0.2130, Anomaly: 0.40%, P&L: 0.0015\n",
      "Trade executed: sell at 2020-12-04 14:39:00 (Entry Price: 19108.09), exited at 2020-12-04 14:58:00 (Exit Price: 19041.86), Volume: 0.2133, Anomaly: 0.40%, P&L: 0.0007\n",
      "Trade executed: sell at 2020-12-05 08:31:00 (Entry Price: 19087.27), exited at 2020-12-05 09:07:00 (Exit Price: 19117.40), Volume: 0.2134, Anomaly: 0.40%, P&L: -0.0003\n",
      "Trade executed: sell at 2020-12-06 00:11:00 (Entry Price: 19225.34), exited at 2020-12-06 00:49:00 (Exit Price: 19207.83), Volume: 0.2134, Anomaly: 0.20%, P&L: 0.0002\n",
      "Trade executed: sell at 2020-12-06 23:21:00 (Entry Price: 19401.52), exited at 2020-12-06 23:47:00 (Exit Price: 19313.59), Volume: 0.2134, Anomaly: 0.40%, P&L: 0.0010\n",
      "Trade executed: sell at 2020-12-07 06:27:00 (Entry Price: 19363.14), exited at 2020-12-07 06:53:00 (Exit Price: 19315.00), Volume: 0.2136, Anomaly: 0.40%, P&L: 0.0005\n",
      "Trade executed: sell at 2020-12-07 23:39:00 (Entry Price: 19204.58), exited at 2020-12-08 00:03:00 (Exit Price: 19161.08), Volume: 0.2137, Anomaly: 0.30%, P&L: 0.0005\n",
      "Trade executed: sell at 2020-12-08 13:12:00 (Entry Price: 18843.62), exited at 2020-12-08 14:08:00 (Exit Price: 18878.01), Volume: 0.2138, Anomaly: 0.40%, P&L: -0.0004\n",
      "Trade executed: sell at 2020-12-09 14:03:00 (Entry Price: 18486.06), exited at 2020-12-09 14:38:00 (Exit Price: 18433.22), Volume: 0.2137, Anomaly: 0.40%, P&L: 0.0006\n",
      "Trade executed: sell at 2020-12-09 22:15:00 (Entry Price: 18583.77), exited at 2020-12-09 22:34:00 (Exit Price: 18516.24), Volume: 0.2138, Anomaly: 0.40%, P&L: 0.0008\n",
      "Trade executed: sell at 2020-12-10 14:04:00 (Entry Price: 18204.77), exited at 2020-12-10 14:08:00 (Exit Price: 18137.01), Volume: 0.2140, Anomaly: 0.40%, P&L: 0.0008\n",
      "Trade executed: sell at 2020-12-11 15:07:00 (Entry Price: 18063.63), exited at 2020-12-11 15:36:00 (Exit Price: 18034.75), Volume: 0.2141, Anomaly: 0.10%, P&L: 0.0003\n",
      "Trade executed: sell at 2020-12-11 21:56:00 (Entry Price: 18097.24), exited at 2020-12-11 22:32:00 (Exit Price: 18099.25), Volume: 0.2142, Anomaly: 0.40%, P&L: -0.0000\n",
      "Trade executed: sell at 2020-12-12 00:26:00 (Entry Price: 18266.15), exited at 2020-12-12 01:22:00 (Exit Price: 18280.27), Volume: 0.2142, Anomaly: 0.20%, P&L: -0.0002\n",
      "Trade executed: sell at 2020-12-13 07:12:00 (Entry Price: 19068.41), exited at 2020-12-13 08:25:00 (Exit Price: 19210.60), Volume: 0.2142, Anomaly: 0.40%, P&L: -0.0016\n",
      "Trade executed: sell at 2020-12-13 16:18:00 (Entry Price: 19378.40), exited at 2020-12-13 16:47:00 (Exit Price: 19331.22), Volume: 0.2139, Anomaly: 0.40%, P&L: 0.0005\n",
      "Trade executed: sell at 2020-12-14 15:10:00 (Entry Price: 19258.80), exited at 2020-12-14 15:31:00 (Exit Price: 19218.01), Volume: 0.2140, Anomaly: 0.20%, P&L: 0.0005\n",
      "Trade executed: sell at 2020-12-15 02:14:00 (Entry Price: 19549.99), exited at 2020-12-15 02:49:00 (Exit Price: 19532.41), Volume: 0.2141, Anomaly: 0.40%, P&L: 0.0002\n",
      "Trade executed: sell at 2020-12-15 10:42:00 (Entry Price: 19252.42), exited at 2020-12-15 11:12:00 (Exit Price: 19265.67), Volume: 0.2141, Anomaly: 0.40%, P&L: -0.0001\n",
      "Trade executed: sell at 2020-12-16 13:58:00 (Entry Price: 20374.26), exited at 2020-12-16 14:39:00 (Exit Price: 20460.87), Volume: 0.2141, Anomaly: 0.30%, P&L: -0.0009\n",
      "Trade executed: sell at 2020-12-17 09:20:00 (Entry Price: 23443.90), exited at 2020-12-17 09:25:00 (Exit Price: 23034.46), Volume: 0.2139, Anomaly: 0.40%, P&L: 0.0037\n",
      "Trade executed: sell at 2020-12-17 13:08:00 (Entry Price: 23262.02), exited at 2020-12-17 13:53:00 (Exit Price: 23223.51), Volume: 0.2146, Anomaly: 0.40%, P&L: 0.0004\n",
      "Trade executed: sell at 2020-12-18 08:40:00 (Entry Price: 23297.32), exited at 2020-12-18 08:49:00 (Exit Price: 23117.61), Volume: 0.2147, Anomaly: 0.30%, P&L: 0.0017\n",
      "Trade executed: sell at 2020-12-18 21:16:00 (Entry Price: 22935.49), exited at 2020-12-18 21:50:00 (Exit Price: 22957.84), Volume: 0.2150, Anomaly: 0.10%, P&L: -0.0002\n",
      "Trade executed: sell at 2020-12-19 16:22:00 (Entry Price: 24120.70), exited at 2020-12-19 16:59:00 (Exit Price: 23978.65), Volume: 0.2150, Anomaly: 0.10%, P&L: 0.0013\n",
      "Trade executed: sell at 2020-12-20 20:29:00 (Entry Price: 24131.13), exited at 2020-12-20 21:02:00 (Exit Price: 24167.28), Volume: 0.2152, Anomaly: 0.10%, P&L: -0.0003\n",
      "Trade executed: sell at 2020-12-21 13:13:00 (Entry Price: 22563.82), exited at 2020-12-21 14:07:00 (Exit Price: 22705.68), Volume: 0.2152, Anomaly: 0.20%, P&L: -0.0014\n",
      "Trade executed: sell at 2020-12-21 14:59:00 (Entry Price: 23129.99), exited at 2020-12-21 15:23:00 (Exit Price: 23020.89), Volume: 0.2149, Anomaly: 0.00%, P&L: 0.0010\n",
      "Trade executed: sell at 2020-12-21 21:52:00 (Entry Price: 23110.72), exited at 2020-12-21 22:30:00 (Exit Price: 23130.67), Volume: 0.2151, Anomaly: 0.30%, P&L: -0.0002\n",
      "Trade executed: sell at 2020-12-22 01:52:00 (Entry Price: 22806.84), exited at 2020-12-22 02:31:00 (Exit Price: 22816.32), Volume: 0.2151, Anomaly: 0.40%, P&L: -0.0001\n",
      "Trade executed: sell at 2020-12-22 14:05:00 (Entry Price: 23586.40), exited at 2020-12-22 14:33:00 (Exit Price: 23487.22), Volume: 0.2151, Anomaly: 0.30%, P&L: 0.0009\n",
      "Trade executed: sell at 2020-12-23 12:45:00 (Entry Price: 23645.26), exited at 2020-12-23 13:32:00 (Exit Price: 23812.90), Volume: 0.2152, Anomaly: 0.40%, P&L: -0.0015\n",
      "Trade executed: sell at 2020-12-23 22:50:00 (Entry Price: 23366.31), exited at 2020-12-23 23:39:00 (Exit Price: 23341.96), Volume: 0.2149, Anomaly: 0.40%, P&L: 0.0002\n",
      "Trade executed: sell at 2020-12-24 22:42:00 (Entry Price: 23677.04), exited at 2020-12-24 23:22:00 (Exit Price: 23690.74), Volume: 0.2150, Anomaly: 0.40%, P&L: -0.0001\n",
      "Trade executed: sell at 2020-12-25 11:40:00 (Entry Price: 24503.28), exited at 2020-12-25 12:14:00 (Exit Price: 24518.02), Volume: 0.2150, Anomaly: 0.10%, P&L: -0.0001\n",
      "Trade executed: sell at 2020-12-26 01:56:00 (Entry Price: 24922.40), exited at 2020-12-26 02:24:00 (Exit Price: 24857.57), Volume: 0.2149, Anomaly: 0.40%, P&L: 0.0006\n",
      "Trade executed: sell at 2020-12-26 20:48:00 (Entry Price: 26306.33), exited at 2020-12-26 21:52:00 (Exit Price: 26581.00), Volume: 0.2150, Anomaly: 0.40%, P&L: -0.0022\n",
      "Trade executed: sell at 2020-12-27 11:19:00 (Entry Price: 28349.87), exited at 2020-12-27 11:35:00 (Exit Price: 27841.29), Volume: 0.2146, Anomaly: 0.30%, P&L: 0.0038\n",
      "Trade executed: sell at 2020-12-28 00:32:00 (Entry Price: 26750.01), exited at 2020-12-28 01:54:00 (Exit Price: 27178.79), Volume: 0.2154, Anomaly: 0.10%, P&L: -0.0035\n",
      "Trade executed: sell at 2020-12-28 23:02:00 (Entry Price: 26984.96), exited at 2020-12-29 00:02:00 (Exit Price: 27030.00), Volume: 0.2147, Anomaly: 0.40%, P&L: -0.0004\n",
      "Trade executed: sell at 2020-12-29 12:13:00 (Entry Price: 27040.55), exited at 2020-12-29 12:42:00 (Exit Price: 26990.00), Volume: 0.2146, Anomaly: 0.30%, P&L: 0.0004\n",
      "Trade executed: sell at 2020-12-30 06:46:00 (Entry Price: 28510.49), exited at 2020-12-30 07:16:00 (Exit Price: 28359.98), Volume: 0.2147, Anomaly: 0.40%, P&L: 0.0011\n",
      "Trade executed: sell at 2020-12-31 00:20:00 (Entry Price: 29333.40), exited at 2020-12-31 00:45:00 (Exit Price: 29172.92), Volume: 0.2149, Anomaly: 0.30%, P&L: 0.0012\n",
      "Trade executed: sell at 2020-12-31 09:45:00 (Entry Price: 29060.01), exited at 2020-12-31 10:52:00 (Exit Price: 29138.49), Volume: 0.2151, Anomaly: 0.20%, P&L: -0.0006\n",
      "Trade executed: sell at 2020-12-31 13:44:00 (Entry Price: 28543.75), exited at 2020-12-31 14:03:00 (Exit Price: 28398.37), Volume: 0.2150, Anomaly: 0.40%, P&L: 0.0011\n",
      "Trade executed: buy at 2021-01-01 13:00:00 (Entry Price: 29257.99), exited at 2021-01-01 13:29:00 (Exit Price: 29394.99), Volume: 0.2152, Anomaly: 0.30%, P&L: 0.0010\n",
      "Trade executed: buy at 2021-01-02 00:30:00 (Entry Price: 29048.96), exited at 2021-01-02 00:44:00 (Exit Price: 29213.00), Volume: 0.2154, Anomaly: 0.30%, P&L: 0.0012\n",
      "Trade executed: buy at 2021-01-02 21:02:00 (Entry Price: 31274.47), exited at 2021-01-02 21:19:00 (Exit Price: 31843.76), Volume: 0.2157, Anomaly: 0.10%, P&L: 0.0039\n",
      "Trade executed: sell at 2021-01-03 05:14:00 (Entry Price: 33991.32), exited at 2021-01-03 05:51:00 (Exit Price: 33879.04), Volume: 0.2165, Anomaly: 0.20%, P&L: 0.0007\n",
      "Trade executed: buy at 2021-01-04 10:25:00 (Entry Price: 29370.79), exited at 2021-01-04 10:46:00 (Exit Price: 29943.11), Volume: 0.2166, Anomaly: 0.30%, P&L: 0.0042\n",
      "Trade executed: buy at 2021-01-05 05:58:00 (Entry Price: 30454.49), exited at 2021-01-05 06:29:00 (Exit Price: 30570.02), Volume: 0.2175, Anomaly: 0.00%, P&L: 0.0008\n",
      "Trade executed: sell at 2021-01-06 04:32:00 (Entry Price: 35408.76), exited at 2021-01-06 05:10:00 (Exit Price: 35352.71), Volume: 0.2176, Anomaly: 0.30%, P&L: 0.0003\n",
      "Trade executed: buy at 2021-01-06 20:13:00 (Entry Price: 34489.79), exited at 2021-01-06 20:25:00 (Exit Price: 35169.28), Volume: 0.2177, Anomaly: 0.40%, P&L: 0.0043\n",
      "Trade executed: buy at 2021-01-07 18:50:00 (Entry Price: 37625.26), exited at 2021-01-07 19:00:00 (Exit Price: 38984.17), Volume: 0.2185, Anomaly: 0.20%, P&L: 0.0079\n",
      "Trade executed: buy at 2021-01-08 15:35:00 (Entry Price: 39973.09), exited at 2021-01-08 15:58:00 (Exit Price: 40906.88), Volume: 0.2201, Anomaly: 0.30%, P&L: 0.0051\n",
      "Trade executed: buy at 2021-01-08 20:47:00 (Entry Price: 39132.51), exited at 2021-01-08 21:12:00 (Exit Price: 39466.56), Volume: 0.2212, Anomaly: 0.40%, P&L: 0.0019\n",
      "Trade executed: sell at 2021-01-09 11:34:00 (Entry Price: 41120.00), exited at 2021-01-09 11:48:00 (Exit Price: 40567.60), Volume: 0.2215, Anomaly: 0.40%, P&L: 0.0030\n",
      "Trade executed: buy at 2021-01-10 17:41:00 (Entry Price: 37763.43), exited at 2021-01-10 17:55:00 (Exit Price: 38536.69), Volume: 0.2221, Anomaly: 0.10%, P&L: 0.0045\n",
      "Trade executed: buy at 2021-01-11 03:40:00 (Entry Price: 34411.43), exited at 2021-01-11 03:54:00 (Exit Price: 35290.85), Volume: 0.2230, Anomaly: 0.00%, P&L: 0.0057\n",
      "Trade executed: buy at 2021-01-11 14:15:00 (Entry Price: 31167.07), exited at 2021-01-11 14:23:00 (Exit Price: 32973.87), Volume: 0.2242, Anomaly: 0.40%, P&L: 0.0130\n",
      "Trade executed: buy at 2021-01-12 14:38:00 (Entry Price: 32718.61), exited at 2021-01-12 14:47:00 (Exit Price: 33532.01), Volume: 0.2268, Anomaly: 0.30%, P&L: 0.0056\n",
      "Trade executed: sell at 2021-01-13 03:18:00 (Entry Price: 34083.44), exited at 2021-01-13 03:48:00 (Exit Price: 33815.34), Volume: 0.2279, Anomaly: 0.30%, P&L: 0.0018\n",
      "Trade executed: sell at 2021-01-13 22:04:00 (Entry Price: 37770.01), exited at 2021-01-13 22:35:00 (Exit Price: 37429.37), Volume: 0.2283, Anomaly: 0.40%, P&L: 0.0021\n",
      "Trade executed: buy at 2021-01-14 21:31:00 (Entry Price: 38409.00), exited at 2021-01-14 21:56:00 (Exit Price: 38847.49), Volume: 0.2287, Anomaly: 0.40%, P&L: 0.0026\n",
      "Trade executed: buy at 2021-01-15 16:09:00 (Entry Price: 34605.21), exited at 2021-01-15 16:22:00 (Exit Price: 35817.64), Volume: 0.2292, Anomaly: 0.00%, P&L: 0.0080\n",
      "Trade executed: buy at 2021-01-16 12:33:00 (Entry Price: 37080.00), exited at 2021-01-16 12:56:00 (Exit Price: 37468.99), Volume: 0.2308, Anomaly: 0.40%, P&L: 0.0024\n",
      "Trade executed: sell at 2021-01-17 15:26:00 (Entry Price: 35850.06), exited at 2021-01-17 15:59:00 (Exit Price: 35728.49), Volume: 0.2313, Anomaly: 0.40%, P&L: 0.0008\n",
      "Trade executed: sell at 2021-01-18 07:22:00 (Entry Price: 36068.90), exited at 2021-01-18 07:59:00 (Exit Price: 36072.00), Volume: 0.2314, Anomaly: 0.40%, P&L: -0.0000\n",
      "Trade executed: sell at 2021-01-18 12:15:00 (Entry Price: 37332.13), exited at 2021-01-18 12:44:00 (Exit Price: 37064.84), Volume: 0.2314, Anomaly: 0.30%, P&L: 0.0017\n",
      "Trade executed: sell at 2021-01-19 16:14:00 (Entry Price: 37734.98), exited at 2021-01-19 16:36:00 (Exit Price: 37572.62), Volume: 0.2318, Anomaly: 0.00%, P&L: 0.0010\n",
      "Trade executed: buy at 2021-01-20 09:48:00 (Entry Price: 34700.47), exited at 2021-01-20 10:19:00 (Exit Price: 34837.34), Volume: 0.2320, Anomaly: 0.40%, P&L: 0.0009\n",
      "Trade executed: buy at 2021-01-20 16:10:00 (Entry Price: 33816.16), exited at 2021-01-20 16:20:00 (Exit Price: 34386.40), Volume: 0.2322, Anomaly: 0.20%, P&L: 0.0039\n",
      "Trade executed: buy at 2021-01-21 12:15:00 (Entry Price: 31445.62), exited at 2021-01-21 12:33:00 (Exit Price: 32177.26), Volume: 0.2329, Anomaly: 0.30%, P&L: 0.0054\n",
      "Trade executed: buy at 2021-01-22 00:36:00 (Entry Price: 29721.09), exited at 2021-01-22 00:50:00 (Exit Price: 30119.08), Volume: 0.2340, Anomaly: 0.10%, P&L: 0.0031\n",
      "Trade executed: sell at 2021-01-23 05:53:00 (Entry Price: 33211.47), exited at 2021-01-23 06:27:00 (Exit Price: 33114.52), Volume: 0.2346, Anomaly: 0.30%, P&L: 0.0007\n",
      "Trade executed: buy at 2021-01-23 11:32:00 (Entry Price: 31649.86), exited at 2021-01-23 12:02:00 (Exit Price: 31860.91), Volume: 0.2348, Anomaly: 0.40%, P&L: 0.0016\n",
      "Trade executed: sell at 2021-01-24 05:07:00 (Entry Price: 32915.00), exited at 2021-01-24 05:36:00 (Exit Price: 32785.81), Volume: 0.2351, Anomaly: 0.30%, P&L: 0.0009\n",
      "Trade executed: sell at 2021-01-25 03:54:00 (Entry Price: 33655.84), exited at 2021-01-25 04:23:00 (Exit Price: 33437.01), Volume: 0.2353, Anomaly: 0.40%, P&L: 0.0015\n",
      "Trade executed: sell at 2021-01-25 12:59:00 (Entry Price: 34246.49), exited at 2021-01-25 14:37:00 (Exit Price: 34632.78), Volume: 0.2356, Anomaly: 0.40%, P&L: -0.0027\n",
      "Trade executed: sell at 2021-01-26 10:17:00 (Entry Price: 32212.59), exited at 2021-01-26 10:51:00 (Exit Price: 32197.93), Volume: 0.2351, Anomaly: 0.40%, P&L: 0.0001\n",
      "Trade executed: sell at 2021-01-26 23:09:00 (Entry Price: 32702.45), exited at 2021-01-26 23:35:00 (Exit Price: 32603.90), Volume: 0.2351, Anomaly: 0.20%, P&L: 0.0007\n",
      "Trade executed: sell at 2021-01-27 19:19:00 (Entry Price: 30672.45), exited at 2021-01-27 19:51:00 (Exit Price: 30523.59), Volume: 0.2352, Anomaly: 0.30%, P&L: 0.0011\n",
      "Trade executed: sell at 2021-01-28 06:01:00 (Entry Price: 31759.85), exited at 2021-01-28 06:33:00 (Exit Price: 31700.00), Volume: 0.2354, Anomaly: 0.40%, P&L: 0.0004\n",
      "Trade executed: sell at 2021-01-29 09:03:00 (Entry Price: 36143.81), exited at 2021-01-29 09:45:00 (Exit Price: 36466.14), Volume: 0.2355, Anomaly: 0.10%, P&L: -0.0021\n",
      "Trade executed: buy at 2021-01-29 14:49:00 (Entry Price: 36891.45), exited at 2021-01-29 15:10:00 (Exit Price: 37406.72), Volume: 0.2351, Anomaly: 0.30%, P&L: 0.0033\n",
      "Trade executed: sell at 2021-01-30 08:09:00 (Entry Price: 34300.61), exited at 2021-01-30 08:35:00 (Exit Price: 34094.76), Volume: 0.2358, Anomaly: 0.20%, P&L: 0.0014\n",
      "Trade executed: sell at 2021-01-31 12:41:00 (Entry Price: 34050.00), exited at 2021-01-31 13:07:00 (Exit Price: 33926.36), Volume: 0.2361, Anomaly: 0.40%, P&L: 0.0009\n",
      "Trade executed: buy at 2021-02-01 00:21:00 (Entry Price: 32581.33), exited at 2021-02-01 00:56:00 (Exit Price: 32546.88), Volume: 0.2362, Anomaly: 0.00%, P&L: -0.0002\n",
      "Trade executed: sell at 2021-02-01 01:48:00 (Entry Price: 33410.08), exited at 2021-02-01 02:45:00 (Exit Price: 33540.00), Volume: 0.2362, Anomaly: 0.30%, P&L: -0.0009\n",
      "Trade executed: sell at 2021-02-01 09:07:00 (Entry Price: 34698.93), exited at 2021-02-01 09:35:00 (Exit Price: 34466.84), Volume: 0.2360, Anomaly: 0.40%, P&L: 0.0016\n",
      "Trade executed: sell at 2021-02-02 09:14:00 (Entry Price: 35396.91), exited at 2021-02-02 09:48:00 (Exit Price: 35310.00), Volume: 0.2363, Anomaly: 0.30%, P&L: 0.0006\n",
      "Trade executed: sell at 2021-02-03 00:33:00 (Entry Price: 36216.44), exited at 2021-02-03 01:09:00 (Exit Price: 36176.00), Volume: 0.2364, Anomaly: 0.40%, P&L: 0.0003\n",
      "Trade executed: sell at 2021-02-03 13:30:00 (Entry Price: 36667.79), exited at 2021-02-03 13:59:00 (Exit Price: 36528.52), Volume: 0.2365, Anomaly: 0.40%, P&L: 0.0009\n",
      "Trade executed: buy at 2021-02-04 09:11:00 (Entry Price: 37053.21), exited at 2021-02-04 09:48:00 (Exit Price: 37268.66), Volume: 0.2367, Anomaly: 0.40%, P&L: 0.0014\n",
      "Trade executed: sell at 2021-02-04 20:10:00 (Entry Price: 37720.72), exited at 2021-02-04 20:30:00 (Exit Price: 37536.88), Volume: 0.2369, Anomaly: 0.20%, P&L: 0.0012\n",
      "Trade executed: buy at 2021-02-04 22:28:00 (Entry Price: 37166.19), exited at 2021-02-04 22:54:00 (Exit Price: 37317.79), Volume: 0.2372, Anomaly: 0.00%, P&L: 0.0010\n",
      "Trade executed: buy at 2021-02-06 01:56:00 (Entry Price: 38747.56), exited at 2021-02-06 02:25:00 (Exit Price: 39062.90), Volume: 0.2374, Anomaly: 0.40%, P&L: 0.0019\n",
      "Trade executed: buy at 2021-02-06 18:11:00 (Entry Price: 40229.35), exited at 2021-02-06 18:25:00 (Exit Price: 40431.00), Volume: 0.2377, Anomaly: 0.40%, P&L: 0.0012\n",
      "Trade executed: buy at 2021-02-07 02:02:00 (Entry Price: 38715.79), exited at 2021-02-07 02:40:00 (Exit Price: 38720.00), Volume: 0.2380, Anomaly: 0.20%, P&L: 0.0000\n",
      "Trade executed: buy at 2021-02-07 15:25:00 (Entry Price: 37850.14), exited at 2021-02-07 15:45:00 (Exit Price: 38104.88), Volume: 0.2380, Anomaly: 0.40%, P&L: 0.0016\n",
      "Trade executed: sell at 2021-02-08 13:03:00 (Entry Price: 43674.24), exited at 2021-02-08 13:52:00 (Exit Price: 43554.88), Volume: 0.2383, Anomaly: 0.30%, P&L: 0.0007\n",
      "Trade executed: sell at 2021-02-09 00:12:00 (Entry Price: 46962.20), exited at 2021-02-09 00:53:00 (Exit Price: 46983.08), Volume: 0.2384, Anomaly: 0.40%, P&L: -0.0001\n",
      "Trade executed: sell at 2021-02-09 16:50:00 (Entry Price: 46933.83), exited at 2021-02-09 16:57:00 (Exit Price: 46651.49), Volume: 0.2384, Anomaly: 0.00%, P&L: 0.0014\n",
      "Trade executed: sell at 2021-02-09 18:47:00 (Entry Price: 47280.36), exited at 2021-02-09 18:54:00 (Exit Price: 47042.46), Volume: 0.2387, Anomaly: 0.40%, P&L: 0.0012\n",
      "Trade executed: buy at 2021-02-09 22:13:00 (Entry Price: 46775.49), exited at 2021-02-09 22:28:00 (Exit Price: 47058.51), Volume: 0.2389, Anomaly: 0.10%, P&L: 0.0014\n",
      "Trade executed: buy at 2021-02-10 12:44:00 (Entry Price: 45303.55), exited at 2021-02-10 13:02:00 (Exit Price: 45924.48), Volume: 0.2392, Anomaly: 0.40%, P&L: 0.0033\n",
      "Trade executed: sell at 2021-02-11 13:29:00 (Entry Price: 48385.62), exited at 2021-02-11 13:57:00 (Exit Price: 47843.94), Volume: 0.2399, Anomaly: 0.10%, P&L: 0.0027\n",
      "Trade executed: buy at 2021-02-11 21:01:00 (Entry Price: 47260.94), exited at 2021-02-11 22:02:00 (Exit Price: 47072.79), Volume: 0.2404, Anomaly: 0.20%, P&L: -0.0010\n",
      "Trade executed: buy at 2021-02-12 14:50:00 (Entry Price: 46530.58), exited at 2021-02-12 15:15:00 (Exit Price: 46930.61), Volume: 0.2402, Anomaly: 0.20%, P&L: 0.0021\n",
      "Trade executed: sell at 2021-02-13 12:27:00 (Entry Price: 47220.04), exited at 2021-02-13 12:49:00 (Exit Price: 46941.09), Volume: 0.2406, Anomaly: 0.40%, P&L: 0.0014\n",
      "Trade executed: sell at 2021-02-14 06:07:00 (Entry Price: 49342.16), exited at 2021-02-14 06:29:00 (Exit Price: 48874.84), Volume: 0.2409, Anomaly: 0.40%, P&L: 0.0023\n",
      "Trade executed: buy at 2021-02-15 02:31:00 (Entry Price: 46103.38), exited at 2021-02-15 02:55:00 (Exit Price: 47159.72), Volume: 0.2414, Anomaly: 0.40%, P&L: 0.0055\n",
      "Trade executed: buy at 2021-02-15 22:10:00 (Entry Price: 47947.01), exited at 2021-02-15 22:36:00 (Exit Price: 48288.24), Volume: 0.2425, Anomaly: 0.10%, P&L: 0.0017\n",
      "Trade executed: sell at 2021-02-16 12:34:00 (Entry Price: 50583.95), exited at 2021-02-16 12:40:00 (Exit Price: 49232.00), Volume: 0.2428, Anomaly: 0.20%, P&L: 0.0065\n",
      "Trade executed: sell at 2021-02-17 02:27:00 (Entry Price: 50041.80), exited at 2021-02-17 02:47:00 (Exit Price: 49886.63), Volume: 0.2441, Anomaly: 0.30%, P&L: 0.0008\n",
      "Trade executed: sell at 2021-02-17 15:12:00 (Entry Price: 51602.97), exited at 2021-02-17 15:32:00 (Exit Price: 51211.99), Volume: 0.2443, Anomaly: 0.40%, P&L: 0.0019\n",
      "Trade executed: sell at 2021-02-18 08:08:00 (Entry Price: 52095.69), exited at 2021-02-18 08:21:00 (Exit Price: 51825.60), Volume: 0.2447, Anomaly: 0.10%, P&L: 0.0013\n",
      "Trade executed: sell at 2021-02-19 09:16:00 (Entry Price: 52749.09), exited at 2021-02-19 09:58:00 (Exit Price: 52804.02), Volume: 0.2449, Anomaly: 0.10%, P&L: -0.0003\n",
      "Trade executed: sell at 2021-02-19 19:07:00 (Entry Price: 55660.01), exited at 2021-02-19 19:21:00 (Exit Price: 55136.15), Volume: 0.2449, Anomaly: 0.30%, P&L: 0.0023\n",
      "Trade executed: sell at 2021-02-20 12:19:00 (Entry Price: 56951.38), exited at 2021-02-20 13:08:00 (Exit Price: 57283.22), Volume: 0.2453, Anomaly: 0.40%, P&L: -0.0014\n",
      "Trade executed: buy at 2021-02-20 15:02:00 (Entry Price: 56603.84), exited at 2021-02-20 16:01:00 (Exit Price: 56339.49), Volume: 0.2450, Anomaly: 0.20%, P&L: -0.0011\n",
      "Trade executed: buy at 2021-02-20 22:46:00 (Entry Price: 55229.99), exited at 2021-02-20 23:01:00 (Exit Price: 55787.72), Volume: 0.2448, Anomaly: 0.40%, P&L: 0.0025\n",
      "Trade executed: buy at 2021-02-22 00:24:00 (Entry Price: 56688.25), exited at 2021-02-22 01:07:00 (Exit Price: 56749.99), Volume: 0.2453, Anomaly: 0.20%, P&L: 0.0003\n",
      "Trade executed: buy at 2021-02-22 14:20:00 (Entry Price: 50211.76), exited at 2021-02-22 14:34:00 (Exit Price: 51758.76), Volume: 0.2454, Anomaly: 0.30%, P&L: 0.0076\n",
      "Trade executed: sell at 2021-02-23 12:58:00 (Entry Price: 49161.51), exited at 2021-02-23 13:27:00 (Exit Price: 48555.58), Volume: 0.2469, Anomaly: 0.30%, P&L: 0.0030\n",
      "Trade executed: buy at 2021-02-23 14:53:00 (Entry Price: 46283.78), exited at 2021-02-23 15:04:00 (Exit Price: 47875.12), Volume: 0.2475, Anomaly: 0.20%, P&L: 0.0085\n",
      "Trade executed: buy at 2021-02-24 13:31:00 (Entry Price: 49610.55), exited at 2021-02-24 14:01:00 (Exit Price: 49679.15), Volume: 0.2492, Anomaly: 0.40%, P&L: 0.0003\n",
      "Trade executed: sell at 2021-02-25 13:10:00 (Entry Price: 51935.06), exited at 2021-02-25 13:32:00 (Exit Price: 51271.87), Volume: 0.2492, Anomaly: 0.40%, P&L: 0.0032\n",
      "Trade executed: buy at 2021-02-25 23:53:00 (Entry Price: 47357.64), exited at 2021-02-26 00:14:00 (Exit Price: 47518.04), Volume: 0.2499, Anomaly: 0.20%, P&L: 0.0008\n",
      "Trade executed: buy at 2021-02-26 07:37:00 (Entry Price: 44687.18), exited at 2021-02-26 08:01:00 (Exit Price: 45120.31), Volume: 0.2501, Anomaly: 0.40%, P&L: 0.0024\n",
      "Trade executed: sell at 2021-02-26 15:53:00 (Entry Price: 47816.80), exited at 2021-02-26 16:35:00 (Exit Price: 47794.55), Volume: 0.2505, Anomaly: 0.40%, P&L: 0.0001\n",
      "Trade executed: buy at 2021-02-27 07:11:00 (Entry Price: 47132.35), exited at 2021-02-27 07:49:00 (Exit Price: 47257.77), Volume: 0.2506, Anomaly: 0.30%, P&L: 0.0007\n",
      "Trade executed: buy at 2021-02-27 23:09:00 (Entry Price: 45526.67), exited at 2021-02-27 23:39:00 (Exit Price: 45710.77), Volume: 0.2507, Anomaly: 0.30%, P&L: 0.0010\n",
      "Trade executed: sell at 2021-03-01 00:32:00 (Entry Price: 46392.11), exited at 2021-03-01 01:03:00 (Exit Price: 46196.45), Volume: 0.2509, Anomaly: 0.40%, P&L: 0.0011\n",
      "Trade executed: sell at 2021-03-01 15:47:00 (Entry Price: 49229.14), exited at 2021-03-01 16:09:00 (Exit Price: 48880.48), Volume: 0.2511, Anomaly: 0.20%, P&L: 0.0018\n",
      "Trade executed: buy at 2021-03-01 20:42:00 (Entry Price: 48136.67), exited at 2021-03-01 20:58:00 (Exit Price: 48439.13), Volume: 0.2515, Anomaly: 0.40%, P&L: 0.0016\n",
      "Trade executed: buy at 2021-03-02 16:48:00 (Entry Price: 47892.46), exited at 2021-03-02 17:26:00 (Exit Price: 47748.60), Volume: 0.2518, Anomaly: 0.20%, P&L: -0.0008\n",
      "Trade executed: sell at 2021-03-03 08:33:00 (Entry Price: 50614.39), exited at 2021-03-03 10:22:00 (Exit Price: 51307.00), Volume: 0.2516, Anomaly: 0.10%, P&L: -0.0034\n",
      "Trade executed: buy at 2021-03-03 19:26:00 (Entry Price: 50424.80), exited at 2021-03-03 19:43:00 (Exit Price: 50783.93), Volume: 0.2509, Anomaly: 0.40%, P&L: 0.0018\n",
      "Trade executed: buy at 2021-03-04 09:32:00 (Entry Price: 48806.43), exited at 2021-03-04 10:02:00 (Exit Price: 49051.68), Volume: 0.2513, Anomaly: 0.20%, P&L: 0.0013\n",
      "Trade executed: buy at 2021-03-05 00:22:00 (Entry Price: 46871.65), exited at 2021-03-05 01:03:00 (Exit Price: 46994.76), Volume: 0.2516, Anomaly: 0.40%, P&L: 0.0007\n",
      "Trade executed: sell at 2021-03-05 13:59:00 (Entry Price: 48116.73), exited at 2021-03-05 14:40:00 (Exit Price: 48195.48), Volume: 0.2517, Anomaly: 0.00%, P&L: -0.0004\n",
      "Trade executed: buy at 2021-03-06 12:21:00 (Entry Price: 47607.48), exited at 2021-03-06 12:44:00 (Exit Price: 47817.70), Volume: 0.2516, Anomaly: 0.30%, P&L: 0.0011\n",
      "Trade executed: sell at 2021-03-07 08:13:00 (Entry Price: 50590.00), exited at 2021-03-07 08:48:00 (Exit Price: 50520.12), Volume: 0.2518, Anomaly: 0.30%, P&L: 0.0003\n",
      "Trade executed: buy at 2021-03-07 14:32:00 (Entry Price: 50393.67), exited at 2021-03-07 14:58:00 (Exit Price: 50593.63), Volume: 0.2519, Anomaly: 0.40%, P&L: 0.0010\n",
      "Trade executed: buy at 2021-03-08 07:26:00 (Entry Price: 49850.15), exited at 2021-03-08 07:49:00 (Exit Price: 49968.91), Volume: 0.2521, Anomaly: 0.00%, P&L: 0.0006\n",
      "Trade executed: buy at 2021-03-08 15:00:00 (Entry Price: 50784.37), exited at 2021-03-08 15:08:00 (Exit Price: 50811.36), Volume: 0.2522, Anomaly: 0.40%, P&L: 0.0001\n",
      "Trade executed: sell at 2021-03-09 01:39:00 (Entry Price: 53333.02), exited at 2021-03-09 02:12:00 (Exit Price: 53376.00), Volume: 0.2522, Anomaly: 0.10%, P&L: -0.0002\n",
      "Trade executed: buy at 2021-03-10 02:12:00 (Entry Price: 53873.26), exited at 2021-03-10 02:52:00 (Exit Price: 54059.74), Volume: 0.2522, Anomaly: 0.40%, P&L: 0.0009\n",
      "Trade executed: sell at 2021-03-10 21:38:00 (Entry Price: 56558.22), exited at 2021-03-10 22:18:00 (Exit Price: 56740.38), Volume: 0.2524, Anomaly: 0.30%, P&L: -0.0008\n",
      "Trade executed: buy at 2021-03-10 23:10:00 (Entry Price: 56358.63), exited at 2021-03-10 23:46:00 (Exit Price: 56386.00), Volume: 0.2522, Anomaly: 0.00%, P&L: 0.0001\n",
      "Trade executed: buy at 2021-03-11 08:13:00 (Entry Price: 54770.16), exited at 2021-03-11 08:35:00 (Exit Price: 54929.84), Volume: 0.2522, Anomaly: 0.20%, P&L: 0.0007\n",
      "Trade executed: buy at 2021-03-12 00:41:00 (Entry Price: 56989.79), exited at 2021-03-12 00:55:00 (Exit Price: 57518.82), Volume: 0.2524, Anomaly: 0.40%, P&L: 0.0023\n",
      "Trade executed: buy at 2021-03-12 13:13:00 (Entry Price: 55694.00), exited at 2021-03-12 13:46:00 (Exit Price: 55811.86), Volume: 0.2529, Anomaly: 0.40%, P&L: 0.0005\n",
      "Trade executed: sell at 2021-03-13 10:26:00 (Entry Price: 59612.99), exited at 2021-03-13 11:52:00 (Exit Price: 59870.93), Volume: 0.2530, Anomaly: 0.30%, P&L: -0.0011\n",
      "Trade executed: buy at 2021-03-13 21:20:00 (Entry Price: 61081.95), exited at 2021-03-13 22:00:00 (Exit Price: 61259.06), Volume: 0.2527, Anomaly: 0.40%, P&L: 0.0007\n",
      "Trade executed: buy at 2021-03-15 00:01:00 (Entry Price: 59329.23), exited at 2021-03-15 00:19:00 (Exit Price: 59796.98), Volume: 0.2529, Anomaly: 0.20%, P&L: 0.0020\n",
      "Trade executed: buy at 2021-03-15 09:34:00 (Entry Price: 56140.98), exited at 2021-03-15 10:09:00 (Exit Price: 56054.14), Volume: 0.2533, Anomaly: 0.30%, P&L: -0.0004\n",
      "Trade executed: buy at 2021-03-16 00:36:00 (Entry Price: 54869.76), exited at 2021-03-16 01:29:00 (Exit Price: 54182.59), Volume: 0.2532, Anomaly: 0.10%, P&L: -0.0032\n",
      "Trade executed: sell at 2021-03-17 00:09:00 (Entry Price: 56969.46), exited at 2021-03-17 00:23:00 (Exit Price: 56568.45), Volume: 0.2526, Anomaly: 0.30%, P&L: 0.0018\n",
      "Trade executed: sell at 2021-03-17 18:21:00 (Entry Price: 56708.18), exited at 2021-03-17 19:53:00 (Exit Price: 57731.37), Volume: 0.2529, Anomaly: 0.40%, P&L: -0.0046\n",
      "Trade executed: sell at 2021-03-17 21:45:00 (Entry Price: 58456.44), exited at 2021-03-17 22:24:00 (Exit Price: 58519.36), Volume: 0.2520, Anomaly: 0.30%, P&L: -0.0003\n",
      "Trade executed: buy at 2021-03-19 00:25:00 (Entry Price: 56489.24), exited at 2021-03-19 00:51:00 (Exit Price: 57041.63), Volume: 0.2520, Anomaly: 0.30%, P&L: 0.0025\n",
      "Trade executed: buy at 2021-03-19 20:46:00 (Entry Price: 58370.17), exited at 2021-03-19 21:10:00 (Exit Price: 58630.93), Volume: 0.2525, Anomaly: 0.30%, P&L: 0.0011\n",
      "Trade executed: buy at 2021-03-20 13:59:00 (Entry Price: 58999.99), exited at 2021-03-20 14:26:00 (Exit Price: 59309.30), Volume: 0.2527, Anomaly: 0.20%, P&L: 0.0013\n",
      "Trade executed: buy at 2021-03-20 20:31:00 (Entry Price: 58595.35), exited at 2021-03-20 21:09:00 (Exit Price: 58547.83), Volume: 0.2529, Anomaly: 0.20%, P&L: -0.0002\n",
      "Trade executed: buy at 2021-03-21 09:59:00 (Entry Price: 55981.70), exited at 2021-03-21 10:22:00 (Exit Price: 56303.08), Volume: 0.2529, Anomaly: 0.20%, P&L: 0.0015\n",
      "Trade executed: sell at 2021-03-22 10:22:00 (Entry Price: 58159.62), exited at 2021-03-22 10:57:00 (Exit Price: 58134.94), Volume: 0.2532, Anomaly: 0.30%, P&L: 0.0001\n",
      "Trade executed: buy at 2021-03-22 20:53:00 (Entry Price: 54799.99), exited at 2021-03-22 21:35:00 (Exit Price: 54833.59), Volume: 0.2532, Anomaly: 0.40%, P&L: 0.0002\n",
      "Trade executed: sell at 2021-03-23 12:20:00 (Entry Price: 55012.62), exited at 2021-03-23 12:55:00 (Exit Price: 55034.77), Volume: 0.2532, Anomaly: 0.30%, P&L: -0.0001\n",
      "Trade executed: sell at 2021-03-24 06:50:00 (Entry Price: 54877.63), exited at 2021-03-24 07:33:00 (Exit Price: 55091.39), Volume: 0.2532, Anomaly: 0.20%, P&L: -0.0010\n",
      "Trade executed: buy at 2021-03-24 22:27:00 (Entry Price: 52176.83), exited at 2021-03-24 22:57:00 (Exit Price: 52723.64), Volume: 0.2530, Anomaly: 0.20%, P&L: 0.0027\n",
      "Trade executed: buy at 2021-03-25 12:29:00 (Entry Price: 50810.08), exited at 2021-03-25 12:52:00 (Exit Price: 51322.11), Volume: 0.2536, Anomaly: 0.40%, P&L: 0.0026\n",
      "Trade executed: sell at 2021-03-26 07:50:00 (Entry Price: 53289.95), exited at 2021-03-26 08:38:00 (Exit Price: 53528.79), Volume: 0.2541, Anomaly: 0.00%, P&L: -0.0011\n",
      "Trade executed: sell at 2021-03-27 00:12:00 (Entry Price: 55389.11), exited at 2021-03-27 00:39:00 (Exit Price: 55233.87), Volume: 0.2538, Anomaly: 0.40%, P&L: 0.0007\n",
      "Trade executed: sell at 2021-03-27 16:22:00 (Entry Price: 55651.25), exited at 2021-03-27 17:21:00 (Exit Price: 55861.93), Volume: 0.2540, Anomaly: 0.30%, P&L: -0.0010\n",
      "Trade executed: sell at 2021-03-28 15:34:00 (Entry Price: 56155.55), exited at 2021-03-28 16:09:00 (Exit Price: 56210.01), Volume: 0.2538, Anomaly: 0.30%, P&L: -0.0002\n",
      "Trade executed: buy at 2021-03-28 19:18:00 (Entry Price: 54815.00), exited at 2021-03-28 19:40:00 (Exit Price: 55103.17), Volume: 0.2537, Anomaly: 0.10%, P&L: 0.0013\n",
      "Trade executed: sell at 2021-03-29 09:05:00 (Entry Price: 57266.52), exited at 2021-03-29 10:31:00 (Exit Price: 58000.02), Volume: 0.2540, Anomaly: 0.30%, P&L: -0.0033\n",
      "Trade executed: sell at 2021-03-29 17:22:00 (Entry Price: 58107.22), exited at 2021-03-29 17:40:00 (Exit Price: 57901.36), Volume: 0.2534, Anomaly: 0.30%, P&L: 0.0009\n",
      "Trade executed: sell at 2021-03-30 09:50:00 (Entry Price: 58840.08), exited at 2021-03-30 10:33:00 (Exit Price: 59071.19), Volume: 0.2535, Anomaly: 0.40%, P&L: -0.0010\n",
      "Trade executed: buy at 2021-03-31 08:08:00 (Entry Price: 57422.39), exited at 2021-03-31 08:32:00 (Exit Price: 58190.90), Volume: 0.2533, Anomaly: 0.30%, P&L: 0.0034\n",
      "Trade executed: buy at 2021-03-31 19:41:00 (Entry Price: 59194.49), exited at 2021-03-31 20:29:00 (Exit Price: 58928.85), Volume: 0.2540, Anomaly: 0.40%, P&L: -0.0011\n",
      "Trade executed: sell at 2021-04-02 02:41:00 (Entry Price: 60108.54), exited at 2021-04-02 02:54:00 (Exit Price: 59643.21), Volume: 0.2538, Anomaly: 0.00%, P&L: 0.0020\n",
      "Trade executed: buy at 2021-04-02 19:15:00 (Entry Price: 58859.83), exited at 2021-04-02 19:39:00 (Exit Price: 58955.48), Volume: 0.2542, Anomaly: 0.30%, P&L: 0.0004\n",
      "Trade executed: buy at 2021-04-03 08:50:00 (Entry Price: 59195.72), exited at 2021-04-03 09:19:00 (Exit Price: 59229.93), Volume: 0.2543, Anomaly: 0.30%, P&L: 0.0001\n",
      "Trade executed: buy at 2021-04-03 22:05:00 (Entry Price: 57534.39), exited at 2021-04-03 22:22:00 (Exit Price: 57818.26), Volume: 0.2543, Anomaly: 0.10%, P&L: 0.0013\n",
      "Trade executed: sell at 2021-04-04 12:27:00 (Entry Price: 57769.41), exited at 2021-04-04 12:58:00 (Exit Price: 57800.99), Volume: 0.2545, Anomaly: 0.00%, P&L: -0.0001\n",
      "Trade executed: sell at 2021-04-05 14:42:00 (Entry Price: 58966.71), exited at 2021-04-05 15:22:00 (Exit Price: 58992.80), Volume: 0.2545, Anomaly: 0.40%, P&L: -0.0001\n",
      "Trade executed: sell at 2021-04-06 00:12:00 (Entry Price: 59529.54), exited at 2021-04-06 00:44:00 (Exit Price: 59280.89), Volume: 0.2545, Anomaly: 0.30%, P&L: 0.0011\n",
      "Trade executed: buy at 2021-04-06 14:26:00 (Entry Price: 57740.22), exited at 2021-04-06 14:49:00 (Exit Price: 57945.95), Volume: 0.2547, Anomaly: 0.30%, P&L: 0.0009\n",
      "Trade executed: buy at 2021-04-07 11:42:00 (Entry Price: 56268.32), exited at 2021-04-07 12:10:00 (Exit Price: 56275.96), Volume: 0.2549, Anomaly: 0.10%, P&L: 0.0000\n",
      "Trade executed: sell at 2021-04-07 20:04:00 (Entry Price: 56194.46), exited at 2021-04-07 20:16:00 (Exit Price: 56011.51), Volume: 0.2549, Anomaly: 0.00%, P&L: 0.0008\n",
      "Trade executed: buy at 2021-04-08 00:23:00 (Entry Price: 56175.99), exited at 2021-04-08 00:24:00 (Exit Price: 56224.41), Volume: 0.2551, Anomaly: 0.40%, P&L: 0.0002\n",
      "Trade executed: sell at 2021-04-08 12:51:00 (Entry Price: 57508.49), exited at 2021-04-08 13:23:00 (Exit Price: 57357.00), Volume: 0.2551, Anomaly: 0.30%, P&L: 0.0007\n",
      "Trade executed: sell at 2021-04-09 10:22:00 (Entry Price: 58558.41), exited at 2021-04-09 11:06:00 (Exit Price: 58543.91), Volume: 0.2552, Anomaly: 0.10%, P&L: 0.0001\n",
      "Trade executed: sell at 2021-04-10 04:27:00 (Entry Price: 61025.51), exited at 2021-04-10 05:31:00 (Exit Price: 61054.03), Volume: 0.2553, Anomaly: 0.10%, P&L: -0.0001\n",
      "Trade executed: buy at 2021-04-10 21:02:00 (Entry Price: 58865.32), exited at 2021-04-10 21:22:00 (Exit Price: 59072.13), Volume: 0.2552, Anomaly: 0.10%, P&L: 0.0009\n",
      "Trade executed: buy at 2021-04-11 19:42:00 (Entry Price: 59851.18), exited at 2021-04-11 20:14:00 (Exit Price: 59806.88), Volume: 0.2554, Anomaly: 0.40%, P&L: -0.0002\n",
      "Trade executed: buy at 2021-04-12 09:59:00 (Entry Price: 60119.34), exited at 2021-04-12 11:03:00 (Exit Price: 59947.97), Volume: 0.2554, Anomaly: 0.00%, P&L: -0.0007\n",
      "Trade executed: sell at 2021-04-13 00:23:00 (Entry Price: 60349.70), exited at 2021-04-13 01:16:00 (Exit Price: 60404.51), Volume: 0.2552, Anomaly: 0.40%, P&L: -0.0002\n",
      "Trade executed: sell at 2021-04-13 08:29:00 (Entry Price: 62551.99), exited at 2021-04-13 09:08:00 (Exit Price: 62662.09), Volume: 0.2552, Anomaly: 0.30%, P&L: -0.0004\n",
      "Trade executed: buy at 2021-04-14 14:21:00 (Entry Price: 63100.56), exited at 2021-04-14 14:34:00 (Exit Price: 63500.86), Volume: 0.2551, Anomaly: 0.00%, P&L: 0.0016\n",
      "Trade executed: buy at 2021-04-14 18:01:00 (Entry Price: 62309.00), exited at 2021-04-14 18:27:00 (Exit Price: 62589.99), Volume: 0.2554, Anomaly: 0.40%, P&L: 0.0012\n",
      "Trade executed: buy at 2021-04-14 19:41:00 (Entry Price: 61594.98), exited at 2021-04-14 19:55:00 (Exit Price: 62126.40), Volume: 0.2556, Anomaly: 0.30%, P&L: 0.0022\n",
      "Trade executed: sell at 2021-04-15 19:40:00 (Entry Price: 63351.51), exited at 2021-04-15 20:14:00 (Exit Price: 63360.32), Volume: 0.2561, Anomaly: 0.30%, P&L: -0.0000\n",
      "Trade executed: buy at 2021-04-16 04:47:00 (Entry Price: 62101.85), exited at 2021-04-16 05:19:00 (Exit Price: 62185.71), Volume: 0.2561, Anomaly: 0.30%, P&L: 0.0003\n",
      "Trade executed: sell at 2021-04-16 19:01:00 (Entry Price: 61819.33), exited at 2021-04-16 19:20:00 (Exit Price: 61630.39), Volume: 0.2561, Anomaly: 0.30%, P&L: 0.0008\n",
      "Trade executed: sell at 2021-04-17 01:13:00 (Entry Price: 61760.12), exited at 2021-04-17 02:59:00 (Exit Price: 62227.00), Volume: 0.2563, Anomaly: 0.20%, P&L: -0.0019\n",
      "Trade executed: buy at 2021-04-17 18:04:00 (Entry Price: 59844.67), exited at 2021-04-17 18:17:00 (Exit Price: 60285.69), Volume: 0.2559, Anomaly: 0.30%, P&L: 0.0019\n",
      "Trade executed: buy at 2021-04-18 03:40:00 (Entry Price: 53902.71), exited at 2021-04-18 04:01:00 (Exit Price: 55115.76), Volume: 0.2563, Anomaly: 0.00%, P&L: 0.0058\n",
      "Trade executed: sell at 2021-04-18 22:09:00 (Entry Price: 56323.68), exited at 2021-04-18 22:20:00 (Exit Price: 56036.51), Volume: 0.2574, Anomaly: 0.40%, P&L: 0.0013\n",
      "Trade executed: buy at 2021-04-20 02:39:00 (Entry Price: 53919.25), exited at 2021-04-20 02:59:00 (Exit Price: 54175.44), Volume: 0.2577, Anomaly: 0.30%, P&L: 0.0012\n",
      "Trade executed: sell at 2021-04-20 08:03:00 (Entry Price: 54321.98), exited at 2021-04-20 08:40:00 (Exit Price: 54580.83), Volume: 0.2580, Anomaly: 0.40%, P&L: -0.0012\n",
      "Trade executed: sell at 2021-04-20 10:41:00 (Entry Price: 56010.79), exited at 2021-04-20 11:07:00 (Exit Price: 55892.13), Volume: 0.2577, Anomaly: 0.30%, P&L: 0.0005\n",
      "Trade executed: sell at 2021-04-21 12:33:00 (Entry Price: 55349.76), exited at 2021-04-21 13:12:00 (Exit Price: 55322.52), Volume: 0.2578, Anomaly: 0.40%, P&L: 0.0001\n",
      "Trade executed: buy at 2021-04-22 02:16:00 (Entry Price: 53116.75), exited at 2021-04-22 02:33:00 (Exit Price: 53584.65), Volume: 0.2578, Anomaly: 0.40%, P&L: 0.0023\n",
      "Trade executed: sell at 2021-04-22 11:33:00 (Entry Price: 55093.72), exited at 2021-04-22 12:08:00 (Exit Price: 54860.00), Volume: 0.2583, Anomaly: 0.40%, P&L: 0.0011\n",
      "Trade executed: buy at 2021-04-23 02:28:00 (Entry Price: 49415.63), exited at 2021-04-23 02:53:00 (Exit Price: 50106.78), Volume: 0.2585, Anomaly: 0.40%, P&L: 0.0036\n",
      "Trade executed: sell at 2021-04-23 18:44:00 (Entry Price: 50708.94), exited at 2021-04-23 19:11:00 (Exit Price: 50488.71), Volume: 0.2592, Anomaly: 0.30%, P&L: 0.0011\n",
      "Trade executed: sell at 2021-04-24 15:37:00 (Entry Price: 49974.99), exited at 2021-04-24 16:12:00 (Exit Price: 49944.18), Volume: 0.2595, Anomaly: 0.40%, P&L: 0.0002\n",
      "Trade executed: sell at 2021-04-25 08:58:00 (Entry Price: 50137.51), exited at 2021-04-25 09:11:00 (Exit Price: 49930.34), Volume: 0.2595, Anomaly: 0.40%, P&L: 0.0011\n",
      "Trade executed: buy at 2021-04-25 21:03:00 (Entry Price: 47905.16), exited at 2021-04-25 22:04:00 (Exit Price: 47805.85), Volume: 0.2597, Anomaly: 0.30%, P&L: -0.0005\n",
      "Trade executed: sell at 2021-04-26 22:26:00 (Entry Price: 53896.22), exited at 2021-04-26 22:38:00 (Exit Price: 53526.93), Volume: 0.2596, Anomaly: 0.20%, P&L: 0.0018\n",
      "Trade executed: sell at 2021-04-27 06:22:00 (Entry Price: 54591.88), exited at 2021-04-27 07:04:00 (Exit Price: 54622.00), Volume: 0.2600, Anomaly: 0.40%, P&L: -0.0001\n",
      "Trade executed: sell at 2021-04-28 11:14:00 (Entry Price: 54738.56), exited at 2021-04-28 11:52:00 (Exit Price: 54833.00), Volume: 0.2599, Anomaly: 0.40%, P&L: -0.0004\n",
      "Trade executed: buy at 2021-04-28 20:32:00 (Entry Price: 54681.37), exited at 2021-04-28 21:16:00 (Exit Price: 54486.92), Volume: 0.2598, Anomaly: 0.40%, P&L: -0.0009\n",
      "Trade executed: sell at 2021-04-29 09:29:00 (Entry Price: 54540.00), exited at 2021-04-29 10:11:00 (Exit Price: 54600.47), Volume: 0.2597, Anomaly: 0.20%, P&L: -0.0003\n",
      "Trade executed: sell at 2021-04-29 20:36:00 (Entry Price: 53224.07), exited at 2021-04-29 20:44:00 (Exit Price: 52822.26), Volume: 0.2596, Anomaly: 0.40%, P&L: 0.0020\n",
      "Trade executed: sell at 2021-04-30 14:02:00 (Entry Price: 56031.89), exited at 2021-04-30 14:47:00 (Exit Price: 56020.00), Volume: 0.2600, Anomaly: 0.30%, P&L: 0.0001\n",
      "Trade executed: sell at 2021-04-30 15:36:00 (Entry Price: 56850.50), exited at 2021-04-30 16:14:00 (Exit Price: 56904.99), Volume: 0.2600, Anomaly: 0.20%, P&L: -0.0002\n",
      "Trade executed: sell at 2021-05-01 09:37:00 (Entry Price: 57811.91), exited at 2021-05-01 09:51:00 (Exit Price: 57560.09), Volume: 0.2600, Anomaly: 0.40%, P&L: 0.0011\n",
      "Trade executed: buy at 2021-05-02 03:44:00 (Entry Price: 56787.88), exited at 2021-05-02 04:17:00 (Exit Price: 56749.37), Volume: 0.2602, Anomaly: 0.40%, P&L: -0.0002\n",
      "Trade executed: sell at 2021-05-03 07:42:00 (Entry Price: 58753.04), exited at 2021-05-03 08:15:00 (Exit Price: 58690.53), Volume: 0.2601, Anomaly: 0.20%, P&L: 0.0003\n",
      "Trade executed: buy at 2021-05-04 01:06:00 (Entry Price: 55228.61), exited at 2021-05-04 01:34:00 (Exit Price: 55678.22), Volume: 0.2602, Anomaly: 0.40%, P&L: 0.0021\n",
      "Trade executed: buy at 2021-05-04 15:23:00 (Entry Price: 53786.60), exited at 2021-05-04 15:44:00 (Exit Price: 54493.15), Volume: 0.2606, Anomaly: 0.40%, P&L: 0.0034\n",
      "Trade executed: sell at 2021-05-05 00:48:00 (Entry Price: 54738.51), exited at 2021-05-05 01:28:00 (Exit Price: 54783.02), Volume: 0.2613, Anomaly: 0.30%, P&L: -0.0002\n",
      "Trade executed: sell at 2021-05-05 15:03:00 (Entry Price: 57201.91), exited at 2021-05-05 15:39:00 (Exit Price: 57070.01), Volume: 0.2613, Anomaly: 0.40%, P&L: 0.0006\n",
      "Trade executed: buy at 2021-05-06 18:47:00 (Entry Price: 55898.46), exited at 2021-05-06 19:32:00 (Exit Price: 55824.01), Volume: 0.2614, Anomaly: 0.40%, P&L: -0.0003\n",
      "Trade executed: sell at 2021-05-07 12:49:00 (Entry Price: 57308.30), exited at 2021-05-07 13:18:00 (Exit Price: 57229.30), Volume: 0.2613, Anomaly: 0.30%, P&L: 0.0004\n",
      "Trade executed: sell at 2021-05-07 17:07:00 (Entry Price: 58678.28), exited at 2021-05-07 17:35:00 (Exit Price: 58308.70), Volume: 0.2614, Anomaly: 0.40%, P&L: 0.0016\n",
      "Trade executed: sell at 2021-05-08 08:21:00 (Entry Price: 59342.00), exited at 2021-05-08 08:46:00 (Exit Price: 59077.98), Volume: 0.2617, Anomaly: 0.30%, P&L: 0.0012\n",
      "Trade executed: buy at 2021-05-09 12:27:00 (Entry Price: 56983.81), exited at 2021-05-09 13:13:00 (Exit Price: 56986.27), Volume: 0.2619, Anomaly: 0.40%, P&L: 0.0000\n",
      "Trade executed: sell at 2021-05-10 01:00:00 (Entry Price: 58913.17), exited at 2021-05-10 01:28:00 (Exit Price: 58748.27), Volume: 0.2620, Anomaly: 0.20%, P&L: 0.0007\n",
      "Trade executed: buy at 2021-05-10 20:12:00 (Entry Price: 54984.38), exited at 2021-05-10 20:42:00 (Exit Price: 55418.72), Volume: 0.2621, Anomaly: 0.30%, P&L: 0.0021\n",
      "Trade executed: buy at 2021-05-11 02:57:00 (Entry Price: 54702.28), exited at 2021-05-11 03:28:00 (Exit Price: 54948.24), Volume: 0.2625, Anomaly: 0.30%, P&L: 0.0012\n",
      "Trade executed: sell at 2021-05-12 03:54:00 (Entry Price: 57879.44), exited at 2021-05-12 04:27:00 (Exit Price: 57717.43), Volume: 0.2627, Anomaly: 0.30%, P&L: 0.0007\n",
      "Trade executed: buy at 2021-05-12 10:17:00 (Entry Price: 56464.43), exited at 2021-05-12 11:16:00 (Exit Price: 56259.01), Volume: 0.2629, Anomaly: 0.40%, P&L: -0.0010\n",
      "Trade executed: buy at 2021-05-13 00:10:00 (Entry Price: 48784.88), exited at 2021-05-13 00:29:00 (Exit Price: 49519.38), Volume: 0.2627, Anomaly: 0.10%, P&L: 0.0040\n",
      "Trade executed: buy at 2021-05-13 16:59:00 (Entry Price: 48652.79), exited at 2021-05-13 17:46:00 (Exit Price: 48137.02), Volume: 0.2635, Anomaly: 0.40%, P&L: -0.0028\n",
      "Trade executed: buy at 2021-05-13 23:08:00 (Entry Price: 48678.08), exited at 2021-05-13 23:19:00 (Exit Price: 49314.64), Volume: 0.2629, Anomaly: 0.30%, P&L: 0.0034\n",
      "Trade executed: sell at 2021-05-15 01:24:00 (Entry Price: 50368.17), exited at 2021-05-15 02:24:00 (Exit Price: 50438.47), Volume: 0.2636, Anomaly: 0.40%, P&L: -0.0004\n",
      "Trade executed: sell at 2021-05-15 20:09:00 (Entry Price: 48470.10), exited at 2021-05-15 20:48:00 (Exit Price: 48344.11), Volume: 0.2636, Anomaly: 0.10%, P&L: 0.0007\n",
      "Trade executed: sell at 2021-05-16 06:24:00 (Entry Price: 49405.79), exited at 2021-05-16 06:53:00 (Exit Price: 49069.71), Volume: 0.2637, Anomaly: 0.40%, P&L: 0.0018\n",
      "Trade executed: sell at 2021-05-17 06:15:00 (Entry Price: 45042.23), exited at 2021-05-17 06:44:00 (Exit Price: 44471.33), Volume: 0.2640, Anomaly: 0.30%, P&L: 0.0033\n",
      "Trade executed: sell at 2021-05-18 00:21:00 (Entry Price: 44479.74), exited at 2021-05-18 00:51:00 (Exit Price: 44258.07), Volume: 0.2647, Anomaly: 0.30%, P&L: 0.0013\n",
      "Trade executed: buy at 2021-05-19 01:28:00 (Entry Price: 41729.22), exited at 2021-05-19 02:24:00 (Exit Price: 41058.45), Volume: 0.2650, Anomaly: 0.00%, P&L: -0.0043\n",
      "Trade executed: sell at 2021-05-19 15:27:00 (Entry Price: 37082.19), exited at 2021-05-19 16:01:00 (Exit Price: 37024.85), Volume: 0.2641, Anomaly: 0.20%, P&L: 0.0004\n",
      "Trade executed: buy at 2021-05-20 16:16:00 (Entry Price: 39625.60), exited at 2021-05-20 16:59:00 (Exit Price: 39396.78), Volume: 0.2642, Anomaly: 0.30%, P&L: -0.0015\n",
      "Trade executed: sell at 2021-05-20 23:05:00 (Entry Price: 41146.98), exited at 2021-05-20 23:32:00 (Exit Price: 40762.92), Volume: 0.2639, Anomaly: 0.30%, P&L: 0.0025\n",
      "Trade executed: buy at 2021-05-21 14:33:00 (Entry Price: 38318.18), exited at 2021-05-21 15:07:00 (Exit Price: 37987.95), Volume: 0.2644, Anomaly: 0.20%, P&L: -0.0023\n",
      "Trade executed: sell at 2021-05-22 10:53:00 (Entry Price: 38584.03), exited at 2021-05-22 11:25:00 (Exit Price: 38154.14), Volume: 0.2639, Anomaly: 0.40%, P&L: 0.0029\n",
      "Trade executed: buy at 2021-05-23 12:47:00 (Entry Price: 34187.08), exited at 2021-05-23 13:46:00 (Exit Price: 33748.92), Volume: 0.2645, Anomaly: 0.30%, P&L: -0.0034\n",
      "Trade executed: sell at 2021-05-23 17:10:00 (Entry Price: 33541.82), exited at 2021-05-23 17:33:00 (Exit Price: 32627.13), Volume: 0.2639, Anomaly: 0.30%, P&L: 0.0072\n",
      "Trade executed: sell at 2021-05-24 20:00:00 (Entry Price: 39563.88), exited at 2021-05-24 20:25:00 (Exit Price: 39110.19), Volume: 0.2653, Anomaly: 0.40%, P&L: 0.0030\n",
      "Trade executed: sell at 2021-05-25 15:55:00 (Entry Price: 38120.36), exited at 2021-05-25 16:04:00 (Exit Price: 37792.10), Volume: 0.2659, Anomaly: 0.30%, P&L: 0.0023\n",
      "Trade executed: sell at 2021-05-26 06:38:00 (Entry Price: 40637.99), exited at 2021-05-26 07:07:00 (Exit Price: 40364.21), Volume: 0.2664, Anomaly: 0.30%, P&L: 0.0018\n",
      "Trade executed: buy at 2021-05-27 02:03:00 (Entry Price: 37764.91), exited at 2021-05-27 02:20:00 (Exit Price: 37973.58), Volume: 0.2667, Anomaly: 0.40%, P&L: 0.0015\n",
      "Trade executed: sell at 2021-05-27 08:34:00 (Entry Price: 39023.80), exited at 2021-05-27 09:44:00 (Exit Price: 39007.31), Volume: 0.2670, Anomaly: 0.30%, P&L: 0.0001\n",
      "Trade executed: buy at 2021-05-28 09:09:00 (Entry Price: 35606.55), exited at 2021-05-28 09:40:00 (Exit Price: 35855.69), Volume: 0.2670, Anomaly: 0.40%, P&L: 0.0019\n",
      "Trade executed: sell at 2021-05-28 12:26:00 (Entry Price: 36681.61), exited at 2021-05-28 13:28:00 (Exit Price: 36684.91), Volume: 0.2674, Anomaly: 0.20%, P&L: -0.0000\n",
      "Trade executed: sell at 2021-05-29 05:28:00 (Entry Price: 37152.61), exited at 2021-05-29 05:57:00 (Exit Price: 36844.14), Volume: 0.2674, Anomaly: 0.20%, P&L: 0.0022\n",
      "Trade executed: sell at 2021-05-29 23:37:00 (Entry Price: 34850.46), exited at 2021-05-29 23:48:00 (Exit Price: 34584.27), Volume: 0.2678, Anomaly: 0.30%, P&L: 0.0020\n",
      "Trade executed: buy at 2021-05-30 00:29:00 (Entry Price: 33891.36), exited at 2021-05-30 01:00:00 (Exit Price: 33864.77), Volume: 0.2683, Anomaly: 0.20%, P&L: -0.0002\n",
      "Trade executed: buy at 2021-05-31 00:36:00 (Entry Price: 35254.70), exited at 2021-05-31 01:05:00 (Exit Price: 35436.91), Volume: 0.2682, Anomaly: 0.30%, P&L: 0.0014\n",
      "Trade executed: sell at 2021-05-31 10:19:00 (Entry Price: 36683.06), exited at 2021-05-31 11:07:00 (Exit Price: 36789.94), Volume: 0.2685, Anomaly: 0.10%, P&L: -0.0008\n",
      "Trade executed: sell at 2021-06-01 13:45:00 (Entry Price: 37378.15), exited at 2021-06-01 14:16:00 (Exit Price: 36828.76), Volume: 0.2683, Anomaly: 0.30%, P&L: 0.0039\n",
      "Trade executed: sell at 2021-06-02 07:20:00 (Entry Price: 37156.82), exited at 2021-06-02 07:57:00 (Exit Price: 37189.20), Volume: 0.2691, Anomaly: 0.40%, P&L: -0.0002\n",
      "Trade executed: sell at 2021-06-02 13:36:00 (Entry Price: 37631.69), exited at 2021-06-02 14:02:00 (Exit Price: 37470.97), Volume: 0.2691, Anomaly: 0.20%, P&L: 0.0011\n",
      "Trade executed: sell at 2021-06-03 05:50:00 (Entry Price: 38680.24), exited at 2021-06-03 06:16:00 (Exit Price: 38605.94), Volume: 0.2693, Anomaly: 0.10%, P&L: 0.0005\n",
      "Trade executed: buy at 2021-06-04 01:26:00 (Entry Price: 37796.23), exited at 2021-06-04 02:00:00 (Exit Price: 37938.69), Volume: 0.2694, Anomaly: 0.30%, P&L: 0.0010\n",
      "Trade executed: sell at 2021-06-04 12:54:00 (Entry Price: 36979.73), exited at 2021-06-04 13:30:00 (Exit Price: 36808.70), Volume: 0.2696, Anomaly: 0.20%, P&L: 0.0012\n",
      "Trade executed: buy at 2021-06-05 10:02:00 (Entry Price: 36376.55), exited at 2021-06-05 10:28:00 (Exit Price: 36626.00), Volume: 0.2699, Anomaly: 0.30%, P&L: 0.0019\n",
      "Trade executed: buy at 2021-06-05 21:40:00 (Entry Price: 35023.12), exited at 2021-06-05 22:10:00 (Exit Price: 35115.05), Volume: 0.2702, Anomaly: 0.20%, P&L: 0.0007\n",
      "Trade executed: sell at 2021-06-07 00:31:00 (Entry Price: 36297.74), exited at 2021-06-07 01:09:00 (Exit Price: 36257.72), Volume: 0.2704, Anomaly: 0.40%, P&L: 0.0003\n",
      "Trade executed: buy at 2021-06-07 21:01:00 (Entry Price: 34445.99), exited at 2021-06-07 21:51:00 (Exit Price: 34161.00), Volume: 0.2704, Anomaly: 0.40%, P&L: -0.0022\n",
      "Trade executed: buy at 2021-06-08 02:55:00 (Entry Price: 32532.24), exited at 2021-06-08 03:37:00 (Exit Price: 32680.38), Volume: 0.2700, Anomaly: 0.30%, P&L: 0.0012\n",
      "Trade executed: sell at 2021-06-08 20:49:00 (Entry Price: 33622.00), exited at 2021-06-08 21:18:00 (Exit Price: 33447.43), Volume: 0.2702, Anomaly: 0.40%, P&L: 0.0014\n",
      "Trade executed: sell at 2021-06-09 15:23:00 (Entry Price: 36357.66), exited at 2021-06-09 16:02:00 (Exit Price: 36299.66), Volume: 0.2705, Anomaly: 0.30%, P&L: 0.0004\n",
      "Trade executed: sell at 2021-06-10 10:11:00 (Entry Price: 38118.93), exited at 2021-06-10 10:46:00 (Exit Price: 38037.96), Volume: 0.2706, Anomaly: 0.00%, P&L: 0.0006\n",
      "Trade executed: buy at 2021-06-10 20:21:00 (Entry Price: 35929.01), exited at 2021-06-10 20:47:00 (Exit Price: 36145.00), Volume: 0.2707, Anomaly: 0.40%, P&L: 0.0016\n",
      "Trade executed: buy at 2021-06-12 01:41:00 (Entry Price: 36368.58), exited at 2021-06-12 03:16:00 (Exit Price: 35858.81), Volume: 0.2710, Anomaly: 0.10%, P&L: -0.0038\n",
      "Trade executed: sell at 2021-06-12 10:47:00 (Entry Price: 35732.49), exited at 2021-06-12 11:17:00 (Exit Price: 35553.41), Volume: 0.2703, Anomaly: 0.30%, P&L: 0.0014\n",
      "Trade executed: sell at 2021-06-13 08:44:00 (Entry Price: 35549.20), exited at 2021-06-13 09:20:00 (Exit Price: 35555.01), Volume: 0.2705, Anomaly: 0.40%, P&L: -0.0000\n",
      "Trade executed: sell at 2021-06-13 20:19:00 (Entry Price: 38760.00), exited at 2021-06-13 21:08:00 (Exit Price: 38821.38), Volume: 0.2705, Anomaly: 0.20%, P&L: -0.0004\n",
      "Trade executed: sell at 2021-06-14 13:17:00 (Entry Price: 40285.69), exited at 2021-06-14 13:59:00 (Exit Price: 40425.63), Volume: 0.2705, Anomaly: 0.40%, P&L: -0.0009\n",
      "Trade executed: sell at 2021-06-15 00:30:00 (Entry Price: 40702.88), exited at 2021-06-15 00:42:00 (Exit Price: 40520.99), Volume: 0.2703, Anomaly: 0.40%, P&L: 0.0012\n",
      "Trade executed: sell at 2021-06-15 18:13:00 (Entry Price: 41196.58), exited at 2021-06-15 18:41:00 (Exit Price: 41020.91), Volume: 0.2705, Anomaly: 0.30%, P&L: 0.0012\n",
      "Trade executed: buy at 2021-06-16 18:29:00 (Entry Price: 38497.47), exited at 2021-06-16 18:55:00 (Exit Price: 38783.67), Volume: 0.2707, Anomaly: 0.30%, P&L: 0.0020\n",
      "Trade executed: buy at 2021-06-17 12:32:00 (Entry Price: 38748.99), exited at 2021-06-17 12:53:00 (Exit Price: 38871.86), Volume: 0.2711, Anomaly: 0.30%, P&L: 0.0009\n",
      "Trade executed: buy at 2021-06-17 17:33:00 (Entry Price: 37816.00), exited at 2021-06-17 18:16:00 (Exit Price: 37773.17), Volume: 0.2713, Anomaly: 0.20%, P&L: -0.0003\n",
      "Trade executed: buy at 2021-06-18 18:45:00 (Entry Price: 35474.35), exited at 2021-06-18 19:16:00 (Exit Price: 35485.49), Volume: 0.2713, Anomaly: 0.40%, P&L: 0.0001\n",
      "Trade executed: sell at 2021-06-19 01:22:00 (Entry Price: 36229.99), exited at 2021-06-19 01:44:00 (Exit Price: 36020.00), Volume: 0.2713, Anomaly: 0.30%, P&L: 0.0016\n",
      "Trade executed: buy at 2021-06-20 10:15:00 (Entry Price: 34382.81), exited at 2021-06-20 11:06:00 (Exit Price: 34112.42), Volume: 0.2716, Anomaly: 0.50%, P&L: -0.0021\n",
      "Trade executed: buy at 2021-06-21 06:43:00 (Entry Price: 32837.77), exited at 2021-06-21 07:16:00 (Exit Price: 32929.26), Volume: 0.2712, Anomaly: 0.30%, P&L: 0.0008\n",
      "Trade executed: buy at 2021-06-22 12:14:00 (Entry Price: 30305.21), exited at 2021-06-22 12:58:00 (Exit Price: 29961.90), Volume: 0.2713, Anomaly: 0.40%, P&L: -0.0031\n",
      "Trade executed: sell at 2021-06-23 00:47:00 (Entry Price: 33423.63), exited at 2021-06-23 01:32:00 (Exit Price: 33797.00), Volume: 0.2707, Anomaly: 0.20%, P&L: -0.0030\n",
      "Trade executed: buy at 2021-06-23 13:50:00 (Entry Price: 34143.39), exited at 2021-06-23 14:27:00 (Exit Price: 34034.51), Volume: 0.2701, Anomaly: 0.30%, P&L: -0.0009\n",
      "Trade executed: sell at 2021-06-24 12:13:00 (Entry Price: 34060.90), exited at 2021-06-24 12:32:00 (Exit Price: 33870.83), Volume: 0.2699, Anomaly: 0.40%, P&L: 0.0015\n",
      "Trade executed: sell at 2021-06-25 02:16:00 (Entry Price: 35483.72), exited at 2021-06-25 02:47:00 (Exit Price: 35130.49), Volume: 0.2702, Anomaly: 0.40%, P&L: 0.0027\n",
      "Trade executed: buy at 2021-06-25 16:38:00 (Entry Price: 31976.19), exited at 2021-06-25 17:06:00 (Exit Price: 32157.83), Volume: 0.2708, Anomaly: 0.40%, P&L: 0.0015\n",
      "Trade executed: sell at 2021-06-26 11:14:00 (Entry Price: 31488.10), exited at 2021-06-26 12:12:00 (Exit Price: 31567.92), Volume: 0.2711, Anomaly: 0.20%, P&L: -0.0007\n",
      "Trade executed: buy at 2021-06-26 13:55:00 (Entry Price: 30836.54), exited at 2021-06-26 14:29:00 (Exit Price: 30811.94), Volume: 0.2709, Anomaly: 0.30%, P&L: -0.0002\n",
      "Trade executed: buy at 2021-06-26 16:23:00 (Entry Price: 30932.39), exited at 2021-06-26 16:48:00 (Exit Price: 31091.82), Volume: 0.2709, Anomaly: 0.40%, P&L: 0.0014\n",
      "Trade executed: sell at 2021-06-27 22:23:00 (Entry Price: 34247.14), exited at 2021-06-27 23:12:00 (Exit Price: 34193.20), Volume: 0.2712, Anomaly: 0.30%, P&L: 0.0004\n",
      "Trade executed: buy at 2021-06-28 09:56:00 (Entry Price: 34425.82), exited at 2021-06-28 10:51:00 (Exit Price: 34221.62), Volume: 0.2712, Anomaly: 0.10%, P&L: -0.0016\n",
      "Trade executed: sell at 2021-06-28 16:01:00 (Entry Price: 34864.33), exited at 2021-06-28 16:20:00 (Exit Price: 34710.65), Volume: 0.2709, Anomaly: 0.20%, P&L: 0.0012\n",
      "Trade executed: buy at 2021-06-28 17:48:00 (Entry Price: 34153.30), exited at 2021-06-28 18:24:00 (Exit Price: 34210.00), Volume: 0.2712, Anomaly: 0.40%, P&L: 0.0005\n",
      "Trade executed: sell at 2021-06-29 00:44:00 (Entry Price: 35020.81), exited at 2021-06-29 01:02:00 (Exit Price: 34768.00), Volume: 0.2713, Anomaly: 0.30%, P&L: 0.0020\n",
      "Trade executed: sell at 2021-06-29 10:45:00 (Entry Price: 35539.95), exited at 2021-06-29 11:17:00 (Exit Price: 35490.01), Volume: 0.2716, Anomaly: 0.20%, P&L: 0.0004\n",
      "Trade executed: buy at 2021-06-30 03:26:00 (Entry Price: 35285.12), exited at 2021-06-30 04:14:00 (Exit Price: 35221.08), Volume: 0.2717, Anomaly: 0.40%, P&L: -0.0005\n",
      "Trade executed: buy at 2021-06-30 09:03:00 (Entry Price: 34506.81), exited at 2021-06-30 09:49:00 (Exit Price: 34608.91), Volume: 0.2716, Anomaly: 0.20%, P&L: 0.0008\n",
      "Trade executed: buy at 2021-07-01 07:01:00 (Entry Price: 33475.31), exited at 2021-07-01 07:36:00 (Exit Price: 33525.99), Volume: 0.2718, Anomaly: 0.30%, P&L: 0.0004\n",
      "Trade executed: sell at 2021-07-01 15:11:00 (Entry Price: 33460.61), exited at 2021-07-01 15:46:00 (Exit Price: 33377.83), Volume: 0.2719, Anomaly: 0.30%, P&L: 0.0007\n",
      "Trade executed: sell at 2021-07-02 07:55:00 (Entry Price: 33370.02), exited at 2021-07-02 08:31:00 (Exit Price: 33342.00), Volume: 0.2720, Anomaly: 0.40%, P&L: 0.0002\n",
      "Trade executed: sell at 2021-07-03 07:46:00 (Entry Price: 34395.49), exited at 2021-07-03 08:45:00 (Exit Price: 34450.00), Volume: 0.2720, Anomaly: 0.20%, P&L: -0.0004\n",
      "Trade executed: sell at 2021-07-04 05:55:00 (Entry Price: 35195.01), exited at 2021-07-04 08:18:00 (Exit Price: 35480.92), Volume: 0.2720, Anomaly: 0.40%, P&L: -0.0022\n",
      "Trade executed: sell at 2021-07-04 21:53:00 (Entry Price: 35913.21), exited at 2021-07-04 22:16:00 (Exit Price: 35705.94), Volume: 0.2715, Anomaly: 0.20%, P&L: 0.0016\n",
      "Trade executed: buy at 2021-07-05 00:16:00 (Entry Price: 34960.93), exited at 2021-07-05 01:13:00 (Exit Price: 34910.27), Volume: 0.2718, Anomaly: 0.40%, P&L: -0.0004\n",
      "Trade executed: buy at 2021-07-05 11:36:00 (Entry Price: 33619.31), exited at 2021-07-05 12:16:00 (Exit Price: 33577.53), Volume: 0.2718, Anomaly: 0.10%, P&L: -0.0003\n",
      "Trade executed: sell at 2021-07-06 04:19:00 (Entry Price: 34542.97), exited at 2021-07-06 06:03:00 (Exit Price: 34737.42), Volume: 0.2717, Anomaly: 0.30%, P&L: -0.0015\n",
      "Trade executed: sell at 2021-07-06 11:54:00 (Entry Price: 34131.87), exited at 2021-07-06 12:01:00 (Exit Price: 33853.68), Volume: 0.2714, Anomaly: 0.40%, P&L: 0.0022\n",
      "Trade executed: sell at 2021-07-07 11:23:00 (Entry Price: 34847.85), exited at 2021-07-07 11:50:00 (Exit Price: 34792.10), Volume: 0.2718, Anomaly: 0.30%, P&L: 0.0004\n",
      "Trade executed: buy at 2021-07-08 07:51:00 (Entry Price: 32484.93), exited at 2021-07-08 08:32:00 (Exit Price: 32435.67), Volume: 0.2719, Anomaly: 0.40%, P&L: -0.0004\n",
      "Trade executed: sell at 2021-07-08 12:39:00 (Entry Price: 32845.30), exited at 2021-07-08 12:50:00 (Exit Price: 32668.63), Volume: 0.2718, Anomaly: 0.30%, P&L: 0.0015\n",
      "Trade executed: sell at 2021-07-09 13:16:00 (Entry Price: 33149.00), exited at 2021-07-09 14:16:00 (Exit Price: 33328.86), Volume: 0.2721, Anomaly: 0.30%, P&L: -0.0015\n",
      "Trade executed: sell at 2021-07-09 21:49:00 (Entry Price: 33910.00), exited at 2021-07-09 22:22:00 (Exit Price: 33852.02), Volume: 0.2718, Anomaly: 0.30%, P&L: 0.0005\n",
      "Trade executed: buy at 2021-07-10 17:28:00 (Entry Price: 33403.93), exited at 2021-07-10 18:05:00 (Exit Price: 33430.00), Volume: 0.2719, Anomaly: 0.40%, P&L: 0.0002\n",
      "Trade executed: sell at 2021-07-11 21:38:00 (Entry Price: 34490.39), exited at 2021-07-11 22:15:00 (Exit Price: 34440.32), Volume: 0.2720, Anomaly: 0.40%, P&L: 0.0004\n",
      "Trade executed: buy at 2021-07-12 10:15:00 (Entry Price: 33826.56), exited at 2021-07-12 11:20:00 (Exit Price: 33757.74), Volume: 0.2720, Anomaly: 0.40%, P&L: -0.0006\n",
      "Trade executed: sell at 2021-07-13 00:40:00 (Entry Price: 33108.43), exited at 2021-07-13 00:55:00 (Exit Price: 32994.86), Volume: 0.2719, Anomaly: 0.10%, P&L: 0.0009\n",
      "Trade executed: sell at 2021-07-13 07:20:00 (Entry Price: 33240.04), exited at 2021-07-13 07:45:00 (Exit Price: 33143.01), Volume: 0.2721, Anomaly: 0.40%, P&L: 0.0008\n",
      "Trade executed: buy at 2021-07-13 12:48:00 (Entry Price: 32565.80), exited at 2021-07-13 13:16:00 (Exit Price: 32549.73), Volume: 0.2723, Anomaly: 0.30%, P&L: -0.0001\n",
      "Trade executed: buy at 2021-07-14 03:39:00 (Entry Price: 31779.10), exited at 2021-07-14 04:11:00 (Exit Price: 31859.20), Volume: 0.2722, Anomaly: 0.00%, P&L: 0.0007\n",
      "Trade executed: sell at 2021-07-14 09:22:00 (Entry Price: 32336.53), exited at 2021-07-14 09:52:00 (Exit Price: 32255.94), Volume: 0.2724, Anomaly: 0.20%, P&L: 0.0007\n",
      "Trade executed: buy at 2021-07-15 10:40:00 (Entry Price: 31989.33), exited at 2021-07-15 11:35:00 (Exit Price: 31897.55), Volume: 0.2725, Anomaly: 0.00%, P&L: -0.0008\n",
      "Trade executed: sell at 2021-07-15 19:29:00 (Entry Price: 31543.00), exited at 2021-07-15 19:41:00 (Exit Price: 31478.24), Volume: 0.2724, Anomaly: 0.40%, P&L: 0.0006\n",
      "Trade executed: sell at 2021-07-16 13:09:00 (Entry Price: 31784.93), exited at 2021-07-16 13:45:00 (Exit Price: 31783.81), Volume: 0.2725, Anomaly: 0.30%, P&L: 0.0000\n",
      "Trade executed: sell at 2021-07-17 08:51:00 (Entry Price: 31799.68), exited at 2021-07-17 09:22:00 (Exit Price: 31666.08), Volume: 0.2725, Anomaly: 0.20%, P&L: 0.0011\n",
      "Trade executed: sell at 2021-07-18 01:37:00 (Entry Price: 32294.58), exited at 2021-07-18 01:57:00 (Exit Price: 32134.30), Volume: 0.2727, Anomaly: 0.40%, P&L: 0.0014\n",
      "Trade executed: buy at 2021-07-18 14:53:00 (Entry Price: 31329.97), exited at 2021-07-18 15:18:00 (Exit Price: 31397.51), Volume: 0.2730, Anomaly: 0.30%, P&L: 0.0006\n",
      "Trade executed: buy at 2021-07-19 12:48:00 (Entry Price: 30721.57), exited at 2021-07-19 13:18:00 (Exit Price: 30834.24), Volume: 0.2731, Anomaly: 0.40%, P&L: 0.0010\n",
      "Trade executed: buy at 2021-07-20 03:32:00 (Entry Price: 29572.49), exited at 2021-07-20 04:21:00 (Exit Price: 29604.80), Volume: 0.2733, Anomaly: 0.40%, P&L: 0.0003\n",
      "Trade executed: sell at 2021-07-20 14:30:00 (Entry Price: 29653.61), exited at 2021-07-20 14:41:00 (Exit Price: 29563.43), Volume: 0.2734, Anomaly: 0.10%, P&L: 0.0008\n",
      "Trade executed: sell at 2021-07-21 04:32:00 (Entry Price: 30603.02), exited at 2021-07-21 05:08:00 (Exit Price: 30564.00), Volume: 0.2735, Anomaly: 0.40%, P&L: 0.0003\n",
      "Trade executed: sell at 2021-07-21 18:20:00 (Entry Price: 32503.03), exited at 2021-07-21 18:24:00 (Exit Price: 32071.54), Volume: 0.2736, Anomaly: 0.40%, P&L: 0.0036\n",
      "Trade executed: sell at 2021-07-22 12:49:00 (Entry Price: 32050.12), exited at 2021-07-22 13:22:00 (Exit Price: 32096.23), Volume: 0.2743, Anomaly: 0.30%, P&L: -0.0004\n",
      "Trade executed: sell at 2021-07-23 02:08:00 (Entry Price: 32717.74), exited at 2021-07-23 02:22:00 (Exit Price: 32621.10), Volume: 0.2742, Anomaly: 0.00%, P&L: 0.0008\n",
      "Trade executed: sell at 2021-07-23 11:21:00 (Entry Price: 32420.78), exited at 2021-07-23 11:32:00 (Exit Price: 32348.51), Volume: 0.2744, Anomaly: 0.10%, P&L: 0.0006\n",
      "Trade executed: sell at 2021-07-23 13:59:00 (Entry Price: 32510.00), exited at 2021-07-23 14:16:00 (Exit Price: 32472.01), Volume: 0.2745, Anomaly: 0.20%, P&L: 0.0003\n",
      "Trade executed: sell at 2021-07-23 22:46:00 (Entry Price: 33052.96), exited at 2021-07-24 00:11:00 (Exit Price: 33408.28), Volume: 0.2746, Anomaly: 0.20%, P&L: -0.0030\n",
      "Trade executed: sell at 2021-07-24 16:35:00 (Entry Price: 34169.83), exited at 2021-07-24 17:28:00 (Exit Price: 34299.02), Volume: 0.2740, Anomaly: 0.30%, P&L: -0.0010\n",
      "Trade executed: sell at 2021-07-25 04:45:00 (Entry Price: 34396.22), exited at 2021-07-25 05:25:00 (Exit Price: 34284.95), Volume: 0.2738, Anomaly: 0.40%, P&L: 0.0009\n",
      "Trade executed: sell at 2021-07-25 15:09:00 (Entry Price: 34172.80), exited at 2021-07-25 15:22:00 (Exit Price: 34030.75), Volume: 0.2740, Anomaly: 0.20%, P&L: 0.0011\n",
      "Trade executed: sell at 2021-07-26 01:09:00 (Entry Price: 38535.10), exited at 2021-07-26 01:49:00 (Exit Price: 38186.57), Volume: 0.2742, Anomaly: 0.40%, P&L: 0.0025\n",
      "Trade executed: buy at 2021-07-26 20:16:00 (Entry Price: 38460.78), exited at 2021-07-26 21:24:00 (Exit Price: 37794.30), Volume: 0.2747, Anomaly: 0.20%, P&L: -0.0048\n",
      "Trade executed: buy at 2021-07-27 14:17:00 (Entry Price: 37872.99), exited at 2021-07-27 14:32:00 (Exit Price: 38326.08), Volume: 0.2737, Anomaly: 0.40%, P&L: 0.0033\n",
      "Trade executed: sell at 2021-07-27 22:56:00 (Entry Price: 39381.01), exited at 2021-07-27 23:31:00 (Exit Price: 38957.32), Volume: 0.2744, Anomaly: 0.40%, P&L: 0.0030\n",
      "Trade executed: sell at 2021-07-28 18:53:00 (Entry Price: 40320.02), exited at 2021-07-28 19:26:00 (Exit Price: 40282.98), Volume: 0.2750, Anomaly: 0.40%, P&L: 0.0003\n",
      "Trade executed: sell at 2021-07-29 23:31:00 (Entry Price: 40391.94), exited at 2021-07-29 23:47:00 (Exit Price: 39992.98), Volume: 0.2750, Anomaly: 0.20%, P&L: 0.0027\n",
      "Trade executed: buy at 2021-07-30 08:56:00 (Entry Price: 38699.30), exited at 2021-07-30 09:46:00 (Exit Price: 38567.00), Volume: 0.2756, Anomaly: 0.40%, P&L: -0.0009\n",
      "Trade executed: sell at 2021-07-30 20:57:00 (Entry Price: 40788.33), exited at 2021-07-30 21:53:00 (Exit Price: 40947.49), Volume: 0.2754, Anomaly: 0.20%, P&L: -0.0011\n",
      "Trade executed: sell at 2021-07-31 20:43:00 (Entry Price: 41705.77), exited at 2021-07-31 22:02:00 (Exit Price: 41754.01), Volume: 0.2752, Anomaly: 0.40%, P&L: -0.0003\n",
      "Trade executed: sell at 2021-08-01 17:02:00 (Entry Price: 41324.90), exited at 2021-08-01 17:18:00 (Exit Price: 41034.96), Volume: 0.2751, Anomaly: 0.20%, P&L: 0.0019\n",
      "Trade executed: buy at 2021-08-01 22:41:00 (Entry Price: 40156.43), exited at 2021-08-01 23:08:00 (Exit Price: 40406.38), Volume: 0.2755, Anomaly: 0.30%, P&L: 0.0017\n",
      "Trade executed: sell at 2021-08-03 00:41:00 (Entry Price: 39564.42), exited at 2021-08-03 00:56:00 (Exit Price: 39271.81), Volume: 0.2758, Anomaly: 0.10%, P&L: 0.0020\n",
      "Trade executed: sell at 2021-08-03 12:17:00 (Entry Price: 38355.00), exited at 2021-08-03 12:19:00 (Exit Price: 38328.73), Volume: 0.2762, Anomaly: 0.40%, P&L: 0.0002\n",
      "Trade executed: sell at 2021-08-04 13:03:00 (Entry Price: 38768.66), exited at 2021-08-04 13:58:00 (Exit Price: 38935.80), Volume: 0.2763, Anomaly: 0.40%, P&L: -0.0012\n",
      "Trade executed: sell at 2021-08-04 18:14:00 (Entry Price: 39656.58), exited at 2021-08-04 18:51:00 (Exit Price: 39603.80), Volume: 0.2760, Anomaly: 0.30%, P&L: 0.0004\n",
      "Trade executed: sell at 2021-08-05 16:18:00 (Entry Price: 39329.99), exited at 2021-08-05 16:34:00 (Exit Price: 38935.60), Volume: 0.2761, Anomaly: 0.40%, P&L: 0.0028\n",
      "Trade executed: sell at 2021-08-06 16:13:00 (Entry Price: 42845.48), exited at 2021-08-06 16:43:00 (Exit Price: 42538.00), Volume: 0.2767, Anomaly: 0.30%, P&L: 0.0020\n",
      "Trade executed: sell at 2021-08-07 16:50:00 (Entry Price: 43621.53), exited at 2021-08-07 17:17:00 (Exit Price: 43360.00), Volume: 0.2771, Anomaly: 0.30%, P&L: 0.0017\n",
      "Trade executed: sell at 2021-08-08 12:32:00 (Entry Price: 44859.61), exited at 2021-08-08 13:13:00 (Exit Price: 44902.64), Volume: 0.2774, Anomaly: 0.30%, P&L: -0.0003\n",
      "Trade executed: sell at 2021-08-09 09:28:00 (Entry Price: 44580.10), exited at 2021-08-09 10:22:00 (Exit Price: 44865.31), Volume: 0.2773, Anomaly: 0.40%, P&L: -0.0018\n",
      "Trade executed: sell at 2021-08-09 14:21:00 (Entry Price: 46005.32), exited at 2021-08-09 14:31:00 (Exit Price: 45779.76), Volume: 0.2770, Anomaly: 0.30%, P&L: 0.0014\n",
      "Trade executed: sell at 2021-08-09 21:47:00 (Entry Price: 45825.24), exited at 2021-08-09 22:27:00 (Exit Price: 45814.07), Volume: 0.2773, Anomaly: 0.00%, P&L: 0.0001\n",
      "Trade executed: buy at 2021-08-10 13:58:00 (Entry Price: 45598.82), exited at 2021-08-10 14:15:00 (Exit Price: 45670.84), Volume: 0.2773, Anomaly: 0.30%, P&L: 0.0004\n",
      "Trade executed: sell at 2021-08-11 07:12:00 (Entry Price: 46380.90), exited at 2021-08-11 07:50:00 (Exit Price: 46284.08), Volume: 0.2774, Anomaly: 0.40%, P&L: 0.0006\n",
      "Trade executed: sell at 2021-08-11 21:43:00 (Entry Price: 46304.68), exited at 2021-08-11 22:06:00 (Exit Price: 46184.60), Volume: 0.2775, Anomaly: 0.40%, P&L: 0.0007\n",
      "Trade executed: sell at 2021-08-12 09:37:00 (Entry Price: 45468.49), exited at 2021-08-12 09:51:00 (Exit Price: 45249.69), Volume: 0.2776, Anomaly: 0.10%, P&L: 0.0013\n",
      "Trade executed: sell at 2021-08-13 06:37:00 (Entry Price: 45610.66), exited at 2021-08-13 07:35:00 (Exit Price: 46026.69), Volume: 0.2779, Anomaly: 0.20%, P&L: -0.0025\n",
      "Trade executed: sell at 2021-08-13 20:19:00 (Entry Price: 47651.62), exited at 2021-08-13 20:56:00 (Exit Price: 47533.02), Volume: 0.2774, Anomaly: 0.30%, P&L: 0.0007\n",
      "Trade executed: buy at 2021-08-14 10:10:00 (Entry Price: 46921.94), exited at 2021-08-14 11:34:00 (Exit Price: 46380.02), Volume: 0.2775, Anomaly: 0.30%, P&L: -0.0032\n",
      "Trade executed: sell at 2021-08-15 14:11:00 (Entry Price: 46361.28), exited at 2021-08-15 14:41:00 (Exit Price: 46213.87), Volume: 0.2769, Anomaly: 0.40%, P&L: 0.0009\n",
      "Trade executed: sell at 2021-08-16 00:25:00 (Entry Price: 47661.61), exited at 2021-08-16 01:00:00 (Exit Price: 47568.91), Volume: 0.2771, Anomaly: 0.40%, P&L: 0.0005\n",
      "Trade executed: buy at 2021-08-16 13:54:00 (Entry Price: 46488.06), exited at 2021-08-16 14:50:00 (Exit Price: 46399.82), Volume: 0.2772, Anomaly: 0.20%, P&L: -0.0005\n",
      "Trade executed: sell at 2021-08-17 09:37:00 (Entry Price: 46666.84), exited at 2021-08-17 10:19:00 (Exit Price: 46760.00), Volume: 0.2771, Anomaly: 0.20%, P&L: -0.0006\n",
      "Trade executed: buy at 2021-08-17 20:25:00 (Entry Price: 44850.23), exited at 2021-08-17 20:47:00 (Exit Price: 45024.05), Volume: 0.2770, Anomaly: 0.40%, P&L: 0.0011\n",
      "Trade executed: sell at 2021-08-18 15:59:00 (Entry Price: 45797.85), exited at 2021-08-18 17:08:00 (Exit Price: 45762.82), Volume: 0.2772, Anomaly: 0.40%, P&L: 0.0002\n",
      "Trade executed: sell at 2021-08-19 18:37:00 (Entry Price: 46569.62), exited at 2021-08-19 19:15:00 (Exit Price: 46550.18), Volume: 0.2772, Anomaly: 0.30%, P&L: 0.0001\n",
      "Trade executed: sell at 2021-08-20 00:32:00 (Entry Price: 47308.01), exited at 2021-08-20 00:55:00 (Exit Price: 47101.14), Volume: 0.2772, Anomaly: 0.30%, P&L: 0.0012\n",
      "Trade executed: sell at 2021-08-20 14:54:00 (Entry Price: 48587.90), exited at 2021-08-20 15:15:00 (Exit Price: 48297.29), Volume: 0.2775, Anomaly: 0.20%, P&L: 0.0017\n",
      "Trade executed: buy at 2021-08-21 11:21:00 (Entry Price: 48476.54), exited at 2021-08-21 11:52:00 (Exit Price: 48613.91), Volume: 0.2778, Anomaly: 0.40%, P&L: 0.0008\n",
      "Trade executed: sell at 2021-08-22 05:05:00 (Entry Price: 49199.53), exited at 2021-08-22 05:23:00 (Exit Price: 49014.60), Volume: 0.2780, Anomaly: 0.40%, P&L: 0.0010\n",
      "Trade executed: sell at 2021-08-23 01:36:00 (Entry Price: 49911.00), exited at 2021-08-23 02:10:00 (Exit Price: 49790.31), Volume: 0.2782, Anomaly: 0.30%, P&L: 0.0007\n",
      "Trade executed: buy at 2021-08-23 14:45:00 (Entry Price: 49867.64), exited at 2021-08-23 15:19:00 (Exit Price: 49864.99), Volume: 0.2783, Anomaly: 0.20%, P&L: -0.0000\n",
      "Trade executed: buy at 2021-08-24 13:40:00 (Entry Price: 48554.65), exited at 2021-08-24 14:19:00 (Exit Price: 48613.86), Volume: 0.2783, Anomaly: 0.30%, P&L: 0.0003\n",
      "Trade executed: sell at 2021-08-24 19:56:00 (Entry Price: 48359.32), exited at 2021-08-24 20:03:00 (Exit Price: 48081.66), Volume: 0.2784, Anomaly: 0.20%, P&L: 0.0016\n",
      "Trade executed: sell at 2021-08-25 14:37:00 (Entry Price: 48226.73), exited at 2021-08-25 15:20:00 (Exit Price: 48350.19), Volume: 0.2787, Anomaly: 0.10%, P&L: -0.0007\n",
      "Trade executed: sell at 2021-08-26 12:32:00 (Entry Price: 47296.77), exited at 2021-08-26 12:48:00 (Exit Price: 46958.28), Volume: 0.2785, Anomaly: 0.30%, P&L: 0.0020\n",
      "Trade executed: sell at 2021-08-27 01:08:00 (Entry Price: 47490.60), exited at 2021-08-27 01:44:00 (Exit Price: 47456.90), Volume: 0.2789, Anomaly: 0.30%, P&L: 0.0002\n",
      "Trade executed: sell at 2021-08-27 20:42:00 (Entry Price: 49037.39), exited at 2021-08-27 21:28:00 (Exit Price: 48957.93), Volume: 0.2790, Anomaly: 0.40%, P&L: 0.0005\n",
      "Trade executed: sell at 2021-08-28 06:33:00 (Entry Price: 49037.98), exited at 2021-08-28 07:02:00 (Exit Price: 48985.78), Volume: 0.2791, Anomaly: 0.20%, P&L: 0.0003\n",
      "Trade executed: sell at 2021-08-29 01:02:00 (Entry Price: 49611.04), exited at 2021-08-29 01:34:00 (Exit Price: 49500.00), Volume: 0.2791, Anomaly: 0.40%, P&L: 0.0006\n",
      "Trade executed: sell at 2021-08-29 22:14:00 (Entry Price: 49144.22), exited at 2021-08-29 22:47:00 (Exit Price: 49160.94), Volume: 0.2793, Anomaly: 0.20%, P&L: -0.0001\n",
      "Trade executed: buy at 2021-08-30 22:32:00 (Entry Price: 47896.15), exited at 2021-08-31 00:09:00 (Exit Price: 47164.02), Volume: 0.2792, Anomaly: 0.30%, P&L: -0.0043\n",
      "Trade executed: sell at 2021-08-31 11:40:00 (Entry Price: 47988.60), exited at 2021-08-31 12:22:00 (Exit Price: 47926.05), Volume: 0.2784, Anomaly: 0.10%, P&L: 0.0004\n",
      "Trade executed: sell at 2021-09-01 04:16:00 (Entry Price: 47244.82), exited at 2021-09-01 04:38:00 (Exit Price: 47101.01), Volume: 0.2785, Anomaly: 0.10%, P&L: 0.0008\n",
      "Trade executed: sell at 2021-09-01 16:50:00 (Entry Price: 48333.18), exited at 2021-09-01 17:57:00 (Exit Price: 48763.88), Volume: 0.2786, Anomaly: 0.30%, P&L: -0.0025\n",
      "Trade executed: sell at 2021-09-02 01:48:00 (Entry Price: 49814.67), exited at 2021-09-02 02:40:00 (Exit Price: 49746.14), Volume: 0.2781, Anomaly: 0.30%, P&L: 0.0004\n",
      "Trade executed: sell at 2021-09-03 09:01:00 (Entry Price: 49955.98), exited at 2021-09-03 09:37:00 (Exit Price: 49863.60), Volume: 0.2782, Anomaly: 0.30%, P&L: 0.0005\n",
      "Trade executed: sell at 2021-09-03 12:48:00 (Entry Price: 50837.29), exited at 2021-09-03 13:22:00 (Exit Price: 50780.79), Volume: 0.2783, Anomaly: 0.40%, P&L: 0.0003\n",
      "Trade executed: sell at 2021-09-04 18:03:00 (Entry Price: 49986.94), exited at 2021-09-04 18:36:00 (Exit Price: 49914.28), Volume: 0.2784, Anomaly: 0.40%, P&L: 0.0004\n",
      "Trade executed: sell at 2021-09-05 00:39:00 (Entry Price: 50154.23), exited at 2021-09-05 01:10:00 (Exit Price: 50114.95), Volume: 0.2785, Anomaly: 0.40%, P&L: 0.0002\n",
      "Trade executed: sell at 2021-09-05 21:06:00 (Entry Price: 51775.01), exited at 2021-09-05 21:39:00 (Exit Price: 51594.08), Volume: 0.2785, Anomaly: 0.40%, P&L: 0.0010\n",
      "Trade executed: sell at 2021-09-06 11:19:00 (Entry Price: 51877.38), exited at 2021-09-06 11:20:00 (Exit Price: 51793.68), Volume: 0.2787, Anomaly: 0.20%, P&L: 0.0004\n",
      "Trade executed: sell at 2021-09-06 19:17:00 (Entry Price: 51987.06), exited at 2021-09-06 19:35:00 (Exit Price: 51840.22), Volume: 0.2788, Anomaly: 0.30%, P&L: 0.0008\n",
      "Trade executed: buy at 2021-09-07 08:43:00 (Entry Price: 51409.85), exited at 2021-09-07 09:21:00 (Exit Price: 51448.82), Volume: 0.2789, Anomaly: 0.40%, P&L: 0.0002\n",
      "Trade executed: buy at 2021-09-07 15:13:00 (Entry Price: 46239.23), exited at 2021-09-07 15:40:00 (Exit Price: 47037.17), Volume: 0.2790, Anomaly: 0.10%, P&L: 0.0048\n",
      "Trade executed: sell at 2021-09-08 08:47:00 (Entry Price: 45882.28), exited at 2021-09-08 10:04:00 (Exit Price: 46081.35), Volume: 0.2799, Anomaly: 0.40%, P&L: -0.0012\n",
      "Trade executed: sell at 2021-09-09 13:09:00 (Entry Price: 47084.02), exited at 2021-09-09 13:44:00 (Exit Price: 46971.90), Volume: 0.2797, Anomaly: 0.40%, P&L: 0.0007\n",
      "Trade executed: sell at 2021-09-10 01:44:00 (Entry Price: 46981.44), exited at 2021-09-10 02:05:00 (Exit Price: 46824.99), Volume: 0.2798, Anomaly: 0.10%, P&L: 0.0009\n",
      "Trade executed: buy at 2021-09-10 21:55:00 (Entry Price: 44382.68), exited at 2021-09-10 22:18:00 (Exit Price: 44735.75), Volume: 0.2800, Anomaly: 0.30%, P&L: 0.0022\n",
      "Trade executed: sell at 2021-09-11 16:43:00 (Entry Price: 45956.49), exited at 2021-09-11 17:16:00 (Exit Price: 45796.10), Volume: 0.2805, Anomaly: 0.40%, P&L: 0.0010\n",
      "Trade executed: sell at 2021-09-12 08:29:00 (Entry Price: 45905.65), exited at 2021-09-12 09:37:00 (Exit Price: 46027.28), Volume: 0.2807, Anomaly: 0.30%, P&L: -0.0007\n",
      "Trade executed: sell at 2021-09-12 23:13:00 (Entry Price: 46349.99), exited at 2021-09-12 23:46:00 (Exit Price: 46203.66), Volume: 0.2805, Anomaly: 0.40%, P&L: 0.0009\n",
      "Trade executed: buy at 2021-09-13 14:21:00 (Entry Price: 43641.84), exited at 2021-09-13 15:03:00 (Exit Price: 44052.56), Volume: 0.2807, Anomaly: 0.40%, P&L: 0.0026\n",
      "Trade executed: sell at 2021-09-14 12:46:00 (Entry Price: 46489.38), exited at 2021-09-14 13:18:00 (Exit Price: 46395.81), Volume: 0.2812, Anomaly: 0.30%, P&L: 0.0006\n",
      "Trade executed: sell at 2021-09-14 15:14:00 (Entry Price: 46859.06), exited at 2021-09-14 15:40:00 (Exit Price: 46619.63), Volume: 0.2813, Anomaly: 0.30%, P&L: 0.0014\n",
      "Trade executed: sell at 2021-09-15 15:18:00 (Entry Price: 48097.60), exited at 2021-09-15 16:28:00 (Exit Price: 48210.50), Volume: 0.2816, Anomaly: 0.30%, P&L: -0.0007\n",
      "Trade executed: sell at 2021-09-16 04:25:00 (Entry Price: 48250.03), exited at 2021-09-16 05:02:00 (Exit Price: 48252.87), Volume: 0.2815, Anomaly: 0.30%, P&L: -0.0000\n",
      "Trade executed: sell at 2021-09-16 15:33:00 (Entry Price: 48112.35), exited at 2021-09-16 16:17:00 (Exit Price: 48020.00), Volume: 0.2815, Anomaly: 0.40%, P&L: 0.0005\n",
      "Trade executed: sell at 2021-09-17 22:09:00 (Entry Price: 47323.24), exited at 2021-09-17 22:37:00 (Exit Price: 47258.49), Volume: 0.2816, Anomaly: 0.10%, P&L: 0.0004\n",
      "Trade executed: sell at 2021-09-17 23:25:00 (Entry Price: 47156.50), exited at 2021-09-17 23:27:00 (Exit Price: 47093.11), Volume: 0.2817, Anomaly: 0.30%, P&L: 0.0004\n",
      "Trade executed: sell at 2021-09-18 05:58:00 (Entry Price: 48676.53), exited at 2021-09-18 06:29:00 (Exit Price: 48622.98), Volume: 0.2817, Anomaly: 0.40%, P&L: 0.0003\n",
      "Trade executed: sell at 2021-09-18 23:20:00 (Entry Price: 48296.92), exited at 2021-09-18 23:39:00 (Exit Price: 48105.03), Volume: 0.2818, Anomaly: 0.30%, P&L: 0.0011\n",
      "Trade executed: buy at 2021-09-20 02:44:00 (Entry Price: 46077.26), exited at 2021-09-20 03:50:00 (Exit Price: 45644.39), Volume: 0.2820, Anomaly: 0.50%, P&L: -0.0026\n",
      "Trade executed: buy at 2021-09-21 00:28:00 (Entry Price: 40955.50), exited at 2021-09-21 00:45:00 (Exit Price: 41914.98), Volume: 0.2815, Anomaly: 0.40%, P&L: 0.0066\n",
      "Trade executed: sell at 2021-09-21 21:43:00 (Entry Price: 41190.35), exited at 2021-09-21 22:21:00 (Exit Price: 41334.40), Volume: 0.2828, Anomaly: 0.30%, P&L: -0.0010\n",
      "Trade executed: sell at 2021-09-22 18:18:00 (Entry Price: 43830.61), exited at 2021-09-22 18:40:00 (Exit Price: 43565.72), Volume: 0.2826, Anomaly: 0.40%, P&L: 0.0017\n",
      "Trade executed: sell at 2021-09-23 03:38:00 (Entry Price: 44030.15), exited at 2021-09-23 04:47:00 (Exit Price: 44065.84), Volume: 0.2830, Anomaly: 0.40%, P&L: -0.0002\n",
      "Trade executed: sell at 2021-09-23 13:49:00 (Entry Price: 44065.60), exited at 2021-09-23 14:32:00 (Exit Price: 44030.96), Volume: 0.2829, Anomaly: 0.30%, P&L: 0.0002\n",
      "Trade executed: sell at 2021-09-23 17:21:00 (Entry Price: 44477.10), exited at 2021-09-23 18:06:00 (Exit Price: 44684.97), Volume: 0.2830, Anomaly: 0.40%, P&L: -0.0013\n",
      "Trade executed: buy at 2021-09-24 09:20:00 (Entry Price: 43306.61), exited at 2021-09-24 11:47:00 (Exit Price: 41509.56), Volume: 0.2827, Anomaly: 0.30%, P&L: -0.0117\n",
      "Trade executed: sell at 2021-09-25 09:05:00 (Entry Price: 42534.24), exited at 2021-09-25 09:50:00 (Exit Price: 42618.03), Volume: 0.2804, Anomaly: 0.40%, P&L: -0.0006\n",
      "Trade executed: buy at 2021-09-26 07:54:00 (Entry Price: 40755.85), exited at 2021-09-26 08:06:00 (Exit Price: 41531.82), Volume: 0.2802, Anomaly: 0.30%, P&L: 0.0053\n",
      "Trade executed: sell at 2021-09-26 09:56:00 (Entry Price: 43375.41), exited at 2021-09-26 10:17:00 (Exit Price: 42963.46), Volume: 0.2813, Anomaly: 0.30%, P&L: 0.0027\n",
      "Trade executed: buy at 2021-09-27 15:00:00 (Entry Price: 43181.27), exited at 2021-09-27 15:32:00 (Exit Price: 43201.02), Volume: 0.2818, Anomaly: 0.40%, P&L: 0.0001\n",
      "Trade executed: buy at 2021-09-27 23:47:00 (Entry Price: 42185.83), exited at 2021-09-28 00:21:00 (Exit Price: 42272.57), Volume: 0.2819, Anomaly: 0.40%, P&L: 0.0006\n",
      "Trade executed: sell at 2021-09-29 00:42:00 (Entry Price: 41565.47), exited at 2021-09-29 01:31:00 (Exit Price: 41549.45), Volume: 0.2820, Anomaly: 0.30%, P&L: 0.0001\n",
      "Trade executed: sell at 2021-09-29 03:57:00 (Entry Price: 42121.62), exited at 2021-09-29 04:34:00 (Exit Price: 42217.69), Volume: 0.2820, Anomaly: 0.10%, P&L: -0.0006\n",
      "Trade executed: sell at 2021-09-30 01:22:00 (Entry Price: 42938.22), exited at 2021-09-30 02:40:00 (Exit Price: 43000.01), Volume: 0.2819, Anomaly: 0.20%, P&L: -0.0004\n",
      "Trade executed: sell at 2021-09-30 18:51:00 (Entry Price: 43956.63), exited at 2021-09-30 19:21:00 (Exit Price: 43821.65), Volume: 0.2818, Anomaly: 0.40%, P&L: 0.0009\n",
      "Trade executed: sell at 2021-10-01 10:33:00 (Entry Price: 46744.90), exited at 2021-10-01 12:34:00 (Exit Price: 47557.99), Volume: 0.2820, Anomaly: 0.30%, P&L: -0.0049\n",
      "Trade executed: sell at 2021-10-02 14:05:00 (Entry Price: 47925.31), exited at 2021-10-02 14:26:00 (Exit Price: 47881.01), Volume: 0.2810, Anomaly: 0.30%, P&L: 0.0003\n",
      "Trade executed: buy at 2021-10-03 01:08:00 (Entry Price: 47345.51), exited at 2021-10-03 01:29:00 (Exit Price: 47346.03), Volume: 0.2810, Anomaly: 0.30%, P&L: 0.0000\n",
      "Trade executed: sell at 2021-10-03 17:54:00 (Entry Price: 49003.94), exited at 2021-10-03 18:44:00 (Exit Price: 48900.01), Volume: 0.2810, Anomaly: 0.30%, P&L: 0.0006\n",
      "Trade executed: buy at 2021-10-04 15:17:00 (Entry Price: 47497.78), exited at 2021-10-04 15:20:00 (Exit Price: 47563.71), Volume: 0.2812, Anomaly: 0.30%, P&L: 0.0004\n",
      "Trade executed: sell at 2021-10-04 17:58:00 (Entry Price: 49317.35), exited at 2021-10-04 18:34:00 (Exit Price: 49194.91), Volume: 0.2812, Anomaly: 0.30%, P&L: 0.0007\n",
      "Trade executed: buy at 2021-10-05 20:34:00 (Entry Price: 51257.39), exited at 2021-10-05 20:38:00 (Exit Price: 51325.80), Volume: 0.2814, Anomaly: 0.20%, P&L: 0.0004\n",
      "Trade executed: sell at 2021-10-06 13:17:00 (Entry Price: 54749.44), exited at 2021-10-06 13:53:00 (Exit Price: 54034.50), Volume: 0.2815, Anomaly: 0.40%, P&L: 0.0037\n",
      "Trade executed: sell at 2021-10-07 01:48:00 (Entry Price: 54710.00), exited at 2021-10-07 02:50:00 (Exit Price: 54995.74), Volume: 0.2822, Anomaly: 0.30%, P&L: -0.0015\n",
      "Trade executed: buy at 2021-10-07 14:57:00 (Entry Price: 53907.40), exited at 2021-10-07 15:16:00 (Exit Price: 54046.55), Volume: 0.2819, Anomaly: 0.40%, P&L: 0.0007\n",
      "Trade executed: sell at 2021-10-08 08:40:00 (Entry Price: 55924.13), exited at 2021-10-08 09:09:00 (Exit Price: 55601.00), Volume: 0.2820, Anomaly: 0.40%, P&L: 0.0016\n",
      "Trade executed: buy at 2021-10-08 21:17:00 (Entry Price: 54082.12), exited at 2021-10-08 21:24:00 (Exit Price: 54165.22), Volume: 0.2824, Anomaly: 0.20%, P&L: 0.0004\n",
      "Trade executed: sell at 2021-10-09 06:04:00 (Entry Price: 54907.96), exited at 2021-10-09 06:44:00 (Exit Price: 54860.16), Volume: 0.2825, Anomaly: 0.40%, P&L: 0.0002\n",
      "Trade executed: sell at 2021-10-10 04:51:00 (Entry Price: 55771.00), exited at 2021-10-10 05:23:00 (Exit Price: 55577.53), Volume: 0.2825, Anomaly: 0.30%, P&L: 0.0010\n",
      "Trade executed: buy at 2021-10-10 20:41:00 (Entry Price: 55646.78), exited at 2021-10-10 21:43:00 (Exit Price: 55001.24), Volume: 0.2827, Anomaly: 0.30%, P&L: -0.0033\n",
      "Trade executed: sell at 2021-10-11 03:18:00 (Entry Price: 55823.92), exited at 2021-10-11 04:44:00 (Exit Price: 56540.79), Volume: 0.2820, Anomaly: 0.20%, P&L: -0.0036\n",
      "Trade executed: sell at 2021-10-11 07:38:00 (Entry Price: 56888.00), exited at 2021-10-11 07:47:00 (Exit Price: 56749.55), Volume: 0.2813, Anomaly: 0.40%, P&L: 0.0007\n",
      "Trade executed: sell at 2021-10-11 11:34:00 (Entry Price: 56467.34), exited at 2021-10-11 12:09:00 (Exit Price: 56439.76), Volume: 0.2815, Anomaly: 0.10%, P&L: 0.0001\n",
      "Trade executed: sell at 2021-10-11 14:05:00 (Entry Price: 57100.00), exited at 2021-10-11 14:10:00 (Exit Price: 57083.39), Volume: 0.2815, Anomaly: 0.30%, P&L: 0.0001\n",
      "Trade executed: sell at 2021-10-12 05:53:00 (Entry Price: 57460.80), exited at 2021-10-12 06:35:00 (Exit Price: 57461.81), Volume: 0.2815, Anomaly: 0.20%, P&L: -0.0000\n",
      "Trade executed: buy at 2021-10-12 20:27:00 (Entry Price: 55235.61), exited at 2021-10-12 20:28:00 (Exit Price: 55262.94), Volume: 0.2815, Anomaly: 0.30%, P&L: 0.0001\n",
      "Trade executed: sell at 2021-10-13 14:37:00 (Entry Price: 55665.77), exited at 2021-10-13 15:42:00 (Exit Price: 56073.16), Volume: 0.2815, Anomaly: 0.10%, P&L: -0.0021\n",
      "Trade executed: sell at 2021-10-13 16:48:00 (Entry Price: 56842.40), exited at 2021-10-13 17:34:00 (Exit Price: 56917.34), Volume: 0.2811, Anomaly: 0.20%, P&L: -0.0004\n",
      "Trade executed: sell at 2021-10-13 21:42:00 (Entry Price: 57596.78), exited at 2021-10-13 22:09:00 (Exit Price: 57491.82), Volume: 0.2810, Anomaly: 0.40%, P&L: 0.0005\n",
      "Trade executed: sell at 2021-10-14 01:08:00 (Entry Price: 58143.25), exited at 2021-10-14 02:29:00 (Exit Price: 58339.44), Volume: 0.2811, Anomaly: 0.30%, P&L: -0.0009\n",
      "Trade executed: sell at 2021-10-15 02:28:00 (Entry Price: 58474.99), exited at 2021-10-15 03:20:00 (Exit Price: 59057.61), Volume: 0.2810, Anomaly: 0.40%, P&L: -0.0028\n",
      "Trade executed: sell at 2021-10-15 16:46:00 (Entry Price: 61221.57), exited at 2021-10-15 17:26:00 (Exit Price: 61367.19), Volume: 0.2804, Anomaly: 0.40%, P&L: -0.0007\n",
      "Trade executed: sell at 2021-10-15 17:46:00 (Entry Price: 61709.73), exited at 2021-10-15 18:16:00 (Exit Price: 61627.24), Volume: 0.2803, Anomaly: 0.10%, P&L: 0.0004\n",
      "Trade executed: sell at 2021-10-15 20:41:00 (Entry Price: 62140.47), exited at 2021-10-15 21:09:00 (Exit Price: 62201.39), Volume: 0.2803, Anomaly: 0.30%, P&L: -0.0003\n",
      "Trade executed: buy at 2021-10-16 13:12:00 (Entry Price: 60816.82), exited at 2021-10-16 13:31:00 (Exit Price: 60919.16), Volume: 0.2803, Anomaly: 0.40%, P&L: 0.0005\n",
      "Trade executed: buy at 2021-10-17 00:29:00 (Entry Price: 60615.54), exited at 2021-10-17 00:45:00 (Exit Price: 60883.26), Volume: 0.2804, Anomaly: 0.20%, P&L: 0.0012\n",
      "Trade executed: buy at 2021-10-17 20:26:00 (Entry Price: 59699.98), exited at 2021-10-17 21:05:00 (Exit Price: 59651.14), Volume: 0.2806, Anomaly: 0.40%, P&L: -0.0002\n",
      "Trade executed: buy at 2021-10-18 08:44:00 (Entry Price: 61822.43), exited at 2021-10-18 09:13:00 (Exit Price: 61921.93), Volume: 0.2806, Anomaly: 0.30%, P&L: 0.0005\n",
      "Trade executed: sell at 2021-10-18 13:51:00 (Entry Price: 61515.34), exited at 2021-10-18 14:38:00 (Exit Price: 61872.73), Volume: 0.2807, Anomaly: 0.40%, P&L: -0.0016\n",
      "Trade executed: sell at 2021-10-19 03:16:00 (Entry Price: 62587.90), exited at 2021-10-19 03:46:00 (Exit Price: 62499.99), Volume: 0.2803, Anomaly: 0.30%, P&L: 0.0004\n",
      "Trade executed: buy at 2021-10-19 14:47:00 (Entry Price: 62146.13), exited at 2021-10-19 14:48:00 (Exit Price: 62281.47), Volume: 0.2804, Anomaly: 0.40%, P&L: 0.0006\n",
      "Trade executed: sell at 2021-10-20 13:47:00 (Entry Price: 65451.59), exited at 2021-10-20 15:16:00 (Exit Price: 66610.67), Volume: 0.2805, Anomaly: 0.30%, P&L: -0.0050\n",
      "Trade executed: buy at 2021-10-21 02:21:00 (Entry Price: 65117.58), exited at 2021-10-21 02:23:00 (Exit Price: 65172.45), Volume: 0.2795, Anomaly: 0.10%, P&L: 0.0002\n",
      "Trade executed: buy at 2021-10-21 11:40:00 (Entry Price: 65245.99), exited at 2021-10-21 12:22:00 (Exit Price: 64892.14), Volume: 0.2796, Anomaly: 0.40%, P&L: -0.0015\n",
      "Trade executed: sell at 2021-10-22 16:28:00 (Entry Price: 61311.02), exited at 2021-10-22 17:07:00 (Exit Price: 61228.34), Volume: 0.2793, Anomaly: 0.20%, P&L: 0.0004\n",
      "Trade executed: sell at 2021-10-23 11:12:00 (Entry Price: 60912.08), exited at 2021-10-23 12:08:00 (Exit Price: 61438.79), Volume: 0.2794, Anomaly: 0.30%, P&L: -0.0024\n",
      "Trade executed: sell at 2021-10-24 12:33:00 (Entry Price: 60407.00), exited at 2021-10-24 12:35:00 (Exit Price: 60249.60), Volume: 0.2789, Anomaly: 0.10%, P&L: 0.0007\n",
      "Trade executed: sell at 2021-10-24 16:23:00 (Entry Price: 60135.36), exited at 2021-10-24 17:39:00 (Exit Price: 60404.99), Volume: 0.2790, Anomaly: 0.40%, P&L: -0.0013\n",
      "Trade executed: sell at 2021-10-25 01:03:00 (Entry Price: 62043.18), exited at 2021-10-25 01:36:00 (Exit Price: 61829.99), Volume: 0.2788, Anomaly: 0.10%, P&L: 0.0010\n",
      "Trade executed: sell at 2021-10-25 21:29:00 (Entry Price: 62944.99), exited at 2021-10-25 21:47:00 (Exit Price: 62904.27), Volume: 0.2790, Anomaly: 0.30%, P&L: 0.0002\n",
      "Trade executed: buy at 2021-10-26 22:20:00 (Entry Price: 60527.39), exited at 2021-10-26 23:02:00 (Exit Price: 60410.88), Volume: 0.2790, Anomaly: 0.40%, P&L: -0.0005\n",
      "Trade executed: buy at 2021-10-27 08:24:00 (Entry Price: 58862.79), exited at 2021-10-27 08:35:00 (Exit Price: 59245.25), Volume: 0.2789, Anomaly: 0.40%, P&L: 0.0018\n",
      "Trade executed: sell at 2021-10-27 20:17:00 (Entry Price: 59022.20), exited at 2021-10-27 20:25:00 (Exit Price: 58880.38), Volume: 0.2793, Anomaly: 0.40%, P&L: 0.0007\n",
      "Trade executed: buy at 2021-10-28 18:58:00 (Entry Price: 60393.71), exited at 2021-10-28 19:22:00 (Exit Price: 59990.98), Volume: 0.2794, Anomaly: 0.40%, P&L: -0.0019\n",
      "Trade executed: sell at 2021-10-29 01:46:00 (Entry Price: 61684.67), exited at 2021-10-29 01:52:00 (Exit Price: 61582.54), Volume: 0.2790, Anomaly: 0.40%, P&L: 0.0005\n",
      "Trade executed: sell at 2021-10-29 20:17:00 (Entry Price: 62546.85), exited at 2021-10-29 20:28:00 (Exit Price: 62365.30), Volume: 0.2791, Anomaly: 0.20%, P&L: 0.0008\n",
      "Trade executed: buy at 2021-10-30 09:03:00 (Entry Price: 61329.49), exited at 2021-10-30 09:08:00 (Exit Price: 61432.14), Volume: 0.2793, Anomaly: 0.40%, P&L: 0.0005\n",
      "Trade executed: sell at 2021-10-30 13:49:00 (Entry Price: 61720.48), exited at 2021-10-30 13:52:00 (Exit Price: 61611.65), Volume: 0.2794, Anomaly: 0.30%, P&L: 0.0005\n",
      "Trade executed: buy at 2021-10-31 12:38:00 (Entry Price: 60453.49), exited at 2021-10-31 13:02:00 (Exit Price: 60510.08), Volume: 0.2795, Anomaly: 0.40%, P&L: 0.0003\n",
      "Trade executed: buy at 2021-11-01 02:42:00 (Entry Price: 60652.33), exited at 2021-11-01 02:59:00 (Exit Price: 60639.46), Volume: 0.2795, Anomaly: 0.20%, P&L: -0.0001\n",
      "Trade executed: buy at 2021-11-02 00:37:00 (Entry Price: 60816.96), exited at 2021-11-02 01:12:00 (Exit Price: 60966.08), Volume: 0.2795, Anomaly: 0.40%, P&L: 0.0007\n",
      "Trade executed: sell at 2021-11-02 09:44:00 (Entry Price: 62789.29), exited at 2021-11-02 10:37:00 (Exit Price: 63290.01), Volume: 0.2796, Anomaly: 0.10%, P&L: -0.0022\n",
      "Trade executed: sell at 2021-11-03 08:00:00 (Entry Price: 63437.10), exited at 2021-11-03 08:17:00 (Exit Price: 63190.52), Volume: 0.2792, Anomaly: 0.40%, P&L: 0.0011\n",
      "Trade executed: buy at 2021-11-03 13:06:00 (Entry Price: 62645.47), exited at 2021-11-03 14:18:00 (Exit Price: 62060.00), Volume: 0.2794, Anomaly: 0.00%, P&L: -0.0026\n",
      "Trade executed: sell at 2021-11-03 18:18:00 (Entry Price: 62542.77), exited at 2021-11-03 18:28:00 (Exit Price: 62313.41), Volume: 0.2789, Anomaly: 0.30%, P&L: 0.0010\n",
      "Trade executed: buy at 2021-11-04 15:34:00 (Entry Price: 61397.43), exited at 2021-11-04 16:03:00 (Exit Price: 61204.01), Volume: 0.2791, Anomaly: 0.20%, P&L: -0.0009\n",
      "Trade executed: sell at 2021-11-05 03:36:00 (Entry Price: 62065.43), exited at 2021-11-05 04:16:00 (Exit Price: 62155.04), Volume: 0.2789, Anomaly: 0.20%, P&L: -0.0004\n",
      "Trade executed: buy at 2021-11-05 11:56:00 (Entry Price: 61276.11), exited at 2021-11-05 12:14:00 (Exit Price: 61534.86), Volume: 0.2788, Anomaly: 0.40%, P&L: 0.0012\n",
      "Trade executed: sell at 2021-11-06 08:31:00 (Entry Price: 61072.48), exited at 2021-11-06 08:36:00 (Exit Price: 61032.84), Volume: 0.2791, Anomaly: 0.40%, P&L: 0.0002\n",
      "Trade executed: sell at 2021-11-07 01:05:00 (Entry Price: 62320.12), exited at 2021-11-07 01:35:00 (Exit Price: 62033.31), Volume: 0.2791, Anomaly: 0.40%, P&L: 0.0013\n",
      "Trade executed: sell at 2021-11-08 01:06:00 (Entry Price: 65623.85), exited at 2021-11-08 01:26:00 (Exit Price: 65121.43), Volume: 0.2794, Anomaly: 0.40%, P&L: 0.0021\n",
      "Trade executed: sell at 2021-11-08 23:19:00 (Entry Price: 67786.29), exited at 2021-11-08 23:52:00 (Exit Price: 67463.84), Volume: 0.2798, Anomaly: 0.00%, P&L: 0.0013\n",
      "Trade executed: buy at 2021-11-09 15:19:00 (Entry Price: 67207.30), exited at 2021-11-09 16:26:00 (Exit Price: 66869.99), Volume: 0.2801, Anomaly: 0.40%, P&L: -0.0014\n",
      "Trade executed: sell at 2021-11-10 00:20:00 (Entry Price: 67387.57), exited at 2021-11-10 00:37:00 (Exit Price: 67121.40), Volume: 0.2798, Anomaly: 0.10%, P&L: 0.0011\n",
      "Trade executed: sell at 2021-11-10 21:39:00 (Entry Price: 65469.72), exited at 2021-11-10 21:40:00 (Exit Price: 65298.80), Volume: 0.2800, Anomaly: 0.40%, P&L: 0.0007\n",
      "Trade executed: sell at 2021-11-11 14:44:00 (Entry Price: 65354.23), exited at 2021-11-11 15:05:00 (Exit Price: 65035.75), Volume: 0.2802, Anomaly: 0.30%, P&L: 0.0014\n",
      "Trade executed: sell at 2021-11-12 01:38:00 (Entry Price: 64962.11), exited at 2021-11-12 02:31:00 (Exit Price: 65254.34), Volume: 0.2804, Anomaly: 0.20%, P&L: -0.0013\n",
      "Trade executed: buy at 2021-11-12 09:47:00 (Entry Price: 64290.00), exited at 2021-11-12 10:21:00 (Exit Price: 64066.75), Volume: 0.2802, Anomaly: 0.10%, P&L: -0.0010\n",
      "Trade executed: buy at 2021-11-12 16:32:00 (Entry Price: 62745.68), exited at 2021-11-12 16:55:00 (Exit Price: 62900.05), Volume: 0.2800, Anomaly: 0.40%, P&L: 0.0007\n",
      "Trade executed: sell at 2021-11-13 14:07:00 (Entry Price: 64145.86), exited at 2021-11-13 15:18:00 (Exit Price: 64664.65), Volume: 0.2801, Anomaly: 0.20%, P&L: -0.0023\n",
      "Trade executed: sell at 2021-11-14 00:42:00 (Entry Price: 65173.62), exited at 2021-11-14 00:59:00 (Exit Price: 65005.89), Volume: 0.2797, Anomaly: 0.30%, P&L: 0.0007\n",
      "Trade executed: buy at 2021-11-14 18:21:00 (Entry Price: 64031.52), exited at 2021-11-14 18:26:00 (Exit Price: 64128.99), Volume: 0.2798, Anomaly: 0.20%, P&L: 0.0004\n",
      "Trade executed: sell at 2021-11-15 00:21:00 (Entry Price: 66067.01), exited at 2021-11-15 00:43:00 (Exit Price: 65890.39), Volume: 0.2799, Anomaly: 0.40%, P&L: 0.0007\n",
      "Trade executed: sell at 2021-11-15 09:11:00 (Entry Price: 66130.47), exited at 2021-11-15 09:38:00 (Exit Price: 65984.93), Volume: 0.2800, Anomaly: 0.30%, P&L: 0.0006\n",
      "Trade executed: buy at 2021-11-16 01:07:00 (Entry Price: 61938.06), exited at 2021-11-16 01:44:00 (Exit Price: 62065.02), Volume: 0.2802, Anomaly: 0.40%, P&L: 0.0006\n",
      "Trade executed: buy at 2021-11-16 10:25:00 (Entry Price: 59147.67), exited at 2021-11-16 10:37:00 (Exit Price: 59735.53), Volume: 0.2803, Anomaly: 0.40%, P&L: 0.0028\n",
      "Trade executed: sell at 2021-11-17 10:45:00 (Entry Price: 59815.83), exited at 2021-11-17 11:36:00 (Exit Price: 60422.79), Volume: 0.2808, Anomaly: 0.30%, P&L: -0.0028\n",
      "Trade executed: sell at 2021-11-18 01:35:00 (Entry Price: 60978.22), exited at 2021-11-18 01:57:00 (Exit Price: 60476.09), Volume: 0.2803, Anomaly: 0.40%, P&L: 0.0023\n",
      "Trade executed: buy at 2021-11-18 15:52:00 (Entry Price: 58453.38), exited at 2021-11-18 17:19:00 (Exit Price: 57421.10), Volume: 0.2807, Anomaly: 0.40%, P&L: -0.0050\n",
      "Trade executed: buy at 2021-11-18 22:48:00 (Entry Price: 56811.47), exited at 2021-11-18 23:23:00 (Exit Price: 56913.00), Volume: 0.2797, Anomaly: 0.40%, P&L: 0.0005\n",
      "Trade executed: sell at 2021-11-20 00:16:00 (Entry Price: 58491.21), exited at 2021-11-20 00:35:00 (Exit Price: 58229.99), Volume: 0.2798, Anomaly: 0.40%, P&L: 0.0012\n",
      "Trade executed: sell at 2021-11-20 18:28:00 (Entry Price: 59465.99), exited at 2021-11-20 19:12:00 (Exit Price: 59354.36), Volume: 0.2801, Anomaly: 0.10%, P&L: 0.0005\n",
      "Trade executed: buy at 2021-11-21 11:23:00 (Entry Price: 58666.79), exited at 2021-11-21 12:02:00 (Exit Price: 58771.67), Volume: 0.2802, Anomaly: 0.40%, P&L: 0.0005\n",
      "Trade executed: sell at 2021-11-21 17:13:00 (Entry Price: 59762.56), exited at 2021-11-21 17:32:00 (Exit Price: 59666.12), Volume: 0.2803, Anomaly: 0.30%, P&L: 0.0005\n",
      "Trade executed: sell at 2021-11-22 13:40:00 (Entry Price: 58986.41), exited at 2021-11-22 14:20:00 (Exit Price: 58449.99), Volume: 0.2804, Anomaly: 0.10%, P&L: 0.0025\n",
      "Trade executed: sell at 2021-11-23 09:50:00 (Entry Price: 57067.68), exited at 2021-11-23 10:03:00 (Exit Price: 56456.78), Volume: 0.2809, Anomaly: 0.20%, P&L: 0.0030\n",
      "Trade executed: sell at 2021-11-24 08:36:00 (Entry Price: 57069.10), exited at 2021-11-24 08:56:00 (Exit Price: 56721.19), Volume: 0.2815, Anomaly: 0.00%, P&L: 0.0017\n",
      "Trade executed: sell at 2021-11-25 00:50:00 (Entry Price: 58148.88), exited at 2021-11-25 01:18:00 (Exit Price: 57915.99), Volume: 0.2818, Anomaly: 0.40%, P&L: 0.0011\n",
      "Trade executed: sell at 2021-11-25 10:29:00 (Entry Price: 58222.60), exited at 2021-11-25 10:42:00 (Exit Price: 58050.78), Volume: 0.2821, Anomaly: 0.40%, P&L: 0.0008\n",
      "Trade executed: buy at 2021-11-26 09:02:00 (Entry Price: 55405.76), exited at 2021-11-26 09:12:00 (Exit Price: 55322.18), Volume: 0.2822, Anomaly: 0.20%, P&L: -0.0004\n",
      "Trade executed: sell at 2021-11-26 12:21:00 (Entry Price: 54181.01), exited at 2021-11-26 12:43:00 (Exit Price: 54006.41), Volume: 0.2821, Anomaly: 0.30%, P&L: 0.0009\n",
      "Trade executed: sell at 2021-11-27 08:16:00 (Entry Price: 54959.99), exited at 2021-11-27 09:01:00 (Exit Price: 55054.22), Volume: 0.2823, Anomaly: 0.10%, P&L: -0.0005\n",
      "Trade executed: sell at 2021-11-28 02:53:00 (Entry Price: 54250.33), exited at 2021-11-28 03:32:00 (Exit Price: 54280.84), Volume: 0.2822, Anomaly: 0.30%, P&L: -0.0002\n",
      "Trade executed: sell at 2021-11-28 23:11:00 (Entry Price: 57163.46), exited at 2021-11-28 23:52:00 (Exit Price: 57130.01), Volume: 0.2822, Anomaly: 0.30%, P&L: 0.0002\n",
      "Trade executed: sell at 2021-11-29 17:21:00 (Entry Price: 58567.29), exited at 2021-11-29 18:02:00 (Exit Price: 58555.58), Volume: 0.2822, Anomaly: 0.30%, P&L: 0.0001\n",
      "Trade executed: sell at 2021-11-30 09:06:00 (Entry Price: 56917.96), exited at 2021-11-30 09:09:00 (Exit Price: 56707.63), Volume: 0.2822, Anomaly: 0.30%, P&L: 0.0010\n",
      "Trade executed: buy at 2021-11-30 16:20:00 (Entry Price: 57106.22), exited at 2021-11-30 16:33:00 (Exit Price: 57522.49), Volume: 0.2825, Anomaly: 0.30%, P&L: 0.0021\n",
      "Trade executed: buy at 2021-12-01 08:45:00 (Entry Price: 57185.76), exited at 2021-12-01 09:29:00 (Exit Price: 57027.89), Volume: 0.2829, Anomaly: 0.40%, P&L: -0.0008\n",
      "Trade executed: buy at 2021-12-02 03:31:00 (Entry Price: 56048.82), exited at 2021-12-02 03:49:00 (Exit Price: 56245.06), Volume: 0.2827, Anomaly: 0.40%, P&L: 0.0010\n",
      "Trade executed: sell at 2021-12-03 05:47:00 (Entry Price: 56892.15), exited at 2021-12-03 06:21:00 (Exit Price: 56747.97), Volume: 0.2829, Anomaly: 0.20%, P&L: 0.0007\n",
      "Trade executed: buy at 2021-12-03 10:28:00 (Entry Price: 56923.93), exited at 2021-12-03 10:29:00 (Exit Price: 56949.22), Volume: 0.2830, Anomaly: 0.30%, P&L: 0.0001\n",
      "Trade executed: buy at 2021-12-03 20:34:00 (Entry Price: 53031.71), exited at 2021-12-03 20:51:00 (Exit Price: 53235.14), Volume: 0.2831, Anomaly: 0.40%, P&L: 0.0011\n",
      "Trade executed: buy at 2021-12-04 05:30:00 (Entry Price: 45523.60), exited at 2021-12-04 05:56:00 (Exit Price: 47281.14), Volume: 0.2833, Anomaly: 0.40%, P&L: 0.0109\n",
      "Trade executed: buy at 2021-12-05 00:55:00 (Entry Price: 48848.00), exited at 2021-12-05 01:11:00 (Exit Price: 48906.12), Volume: 0.2855, Anomaly: 0.20%, P&L: 0.0003\n",
      "Trade executed: sell at 2021-12-05 16:05:00 (Entry Price: 48321.96), exited at 2021-12-05 16:32:00 (Exit Price: 48209.89), Volume: 0.2855, Anomaly: 0.30%, P&L: 0.0007\n",
      "Trade executed: buy at 2021-12-06 08:23:00 (Entry Price: 48262.63), exited at 2021-12-06 08:49:00 (Exit Price: 48366.91), Volume: 0.2857, Anomaly: 0.40%, P&L: 0.0006\n",
      "Trade executed: sell at 2021-12-06 22:11:00 (Entry Price: 50386.84), exited at 2021-12-06 22:37:00 (Exit Price: 50350.26), Volume: 0.2858, Anomaly: 0.20%, P&L: 0.0002\n",
      "Trade executed: sell at 2021-12-07 15:45:00 (Entry Price: 51846.94), exited at 2021-12-07 16:14:00 (Exit Price: 51680.05), Volume: 0.2858, Anomaly: 0.40%, P&L: 0.0009\n",
      "Trade executed: buy at 2021-12-07 22:53:00 (Entry Price: 50200.01), exited at 2021-12-07 22:58:00 (Exit Price: 50313.50), Volume: 0.2860, Anomaly: 0.00%, P&L: 0.0006\n",
      "Trade executed: sell at 2021-12-08 14:51:00 (Entry Price: 50886.70), exited at 2021-12-08 15:36:00 (Exit Price: 50812.40), Volume: 0.2862, Anomaly: 0.40%, P&L: 0.0004\n",
      "Trade executed: sell at 2021-12-09 07:34:00 (Entry Price: 50113.50), exited at 2021-12-09 08:04:00 (Exit Price: 49817.51), Volume: 0.2862, Anomaly: 0.10%, P&L: 0.0017\n",
      "Trade executed: sell at 2021-12-10 00:52:00 (Entry Price: 48156.78), exited at 2021-12-10 00:55:00 (Exit Price: 47994.09), Volume: 0.2866, Anomaly: 0.30%, P&L: 0.0010\n",
      "Trade executed: sell at 2021-12-11 00:32:00 (Entry Price: 48037.19), exited at 2021-12-11 01:13:00 (Exit Price: 47849.83), Volume: 0.2868, Anomaly: 0.10%, P&L: 0.0011\n",
      "Trade executed: buy at 2021-12-11 06:31:00 (Entry Price: 48293.75), exited at 2021-12-11 07:40:00 (Exit Price: 48046.51), Volume: 0.2870, Anomaly: 0.30%, P&L: -0.0015\n",
      "Trade executed: sell at 2021-12-11 08:49:00 (Entry Price: 48410.00), exited at 2021-12-11 08:55:00 (Exit Price: 48302.59), Volume: 0.2867, Anomaly: 0.20%, P&L: 0.0006\n",
      "Trade executed: sell at 2021-12-11 23:13:00 (Entry Price: 49309.88), exited at 2021-12-11 23:50:00 (Exit Price: 49189.17), Volume: 0.2868, Anomaly: 0.20%, P&L: 0.0007\n",
      "Trade executed: sell at 2021-12-12 17:07:00 (Entry Price: 50072.23), exited at 2021-12-12 17:31:00 (Exit Price: 49952.52), Volume: 0.2870, Anomaly: 0.10%, P&L: 0.0007\n",
      "Trade executed: sell at 2021-12-12 17:52:00 (Entry Price: 50172.27), exited at 2021-12-12 18:46:00 (Exit Price: 50460.41), Volume: 0.2871, Anomaly: 0.00%, P&L: -0.0016\n",
      "Trade executed: buy at 2021-12-13 19:51:00 (Entry Price: 46433.04), exited at 2021-12-13 19:56:00 (Exit Price: 46631.73), Volume: 0.2868, Anomaly: 0.30%, P&L: 0.0012\n",
      "Trade executed: sell at 2021-12-14 00:35:00 (Entry Price: 46956.52), exited at 2021-12-14 01:07:00 (Exit Price: 46897.60), Volume: 0.2870, Anomaly: 0.40%, P&L: 0.0004\n",
      "Trade executed: sell at 2021-12-14 20:43:00 (Entry Price: 47787.21), exited at 2021-12-14 21:57:00 (Exit Price: 48238.31), Volume: 0.2871, Anomaly: 0.00%, P&L: -0.0027\n",
      "Trade executed: buy at 2021-12-15 19:27:00 (Entry Price: 48152.37), exited at 2021-12-15 19:32:00 (Exit Price: 48321.52), Volume: 0.2866, Anomaly: 0.40%, P&L: 0.0010\n",
      "Trade executed: buy at 2021-12-16 12:49:00 (Entry Price: 48706.25), exited at 2021-12-16 13:25:00 (Exit Price: 48694.79), Volume: 0.2868, Anomaly: 0.30%, P&L: -0.0001\n",
      "Trade executed: sell at 2021-12-16 14:08:00 (Entry Price: 48792.01), exited at 2021-12-16 14:09:00 (Exit Price: 48785.07), Volume: 0.2867, Anomaly: 0.40%, P&L: 0.0000\n",
      "Trade executed: buy at 2021-12-16 22:26:00 (Entry Price: 47794.29), exited at 2021-12-16 22:38:00 (Exit Price: 47859.98), Volume: 0.2867, Anomaly: 0.40%, P&L: 0.0004\n",
      "Trade executed: buy at 2021-12-17 22:32:00 (Entry Price: 46257.19), exited at 2021-12-17 22:46:00 (Exit Price: 46344.87), Volume: 0.2868, Anomaly: 0.20%, P&L: 0.0005\n",
      "Trade executed: sell at 2021-12-18 03:41:00 (Entry Price: 46377.49), exited at 2021-12-18 04:04:00 (Exit Price: 46144.05), Volume: 0.2869, Anomaly: 0.20%, P&L: 0.0014\n",
      "Trade executed: buy at 2021-12-18 19:29:00 (Entry Price: 46496.58), exited at 2021-12-18 19:38:00 (Exit Price: 46571.00), Volume: 0.2872, Anomaly: 0.40%, P&L: 0.0005\n",
      "Trade executed: buy at 2021-12-19 14:19:00 (Entry Price: 47245.89), exited at 2021-12-19 14:21:00 (Exit Price: 47340.41), Volume: 0.2873, Anomaly: 0.40%, P&L: 0.0006\n",
      "Trade executed: sell at 2021-12-20 14:49:00 (Entry Price: 46157.45), exited at 2021-12-20 15:35:00 (Exit Price: 46107.56), Volume: 0.2874, Anomaly: 0.10%, P&L: 0.0003\n",
      "Trade executed: sell at 2021-12-21 03:57:00 (Entry Price: 48046.26), exited at 2021-12-21 04:57:00 (Exit Price: 48526.17), Volume: 0.2875, Anomaly: 0.30%, P&L: -0.0029\n",
      "Trade executed: buy at 2021-12-21 12:49:00 (Entry Price: 48861.91), exited at 2021-12-21 13:29:00 (Exit Price: 48803.94), Volume: 0.2869, Anomaly: 0.20%, P&L: -0.0003\n",
      "Trade executed: sell at 2021-12-22 02:34:00 (Entry Price: 49380.00), exited at 2021-12-22 03:07:00 (Exit Price: 49313.68), Volume: 0.2869, Anomaly: 0.30%, P&L: 0.0004\n",
      "Trade executed: sell at 2021-12-22 16:30:00 (Entry Price: 48980.96), exited at 2021-12-22 16:43:00 (Exit Price: 48948.01), Volume: 0.2869, Anomaly: 0.30%, P&L: 0.0002\n",
      "Trade executed: buy at 2021-12-23 00:43:00 (Entry Price: 48274.43), exited at 2021-12-23 00:46:00 (Exit Price: 48317.79), Volume: 0.2870, Anomaly: 0.30%, P&L: 0.0003\n",
      "Trade executed: sell at 2021-12-23 18:07:00 (Entry Price: 50320.76), exited at 2021-12-23 18:46:00 (Exit Price: 50424.26), Volume: 0.2870, Anomaly: 0.40%, P&L: -0.0006\n",
      "Trade executed: sell at 2021-12-23 20:06:00 (Entry Price: 50977.24), exited at 2021-12-23 20:07:00 (Exit Price: 50967.02), Volume: 0.2869, Anomaly: 0.20%, P&L: 0.0001\n",
      "Trade executed: buy at 2021-12-24 15:19:00 (Entry Price: 50819.06), exited at 2021-12-24 15:31:00 (Exit Price: 50837.49), Volume: 0.2869, Anomaly: 0.40%, P&L: 0.0001\n",
      "Trade executed: buy at 2021-12-24 23:26:00 (Entry Price: 50683.69), exited at 2021-12-24 23:28:00 (Exit Price: 50721.12), Volume: 0.2869, Anomaly: 0.40%, P&L: 0.0002\n",
      "Trade executed: sell at 2021-12-25 00:10:00 (Entry Price: 50834.11), exited at 2021-12-25 01:19:00 (Exit Price: 50966.16), Volume: 0.2870, Anomaly: 0.10%, P&L: -0.0007\n",
      "Trade executed: sell at 2021-12-25 11:16:00 (Entry Price: 50765.00), exited at 2021-12-25 11:22:00 (Exit Price: 50680.90), Volume: 0.2868, Anomaly: 0.20%, P&L: 0.0005\n",
      "Trade executed: buy at 2021-12-26 02:54:00 (Entry Price: 50120.02), exited at 2021-12-26 03:31:00 (Exit Price: 49988.07), Volume: 0.2869, Anomaly: 0.10%, P&L: -0.0008\n",
      "Trade executed: sell at 2021-12-26 21:29:00 (Entry Price: 50355.71), exited at 2021-12-26 22:20:00 (Exit Price: 50790.00), Volume: 0.2868, Anomaly: 0.40%, P&L: -0.0025\n",
      "Trade executed: sell at 2021-12-27 13:32:00 (Entry Price: 51386.89), exited at 2021-12-27 14:10:00 (Exit Price: 51258.59), Volume: 0.2863, Anomaly: 0.40%, P&L: 0.0007\n",
      "Trade executed: sell at 2021-12-27 14:45:00 (Entry Price: 51564.64), exited at 2021-12-27 15:18:00 (Exit Price: 51489.78), Volume: 0.2864, Anomaly: 0.30%, P&L: 0.0004\n",
      "Trade executed: buy at 2021-12-28 04:41:00 (Entry Price: 48993.77), exited at 2021-12-28 05:02:00 (Exit Price: 49090.00), Volume: 0.2865, Anomaly: 0.40%, P&L: 0.0006\n",
      "Trade executed: buy at 2021-12-28 17:55:00 (Entry Price: 47905.12), exited at 2021-12-28 18:17:00 (Exit Price: 47889.42), Volume: 0.2866, Anomaly: 0.40%, P&L: -0.0001\n",
      "Trade executed: buy at 2021-12-28 19:27:00 (Entry Price: 47602.97), exited at 2021-12-28 19:33:00 (Exit Price: 47616.67), Volume: 0.2866, Anomaly: 0.20%, P&L: 0.0001\n",
      "Trade executed: buy at 2021-12-29 12:15:00 (Entry Price: 46983.21), exited at 2021-12-29 13:02:00 (Exit Price: 46874.33), Volume: 0.2866, Anomaly: 0.20%, P&L: -0.0007\n",
      "Trade executed: buy at 2021-12-29 23:25:00 (Entry Price: 46421.13), exited at 2021-12-30 00:01:00 (Exit Price: 46506.19), Volume: 0.2865, Anomaly: 0.40%, P&L: 0.0005\n",
      "Trade executed: buy at 2021-12-30 23:02:00 (Entry Price: 47040.62), exited at 2021-12-30 23:06:00 (Exit Price: 47086.50), Volume: 0.2866, Anomaly: 0.20%, P&L: 0.0003\n",
      "Trade executed: sell at 2021-12-31 01:26:00 (Entry Price: 47200.01), exited at 2021-12-31 01:46:00 (Exit Price: 47080.67), Volume: 0.2866, Anomaly: 0.30%, P&L: 0.0007\n",
      "Trade executed: sell at 2021-12-31 08:30:00 (Entry Price: 47859.26), exited at 2021-12-31 09:21:00 (Exit Price: 48353.50), Volume: 0.2868, Anomaly: 0.10%, P&L: -0.0030\n",
      "Trade executed: sell at 2021-12-31 21:57:00 (Entry Price: 46231.26), exited at 2021-12-31 22:33:00 (Exit Price: 46337.29), Volume: 0.2862, Anomaly: 0.00%, P&L: -0.0007\n"
     ]
    },
    {
     "data": {
      "image/png": "[encoded data removed]",
      "text/plain": [
       "<Figure size 1500x500 with 1 Axes>"
      ]
     },
     "metadata": {},
     "output_type": "display_data"
    },
    {
     "name": "stdout",
     "output_type": "stream",
     "text": [
      "Final Capital for autoencoder: 1.4303\n"
     ]
    }
   ],
   "source": [
    "for model_name in model_names:\n",
    "    print(f\"\\n=== Final Outputs for Model: {model_name} ===\")\n",
    "    \n",
    "    combined_scores[model_name] = np.array(combined_scores[model_name])\n",
    "    scores = np.array(combined_scores[model_name])\n",
    "    anomalies = np.zeros_like(scores, dtype=bool)\n",
    "\n",
    "    num_full_windows = len(scores) // window_size_minutes\n",
    "    remaining_scores = len(scores) % window_size_minutes\n",
    "\n",
    "    window_thresholds = []  \n",
    "    window_end_times = []    \n",
    "    window_ranges = []\n",
    "    \n",
    "    for w in range(num_full_windows):\n",
    "        start_idx = w * window_size_minutes\n",
    "        end_idx = start_idx + window_size_minutes\n",
    "        window_scores = scores[start_idx:end_idx]\n",
    "\n",
    "        window_scores = scores[start_idx:end_idx]\n",
    "        \n",
    "        window_threshold = np.percentile(window_scores, percentile)\n",
    "        window_thresholds.append(window_threshold)  \n",
    "        \n",
    "        window_end_time = combined_test_dates[start_idx + window_size_minutes - 1]\n",
    "        window_end_times.append(window_end_time) \n",
    "\n",
    "        window_ranges.append((start_idx, end_idx))\n",
    "  \n",
    "        \n",
    "        window_anomalies = window_scores >= window_threshold\n",
    "        anomalies[start_idx:end_idx] = window_anomalies\n",
    "    \n",
    "    if remaining_scores > 0:\n",
    "        start_idx = num_full_windows * window_size_minutes\n",
    "        end_idx = len(scores)\n",
    "        window_scores = scores[start_idx:end_idx]\n",
    "\n",
    "        window_scores = scores[start_idx:end_idx]\n",
    "        \n",
    "        window_threshold = np.percentile(window_scores, percentile)\n",
    "        window_thresholds.append(window_threshold)  \n",
    "        \n",
    "        window_end_time = combined_test_dates[end_idx - 1]\n",
    "        window_end_times.append(window_end_time)  \n",
    "\n",
    "        window_ranges.append((start_idx, end_idx))\n",
    "        \n",
    "        window_anomalies = window_scores >= window_threshold\n",
    "        anomalies[start_idx:end_idx] = window_anomalies\n",
    "    \n",
    "    combined_anomalies[model_name] = anomalies\n",
    "    \n",
    "    plt.figure(figsize=(15, 5))\n",
    "    unscaled_prices = np.array(original_prices_buffer)\n",
    "    \n",
    "    plt.plot(combined_test_dates, unscaled_prices, label='Open Price', color='blue')\n",
    "    \n",
    "    rolling_avg_values = original_data_sorted['rolling_avg'].reindex(combined_test_dates).values\n",
    "    plt.plot(combined_test_dates, rolling_avg_values, label='Rolling Avg', color='orange', linewidth=2)\n",
    "    \n",
    "    anomaly_dates = np.array(combined_test_dates)[anomalies]\n",
    "    anomaly_prices = np.array(unscaled_prices)[anomalies]\n",
    "    plt.scatter(anomaly_dates, anomaly_prices, color='red', label='Anomalies')\n",
    "    \n",
    "    plt.title(f'{model_name.capitalize()} Anomaly Detection for Combined Test Period')\n",
    "    plt.xlabel('Date')\n",
    "    plt.ylabel('Open Price')\n",
    "    plt.legend()\n",
    "    plt.show()\n",
    "    \n",
    "    \n",
    "    analysis_results = analyze_anomalies(anomaly_dates, original_data_sorted, window_minutes=window_minutes)\n",
    "    compute_statistics(analysis_results, model_name)\n",
    "    \n",
    "    \n",
    "    if isinstance(analysis_results, pd.DataFrame) and 'start' in analysis_results.columns and 'end' in analysis_results.columns:\n",
    "        clusters = list(zip(analysis_results['start'], analysis_results['end']))\n",
    "    else:\n",
    "        clusters = [(ts, ts) for ts in anomaly_dates]\n",
    "    \n",
    "    merge_threshold = 40  # Minutes\n",
    "    merged_clusters = merge_anomaly_clusters(clusters, merge_threshold)\n",
    "    \n",
    "    print(f\"Total Merged Clusters for Trading: {len(merged_clusters)}\")\n",
    "    \n",
    "    ma_window = window_minutes\n",
    "    original_data_sorted['MA'] = original_data_sorted['open'].rolling(window=ma_window, min_periods=1).mean()\n",
    "    \n",
    "    combined_test_data = original_data_sorted.loc[combined_test_dates, 'open']\n",
    "    combined_ma_data = original_data_sorted.loc[combined_test_dates, 'MA']\n",
    "    \n",
    "    capital_history = simulate_trading_with_clusters(\n",
    "        model_name=model_name,\n",
    "        merged_clusters=merged_clusters,\n",
    "        price_data=combined_test_data,\n",
    "        ma_data=combined_ma_data,\n",
    "        scores=scores,\n",
    "        percentile=percentile,\n",
    "        max_entries=max_entries,          \n",
    "        window_thresholds=window_thresholds, \n",
    "        window_end_times=window_end_times,     \n",
    "        window_ranges=window_ranges\n",
    "    )\n",
    "    \n",
    "    plt.figure(figsize=(15, 5))\n",
    "    plt.plot(capital_history.index, capital_history.values - 1, label='Capital')\n",
    "    plt.title(f'P&L Curve for {model_name.capitalize()} Model')\n",
    "    plt.xlabel('Date')\n",
    "    plt.ylabel('Returns')\n",
    "    plt.legend()\n",
    "    plt.show()\n",
    "    \n",
    "    final_capital = capital_history.iloc[-1]\n",
    "    print(f\"Final Capital for {model_name}: {final_capital:.4f}\")"
   ]
  },
  {
   "cell_type": "code",
   "execution_count": null,
   "id": "3d36b228-1da3-4738-a5f2-059202d6d57b",
   "metadata": {},
   "outputs": [],
   "source": []
  }
 ],
 "metadata": {
  "kernelspec": {
   "display_name": "Python 3 (ipykernel)",
   "language": "python",
   "name": "python3"
  },
  "language_info": {
   "codemirror_mode": {
    "name": "ipython",
    "version": 3
   },
   "file_extension": ".py",
   "mimetype": "text/x-python",
   "name": "python",
   "nbconvert_exporter": "python",
   "pygments_lexer": "ipython3",
   "version": "3.10.12"
  }
 },
 "nbformat": 4,
 "nbformat_minor": 5
}

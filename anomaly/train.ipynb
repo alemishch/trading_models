{
 "cells": [
  {
   "cell_type": "code",
   "execution_count": 1,
   "id": "e9a1949f-3de4-48b1-8899-dcf9e62f3b08",
   "metadata": {},
   "outputs": [],
   "source": [
    "import pandas as pd\n",
    "import numpy as np\n",
    "import matplotlib.pyplot as plt\n",
    "import torch\n",
    "from tqdm import tqdm\n",
    "from sklearn.preprocessing import StandardScaler\n",
    "import random\n",
    "from datetime import timedelta\n",
    "from pandas.tseries.offsets import DateOffset\n",
    "from scipy.stats import percentileofscore, zscore\n",
    "import ta\n",
    "import os\n",
    "from typing import List, Tuple, Optional, Literal\n",
    "from datetime import datetime\n",
    "from pydantic import BaseModel, Field, validator\n",
    "from models import *\n",
    "\n",
    "\n",
    "from backtest_optimizer.main import (\n",
    "    ParameterOptimizer,\n",
    ")"
   ]
  },
  {
   "cell_type": "code",
   "execution_count": 8,
   "id": "93cfc8df-dfee-4ca5-838f-ae4fb4eff038",
   "metadata": {},
   "outputs": [
    {
     "name": "stderr",
     "output_type": "stream",
     "text": [
      "/tmp/ipykernel_1954/4191657188.py:280: PydanticDeprecatedSince20: Pydantic V1 style `@validator` validators are deprecated. You should migrate to Pydantic V2 style `@field_validator` validators, see the migration guide for more details. Deprecated in Pydantic V2.0 to be removed in V3.0. See Pydantic V2 Migration Guide at https://errors.pydantic.dev/2.10/migration/\n",
      "  @validator(\"entry_time\", \"exit_time\", pre=True, always=True)\n"
     ]
    }
   ],
   "source": [
    "\n",
    "def mark_extremes_advanced(\n",
    "    prices: List[float],\n",
    "    threshold_abs: float = 0.0,\n",
    "    threshold_pct: float = 0.03,\n",
    "    use_pct: bool = True,\n",
    "    dynamic_threshold: bool = False,\n",
    "    vol_window: int = 10,\n",
    "    vol_multiplier: float = 1.0,\n",
    "    confirmation_period: int = 1,\n",
    ") -> List[Tuple[int, str]]:\n",
    "    \"\"\"\n",
    "    Identify turning points (peaks and troughs) in a price series using an advanced zigzag approach.\n",
    "\n",
    "    In this version, a turning point is detected only after a reversal condition is confirmed\n",
    "    for a number of consecutive bars (confirmation_period). In addition, the threshold for a reversal\n",
    "    can be based on either a fixed percentage/absolute level or (optionally) be dynamically adjusted\n",
    "    based on recent volatility.\n",
    "\n",
    "    Parameters:\n",
    "        prices (List[float]): List of price values.\n",
    "        threshold_abs (float): Fixed absolute threshold (if use_pct is False).\n",
    "        threshold_pct (float): Percentage threshold (e.g. 0.03 for 3%) used if use_pct is True.\n",
    "        use_pct (bool): If True, the base threshold is computed as threshold_pct * current_price.\n",
    "        dynamic_threshold (bool): If True, adjust the threshold based on recent volatility.\n",
    "        vol_window (int): Number of bars to compute volatility if dynamic_threshold is True.\n",
    "        vol_multiplier (float): Multiplier for volatility to form a dynamic threshold.\n",
    "        confirmation_period (int): Number of consecutive bars that must confirm a reversal before marking it.\n",
    "\n",
    "    Returns:\n",
    "        List[Tuple[int, str]]: A list of tuples where each tuple is (index, type) and type is either 'peak' or 'trough'.\n",
    "    \"\"\"\n",
    "    if not prices:\n",
    "        return []\n",
    "\n",
    "    turning_points: List[Tuple[int, str]] = []\n",
    "\n",
    "    # Initialize extremes with the first price.\n",
    "    last_min = prices[0]\n",
    "    last_max = prices[0]\n",
    "    last_min_idx = 0\n",
    "    last_max_idx = 0\n",
    "\n",
    "    # Trend indicator: True means an uptrend (so the last extreme was a minimum)\n",
    "    # False means a downtrend (last extreme was a maximum). None means not yet established.\n",
    "    trend = None\n",
    "\n",
    "    i = 1\n",
    "    n = len(prices)\n",
    "\n",
    "    while i < n:\n",
    "        price = prices[i]\n",
    "\n",
    "        if dynamic_threshold:\n",
    "            if i < vol_window:\n",
    "                i += 1\n",
    "                continue\n",
    "            recent_changes = np.diff(prices[i - vol_window : i + 1])\n",
    "            volatility = np.std(recent_changes)\n",
    "            dynamic_thresh = vol_multiplier * volatility\n",
    "            threshold = max(threshold_abs, dynamic_thresh)\n",
    "        else:\n",
    "            threshold = threshold_abs if not use_pct else threshold_pct * prices[i]\n",
    "        # --- Update current extremes ---\n",
    "        if price > last_max:\n",
    "            last_max = price\n",
    "            last_max_idx = i\n",
    "        if price < last_min:\n",
    "            last_min = price\n",
    "            last_min_idx = i\n",
    "        # --- Establish the initial trend if not set ---\n",
    "        if trend is None:\n",
    "            if last_max - prices[0] > threshold:\n",
    "                trend = True  # Uptrend is established (price rose from the first bar)\n",
    "            elif prices[0] - last_min > threshold:\n",
    "                trend = False  # Downtrend is established\n",
    "            # Else, trend remains undefined.\n",
    "        # --- Check for reversal conditions with confirmation ---\n",
    "        # In an uptrend, a sufficient drop from the last maximum signals a potential reversal.\n",
    "        if trend is True and (last_max - price > threshold):\n",
    "            confirm = True\n",
    "            for j in range(i, min(i + confirmation_period, n)):\n",
    "                if last_max - prices[j] <= threshold:\n",
    "                    confirm = False\n",
    "                    break\n",
    "            if confirm:\n",
    "                # In an uptrend, a drop signals that the previous maximum is a peak.\n",
    "                turning_points.append((last_max_idx, \"peak\"))\n",
    "                # Reset the minimum using the current price.\n",
    "                last_min = prices[i]\n",
    "                last_min_idx = i\n",
    "                trend = False\n",
    "                i += confirmation_period  # Skip confirmation period.\n",
    "                continue\n",
    "\n",
    "        # In a downtrend, a sufficient rise from the last minimum signals a potential reversal.\n",
    "        if trend is False and (price - last_min > threshold):\n",
    "            confirm = True\n",
    "            for j in range(i, min(i + confirmation_period, n)):\n",
    "                if prices[j] - last_min <= threshold:\n",
    "                    confirm = False\n",
    "                    break\n",
    "            if confirm:\n",
    "                turning_points.append((last_min_idx, \"trough\"))\n",
    "                # Reset the maximum using the current price.\n",
    "                last_max = prices[i]\n",
    "                last_max_idx = i\n",
    "                trend = True\n",
    "                i += confirmation_period\n",
    "                continue\n",
    "\n",
    "        i += 1\n",
    "\n",
    "    # Always mark the final point as a turning point if it wasn’t already included.\n",
    "    if not turning_points or turning_points[-1][0] != n - 1:\n",
    "        # For the final point, we decide its type based on the current trend.\n",
    "        final_type = \"trough\" if trend else \"peak\"\n",
    "        turning_points.append((n - 1, final_type))\n",
    "\n",
    "    return turning_points\n",
    "\n",
    "\n",
    "def expand_region(\n",
    "    prices: List[float],\n",
    "    extreme_index: int,\n",
    "    extreme_type: str,\n",
    "    region_tolerance_pct: float,\n",
    ") -> Tuple[int, int]:\n",
    "    \"\"\"\n",
    "    Given an extreme (turning point) at extreme_index with a given type ('peak' or 'trough'),\n",
    "    expand outward to mark the region where the price remains close to the extreme value.\n",
    "\n",
    "    For a 'peak', we include contiguous indices where the price is within (1 - region_tolerance_pct)\n",
    "    of the peak value. For a 'trough', we include indices where the price is within (1 + region_tolerance_pct)\n",
    "    of the trough value.\n",
    "\n",
    "    Parameters:\n",
    "        prices (List[float]): The price series.\n",
    "        extreme_index (int): The index of the turning point.\n",
    "        extreme_type (str): Either 'peak' or 'trough'.\n",
    "        region_tolerance_pct (float): Tolerance as a fraction (e.g., 0.01 for 1%).\n",
    "\n",
    "    Returns:\n",
    "        Tuple[int, int]: A tuple (start_index, end_index) defining the region boundaries.\n",
    "    \"\"\"\n",
    "    extreme_value = prices[extreme_index]\n",
    "    start = extreme_index\n",
    "    end = extreme_index\n",
    "    n = len(prices)\n",
    "\n",
    "    if extreme_type == \"peak\":\n",
    "        # Expand left as long as the price is within region_tolerance_pct of the peak.\n",
    "        while start > 0 and prices[start - 1] >= extreme_value * (\n",
    "            1 - region_tolerance_pct\n",
    "        ):\n",
    "            start -= 1\n",
    "        # Expand right similarly.\n",
    "        while end < n - 1 and prices[end + 1] >= extreme_value * (\n",
    "            1 - region_tolerance_pct\n",
    "        ):\n",
    "            end += 1\n",
    "    elif extreme_type == \"trough\":\n",
    "        while start > 0 and prices[start - 1] <= extreme_value * (\n",
    "            1 + region_tolerance_pct\n",
    "        ):\n",
    "            start -= 1\n",
    "        while end < n - 1 and prices[end + 1] <= extreme_value * (\n",
    "            1 + region_tolerance_pct\n",
    "        ):\n",
    "            end += 1\n",
    "    else:\n",
    "        raise ValueError(\"extreme_type must be either 'peak' or 'trough'.\")\n",
    "\n",
    "    return start, end\n",
    "\n",
    "\n",
    "def mark_extreme_regions(\n",
    "    prices: List[float],\n",
    "    threshold_abs: float = 0.0,\n",
    "    threshold_pct: float = 0.03,\n",
    "    use_pct: bool = True,\n",
    "    dynamic_threshold: bool = False,\n",
    "    vol_window: int = 10,\n",
    "    vol_multiplier: float = 1.0,\n",
    "    confirmation_period: int = 1,\n",
    "    region_tolerance_pct: float = 0.01,\n",
    ") -> List[Tuple[int, int, str]]:\n",
    "    \"\"\"\n",
    "    First detect turning points using an advanced zigzag algorithm, then expand each turning point\n",
    "    into a region where the price remains near the extreme value.\n",
    "\n",
    "    Returns a list of tuples (region_start_index, region_end_index, type), where type is 'peak' or 'trough'.\n",
    "    \"\"\"\n",
    "    # Detect turning points.\n",
    "    turning_points = mark_extremes_advanced(\n",
    "        prices,\n",
    "        threshold_abs,\n",
    "        threshold_pct,\n",
    "        use_pct,\n",
    "        dynamic_threshold,\n",
    "        vol_window,\n",
    "        vol_multiplier,\n",
    "        confirmation_period,\n",
    "    )\n",
    "    regions = []\n",
    "    for idx, t_type in turning_points:\n",
    "        start, end = expand_region(prices, idx, t_type, region_tolerance_pct)\n",
    "        regions.append((start, end, t_type))\n",
    "    return regions\n",
    "\n",
    "\n",
    "def detect_anomalies_agg_returns(\n",
    "    df, L=10, rolling_window=50, threshold=3, method=\"sum\"\n",
    "):\n",
    "    returns = df[\"close\"].pct_change().fillna(0)\n",
    "    if method == \"sum\":\n",
    "        S = returns.rolling(window=L).sum()\n",
    "    else:\n",
    "        S = returns.rolling(window=L).mean()\n",
    "    S = S.dropna()\n",
    "    med = S.rolling(window=rolling_window, center=True).median()\n",
    "    mad = S.rolling(window=rolling_window, center=True).apply(\n",
    "        lambda x: np.median(np.abs(x - np.median(x))), raw=True\n",
    "    )\n",
    "    robust_z = (S - med) / (1.4826 * mad)\n",
    "    agg_anomalies = S.index[np.abs(robust_z) > threshold]\n",
    "    return agg_anomalies\n",
    "\n",
    "\n",
    "def detect_anomalies(mse, num_std):\n",
    "    \"\"\"Detect anomalies in test data using thresholding.\"\"\"\n",
    "    threshold = np.mean(mse) + num_std * np.std(mse)\n",
    "    # print(\"Threshold = \", np.round(threshold, 2))\n",
    "    anomalies = np.where(mse > np.round(threshold, 2))[0]\n",
    "    return anomalies\n",
    "\n",
    "\n",
    "def deviation_from_mean(data, value):\n",
    "    # z_scores = zscore(data)\n",
    "    deviation = (value - np.mean(data)) / np.std(data)\n",
    "    return deviation\n",
    "\n",
    "\n",
    "def check_entry_signal(\n",
    "    trade_type: str,\n",
    "    current_rsi: float,\n",
    "    current_price: float,\n",
    "    current_ma_short: float,\n",
    "    current_ma_long: float,\n",
    "    rsi_entry: [list, tuple],\n",
    "    exit_val: str,\n",
    "    with_short: bool,\n",
    ") -> bool:\n",
    "    conditions = {\n",
    "        (\"buy\", \"rsi\"): current_rsi < rsi_entry[0],\n",
    "        (\"buy\", \"ma\"): current_price < current_ma_long,\n",
    "        (\"sell\", \"rsi\"): (current_rsi > rsi_entry[1]) if with_short else False,\n",
    "        (\"sell\", \"ma\"): (current_price > current_ma_short) if with_short else False,\n",
    "    }\n",
    "    return conditions.get((trade_type, exit_val), False)\n",
    "\n",
    "\n",
    "class Trade(BaseModel):\n",
    "    trade_type: Literal[\"buy\", \"sell\"] = Field(..., description=\"Type of the trade\")\n",
    "    volume: float = Field(..., gt=0, description=\"Volume of the trade\")\n",
    "    entry_price: float = Field(\n",
    "        ..., gt=0, description=\"Price at which the trade was entered\"\n",
    "    )\n",
    "    entry_time: datetime = Field(\n",
    "        ..., description=\"Timestamp when the trade was entered\"\n",
    "    )\n",
    "\n",
    "    exit_time: Optional[datetime] = Field(\n",
    "        None, description=\"Timestamp when the trade was closed\"\n",
    "    )\n",
    "    exit_price: Optional[float] = Field(\n",
    "        None, gt=0, description=\"Price at which the trade was closed\"\n",
    "    )\n",
    "    profit: Optional[float] = Field(None, description=\"Profit or loss from the trade\")\n",
    "\n",
    "    @validator(\"entry_time\", \"exit_time\", pre=True, always=True)\n",
    "    def convert_np_datetime(cls, v):\n",
    "        if isinstance(v, np.datetime64):\n",
    "            # Convert numpy.datetime64 to Python datetime\n",
    "            return pd.Timestamp(v).to_pydatetime()\n",
    "        return v\n",
    "\n",
    "    def close_trade(\n",
    "        self, exit_time: datetime, exit_price: float, commission_rate: float\n",
    "    ) -> None:\n",
    "        \"\"\"\n",
    "        Closes the trade by setting the exit time, exit price, and calculating the profit.\n",
    "        \"\"\"\n",
    "        self.exit_time = exit_time\n",
    "        self.exit_price = exit_price\n",
    "\n",
    "        if self.trade_type == \"buy\":\n",
    "            raw_profit = (exit_price - self.entry_price) * (\n",
    "                self.volume / self.entry_price\n",
    "            )\n",
    "        else:  # For \"sell\" trades\n",
    "            raw_profit = (self.entry_price - exit_price) * (\n",
    "                self.volume / self.entry_price\n",
    "            )\n",
    "\n",
    "        # Deduct commission from the profit\n",
    "        self.profit = raw_profit - (self.volume * commission_rate)\n",
    "\n",
    "\n",
    "# noinspection PyTypeChecker\n",
    "def simulate_trading_std(\n",
    "    model_name,\n",
    "    price_data: pd.Series,\n",
    "    scaled_prices: pd.Series,\n",
    "    predicted_prices: pd.Series,\n",
    "    ma_data_short: pd.Series,\n",
    "    ma_data_long: pd.Series,\n",
    "    rsi_data: pd.Series,\n",
    "    scores,  # type unspecified\n",
    "    rolling_anomalies,\n",
    "    num_std: float,\n",
    "    max_entries: int,\n",
    "    exit_val,\n",
    "    distr_len: int = 99,\n",
    "    num_std_exit: float = 1,\n",
    "    rsi_entry=(40, 60),\n",
    "    rsi_exit=(60, 40),\n",
    "    print_trades: bool = False,\n",
    "    commission_rate: float = 0.0002,\n",
    "    with_short: bool = True,\n",
    "):\n",
    "    \"\"\"\n",
    "    Simulates a trading strategy and returns a Pandas Series of daily profits and a list of closed Trade objects.\n",
    "    \"\"\"\n",
    "    # Convert data to numpy arrays for fast access.\n",
    "    price_array = price_data.to_numpy(dtype=np.float64)\n",
    "    ma_array_short = ma_data_short.to_numpy(dtype=np.float64)\n",
    "    ma_array_long = ma_data_long.to_numpy(dtype=np.float64)\n",
    "    rsi_array = rsi_data.to_numpy(dtype=np.float64)\n",
    "    scaled_prices_array = scaled_prices.to_numpy(dtype=np.float64)\n",
    "    predicted_prices_array = predicted_prices.to_numpy(dtype=np.float64)\n",
    "    anomalies_array = np.asarray(rolling_anomalies, dtype=bool)\n",
    "    index_array = price_data.index.to_numpy()\n",
    "\n",
    "    n = len(price_array)\n",
    "    if len(rsi_array) != n or len(anomalies_array) != n:\n",
    "        raise ValueError(\n",
    "            \"price_data, rsi_data, and rolling_anomalies must have the same length.\"\n",
    "        )\n",
    "\n",
    "    rolling_std = price_data.rolling(distr_len, min_periods=1).std().values\n",
    "\n",
    "    capital = 1.0\n",
    "    profit_array = np.full(n, np.nan, dtype=np.float64)\n",
    "    open_trades: List[Trade] = []\n",
    "    closed_trades: List[Trade] = []\n",
    "    trade_entries = set()\n",
    "\n",
    "    base_price = None\n",
    "    base_trade_type = None\n",
    "\n",
    "    def get_entry_signal(i: int) -> Optional[str]:\n",
    "        if not anomalies_array[i]:\n",
    "            return None\n",
    "\n",
    "        current_price = price_array[i]\n",
    "        current_rsi = rsi_array[i]\n",
    "        current_ma_short = ma_array_short[i]\n",
    "        current_ma_long = ma_array_long[i]\n",
    "        scaled_price = scaled_prices_array[i]\n",
    "        predicted_price = predicted_prices_array[i]\n",
    "\n",
    "        buy_signal = check_entry_signal(\n",
    "            trade_type=\"buy\",\n",
    "            current_rsi=current_rsi,\n",
    "            current_price=current_price,\n",
    "            current_ma_short=current_ma_short,\n",
    "            current_ma_long=current_ma_long,\n",
    "            rsi_entry=rsi_entry,\n",
    "            exit_val=exit_val,\n",
    "            with_short=with_short,\n",
    "        )\n",
    "\n",
    "        sell_signal = (\n",
    "            check_entry_signal(\n",
    "                trade_type=\"sell\",\n",
    "                current_rsi=current_rsi,\n",
    "                current_price=current_price,\n",
    "                current_ma_short=current_ma_short,\n",
    "                current_ma_long=current_ma_long,\n",
    "                rsi_entry=rsi_entry,\n",
    "                exit_val=exit_val,\n",
    "                with_short=with_short,\n",
    "            )\n",
    "            if with_short\n",
    "            else False\n",
    "        )\n",
    "\n",
    "        return \"buy\" if buy_signal else \"sell\" if sell_signal else None\n",
    "\n",
    "    for i in range(n):\n",
    "        timestamp = index_array[i]\n",
    "        current_price = price_array[i]\n",
    "        current_ma_short = ma_array_short[i]\n",
    "        current_ma_long = ma_array_long[i]\n",
    "        current_rsi = rsi_array[i]\n",
    "        local_std = rolling_std[i]\n",
    "        daily_profit = 0.0\n",
    "\n",
    "        # ----- Handle Trade Exits -----\n",
    "        if open_trades:\n",
    "            # Check for a trade flip (opening an opposite position)\n",
    "            opposite_trade_type = \"sell\" if base_trade_type == \"buy\" else \"buy\"\n",
    "\n",
    "            flip_signal = get_entry_signal(i) == opposite_trade_type\n",
    "\n",
    "            if flip_signal:\n",
    "                for trade in open_trades:\n",
    "                    trade.close_trade(\n",
    "                        exit_time=timestamp,\n",
    "                        exit_price=current_price,\n",
    "                        commission_rate=commission_rate,\n",
    "                    )\n",
    "                    capital += trade.profit\n",
    "                    daily_profit += trade.profit\n",
    "                    if print_trades:\n",
    "                        print(\n",
    "                            f\"Trade flipped: {trade.trade_type} entered at {trade.entry_time} \"\n",
    "                            f\"(Entry Price: {trade.entry_price:.2f}), exited at {timestamp} \"\n",
    "                            f\"(Exit Price: {current_price:.2f}), Volume: {trade.volume:.4f}, \"\n",
    "                            f\"P&L: {trade.profit:.4f}\"\n",
    "                        )\n",
    "                    closed_trades.append(trade)\n",
    "                open_trades = []\n",
    "                base_price, base_trade_type = None, None\n",
    "\n",
    "            # Check individual trade exit conditions\n",
    "            trades_to_close = []\n",
    "            for trade in open_trades:\n",
    "                exit_signal = False\n",
    "\n",
    "                if exit_val == \"rsi\":\n",
    "                    if trade.trade_type == \"buy\" and current_rsi >= rsi_exit[0]:\n",
    "                        exit_signal = True\n",
    "                    elif trade.trade_type == \"sell\" and current_rsi <= rsi_exit[1]:\n",
    "                        exit_signal = True\n",
    "                elif exit_val == \"ma\":\n",
    "                    if trade.trade_type == \"buy\" and current_price >= current_ma_long:\n",
    "                        exit_signal = True\n",
    "                    elif (\n",
    "                        trade.trade_type == \"sell\" and current_price <= current_ma_short\n",
    "                    ):\n",
    "                        exit_signal = True\n",
    "\n",
    "                # Standard deviation-based exit condition\n",
    "                if (\n",
    "                    trade.trade_type == \"buy\"\n",
    "                    and current_price >= trade.entry_price + local_std * num_std_exit\n",
    "                ):\n",
    "                    exit_signal = True\n",
    "                if (\n",
    "                    trade.trade_type == \"sell\"\n",
    "                    and current_price <= trade.entry_price - local_std * num_std_exit\n",
    "                ):\n",
    "                    exit_signal = True\n",
    "\n",
    "                if exit_signal:\n",
    "                    trades_to_close.append(trade)\n",
    "\n",
    "            for trade in trades_to_close:\n",
    "                trade.close_trade(\n",
    "                    exit_time=timestamp,\n",
    "                    exit_price=current_price,\n",
    "                    commission_rate=commission_rate,\n",
    "                )\n",
    "                capital += trade.profit\n",
    "                daily_profit += trade.profit\n",
    "                if print_trades:\n",
    "                    print(\n",
    "                        f\"Trade executed: {trade.trade_type} entered at {trade.entry_time} \"\n",
    "                        f\"(Entry Price: {trade.entry_price:.2f}), exited at {timestamp} \"\n",
    "                        f\"(Exit Price: {current_price:.2f}), Volume: {trade.volume:.4f}, \"\n",
    "                        f\"P&L: {trade.profit:.4f}\"\n",
    "                    )\n",
    "                closed_trades.append(trade)\n",
    "            # Keep open trades that haven't met exit conditions\n",
    "            open_trades = [\n",
    "                trade for trade in open_trades if trade not in trades_to_close\n",
    "            ]\n",
    "\n",
    "        # ----- Handle Trade Entries -----\n",
    "        entry_signal = get_entry_signal(i)\n",
    "        if entry_signal and len(open_trades) < max_entries:\n",
    "            if not open_trades:\n",
    "                if timestamp not in trade_entries:\n",
    "                    trade_entries.add(timestamp)\n",
    "                    trade_volume = capital / max_entries\n",
    "                    new_trade = Trade(\n",
    "                        trade_type=entry_signal,\n",
    "                        volume=trade_volume,\n",
    "                        entry_price=current_price,\n",
    "                        entry_time=timestamp,\n",
    "                    )\n",
    "                    open_trades.append(new_trade)\n",
    "                    base_price = current_price\n",
    "                    base_trade_type = entry_signal\n",
    "            else:\n",
    "                required_distance = len(open_trades) * num_std * local_std\n",
    "                price_condition = (\n",
    "                    current_price >= base_price + required_distance\n",
    "                    if base_trade_type == \"sell\"\n",
    "                    else current_price <= base_price - required_distance\n",
    "                )\n",
    "\n",
    "                if price_condition and timestamp not in trade_entries:\n",
    "                    trade_entries.add(timestamp)\n",
    "                    trade_volume = capital / max_entries\n",
    "                    new_trade = Trade(\n",
    "                        trade_type=base_trade_type,\n",
    "                        volume=trade_volume,\n",
    "                        entry_price=current_price,\n",
    "                        entry_time=timestamp,\n",
    "                    )\n",
    "                    open_trades.append(new_trade)\n",
    "\n",
    "        profit_array[i] = daily_profit\n",
    "\n",
    "    profits = pd.Series(profit_array, index=price_data.index).fillna(0)\n",
    "    return profits, closed_trades\n",
    "\n",
    "\n",
    "def simulate_trading_percentile(\n",
    "    model_name,\n",
    "    price_data,\n",
    "    ma_data,\n",
    "    scores,\n",
    "    rolling_percentiles,\n",
    "    rolling_anomalies,\n",
    "    percentile,\n",
    "    max_entries,\n",
    "):\n",
    "    initial_capital = 1.0\n",
    "    capital = initial_capital\n",
    "    capital_history = pd.Series(index=price_data.index, data=np.nan)\n",
    "    capital_history.iloc[0] = capital\n",
    "\n",
    "    open_trades = []\n",
    "    trade_entries = set()  # Timestamps where trades are opened\n",
    "\n",
    "    index_array = list(price_data.index)\n",
    "\n",
    "    for i in range(len(index_array)):\n",
    "        timestamp = index_array[i]\n",
    "\n",
    "        current_price = price_data.iloc[i]\n",
    "        current_ma = ma_data.iloc[i]\n",
    "\n",
    "        trades_to_close = []\n",
    "        for trade in open_trades:\n",
    "            trade_type = trade[\"type\"]\n",
    "            entry_price = trade[\"entry_price\"]\n",
    "            entry_time = trade[\"entry_time\"]\n",
    "            anomaly_percentage = trade[\"anomaly_percentage\"]\n",
    "            if trade_type == \"buy\" and current_price >= current_ma:\n",
    "                exit_price = current_price\n",
    "                profit = (exit_price - entry_price) * (trade[\"volume\"] / entry_price)\n",
    "                capital += profit\n",
    "                trades_to_close.append(trade)\n",
    "                capital_history.iloc[i] = capital\n",
    "\n",
    "                print(\n",
    "                    f\"Trade executed: {trade_type} at {entry_time} \"\n",
    "                    f\"(Entry Price: {entry_price:.2f}), exited at {timestamp} \"\n",
    "                    f\"(Exit Price: {exit_price:.2f}), Volume: {trade['volume']:.4f}, \"\n",
    "                    f\"Anomaly: {anomaly_percentage:.2f}%, P&L: {profit:.4f}\"\n",
    "                )\n",
    "\n",
    "            elif trade_type == \"sell\" and current_price <= current_ma:\n",
    "                exit_price = current_price\n",
    "                profit = (entry_price - exit_price) * (trade[\"volume\"] / entry_price)\n",
    "                capital += profit\n",
    "                trades_to_close.append(trade)\n",
    "                capital_history.iloc[i] = capital\n",
    "\n",
    "                print(\n",
    "                    f\"Trade executed: {trade_type} at {entry_time} \"\n",
    "                    f\"(Entry Price: {entry_price:.2f}), exited at {timestamp} \"\n",
    "                    f\"(Exit Price: {exit_price:.2f}), Volume: {trade['volume']:.4f}, \"\n",
    "                    f\"Anomaly: {anomaly_percentage:.2f}%, P&L: {profit:.4f}\"\n",
    "                )\n",
    "\n",
    "        for closed_trade in trades_to_close:\n",
    "            open_trades.remove(closed_trade)\n",
    "\n",
    "        if rolling_anomalies[i] and len(open_trades) < max_entries:\n",
    "            k = len(open_trades)\n",
    "            required_threshold = percentile + k * step\n",
    "            if required_threshold >= 100.0:\n",
    "                required_threshold = 100.1\n",
    "\n",
    "            anomaly_percentile = rolling_percentiles[i]\n",
    "            if anomaly_percentile >= required_threshold:\n",
    "                if timestamp not in trade_entries:\n",
    "                    trade_entries.add(timestamp)\n",
    "                    if current_price > current_ma:\n",
    "                        trade_type = \"sell\"\n",
    "                    elif current_price < current_ma:\n",
    "                        trade_type = \"buy\"\n",
    "                    else:\n",
    "                        trade_type = None\n",
    "\n",
    "                    if trade_type is not None:\n",
    "                        trade_volume = capital / max_entries\n",
    "                        anomaly_percentage = 100.0 - anomaly_percentile\n",
    "                        open_trades.append(\n",
    "                            {\n",
    "                                \"type\": trade_type,\n",
    "                                \"volume\": trade_volume,\n",
    "                                \"entry_price\": current_price,\n",
    "                                \"entry_time\": timestamp,\n",
    "                                \"anomaly_percentage\": anomaly_percentage,\n",
    "                            }\n",
    "                        )\n",
    "\n",
    "        capital_history.iloc[i] = capital\n",
    "\n",
    "    capital_history.ffill(inplace=True)\n",
    "    capital_history.fillna(capital, inplace=True)\n",
    "\n",
    "    return capital_history\n",
    "\n",
    "\n",
    "def calculate_rsi(df, window=14):\n",
    "    rsi = ta.momentum.RSIIndicator(close=df[\"close\"], window=window)\n",
    "    rsi_values = rsi.rsi()\n",
    "    rsi_values = np.maximum(rsi_values, 0)  # Ensure non-negative\n",
    "    return rsi_values\n",
    "\n",
    "\n",
    "def analyze_anomalies(\n",
    "    anomaly_timestamps, original_data_sorted, window_minutes=13 * 24 * 60\n",
    "):\n",
    "    results = []\n",
    "\n",
    "    for ts in anomaly_timestamps:\n",
    "        if ts < original_data_sorted.index[window_minutes - 1]:\n",
    "            continue\n",
    "\n",
    "        future_time = ts + pd.Timedelta(hours=1)\n",
    "        if future_time > original_data_sorted.index[-1]:\n",
    "            continue\n",
    "\n",
    "        try:\n",
    "            open_price = original_data_sorted.loc[ts, \"close\"]\n",
    "        except KeyError:\n",
    "            continue\n",
    "\n",
    "        prev_time = ts - pd.Timedelta(minutes=1)\n",
    "        if prev_time not in original_data_sorted.index:\n",
    "            continue\n",
    "        rolling_avg = original_data_sorted.loc[prev_time, \"rolling_avg\"]\n",
    "        rolling_low = original_data_sorted.loc[prev_time, \"rolling_low\"]\n",
    "        rolling_high = original_data_sorted.loc[prev_time, \"rolling_high\"]\n",
    "\n",
    "        if np.isnan(rolling_avg) or np.isnan(rolling_low) or np.isnan(rolling_high):\n",
    "            continue\n",
    "\n",
    "        above_avg = open_price > rolling_avg\n",
    "\n",
    "        above_low = open_price > rolling_low\n",
    "        below_high = open_price < rolling_high\n",
    "\n",
    "        try:\n",
    "            next_hour_data = original_data_sorted.loc[\n",
    "                ts + pd.Timedelta(minutes=1) : ts + pd.Timedelta(hours=1)\n",
    "            ]\n",
    "        except KeyError:\n",
    "            continue\n",
    "\n",
    "        if next_hour_data.empty:\n",
    "            continue\n",
    "\n",
    "        min_open_next_hour = next_hour_data[\"close\"].min()\n",
    "        max_open_next_hour = next_hour_data[\"close\"].max()\n",
    "\n",
    "        try:\n",
    "            close_price_next_hour = original_data_sorted.loc[\n",
    "                ts + pd.Timedelta(hours=1), \"close\"\n",
    "            ]\n",
    "        except KeyError:\n",
    "            continue\n",
    "\n",
    "        if above_avg:\n",
    "            price_after = min_open_next_hour\n",
    "            price_change = min_open_next_hour - open_price\n",
    "            direction = \"Min\"\n",
    "        else:\n",
    "            price_after = max_open_next_hour\n",
    "            price_change = max_open_next_hour - open_price\n",
    "            direction = \"Max\"\n",
    "\n",
    "        close_change = close_price_next_hour - open_price\n",
    "\n",
    "        price_change_pct = (price_change / open_price) * 100\n",
    "        close_change_pct = (close_change / open_price) * 100\n",
    "\n",
    "        if above_avg:\n",
    "            if price_after < open_price:\n",
    "                sign = 1\n",
    "            elif price_after > open_price:\n",
    "                sign = -1\n",
    "            else:\n",
    "                sign = 0\n",
    "        else:\n",
    "            if price_after > open_price:\n",
    "                sign = 1\n",
    "            elif price_after < open_price:\n",
    "                sign = -1\n",
    "            else:\n",
    "                sign = 0\n",
    "\n",
    "        price_change_pct_signed = price_change_pct * sign\n",
    "        close_change_pct_signed = close_change_pct * sign\n",
    "\n",
    "        relative_to_avg = \"Above Avg\" if above_avg else \"Below Avg\"\n",
    "        relative_to_low_high = []\n",
    "        if above_low:\n",
    "            relative_to_low_high.append(\"Above Low\")\n",
    "        if below_high:\n",
    "            relative_to_low_high.append(\"Below High\")\n",
    "        if not relative_to_low_high:\n",
    "            relative_to_low_high.append(\"At Low/High\")\n",
    "\n",
    "        results.append(\n",
    "            {\n",
    "                \"timestamp\": ts,\n",
    "                \"open_price\": open_price,\n",
    "                \"rolling_avg\": rolling_avg,\n",
    "                \"rolling_low\": rolling_low,\n",
    "                \"rolling_high\": rolling_high,\n",
    "                \"relative_to_avg\": relative_to_avg,\n",
    "                \"relative_to_low_high\": \", \".join(relative_to_low_high),\n",
    "                \"price_after\": price_after,\n",
    "                \"price_change_pct_signed\": price_change_pct_signed,\n",
    "                \"direction\": direction,\n",
    "                \"close_next_hour\": close_price_next_hour,\n",
    "                \"close_change_pct_signed\": close_change_pct_signed,\n",
    "            }\n",
    "        )\n",
    "\n",
    "    results_df = pd.DataFrame(results)\n",
    "    return results_df\n",
    "\n",
    "\n",
    "def compute_statistics(results_df, model_name):\n",
    "    if results_df.empty:\n",
    "        print(\"No anomalies to analyze.\")\n",
    "        return\n",
    "\n",
    "    print(f\"\\n=== Statistics for {model_name.capitalize()} ===\")\n",
    "\n",
    "    relative_to_avg = results_df[\"relative_to_avg\"]\n",
    "    print(f\"\\nRelative to {window_minutes}-minutes Average:\")\n",
    "    print(relative_to_avg.value_counts())\n",
    "\n",
    "    relative_to_low_high = results_df[\"relative_to_low_high\"]\n",
    "    print(f\"\\nRelative to {window_minutes}-minutes Low/High:\")\n",
    "    print(relative_to_low_high.value_counts())\n",
    "\n",
    "    print(\"\\nNext Hour Min/Max Open Price Change (%):\")\n",
    "    print(results_df[\"price_change_pct_signed\"].describe())\n",
    "\n",
    "    print(\"\\nNext Hour Close Price Change (%):\")\n",
    "    print(results_df[\"close_change_pct_signed\"].describe())\n",
    "\n",
    "    plt.figure(figsize=(10, 5))\n",
    "    relative_to_avg.value_counts().plot(kind=\"bar\")\n",
    "    plt.title(\n",
    "        f\"{model_name.capitalize()} - Relative to {window_minutes}-minutes Average\"\n",
    "    )\n",
    "    plt.xlabel(\"Position\")\n",
    "    plt.ylabel(\"Count\")\n",
    "    plt.show()\n",
    "\n",
    "    plt.figure(figsize=(10, 5))\n",
    "    relative_to_low_high.value_counts().plot(kind=\"bar\")\n",
    "    plt.title(\n",
    "        f\"{model_name.capitalize()} - Relative to {window_minutes}-minutes Low/High\"\n",
    "    )\n",
    "    plt.xlabel(\"Position\")\n",
    "    plt.ylabel(\"Count\")\n",
    "    plt.show()\n",
    "\n",
    "    plt.figure(figsize=(10, 5))\n",
    "    results_df[\"price_change_pct_signed\"].hist(bins=30)\n",
    "    plt.title(\n",
    "        f\"{model_name.capitalize()} - Next Hour Min/Max Open Price Change (%) Distribution\"\n",
    "    )\n",
    "    plt.xlabel(\"Price Change (%)\")\n",
    "    plt.ylabel(\"Frequency\")\n",
    "    plt.show()\n",
    "\n",
    "    plt.figure(figsize=(10, 5))\n",
    "    results_df[\"close_change_pct_signed\"].hist(bins=30)\n",
    "    plt.title(\n",
    "        f\"{model_name.capitalize()} - Next Hour Close Price Change (%) Distribution\"\n",
    "    )\n",
    "    plt.xlabel(\"Price Change (%)\")\n",
    "    plt.ylabel(\"Frequency\")\n",
    "    plt.show()\n",
    "\n",
    "def calc_pl(data_dict, params):\n",
    "    results_dict = {}\n",
    "\n",
    "    num_std = params.get(\"num_std\", 1)\n",
    "    num_std_exit = params.get(\"num_std_exit\", 1)\n",
    "    percentile = params.get(\"percentile\", 99.5)\n",
    "    exit_val = params.get(\"exit_val\", \"rsi\")\n",
    "    max_entries = params.get(\"max_entries\", 5)\n",
    "    plot_pl = params.get(\"plot_pl\", False)\n",
    "    distr_len = params.get(\"distr_len\", 99)\n",
    "    ma_window_short = params.get(\"ma_window_short\", 100)\n",
    "    ma_window_long = params.get(\"ma_window_long\", 200)\n",
    "    RSI_window_minutes = params.get(\"RSI_window_minutes\", 500)\n",
    "    window_size_minutes = params[\"window_size_minutes\"]\n",
    "    rsi_entry = (\n",
    "        int(params[\"rsi_entry\"].split(\",\")[0]),\n",
    "        int(params[\"rsi_entry\"].split(\",\")[1]),\n",
    "    )\n",
    "    rsi_exit = (\n",
    "        int(params[\"rsi_exit\"].split(\",\")[0]),\n",
    "        int(params[\"rsi_exit\"].split(\",\")[1]),\n",
    "    )\n",
    "    max_entries = params.get(\"max_entries\", 5)\n",
    "    print_trades = params.get(\"print_trades\", False)\n",
    "    comission_rate = params.get(\"comission_rate\", 0.0002)\n",
    "    with_short = params.get(\"with_short\", True)\n",
    "\n",
    "    for ticker, df in data_dict.items():\n",
    "        if print_trades:\n",
    "            print(f\"\\n=== Processing Ticker: {ticker} ===\")\n",
    "        price_data = df[\"close\"]\n",
    "        scaled_prices = df[\"scaled_price\"]\n",
    "        predicted_prices = df[\"predicted_price\"]\n",
    "        rsi_data = calculate_rsi(df, window=RSI_window_minutes)\n",
    "        ma_data_short = (\n",
    "            df[\"close\"].rolling(window=ma_window_short, min_periods=1).mean()\n",
    "        )\n",
    "        ma_data_long = df[\"close\"].rolling(window=ma_window_long, min_periods=1).mean()\n",
    "        scores = df[\"scores\"].values  # array\n",
    "\n",
    "        rolling_anomalies = np.zeros_like(scores, dtype=bool)\n",
    "\n",
    "        for i in range(window_size_minutes, len(scores)):\n",
    "            start_idx = i - window_size_minutes\n",
    "            end_idx = i\n",
    "            window_slice = scores[start_idx:end_idx]\n",
    "            current_score = scores[i]\n",
    "\n",
    "            rank = percentileofscore(window_slice, current_score, kind=\"rank\")\n",
    "            if rank >= percentile:\n",
    "                rolling_anomalies[i] = True\n",
    "        if print_trades:\n",
    "            print(rolling_anomalies.sum())\n",
    "        profits, closed_trades = simulate_trading_std(\n",
    "            model_name=\"kan\",\n",
    "            price_data=price_data,\n",
    "            scaled_prices=scaled_prices,\n",
    "            predicted_prices=predicted_prices,\n",
    "            ma_data_short=ma_data_short,\n",
    "            ma_data_long=ma_data_long,\n",
    "            rsi_data=rsi_data,\n",
    "            scores=scores,\n",
    "            rolling_anomalies=rolling_anomalies,\n",
    "            num_std=num_std,\n",
    "            max_entries=max_entries,\n",
    "            exit_val=exit_val,\n",
    "            distr_len=distr_len,\n",
    "            num_std_exit=num_std_exit,\n",
    "            rsi_entry=rsi_entry,\n",
    "            rsi_exit=rsi_exit,\n",
    "            print_trades=print_trades,\n",
    "            commission_rate=comission_rate,\n",
    "            with_short=with_short,\n",
    "        )\n",
    "\n",
    "        if plot_pl:\n",
    "            plt.figure(figsize=(12, 5))\n",
    "            plt.plot(profits.index, profits.cumsum(), label=\"Profits history\")\n",
    "            plt.title(f\"P&L Curve for {ticker} (exit_val={exit_val})\")\n",
    "            plt.xlabel(\"Date\")\n",
    "            plt.ylabel(\"Returns\")\n",
    "            plt.legend()\n",
    "            plt.show()\n",
    "\n",
    "        daily_rets = profits.resample(\"D\").sum()\n",
    "\n",
    "        results_dict[ticker] = daily_rets\n",
    "\n",
    "    combined_returns = pd.concat(results_dict.values(), axis=1).sum(axis=1)\n",
    "    return combined_returns  # , closed_trades, rolling_anomalies  #######\n",
    "\n",
    "\n",
    "def calculate_sharpe_ratio(profits, risk_free_rate=0.0, annualization_factor=365):\n",
    "    # Convert profits to daily returns\n",
    "    daily_returns = profits.resample(\"D\").sum()\n",
    "\n",
    "    # Calculate mean and standard deviation of daily returns\n",
    "    excess_returns = daily_returns - risk_free_rate  # Subtract risk-free rate if needed\n",
    "    mean_return = excess_returns.mean()\n",
    "    std_return = excess_returns.std()\n",
    "\n",
    "    # Avoid division by zero in case of zero volatility\n",
    "    if std_return == 0:\n",
    "        return np.nan\n",
    "\n",
    "    # Compute Sharpe Ratio (annualized)\n",
    "    sharpe_ratio = (mean_return / std_return) * np.sqrt(annualization_factor)\n",
    "\n",
    "    return sharpe_ratio"
   ]
  },
  {
   "cell_type": "code",
   "execution_count": 13,
   "id": "43ab83bd-074a-4617-a640-5f7f63292619",
   "metadata": {},
   "outputs": [
    {
     "name": "stdout",
     "output_type": "stream",
     "text": [
      "cuda\n"
     ]
    },
    {
     "name": "stderr",
     "output_type": "stream",
     "text": [
      "/tmp/ipykernel_1954/1544693184.py:29: DtypeWarning: Columns (7) have mixed types. Specify dtype option on import or set low_memory=False.\n",
      "  data = pd.read_csv(file_path)\n",
      "/tmp/ipykernel_1954/1544693184.py:93: FutureWarning: A value is trying to be set on a copy of a DataFrame or Series through chained assignment using an inplace method.\n",
      "The behavior will change in pandas 3.0. This inplace method will never work because the intermediate object on which we are setting values always behaves as a copy.\n",
      "\n",
      "For example, when doing 'df[col].method(value, inplace=True)', try using 'df.method({col: value}, inplace=True)' or df[col] = df[col].method(value) instead, to perform the operation inplace on the original object.\n",
      "\n",
      "\n",
      "  data[\"scaled_price\"].fillna(method=\"bfill\", inplace=True)\n",
      "/tmp/ipykernel_1954/1544693184.py:93: FutureWarning: Series.fillna with 'method' is deprecated and will raise in a future version. Use obj.ffill() or obj.bfill() instead.\n",
      "  data[\"scaled_price\"].fillna(method=\"bfill\", inplace=True)\n"
     ]
    }
   ],
   "source": [
    "device = torch.device(\"cuda\" if torch.cuda.is_available() else \"cpu\")\n",
    "print(device)\n",
    "\n",
    "file_path = (\n",
    "    \"/Users/alexanderdemachev/PycharmProjects/strategy/data/futures/1min/BTCUSDT.csv\"\n",
    ")\n",
    "preds_path = \"/Users/alexanderdemachev/PycharmProjects/strategy/aq/portfolio_optimization/market_regimes/trading_models/anomaly/results/\"\n",
    "\n",
    "file_path = \"BTCUSDT.csv\"\n",
    "preds_path = \"results/\"\n",
    "\n",
    "\n",
    "sequence_length = 100\n",
    "start_date = pd.Timestamp(\"2020-01-01 00:00:00\")\n",
    "end_date = pd.Timestamp(\"2024-12-20 23:59:00\")\n",
    "# window_days = 55\n",
    "window_minutes = 500  # for rolling mean\n",
    "exit_val = \"ma\"\n",
    "percentile = 99.5\n",
    "max_entries = 5\n",
    "step = (100 - percentile) / max_entries\n",
    "mode = \"std\"  #'std'/'percentile'\n",
    "num_std = 1\n",
    "num_std_anomaly = 3\n",
    "\n",
    "window_size_minutes = 1000  # window for final anomalies distribution\n",
    "\n",
    "\n",
    "data = pd.read_csv(file_path)\n",
    "\n",
    "data[\"datetime\"] = pd.to_datetime(data[\"datetime\"])\n",
    "data.set_index(\"datetime\", inplace=True)\n",
    "\n",
    "original_data_sorted = data[[\"open\", \"close\"]].copy().sort_index()\n",
    "\n",
    "original_data_sorted[\"rolling_avg\"] = (\n",
    "    original_data_sorted[\"close\"].rolling(window=window_minutes).mean()\n",
    ")\n",
    "original_data_sorted[\"rolling_low\"] = (\n",
    "    original_data_sorted[\"close\"].rolling(window=window_minutes).min()\n",
    ")\n",
    "original_data_sorted[\"rolling_high\"] = (\n",
    "    original_data_sorted[\"close\"].rolling(window=window_minutes).max()\n",
    ")\n",
    "original_data_sorted[\"rsi\"] = calculate_rsi(original_data_sorted, window=window_minutes)\n",
    "\n",
    "# model_names = ['autoencoder', 'cnnautoencoder', 'lstm', 'cnn', 'stackvaeg', 'omnianomaly', 'egads', 'kan'] ######\n",
    "model_names = [\"autoencoder\"]\n",
    "model_params = {\n",
    "    \"autoencoder\": {\"input_size\": sequence_length * 1, \"hidden_dims\": [64, 32, 16]},\n",
    "    \"lstm\": {\"input_size\": 1, \"hidden_size\": 32, \"num_layers\": 1},\n",
    "    \"cnn\": {\"input_size\": sequence_length, \"out_channels\": 16, \"kernel_size\": 3},\n",
    "    \"stackvaeg\": {\n",
    "        \"input_size\": sequence_length * 1,\n",
    "        \"hidden_dims\": [64, 32],\n",
    "        \"latent_dim\": 16,\n",
    "    },\n",
    "    \"omnianomaly\": {\n",
    "        \"input_size\": 1,\n",
    "        \"hidden_size\": 32,\n",
    "        \"latent_dim\": 16,\n",
    "        \"num_layers\": 1,\n",
    "    },\n",
    "    \"egads\": {\"window\": 30},\n",
    "    \"dtw\": {\"window\": 30, \"n_references\": 10, \"seed\": 42},\n",
    "    \"cnnautoencoder\": {\n",
    "        \"input_channels\": 1,\n",
    "        \"sequence_length\": sequence_length,\n",
    "        \"hidden_dims\": [32, 16],\n",
    "    },\n",
    "    \"kan\": {\n",
    "        \"in_feat\": 1,\n",
    "        \"hidden_feat\": 64,\n",
    "        \"out_feat\": 1,\n",
    "        \"num_layers\": 2,\n",
    "        \"use_bias\": True,\n",
    "        \"dropout\": 0.3,\n",
    "    },\n",
    "}\n",
    "\n",
    "train_initial_length = pd.DateOffset(months=6)\n",
    "train_expand_step = pd.DateOffset(months=3)\n",
    "test_length = pd.DateOffset(months=3)\n",
    "\n",
    "window_size = 10000  # or whatever your desired rolling window is\n",
    "\n",
    "data[\"rolling_min\"] = data[\"close\"].rolling(window=window_size, min_periods=1).min()\n",
    "data[\"rolling_max\"] = data[\"close\"].rolling(window=window_size, min_periods=1).max()\n",
    "\n",
    "data[\"scaled_price\"] = (data[\"close\"] - data[\"rolling_min\"]) / (\n",
    "    data[\"rolling_max\"] - data[\"rolling_min\"]\n",
    ")\n",
    "data[\"scaled_price\"].fillna(method=\"bfill\", inplace=True)\n",
    "data = data.drop(columns=[\"rolling_min\", \"rolling_max\"])\n",
    "\n",
    "combined_test_dates = []\n",
    "combined_scores = {}\n",
    "combined_predictions = {}\n",
    "combined_anomalies = {}\n",
    "original_prices_buffer = []\n",
    "scaled_prices = []\n",
    "\n",
    "for model_name in model_names:\n",
    "    combined_scores[model_name] = []\n",
    "    combined_anomalies[model_name] = []\n",
    "    combined_predictions[model_name] = []\n",
    "\n",
    "current_train_start = start_date\n",
    "current_train_end = current_train_start + train_initial_length\n",
    "current_test_start = current_train_end\n",
    "current_test_end = current_test_start + test_length"
   ]
  },
  {
   "cell_type": "code",
   "execution_count": 14,
   "id": "c378e993-c69e-43ae-afac-7e13296616fa",
   "metadata": {},
   "outputs": [
    {
     "name": "stdout",
     "output_type": "stream",
     "text": [
      "\n",
      "=== Processing Window: Train 2020-01-01 00:00:00 to 2020-07-01 00:00:00, Test 2020-07-01 00:00:00 to 2020-10-01 00:00:00 ===\n",
      "\n",
      "=== Processing Model: autoencoder ===\n"
     ]
    },
    {
     "name": "stderr",
     "output_type": "stream",
     "text": [
      "Training autoencoder:  10%|█         | 1/10 [00:08<01:18,  8.68s/it]"
     ]
    },
    {
     "name": "stdout",
     "output_type": "stream",
     "text": [
      "Epoch 1/10, Loss: 0.002747\n"
     ]
    },
    {
     "name": "stderr",
     "output_type": "stream",
     "text": [
      "Training autoencoder:  20%|██        | 2/10 [00:17<01:09,  8.69s/it]"
     ]
    },
    {
     "name": "stdout",
     "output_type": "stream",
     "text": [
      "Epoch 2/10, Loss: 0.000977\n"
     ]
    },
    {
     "name": "stderr",
     "output_type": "stream",
     "text": [
      "Training autoencoder:  30%|███       | 3/10 [00:26<01:00,  8.68s/it]"
     ]
    },
    {
     "name": "stdout",
     "output_type": "stream",
     "text": [
      "Epoch 3/10, Loss: 0.000871\n"
     ]
    },
    {
     "name": "stderr",
     "output_type": "stream",
     "text": [
      "Training autoencoder:  40%|████      | 4/10 [00:34<00:51,  8.66s/it]"
     ]
    },
    {
     "name": "stdout",
     "output_type": "stream",
     "text": [
      "Epoch 4/10, Loss: 0.000768\n"
     ]
    },
    {
     "name": "stderr",
     "output_type": "stream",
     "text": [
      "Training autoencoder:  50%|█████     | 5/10 [00:43<00:43,  8.66s/it]"
     ]
    },
    {
     "name": "stdout",
     "output_type": "stream",
     "text": [
      "Epoch 5/10, Loss: 0.000762\n"
     ]
    },
    {
     "name": "stderr",
     "output_type": "stream",
     "text": [
      "Training autoencoder:  60%|██████    | 6/10 [00:51<00:34,  8.64s/it]"
     ]
    },
    {
     "name": "stdout",
     "output_type": "stream",
     "text": [
      "Epoch 6/10, Loss: 0.000702\n"
     ]
    },
    {
     "name": "stderr",
     "output_type": "stream",
     "text": [
      "Training autoencoder:  70%|███████   | 7/10 [01:00<00:25,  8.62s/it]"
     ]
    },
    {
     "name": "stdout",
     "output_type": "stream",
     "text": [
      "Epoch 7/10, Loss: 0.000676\n"
     ]
    },
    {
     "name": "stderr",
     "output_type": "stream",
     "text": [
      "Training autoencoder:  80%|████████  | 8/10 [01:09<00:17,  8.63s/it]"
     ]
    },
    {
     "name": "stdout",
     "output_type": "stream",
     "text": [
      "Epoch 8/10, Loss: 0.000643\n"
     ]
    },
    {
     "name": "stderr",
     "output_type": "stream",
     "text": [
      "Training autoencoder:  90%|█████████ | 9/10 [01:17<00:08,  8.64s/it]"
     ]
    },
    {
     "name": "stdout",
     "output_type": "stream",
     "text": [
      "Epoch 9/10, Loss: 0.000634\n"
     ]
    },
    {
     "name": "stderr",
     "output_type": "stream",
     "text": [
      "Training autoencoder: 100%|██████████| 10/10 [01:26<00:00,  8.65s/it]"
     ]
    },
    {
     "name": "stdout",
     "output_type": "stream",
     "text": [
      "Epoch 10/10, Loss: 0.000633\n"
     ]
    },
    {
     "name": "stderr",
     "output_type": "stream",
     "text": [
      "\n"
     ]
    },
    {
     "name": "stdout",
     "output_type": "stream",
     "text": [
      "\n",
      "=== Processing Window: Train 2020-01-01 00:00:00 to 2020-10-01 00:00:00, Test 2020-10-01 00:00:00 to 2021-01-01 00:00:00 ===\n",
      "\n",
      "=== Processing Model: autoencoder ===\n"
     ]
    },
    {
     "name": "stderr",
     "output_type": "stream",
     "text": [
      "Training autoencoder:  10%|█         | 1/10 [00:12<01:56, 12.95s/it]"
     ]
    },
    {
     "name": "stdout",
     "output_type": "stream",
     "text": [
      "Epoch 1/10, Loss: 0.002908\n"
     ]
    },
    {
     "name": "stderr",
     "output_type": "stream",
     "text": [
      "Training autoencoder:  20%|██        | 2/10 [00:26<01:44, 13.11s/it]"
     ]
    },
    {
     "name": "stdout",
     "output_type": "stream",
     "text": [
      "Epoch 2/10, Loss: 0.000965\n"
     ]
    },
    {
     "name": "stderr",
     "output_type": "stream",
     "text": [
      "Training autoencoder:  30%|███       | 3/10 [00:39<01:31, 13.14s/it]"
     ]
    },
    {
     "name": "stdout",
     "output_type": "stream",
     "text": [
      "Epoch 3/10, Loss: 0.000857\n"
     ]
    },
    {
     "name": "stderr",
     "output_type": "stream",
     "text": [
      "Training autoencoder:  40%|████      | 4/10 [00:52<01:18, 13.09s/it]"
     ]
    },
    {
     "name": "stdout",
     "output_type": "stream",
     "text": [
      "Epoch 4/10, Loss: 0.000770\n"
     ]
    },
    {
     "name": "stderr",
     "output_type": "stream",
     "text": [
      "Training autoencoder:  50%|█████     | 5/10 [01:05<01:04, 12.95s/it]"
     ]
    },
    {
     "name": "stdout",
     "output_type": "stream",
     "text": [
      "Epoch 5/10, Loss: 0.000743\n"
     ]
    },
    {
     "name": "stderr",
     "output_type": "stream",
     "text": [
      "Training autoencoder:  60%|██████    | 6/10 [01:17<00:51, 12.85s/it]"
     ]
    },
    {
     "name": "stdout",
     "output_type": "stream",
     "text": [
      "Epoch 6/10, Loss: 0.000740\n"
     ]
    },
    {
     "name": "stderr",
     "output_type": "stream",
     "text": [
      "Training autoencoder:  70%|███████   | 7/10 [01:30<00:38, 12.84s/it]"
     ]
    },
    {
     "name": "stdout",
     "output_type": "stream",
     "text": [
      "Epoch 7/10, Loss: 0.000739\n"
     ]
    },
    {
     "name": "stderr",
     "output_type": "stream",
     "text": [
      "Training autoencoder:  80%|████████  | 8/10 [01:43<00:25, 12.82s/it]"
     ]
    },
    {
     "name": "stdout",
     "output_type": "stream",
     "text": [
      "Epoch 8/10, Loss: 0.000738\n"
     ]
    },
    {
     "name": "stderr",
     "output_type": "stream",
     "text": [
      "Training autoencoder:  90%|█████████ | 9/10 [01:56<00:12, 12.81s/it]"
     ]
    },
    {
     "name": "stdout",
     "output_type": "stream",
     "text": [
      "Epoch 9/10, Loss: 0.000737\n"
     ]
    },
    {
     "name": "stderr",
     "output_type": "stream",
     "text": [
      "Training autoencoder: 100%|██████████| 10/10 [02:09<00:00, 12.93s/it]"
     ]
    },
    {
     "name": "stdout",
     "output_type": "stream",
     "text": [
      "Epoch 10/10, Loss: 0.000737\n"
     ]
    },
    {
     "name": "stderr",
     "output_type": "stream",
     "text": [
      "\n"
     ]
    },
    {
     "name": "stdout",
     "output_type": "stream",
     "text": [
      "\n",
      "=== Processing Window: Train 2020-01-01 00:00:00 to 2021-01-01 00:00:00, Test 2021-01-01 00:00:00 to 2021-04-01 00:00:00 ===\n",
      "\n",
      "=== Processing Model: autoencoder ===\n"
     ]
    },
    {
     "name": "stderr",
     "output_type": "stream",
     "text": [
      "Training autoencoder:  10%|█         | 1/10 [00:17<02:38, 17.58s/it]"
     ]
    },
    {
     "name": "stdout",
     "output_type": "stream",
     "text": [
      "Epoch 1/10, Loss: 0.001926\n"
     ]
    },
    {
     "name": "stderr",
     "output_type": "stream",
     "text": [
      "Training autoencoder:  20%|██        | 2/10 [00:35<02:23, 17.94s/it]"
     ]
    },
    {
     "name": "stdout",
     "output_type": "stream",
     "text": [
      "Epoch 2/10, Loss: 0.000761\n"
     ]
    },
    {
     "name": "stderr",
     "output_type": "stream",
     "text": [
      "Training autoencoder:  30%|███       | 3/10 [00:53<02:03, 17.62s/it]"
     ]
    },
    {
     "name": "stdout",
     "output_type": "stream",
     "text": [
      "Epoch 3/10, Loss: 0.000713\n"
     ]
    },
    {
     "name": "stderr",
     "output_type": "stream",
     "text": [
      "Training autoencoder:  40%|████      | 4/10 [01:10<01:44, 17.42s/it]"
     ]
    },
    {
     "name": "stdout",
     "output_type": "stream",
     "text": [
      "Epoch 4/10, Loss: 0.000663\n"
     ]
    },
    {
     "name": "stderr",
     "output_type": "stream",
     "text": [
      "Training autoencoder:  50%|█████     | 5/10 [01:27<01:27, 17.46s/it]"
     ]
    },
    {
     "name": "stdout",
     "output_type": "stream",
     "text": [
      "Epoch 5/10, Loss: 0.000659\n"
     ]
    },
    {
     "name": "stderr",
     "output_type": "stream",
     "text": [
      "Training autoencoder:  60%|██████    | 6/10 [01:45<01:09, 17.49s/it]"
     ]
    },
    {
     "name": "stdout",
     "output_type": "stream",
     "text": [
      "Epoch 6/10, Loss: 0.000657\n"
     ]
    },
    {
     "name": "stderr",
     "output_type": "stream",
     "text": [
      "Training autoencoder:  70%|███████   | 7/10 [02:03<00:53, 17.68s/it]"
     ]
    },
    {
     "name": "stdout",
     "output_type": "stream",
     "text": [
      "Epoch 7/10, Loss: 0.000656\n"
     ]
    },
    {
     "name": "stderr",
     "output_type": "stream",
     "text": [
      "Training autoencoder:  80%|████████  | 8/10 [02:20<00:35, 17.62s/it]"
     ]
    },
    {
     "name": "stdout",
     "output_type": "stream",
     "text": [
      "Epoch 8/10, Loss: 0.000654\n"
     ]
    },
    {
     "name": "stderr",
     "output_type": "stream",
     "text": [
      "Training autoencoder:  90%|█████████ | 9/10 [02:38<00:17, 17.72s/it]"
     ]
    },
    {
     "name": "stdout",
     "output_type": "stream",
     "text": [
      "Epoch 9/10, Loss: 0.000653\n"
     ]
    },
    {
     "name": "stderr",
     "output_type": "stream",
     "text": [
      "Training autoencoder: 100%|██████████| 10/10 [02:56<00:00, 17.63s/it]"
     ]
    },
    {
     "name": "stdout",
     "output_type": "stream",
     "text": [
      "Epoch 10/10, Loss: 0.000652\n"
     ]
    },
    {
     "name": "stderr",
     "output_type": "stream",
     "text": [
      "\n"
     ]
    },
    {
     "name": "stdout",
     "output_type": "stream",
     "text": [
      "\n",
      "=== Processing Window: Train 2020-01-01 00:00:00 to 2021-04-01 00:00:00, Test 2021-04-01 00:00:00 to 2021-07-01 00:00:00 ===\n",
      "\n",
      "=== Processing Model: autoencoder ===\n"
     ]
    },
    {
     "name": "stderr",
     "output_type": "stream",
     "text": [
      "Training autoencoder:  10%|█         | 1/10 [00:21<03:16, 21.87s/it]"
     ]
    },
    {
     "name": "stdout",
     "output_type": "stream",
     "text": [
      "Epoch 1/10, Loss: 0.002456\n"
     ]
    },
    {
     "name": "stderr",
     "output_type": "stream",
     "text": [
      "Training autoencoder:  20%|██        | 2/10 [00:43<02:55, 21.90s/it]"
     ]
    },
    {
     "name": "stdout",
     "output_type": "stream",
     "text": [
      "Epoch 2/10, Loss: 0.000837\n"
     ]
    },
    {
     "name": "stderr",
     "output_type": "stream",
     "text": [
      "Training autoencoder:  30%|███       | 3/10 [01:05<02:33, 21.91s/it]"
     ]
    },
    {
     "name": "stdout",
     "output_type": "stream",
     "text": [
      "Epoch 3/10, Loss: 0.000776\n"
     ]
    },
    {
     "name": "stderr",
     "output_type": "stream",
     "text": [
      "Training autoencoder:  40%|████      | 4/10 [01:28<02:12, 22.15s/it]"
     ]
    },
    {
     "name": "stdout",
     "output_type": "stream",
     "text": [
      "Epoch 4/10, Loss: 0.000773\n"
     ]
    },
    {
     "name": "stderr",
     "output_type": "stream",
     "text": [
      "Training autoencoder:  50%|█████     | 5/10 [01:50<01:51, 22.28s/it]"
     ]
    },
    {
     "name": "stdout",
     "output_type": "stream",
     "text": [
      "Epoch 5/10, Loss: 0.000772\n"
     ]
    },
    {
     "name": "stderr",
     "output_type": "stream",
     "text": [
      "Training autoencoder:  60%|██████    | 6/10 [02:12<01:28, 22.23s/it]"
     ]
    },
    {
     "name": "stdout",
     "output_type": "stream",
     "text": [
      "Epoch 6/10, Loss: 0.000770\n"
     ]
    },
    {
     "name": "stderr",
     "output_type": "stream",
     "text": [
      "Training autoencoder:  70%|███████   | 7/10 [02:35<01:07, 22.36s/it]"
     ]
    },
    {
     "name": "stdout",
     "output_type": "stream",
     "text": [
      "Epoch 7/10, Loss: 0.000769\n"
     ]
    },
    {
     "name": "stderr",
     "output_type": "stream",
     "text": [
      "Training autoencoder:  80%|████████  | 8/10 [02:57<00:44, 22.23s/it]"
     ]
    },
    {
     "name": "stdout",
     "output_type": "stream",
     "text": [
      "Epoch 8/10, Loss: 0.000769\n"
     ]
    },
    {
     "name": "stderr",
     "output_type": "stream",
     "text": [
      "Training autoencoder:  90%|█████████ | 9/10 [03:19<00:22, 22.08s/it]"
     ]
    },
    {
     "name": "stdout",
     "output_type": "stream",
     "text": [
      "Epoch 9/10, Loss: 0.000768\n"
     ]
    },
    {
     "name": "stderr",
     "output_type": "stream",
     "text": [
      "Training autoencoder: 100%|██████████| 10/10 [03:40<00:00, 22.04s/it]"
     ]
    },
    {
     "name": "stdout",
     "output_type": "stream",
     "text": [
      "Epoch 10/10, Loss: 0.000767\n"
     ]
    },
    {
     "name": "stderr",
     "output_type": "stream",
     "text": [
      "\n"
     ]
    },
    {
     "name": "stdout",
     "output_type": "stream",
     "text": [
      "\n",
      "=== Processing Window: Train 2020-01-01 00:00:00 to 2021-07-01 00:00:00, Test 2021-07-01 00:00:00 to 2021-10-01 00:00:00 ===\n",
      "\n",
      "=== Processing Model: autoencoder ===\n"
     ]
    },
    {
     "name": "stderr",
     "output_type": "stream",
     "text": [
      "Training autoencoder:  10%|█         | 1/10 [00:27<04:05, 27.29s/it]"
     ]
    },
    {
     "name": "stdout",
     "output_type": "stream",
     "text": [
      "Epoch 1/10, Loss: 0.001484\n"
     ]
    },
    {
     "name": "stderr",
     "output_type": "stream",
     "text": [
      "Training autoencoder:  20%|██        | 2/10 [00:54<03:39, 27.39s/it]"
     ]
    },
    {
     "name": "stdout",
     "output_type": "stream",
     "text": [
      "Epoch 2/10, Loss: 0.000596\n"
     ]
    },
    {
     "name": "stderr",
     "output_type": "stream",
     "text": [
      "Training autoencoder:  30%|███       | 3/10 [01:21<03:08, 26.94s/it]"
     ]
    },
    {
     "name": "stdout",
     "output_type": "stream",
     "text": [
      "Epoch 3/10, Loss: 0.000536\n"
     ]
    },
    {
     "name": "stderr",
     "output_type": "stream",
     "text": [
      "Training autoencoder:  40%|████      | 4/10 [01:47<02:40, 26.67s/it]"
     ]
    },
    {
     "name": "stdout",
     "output_type": "stream",
     "text": [
      "Epoch 4/10, Loss: 0.000532\n"
     ]
    },
    {
     "name": "stderr",
     "output_type": "stream",
     "text": [
      "Training autoencoder:  50%|█████     | 5/10 [02:13<02:12, 26.53s/it]"
     ]
    },
    {
     "name": "stdout",
     "output_type": "stream",
     "text": [
      "Epoch 5/10, Loss: 0.000529\n"
     ]
    },
    {
     "name": "stderr",
     "output_type": "stream",
     "text": [
      "Training autoencoder:  60%|██████    | 6/10 [02:40<01:46, 26.52s/it]"
     ]
    },
    {
     "name": "stdout",
     "output_type": "stream",
     "text": [
      "Epoch 6/10, Loss: 0.000528\n"
     ]
    },
    {
     "name": "stderr",
     "output_type": "stream",
     "text": [
      "Training autoencoder:  70%|███████   | 7/10 [03:05<01:18, 26.19s/it]"
     ]
    },
    {
     "name": "stdout",
     "output_type": "stream",
     "text": [
      "Epoch 7/10, Loss: 0.000526\n"
     ]
    },
    {
     "name": "stderr",
     "output_type": "stream",
     "text": [
      "Training autoencoder:  80%|████████  | 8/10 [03:31<00:51, 25.97s/it]"
     ]
    },
    {
     "name": "stdout",
     "output_type": "stream",
     "text": [
      "Epoch 8/10, Loss: 0.000504\n"
     ]
    },
    {
     "name": "stderr",
     "output_type": "stream",
     "text": [
      "Training autoencoder:  90%|█████████ | 9/10 [03:57<00:25, 25.97s/it]"
     ]
    },
    {
     "name": "stdout",
     "output_type": "stream",
     "text": [
      "Epoch 9/10, Loss: 0.000484\n"
     ]
    },
    {
     "name": "stderr",
     "output_type": "stream",
     "text": [
      "Training autoencoder: 100%|██████████| 10/10 [04:22<00:00, 26.26s/it]"
     ]
    },
    {
     "name": "stdout",
     "output_type": "stream",
     "text": [
      "Epoch 10/10, Loss: 0.000483\n"
     ]
    },
    {
     "name": "stderr",
     "output_type": "stream",
     "text": [
      "\n"
     ]
    },
    {
     "name": "stdout",
     "output_type": "stream",
     "text": [
      "\n",
      "=== Processing Window: Train 2020-01-01 00:00:00 to 2021-10-01 00:00:00, Test 2021-10-01 00:00:00 to 2022-01-01 00:00:00 ===\n",
      "\n",
      "=== Processing Model: autoencoder ===\n"
     ]
    },
    {
     "name": "stderr",
     "output_type": "stream",
     "text": [
      "Training autoencoder:  10%|█         | 1/10 [00:30<04:37, 30.88s/it]"
     ]
    },
    {
     "name": "stdout",
     "output_type": "stream",
     "text": [
      "Epoch 1/10, Loss: 0.001766\n"
     ]
    },
    {
     "name": "stderr",
     "output_type": "stream",
     "text": [
      "Training autoencoder:  20%|██        | 2/10 [01:01<04:07, 30.89s/it]"
     ]
    },
    {
     "name": "stdout",
     "output_type": "stream",
     "text": [
      "Epoch 2/10, Loss: 0.000693\n"
     ]
    },
    {
     "name": "stderr",
     "output_type": "stream",
     "text": [
      "Training autoencoder:  30%|███       | 3/10 [01:32<03:35, 30.84s/it]"
     ]
    },
    {
     "name": "stdout",
     "output_type": "stream",
     "text": [
      "Epoch 3/10, Loss: 0.000642\n"
     ]
    },
    {
     "name": "stderr",
     "output_type": "stream",
     "text": [
      "Training autoencoder:  40%|████      | 4/10 [02:02<03:02, 30.41s/it]"
     ]
    },
    {
     "name": "stdout",
     "output_type": "stream",
     "text": [
      "Epoch 4/10, Loss: 0.000624\n"
     ]
    },
    {
     "name": "stderr",
     "output_type": "stream",
     "text": [
      "Training autoencoder:  50%|█████     | 5/10 [02:32<02:31, 30.24s/it]"
     ]
    },
    {
     "name": "stdout",
     "output_type": "stream",
     "text": [
      "Epoch 5/10, Loss: 0.000622\n"
     ]
    },
    {
     "name": "stderr",
     "output_type": "stream",
     "text": [
      "Training autoencoder:  60%|██████    | 6/10 [03:02<02:00, 30.12s/it]"
     ]
    },
    {
     "name": "stdout",
     "output_type": "stream",
     "text": [
      "Epoch 6/10, Loss: 0.000621\n"
     ]
    },
    {
     "name": "stderr",
     "output_type": "stream",
     "text": [
      "Training autoencoder:  70%|███████   | 7/10 [03:32<01:30, 30.30s/it]"
     ]
    },
    {
     "name": "stdout",
     "output_type": "stream",
     "text": [
      "Epoch 7/10, Loss: 0.000620\n"
     ]
    },
    {
     "name": "stderr",
     "output_type": "stream",
     "text": [
      "Training autoencoder:  80%|████████  | 8/10 [04:04<01:01, 30.66s/it]"
     ]
    },
    {
     "name": "stdout",
     "output_type": "stream",
     "text": [
      "Epoch 8/10, Loss: 0.000619\n"
     ]
    },
    {
     "name": "stderr",
     "output_type": "stream",
     "text": [
      "Training autoencoder:  90%|█████████ | 9/10 [04:34<00:30, 30.42s/it]"
     ]
    },
    {
     "name": "stdout",
     "output_type": "stream",
     "text": [
      "Epoch 9/10, Loss: 0.000618\n"
     ]
    },
    {
     "name": "stderr",
     "output_type": "stream",
     "text": [
      "Training autoencoder: 100%|██████████| 10/10 [05:05<00:00, 30.59s/it]"
     ]
    },
    {
     "name": "stdout",
     "output_type": "stream",
     "text": [
      "Epoch 10/10, Loss: 0.000618\n"
     ]
    },
    {
     "name": "stderr",
     "output_type": "stream",
     "text": [
      "\n"
     ]
    },
    {
     "name": "stdout",
     "output_type": "stream",
     "text": [
      "\n",
      "=== Processing Window: Train 2020-01-01 00:00:00 to 2022-01-01 00:00:00, Test 2022-01-01 00:00:00 to 2022-04-01 00:00:00 ===\n",
      "\n",
      "=== Processing Model: autoencoder ===\n"
     ]
    },
    {
     "name": "stderr",
     "output_type": "stream",
     "text": [
      "Training autoencoder:  10%|█         | 1/10 [00:34<05:14, 34.89s/it]"
     ]
    },
    {
     "name": "stdout",
     "output_type": "stream",
     "text": [
      "Epoch 1/10, Loss: 0.001323\n"
     ]
    },
    {
     "name": "stderr",
     "output_type": "stream",
     "text": [
      "Training autoencoder:  20%|██        | 2/10 [01:10<04:40, 35.11s/it]"
     ]
    },
    {
     "name": "stdout",
     "output_type": "stream",
     "text": [
      "Epoch 2/10, Loss: 0.000634\n"
     ]
    },
    {
     "name": "stderr",
     "output_type": "stream",
     "text": [
      "Training autoencoder:  30%|███       | 3/10 [01:45<04:07, 35.40s/it]"
     ]
    },
    {
     "name": "stdout",
     "output_type": "stream",
     "text": [
      "Epoch 3/10, Loss: 0.000610\n"
     ]
    },
    {
     "name": "stderr",
     "output_type": "stream",
     "text": [
      "Training autoencoder:  40%|████      | 4/10 [02:22<03:34, 35.78s/it]"
     ]
    },
    {
     "name": "stdout",
     "output_type": "stream",
     "text": [
      "Epoch 4/10, Loss: 0.000574\n"
     ]
    },
    {
     "name": "stderr",
     "output_type": "stream",
     "text": [
      "Training autoencoder:  50%|█████     | 5/10 [02:57<02:58, 35.60s/it]"
     ]
    },
    {
     "name": "stdout",
     "output_type": "stream",
     "text": [
      "Epoch 5/10, Loss: 0.000571\n"
     ]
    },
    {
     "name": "stderr",
     "output_type": "stream",
     "text": [
      "Training autoencoder:  60%|██████    | 6/10 [03:32<02:21, 35.37s/it]"
     ]
    },
    {
     "name": "stdout",
     "output_type": "stream",
     "text": [
      "Epoch 6/10, Loss: 0.000537\n"
     ]
    },
    {
     "name": "stderr",
     "output_type": "stream",
     "text": [
      "Training autoencoder:  70%|███████   | 7/10 [04:07<01:45, 35.31s/it]"
     ]
    },
    {
     "name": "stdout",
     "output_type": "stream",
     "text": [
      "Epoch 7/10, Loss: 0.000512\n"
     ]
    },
    {
     "name": "stderr",
     "output_type": "stream",
     "text": [
      "Training autoencoder:  80%|████████  | 8/10 [04:42<01:10, 35.20s/it]"
     ]
    },
    {
     "name": "stdout",
     "output_type": "stream",
     "text": [
      "Epoch 8/10, Loss: 0.000483\n"
     ]
    },
    {
     "name": "stderr",
     "output_type": "stream",
     "text": [
      "Training autoencoder:  90%|█████████ | 9/10 [05:17<00:35, 35.09s/it]"
     ]
    },
    {
     "name": "stdout",
     "output_type": "stream",
     "text": [
      "Epoch 9/10, Loss: 0.000482\n"
     ]
    },
    {
     "name": "stderr",
     "output_type": "stream",
     "text": [
      "Training autoencoder: 100%|██████████| 10/10 [05:52<00:00, 35.24s/it]"
     ]
    },
    {
     "name": "stdout",
     "output_type": "stream",
     "text": [
      "Epoch 10/10, Loss: 0.000481\n"
     ]
    },
    {
     "name": "stderr",
     "output_type": "stream",
     "text": [
      "\n"
     ]
    },
    {
     "name": "stdout",
     "output_type": "stream",
     "text": [
      "\n",
      "=== Processing Window: Train 2020-01-01 00:00:00 to 2022-04-01 00:00:00, Test 2022-04-01 00:00:00 to 2022-07-01 00:00:00 ===\n",
      "\n",
      "=== Processing Model: autoencoder ===\n"
     ]
    },
    {
     "name": "stderr",
     "output_type": "stream",
     "text": [
      "Training autoencoder:  10%|█         | 1/10 [00:38<05:45, 38.35s/it]"
     ]
    },
    {
     "name": "stdout",
     "output_type": "stream",
     "text": [
      "Epoch 1/10, Loss: 0.001642\n"
     ]
    },
    {
     "name": "stderr",
     "output_type": "stream",
     "text": [
      "Training autoencoder:  20%|██        | 2/10 [01:17<05:09, 38.63s/it]"
     ]
    },
    {
     "name": "stdout",
     "output_type": "stream",
     "text": [
      "Epoch 2/10, Loss: 0.000772\n"
     ]
    },
    {
     "name": "stderr",
     "output_type": "stream",
     "text": [
      "Training autoencoder:  30%|███       | 3/10 [01:56<04:33, 39.10s/it]"
     ]
    },
    {
     "name": "stdout",
     "output_type": "stream",
     "text": [
      "Epoch 3/10, Loss: 0.000702\n"
     ]
    },
    {
     "name": "stderr",
     "output_type": "stream",
     "text": [
      "Training autoencoder:  40%|████      | 4/10 [02:36<03:55, 39.28s/it]"
     ]
    },
    {
     "name": "stdout",
     "output_type": "stream",
     "text": [
      "Epoch 4/10, Loss: 0.000660\n"
     ]
    },
    {
     "name": "stderr",
     "output_type": "stream",
     "text": [
      "Training autoencoder:  50%|█████     | 5/10 [03:16<03:17, 39.53s/it]"
     ]
    },
    {
     "name": "stdout",
     "output_type": "stream",
     "text": [
      "Epoch 5/10, Loss: 0.000625\n"
     ]
    },
    {
     "name": "stderr",
     "output_type": "stream",
     "text": [
      "Training autoencoder:  60%|██████    | 6/10 [03:55<02:37, 39.41s/it]"
     ]
    },
    {
     "name": "stdout",
     "output_type": "stream",
     "text": [
      "Epoch 6/10, Loss: 0.000623\n"
     ]
    },
    {
     "name": "stderr",
     "output_type": "stream",
     "text": [
      "Training autoencoder:  70%|███████   | 7/10 [04:34<01:57, 39.17s/it]"
     ]
    },
    {
     "name": "stdout",
     "output_type": "stream",
     "text": [
      "Epoch 7/10, Loss: 0.000622\n"
     ]
    },
    {
     "name": "stderr",
     "output_type": "stream",
     "text": [
      "Training autoencoder:  80%|████████  | 8/10 [05:12<01:17, 38.98s/it]"
     ]
    },
    {
     "name": "stdout",
     "output_type": "stream",
     "text": [
      "Epoch 8/10, Loss: 0.000621\n"
     ]
    },
    {
     "name": "stderr",
     "output_type": "stream",
     "text": [
      "Training autoencoder:  90%|█████████ | 9/10 [05:51<00:38, 38.84s/it]"
     ]
    },
    {
     "name": "stdout",
     "output_type": "stream",
     "text": [
      "Epoch 9/10, Loss: 0.000620\n"
     ]
    },
    {
     "name": "stderr",
     "output_type": "stream",
     "text": [
      "Training autoencoder: 100%|██████████| 10/10 [06:29<00:00, 38.97s/it]"
     ]
    },
    {
     "name": "stdout",
     "output_type": "stream",
     "text": [
      "Epoch 10/10, Loss: 0.000620\n"
     ]
    },
    {
     "name": "stderr",
     "output_type": "stream",
     "text": [
      "\n"
     ]
    },
    {
     "name": "stdout",
     "output_type": "stream",
     "text": [
      "\n",
      "=== Processing Window: Train 2020-01-01 00:00:00 to 2022-07-01 00:00:00, Test 2022-07-01 00:00:00 to 2022-10-01 00:00:00 ===\n",
      "\n",
      "=== Processing Model: autoencoder ===\n"
     ]
    },
    {
     "name": "stderr",
     "output_type": "stream",
     "text": [
      "Training autoencoder:  10%|█         | 1/10 [00:43<06:35, 43.94s/it]"
     ]
    },
    {
     "name": "stdout",
     "output_type": "stream",
     "text": [
      "Epoch 1/10, Loss: 0.001286\n"
     ]
    },
    {
     "name": "stderr",
     "output_type": "stream",
     "text": [
      "Training autoencoder:  20%|██        | 2/10 [01:28<05:56, 44.53s/it]"
     ]
    },
    {
     "name": "stdout",
     "output_type": "stream",
     "text": [
      "Epoch 2/10, Loss: 0.000695\n"
     ]
    },
    {
     "name": "stderr",
     "output_type": "stream",
     "text": [
      "Training autoencoder:  30%|███       | 3/10 [02:12<05:09, 44.19s/it]"
     ]
    },
    {
     "name": "stdout",
     "output_type": "stream",
     "text": [
      "Epoch 3/10, Loss: 0.000689\n"
     ]
    },
    {
     "name": "stderr",
     "output_type": "stream",
     "text": [
      "Training autoencoder:  40%|████      | 4/10 [02:56<04:24, 44.04s/it]"
     ]
    },
    {
     "name": "stdout",
     "output_type": "stream",
     "text": [
      "Epoch 4/10, Loss: 0.000616\n"
     ]
    },
    {
     "name": "stderr",
     "output_type": "stream",
     "text": [
      "Training autoencoder:  50%|█████     | 5/10 [03:40<03:40, 44.02s/it]"
     ]
    },
    {
     "name": "stdout",
     "output_type": "stream",
     "text": [
      "Epoch 5/10, Loss: 0.000570\n"
     ]
    },
    {
     "name": "stderr",
     "output_type": "stream",
     "text": [
      "Training autoencoder:  60%|██████    | 6/10 [04:24<02:55, 43.93s/it]"
     ]
    },
    {
     "name": "stdout",
     "output_type": "stream",
     "text": [
      "Epoch 6/10, Loss: 0.000568\n"
     ]
    },
    {
     "name": "stderr",
     "output_type": "stream",
     "text": [
      "Training autoencoder:  70%|███████   | 7/10 [05:08<02:12, 44.13s/it]"
     ]
    },
    {
     "name": "stdout",
     "output_type": "stream",
     "text": [
      "Epoch 7/10, Loss: 0.000567\n"
     ]
    },
    {
     "name": "stderr",
     "output_type": "stream",
     "text": [
      "Training autoencoder:  80%|████████  | 8/10 [05:52<01:28, 44.04s/it]"
     ]
    },
    {
     "name": "stdout",
     "output_type": "stream",
     "text": [
      "Epoch 8/10, Loss: 0.000566\n"
     ]
    },
    {
     "name": "stderr",
     "output_type": "stream",
     "text": [
      "Training autoencoder:  90%|█████████ | 9/10 [06:36<00:44, 44.00s/it]"
     ]
    },
    {
     "name": "stdout",
     "output_type": "stream",
     "text": [
      "Epoch 9/10, Loss: 0.000565\n"
     ]
    },
    {
     "name": "stderr",
     "output_type": "stream",
     "text": [
      "Training autoencoder: 100%|██████████| 10/10 [07:20<00:00, 44.03s/it]"
     ]
    },
    {
     "name": "stdout",
     "output_type": "stream",
     "text": [
      "Epoch 10/10, Loss: 0.000565\n"
     ]
    },
    {
     "name": "stderr",
     "output_type": "stream",
     "text": [
      "\n"
     ]
    },
    {
     "name": "stdout",
     "output_type": "stream",
     "text": [
      "\n",
      "=== Processing Window: Train 2020-01-01 00:00:00 to 2022-10-01 00:00:00, Test 2022-10-01 00:00:00 to 2023-01-01 00:00:00 ===\n",
      "\n",
      "=== Processing Model: autoencoder ===\n"
     ]
    },
    {
     "name": "stderr",
     "output_type": "stream",
     "text": [
      "Training autoencoder:  10%|█         | 1/10 [00:48<07:15, 48.35s/it]"
     ]
    },
    {
     "name": "stdout",
     "output_type": "stream",
     "text": [
      "Epoch 1/10, Loss: 0.001719\n"
     ]
    },
    {
     "name": "stderr",
     "output_type": "stream",
     "text": [
      "Training autoencoder:  20%|██        | 2/10 [01:36<06:26, 48.28s/it]"
     ]
    },
    {
     "name": "stdout",
     "output_type": "stream",
     "text": [
      "Epoch 2/10, Loss: 0.000774\n"
     ]
    },
    {
     "name": "stderr",
     "output_type": "stream",
     "text": [
      "Training autoencoder:  30%|███       | 3/10 [02:24<05:38, 48.30s/it]"
     ]
    },
    {
     "name": "stdout",
     "output_type": "stream",
     "text": [
      "Epoch 3/10, Loss: 0.000765\n"
     ]
    },
    {
     "name": "stderr",
     "output_type": "stream",
     "text": [
      "Training autoencoder:  40%|████      | 4/10 [03:13<04:51, 48.54s/it]"
     ]
    },
    {
     "name": "stdout",
     "output_type": "stream",
     "text": [
      "Epoch 4/10, Loss: 0.000763\n"
     ]
    },
    {
     "name": "stderr",
     "output_type": "stream",
     "text": [
      "Training autoencoder:  50%|█████     | 5/10 [04:01<04:01, 48.33s/it]"
     ]
    },
    {
     "name": "stdout",
     "output_type": "stream",
     "text": [
      "Epoch 5/10, Loss: 0.000762\n"
     ]
    },
    {
     "name": "stderr",
     "output_type": "stream",
     "text": [
      "Training autoencoder:  60%|██████    | 6/10 [04:48<03:11, 47.93s/it]"
     ]
    },
    {
     "name": "stdout",
     "output_type": "stream",
     "text": [
      "Epoch 6/10, Loss: 0.000761\n"
     ]
    },
    {
     "name": "stderr",
     "output_type": "stream",
     "text": [
      "Training autoencoder:  70%|███████   | 7/10 [05:36<02:23, 47.81s/it]"
     ]
    },
    {
     "name": "stdout",
     "output_type": "stream",
     "text": [
      "Epoch 7/10, Loss: 0.000760\n"
     ]
    },
    {
     "name": "stderr",
     "output_type": "stream",
     "text": [
      "Training autoencoder:  80%|████████  | 8/10 [06:23<01:35, 47.69s/it]"
     ]
    },
    {
     "name": "stdout",
     "output_type": "stream",
     "text": [
      "Epoch 8/10, Loss: 0.000760\n"
     ]
    },
    {
     "name": "stderr",
     "output_type": "stream",
     "text": [
      "Training autoencoder:  90%|█████████ | 9/10 [07:10<00:47, 47.46s/it]"
     ]
    },
    {
     "name": "stdout",
     "output_type": "stream",
     "text": [
      "Epoch 9/10, Loss: 0.000759\n"
     ]
    },
    {
     "name": "stderr",
     "output_type": "stream",
     "text": [
      "Training autoencoder: 100%|██████████| 10/10 [07:59<00:00, 47.92s/it]"
     ]
    },
    {
     "name": "stdout",
     "output_type": "stream",
     "text": [
      "Epoch 10/10, Loss: 0.000759\n"
     ]
    },
    {
     "name": "stderr",
     "output_type": "stream",
     "text": [
      "\n"
     ]
    },
    {
     "name": "stdout",
     "output_type": "stream",
     "text": [
      "\n",
      "=== Processing Window: Train 2020-01-01 00:00:00 to 2023-01-01 00:00:00, Test 2023-01-01 00:00:00 to 2023-04-01 00:00:00 ===\n",
      "\n",
      "=== Processing Model: autoencoder ===\n"
     ]
    },
    {
     "name": "stderr",
     "output_type": "stream",
     "text": [
      "Training autoencoder:  10%|█         | 1/10 [00:52<07:54, 52.68s/it]"
     ]
    },
    {
     "name": "stdout",
     "output_type": "stream",
     "text": [
      "Epoch 1/10, Loss: 0.001153\n"
     ]
    },
    {
     "name": "stderr",
     "output_type": "stream",
     "text": [
      "Training autoencoder:  20%|██        | 2/10 [01:45<07:01, 52.72s/it]"
     ]
    },
    {
     "name": "stdout",
     "output_type": "stream",
     "text": [
      "Epoch 2/10, Loss: 0.000653\n"
     ]
    },
    {
     "name": "stderr",
     "output_type": "stream",
     "text": [
      "Training autoencoder:  30%|███       | 3/10 [02:39<06:14, 53.47s/it]"
     ]
    },
    {
     "name": "stdout",
     "output_type": "stream",
     "text": [
      "Epoch 3/10, Loss: 0.000633\n"
     ]
    },
    {
     "name": "stderr",
     "output_type": "stream",
     "text": [
      "Training autoencoder:  40%|████      | 4/10 [03:33<05:21, 53.53s/it]"
     ]
    },
    {
     "name": "stdout",
     "output_type": "stream",
     "text": [
      "Epoch 4/10, Loss: 0.000630\n"
     ]
    },
    {
     "name": "stderr",
     "output_type": "stream",
     "text": [
      "Training autoencoder:  50%|█████     | 5/10 [04:26<04:26, 53.34s/it]"
     ]
    },
    {
     "name": "stdout",
     "output_type": "stream",
     "text": [
      "Epoch 5/10, Loss: 0.000603\n"
     ]
    },
    {
     "name": "stderr",
     "output_type": "stream",
     "text": [
      "Training autoencoder:  60%|██████    | 6/10 [05:19<03:32, 53.17s/it]"
     ]
    },
    {
     "name": "stdout",
     "output_type": "stream",
     "text": [
      "Epoch 6/10, Loss: 0.000575\n"
     ]
    },
    {
     "name": "stderr",
     "output_type": "stream",
     "text": [
      "Training autoencoder:  70%|███████   | 7/10 [06:11<02:38, 52.81s/it]"
     ]
    },
    {
     "name": "stdout",
     "output_type": "stream",
     "text": [
      "Epoch 7/10, Loss: 0.000573\n"
     ]
    },
    {
     "name": "stderr",
     "output_type": "stream",
     "text": [
      "Training autoencoder:  80%|████████  | 8/10 [07:04<01:45, 52.78s/it]"
     ]
    },
    {
     "name": "stdout",
     "output_type": "stream",
     "text": [
      "Epoch 8/10, Loss: 0.000572\n"
     ]
    },
    {
     "name": "stderr",
     "output_type": "stream",
     "text": [
      "Training autoencoder:  90%|█████████ | 9/10 [07:56<00:52, 52.74s/it]"
     ]
    },
    {
     "name": "stdout",
     "output_type": "stream",
     "text": [
      "Epoch 9/10, Loss: 0.000572\n"
     ]
    },
    {
     "name": "stderr",
     "output_type": "stream",
     "text": [
      "Training autoencoder: 100%|██████████| 10/10 [08:49<00:00, 52.96s/it]"
     ]
    },
    {
     "name": "stdout",
     "output_type": "stream",
     "text": [
      "Epoch 10/10, Loss: 0.000571\n"
     ]
    },
    {
     "name": "stderr",
     "output_type": "stream",
     "text": [
      "\n"
     ]
    },
    {
     "name": "stdout",
     "output_type": "stream",
     "text": [
      "\n",
      "=== Processing Window: Train 2020-01-01 00:00:00 to 2023-04-01 00:00:00, Test 2023-04-01 00:00:00 to 2023-07-01 00:00:00 ===\n",
      "\n",
      "=== Processing Model: autoencoder ===\n"
     ]
    },
    {
     "name": "stderr",
     "output_type": "stream",
     "text": [
      "Training autoencoder:  10%|█         | 1/10 [00:56<08:32, 56.94s/it]"
     ]
    },
    {
     "name": "stdout",
     "output_type": "stream",
     "text": [
      "Epoch 1/10, Loss: 0.001461\n"
     ]
    },
    {
     "name": "stderr",
     "output_type": "stream",
     "text": [
      "Training autoencoder:  20%|██        | 2/10 [01:54<07:36, 57.05s/it]"
     ]
    },
    {
     "name": "stdout",
     "output_type": "stream",
     "text": [
      "Epoch 2/10, Loss: 0.000705\n"
     ]
    },
    {
     "name": "stderr",
     "output_type": "stream",
     "text": [
      "Training autoencoder:  30%|███       | 3/10 [02:51<06:39, 57.10s/it]"
     ]
    },
    {
     "name": "stdout",
     "output_type": "stream",
     "text": [
      "Epoch 3/10, Loss: 0.000701\n"
     ]
    },
    {
     "name": "stderr",
     "output_type": "stream",
     "text": [
      "Training autoencoder:  40%|████      | 4/10 [03:48<05:42, 57.06s/it]"
     ]
    },
    {
     "name": "stdout",
     "output_type": "stream",
     "text": [
      "Epoch 4/10, Loss: 0.000699\n"
     ]
    },
    {
     "name": "stderr",
     "output_type": "stream",
     "text": [
      "Training autoencoder:  50%|█████     | 5/10 [04:43<04:42, 56.54s/it]"
     ]
    },
    {
     "name": "stdout",
     "output_type": "stream",
     "text": [
      "Epoch 5/10, Loss: 0.000698\n"
     ]
    },
    {
     "name": "stderr",
     "output_type": "stream",
     "text": [
      "\n",
      "raining autoencoder:  50%|█████     | 5/10 [05:28<05:28, 65.78s/it]"
     ]
    },
    {
     "ename": "KeyboardInterrupt",
     "evalue": "",
     "output_type": "error",
     "traceback": [
      "\u001b[0;31m---------------------------------------------------------------------------\u001b[0m",
      "\u001b[0;31mKeyboardInterrupt\u001b[0m                         Traceback (most recent call last)",
      "Cell \u001b[0;32mIn[14], line 43\u001b[0m\n\u001b[1;32m     35\u001b[0m detector \u001b[38;5;241m=\u001b[39m AnomalyDetector(\n\u001b[1;32m     36\u001b[0m     model_name\u001b[38;5;241m=\u001b[39mmodel_name,\n\u001b[1;32m     37\u001b[0m     model_params\u001b[38;5;241m=\u001b[39mparams,\n\u001b[1;32m     38\u001b[0m     sequence_length\u001b[38;5;241m=\u001b[39msequence_length,\n\u001b[1;32m     39\u001b[0m     device\u001b[38;5;241m=\u001b[39mdevice\n\u001b[1;32m     40\u001b[0m )\n\u001b[1;32m     42\u001b[0m \u001b[38;5;28;01mif\u001b[39;00m model_name \u001b[38;5;129;01mnot\u001b[39;00m \u001b[38;5;129;01min\u001b[39;00m [\u001b[38;5;124m'\u001b[39m\u001b[38;5;124megads\u001b[39m\u001b[38;5;124m'\u001b[39m, \u001b[38;5;124m'\u001b[39m\u001b[38;5;124mdtw\u001b[39m\u001b[38;5;124m'\u001b[39m]:\n\u001b[0;32m---> 43\u001b[0m     \u001b[43mdetector\u001b[49m\u001b[38;5;241;43m.\u001b[39;49m\u001b[43mtrain\u001b[49m\u001b[43m(\u001b[49m\n\u001b[1;32m     44\u001b[0m \u001b[43m        \u001b[49m\u001b[43mtrain_sequences\u001b[49m\u001b[38;5;241;43m=\u001b[39;49m\u001b[43mtrain_sequences\u001b[49m\u001b[43m,\u001b[49m\n\u001b[1;32m     45\u001b[0m \u001b[43m        \u001b[49m\u001b[43mnum_epochs\u001b[49m\u001b[38;5;241;43m=\u001b[39;49m\u001b[38;5;241;43m10\u001b[39;49m\u001b[43m,\u001b[49m\n\u001b[1;32m     46\u001b[0m \u001b[43m        \u001b[49m\u001b[43mbatch_size\u001b[49m\u001b[38;5;241;43m=\u001b[39;49m\u001b[38;5;241;43m32\u001b[39;49m\u001b[43m,\u001b[49m\n\u001b[1;32m     47\u001b[0m \u001b[43m        \u001b[49m\u001b[43mlearning_rate\u001b[49m\u001b[38;5;241;43m=\u001b[39;49m\u001b[38;5;241;43m1e-3\u001b[39;49m\n\u001b[1;32m     48\u001b[0m \u001b[43m    \u001b[49m\u001b[43m)\u001b[49m\n\u001b[1;32m     50\u001b[0m torch\u001b[38;5;241m.\u001b[39msave(\n\u001b[1;32m     51\u001b[0m         detector\u001b[38;5;241m.\u001b[39mmodel\u001b[38;5;241m.\u001b[39mstate_dict(),\n\u001b[1;32m     52\u001b[0m         \u001b[38;5;124mf\u001b[39m\u001b[38;5;124m\"\u001b[39m\u001b[38;5;132;01m{\u001b[39;00mmodel_name\u001b[38;5;132;01m}\u001b[39;00m\u001b[38;5;124m_window_\u001b[39m\u001b[38;5;132;01m{\u001b[39;00mwindow_idx\u001b[38;5;132;01m}\u001b[39;00m\u001b[38;5;124m.pth\u001b[39m\u001b[38;5;124m\"\u001b[39m\n\u001b[1;32m     53\u001b[0m     )\n\u001b[1;32m     55\u001b[0m \u001b[38;5;28;01mif\u001b[39;00m model_name \u001b[38;5;241m==\u001b[39m \u001b[38;5;124m'\u001b[39m\u001b[38;5;124megads\u001b[39m\u001b[38;5;124m'\u001b[39m:\n",
      "File \u001b[0;32m/workspace/models.py:505\u001b[0m, in \u001b[0;36mAnomalyDetector.train\u001b[0;34m(self, train_sequences, num_epochs, batch_size, learning_rate, train_raw)\u001b[0m\n\u001b[1;32m    502\u001b[0m     \u001b[38;5;28;01melse\u001b[39;00m:\n\u001b[1;32m    503\u001b[0m         loss \u001b[38;5;241m=\u001b[39m nn\u001b[38;5;241m.\u001b[39mMSELoss()(outputs, batch\u001b[38;5;241m.\u001b[39mview(outputs\u001b[38;5;241m.\u001b[39msize()))\n\u001b[0;32m--> 505\u001b[0m \u001b[43mloss\u001b[49m\u001b[38;5;241;43m.\u001b[39;49m\u001b[43mbackward\u001b[49m\u001b[43m(\u001b[49m\u001b[43m)\u001b[49m\n\u001b[1;32m    506\u001b[0m optimizer\u001b[38;5;241m.\u001b[39mstep()\n\u001b[1;32m    507\u001b[0m running_loss \u001b[38;5;241m+\u001b[39m\u001b[38;5;241m=\u001b[39m loss\u001b[38;5;241m.\u001b[39mitem()\n",
      "File \u001b[0;32m/opt/conda/lib/python3.11/site-packages/torch/_tensor.py:581\u001b[0m, in \u001b[0;36mTensor.backward\u001b[0;34m(self, gradient, retain_graph, create_graph, inputs)\u001b[0m\n\u001b[1;32m    571\u001b[0m \u001b[38;5;28;01mif\u001b[39;00m has_torch_function_unary(\u001b[38;5;28mself\u001b[39m):\n\u001b[1;32m    572\u001b[0m     \u001b[38;5;28;01mreturn\u001b[39;00m handle_torch_function(\n\u001b[1;32m    573\u001b[0m         Tensor\u001b[38;5;241m.\u001b[39mbackward,\n\u001b[1;32m    574\u001b[0m         (\u001b[38;5;28mself\u001b[39m,),\n\u001b[0;32m   (...)\u001b[0m\n\u001b[1;32m    579\u001b[0m         inputs\u001b[38;5;241m=\u001b[39minputs,\n\u001b[1;32m    580\u001b[0m     )\n\u001b[0;32m--> 581\u001b[0m \u001b[43mtorch\u001b[49m\u001b[38;5;241;43m.\u001b[39;49m\u001b[43mautograd\u001b[49m\u001b[38;5;241;43m.\u001b[39;49m\u001b[43mbackward\u001b[49m\u001b[43m(\u001b[49m\n\u001b[1;32m    582\u001b[0m \u001b[43m    \u001b[49m\u001b[38;5;28;43mself\u001b[39;49m\u001b[43m,\u001b[49m\u001b[43m \u001b[49m\u001b[43mgradient\u001b[49m\u001b[43m,\u001b[49m\u001b[43m \u001b[49m\u001b[43mretain_graph\u001b[49m\u001b[43m,\u001b[49m\u001b[43m \u001b[49m\u001b[43mcreate_graph\u001b[49m\u001b[43m,\u001b[49m\u001b[43m \u001b[49m\u001b[43minputs\u001b[49m\u001b[38;5;241;43m=\u001b[39;49m\u001b[43minputs\u001b[49m\n\u001b[1;32m    583\u001b[0m \u001b[43m\u001b[49m\u001b[43m)\u001b[49m\n",
      "File \u001b[0;32m/opt/conda/lib/python3.11/site-packages/torch/autograd/__init__.py:347\u001b[0m, in \u001b[0;36mbackward\u001b[0;34m(tensors, grad_tensors, retain_graph, create_graph, grad_variables, inputs)\u001b[0m\n\u001b[1;32m    342\u001b[0m     retain_graph \u001b[38;5;241m=\u001b[39m create_graph\n\u001b[1;32m    344\u001b[0m \u001b[38;5;66;03m# The reason we repeat the same comment below is that\u001b[39;00m\n\u001b[1;32m    345\u001b[0m \u001b[38;5;66;03m# some Python versions print out the first line of a multi-line function\u001b[39;00m\n\u001b[1;32m    346\u001b[0m \u001b[38;5;66;03m# calls in the traceback and some print out the last line\u001b[39;00m\n\u001b[0;32m--> 347\u001b[0m \u001b[43m_engine_run_backward\u001b[49m\u001b[43m(\u001b[49m\n\u001b[1;32m    348\u001b[0m \u001b[43m    \u001b[49m\u001b[43mtensors\u001b[49m\u001b[43m,\u001b[49m\n\u001b[1;32m    349\u001b[0m \u001b[43m    \u001b[49m\u001b[43mgrad_tensors_\u001b[49m\u001b[43m,\u001b[49m\n\u001b[1;32m    350\u001b[0m \u001b[43m    \u001b[49m\u001b[43mretain_graph\u001b[49m\u001b[43m,\u001b[49m\n\u001b[1;32m    351\u001b[0m \u001b[43m    \u001b[49m\u001b[43mcreate_graph\u001b[49m\u001b[43m,\u001b[49m\n\u001b[1;32m    352\u001b[0m \u001b[43m    \u001b[49m\u001b[43minputs\u001b[49m\u001b[43m,\u001b[49m\n\u001b[1;32m    353\u001b[0m \u001b[43m    \u001b[49m\u001b[43mallow_unreachable\u001b[49m\u001b[38;5;241;43m=\u001b[39;49m\u001b[38;5;28;43;01mTrue\u001b[39;49;00m\u001b[43m,\u001b[49m\n\u001b[1;32m    354\u001b[0m \u001b[43m    \u001b[49m\u001b[43maccumulate_grad\u001b[49m\u001b[38;5;241;43m=\u001b[39;49m\u001b[38;5;28;43;01mTrue\u001b[39;49;00m\u001b[43m,\u001b[49m\n\u001b[1;32m    355\u001b[0m \u001b[43m\u001b[49m\u001b[43m)\u001b[49m\n",
      "File \u001b[0;32m/opt/conda/lib/python3.11/site-packages/torch/autograd/graph.py:825\u001b[0m, in \u001b[0;36m_engine_run_backward\u001b[0;34m(t_outputs, *args, **kwargs)\u001b[0m\n\u001b[1;32m    823\u001b[0m     unregister_hooks \u001b[38;5;241m=\u001b[39m _register_logging_hooks_on_whole_graph(t_outputs)\n\u001b[1;32m    824\u001b[0m \u001b[38;5;28;01mtry\u001b[39;00m:\n\u001b[0;32m--> 825\u001b[0m     \u001b[38;5;28;01mreturn\u001b[39;00m \u001b[43mVariable\u001b[49m\u001b[38;5;241;43m.\u001b[39;49m\u001b[43m_execution_engine\u001b[49m\u001b[38;5;241;43m.\u001b[39;49m\u001b[43mrun_backward\u001b[49m\u001b[43m(\u001b[49m\u001b[43m  \u001b[49m\u001b[38;5;66;43;03m# Calls into the C++ engine to run the backward pass\u001b[39;49;00m\n\u001b[1;32m    826\u001b[0m \u001b[43m        \u001b[49m\u001b[43mt_outputs\u001b[49m\u001b[43m,\u001b[49m\u001b[43m \u001b[49m\u001b[38;5;241;43m*\u001b[39;49m\u001b[43margs\u001b[49m\u001b[43m,\u001b[49m\u001b[43m \u001b[49m\u001b[38;5;241;43m*\u001b[39;49m\u001b[38;5;241;43m*\u001b[39;49m\u001b[43mkwargs\u001b[49m\n\u001b[1;32m    827\u001b[0m \u001b[43m    \u001b[49m\u001b[43m)\u001b[49m  \u001b[38;5;66;03m# Calls into the C++ engine to run the backward pass\u001b[39;00m\n\u001b[1;32m    828\u001b[0m \u001b[38;5;28;01mfinally\u001b[39;00m:\n\u001b[1;32m    829\u001b[0m     \u001b[38;5;28;01mif\u001b[39;00m attach_logging_hooks:\n",
      "\u001b[0;31mKeyboardInterrupt\u001b[0m: "
     ]
    }
   ],
   "source": [
    "window_idx = 0\n",
    "\n",
    "while current_test_end <= end_date or current_test_start < end_date:\n",
    "    if current_test_end > end_date:\n",
    "        current_test_end = end_date\n",
    "    print(\n",
    "        f\"\\n=== Processing Window: Train {current_train_start} to {current_train_end}, \"\n",
    "        f\"Test {current_test_start} to {current_test_end} ===\"\n",
    "    )\n",
    "\n",
    "    train_data = data.loc[current_train_start:current_train_end]\n",
    "    test_data = data.loc[current_test_start:current_test_end]\n",
    "\n",
    "    if test_data.empty:\n",
    "        break\n",
    "\n",
    "    train_scaled = train_data[\"scaled_price\"].to_numpy().reshape(-1, 1)\n",
    "    test_scaled = test_data[\"scaled_price\"].to_numpy().reshape(-1, 1)\n",
    "\n",
    "    original_prices_buffer.extend(test_data[\"close\"].values[sequence_length:])\n",
    "    scaled_prices.extend(test_scaled[sequence_length:, 0])\n",
    "\n",
    "    train_torch = torch.tensor(train_scaled, dtype=torch.float32)\n",
    "    test_torch = torch.tensor(test_scaled, dtype=torch.float32)\n",
    "\n",
    "    train_sequences = create_sequences(train_torch, sequence_length)\n",
    "    test_sequences = create_sequences(test_torch, sequence_length)\n",
    "    test_dates = test_data.index[sequence_length:]\n",
    "    combined_test_dates.extend(test_dates)\n",
    "\n",
    "    for model_name in model_names:\n",
    "        print(f\"\\n=== Processing Model: {model_name} ===\")\n",
    "\n",
    "        params = model_params[model_name]\n",
    "        detector = AnomalyDetector(\n",
    "            model_name=model_name,\n",
    "            model_params=params,\n",
    "            sequence_length=sequence_length,\n",
    "            device=device\n",
    "        )\n",
    "\n",
    "        if model_name not in ['egads', 'dtw']:\n",
    "            detector.train(\n",
    "                train_sequences=train_sequences,\n",
    "                num_epochs=10,\n",
    "                batch_size=32,\n",
    "                learning_rate=1e-3\n",
    "            )\n",
    "\n",
    "        torch.save(\n",
    "                detector.model.state_dict(),\n",
    "                f\"{model_name}_window_{window_idx}.pth\"\n",
    "            )\n",
    "\n",
    "        if model_name == 'egads':\n",
    "            detector.train(\n",
    "                train_sequences=None,\n",
    "                train_raw=train_torch\n",
    "            )\n",
    "        elif model_name == 'dtw':\n",
    "            detector.train(\n",
    "                train_sequences=train_sequences,\n",
    "                num_epochs=0,\n",
    "                batch_size=0,\n",
    "                learning_rate=0,\n",
    "                train_raw=None\n",
    "            )\n",
    "\n",
    "        if model_name not in ['egads', 'dtw']:\n",
    "            scores, preds = detector.predict(test_sequences=test_sequences)\n",
    "        elif model_name == 'egads':\n",
    "            scores, _ = detector.predict(test_raw=test_torch)\n",
    "            preds = np.zeros_like(scores)\n",
    "            scores = scores[sequence_length:]\n",
    "            preds = preds[sequence_length:]\n",
    "        elif model_name == 'dtw':\n",
    "            scores, _ = detector.predict(test_sequences=test_sequences)\n",
    "            preds = np.zeros_like(scores)\n",
    "\n",
    "        combined_scores[model_name].extend(scores)\n",
    "        combined_predictions[model_name].extend(preds)\n",
    "\n",
    "    window_idx += 1\n",
    "\n",
    "    current_train_end += train_expand_step\n",
    "    current_test_start += train_expand_step\n",
    "    current_test_end = current_test_start + test_length"
   ]
  },
  {
   "cell_type": "code",
   "execution_count": null,
   "id": "75c032f4-9ad0-4f8d-ab24-8b30a3351758",
   "metadata": {},
   "outputs": [],
   "source": [
    "for model_name, scores in combined_scores.items():\n",
    "    scores_array = np.array(scores)\n",
    "    \n",
    "    np.save(f\"{model_name}_combined_scores_3m_20202024full.npy\", scores_array)\n",
    "    print(f\"Saved combined_scores for {model_name} to {model_name}_combined_scores.npy\")\n",
    "\n",
    "for model_name, preds in combined_predictions.items():\n",
    "    preds_array = np.array(preds)\n",
    "    np.save(f\"{model_name}_combined_preds_3m_20202024.npy\", preds_array)\n",
    "    print(f\"Saved combined_predictions for {model_name} to {model_name}_combined_preds_3m.npy\")"
   ]
  },
  {
   "cell_type": "code",
   "execution_count": 10,
   "id": "16a08274-94a5-4718-96f6-80871ca8d9d7",
   "metadata": {},
   "outputs": [
    {
     "name": "stderr",
     "output_type": "stream",
     "text": [
      "2025-02-13 07:42:43,748 - INFO - Plotting returns\n"
     ]
    },
    {
     "name": "stdout",
     "output_type": "stream",
     "text": [
      "\n",
      "=== Processing Ticker: BTCUSDT ===\n",
      "17885\n",
      "Trade executed: sell entered at 2020-07-01 04:45:00 (Entry Price: 9158.35), exited at 2020-07-01T04:56:00.000000000 (Exit Price: 9147.15), Volume: 0.1000, P&L: 0.0001\n",
      "Trade flipped: sell entered at 2020-07-01 07:07:00 (Entry Price: 9146.42), exited at 2020-07-01T07:10:00.000000000 (Exit Price: 9144.12), Volume: 0.1000, P&L: 0.0000\n",
      "Trade executed: buy entered at 2020-07-01 07:10:00 (Entry Price: 9144.12), exited at 2020-07-01T07:11:00.000000000 (Exit Price: 9145.99), Volume: 0.1000, P&L: 0.0000\n",
      "Trade flipped: sell entered at 2020-07-01 07:20:00 (Entry Price: 9149.45), exited at 2020-07-01T07:40:00.000000000 (Exit Price: 9144.89), Volume: 0.1000, P&L: 0.0000\n",
      "Trade flipped: buy entered at 2020-07-01 07:40:00 (Entry Price: 9144.89), exited at 2020-07-01T07:41:00.000000000 (Exit Price: 9146.85), Volume: 0.1000, P&L: 0.0000\n",
      "Trade flipped: sell entered at 2020-07-01 07:41:00 (Entry Price: 9146.85), exited at 2020-07-01T07:43:00.000000000 (Exit Price: 9144.40), Volume: 0.1000, P&L: 0.0000\n",
      "Trade executed: buy entered at 2020-07-01 07:43:00 (Entry Price: 9144.40), exited at 2020-07-01T07:45:00.000000000 (Exit Price: 9145.54), Volume: 0.1000, P&L: -0.0000\n",
      "Trade executed: sell entered at 2020-07-01 08:25:00 (Entry Price: 9167.65), exited at 2020-07-01T09:28:00.000000000 (Exit Price: 9166.69), Volume: 0.1000, P&L: -0.0000\n",
      "Trade executed: sell entered at 2020-07-01 09:31:00 (Entry Price: 9169.28), exited at 2020-07-01T09:32:00.000000000 (Exit Price: 9166.54), Volume: 0.1000, P&L: 0.0000\n",
      "Trade flipped: buy entered at 2020-07-01 12:48:00 (Entry Price: 9151.67), exited at 2020-07-01T12:49:00.000000000 (Exit Price: 9153.61), Volume: 0.1000, P&L: 0.0000\n",
      "Trade executed: sell entered at 2020-07-01 12:49:00 (Entry Price: 9153.61), exited at 2020-07-01T15:00:00.000000000 (Exit Price: 9216.75), Volume: 0.1000, P&L: -0.0007\n",
      "Trade executed: sell entered at 2020-07-01 13:34:00 (Entry Price: 9181.05), exited at 2020-07-01T15:00:00.000000000 (Exit Price: 9216.75), Volume: 0.1000, P&L: -0.0004\n",
      "Trade executed: sell entered at 2020-07-01 14:14:00 (Entry Price: 9228.00), exited at 2020-07-01T15:00:00.000000000 (Exit Price: 9216.75), Volume: 0.1000, P&L: 0.0001\n",
      "Trade executed: sell entered at 2020-07-01 14:24:00 (Entry Price: 9220.00), exited at 2020-07-01T15:00:00.000000000 (Exit Price: 9216.75), Volume: 0.1000, P&L: 0.0000\n",
      "Trade executed: sell entered at 2020-07-01 15:09:00 (Entry Price: 9226.29), exited at 2020-07-01T15:11:00.000000000 (Exit Price: 9220.00), Volume: 0.0999, P&L: 0.0000\n",
      "Trade executed: buy entered at 2020-07-01 19:35:00 (Entry Price: 9266.23), exited at 2020-07-01T22:55:00.000000000 (Exit Price: 9239.16), Volume: 0.0999, P&L: -0.0003\n",
      "Trade executed: buy entered at 2020-07-01 20:17:00 (Entry Price: 9245.48), exited at 2020-07-01T22:55:00.000000000 (Exit Price: 9239.16), Volume: 0.0999, P&L: -0.0001\n",
      "Trade executed: buy entered at 2020-07-01 21:29:00 (Entry Price: 9230.89), exited at 2020-07-01T22:55:00.000000000 (Exit Price: 9239.16), Volume: 0.0999, P&L: 0.0001\n",
      "Trade executed: buy entered at 2020-07-01 22:11:00 (Entry Price: 9227.22), exited at 2020-07-01T22:55:00.000000000 (Exit Price: 9239.16), Volume: 0.0999, P&L: 0.0001\n",
      "Trade executed: buy entered at 2020-07-02 01:09:00 (Entry Price: 9230.79), exited at 2020-07-02T01:17:00.000000000 (Exit Price: 9233.97), Volume: 0.0999, P&L: 0.0000\n",
      "Trade flipped: buy entered at 2020-07-02 01:21:00 (Entry Price: 9230.46), exited at 2020-07-02T01:23:00.000000000 (Exit Price: 9237.28), Volume: 0.0999, P&L: 0.0001\n",
      "Trade executed: sell entered at 2020-07-02 01:23:00 (Entry Price: 9237.28), exited at 2020-07-02T01:25:00.000000000 (Exit Price: 9231.96), Volume: 0.0999, P&L: 0.0000\n",
      "Trade executed: buy entered at 2020-07-02 01:33:00 (Entry Price: 9228.91), exited at 2020-07-02T01:43:00.000000000 (Exit Price: 9233.48), Volume: 0.0999, P&L: 0.0000\n",
      "Trade executed: sell entered at 2020-07-02 01:53:00 (Entry Price: 9238.05), exited at 2020-07-02T02:55:00.000000000 (Exit Price: 9238.89), Volume: 0.0999, P&L: -0.0000\n",
      "Trade executed: sell entered at 2020-07-02 05:42:00 (Entry Price: 9246.36), exited at 2020-07-02T05:50:00.000000000 (Exit Price: 9238.01), Volume: 0.0999, P&L: 0.0001\n",
      "Trade executed: buy entered at 2020-07-02 06:37:00 (Entry Price: 9195.69), exited at 2020-07-02T06:56:00.000000000 (Exit Price: 9212.43), Volume: 0.0999, P&L: 0.0002\n",
      "Trade executed: buy entered at 2020-07-02 06:31:00 (Entry Price: 9202.75), exited at 2020-07-02T07:42:00.000000000 (Exit Price: 9217.75), Volume: 0.0999, P&L: 0.0001\n",
      "Trade executed: buy entered at 2020-07-02 05:52:00 (Entry Price: 9229.51), exited at 2020-07-02T08:50:00.000000000 (Exit Price: 9208.78), Volume: 0.0999, P&L: -0.0002\n",
      "Trade executed: buy entered at 2020-07-02 07:44:00 (Entry Price: 9215.70), exited at 2020-07-02T08:50:00.000000000 (Exit Price: 9208.78), Volume: 0.0999, P&L: -0.0001\n",
      "Trade executed: sell entered at 2020-07-02 09:38:00 (Entry Price: 9207.50), exited at 2020-07-02T10:04:00.000000000 (Exit Price: 9208.36), Volume: 0.0999, P&L: -0.0000\n",
      "Trade executed: buy entered at 2020-07-02 10:07:00 (Entry Price: 9199.51), exited at 2020-07-02T10:34:00.000000000 (Exit Price: 9207.31), Volume: 0.0999, P&L: 0.0001\n",
      "Trade executed: buy entered at 2020-07-02 11:20:00 (Entry Price: 9188.11), exited at 2020-07-02T12:17:00.000000000 (Exit Price: 9197.09), Volume: 0.0999, P&L: 0.0001\n",
      "Trade executed: sell entered at 2020-07-02 12:31:00 (Entry Price: 9209.63), exited at 2020-07-02T14:10:00.000000000 (Exit Price: 9240.53), Volume: 0.0999, P&L: -0.0004\n",
      "Trade executed: sell entered at 2020-07-02 13:50:00 (Entry Price: 9248.09), exited at 2020-07-02T14:10:00.000000000 (Exit Price: 9240.53), Volume: 0.0999, P&L: 0.0001\n",
      "Trade executed: sell entered at 2020-07-02 13:51:00 (Entry Price: 9247.01), exited at 2020-07-02T14:10:00.000000000 (Exit Price: 9240.53), Volume: 0.0999, P&L: 0.0001\n",
      "Trade executed: sell entered at 2020-07-02 13:58:00 (Entry Price: 9252.01), exited at 2020-07-02T14:10:00.000000000 (Exit Price: 9240.53), Volume: 0.0999, P&L: 0.0001\n",
      "Trade executed: sell entered at 2020-07-02 22:28:00 (Entry Price: 9114.10), exited at 2020-07-02T22:41:00.000000000 (Exit Price: 9104.95), Volume: 0.0999, P&L: 0.0001\n",
      "Trade flipped: buy entered at 2020-07-03 04:25:00 (Entry Price: 9089.00), exited at 2020-07-03T05:01:00.000000000 (Exit Price: 9099.93), Volume: 0.0999, P&L: 0.0001\n",
      "Trade flipped: sell entered at 2020-07-03 05:01:00 (Entry Price: 9099.93), exited at 2020-07-03T05:03:00.000000000 (Exit Price: 9098.29), Volume: 0.0999, P&L: -0.0000\n",
      "Trade flipped: buy entered at 2020-07-03 05:03:00 (Entry Price: 9098.29), exited at 2020-07-03T05:10:00.000000000 (Exit Price: 9099.00), Volume: 0.0999, P&L: -0.0000\n",
      "Trade executed: sell entered at 2020-07-03 05:10:00 (Entry Price: 9099.00), exited at 2020-07-03T05:21:00.000000000 (Exit Price: 9090.00), Volume: 0.0999, P&L: 0.0001\n",
      "Trade flipped: buy entered at 2020-07-03 05:26:00 (Entry Price: 9089.93), exited at 2020-07-03T05:31:00.000000000 (Exit Price: 9104.83), Volume: 0.0999, P&L: 0.0001\n",
      "Trade executed: sell entered at 2020-07-03 05:31:00 (Entry Price: 9104.83), exited at 2020-07-03T06:27:00.000000000 (Exit Price: 9101.18), Volume: 0.0999, P&L: 0.0000\n",
      "Trade flipped: buy entered at 2020-07-03 07:44:00 (Entry Price: 9097.90), exited at 2020-07-03T07:45:00.000000000 (Exit Price: 9102.90), Volume: 0.0999, P&L: 0.0000\n",
      "Trade flipped: sell entered at 2020-07-03 07:45:00 (Entry Price: 9102.90), exited at 2020-07-03T07:56:00.000000000 (Exit Price: 9097.06), Volume: 0.1000, P&L: 0.0000\n",
      "Trade flipped: buy entered at 2020-07-03 07:56:00 (Entry Price: 9097.06), exited at 2020-07-03T07:58:00.000000000 (Exit Price: 9099.65), Volume: 0.1000, P&L: 0.0000\n",
      "Trade executed: sell entered at 2020-07-03 07:58:00 (Entry Price: 9099.65), exited at 2020-07-03T08:36:00.000000000 (Exit Price: 9101.00), Volume: 0.1000, P&L: -0.0000\n",
      "Trade executed: sell entered at 2020-07-03 08:04:00 (Entry Price: 9113.54), exited at 2020-07-03T08:36:00.000000000 (Exit Price: 9101.00), Volume: 0.1000, P&L: 0.0001\n",
      "Trade executed: buy entered at 2020-07-03 08:42:00 (Entry Price: 9097.35), exited at 2020-07-03T08:52:00.000000000 (Exit Price: 9103.91), Volume: 0.1000, P&L: 0.0001\n",
      "Trade executed: buy entered at 2020-07-03 08:53:00 (Entry Price: 9101.00), exited at 2020-07-03T09:09:00.000000000 (Exit Price: 9103.57), Volume: 0.1000, P&L: 0.0000\n",
      "Trade executed: sell entered at 2020-07-03 09:12:00 (Entry Price: 9105.10), exited at 2020-07-03T09:15:00.000000000 (Exit Price: 9105.11), Volume: 0.1000, P&L: -0.0000\n",
      "Trade executed: sell entered at 2020-07-03 09:18:00 (Entry Price: 9107.72), exited at 2020-07-03T09:20:00.000000000 (Exit Price: 9103.86), Volume: 0.1000, P&L: 0.0000\n",
      "Trade executed: buy entered at 2020-07-03 09:45:00 (Entry Price: 9069.15), exited at 2020-07-03T11:08:00.000000000 (Exit Price: 9083.31), Volume: 0.1000, P&L: 0.0001\n",
      "Trade executed: buy entered at 2020-07-03 11:19:00 (Entry Price: 9071.85), exited at 2020-07-03T11:41:00.000000000 (Exit Price: 9083.40), Volume: 0.1000, P&L: 0.0001\n",
      "Trade executed: buy entered at 2020-07-03 11:08:00 (Entry Price: 9083.31), exited at 2020-07-03T11:45:00.000000000 (Exit Price: 9087.33), Volume: 0.1000, P&L: 0.0000\n",
      "Trade executed: sell entered at 2020-07-03 13:16:00 (Entry Price: 9106.85), exited at 2020-07-03T13:41:00.000000000 (Exit Price: 9102.02), Volume: 0.1000, P&L: 0.0000\n",
      "Trade executed: buy entered at 2020-07-03 14:01:00 (Entry Price: 9092.98), exited at 2020-07-03T14:02:00.000000000 (Exit Price: 9096.59), Volume: 0.1000, P&L: 0.0000\n",
      "Trade flipped: buy entered at 2020-07-03 14:25:00 (Entry Price: 9084.31), exited at 2020-07-03T15:05:00.000000000 (Exit Price: 9100.42), Volume: 0.1000, P&L: 0.0002\n",
      "Trade flipped: sell entered at 2020-07-03 15:05:00 (Entry Price: 9100.42), exited at 2020-07-03T15:13:00.000000000 (Exit Price: 9096.69), Volume: 0.1000, P&L: 0.0000\n",
      "Trade flipped: buy entered at 2020-07-03 15:13:00 (Entry Price: 9096.69), exited at 2020-07-03T15:16:00.000000000 (Exit Price: 9099.39), Volume: 0.1000, P&L: 0.0000\n",
      "Trade executed: sell entered at 2020-07-03 15:16:00 (Entry Price: 9099.39), exited at 2020-07-03T15:25:00.000000000 (Exit Price: 9089.33), Volume: 0.1000, P&L: 0.0001\n",
      "Trade executed: buy entered at 2020-07-03 15:32:00 (Entry Price: 9090.43), exited at 2020-07-03T15:41:00.000000000 (Exit Price: 9098.66), Volume: 0.1000, P&L: 0.0001\n",
      "Trade flipped: sell entered at 2020-07-03 16:12:00 (Entry Price: 9108.00), exited at 2020-07-03T16:24:00.000000000 (Exit Price: 9092.00), Volume: 0.1000, P&L: 0.0002\n",
      "Trade executed: buy entered at 2020-07-03 16:24:00 (Entry Price: 9092.00), exited at 2020-07-03T17:04:00.000000000 (Exit Price: 9099.69), Volume: 0.1001, P&L: 0.0001\n",
      "Trade executed: sell entered at 2020-07-03 17:08:00 (Entry Price: 9096.59), exited at 2020-07-03T17:09:00.000000000 (Exit Price: 9094.43), Volume: 0.1001, P&L: 0.0000\n",
      "Trade executed: buy entered at 2020-07-03 17:10:00 (Entry Price: 9093.01), exited at 2020-07-03T17:13:00.000000000 (Exit Price: 9096.47), Volume: 0.1001, P&L: 0.0000\n",
      "Trade executed: buy entered at 2020-07-03 17:17:00 (Entry Price: 9089.34), exited at 2020-07-03T17:47:00.000000000 (Exit Price: 9094.63), Volume: 0.1001, P&L: 0.0000\n",
      "Trade executed: sell entered at 2020-07-03 22:21:00 (Entry Price: 9100.00), exited at 2020-07-03T22:25:00.000000000 (Exit Price: 9089.97), Volume: 0.1001, P&L: 0.0001\n",
      "Trade executed: buy entered at 2020-07-03 23:03:00 (Entry Price: 9074.01), exited at 2020-07-04T00:40:00.000000000 (Exit Price: 9078.99), Volume: 0.1001, P&L: 0.0000\n",
      "Trade executed: buy entered at 2020-07-03 23:38:00 (Entry Price: 9057.58), exited at 2020-07-04T00:40:00.000000000 (Exit Price: 9078.99), Volume: 0.1001, P&L: 0.0002\n",
      "Trade executed: buy entered at 2020-07-04 01:13:00 (Entry Price: 9066.98), exited at 2020-07-04T01:34:00.000000000 (Exit Price: 9071.95), Volume: 0.1001, P&L: 0.0000\n",
      "Trade executed: buy entered at 2020-07-04 06:25:00 (Entry Price: 9082.11), exited at 2020-07-04T07:08:00.000000000 (Exit Price: 9085.31), Volume: 0.1001, P&L: 0.0000\n",
      "Trade executed: buy entered at 2020-07-04 06:41:00 (Entry Price: 9072.71), exited at 2020-07-04T07:08:00.000000000 (Exit Price: 9085.31), Volume: 0.1001, P&L: 0.0001\n",
      "Trade flipped: sell entered at 2020-07-04 07:16:00 (Entry Price: 9083.72), exited at 2020-07-04T07:17:00.000000000 (Exit Price: 9083.08), Volume: 0.1001, P&L: -0.0000\n",
      "Trade executed: buy entered at 2020-07-04 07:17:00 (Entry Price: 9083.08), exited at 2020-07-04T08:15:00.000000000 (Exit Price: 9081.03), Volume: 0.1001, P&L: -0.0000\n",
      "Trade executed: buy entered at 2020-07-04 09:50:00 (Entry Price: 9073.19), exited at 2020-07-04T11:18:00.000000000 (Exit Price: 9073.49), Volume: 0.1001, P&L: -0.0000\n",
      "Trade executed: buy entered at 2020-07-04 10:28:00 (Entry Price: 9066.00), exited at 2020-07-04T11:18:00.000000000 (Exit Price: 9073.49), Volume: 0.1001, P&L: 0.0001\n",
      "Trade flipped: buy entered at 2020-07-04 11:23:00 (Entry Price: 9067.24), exited at 2020-07-04T12:22:00.000000000 (Exit Price: 9069.00), Volume: 0.1001, P&L: -0.0000\n",
      "Trade flipped: buy entered at 2020-07-04 12:02:00 (Entry Price: 9058.00), exited at 2020-07-04T12:22:00.000000000 (Exit Price: 9069.00), Volume: 0.1001, P&L: 0.0001\n",
      "Trade flipped: sell entered at 2020-07-04 12:22:00 (Entry Price: 9069.00), exited at 2020-07-04T12:50:00.000000000 (Exit Price: 9065.41), Volume: 0.1001, P&L: 0.0000\n",
      "Trade executed: buy entered at 2020-07-04 12:50:00 (Entry Price: 9065.41), exited at 2020-07-04T12:57:00.000000000 (Exit Price: 9067.96), Volume: 0.1001, P&L: 0.0000\n",
      "Trade executed: sell entered at 2020-07-04 12:58:00 (Entry Price: 9069.00), exited at 2020-07-04T14:08:00.000000000 (Exit Price: 9070.59), Volume: 0.1001, P&L: -0.0000\n",
      "Trade executed: buy entered at 2020-07-04 15:19:00 (Entry Price: 9063.87), exited at 2020-07-04T16:00:00.000000000 (Exit Price: 9070.59), Volume: 0.1001, P&L: 0.0001\n",
      "Trade flipped: buy entered at 2020-07-04 16:05:00 (Entry Price: 9064.43), exited at 2020-07-04T16:09:00.000000000 (Exit Price: 9074.24), Volume: 0.1001, P&L: 0.0001\n",
      "Trade flipped: sell entered at 2020-07-04 16:09:00 (Entry Price: 9074.24), exited at 2020-07-04T16:12:00.000000000 (Exit Price: 9068.31), Volume: 0.1001, P&L: 0.0000\n",
      "Trade flipped: buy entered at 2020-07-04 16:12:00 (Entry Price: 9068.31), exited at 2020-07-04T16:18:00.000000000 (Exit Price: 9069.99), Volume: 0.1001, P&L: -0.0000\n",
      "Trade flipped: sell entered at 2020-07-04 16:18:00 (Entry Price: 9069.99), exited at 2020-07-04T16:23:00.000000000 (Exit Price: 9068.59), Volume: 0.1001, P&L: -0.0000\n",
      "Trade flipped: buy entered at 2020-07-04 16:23:00 (Entry Price: 9068.59), exited at 2020-07-04T16:26:00.000000000 (Exit Price: 9070.72), Volume: 0.1001, P&L: 0.0000\n",
      "Trade executed: sell entered at 2020-07-04 16:26:00 (Entry Price: 9070.72), exited at 2020-07-04T16:47:00.000000000 (Exit Price: 9065.53), Volume: 0.1001, P&L: 0.0000\n",
      "Trade executed: sell entered at 2020-07-04 17:35:00 (Entry Price: 9161.66), exited at 2020-07-04T18:48:00.000000000 (Exit Price: 9140.34), Volume: 0.1001, P&L: 0.0002\n",
      "Trade executed: sell entered at 2020-07-04 22:39:00 (Entry Price: 9129.53), exited at 2020-07-04T22:40:00.000000000 (Exit Price: 9122.80), Volume: 0.1002, P&L: 0.0001\n",
      "Trade executed: buy entered at 2020-07-04 23:06:00 (Entry Price: 9125.61), exited at 2020-07-04T23:40:00.000000000 (Exit Price: 9127.85), Volume: 0.1002, P&L: 0.0000\n",
      "Trade executed: buy entered at 2020-07-05 04:02:00 (Entry Price: 9126.40), exited at 2020-07-05T04:08:00.000000000 (Exit Price: 9129.44), Volume: 0.1002, P&L: 0.0000\n",
      "Trade executed: buy entered at 2020-07-05 04:20:00 (Entry Price: 9122.82), exited at 2020-07-05T04:59:00.000000000 (Exit Price: 9127.06), Volume: 0.1002, P&L: 0.0000\n",
      "Trade executed: buy entered at 2020-07-05 05:52:00 (Entry Price: 9100.00), exited at 2020-07-05T08:47:00.000000000 (Exit Price: 9074.89), Volume: 0.1002, P&L: -0.0003\n",
      "Trade executed: buy entered at 2020-07-05 06:27:00 (Entry Price: 9081.07), exited at 2020-07-05T08:47:00.000000000 (Exit Price: 9074.89), Volume: 0.1002, P&L: -0.0001\n",
      "Trade executed: buy entered at 2020-07-05 06:30:00 (Entry Price: 9076.00), exited at 2020-07-05T08:47:00.000000000 (Exit Price: 9074.89), Volume: 0.1002, P&L: -0.0000\n",
      "Trade executed: buy entered at 2020-07-05 06:51:00 (Entry Price: 9076.99), exited at 2020-07-05T08:47:00.000000000 (Exit Price: 9074.89), Volume: 0.1002, P&L: -0.0000\n",
      "Trade executed: buy entered at 2020-07-05 06:52:00 (Entry Price: 9074.41), exited at 2020-07-05T08:47:00.000000000 (Exit Price: 9074.89), Volume: 0.1002, P&L: -0.0000\n",
      "Trade executed: buy entered at 2020-07-05 10:52:00 (Entry Price: 9028.31), exited at 2020-07-05T11:05:00.000000000 (Exit Price: 9044.47), Volume: 0.1001, P&L: 0.0002\n",
      "Trade executed: buy entered at 2020-07-05 10:19:00 (Entry Price: 9043.12), exited at 2020-07-05T12:34:00.000000000 (Exit Price: 9043.56), Volume: 0.1001, P&L: -0.0000\n",
      "Trade flipped: buy entered at 2020-07-05 12:39:00 (Entry Price: 9035.17), exited at 2020-07-05T12:41:00.000000000 (Exit Price: 9039.80), Volume: 0.1001, P&L: 0.0000\n",
      "Trade flipped: sell entered at 2020-07-05 12:41:00 (Entry Price: 9039.80), exited at 2020-07-05T12:43:00.000000000 (Exit Price: 9037.08), Volume: 0.1001, P&L: 0.0000\n",
      "Trade executed: buy entered at 2020-07-05 12:43:00 (Entry Price: 9037.08), exited at 2020-07-05T12:44:00.000000000 (Exit Price: 9038.00), Volume: 0.1002, P&L: -0.0000\n",
      "Trade flipped: buy entered at 2020-07-05 12:57:00 (Entry Price: 9030.99), exited at 2020-07-05T12:58:00.000000000 (Exit Price: 9036.00), Volume: 0.1001, P&L: 0.0000\n",
      "Trade flipped: sell entered at 2020-07-05 12:58:00 (Entry Price: 9036.00), exited at 2020-07-05T13:00:00.000000000 (Exit Price: 9031.57), Volume: 0.1002, P&L: 0.0000\n",
      "Trade executed: buy entered at 2020-07-05 13:00:00 (Entry Price: 9031.57), exited at 2020-07-05T13:28:00.000000000 (Exit Price: 9033.91), Volume: 0.1002, P&L: 0.0000\n",
      "Trade flipped: sell entered at 2020-07-05 13:29:00 (Entry Price: 9035.32), exited at 2020-07-05T13:30:00.000000000 (Exit Price: 9031.98), Volume: 0.1002, P&L: 0.0000\n",
      "Trade executed: buy entered at 2020-07-05 13:30:00 (Entry Price: 9031.98), exited at 2020-07-05T13:33:00.000000000 (Exit Price: 9034.53), Volume: 0.1002, P&L: 0.0000\n",
      "Trade flipped: sell entered at 2020-07-05 13:37:00 (Entry Price: 9033.70), exited at 2020-07-05T13:38:00.000000000 (Exit Price: 9028.14), Volume: 0.1002, P&L: 0.0000\n",
      "Trade executed: buy entered at 2020-07-05 13:38:00 (Entry Price: 9028.14), exited at 2020-07-05T13:56:00.000000000 (Exit Price: 9032.85), Volume: 0.1002, P&L: 0.0000\n",
      "Trade executed: buy entered at 2020-07-05 14:00:00 (Entry Price: 9010.43), exited at 2020-07-05T14:21:00.000000000 (Exit Price: 9030.78), Volume: 0.1002, P&L: 0.0002\n",
      "Trade executed: sell entered at 2020-07-05 15:05:00 (Entry Price: 9061.71), exited at 2020-07-05T15:31:00.000000000 (Exit Price: 9037.16), Volume: 0.1002, P&L: 0.0003\n",
      "Trade executed: sell entered at 2020-07-05 15:31:00 (Entry Price: 9037.16), exited at 2020-07-05T15:42:00.000000000 (Exit Price: 9034.98), Volume: 0.1002, P&L: 0.0000\n",
      "Trade executed: buy entered at 2020-07-05 19:37:00 (Entry Price: 9033.17), exited at 2020-07-05T21:37:00.000000000 (Exit Price: 9033.99), Volume: 0.1002, P&L: -0.0000\n",
      "Trade executed: buy entered at 2020-07-05 21:00:00 (Entry Price: 9008.07), exited at 2020-07-05T21:37:00.000000000 (Exit Price: 9033.99), Volume: 0.1002, P&L: 0.0003\n",
      "Trade flipped: sell entered at 2020-07-05 21:38:00 (Entry Price: 9033.71), exited at 2020-07-05T21:42:00.000000000 (Exit Price: 9020.24), Volume: 0.1002, P&L: 0.0001\n",
      "Trade flipped: buy entered at 2020-07-05 21:42:00 (Entry Price: 9020.24), exited at 2020-07-05T21:43:00.000000000 (Exit Price: 9026.80), Volume: 0.1003, P&L: 0.0001\n",
      "Trade executed: sell entered at 2020-07-05 21:43:00 (Entry Price: 9026.80), exited at 2020-07-06T00:10:00.000000000 (Exit Price: 9072.00), Volume: 0.1003, P&L: -0.0005\n",
      "Trade executed: sell entered at 2020-07-05 22:34:00 (Entry Price: 9048.00), exited at 2020-07-06T00:10:00.000000000 (Exit Price: 9072.00), Volume: 0.1003, P&L: -0.0003\n",
      "Trade executed: sell entered at 2020-07-06 05:41:00 (Entry Price: 9090.87), exited at 2020-07-06T07:45:00.000000000 (Exit Price: 9195.00), Volume: 0.1002, P&L: -0.0012\n",
      "Trade executed: sell entered at 2020-07-06 06:24:00 (Entry Price: 9189.35), exited at 2020-07-06T07:45:00.000000000 (Exit Price: 9195.00), Volume: 0.1002, P&L: -0.0001\n",
      "Trade executed: sell entered at 2020-07-06 06:52:00 (Entry Price: 9206.86), exited at 2020-07-06T07:45:00.000000000 (Exit Price: 9195.00), Volume: 0.1002, P&L: 0.0001\n",
      "Trade executed: sell entered at 2020-07-06 06:53:00 (Entry Price: 9207.15), exited at 2020-07-06T07:45:00.000000000 (Exit Price: 9195.00), Volume: 0.1002, P&L: 0.0001\n",
      "Trade executed: sell entered at 2020-07-06 07:03:00 (Entry Price: 9207.27), exited at 2020-07-06T07:45:00.000000000 (Exit Price: 9195.00), Volume: 0.1002, P&L: 0.0001\n",
      "Trade executed: sell entered at 2020-07-06 07:59:00 (Entry Price: 9199.71), exited at 2020-07-06T08:02:00.000000000 (Exit Price: 9197.63), Volume: 0.1001, P&L: 0.0000\n",
      "Trade executed: sell entered at 2020-07-06 11:19:00 (Entry Price: 9200.00), exited at 2020-07-06T11:36:00.000000000 (Exit Price: 9192.13), Volume: 0.1001, P&L: 0.0001\n",
      "Trade executed: sell entered at 2020-07-06 11:45:00 (Entry Price: 9199.43), exited at 2020-07-06T12:24:00.000000000 (Exit Price: 9204.04), Volume: 0.1001, P&L: -0.0001\n",
      "Trade executed: sell entered at 2020-07-06 11:58:00 (Entry Price: 9227.24), exited at 2020-07-06T12:24:00.000000000 (Exit Price: 9204.04), Volume: 0.1001, P&L: 0.0002\n",
      "Trade executed: sell entered at 2020-07-06 12:25:00 (Entry Price: 9206.00), exited at 2020-07-06T12:27:00.000000000 (Exit Price: 9202.50), Volume: 0.1001, P&L: 0.0000\n",
      "Trade executed: sell entered at 2020-07-06 12:53:00 (Entry Price: 9270.00), exited at 2020-07-06T13:24:00.000000000 (Exit Price: 9240.02), Volume: 0.1001, P&L: 0.0003\n",
      "Trade executed: sell entered at 2020-07-06 12:31:00 (Entry Price: 9218.00), exited at 2020-07-06T13:39:00.000000000 (Exit Price: 9237.49), Volume: 0.1001, P&L: -0.0002\n",
      "Trade executed: sell entered at 2020-07-06 13:30:00 (Entry Price: 9256.71), exited at 2020-07-06T13:39:00.000000000 (Exit Price: 9237.49), Volume: 0.1001, P&L: 0.0002\n",
      "Trade executed: sell entered at 2020-07-06 13:40:00 (Entry Price: 9240.94), exited at 2020-07-06T13:50:00.000000000 (Exit Price: 9242.69), Volume: 0.1001, P&L: -0.0000\n",
      "Trade executed: sell entered at 2020-07-06 14:00:00 (Entry Price: 9253.10), exited at 2020-07-06T14:03:00.000000000 (Exit Price: 9245.38), Volume: 0.1001, P&L: 0.0001\n",
      "Trade executed: sell entered at 2020-07-06 16:10:00 (Entry Price: 9334.82), exited at 2020-07-06T16:36:00.000000000 (Exit Price: 9296.49), Volume: 0.1001, P&L: 0.0004\n",
      "Trade executed: sell entered at 2020-07-06 15:47:00 (Entry Price: 9270.98), exited at 2020-07-06T17:08:00.000000000 (Exit Price: 9306.31), Volume: 0.1001, P&L: -0.0004\n",
      "Trade executed: sell entered at 2020-07-06 16:41:00 (Entry Price: 9309.40), exited at 2020-07-06T17:08:00.000000000 (Exit Price: 9306.31), Volume: 0.1002, P&L: 0.0000\n",
      "Trade executed: sell entered at 2020-07-06 16:52:00 (Entry Price: 9320.53), exited at 2020-07-06T17:08:00.000000000 (Exit Price: 9306.31), Volume: 0.1002, P&L: 0.0001\n",
      "Trade executed: buy entered at 2020-07-06 19:27:00 (Entry Price: 9270.50), exited at 2020-07-06T19:40:00.000000000 (Exit Price: 9295.00), Volume: 0.1002, P&L: 0.0002\n",
      "Trade executed: buy entered at 2020-07-06 20:22:00 (Entry Price: 9257.62), exited at 2020-07-06T20:52:00.000000000 (Exit Price: 9272.30), Volume: 0.1002, P&L: 0.0001\n",
      "Trade executed: buy entered at 2020-07-06 19:40:00 (Entry Price: 9295.00), exited at 2020-07-06T21:38:00.000000000 (Exit Price: 9284.63), Volume: 0.1002, P&L: -0.0001\n",
      "Trade flipped: sell entered at 2020-07-06 22:09:00 (Entry Price: 9289.45), exited at 2020-07-06T22:10:00.000000000 (Exit Price: 9273.83), Volume: 0.1002, P&L: 0.0001\n",
      "Trade executed: buy entered at 2020-07-06 22:10:00 (Entry Price: 9273.83), exited at 2020-07-06T22:14:00.000000000 (Exit Price: 9283.15), Volume: 0.1002, P&L: 0.0001\n",
      "Trade executed: buy entered at 2020-07-06 22:17:00 (Entry Price: 9276.10), exited at 2020-07-06T22:23:00.000000000 (Exit Price: 9278.51), Volume: 0.1002, P&L: 0.0000\n",
      "Trade executed: buy entered at 2020-07-06 22:27:00 (Entry Price: 9273.69), exited at 2020-07-06T22:30:00.000000000 (Exit Price: 9278.98), Volume: 0.1002, P&L: 0.0000\n",
      "Trade executed: buy entered at 2020-07-06 22:35:00 (Entry Price: 9273.34), exited at 2020-07-06T22:49:00.000000000 (Exit Price: 9279.27), Volume: 0.1002, P&L: 0.0000\n",
      "Trade executed: sell entered at 2020-07-06 22:54:00 (Entry Price: 9283.69), exited at 2020-07-07T00:34:00.000000000 (Exit Price: 9336.72), Volume: 0.1002, P&L: -0.0006\n",
      "Trade executed: sell entered at 2020-07-06 23:17:00 (Entry Price: 9323.60), exited at 2020-07-07T00:34:00.000000000 (Exit Price: 9336.72), Volume: 0.1002, P&L: -0.0002\n",
      "Trade executed: sell entered at 2020-07-07 00:08:00 (Entry Price: 9345.29), exited at 2020-07-07T00:34:00.000000000 (Exit Price: 9336.72), Volume: 0.1002, P&L: 0.0001\n",
      "Trade executed: sell entered at 2020-07-07 00:09:00 (Entry Price: 9346.02), exited at 2020-07-07T00:34:00.000000000 (Exit Price: 9336.72), Volume: 0.1002, P&L: 0.0001\n",
      "Trade executed: sell entered at 2020-07-07 00:35:00 (Entry Price: 9341.75), exited at 2020-07-07T00:37:00.000000000 (Exit Price: 9340.14), Volume: 0.1001, P&L: -0.0000\n",
      "Trade executed: sell entered at 2020-07-07 00:39:00 (Entry Price: 9341.81), exited at 2020-07-07T00:42:00.000000000 (Exit Price: 9343.02), Volume: 0.1001, P&L: -0.0000\n",
      "Trade executed: buy entered at 2020-07-07 05:17:00 (Entry Price: 9286.01), exited at 2020-07-07T05:21:00.000000000 (Exit Price: 9292.41), Volume: 0.1001, P&L: 0.0000\n",
      "Trade executed: sell entered at 2020-07-07 05:24:00 (Entry Price: 9292.06), exited at 2020-07-07T05:27:00.000000000 (Exit Price: 9289.58), Volume: 0.1001, P&L: 0.0000\n",
      "Trade executed: buy entered at 2020-07-07 05:33:00 (Entry Price: 9281.23), exited at 2020-07-07T08:18:00.000000000 (Exit Price: 9272.06), Volume: 0.1002, P&L: -0.0001\n",
      "Trade executed: buy entered at 2020-07-07 06:14:00 (Entry Price: 9266.99), exited at 2020-07-07T08:18:00.000000000 (Exit Price: 9272.06), Volume: 0.1002, P&L: 0.0000\n",
      "Trade executed: buy entered at 2020-07-07 09:50:00 (Entry Price: 9231.56), exited at 2020-07-07T10:22:00.000000000 (Exit Price: 9246.23), Volume: 0.1001, P&L: 0.0001\n",
      "Trade executed: buy entered at 2020-07-07 09:31:00 (Entry Price: 9253.15), exited at 2020-07-07T10:55:00.000000000 (Exit Price: 9252.07), Volume: 0.1001, P&L: -0.0000\n",
      "Trade executed: sell entered at 2020-07-07 12:33:00 (Entry Price: 9264.06), exited at 2020-07-07T12:34:00.000000000 (Exit Price: 9259.02), Volume: 0.1002, P&L: 0.0000\n",
      "Trade executed: sell entered at 2020-07-07 12:55:00 (Entry Price: 9268.48), exited at 2020-07-07T12:57:00.000000000 (Exit Price: 9266.34), Volume: 0.1002, P&L: 0.0000\n",
      "Trade executed: buy entered at 2020-07-07 13:35:00 (Entry Price: 9252.89), exited at 2020-07-07T13:47:00.000000000 (Exit Price: 9258.21), Volume: 0.1002, P&L: 0.0000\n",
      "Trade executed: buy entered at 2020-07-07 13:51:00 (Entry Price: 9256.43), exited at 2020-07-07T13:58:00.000000000 (Exit Price: 9260.43), Volume: 0.1002, P&L: 0.0000\n",
      "Trade executed: sell entered at 2020-07-07 14:19:00 (Entry Price: 9279.27), exited at 2020-07-07T14:44:00.000000000 (Exit Price: 9263.25), Volume: 0.1002, P&L: 0.0002\n",
      "Trade executed: buy entered at 2020-07-07 14:55:00 (Entry Price: 9257.49), exited at 2020-07-07T15:23:00.000000000 (Exit Price: 9263.99), Volume: 0.1002, P&L: 0.0001\n",
      "Trade executed: sell entered at 2020-07-07 18:06:00 (Entry Price: 9274.06), exited at 2020-07-07T18:20:00.000000000 (Exit Price: 9270.00), Volume: 0.1002, P&L: 0.0000\n",
      "Trade executed: buy entered at 2020-07-07 18:36:00 (Entry Price: 9262.96), exited at 2020-07-07T18:57:00.000000000 (Exit Price: 9269.97), Volume: 0.1002, P&L: 0.0001\n",
      "Trade flipped: sell entered at 2020-07-07 18:58:00 (Entry Price: 9272.00), exited at 2020-07-07T19:00:00.000000000 (Exit Price: 9268.58), Volume: 0.1002, P&L: 0.0000\n",
      "Trade executed: buy entered at 2020-07-07 19:00:00 (Entry Price: 9268.58), exited at 2020-07-07T19:01:00.000000000 (Exit Price: 9268.79), Volume: 0.1002, P&L: -0.0000\n",
      "Trade executed: buy entered at 2020-07-07 20:03:00 (Entry Price: 9210.92), exited at 2020-07-07T20:33:00.000000000 (Exit Price: 9233.39), Volume: 0.1002, P&L: 0.0002\n",
      "Trade flipped: buy entered at 2020-07-07 19:09:00 (Entry Price: 9264.65), exited at 2020-07-07T20:57:00.000000000 (Exit Price: 9254.09), Volume: 0.1002, P&L: -0.0001\n",
      "Trade flipped: buy entered at 2020-07-07 19:11:00 (Entry Price: 9254.24), exited at 2020-07-07T20:57:00.000000000 (Exit Price: 9254.09), Volume: 0.1002, P&L: -0.0000\n",
      "Trade flipped: sell entered at 2020-07-07 20:57:00 (Entry Price: 9254.09), exited at 2020-07-07T21:00:00.000000000 (Exit Price: 9249.81), Volume: 0.1002, P&L: 0.0000\n",
      "Trade executed: buy entered at 2020-07-07 21:00:00 (Entry Price: 9249.81), exited at 2020-07-07T21:09:00.000000000 (Exit Price: 9251.64), Volume: 0.1002, P&L: -0.0000\n",
      "Trade executed: buy entered at 2020-07-07 21:21:00 (Entry Price: 9238.82), exited at 2020-07-07T21:39:00.000000000 (Exit Price: 9247.74), Volume: 0.1002, P&L: 0.0001\n",
      "Trade executed: buy entered at 2020-07-08 00:10:00 (Entry Price: 9237.04), exited at 2020-07-08T00:42:00.000000000 (Exit Price: 9246.21), Volume: 0.1002, P&L: 0.0001\n",
      "Trade executed: sell entered at 2020-07-08 01:16:00 (Entry Price: 9261.48), exited at 2020-07-08T03:32:00.000000000 (Exit Price: 9297.58), Volume: 0.1002, P&L: -0.0004\n",
      "Trade executed: sell entered at 2020-07-08 02:01:00 (Entry Price: 9295.72), exited at 2020-07-08T03:32:00.000000000 (Exit Price: 9297.58), Volume: 0.1002, P&L: -0.0000\n",
      "Trade executed: buy entered at 2020-07-08 05:30:00 (Entry Price: 9254.79), exited at 2020-07-08T05:43:00.000000000 (Exit Price: 9272.54), Volume: 0.1002, P&L: 0.0002\n",
      "Trade executed: buy entered at 2020-07-08 04:33:00 (Entry Price: 9268.33), exited at 2020-07-08T06:21:00.000000000 (Exit Price: 9278.77), Volume: 0.1002, P&L: 0.0001\n",
      "Trade executed: sell entered at 2020-07-08 08:56:00 (Entry Price: 9283.33), exited at 2020-07-08T09:00:00.000000000 (Exit Price: 9281.42), Volume: 0.1002, P&L: 0.0000\n",
      "Trade executed: sell entered at 2020-07-08 09:14:00 (Entry Price: 9283.81), exited at 2020-07-08T09:20:00.000000000 (Exit Price: 9282.50), Volume: 0.1002, P&L: -0.0000\n",
      "Trade executed: buy entered at 2020-07-08 09:22:00 (Entry Price: 9277.05), exited at 2020-07-08T09:58:00.000000000 (Exit Price: 9282.95), Volume: 0.1002, P&L: 0.0000\n",
      "Trade executed: sell entered at 2020-07-08 10:03:00 (Entry Price: 9280.15), exited at 2020-07-08T10:30:00.000000000 (Exit Price: 9278.14), Volume: 0.1002, P&L: 0.0000\n",
      "Trade executed: sell entered at 2020-07-08 11:43:00 (Entry Price: 9296.50), exited at 2020-07-08T12:09:00.000000000 (Exit Price: 9291.57), Volume: 0.1002, P&L: 0.0000\n",
      "Trade executed: sell entered at 2020-07-08 12:01:00 (Entry Price: 9328.99), exited at 2020-07-08T12:09:00.000000000 (Exit Price: 9291.57), Volume: 0.1002, P&L: 0.0004\n",
      "Trade executed: sell entered at 2020-07-08 12:10:00 (Entry Price: 9296.98), exited at 2020-07-08T12:11:00.000000000 (Exit Price: 9294.89), Volume: 0.1002, P&L: 0.0000\n",
      "Trade executed: sell entered at 2020-07-08 12:13:00 (Entry Price: 9296.10), exited at 2020-07-08T12:14:00.000000000 (Exit Price: 9295.76), Volume: 0.1002, P&L: -0.0000\n",
      "Trade executed: sell entered at 2020-07-08 12:36:00 (Entry Price: 9302.78), exited at 2020-07-08T12:37:00.000000000 (Exit Price: 9295.28), Volume: 0.1002, P&L: 0.0001\n",
      "Trade executed: sell entered at 2020-07-08 12:38:00 (Entry Price: 9299.25), exited at 2020-07-08T12:40:00.000000000 (Exit Price: 9294.10), Volume: 0.1002, P&L: 0.0000\n",
      "Trade executed: buy entered at 2020-07-08 12:46:00 (Entry Price: 9285.00), exited at 2020-07-08T12:49:00.000000000 (Exit Price: 9289.58), Volume: 0.1003, P&L: 0.0000\n",
      "Trade executed: sell entered at 2020-07-08 13:02:00 (Entry Price: 9299.30), exited at 2020-07-08T13:09:00.000000000 (Exit Price: 9297.97), Volume: 0.1003, P&L: -0.0000\n",
      "Trade executed: sell entered at 2020-07-08 13:15:00 (Entry Price: 9302.23), exited at 2020-07-08T15:21:00.000000000 (Exit Price: 9428.42), Volume: 0.1003, P&L: -0.0014\n",
      "Trade executed: sell entered at 2020-07-08 13:37:00 (Entry Price: 9323.14), exited at 2020-07-08T15:21:00.000000000 (Exit Price: 9428.42), Volume: 0.1003, P&L: -0.0012\n",
      "Trade executed: sell entered at 2020-07-08 14:25:00 (Entry Price: 9424.99), exited at 2020-07-08T15:21:00.000000000 (Exit Price: 9428.42), Volume: 0.1003, P&L: -0.0001\n",
      "Trade executed: sell entered at 2020-07-08 14:35:00 (Entry Price: 9424.01), exited at 2020-07-08T15:21:00.000000000 (Exit Price: 9428.42), Volume: 0.1003, P&L: -0.0001\n",
      "Trade executed: sell entered at 2020-07-08 14:36:00 (Entry Price: 9418.04), exited at 2020-07-08T15:21:00.000000000 (Exit Price: 9428.42), Volume: 0.1003, P&L: -0.0001\n",
      "Trade executed: sell entered at 2020-07-08 20:02:00 (Entry Price: 9432.91), exited at 2020-07-08T20:20:00.000000000 (Exit Price: 9429.98), Volume: 0.1000, P&L: 0.0000\n",
      "Trade executed: sell entered at 2020-07-08 20:21:00 (Entry Price: 9431.00), exited at 2020-07-08T20:25:00.000000000 (Exit Price: 9427.75), Volume: 0.1000, P&L: 0.0000\n",
      "Trade executed: buy entered at 2020-07-08 20:37:00 (Entry Price: 9422.54), exited at 2020-07-08T20:39:00.000000000 (Exit Price: 9430.64), Volume: 0.1000, P&L: 0.0001\n",
      "Trade executed: buy entered at 2020-07-08 20:55:00 (Entry Price: 9425.48), exited at 2020-07-08T20:58:00.000000000 (Exit Price: 9431.11), Volume: 0.1000, P&L: 0.0000\n",
      "Trade executed: buy entered at 2020-07-08 21:13:00 (Entry Price: 9425.95), exited at 2020-07-08T21:35:00.000000000 (Exit Price: 9426.84), Volume: 0.1000, P&L: -0.0000\n",
      "Trade executed: buy entered at 2020-07-08 23:21:00 (Entry Price: 9433.19), exited at 2020-07-08T23:25:00.000000000 (Exit Price: 9435.73), Volume: 0.1000, P&L: 0.0000\n",
      "Trade executed: buy entered at 2020-07-08 23:27:00 (Entry Price: 9429.99), exited at 2020-07-08T23:48:00.000000000 (Exit Price: 9436.62), Volume: 0.1000, P&L: 0.0001\n",
      "Trade executed: buy entered at 2020-07-08 23:52:00 (Entry Price: 9432.97), exited at 2020-07-08T23:54:00.000000000 (Exit Price: 9434.78), Volume: 0.1000, P&L: -0.0000\n",
      "Trade executed: buy entered at 2020-07-09 00:00:00 (Entry Price: 9430.76), exited at 2020-07-09T00:02:00.000000000 (Exit Price: 9439.63), Volume: 0.1000, P&L: 0.0001\n",
      "Trade executed: buy entered at 2020-07-09 00:16:00 (Entry Price: 9418.71), exited at 2020-07-09T04:15:00.000000000 (Exit Price: 9396.52), Volume: 0.1000, P&L: -0.0003\n",
      "Trade executed: buy entered at 2020-07-09 01:04:00 (Entry Price: 9406.27), exited at 2020-07-09T04:15:00.000000000 (Exit Price: 9396.52), Volume: 0.1000, P&L: -0.0001\n",
      "Trade executed: buy entered at 2020-07-09 05:36:00 (Entry Price: 9390.04), exited at 2020-07-09T05:37:00.000000000 (Exit Price: 9392.68), Volume: 0.1000, P&L: 0.0000\n",
      "Trade executed: buy entered at 2020-07-09 05:52:00 (Entry Price: 9389.65), exited at 2020-07-09T06:02:00.000000000 (Exit Price: 9390.65), Volume: 0.1000, P&L: -0.0000\n",
      "Trade executed: sell entered at 2020-07-09 06:04:00 (Entry Price: 9393.00), exited at 2020-07-09T06:31:00.000000000 (Exit Price: 9394.12), Volume: 0.1000, P&L: -0.0000\n",
      "Trade executed: sell entered at 2020-07-09 06:35:00 (Entry Price: 9400.49), exited at 2020-07-09T07:20:00.000000000 (Exit Price: 9399.78), Volume: 0.1000, P&L: -0.0000\n",
      "Trade executed: buy entered at 2020-07-09 07:29:00 (Entry Price: 9395.92), exited at 2020-07-09T07:31:00.000000000 (Exit Price: 9398.00), Volume: 0.1000, P&L: 0.0000\n",
      "Trade executed: sell entered at 2020-07-09 07:46:00 (Entry Price: 9406.86), exited at 2020-07-09T07:53:00.000000000 (Exit Price: 9403.80), Volume: 0.1000, P&L: 0.0000\n",
      "Trade executed: buy entered at 2020-07-09 10:17:00 (Entry Price: 9384.00), exited at 2020-07-09T11:16:00.000000000 (Exit Price: 9388.88), Volume: 0.1000, P&L: 0.0000\n",
      "Trade executed: buy entered at 2020-07-09 10:33:00 (Entry Price: 9370.78), exited at 2020-07-09T11:16:00.000000000 (Exit Price: 9388.88), Volume: 0.1000, P&L: 0.0002\n",
      "Trade flipped: buy entered at 2020-07-09 11:20:00 (Entry Price: 9384.28), exited at 2020-07-09T11:22:00.000000000 (Exit Price: 9387.41), Volume: 0.1000, P&L: 0.0000\n",
      "Trade flipped: sell entered at 2020-07-09 11:22:00 (Entry Price: 9387.41), exited at 2020-07-09T11:23:00.000000000 (Exit Price: 9385.77), Volume: 0.1000, P&L: -0.0000\n",
      "Trade executed: buy entered at 2020-07-09 11:23:00 (Entry Price: 9385.77), exited at 2020-07-09T11:30:00.000000000 (Exit Price: 9387.28), Volume: 0.1000, P&L: -0.0000\n",
      "Trade executed: sell entered at 2020-07-09 11:32:00 (Entry Price: 9393.08), exited at 2020-07-09T13:05:00.000000000 (Exit Price: 9406.83), Volume: 0.1000, P&L: -0.0002\n",
      "Trade executed: sell entered at 2020-07-09 12:24:00 (Entry Price: 9407.85), exited at 2020-07-09T13:05:00.000000000 (Exit Price: 9406.83), Volume: 0.1000, P&L: -0.0000\n",
      "Trade executed: sell entered at 2020-07-09 13:07:00 (Entry Price: 9408.82), exited at 2020-07-09T13:11:00.000000000 (Exit Price: 9407.06), Volume: 0.1000, P&L: -0.0000\n",
      "Trade executed: buy entered at 2020-07-09 13:39:00 (Entry Price: 9394.71), exited at 2020-07-09T13:42:00.000000000 (Exit Price: 9395.91), Volume: 0.1000, P&L: -0.0000\n",
      "Trade executed: buy entered at 2020-07-09 14:18:00 (Entry Price: 9370.31), exited at 2020-07-09T18:10:00.000000000 (Exit Price: 9226.83), Volume: 0.1000, P&L: -0.0016\n",
      "Trade executed: buy entered at 2020-07-09 14:58:00 (Entry Price: 9295.07), exited at 2020-07-09T18:10:00.000000000 (Exit Price: 9226.83), Volume: 0.1000, P&L: -0.0008\n",
      "Trade executed: buy entered at 2020-07-09 22:26:00 (Entry Price: 9225.08), exited at 2020-07-09T22:27:00.000000000 (Exit Price: 9231.18), Volume: 0.0997, P&L: 0.0000\n",
      "Trade executed: sell entered at 2020-07-09 23:02:00 (Entry Price: 9238.43), exited at 2020-07-09T23:04:00.000000000 (Exit Price: 9236.91), Volume: 0.0997, P&L: -0.0000\n",
      "Trade flipped: buy entered at 2020-07-10 00:42:00 (Entry Price: 9232.50), exited at 2020-07-10T01:40:00.000000000 (Exit Price: 9231.49), Volume: 0.0997, P&L: -0.0000\n",
      "Trade flipped: buy entered at 2020-07-10 01:19:00 (Entry Price: 9223.73), exited at 2020-07-10T01:40:00.000000000 (Exit Price: 9231.49), Volume: 0.0997, P&L: 0.0001\n",
      "Trade executed: sell entered at 2020-07-10 01:40:00 (Entry Price: 9231.49), exited at 2020-07-10T01:55:00.000000000 (Exit Price: 9225.01), Volume: 0.0997, P&L: 0.0001\n",
      "Trade executed: sell entered at 2020-07-10 03:26:00 (Entry Price: 9224.74), exited at 2020-07-10T03:44:00.000000000 (Exit Price: 9218.25), Volume: 0.0997, P&L: 0.0001\n",
      "Trade executed: buy entered at 2020-07-10 04:36:00 (Entry Price: 9144.55), exited at 2020-07-10T06:18:00.000000000 (Exit Price: 9162.98), Volume: 0.0997, P&L: 0.0002\n",
      "Trade executed: sell entered at 2020-07-10 08:19:00 (Entry Price: 9177.81), exited at 2020-07-10T09:02:00.000000000 (Exit Price: 9167.56), Volume: 0.0998, P&L: 0.0001\n",
      "Trade executed: sell entered at 2020-07-10 09:05:00 (Entry Price: 9173.84), exited at 2020-07-10T09:09:00.000000000 (Exit Price: 9169.96), Volume: 0.0998, P&L: 0.0000\n",
      "Trade executed: sell entered at 2020-07-10 09:10:00 (Entry Price: 9173.11), exited at 2020-07-10T09:11:00.000000000 (Exit Price: 9170.95), Volume: 0.0998, P&L: 0.0000\n",
      "Trade executed: sell entered at 2020-07-10 09:23:00 (Entry Price: 9177.29), exited at 2020-07-10T09:37:00.000000000 (Exit Price: 9176.25), Volume: 0.0998, P&L: -0.0000\n",
      "Trade executed: sell entered at 2020-07-10 09:45:00 (Entry Price: 9184.15), exited at 2020-07-10T10:07:00.000000000 (Exit Price: 9178.01), Volume: 0.0998, P&L: 0.0000\n",
      "Trade executed: sell entered at 2020-07-10 12:19:00 (Entry Price: 9181.29), exited at 2020-07-10T12:22:00.000000000 (Exit Price: 9180.47), Volume: 0.0998, P&L: -0.0000\n",
      "Trade executed: buy entered at 2020-07-10 12:23:00 (Entry Price: 9176.01), exited at 2020-07-10T12:39:00.000000000 (Exit Price: 9180.47), Volume: 0.0998, P&L: 0.0000\n",
      "Trade executed: sell entered at 2020-07-10 12:41:00 (Entry Price: 9187.48), exited at 2020-07-10T13:34:00.000000000 (Exit Price: 9175.83), Volume: 0.0998, P&L: 0.0001\n",
      "Trade executed: sell entered at 2020-07-10 13:43:00 (Entry Price: 9183.99), exited at 2020-07-10T13:46:00.000000000 (Exit Price: 9181.77), Volume: 0.0998, P&L: 0.0000\n",
      "Trade executed: buy entered at 2020-07-10 13:51:00 (Entry Price: 9174.97), exited at 2020-07-10T13:59:00.000000000 (Exit Price: 9183.00), Volume: 0.0998, P&L: 0.0001\n",
      "Trade executed: buy entered at 2020-07-10 14:00:00 (Entry Price: 9175.32), exited at 2020-07-10T14:27:00.000000000 (Exit Price: 9182.00), Volume: 0.0998, P&L: 0.0001\n",
      "Trade executed: sell entered at 2020-07-10 14:29:00 (Entry Price: 9181.91), exited at 2020-07-10T14:32:00.000000000 (Exit Price: 9177.99), Volume: 0.0998, P&L: 0.0000\n",
      "Trade executed: sell entered at 2020-07-10 15:18:00 (Entry Price: 9220.16), exited at 2020-07-10T16:19:00.000000000 (Exit Price: 9218.07), Volume: 0.0998, P&L: 0.0000\n",
      "Trade executed: sell entered at 2020-07-10 16:20:00 (Entry Price: 9218.48), exited at 2020-07-10T16:25:00.000000000 (Exit Price: 9215.55), Volume: 0.0998, P&L: 0.0000\n",
      "Trade executed: sell entered at 2020-07-10 16:46:00 (Entry Price: 9232.41), exited at 2020-07-10T16:51:00.000000000 (Exit Price: 9228.51), Volume: 0.0998, P&L: 0.0000\n",
      "Trade executed: sell entered at 2020-07-10 16:52:00 (Entry Price: 9228.98), exited at 2020-07-10T16:54:00.000000000 (Exit Price: 9226.70), Volume: 0.0998, P&L: 0.0000\n",
      "Trade executed: sell entered at 2020-07-10 20:07:00 (Entry Price: 9244.00), exited at 2020-07-10T20:43:00.000000000 (Exit Price: 9236.74), Volume: 0.0998, P&L: 0.0001\n",
      "Trade executed: buy entered at 2020-07-10 21:27:00 (Entry Price: 9219.65), exited at 2020-07-10T22:18:00.000000000 (Exit Price: 9238.23), Volume: 0.0998, P&L: 0.0002\n",
      "Trade flipped: sell entered at 2020-07-10 22:19:00 (Entry Price: 9235.43), exited at 2020-07-10T22:23:00.000000000 (Exit Price: 9229.99), Volume: 0.0998, P&L: 0.0000\n",
      "Trade flipped: buy entered at 2020-07-10 22:23:00 (Entry Price: 9229.99), exited at 2020-07-10T22:24:00.000000000 (Exit Price: 9234.56), Volume: 0.0998, P&L: 0.0000\n",
      "Trade flipped: sell entered at 2020-07-10 22:24:00 (Entry Price: 9234.56), exited at 2020-07-10T22:45:00.000000000 (Exit Price: 9231.70), Volume: 0.0998, P&L: 0.0000\n",
      "Trade executed: buy entered at 2020-07-10 22:45:00 (Entry Price: 9231.70), exited at 2020-07-10T23:09:00.000000000 (Exit Price: 9232.13), Volume: 0.0998, P&L: -0.0000\n",
      "Trade executed: sell entered at 2020-07-10 23:26:00 (Entry Price: 9267.80), exited at 2020-07-11T00:38:00.000000000 (Exit Price: 9277.00), Volume: 0.0998, P&L: -0.0001\n",
      "Trade executed: buy entered at 2020-07-11 04:34:00 (Entry Price: 9272.74), exited at 2020-07-11T04:40:00.000000000 (Exit Price: 9275.87), Volume: 0.0998, P&L: 0.0000\n",
      "Trade executed: buy entered at 2020-07-11 04:44:00 (Entry Price: 9267.97), exited at 2020-07-11T05:16:00.000000000 (Exit Price: 9272.37), Volume: 0.0998, P&L: 0.0000\n",
      "Trade executed: sell entered at 2020-07-11 05:20:00 (Entry Price: 9275.39), exited at 2020-07-11T05:32:00.000000000 (Exit Price: 9265.81), Volume: 0.0998, P&L: 0.0001\n",
      "Trade executed: buy entered at 2020-07-11 09:11:00 (Entry Price: 9192.62), exited at 2020-07-11T10:01:00.000000000 (Exit Price: 9228.02), Volume: 0.0998, P&L: 0.0004\n",
      "Trade executed: buy entered at 2020-07-11 09:59:00 (Entry Price: 9206.25), exited at 2020-07-11T10:30:00.000000000 (Exit Price: 9224.32), Volume: 0.0998, P&L: 0.0002\n",
      "Trade executed: buy entered at 2020-07-11 08:55:00 (Entry Price: 9264.02), exited at 2020-07-11T12:07:00.000000000 (Exit Price: 9217.00), Volume: 0.0998, P&L: -0.0005\n",
      "Trade executed: buy entered at 2020-07-11 10:11:00 (Entry Price: 9217.00), exited at 2020-07-11T12:07:00.000000000 (Exit Price: 9217.00), Volume: 0.0999, P&L: -0.0000\n",
      "Trade executed: buy entered at 2020-07-11 10:29:00 (Entry Price: 9212.12), exited at 2020-07-11T12:07:00.000000000 (Exit Price: 9217.00), Volume: 0.0999, P&L: 0.0000\n",
      "Trade executed: buy entered at 2020-07-11 10:35:00 (Entry Price: 9220.19), exited at 2020-07-11T12:07:00.000000000 (Exit Price: 9217.00), Volume: 0.0999, P&L: -0.0001\n",
      "Trade executed: buy entered at 2020-07-11 10:37:00 (Entry Price: 9215.97), exited at 2020-07-11T12:07:00.000000000 (Exit Price: 9217.00), Volume: 0.0999, P&L: -0.0000\n",
      "Trade executed: sell entered at 2020-07-11 16:18:00 (Entry Price: 9237.52), exited at 2020-07-11T16:32:00.000000000 (Exit Price: 9220.97), Volume: 0.0998, P&L: 0.0002\n",
      "Trade executed: buy entered at 2020-07-11 16:33:00 (Entry Price: 9214.84), exited at 2020-07-11T18:37:00.000000000 (Exit Price: 9221.10), Volume: 0.0999, P&L: 0.0000\n",
      "Trade executed: buy entered at 2020-07-11 21:10:00 (Entry Price: 9208.97), exited at 2020-07-11T21:33:00.000000000 (Exit Price: 9213.67), Volume: 0.0999, P&L: 0.0000\n",
      "Trade executed: sell entered at 2020-07-11 22:28:00 (Entry Price: 9217.85), exited at 2020-07-11T22:30:00.000000000 (Exit Price: 9215.45), Volume: 0.0999, P&L: 0.0000\n",
      "Trade executed: sell entered at 2020-07-11 22:32:00 (Entry Price: 9216.81), exited at 2020-07-11T22:35:00.000000000 (Exit Price: 9216.13), Volume: 0.0999, P&L: -0.0000\n",
      "Trade executed: sell entered at 2020-07-11 22:37:00 (Entry Price: 9217.17), exited at 2020-07-11T22:52:00.000000000 (Exit Price: 9217.99), Volume: 0.0999, P&L: -0.0000\n",
      "Trade executed: sell entered at 2020-07-11 23:24:00 (Entry Price: 9243.84), exited at 2020-07-12T00:02:00.000000000 (Exit Price: 9233.01), Volume: 0.0999, P&L: 0.0001\n",
      "Trade executed: sell entered at 2020-07-12 00:17:00 (Entry Price: 9260.09), exited at 2020-07-12T00:48:00.000000000 (Exit Price: 9246.56), Volume: 0.0999, P&L: 0.0001\n",
      "Trade executed: sell entered at 2020-07-12 00:48:00 (Entry Price: 9246.56), exited at 2020-07-12T00:49:00.000000000 (Exit Price: 9245.01), Volume: 0.0999, P&L: -0.0000\n",
      "Trade executed: sell entered at 2020-07-12 00:54:00 (Entry Price: 9246.01), exited at 2020-07-12T00:56:00.000000000 (Exit Price: 9245.28), Volume: 0.0999, P&L: -0.0000\n",
      "Trade executed: sell entered at 2020-07-12 00:57:00 (Entry Price: 9248.01), exited at 2020-07-12T01:14:00.000000000 (Exit Price: 9246.56), Volume: 0.0999, P&L: -0.0000\n",
      "Trade executed: sell entered at 2020-07-12 01:33:00 (Entry Price: 9287.07), exited at 2020-07-12T02:03:00.000000000 (Exit Price: 9267.82), Volume: 0.0999, P&L: 0.0002\n",
      "Trade executed: buy entered at 2020-07-12 06:08:00 (Entry Price: 9267.67), exited at 2020-07-12T08:03:00.000000000 (Exit Price: 9262.00), Volume: 0.0999, P&L: -0.0001\n",
      "Trade executed: buy entered at 2020-07-12 06:47:00 (Entry Price: 9255.00), exited at 2020-07-12T08:03:00.000000000 (Exit Price: 9262.00), Volume: 0.0999, P&L: 0.0001\n",
      "Trade executed: sell entered at 2020-07-12 08:39:00 (Entry Price: 9263.15), exited at 2020-07-12T08:41:00.000000000 (Exit Price: 9259.00), Volume: 0.0999, P&L: 0.0000\n",
      "Trade executed: buy entered at 2020-07-12 09:10:00 (Entry Price: 9246.34), exited at 2020-07-12T09:27:00.000000000 (Exit Price: 9258.75), Volume: 0.0999, P&L: 0.0001\n",
      "Trade executed: sell entered at 2020-07-12 09:29:00 (Entry Price: 9258.48), exited at 2020-07-12T09:30:00.000000000 (Exit Price: 9256.65), Volume: 0.0999, P&L: -0.0000\n",
      "Trade executed: sell entered at 2020-07-12 09:39:00 (Entry Price: 9263.00), exited at 2020-07-12T10:13:00.000000000 (Exit Price: 9255.52), Volume: 0.0999, P&L: 0.0001\n",
      "Trade executed: sell entered at 2020-07-12 10:28:00 (Entry Price: 9266.84), exited at 2020-07-12T10:54:00.000000000 (Exit Price: 9258.54), Volume: 0.0999, P&L: 0.0001\n",
      "Trade executed: sell entered at 2020-07-12 12:43:00 (Entry Price: 9263.07), exited at 2020-07-12T13:26:00.000000000 (Exit Price: 9240.41), Volume: 0.0999, P&L: 0.0002\n",
      "Trade executed: sell entered at 2020-07-12 13:19:00 (Entry Price: 9330.84), exited at 2020-07-12T13:26:00.000000000 (Exit Price: 9240.41), Volume: 0.0999, P&L: 0.0009\n",
      "Trade executed: buy entered at 2020-07-12 15:00:00 (Entry Price: 9210.57), exited at 2020-07-12T15:52:00.000000000 (Exit Price: 9221.84), Volume: 0.1000, P&L: 0.0001\n",
      "Trade executed: buy entered at 2020-07-12 13:27:00 (Entry Price: 9236.62), exited at 2020-07-12T16:39:00.000000000 (Exit Price: 9219.50), Volume: 0.1000, P&L: -0.0002\n",
      "Trade executed: buy entered at 2020-07-12 14:23:00 (Entry Price: 9215.75), exited at 2020-07-12T16:39:00.000000000 (Exit Price: 9219.50), Volume: 0.1000, P&L: 0.0000\n",
      "Trade executed: buy entered at 2020-07-12 19:16:00 (Entry Price: 9191.19), exited at 2020-07-12T19:50:00.000000000 (Exit Price: 9210.45), Volume: 0.1000, P&L: 0.0002\n",
      "Trade executed: sell entered at 2020-07-12 19:54:00 (Entry Price: 9221.55), exited at 2020-07-12T21:21:00.000000000 (Exit Price: 9224.02), Volume: 0.1001, P&L: -0.0000\n",
      "Trade executed: sell entered at 2020-07-12 22:14:00 (Entry Price: 9315.90), exited at 2020-07-12T22:34:00.000000000 (Exit Price: 9285.27), Volume: 0.1000, P&L: 0.0003\n",
      "Trade executed: sell entered at 2020-07-12 22:39:00 (Entry Price: 9286.78), exited at 2020-07-12T23:10:00.000000000 (Exit Price: 9281.36), Volume: 0.1001, P&L: 0.0000\n",
      "Trade executed: sell entered at 2020-07-13 01:35:00 (Entry Price: 9288.59), exited at 2020-07-13T01:57:00.000000000 (Exit Price: 9282.13), Volume: 0.1001, P&L: 0.0000\n",
      "Trade flipped: sell entered at 2020-07-13 05:02:00 (Entry Price: 9279.99), exited at 2020-07-13T05:03:00.000000000 (Exit Price: 9278.31), Volume: 0.1001, P&L: -0.0000\n",
      "Trade flipped: buy entered at 2020-07-13 05:03:00 (Entry Price: 9278.31), exited at 2020-07-13T05:05:00.000000000 (Exit Price: 9281.00), Volume: 0.1001, P&L: 0.0000\n",
      "Trade flipped: sell entered at 2020-07-13 05:05:00 (Entry Price: 9281.00), exited at 2020-07-13T05:32:00.000000000 (Exit Price: 9277.88), Volume: 0.1001, P&L: 0.0000\n",
      "Trade flipped: buy entered at 2020-07-13 05:32:00 (Entry Price: 9277.88), exited at 2020-07-13T05:33:00.000000000 (Exit Price: 9279.01), Volume: 0.1001, P&L: -0.0000\n",
      "Trade executed: sell entered at 2020-07-13 05:33:00 (Entry Price: 9279.01), exited at 2020-07-13T05:48:00.000000000 (Exit Price: 9275.99), Volume: 0.1001, P&L: 0.0000\n",
      "Trade executed: sell entered at 2020-07-13 06:01:00 (Entry Price: 9288.42), exited at 2020-07-13T06:17:00.000000000 (Exit Price: 9279.77), Volume: 0.1001, P&L: 0.0001\n",
      "Trade executed: buy entered at 2020-07-13 06:49:00 (Entry Price: 9253.45), exited at 2020-07-13T07:19:00.000000000 (Exit Price: 9272.98), Volume: 0.1001, P&L: 0.0002\n",
      "Trade executed: buy entered at 2020-07-13 06:28:00 (Entry Price: 9275.35), exited at 2020-07-13T07:21:00.000000000 (Exit Price: 9276.66), Volume: 0.1001, P&L: -0.0000\n",
      "Trade flipped: buy entered at 2020-07-13 07:28:00 (Entry Price: 9270.01), exited at 2020-07-13T07:31:00.000000000 (Exit Price: 9276.29), Volume: 0.1001, P&L: 0.0000\n",
      "Trade flipped: sell entered at 2020-07-13 07:31:00 (Entry Price: 9276.29), exited at 2020-07-13T07:34:00.000000000 (Exit Price: 9272.04), Volume: 0.1001, P&L: 0.0000\n",
      "Trade executed: buy entered at 2020-07-13 07:34:00 (Entry Price: 9272.04), exited at 2020-07-13T08:02:00.000000000 (Exit Price: 9273.49), Volume: 0.1001, P&L: -0.0000\n",
      "Trade executed: sell entered at 2020-07-13 08:24:00 (Entry Price: 9284.33), exited at 2020-07-13T08:44:00.000000000 (Exit Price: 9265.00), Volume: 0.1001, P&L: 0.0002\n",
      "Trade executed: buy entered at 2020-07-13 10:08:00 (Entry Price: 9274.18), exited at 2020-07-13T10:09:00.000000000 (Exit Price: 9277.08), Volume: 0.1001, P&L: 0.0000\n",
      "Trade executed: buy entered at 2020-07-13 10:17:00 (Entry Price: 9273.95), exited at 2020-07-13T10:36:00.000000000 (Exit Price: 9277.65), Volume: 0.1001, P&L: 0.0000\n",
      "Trade executed: sell entered at 2020-07-13 11:15:00 (Entry Price: 9306.70), exited at 2020-07-13T11:30:00.000000000 (Exit Price: 9289.60), Volume: 0.1001, P&L: 0.0002\n",
      "Trade executed: sell entered at 2020-07-13 11:30:00 (Entry Price: 9289.60), exited at 2020-07-13T12:01:00.000000000 (Exit Price: 9295.08), Volume: 0.1002, P&L: -0.0001\n",
      "Trade executed: buy entered at 2020-07-13 12:02:00 (Entry Price: 9284.32), exited at 2020-07-13T12:03:00.000000000 (Exit Price: 9295.42), Volume: 0.1002, P&L: 0.0001\n",
      "Trade executed: sell entered at 2020-07-13 12:11:00 (Entry Price: 9297.36), exited at 2020-07-13T12:12:00.000000000 (Exit Price: 9295.86), Volume: 0.1002, P&L: -0.0000\n",
      "Trade executed: sell entered at 2020-07-13 12:13:00 (Entry Price: 9303.18), exited at 2020-07-13T12:14:00.000000000 (Exit Price: 9296.38), Volume: 0.1002, P&L: 0.0001\n",
      "Trade executed: sell entered at 2020-07-13 12:22:00 (Entry Price: 9301.91), exited at 2020-07-13T12:25:00.000000000 (Exit Price: 9295.44), Volume: 0.1002, P&L: 0.0000\n",
      "Trade executed: sell entered at 2020-07-13 12:34:00 (Entry Price: 9309.81), exited at 2020-07-13T13:02:00.000000000 (Exit Price: 9296.05), Volume: 0.1002, P&L: 0.0001\n",
      "Trade executed: sell entered at 2020-07-13 13:04:00 (Entry Price: 9308.85), exited at 2020-07-13T13:06:00.000000000 (Exit Price: 9303.90), Volume: 0.1002, P&L: 0.0000\n",
      "Trade executed: sell entered at 2020-07-13 13:12:00 (Entry Price: 9308.20), exited at 2020-07-13T13:13:00.000000000 (Exit Price: 9304.67), Volume: 0.1002, P&L: 0.0000\n",
      "Trade executed: sell entered at 2020-07-13 13:15:00 (Entry Price: 9307.02), exited at 2020-07-13T13:21:00.000000000 (Exit Price: 9305.46), Volume: 0.1002, P&L: -0.0000\n",
      "Trade executed: sell entered at 2020-07-13 13:24:00 (Entry Price: 9306.43), exited at 2020-07-13T13:37:00.000000000 (Exit Price: 9308.01), Volume: 0.1002, P&L: -0.0000\n",
      "Trade executed: sell entered at 2020-07-13 13:38:00 (Entry Price: 9312.61), exited at 2020-07-13T13:47:00.000000000 (Exit Price: 9309.78), Volume: 0.1002, P&L: 0.0000\n",
      "Trade executed: sell entered at 2020-07-13 14:10:00 (Entry Price: 9322.63), exited at 2020-07-13T14:19:00.000000000 (Exit Price: 9312.77), Volume: 0.1002, P&L: 0.0001\n",
      "Trade executed: sell entered at 2020-07-13 14:20:00 (Entry Price: 9316.02), exited at 2020-07-13T14:48:00.000000000 (Exit Price: 9316.67), Volume: 0.1002, P&L: -0.0000\n",
      "Trade executed: buy entered at 2020-07-13 21:02:00 (Entry Price: 9242.41), exited at 2020-07-13T21:14:00.000000000 (Exit Price: 9257.00), Volume: 0.1002, P&L: 0.0001\n",
      "Trade flipped: buy entered at 2020-07-13 18:56:00 (Entry Price: 9288.77), exited at 2020-07-13T21:15:00.000000000 (Exit Price: 9258.76), Volume: 0.1002, P&L: -0.0003\n",
      "Trade flipped: buy entered at 2020-07-13 19:17:00 (Entry Price: 9268.28), exited at 2020-07-13T21:15:00.000000000 (Exit Price: 9258.76), Volume: 0.1002, P&L: -0.0001\n",
      "Trade flipped: buy entered at 2020-07-13 21:14:00 (Entry Price: 9257.00), exited at 2020-07-13T21:15:00.000000000 (Exit Price: 9258.76), Volume: 0.1002, P&L: -0.0000\n",
      "Trade executed: sell entered at 2020-07-13 21:15:00 (Entry Price: 9258.76), exited at 2020-07-13T21:45:00.000000000 (Exit Price: 9245.01), Volume: 0.1002, P&L: 0.0001\n",
      "Trade executed: sell entered at 2020-07-14 01:39:00 (Entry Price: 9244.35), exited at 2020-07-14T01:53:00.000000000 (Exit Price: 9235.92), Volume: 0.1002, P&L: 0.0001\n",
      "Trade executed: buy entered at 2020-07-14 04:26:00 (Entry Price: 9172.07), exited at 2020-07-14T04:59:00.000000000 (Exit Price: 9190.19), Volume: 0.1002, P&L: 0.0002\n",
      "Trade flipped: sell entered at 2020-07-14 08:38:00 (Entry Price: 9200.72), exited at 2020-07-14T09:00:00.000000000 (Exit Price: 9191.53), Volume: 0.1002, P&L: 0.0001\n",
      "Trade executed: buy entered at 2020-07-14 09:00:00 (Entry Price: 9191.53), exited at 2020-07-14T09:02:00.000000000 (Exit Price: 9192.78), Volume: 0.1002, P&L: -0.0000\n",
      "Trade executed: sell entered at 2020-07-14 09:09:00 (Entry Price: 9194.24), exited at 2020-07-14T09:40:00.000000000 (Exit Price: 9196.25), Volume: 0.1002, P&L: -0.0000\n",
      "Trade executed: buy entered at 2020-07-14 10:53:00 (Entry Price: 9176.38), exited at 2020-07-14T11:15:00.000000000 (Exit Price: 9189.62), Volume: 0.1002, P&L: 0.0001\n",
      "Trade flipped: buy entered at 2020-07-14 11:15:00 (Entry Price: 9189.62), exited at 2020-07-14T11:17:00.000000000 (Exit Price: 9192.00), Volume: 0.1002, P&L: 0.0000\n",
      "Trade flipped: sell entered at 2020-07-14 11:17:00 (Entry Price: 9192.00), exited at 2020-07-14T11:18:00.000000000 (Exit Price: 9189.65), Volume: 0.1002, P&L: 0.0000\n",
      "Trade flipped: buy entered at 2020-07-14 11:18:00 (Entry Price: 9189.65), exited at 2020-07-14T11:25:00.000000000 (Exit Price: 9207.02), Volume: 0.1002, P&L: 0.0002\n",
      "Trade flipped: buy entered at 2020-07-14 11:20:00 (Entry Price: 9171.24), exited at 2020-07-14T11:25:00.000000000 (Exit Price: 9207.02), Volume: 0.1002, P&L: 0.0004\n",
      "Trade executed: sell entered at 2020-07-14 11:58:00 (Entry Price: 9238.00), exited at 2020-07-14T12:12:00.000000000 (Exit Price: 9219.00), Volume: 0.1003, P&L: 0.0002\n",
      "Trade executed: sell entered at 2020-07-14 11:25:00 (Entry Price: 9207.02), exited at 2020-07-14T12:42:00.000000000 (Exit Price: 9214.68), Volume: 0.1003, P&L: -0.0001\n",
      "Trade executed: sell entered at 2020-07-14 12:15:00 (Entry Price: 9225.00), exited at 2020-07-14T12:42:00.000000000 (Exit Price: 9214.68), Volume: 0.1003, P&L: 0.0001\n",
      "Trade executed: sell entered at 2020-07-14 12:45:00 (Entry Price: 9222.72), exited at 2020-07-14T12:49:00.000000000 (Exit Price: 9216.06), Volume: 0.1003, P&L: 0.0001\n",
      "Trade flipped: sell entered at 2020-07-14 15:03:00 (Entry Price: 9218.16), exited at 2020-07-14T15:05:00.000000000 (Exit Price: 9208.67), Volume: 0.1003, P&L: 0.0001\n",
      "Trade flipped: buy entered at 2020-07-14 15:05:00 (Entry Price: 9208.67), exited at 2020-07-14T15:06:00.000000000 (Exit Price: 9214.76), Volume: 0.1003, P&L: 0.0000\n",
      "Trade executed: sell entered at 2020-07-14 15:06:00 (Entry Price: 9214.76), exited at 2020-07-14T16:10:00.000000000 (Exit Price: 9216.79), Volume: 0.1003, P&L: -0.0000\n",
      "Trade executed: sell entered at 2020-07-14 16:23:00 (Entry Price: 9223.15), exited at 2020-07-14T17:03:00.000000000 (Exit Price: 9225.33), Volume: 0.1003, P&L: -0.0000\n",
      "Trade executed: sell entered at 2020-07-14 17:10:00 (Entry Price: 9230.02), exited at 2020-07-14T18:54:00.000000000 (Exit Price: 9246.00), Volume: 0.1003, P&L: -0.0002\n",
      "Trade executed: buy entered at 2020-07-14 21:15:00 (Entry Price: 9245.25), exited at 2020-07-14T22:05:00.000000000 (Exit Price: 9257.22), Volume: 0.1003, P&L: 0.0001\n",
      "Trade flipped: buy entered at 2020-07-14 22:06:00 (Entry Price: 9253.46), exited at 2020-07-14T22:13:00.000000000 (Exit Price: 9255.25), Volume: 0.1003, P&L: -0.0000\n",
      "Trade executed: sell entered at 2020-07-14 22:13:00 (Entry Price: 9255.25), exited at 2020-07-14T22:19:00.000000000 (Exit Price: 9251.50), Volume: 0.1003, P&L: 0.0000\n",
      "Trade flipped: sell entered at 2020-07-14 22:31:00 (Entry Price: 9258.00), exited at 2020-07-14T22:48:00.000000000 (Exit Price: 9254.01), Volume: 0.1003, P&L: 0.0000\n",
      "Trade executed: buy entered at 2020-07-14 22:48:00 (Entry Price: 9254.01), exited at 2020-07-14T22:55:00.000000000 (Exit Price: 9257.00), Volume: 0.1003, P&L: 0.0000\n",
      "Trade executed: buy entered at 2020-07-15 04:04:00 (Entry Price: 9231.97), exited at 2020-07-15T04:50:00.000000000 (Exit Price: 9239.60), Volume: 0.1003, P&L: 0.0001\n",
      "Trade flipped: sell entered at 2020-07-15 05:02:00 (Entry Price: 9241.24), exited at 2020-07-15T05:04:00.000000000 (Exit Price: 9239.77), Volume: 0.1003, P&L: -0.0000\n",
      "Trade executed: buy entered at 2020-07-15 05:04:00 (Entry Price: 9239.77), exited at 2020-07-15T05:11:00.000000000 (Exit Price: 9242.00), Volume: 0.1003, P&L: 0.0000\n",
      "Trade flipped: sell entered at 2020-07-15 05:13:00 (Entry Price: 9241.89), exited at 2020-07-15T05:24:00.000000000 (Exit Price: 9240.10), Volume: 0.1003, P&L: -0.0000\n",
      "Trade executed: buy entered at 2020-07-15 05:24:00 (Entry Price: 9240.10), exited at 2020-07-15T05:26:00.000000000 (Exit Price: 9240.15), Volume: 0.1003, P&L: -0.0000\n",
      "Trade flipped: sell entered at 2020-07-15 05:32:00 (Entry Price: 9240.34), exited at 2020-07-15T05:40:00.000000000 (Exit Price: 9239.53), Volume: 0.1003, P&L: -0.0000\n",
      "Trade flipped: buy entered at 2020-07-15 05:40:00 (Entry Price: 9239.53), exited at 2020-07-15T05:41:00.000000000 (Exit Price: 9239.89), Volume: 0.1003, P&L: -0.0000\n",
      "Trade executed: sell entered at 2020-07-15 05:41:00 (Entry Price: 9239.89), exited at 2020-07-15T05:43:00.000000000 (Exit Price: 9235.98), Volume: 0.1003, P&L: 0.0000\n",
      "Trade executed: buy entered at 2020-07-15 07:12:00 (Entry Price: 9220.59), exited at 2020-07-15T07:44:00.000000000 (Exit Price: 9228.27), Volume: 0.1003, P&L: 0.0001\n",
      "Trade flipped: buy entered at 2020-07-15 07:44:00 (Entry Price: 9228.27), exited at 2020-07-15T09:58:00.000000000 (Exit Price: 9225.48), Volume: 0.1003, P&L: -0.0001\n",
      "Trade flipped: buy entered at 2020-07-15 08:22:00 (Entry Price: 9212.08), exited at 2020-07-15T09:58:00.000000000 (Exit Price: 9225.48), Volume: 0.1003, P&L: 0.0001\n",
      "Trade flipped: sell entered at 2020-07-15 09:58:00 (Entry Price: 9225.48), exited at 2020-07-15T10:01:00.000000000 (Exit Price: 9218.69), Volume: 0.1003, P&L: 0.0001\n",
      "Trade executed: buy entered at 2020-07-15 10:01:00 (Entry Price: 9218.69), exited at 2020-07-15T10:03:00.000000000 (Exit Price: 9219.98), Volume: 0.1003, P&L: -0.0000\n",
      "Trade executed: sell entered at 2020-07-15 10:10:00 (Entry Price: 9229.88), exited at 2020-07-15T11:07:00.000000000 (Exit Price: 9230.12), Volume: 0.1003, P&L: -0.0000\n",
      "Trade executed: buy entered at 2020-07-15 13:40:00 (Entry Price: 9227.00), exited at 2020-07-15T14:22:00.000000000 (Exit Price: 9233.97), Volume: 0.1003, P&L: 0.0001\n",
      "Trade executed: buy entered at 2020-07-15 15:05:00 (Entry Price: 9226.66), exited at 2020-07-15T17:15:00.000000000 (Exit Price: 9219.64), Volume: 0.1003, P&L: -0.0001\n",
      "Trade executed: buy entered at 2020-07-15 15:42:00 (Entry Price: 9212.28), exited at 2020-07-15T17:15:00.000000000 (Exit Price: 9219.64), Volume: 0.1003, P&L: 0.0001\n",
      "Trade executed: buy entered at 2020-07-15 19:00:00 (Entry Price: 9181.64), exited at 2020-07-15T20:19:00.000000000 (Exit Price: 9203.00), Volume: 0.1003, P&L: 0.0002\n",
      "Trade flipped: sell entered at 2020-07-15 20:23:00 (Entry Price: 9203.21), exited at 2020-07-15T20:24:00.000000000 (Exit Price: 9198.64), Volume: 0.1003, P&L: 0.0000\n",
      "Trade executed: buy entered at 2020-07-15 20:24:00 (Entry Price: 9198.64), exited at 2020-07-15T20:31:00.000000000 (Exit Price: 9205.84), Volume: 0.1003, P&L: 0.0001\n",
      "Trade executed: buy entered at 2020-07-16 00:20:00 (Entry Price: 9184.36), exited at 2020-07-16T00:35:00.000000000 (Exit Price: 9201.61), Volume: 0.1003, P&L: 0.0002\n",
      "Trade executed: buy entered at 2020-07-16 00:01:00 (Entry Price: 9203.02), exited at 2020-07-16T00:44:00.000000000 (Exit Price: 9209.98), Volume: 0.1003, P&L: 0.0001\n",
      "Trade executed: buy entered at 2020-07-16 05:40:00 (Entry Price: 9195.62), exited at 2020-07-16T05:43:00.000000000 (Exit Price: 9203.44), Volume: 0.1004, P&L: 0.0001\n",
      "Trade flipped: sell entered at 2020-07-16 05:44:00 (Entry Price: 9205.40), exited at 2020-07-16T05:51:00.000000000 (Exit Price: 9201.39), Volume: 0.1004, P&L: 0.0000\n",
      "Trade executed: buy entered at 2020-07-16 05:51:00 (Entry Price: 9201.39), exited at 2020-07-16T06:08:00.000000000 (Exit Price: 9202.68), Volume: 0.1004, P&L: -0.0000\n",
      "Trade executed: sell entered at 2020-07-16 06:23:00 (Entry Price: 9203.66), exited at 2020-07-16T06:37:00.000000000 (Exit Price: 9199.71), Volume: 0.1004, P&L: 0.0000\n",
      "Trade executed: buy entered at 2020-07-16 06:47:00 (Entry Price: 9191.09), exited at 2020-07-16T10:59:00.000000000 (Exit Price: 9101.84), Volume: 0.1004, P&L: -0.0010\n",
      "Trade executed: buy entered at 2020-07-16 06:51:00 (Entry Price: 9162.55), exited at 2020-07-16T10:59:00.000000000 (Exit Price: 9101.84), Volume: 0.1004, P&L: -0.0007\n",
      "Trade executed: buy entered at 2020-07-16 07:48:00 (Entry Price: 9135.00), exited at 2020-07-16T10:59:00.000000000 (Exit Price: 9101.84), Volume: 0.1004, P&L: -0.0004\n",
      "Trade executed: buy entered at 2020-07-16 07:58:00 (Entry Price: 9121.19), exited at 2020-07-16T10:59:00.000000000 (Exit Price: 9101.84), Volume: 0.1004, P&L: -0.0002\n",
      "Trade executed: buy entered at 2020-07-16 13:33:00 (Entry Price: 9083.52), exited at 2020-07-16T14:33:00.000000000 (Exit Price: 9089.49), Volume: 0.1001, P&L: 0.0000\n",
      "Trade executed: sell entered at 2020-07-16 15:06:00 (Entry Price: 9102.91), exited at 2020-07-16T16:35:00.000000000 (Exit Price: 9117.68), Volume: 0.1002, P&L: -0.0002\n",
      "Trade executed: sell entered at 2020-07-16 15:24:00 (Entry Price: 9117.00), exited at 2020-07-16T16:35:00.000000000 (Exit Price: 9117.68), Volume: 0.1002, P&L: -0.0000\n",
      "Trade executed: sell entered at 2020-07-16 18:37:00 (Entry Price: 9149.00), exited at 2020-07-16T18:53:00.000000000 (Exit Price: 9133.02), Volume: 0.1001, P&L: 0.0002\n",
      "Trade executed: buy entered at 2020-07-16 18:58:00 (Entry Price: 9125.53), exited at 2020-07-16T19:01:00.000000000 (Exit Price: 9128.48), Volume: 0.1001, P&L: 0.0000\n",
      "Trade executed: buy entered at 2020-07-16 19:02:00 (Entry Price: 9126.52), exited at 2020-07-16T19:09:00.000000000 (Exit Price: 9128.48), Volume: 0.1001, P&L: 0.0000\n",
      "Trade executed: buy entered at 2020-07-16 19:12:00 (Entry Price: 9127.00), exited at 2020-07-16T19:30:00.000000000 (Exit Price: 9130.70), Volume: 0.1001, P&L: 0.0000\n",
      "Trade executed: buy entered at 2020-07-16 19:42:00 (Entry Price: 9127.01), exited at 2020-07-16T20:00:00.000000000 (Exit Price: 9130.81), Volume: 0.1002, P&L: 0.0000\n",
      "Trade executed: sell entered at 2020-07-16 22:02:00 (Entry Price: 9130.43), exited at 2020-07-16T23:13:00.000000000 (Exit Price: 9132.01), Volume: 0.1002, P&L: -0.0000\n",
      "Trade executed: sell entered at 2020-07-16 23:39:00 (Entry Price: 9134.73), exited at 2020-07-16T23:50:00.000000000 (Exit Price: 9132.32), Volume: 0.1001, P&L: 0.0000\n",
      "Trade executed: sell entered at 2020-07-16 23:53:00 (Entry Price: 9136.25), exited at 2020-07-16T23:54:00.000000000 (Exit Price: 9132.76), Volume: 0.1002, P&L: 0.0000\n",
      "Trade executed: sell entered at 2020-07-17 00:01:00 (Entry Price: 9136.02), exited at 2020-07-17T00:07:00.000000000 (Exit Price: 9134.06), Volume: 0.1002, P&L: 0.0000\n",
      "Trade flipped: buy entered at 2020-07-17 00:14:00 (Entry Price: 9125.28), exited at 2020-07-17T01:22:00.000000000 (Exit Price: 9131.00), Volume: 0.1002, P&L: 0.0000\n",
      "Trade flipped: sell entered at 2020-07-17 01:22:00 (Entry Price: 9131.00), exited at 2020-07-17T01:23:00.000000000 (Exit Price: 9127.96), Volume: 0.1002, P&L: 0.0000\n",
      "Trade executed: buy entered at 2020-07-17 01:23:00 (Entry Price: 9127.96), exited at 2020-07-17T01:30:00.000000000 (Exit Price: 9132.22), Volume: 0.1002, P&L: 0.0000\n",
      "Trade executed: buy entered at 2020-07-17 03:57:00 (Entry Price: 9114.84), exited at 2020-07-17T04:06:00.000000000 (Exit Price: 9124.74), Volume: 0.1002, P&L: 0.0001\n",
      "Trade flipped: buy entered at 2020-07-17 05:02:00 (Entry Price: 9117.98), exited at 2020-07-17T06:05:00.000000000 (Exit Price: 9114.88), Volume: 0.1002, P&L: -0.0001\n",
      "Trade flipped: buy entered at 2020-07-17 05:24:00 (Entry Price: 9107.79), exited at 2020-07-17T06:05:00.000000000 (Exit Price: 9114.88), Volume: 0.1002, P&L: 0.0001\n",
      "Trade executed: sell entered at 2020-07-17 06:05:00 (Entry Price: 9114.88), exited at 2020-07-17T07:23:00.000000000 (Exit Price: 9121.99), Volume: 0.1002, P&L: -0.0001\n",
      "Trade executed: sell entered at 2020-07-17 07:03:00 (Entry Price: 9128.09), exited at 2020-07-17T07:23:00.000000000 (Exit Price: 9121.99), Volume: 0.1002, P&L: 0.0000\n",
      "Trade executed: buy entered at 2020-07-17 09:11:00 (Entry Price: 9107.37), exited at 2020-07-17T09:36:00.000000000 (Exit Price: 9118.70), Volume: 0.1002, P&L: 0.0001\n",
      "Trade executed: sell entered at 2020-07-17 09:40:00 (Entry Price: 9122.98), exited at 2020-07-17T10:42:00.000000000 (Exit Price: 9117.99), Volume: 0.1002, P&L: 0.0000\n",
      "Trade executed: buy entered at 2020-07-17 11:06:00 (Entry Price: 9113.69), exited at 2020-07-17T11:12:00.000000000 (Exit Price: 9115.12), Volume: 0.1002, P&L: -0.0000\n",
      "Trade executed: buy entered at 2020-07-17 11:13:00 (Entry Price: 9114.12), exited at 2020-07-17T11:15:00.000000000 (Exit Price: 9115.00), Volume: 0.1002, P&L: -0.0000\n",
      "Trade flipped: buy entered at 2020-07-17 11:49:00 (Entry Price: 9111.09), exited at 2020-07-17T11:50:00.000000000 (Exit Price: 9125.00), Volume: 0.1002, P&L: 0.0001\n",
      "Trade executed: sell entered at 2020-07-17 12:23:00 (Entry Price: 9177.00), exited at 2020-07-17T12:57:00.000000000 (Exit Price: 9160.66), Volume: 0.1002, P&L: 0.0002\n",
      "Trade executed: sell entered at 2020-07-17 11:50:00 (Entry Price: 9125.00), exited at 2020-07-17T13:17:00.000000000 (Exit Price: 9156.01), Volume: 0.1002, P&L: -0.0004\n",
      "Trade executed: sell entered at 2020-07-17 12:58:00 (Entry Price: 9164.76), exited at 2020-07-17T13:17:00.000000000 (Exit Price: 9156.01), Volume: 0.1002, P&L: 0.0001\n",
      "Trade executed: sell entered at 2020-07-17 13:16:00 (Entry Price: 9165.88), exited at 2020-07-17T13:17:00.000000000 (Exit Price: 9156.01), Volume: 0.1002, P&L: 0.0001\n",
      "Trade executed: buy entered at 2020-07-17 16:01:00 (Entry Price: 9153.21), exited at 2020-07-17T16:04:00.000000000 (Exit Price: 9155.00), Volume: 0.1002, P&L: -0.0000\n",
      "Trade flipped: sell entered at 2020-07-17 17:26:00 (Entry Price: 9150.01), exited at 2020-07-17T17:27:00.000000000 (Exit Price: 9148.41), Volume: 0.1002, P&L: -0.0000\n",
      "Trade executed: buy entered at 2020-07-17 17:27:00 (Entry Price: 9148.41), exited at 2020-07-17T17:32:00.000000000 (Exit Price: 9151.82), Volume: 0.1002, P&L: 0.0000\n",
      "Trade executed: buy entered at 2020-07-17 22:05:00 (Entry Price: 9143.25), exited at 2020-07-17T22:17:00.000000000 (Exit Price: 9152.76), Volume: 0.1002, P&L: 0.0001\n",
      "Trade executed: buy entered at 2020-07-17 22:24:00 (Entry Price: 9153.00), exited at 2020-07-17T22:34:00.000000000 (Exit Price: 9156.31), Volume: 0.1002, P&L: 0.0000\n",
      "Trade executed: buy entered at 2020-07-17 22:43:00 (Entry Price: 9152.90), exited at 2020-07-17T22:48:00.000000000 (Exit Price: 9155.84), Volume: 0.1002, P&L: 0.0000\n",
      "Trade executed: sell entered at 2020-07-17 22:59:00 (Entry Price: 9158.79), exited at 2020-07-17T23:34:00.000000000 (Exit Price: 9155.42), Volume: 0.1002, P&L: 0.0000\n",
      "Trade executed: buy entered at 2020-07-18 02:05:00 (Entry Price: 9133.62), exited at 2020-07-18T04:31:00.000000000 (Exit Price: 9137.50), Volume: 0.1002, P&L: 0.0000\n",
      "Trade executed: sell entered at 2020-07-18 05:54:00 (Entry Price: 9136.78), exited at 2020-07-18T05:57:00.000000000 (Exit Price: 9134.32), Volume: 0.1002, P&L: 0.0000\n",
      "Trade flipped: buy entered at 2020-07-18 06:01:00 (Entry Price: 9133.35), exited at 2020-07-18T06:03:00.000000000 (Exit Price: 9134.64), Volume: 0.1002, P&L: -0.0000\n",
      "Trade executed: sell entered at 2020-07-18 06:03:00 (Entry Price: 9134.64), exited at 2020-07-18T06:04:00.000000000 (Exit Price: 9134.11), Volume: 0.1002, P&L: -0.0000\n",
      "Trade executed: sell entered at 2020-07-18 06:05:00 (Entry Price: 9135.50), exited at 2020-07-18T06:06:00.000000000 (Exit Price: 9134.26), Volume: 0.1002, P&L: -0.0000\n",
      "Trade executed: sell entered at 2020-07-18 06:07:00 (Entry Price: 9134.75), exited at 2020-07-18T06:08:00.000000000 (Exit Price: 9134.03), Volume: 0.1002, P&L: -0.0000\n",
      "Trade executed: sell entered at 2020-07-18 09:05:00 (Entry Price: 9194.46), exited at 2020-07-18T09:32:00.000000000 (Exit Price: 9167.97), Volume: 0.1002, P&L: 0.0003\n",
      "Trade executed: sell entered at 2020-07-18 08:55:00 (Entry Price: 9141.00), exited at 2020-07-18T10:24:00.000000000 (Exit Price: 9170.00), Volume: 0.1002, P&L: -0.0003\n",
      "Trade executed: sell entered at 2020-07-18 09:34:00 (Entry Price: 9168.35), exited at 2020-07-18T10:24:00.000000000 (Exit Price: 9170.00), Volume: 0.1002, P&L: -0.0000\n",
      "Trade executed: sell entered at 2020-07-18 09:41:00 (Entry Price: 9164.55), exited at 2020-07-18T10:24:00.000000000 (Exit Price: 9170.00), Volume: 0.1002, P&L: -0.0001\n",
      "Trade executed: sell entered at 2020-07-18 10:02:00 (Entry Price: 9174.97), exited at 2020-07-18T10:24:00.000000000 (Exit Price: 9170.00), Volume: 0.1002, P&L: 0.0000\n",
      "Trade executed: buy entered at 2020-07-18 14:05:00 (Entry Price: 9162.18), exited at 2020-07-18T14:54:00.000000000 (Exit Price: 9167.11), Volume: 0.1002, P&L: 0.0000\n",
      "Trade executed: sell entered at 2020-07-18 15:24:00 (Entry Price: 9169.01), exited at 2020-07-18T16:15:00.000000000 (Exit Price: 9167.60), Volume: 0.1002, P&L: -0.0000\n",
      "Trade executed: sell entered at 2020-07-18 18:20:00 (Entry Price: 9190.99), exited at 2020-07-18T19:14:00.000000000 (Exit Price: 9185.00), Volume: 0.1002, P&L: 0.0000\n",
      "Trade executed: sell entered at 2020-07-18 19:36:00 (Entry Price: 9192.36), exited at 2020-07-18T19:46:00.000000000 (Exit Price: 9186.24), Volume: 0.1002, P&L: 0.0000\n",
      "Trade executed: buy entered at 2020-07-18 19:47:00 (Entry Price: 9171.98), exited at 2020-07-18T20:49:00.000000000 (Exit Price: 9178.67), Volume: 0.1002, P&L: 0.0001\n",
      "Trade executed: buy entered at 2020-07-18 21:13:00 (Entry Price: 9170.42), exited at 2020-07-18T22:05:00.000000000 (Exit Price: 9177.80), Volume: 0.1002, P&L: 0.0001\n",
      "Trade flipped: sell entered at 2020-07-18 23:50:00 (Entry Price: 9172.44), exited at 2020-07-18T23:53:00.000000000 (Exit Price: 9170.64), Volume: 0.1002, P&L: -0.0000\n",
      "Trade executed: buy entered at 2020-07-18 23:53:00 (Entry Price: 9170.64), exited at 2020-07-19T00:01:00.000000000 (Exit Price: 9172.22), Volume: 0.1002, P&L: -0.0000\n",
      "Trade executed: sell entered at 2020-07-19 00:12:00 (Entry Price: 9180.00), exited at 2020-07-19T00:44:00.000000000 (Exit Price: 9175.99), Volume: 0.1002, P&L: 0.0000\n",
      "Trade executed: buy entered at 2020-07-19 01:36:00 (Entry Price: 9168.59), exited at 2020-07-19T05:39:00.000000000 (Exit Price: 9159.98), Volume: 0.1002, P&L: -0.0001\n",
      "Trade executed: buy entered at 2020-07-19 03:03:00 (Entry Price: 9159.02), exited at 2020-07-19T05:39:00.000000000 (Exit Price: 9159.98), Volume: 0.1002, P&L: -0.0000\n",
      "Trade executed: buy entered at 2020-07-19 09:19:00 (Entry Price: 9149.52), exited at 2020-07-19T09:49:00.000000000 (Exit Price: 9154.98), Volume: 0.1002, P&L: 0.0000\n",
      "Trade executed: buy entered at 2020-07-19 10:16:00 (Entry Price: 9112.72), exited at 2020-07-19T10:48:00.000000000 (Exit Price: 9130.61), Volume: 0.1002, P&L: 0.0002\n",
      "Trade executed: buy entered at 2020-07-19 10:50:00 (Entry Price: 9130.79), exited at 2020-07-19T12:38:00.000000000 (Exit Price: 9138.02), Volume: 0.1002, P&L: 0.0001\n",
      "Trade executed: sell entered at 2020-07-19 13:28:00 (Entry Price: 9135.21), exited at 2020-07-19T13:48:00.000000000 (Exit Price: 9129.68), Volume: 0.1002, P&L: 0.0000\n",
      "Trade flipped: buy entered at 2020-07-19 14:02:00 (Entry Price: 9126.86), exited at 2020-07-19T14:13:00.000000000 (Exit Price: 9134.87), Volume: 0.1002, P&L: 0.0001\n",
      "Trade executed: sell entered at 2020-07-19 14:13:00 (Entry Price: 9134.87), exited at 2020-07-19T14:36:00.000000000 (Exit Price: 9131.08), Volume: 0.1002, P&L: 0.0000\n",
      "Trade executed: sell entered at 2020-07-19 16:38:00 (Entry Price: 9167.10), exited at 2020-07-19T17:07:00.000000000 (Exit Price: 9147.90), Volume: 0.1002, P&L: 0.0002\n",
      "Trade executed: sell entered at 2020-07-19 16:36:00 (Entry Price: 9147.01), exited at 2020-07-19T17:49:00.000000000 (Exit Price: 9149.46), Volume: 0.1002, P&L: -0.0000\n",
      "Trade executed: sell entered at 2020-07-19 17:26:00 (Entry Price: 9157.38), exited at 2020-07-19T17:49:00.000000000 (Exit Price: 9149.46), Volume: 0.1003, P&L: 0.0001\n",
      "Trade executed: sell entered at 2020-07-19 18:03:00 (Entry Price: 9157.80), exited at 2020-07-19T18:06:00.000000000 (Exit Price: 9152.49), Volume: 0.1003, P&L: 0.0000\n",
      "Trade flipped: sell entered at 2020-07-19 20:32:00 (Entry Price: 9161.68), exited at 2020-07-19T20:33:00.000000000 (Exit Price: 9157.95), Volume: 0.1003, P&L: 0.0000\n",
      "Trade executed: buy entered at 2020-07-19 20:33:00 (Entry Price: 9157.95), exited at 2020-07-19T20:34:00.000000000 (Exit Price: 9160.76), Volume: 0.1003, P&L: 0.0000\n",
      "Trade executed: sell entered at 2020-07-19 20:35:00 (Entry Price: 9168.31), exited at 2020-07-19T21:26:00.000000000 (Exit Price: 9167.72), Volume: 0.1003, P&L: -0.0000\n",
      "Trade executed: sell entered at 2020-07-19 22:37:00 (Entry Price: 9188.38), exited at 2020-07-20T00:13:00.000000000 (Exit Price: 9205.64), Volume: 0.1003, P&L: -0.0002\n",
      "Trade executed: buy entered at 2020-07-20 07:16:00 (Entry Price: 9174.02), exited at 2020-07-20T07:37:00.000000000 (Exit Price: 9183.03), Volume: 0.1002, P&L: 0.0001\n",
      "Trade executed: buy entered at 2020-07-20 07:37:00 (Entry Price: 9183.03), exited at 2020-07-20T08:00:00.000000000 (Exit Price: 9183.70), Volume: 0.1003, P&L: -0.0000\n",
      "Trade executed: sell entered at 2020-07-20 08:17:00 (Entry Price: 9187.00), exited at 2020-07-20T09:32:00.000000000 (Exit Price: 9186.85), Volume: 0.1003, P&L: -0.0000\n",
      "Trade executed: sell entered at 2020-07-20 09:23:00 (Entry Price: 9192.00), exited at 2020-07-20T09:32:00.000000000 (Exit Price: 9186.85), Volume: 0.1003, P&L: 0.0000\n",
      "Trade executed: buy entered at 2020-07-20 09:36:00 (Entry Price: 9184.01), exited at 2020-07-20T09:38:00.000000000 (Exit Price: 9185.87), Volume: 0.1003, P&L: 0.0000\n",
      "Trade executed: sell entered at 2020-07-20 09:42:00 (Entry Price: 9188.02), exited at 2020-07-20T09:43:00.000000000 (Exit Price: 9188.01), Volume: 0.1003, P&L: -0.0000\n",
      "Trade executed: sell entered at 2020-07-20 09:44:00 (Entry Price: 9188.19), exited at 2020-07-20T09:58:00.000000000 (Exit Price: 9186.61), Volume: 0.1003, P&L: -0.0000\n",
      "Trade executed: buy entered at 2020-07-20 10:46:00 (Entry Price: 9144.99), exited at 2020-07-20T11:19:00.000000000 (Exit Price: 9161.56), Volume: 0.1003, P&L: 0.0002\n",
      "Trade executed: buy entered at 2020-07-20 11:45:00 (Entry Price: 9153.71), exited at 2020-07-20T12:35:00.000000000 (Exit Price: 9163.30), Volume: 0.1003, P&L: 0.0001\n",
      "Trade executed: buy entered at 2020-07-20 11:44:00 (Entry Price: 9155.00), exited at 2020-07-20T12:36:00.000000000 (Exit Price: 9162.60), Volume: 0.1003, P&L: 0.0001\n",
      "Trade executed: buy entered at 2020-07-20 10:12:00 (Entry Price: 9183.63), exited at 2020-07-20T13:35:00.000000000 (Exit Price: 9161.76), Volume: 0.1003, P&L: -0.0003\n",
      "Trade executed: sell entered at 2020-07-20 15:27:00 (Entry Price: 9169.20), exited at 2020-07-20T16:01:00.000000000 (Exit Price: 9170.83), Volume: 0.1003, P&L: -0.0000\n",
      "Trade executed: sell entered at 2020-07-20 17:22:00 (Entry Price: 9188.00), exited at 2020-07-20T18:14:00.000000000 (Exit Price: 9181.33), Volume: 0.1003, P&L: 0.0001\n",
      "Trade executed: sell entered at 2020-07-20 17:38:00 (Entry Price: 9198.38), exited at 2020-07-20T18:14:00.000000000 (Exit Price: 9181.33), Volume: 0.1003, P&L: 0.0002\n",
      "Trade flipped: buy entered at 2020-07-20 20:10:00 (Entry Price: 9171.08), exited at 2020-07-20T20:22:00.000000000 (Exit Price: 9180.00), Volume: 0.1003, P&L: 0.0001\n",
      "Trade flipped: sell entered at 2020-07-20 20:22:00 (Entry Price: 9180.00), exited at 2020-07-20T20:27:00.000000000 (Exit Price: 9177.32), Volume: 0.1003, P&L: 0.0000\n",
      "Trade flipped: buy entered at 2020-07-20 20:27:00 (Entry Price: 9177.32), exited at 2020-07-20T20:30:00.000000000 (Exit Price: 9179.94), Volume: 0.1003, P&L: 0.0000\n",
      "Trade flipped: sell entered at 2020-07-20 20:30:00 (Entry Price: 9179.94), exited at 2020-07-20T20:36:00.000000000 (Exit Price: 9178.66), Volume: 0.1003, P&L: -0.0000\n",
      "Trade flipped: buy entered at 2020-07-20 20:36:00 (Entry Price: 9178.66), exited at 2020-07-20T20:37:00.000000000 (Exit Price: 9179.36), Volume: 0.1003, P&L: -0.0000\n",
      "Trade flipped: sell entered at 2020-07-20 20:37:00 (Entry Price: 9179.36), exited at 2020-07-20T20:40:00.000000000 (Exit Price: 9168.69), Volume: 0.1003, P&L: 0.0001\n",
      "Trade executed: buy entered at 2020-07-20 20:40:00 (Entry Price: 9168.69), exited at 2020-07-20T21:36:00.000000000 (Exit Price: 9172.18), Volume: 0.1003, P&L: 0.0000\n",
      "Trade executed: sell entered at 2020-07-21 01:16:00 (Entry Price: 9179.93), exited at 2020-07-21T02:13:00.000000000 (Exit Price: 9177.91), Volume: 0.1003, P&L: 0.0000\n",
      "Trade executed: sell entered at 2020-07-21 05:50:00 (Entry Price: 9196.99), exited at 2020-07-21T06:19:00.000000000 (Exit Price: 9183.83), Volume: 0.1003, P&L: 0.0001\n",
      "Trade executed: buy entered at 2020-07-21 06:34:00 (Entry Price: 9179.97), exited at 2020-07-21T06:35:00.000000000 (Exit Price: 9182.78), Volume: 0.1003, P&L: 0.0000\n",
      "Trade executed: sell entered at 2020-07-21 06:52:00 (Entry Price: 9190.27), exited at 2020-07-21T08:56:00.000000000 (Exit Price: 9301.90), Volume: 0.1003, P&L: -0.0012\n",
      "Trade executed: sell entered at 2020-07-21 11:30:00 (Entry Price: 9335.57), exited at 2020-07-21T11:33:00.000000000 (Exit Price: 9331.92), Volume: 0.1002, P&L: 0.0000\n",
      "Trade executed: sell entered at 2020-07-21 11:59:00 (Entry Price: 9342.21), exited at 2020-07-21T13:53:00.000000000 (Exit Price: 9390.26), Volume: 0.1002, P&L: -0.0005\n",
      "Trade executed: sell entered at 2020-07-21 13:51:00 (Entry Price: 9396.81), exited at 2020-07-21T13:53:00.000000000 (Exit Price: 9390.26), Volume: 0.1002, P&L: 0.0000\n",
      "Trade executed: sell entered at 2020-07-21 14:08:00 (Entry Price: 9399.46), exited at 2020-07-21T14:16:00.000000000 (Exit Price: 9396.75), Volume: 0.1001, P&L: 0.0000\n",
      "Trade executed: buy entered at 2020-07-21 15:05:00 (Entry Price: 9365.34), exited at 2020-07-21T17:23:00.000000000 (Exit Price: 9360.46), Volume: 0.1001, P&L: -0.0001\n",
      "Trade executed: buy entered at 2020-07-21 20:00:00 (Entry Price: 9358.38), exited at 2020-07-21T20:01:00.000000000 (Exit Price: 9365.20), Volume: 0.1001, P&L: 0.0001\n",
      "Trade executed: buy entered at 2020-07-21 20:05:00 (Entry Price: 9363.29), exited at 2020-07-21T20:14:00.000000000 (Exit Price: 9365.14), Volume: 0.1001, P&L: -0.0000\n",
      "Trade executed: buy entered at 2020-07-21 20:15:00 (Entry Price: 9362.94), exited at 2020-07-21T20:44:00.000000000 (Exit Price: 9366.39), Volume: 0.1001, P&L: 0.0000\n",
      "Trade executed: sell entered at 2020-07-21 20:50:00 (Entry Price: 9366.99), exited at 2020-07-21T21:23:00.000000000 (Exit Price: 9363.54), Volume: 0.1001, P&L: 0.0000\n",
      "Trade executed: buy entered at 2020-07-22 00:24:00 (Entry Price: 9366.39), exited at 2020-07-22T01:24:00.000000000 (Exit Price: 9377.63), Volume: 0.1001, P&L: 0.0001\n",
      "Trade flipped: sell entered at 2020-07-22 01:25:00 (Entry Price: 9374.00), exited at 2020-07-22T01:30:00.000000000 (Exit Price: 9368.63), Volume: 0.1001, P&L: 0.0000\n",
      "Trade flipped: buy entered at 2020-07-22 01:30:00 (Entry Price: 9368.63), exited at 2020-07-22T01:40:00.000000000 (Exit Price: 9378.57), Volume: 0.1002, P&L: 0.0001\n",
      "Trade flipped: sell entered at 2020-07-22 01:40:00 (Entry Price: 9378.57), exited at 2020-07-22T01:49:00.000000000 (Exit Price: 9370.52), Volume: 0.1002, P&L: 0.0001\n",
      "Trade flipped: buy entered at 2020-07-22 01:49:00 (Entry Price: 9370.52), exited at 2020-07-22T01:53:00.000000000 (Exit Price: 9371.70), Volume: 0.1002, P&L: -0.0000\n",
      "Trade flipped: sell entered at 2020-07-22 01:53:00 (Entry Price: 9371.70), exited at 2020-07-22T01:55:00.000000000 (Exit Price: 9370.08), Volume: 0.1002, P&L: -0.0000\n",
      "Trade executed: buy entered at 2020-07-22 01:55:00 (Entry Price: 9370.08), exited at 2020-07-22T02:22:00.000000000 (Exit Price: 9372.01), Volume: 0.1002, P&L: 0.0000\n",
      "Trade executed: buy entered at 2020-07-22 02:48:00 (Entry Price: 9362.87), exited at 2020-07-22T03:19:00.000000000 (Exit Price: 9367.00), Volume: 0.1002, P&L: 0.0000\n",
      "Trade executed: buy entered at 2020-07-22 05:01:00 (Entry Price: 9340.00), exited at 2020-07-22T05:17:00.000000000 (Exit Price: 9352.00), Volume: 0.1002, P&L: 0.0001\n",
      "Trade executed: buy entered at 2020-07-22 05:17:00 (Entry Price: 9352.00), exited at 2020-07-22T07:23:00.000000000 (Exit Price: 9348.99), Volume: 0.1002, P&L: -0.0001\n",
      "Trade executed: buy entered at 2020-07-22 07:57:00 (Entry Price: 9300.92), exited at 2020-07-22T08:30:00.000000000 (Exit Price: 9315.04), Volume: 0.1002, P&L: 0.0001\n",
      "Trade executed: buy entered at 2020-07-22 08:33:00 (Entry Price: 9313.02), exited at 2020-07-22T09:16:00.000000000 (Exit Price: 9328.07), Volume: 0.1002, P&L: 0.0001\n",
      "Trade executed: buy entered at 2020-07-22 07:40:00 (Entry Price: 9338.79), exited at 2020-07-22T09:39:00.000000000 (Exit Price: 9329.35), Volume: 0.1002, P&L: -0.0001\n",
      "Trade executed: sell entered at 2020-07-22 11:53:00 (Entry Price: 9348.00), exited at 2020-07-22T12:02:00.000000000 (Exit Price: 9338.52), Volume: 0.1002, P&L: 0.0001\n",
      "Trade executed: sell entered at 2020-07-22 14:59:00 (Entry Price: 9340.00), exited at 2020-07-22T15:58:00.000000000 (Exit Price: 9335.00), Volume: 0.1002, P&L: 0.0000\n",
      "Trade executed: sell entered at 2020-07-22 16:02:00 (Entry Price: 9337.17), exited at 2020-07-22T16:06:00.000000000 (Exit Price: 9335.98), Volume: 0.1002, P&L: -0.0000\n",
      "Trade executed: sell entered at 2020-07-22 16:14:00 (Entry Price: 9339.97), exited at 2020-07-22T16:31:00.000000000 (Exit Price: 9339.18), Volume: 0.1002, P&L: -0.0000\n",
      "Trade executed: sell entered at 2020-07-22 16:33:00 (Entry Price: 9340.90), exited at 2020-07-22T16:36:00.000000000 (Exit Price: 9340.01), Volume: 0.1002, P&L: -0.0000\n",
      "Trade executed: sell entered at 2020-07-22 18:09:00 (Entry Price: 9368.87), exited at 2020-07-22T18:28:00.000000000 (Exit Price: 9355.19), Volume: 0.1002, P&L: 0.0001\n",
      "Trade executed: sell entered at 2020-07-22 18:38:00 (Entry Price: 9359.42), exited at 2020-07-22T18:41:00.000000000 (Exit Price: 9358.70), Volume: 0.1002, P&L: -0.0000\n",
      "Trade executed: sell entered at 2020-07-22 19:02:00 (Entry Price: 9371.80), exited at 2020-07-22T19:25:00.000000000 (Exit Price: 9365.87), Volume: 0.1002, P&L: 0.0000\n",
      "Trade executed: buy entered at 2020-07-22 21:32:00 (Entry Price: 9364.46), exited at 2020-07-22T21:34:00.000000000 (Exit Price: 9367.55), Volume: 0.1002, P&L: 0.0000\n",
      "Trade executed: sell entered at 2020-07-22 21:36:00 (Entry Price: 9368.74), exited at 2020-07-22T21:42:00.000000000 (Exit Price: 9368.24), Volume: 0.1002, P&L: -0.0000\n",
      "Trade executed: sell entered at 2020-07-22 22:26:00 (Entry Price: 9381.67), exited at 2020-07-23T00:03:00.000000000 (Exit Price: 9511.01), Volume: 0.1002, P&L: -0.0014\n",
      "Trade executed: sell entered at 2020-07-22 22:58:00 (Entry Price: 9510.22), exited at 2020-07-23T00:03:00.000000000 (Exit Price: 9511.01), Volume: 0.1002, P&L: -0.0000\n",
      "Trade executed: sell entered at 2020-07-22 23:02:00 (Entry Price: 9512.53), exited at 2020-07-23T00:03:00.000000000 (Exit Price: 9511.01), Volume: 0.1002, P&L: -0.0000\n",
      "Trade executed: sell entered at 2020-07-22 23:03:00 (Entry Price: 9509.29), exited at 2020-07-23T00:03:00.000000000 (Exit Price: 9511.01), Volume: 0.1002, P&L: -0.0000\n",
      "Trade executed: sell entered at 2020-07-22 23:11:00 (Entry Price: 9519.05), exited at 2020-07-23T00:03:00.000000000 (Exit Price: 9511.01), Volume: 0.1002, P&L: 0.0001\n",
      "Trade executed: buy entered at 2020-07-23 03:27:00 (Entry Price: 9487.49), exited at 2020-07-23T04:18:00.000000000 (Exit Price: 9495.87), Volume: 0.1001, P&L: 0.0001\n",
      "Trade flipped: sell entered at 2020-07-23 06:22:00 (Entry Price: 9492.84), exited at 2020-07-23T06:34:00.000000000 (Exit Price: 9487.09), Volume: 0.1001, P&L: 0.0000\n",
      "Trade executed: buy entered at 2020-07-23 06:34:00 (Entry Price: 9487.09), exited at 2020-07-23T06:49:00.000000000 (Exit Price: 9493.00), Volume: 0.1001, P&L: 0.0000\n",
      "Trade executed: sell entered at 2020-07-23 08:47:00 (Entry Price: 9515.57), exited at 2020-07-23T09:15:00.000000000 (Exit Price: 9499.01), Volume: 0.1001, P&L: 0.0002\n",
      "Trade executed: sell entered at 2020-07-23 09:23:00 (Entry Price: 9504.73), exited at 2020-07-23T09:30:00.000000000 (Exit Price: 9504.09), Volume: 0.1001, P&L: -0.0000\n",
      "Trade executed: sell entered at 2020-07-23 09:35:00 (Entry Price: 9505.75), exited at 2020-07-23T09:38:00.000000000 (Exit Price: 9500.98), Volume: 0.1001, P&L: 0.0000\n",
      "Trade executed: buy entered at 2020-07-23 09:47:00 (Entry Price: 9498.85), exited at 2020-07-23T09:48:00.000000000 (Exit Price: 9501.56), Volume: 0.1001, P&L: 0.0000\n",
      "Trade executed: buy entered at 2020-07-23 09:50:00 (Entry Price: 9500.13), exited at 2020-07-23T09:54:00.000000000 (Exit Price: 9500.99), Volume: 0.1001, P&L: -0.0000\n",
      "Trade executed: sell entered at 2020-07-23 10:02:00 (Entry Price: 9506.52), exited at 2020-07-23T10:03:00.000000000 (Exit Price: 9504.99), Volume: 0.1001, P&L: -0.0000\n",
      "Trade executed: sell entered at 2020-07-23 12:03:00 (Entry Price: 9514.46), exited at 2020-07-23T12:13:00.000000000 (Exit Price: 9506.49), Volume: 0.1001, P&L: 0.0001\n",
      "Trade executed: buy entered at 2020-07-23 12:40:00 (Entry Price: 9500.12), exited at 2020-07-23T13:15:00.000000000 (Exit Price: 9501.03), Volume: 0.1001, P&L: -0.0000\n",
      "Trade flipped: buy entered at 2020-07-23 14:21:00 (Entry Price: 9472.09), exited at 2020-07-23T14:25:00.000000000 (Exit Price: 9567.18), Volume: 0.1001, P&L: 0.0010\n",
      "Trade flipped: sell entered at 2020-07-23 14:25:00 (Entry Price: 9567.18), exited at 2020-07-23T14:29:00.000000000 (Exit Price: 9485.38), Volume: 0.1002, P&L: 0.0008\n",
      "Trade executed: buy entered at 2020-07-23 14:29:00 (Entry Price: 9485.38), exited at 2020-07-23T14:55:00.000000000 (Exit Price: 9513.52), Volume: 0.1003, P&L: 0.0003\n",
      "Trade flipped: sell entered at 2020-07-23 14:56:00 (Entry Price: 9504.62), exited at 2020-07-23T14:58:00.000000000 (Exit Price: 9492.93), Volume: 0.1003, P&L: 0.0001\n",
      "Trade flipped: buy entered at 2020-07-23 14:58:00 (Entry Price: 9492.93), exited at 2020-07-23T15:11:00.000000000 (Exit Price: 9499.07), Volume: 0.1003, P&L: 0.0000\n",
      "Trade flipped: sell entered at 2020-07-23 15:11:00 (Entry Price: 9499.07), exited at 2020-07-23T15:12:00.000000000 (Exit Price: 9496.38), Volume: 0.1003, P&L: 0.0000\n",
      "Trade flipped: buy entered at 2020-07-23 15:12:00 (Entry Price: 9496.38), exited at 2020-07-23T15:21:00.000000000 (Exit Price: 9496.71), Volume: 0.1003, P&L: -0.0000\n",
      "Trade executed: sell entered at 2020-07-23 15:21:00 (Entry Price: 9496.71), exited at 2020-07-23T18:10:00.000000000 (Exit Price: 9602.00), Volume: 0.1003, P&L: -0.0011\n",
      "Trade executed: sell entered at 2020-07-23 15:47:00 (Entry Price: 9530.00), exited at 2020-07-23T18:10:00.000000000 (Exit Price: 9602.00), Volume: 0.1003, P&L: -0.0008\n",
      "Trade executed: buy entered at 2020-07-24 00:47:00 (Entry Price: 9581.49), exited at 2020-07-24T01:28:00.000000000 (Exit Price: 9590.85), Volume: 0.1001, P&L: 0.0001\n",
      "Trade executed: buy entered at 2020-07-24 00:12:00 (Entry Price: 9592.20), exited at 2020-07-24T04:05:00.000000000 (Exit Price: 9572.82), Volume: 0.1001, P&L: -0.0002\n",
      "Trade executed: buy entered at 2020-07-24 02:22:00 (Entry Price: 9571.43), exited at 2020-07-24T04:05:00.000000000 (Exit Price: 9572.82), Volume: 0.1002, P&L: -0.0000\n",
      "Trade executed: buy entered at 2020-07-24 03:01:00 (Entry Price: 9574.99), exited at 2020-07-24T04:05:00.000000000 (Exit Price: 9572.82), Volume: 0.1002, P&L: -0.0000\n",
      "Trade executed: buy entered at 2020-07-24 07:09:00 (Entry Price: 9488.24), exited at 2020-07-24T07:50:00.000000000 (Exit Price: 9502.02), Volume: 0.1001, P&L: 0.0001\n",
      "Trade executed: buy entered at 2020-07-24 06:24:00 (Entry Price: 9521.05), exited at 2020-07-24T08:50:00.000000000 (Exit Price: 9514.86), Volume: 0.1001, P&L: -0.0001\n",
      "Trade executed: sell entered at 2020-07-24 10:21:00 (Entry Price: 9545.62), exited at 2020-07-24T11:03:00.000000000 (Exit Price: 9534.85), Volume: 0.1001, P&L: 0.0001\n",
      "Trade executed: sell entered at 2020-07-24 11:11:00 (Entry Price: 9539.06), exited at 2020-07-24T11:13:00.000000000 (Exit Price: 9537.00), Volume: 0.1001, P&L: 0.0000\n",
      "Trade executed: sell entered at 2020-07-24 11:22:00 (Entry Price: 9544.83), exited at 2020-07-24T11:26:00.000000000 (Exit Price: 9539.27), Volume: 0.1001, P&L: 0.0000\n",
      "Trade executed: sell entered at 2020-07-24 11:32:00 (Entry Price: 9548.00), exited at 2020-07-24T11:37:00.000000000 (Exit Price: 9542.69), Volume: 0.1001, P&L: 0.0000\n",
      "Trade executed: sell entered at 2020-07-24 11:49:00 (Entry Price: 9544.97), exited at 2020-07-24T11:51:00.000000000 (Exit Price: 9538.95), Volume: 0.1001, P&L: 0.0000\n",
      "Trade flipped: sell entered at 2020-07-24 13:30:00 (Entry Price: 9536.56), exited at 2020-07-24T13:32:00.000000000 (Exit Price: 9531.67), Volume: 0.1001, P&L: 0.0000\n",
      "Trade executed: buy entered at 2020-07-24 13:32:00 (Entry Price: 9531.67), exited at 2020-07-24T14:16:00.000000000 (Exit Price: 9528.99), Volume: 0.1002, P&L: -0.0000\n",
      "Trade executed: buy entered at 2020-07-24 13:44:00 (Entry Price: 9509.08), exited at 2020-07-24T14:16:00.000000000 (Exit Price: 9528.99), Volume: 0.1002, P&L: 0.0002\n",
      "Trade executed: sell entered at 2020-07-24 14:17:00 (Entry Price: 9528.00), exited at 2020-07-24T14:32:00.000000000 (Exit Price: 9522.08), Volume: 0.1002, P&L: 0.0000\n",
      "Trade executed: sell entered at 2020-07-24 15:38:00 (Entry Price: 9551.99), exited at 2020-07-24T16:11:00.000000000 (Exit Price: 9540.99), Volume: 0.1002, P&L: 0.0001\n",
      "Trade executed: sell entered at 2020-07-24 16:17:00 (Entry Price: 9543.83), exited at 2020-07-24T16:18:00.000000000 (Exit Price: 9541.66), Volume: 0.1002, P&L: 0.0000\n",
      "Trade executed: buy entered at 2020-07-24 16:25:00 (Entry Price: 9529.94), exited at 2020-07-24T16:27:00.000000000 (Exit Price: 9535.17), Volume: 0.1002, P&L: 0.0000\n",
      "Trade executed: sell entered at 2020-07-24 16:46:00 (Entry Price: 9555.55), exited at 2020-07-24T17:09:00.000000000 (Exit Price: 9549.24), Volume: 0.1002, P&L: 0.0000\n",
      "Trade executed: buy entered at 2020-07-24 17:12:00 (Entry Price: 9528.92), exited at 2020-07-24T17:15:00.000000000 (Exit Price: 9541.00), Volume: 0.1002, P&L: 0.0001\n",
      "Trade executed: sell entered at 2020-07-24 18:12:00 (Entry Price: 9576.66), exited at 2020-07-24T19:11:00.000000000 (Exit Price: 9565.27), Volume: 0.1002, P&L: 0.0001\n",
      "Trade executed: sell entered at 2020-07-24 21:28:00 (Entry Price: 9604.43), exited at 2020-07-24T21:53:00.000000000 (Exit Price: 9605.00), Volume: 0.1002, P&L: -0.0000\n",
      "Trade executed: buy entered at 2020-07-24 22:07:00 (Entry Price: 9571.27), exited at 2020-07-25T01:13:00.000000000 (Exit Price: 9550.12), Volume: 0.1002, P&L: -0.0002\n",
      "Trade executed: sell entered at 2020-07-25 02:49:00 (Entry Price: 9570.79), exited at 2020-07-25T04:07:00.000000000 (Exit Price: 9583.81), Volume: 0.1002, P&L: -0.0002\n",
      "Trade executed: sell entered at 2020-07-25 03:27:00 (Entry Price: 9596.26), exited at 2020-07-25T04:07:00.000000000 (Exit Price: 9583.81), Volume: 0.1002, P&L: 0.0001\n",
      "Trade executed: sell entered at 2020-07-25 05:04:00 (Entry Price: 9611.01), exited at 2020-07-25T05:08:00.000000000 (Exit Price: 9580.00), Volume: 0.1002, P&L: 0.0003\n",
      "Trade executed: sell entered at 2020-07-25 05:12:00 (Entry Price: 9585.45), exited at 2020-07-25T05:14:00.000000000 (Exit Price: 9580.12), Volume: 0.1002, P&L: 0.0000\n",
      "Trade executed: sell entered at 2020-07-25 05:19:00 (Entry Price: 9582.47), exited at 2020-07-25T05:21:00.000000000 (Exit Price: 9577.77), Volume: 0.1002, P&L: 0.0000\n",
      "Trade executed: sell entered at 2020-07-25 06:04:00 (Entry Price: 9619.00), exited at 2020-07-25T06:26:00.000000000 (Exit Price: 9591.99), Volume: 0.1002, P&L: 0.0003\n",
      "Trade flipped: sell entered at 2020-07-25 08:36:00 (Entry Price: 9595.03), exited at 2020-07-25T08:58:00.000000000 (Exit Price: 9590.01), Volume: 0.1002, P&L: 0.0000\n",
      "Trade executed: buy entered at 2020-07-25 08:58:00 (Entry Price: 9590.01), exited at 2020-07-25T09:01:00.000000000 (Exit Price: 9594.02), Volume: 0.1002, P&L: 0.0000\n",
      "Trade executed: sell entered at 2020-07-25 09:05:00 (Entry Price: 9598.69), exited at 2020-07-25T09:26:00.000000000 (Exit Price: 9588.17), Volume: 0.1002, P&L: 0.0001\n",
      "Trade executed: sell entered at 2020-07-25 13:05:00 (Entry Price: 9601.99), exited at 2020-07-25T13:09:00.000000000 (Exit Price: 9588.77), Volume: 0.1003, P&L: 0.0001\n",
      "Trade executed: sell entered at 2020-07-25 13:11:00 (Entry Price: 9591.86), exited at 2020-07-25T13:15:00.000000000 (Exit Price: 9590.33), Volume: 0.1003, P&L: -0.0000\n",
      "Trade executed: buy entered at 2020-07-25 13:16:00 (Entry Price: 9585.00), exited at 2020-07-25T13:17:00.000000000 (Exit Price: 9590.21), Volume: 0.1003, P&L: 0.0000\n",
      "Trade executed: sell entered at 2020-07-25 13:26:00 (Entry Price: 9591.77), exited at 2020-07-25T13:29:00.000000000 (Exit Price: 9591.09), Volume: 0.1003, P&L: -0.0000\n",
      "Trade flipped: sell entered at 2020-07-25 13:32:00 (Entry Price: 9594.63), exited at 2020-07-25T13:36:00.000000000 (Exit Price: 9583.29), Volume: 0.1003, P&L: 0.0001\n",
      "Trade flipped: sell entered at 2020-07-25 13:34:00 (Entry Price: 9611.96), exited at 2020-07-25T13:36:00.000000000 (Exit Price: 9583.29), Volume: 0.1003, P&L: 0.0003\n",
      "Trade executed: buy entered at 2020-07-25 13:36:00 (Entry Price: 9583.29), exited at 2020-07-25T14:30:00.000000000 (Exit Price: 9588.39), Volume: 0.1003, P&L: 0.0000\n",
      "Trade flipped: sell entered at 2020-07-25 14:34:00 (Entry Price: 9592.19), exited at 2020-07-25T14:36:00.000000000 (Exit Price: 9587.50), Volume: 0.1003, P&L: 0.0000\n",
      "Trade executed: buy entered at 2020-07-25 14:36:00 (Entry Price: 9587.50), exited at 2020-07-25T14:38:00.000000000 (Exit Price: 9588.56), Volume: 0.1003, P&L: -0.0000\n",
      "Trade executed: sell entered at 2020-07-25 16:51:00 (Entry Price: 9608.27), exited at 2020-07-25T18:21:00.000000000 (Exit Price: 9657.05), Volume: 0.1003, P&L: -0.0005\n",
      "Trade executed: sell entered at 2020-07-25 17:08:00 (Entry Price: 9641.19), exited at 2020-07-25T18:21:00.000000000 (Exit Price: 9657.05), Volume: 0.1003, P&L: -0.0002\n",
      "Trade executed: sell entered at 2020-07-25 18:08:00 (Entry Price: 9668.00), exited at 2020-07-25T18:21:00.000000000 (Exit Price: 9657.05), Volume: 0.1003, P&L: 0.0001\n",
      "Trade executed: sell entered at 2020-07-25 18:23:00 (Entry Price: 9668.92), exited at 2020-07-25T18:25:00.000000000 (Exit Price: 9657.81), Volume: 0.1002, P&L: 0.0001\n",
      "Trade executed: sell entered at 2020-07-25 20:52:00 (Entry Price: 9720.28), exited at 2020-07-25T21:23:00.000000000 (Exit Price: 9688.30), Volume: 0.1003, P&L: 0.0003\n",
      "Trade executed: buy entered at 2020-07-26 00:26:00 (Entry Price: 9679.39), exited at 2020-07-26T02:27:00.000000000 (Exit Price: 9680.58), Volume: 0.1003, P&L: -0.0000\n",
      "Trade executed: sell entered at 2020-07-26 07:02:00 (Entry Price: 9696.15), exited at 2020-07-26T07:25:00.000000000 (Exit Price: 9688.14), Volume: 0.1003, P&L: 0.0001\n",
      "Trade executed: sell entered at 2020-07-26 07:32:00 (Entry Price: 9698.35), exited at 2020-07-26T11:16:00.000000000 (Exit Price: 9978.74), Volume: 0.1003, P&L: -0.0029\n",
      "Trade executed: sell entered at 2020-07-26 08:20:00 (Entry Price: 9721.70), exited at 2020-07-26T11:16:00.000000000 (Exit Price: 9978.74), Volume: 0.1003, P&L: -0.0027\n",
      "Trade executed: sell entered at 2020-07-26 09:19:00 (Entry Price: 9761.83), exited at 2020-07-26T11:16:00.000000000 (Exit Price: 9978.74), Volume: 0.1003, P&L: -0.0022\n",
      "Trade executed: sell entered at 2020-07-26 15:52:00 (Entry Price: 9977.00), exited at 2020-07-26T16:06:00.000000000 (Exit Price: 9943.53), Volume: 0.0995, P&L: 0.0003\n",
      "Trade executed: sell entered at 2020-07-26 16:07:00 (Entry Price: 9972.29), exited at 2020-07-26T16:14:00.000000000 (Exit Price: 9929.15), Volume: 0.0995, P&L: 0.0004\n",
      "Trade executed: sell entered at 2020-07-26 16:17:00 (Entry Price: 9947.36), exited at 2020-07-26T16:18:00.000000000 (Exit Price: 9945.36), Volume: 0.0996, P&L: 0.0000\n",
      "Trade executed: sell entered at 2020-07-26 16:32:00 (Entry Price: 9952.00), exited at 2020-07-26T16:35:00.000000000 (Exit Price: 9945.17), Volume: 0.0996, P&L: 0.0000\n",
      "Trade executed: buy entered at 2020-07-26 16:57:00 (Entry Price: 9914.76), exited at 2020-07-26T18:39:00.000000000 (Exit Price: 9930.82), Volume: 0.0996, P&L: 0.0001\n",
      "Trade executed: buy entered at 2020-07-26 19:44:00 (Entry Price: 9871.66), exited at 2020-07-26T20:32:00.000000000 (Exit Price: 9895.44), Volume: 0.0996, P&L: 0.0002\n",
      "Trade executed: sell entered at 2020-07-26 23:32:00 (Entry Price: 9931.67), exited at 2020-07-26T23:50:00.000000000 (Exit Price: 9929.41), Volume: 0.0996, P&L: 0.0000\n",
      "Trade executed: sell entered at 2020-07-27 00:50:00 (Entry Price: 10014.88), exited at 2020-07-27T01:45:00.000000000 (Exit Price: 10022.13), Volume: 0.0996, P&L: -0.0001\n",
      "Trade executed: sell entered at 2020-07-27 01:23:00 (Entry Price: 10098.23), exited at 2020-07-27T01:45:00.000000000 (Exit Price: 10022.13), Volume: 0.0996, P&L: 0.0007\n",
      "Trade executed: sell entered at 2020-07-27 01:46:00 (Entry Price: 10046.00), exited at 2020-07-27T02:24:00.000000000 (Exit Price: 10055.10), Volume: 0.0997, P&L: -0.0001\n",
      "Trade executed: sell entered at 2020-07-27 02:48:00 (Entry Price: 10085.02), exited at 2020-07-27T02:51:00.000000000 (Exit Price: 10070.20), Volume: 0.0997, P&L: 0.0001\n",
      "Trade executed: sell entered at 2020-07-27 02:52:00 (Entry Price: 10075.87), exited at 2020-07-27T02:54:00.000000000 (Exit Price: 10071.26), Volume: 0.0997, P&L: 0.0000\n",
      "Trade executed: sell entered at 2020-07-27 04:21:00 (Entry Price: 10308.91), exited at 2020-07-27T04:27:00.000000000 (Exit Price: 10230.20), Volume: 0.0997, P&L: 0.0007\n",
      "Trade executed: sell entered at 2020-07-27 03:56:00 (Entry Price: 10297.73), exited at 2020-07-27T04:28:00.000000000 (Exit Price: 10220.65), Volume: 0.0997, P&L: 0.0007\n",
      "Trade executed: sell entered at 2020-07-27 03:04:00 (Entry Price: 10093.55), exited at 2020-07-27T04:55:00.000000000 (Exit Price: 10230.01), Volume: 0.0997, P&L: -0.0014\n",
      "Trade executed: buy entered at 2020-07-27 08:12:00 (Entry Price: 10170.93), exited at 2020-07-27T09:44:00.000000000 (Exit Price: 10203.27), Volume: 0.0997, P&L: 0.0003\n",
      "Trade executed: sell entered at 2020-07-27 11:12:00 (Entry Price: 10266.07), exited at 2020-07-27T11:14:00.000000000 (Exit Price: 10256.00), Volume: 0.0997, P&L: 0.0001\n",
      "Trade executed: sell entered at 2020-07-27 11:15:00 (Entry Price: 10263.60), exited at 2020-07-27T11:16:00.000000000 (Exit Price: 10250.89), Volume: 0.0997, P&L: 0.0001\n",
      "Trade executed: buy entered at 2020-07-27 11:27:00 (Entry Price: 10219.43), exited at 2020-07-27T11:28:00.000000000 (Exit Price: 10227.93), Volume: 0.0998, P&L: 0.0001\n",
      "Trade executed: sell entered at 2020-07-27 13:36:00 (Entry Price: 10335.60), exited at 2020-07-27T14:24:00.000000000 (Exit Price: 10314.81), Volume: 0.0998, P&L: 0.0002\n",
      "Trade executed: sell entered at 2020-07-27 14:25:00 (Entry Price: 10334.92), exited at 2020-07-27T14:26:00.000000000 (Exit Price: 10332.67), Volume: 0.0998, P&L: 0.0000\n",
      "Trade flipped: sell entered at 2020-07-27 14:51:00 (Entry Price: 10394.06), exited at 2020-07-27T15:03:00.000000000 (Exit Price: 10298.82), Volume: 0.0998, P&L: 0.0009\n",
      "Trade executed: buy entered at 2020-07-27 15:03:00 (Entry Price: 10298.82), exited at 2020-07-27T15:04:00.000000000 (Exit Price: 10339.47), Volume: 0.0999, P&L: 0.0004\n",
      "Trade executed: sell entered at 2020-07-27 15:11:00 (Entry Price: 10357.05), exited at 2020-07-27T15:16:00.000000000 (Exit Price: 10352.59), Volume: 0.0999, P&L: 0.0000\n",
      "Trade executed: buy entered at 2020-07-27 15:58:00 (Entry Price: 10310.19), exited at 2020-07-27T16:06:00.000000000 (Exit Price: 10349.67), Volume: 0.0999, P&L: 0.0004\n",
      "Trade executed: sell entered at 2020-07-27 17:54:00 (Entry Price: 10838.92), exited at 2020-07-27T18:26:00.000000000 (Exit Price: 10824.11), Volume: 0.0999, P&L: 0.0001\n",
      "Trade executed: sell entered at 2020-07-27 22:11:00 (Entry Price: 11369.79), exited at 2020-07-27T22:56:00.000000000 (Exit Price: 11265.00), Volume: 0.1000, P&L: 0.0009\n",
      "Trade executed: sell entered at 2020-07-27 21:47:00 (Entry Price: 10919.55), exited at 2020-07-27T23:12:00.000000000 (Exit Price: 11195.38), Volume: 0.1000, P&L: -0.0025\n",
      "Trade executed: sell entered at 2020-07-27 22:53:00 (Entry Price: 11262.60), exited at 2020-07-27T23:12:00.000000000 (Exit Price: 11195.38), Volume: 0.1000, P&L: 0.0006\n",
      "Trade executed: sell entered at 2020-07-27 22:58:00 (Entry Price: 11244.02), exited at 2020-07-27T23:12:00.000000000 (Exit Price: 11195.38), Volume: 0.1000, P&L: 0.0004\n",
      "Trade executed: sell entered at 2020-07-27 22:59:00 (Entry Price: 11239.23), exited at 2020-07-27T23:12:00.000000000 (Exit Price: 11195.38), Volume: 0.1000, P&L: 0.0004\n",
      "Trade executed: buy entered at 2020-07-27 23:19:00 (Entry Price: 10854.91), exited at 2020-07-27T23:30:00.000000000 (Exit Price: 11031.00), Volume: 0.0999, P&L: 0.0016\n",
      "Trade executed: buy entered at 2020-07-28 03:35:00 (Entry Price: 10902.63), exited at 2020-07-28T03:51:00.000000000 (Exit Price: 10955.89), Volume: 0.1001, P&L: 0.0005\n",
      "Trade executed: buy entered at 2020-07-28 06:16:00 (Entry Price: 10877.63), exited at 2020-07-28T06:19:00.000000000 (Exit Price: 10972.77), Volume: 0.1001, P&L: 0.0009\n",
      "Trade flipped: sell entered at 2020-07-28 06:20:00 (Entry Price: 10994.84), exited at 2020-07-28T06:23:00.000000000 (Exit Price: 10964.25), Volume: 0.1002, P&L: 0.0003\n",
      "Trade flipped: buy entered at 2020-07-28 06:23:00 (Entry Price: 10964.25), exited at 2020-07-28T06:52:00.000000000 (Exit Price: 10974.52), Volume: 0.1002, P&L: 0.0001\n",
      "Trade executed: sell entered at 2020-07-28 06:52:00 (Entry Price: 10974.52), exited at 2020-07-28T07:31:00.000000000 (Exit Price: 10944.04), Volume: 0.1002, P&L: 0.0003\n",
      "Trade flipped: buy entered at 2020-07-28 10:18:00 (Entry Price: 10660.29), exited at 2020-07-28T10:48:00.000000000 (Exit Price: 10814.01), Volume: 0.1003, P&L: 0.0014\n",
      "Trade executed: sell entered at 2020-07-28 10:48:00 (Entry Price: 10814.01), exited at 2020-07-28T12:31:00.000000000 (Exit Price: 10967.00), Volume: 0.1004, P&L: -0.0014\n",
      "Trade executed: sell entered at 2020-07-28 11:22:00 (Entry Price: 10940.95), exited at 2020-07-28T12:31:00.000000000 (Exit Price: 10967.00), Volume: 0.1004, P&L: -0.0003\n",
      "Trade executed: sell entered at 2020-07-28 11:53:00 (Entry Price: 10990.54), exited at 2020-07-28T12:31:00.000000000 (Exit Price: 10967.00), Volume: 0.1004, P&L: 0.0002\n",
      "Trade executed: sell entered at 2020-07-28 12:02:00 (Entry Price: 11019.55), exited at 2020-07-28T12:31:00.000000000 (Exit Price: 10967.00), Volume: 0.1004, P&L: 0.0005\n",
      "Trade executed: sell entered at 2020-07-28 14:32:00 (Entry Price: 11140.30), exited at 2020-07-28T15:18:00.000000000 (Exit Price: 11090.97), Volume: 0.1003, P&L: 0.0004\n",
      "Trade executed: sell entered at 2020-07-28 15:24:00 (Entry Price: 11139.87), exited at 2020-07-28T15:42:00.000000000 (Exit Price: 11133.08), Volume: 0.1004, P&L: 0.0000\n",
      "Trade executed: sell entered at 2020-07-28 15:50:00 (Entry Price: 11147.95), exited at 2020-07-28T16:01:00.000000000 (Exit Price: 11056.55), Volume: 0.1004, P&L: 0.0008\n",
      "Trade executed: buy entered at 2020-07-28 16:02:00 (Entry Price: 11060.16), exited at 2020-07-28T16:10:00.000000000 (Exit Price: 11101.62), Volume: 0.1004, P&L: 0.0004\n",
      "Trade executed: buy entered at 2020-07-28 16:41:00 (Entry Price: 10981.14), exited at 2020-07-28T17:52:00.000000000 (Exit Price: 11012.78), Volume: 0.1005, P&L: 0.0003\n",
      "Trade executed: buy entered at 2020-07-28 19:21:00 (Entry Price: 10960.21), exited at 2020-07-28T19:31:00.000000000 (Exit Price: 10974.55), Volume: 0.1005, P&L: 0.0001\n",
      "Trade executed: buy entered at 2020-07-28 22:28:00 (Entry Price: 10896.45), exited at 2020-07-28T23:08:00.000000000 (Exit Price: 10947.67), Volume: 0.1005, P&L: 0.0005\n",
      "Trade executed: buy entered at 2020-07-29 02:06:00 (Entry Price: 10891.91), exited at 2020-07-29T02:13:00.000000000 (Exit Price: 10928.65), Volume: 0.1006, P&L: 0.0003\n",
      "Trade executed: sell entered at 2020-07-29 03:46:00 (Entry Price: 10999.51), exited at 2020-07-29T03:53:00.000000000 (Exit Price: 10973.75), Volume: 0.1006, P&L: 0.0002\n",
      "Trade executed: sell entered at 2020-07-29 04:00:00 (Entry Price: 11000.00), exited at 2020-07-29T04:05:00.000000000 (Exit Price: 10970.37), Volume: 0.1006, P&L: 0.0003\n",
      "Trade executed: sell entered at 2020-07-29 03:00:00 (Entry Price: 10926.13), exited at 2020-07-29T04:07:00.000000000 (Exit Price: 10962.08), Volume: 0.1006, P&L: -0.0004\n",
      "Trade executed: sell entered at 2020-07-29 03:17:00 (Entry Price: 10991.00), exited at 2020-07-29T04:07:00.000000000 (Exit Price: 10962.08), Volume: 0.1006, P&L: 0.0002\n",
      "Trade executed: sell entered at 2020-07-29 03:50:00 (Entry Price: 10995.44), exited at 2020-07-29T04:07:00.000000000 (Exit Price: 10962.08), Volume: 0.1006, P&L: 0.0003\n",
      "Trade executed: sell entered at 2020-07-29 04:08:00 (Entry Price: 10966.86), exited at 2020-07-29T04:12:00.000000000 (Exit Price: 10968.23), Volume: 0.1007, P&L: -0.0000\n",
      "Trade executed: sell entered at 2020-07-29 04:15:00 (Entry Price: 10976.68), exited at 2020-07-29T04:20:00.000000000 (Exit Price: 10971.77), Volume: 0.1007, P&L: 0.0000\n",
      "Trade executed: buy entered at 2020-07-29 05:59:00 (Entry Price: 10965.06), exited at 2020-07-29T06:03:00.000000000 (Exit Price: 10976.08), Volume: 0.1007, P&L: 0.0001\n",
      "Trade executed: sell entered at 2020-07-29 06:05:00 (Entry Price: 11003.89), exited at 2020-07-29T07:24:00.000000000 (Exit Price: 11023.04), Volume: 0.1007, P&L: -0.0002\n",
      "Trade executed: sell entered at 2020-07-29 06:37:00 (Entry Price: 11045.44), exited at 2020-07-29T07:24:00.000000000 (Exit Price: 11023.04), Volume: 0.1007, P&L: 0.0002\n",
      "Trade executed: sell entered at 2020-07-29 06:55:00 (Entry Price: 11067.01), exited at 2020-07-29T07:24:00.000000000 (Exit Price: 11023.04), Volume: 0.1007, P&L: 0.0004\n",
      "Trade flipped: sell entered at 2020-07-29 09:22:00 (Entry Price: 11115.50), exited at 2020-07-29T09:27:00.000000000 (Exit Price: 10970.00), Volume: 0.1007, P&L: 0.0013\n",
      "Trade executed: buy entered at 2020-07-29 09:27:00 (Entry Price: 10970.00), exited at 2020-07-29T09:49:00.000000000 (Exit Price: 11067.94), Volume: 0.1008, P&L: 0.0009\n",
      "Trade executed: buy entered at 2020-07-29 09:55:00 (Entry Price: 11045.10), exited at 2020-07-29T10:59:00.000000000 (Exit Price: 11065.05), Volume: 0.1009, P&L: 0.0002\n",
      "Trade executed: buy entered at 2020-07-29 11:02:00 (Entry Price: 11060.26), exited at 2020-07-29T11:12:00.000000000 (Exit Price: 11067.63), Volume: 0.1009, P&L: 0.0000\n",
      "Trade executed: sell entered at 2020-07-29 12:54:00 (Entry Price: 11138.00), exited at 2020-07-29T13:00:00.000000000 (Exit Price: 11092.84), Volume: 0.1009, P&L: 0.0004\n",
      "Trade executed: sell entered at 2020-07-29 13:01:00 (Entry Price: 11107.80), exited at 2020-07-29T13:20:00.000000000 (Exit Price: 11109.81), Volume: 0.1010, P&L: -0.0000\n",
      "Trade executed: buy entered at 2020-07-29 14:58:00 (Entry Price: 11098.39), exited at 2020-07-29T15:00:00.000000000 (Exit Price: 11129.04), Volume: 0.1010, P&L: 0.0003\n",
      "Trade executed: sell entered at 2020-07-29 15:01:00 (Entry Price: 11148.39), exited at 2020-07-29T15:02:00.000000000 (Exit Price: 11127.23), Volume: 0.1010, P&L: 0.0002\n",
      "Trade flipped: buy entered at 2020-07-29 15:04:00 (Entry Price: 11120.04), exited at 2020-07-29T15:05:00.000000000 (Exit Price: 11138.18), Volume: 0.1010, P&L: 0.0001\n",
      "Trade executed: sell entered at 2020-07-29 15:05:00 (Entry Price: 11138.18), exited at 2020-07-29T15:42:00.000000000 (Exit Price: 11157.22), Volume: 0.1010, P&L: -0.0002\n",
      "Trade executed: sell entered at 2020-07-29 16:29:00 (Entry Price: 11219.00), exited at 2020-07-29T17:32:00.000000000 (Exit Price: 11232.47), Volume: 0.1010, P&L: -0.0001\n",
      "Trade executed: sell entered at 2020-07-29 21:04:00 (Entry Price: 11260.01), exited at 2020-07-29T21:16:00.000000000 (Exit Price: 11227.23), Volume: 0.1010, P&L: 0.0003\n",
      "Trade executed: buy entered at 2020-07-29 21:17:00 (Entry Price: 11215.21), exited at 2020-07-29T21:19:00.000000000 (Exit Price: 11230.07), Volume: 0.1010, P&L: 0.0001\n",
      "Trade executed: sell entered at 2020-07-29 21:27:00 (Entry Price: 11241.93), exited at 2020-07-29T21:29:00.000000000 (Exit Price: 11231.05), Volume: 0.1010, P&L: 0.0001\n",
      "Trade executed: sell entered at 2020-07-29 21:54:00 (Entry Price: 11342.00), exited at 2020-07-29T22:20:00.000000000 (Exit Price: 11275.94), Volume: 0.1010, P&L: 0.0006\n",
      "Trade executed: sell entered at 2020-07-29 21:36:00 (Entry Price: 11241.48), exited at 2020-07-29T22:31:00.000000000 (Exit Price: 11255.82), Volume: 0.1010, P&L: -0.0001\n",
      "Trade executed: buy entered at 2020-07-30 00:03:00 (Entry Price: 11032.21), exited at 2020-07-30T00:34:00.000000000 (Exit Price: 11093.99), Volume: 0.1011, P&L: 0.0005\n",
      "Trade executed: buy entered at 2020-07-29 23:18:00 (Entry Price: 11113.68), exited at 2020-07-30T02:21:00.000000000 (Exit Price: 11103.82), Volume: 0.1011, P&L: -0.0001\n",
      "Trade executed: buy entered at 2020-07-30 03:21:00 (Entry Price: 11030.98), exited at 2020-07-30T04:28:00.000000000 (Exit Price: 11056.94), Volume: 0.1011, P&L: 0.0002\n",
      "Trade flipped: buy entered at 2020-07-30 06:09:00 (Entry Price: 11013.62), exited at 2020-07-30T06:11:00.000000000 (Exit Price: 11032.16), Volume: 0.1012, P&L: 0.0002\n",
      "Trade executed: sell entered at 2020-07-30 06:11:00 (Entry Price: 11032.16), exited at 2020-07-30T06:27:00.000000000 (Exit Price: 11012.51), Volume: 0.1012, P&L: 0.0002\n",
      "Trade executed: buy entered at 2020-07-30 07:33:00 (Entry Price: 10948.90), exited at 2020-07-30T08:35:00.000000000 (Exit Price: 10969.00), Volume: 0.1012, P&L: 0.0002\n",
      "Trade executed: buy entered at 2020-07-30 06:35:00 (Entry Price: 11006.41), exited at 2020-07-30T08:40:00.000000000 (Exit Price: 10994.94), Volume: 0.1012, P&L: -0.0001\n",
      "Trade executed: buy entered at 2020-07-30 11:21:00 (Entry Price: 10949.45), exited at 2020-07-30T12:02:00.000000000 (Exit Price: 10973.67), Volume: 0.1012, P&L: 0.0002\n",
      "Trade flipped: sell entered at 2020-07-30 12:06:00 (Entry Price: 10981.78), exited at 2020-07-30T12:45:00.000000000 (Exit Price: 10961.52), Volume: 0.1012, P&L: 0.0002\n",
      "Trade flipped: buy entered at 2020-07-30 12:45:00 (Entry Price: 10961.52), exited at 2020-07-30T12:46:00.000000000 (Exit Price: 10965.01), Volume: 0.1012, P&L: 0.0000\n",
      "Trade flipped: sell entered at 2020-07-30 12:46:00 (Entry Price: 10965.01), exited at 2020-07-30T12:47:00.000000000 (Exit Price: 10960.27), Volume: 0.1012, P&L: 0.0000\n",
      "Trade flipped: buy entered at 2020-07-30 12:47:00 (Entry Price: 10960.27), exited at 2020-07-30T13:08:00.000000000 (Exit Price: 10967.90), Volume: 0.1012, P&L: 0.0001\n",
      "Trade executed: sell entered at 2020-07-30 13:08:00 (Entry Price: 10967.90), exited at 2020-07-30T14:12:00.000000000 (Exit Price: 10993.20), Volume: 0.1012, P&L: -0.0003\n",
      "Trade executed: buy entered at 2020-07-30 14:44:00 (Entry Price: 10974.90), exited at 2020-07-30T15:00:00.000000000 (Exit Price: 10985.66), Volume: 0.1012, P&L: 0.0001\n",
      "Trade executed: buy entered at 2020-07-30 16:27:00 (Entry Price: 10995.00), exited at 2020-07-30T16:35:00.000000000 (Exit Price: 11007.13), Volume: 0.1012, P&L: 0.0001\n",
      "Trade executed: sell entered at 2020-07-30 16:36:00 (Entry Price: 11005.99), exited at 2020-07-30T16:37:00.000000000 (Exit Price: 11003.88), Volume: 0.1012, P&L: -0.0000\n",
      "Trade executed: sell entered at 2020-07-30 16:38:00 (Entry Price: 11006.44), exited at 2020-07-30T17:19:00.000000000 (Exit Price: 11016.49), Volume: 0.1012, P&L: -0.0001\n",
      "Trade executed: sell entered at 2020-07-30 17:13:00 (Entry Price: 11051.91), exited at 2020-07-30T17:19:00.000000000 (Exit Price: 11016.49), Volume: 0.1012, P&L: 0.0003\n",
      "Trade executed: sell entered at 2020-07-30 17:22:00 (Entry Price: 11019.63), exited at 2020-07-30T17:23:00.000000000 (Exit Price: 11019.16), Volume: 0.1012, P&L: -0.0000\n",
      "Trade executed: sell entered at 2020-07-30 17:24:00 (Entry Price: 11019.77), exited at 2020-07-30T17:25:00.000000000 (Exit Price: 11017.32), Volume: 0.1012, P&L: 0.0000\n",
      "Trade executed: sell entered at 2020-07-30 18:16:00 (Entry Price: 11084.62), exited at 2020-07-30T19:35:00.000000000 (Exit Price: 11091.73), Volume: 0.1012, P&L: -0.0001\n",
      "Trade executed: sell entered at 2020-07-30 19:12:00 (Entry Price: 11123.77), exited at 2020-07-30T19:35:00.000000000 (Exit Price: 11091.73), Volume: 0.1012, P&L: 0.0003\n",
      "Trade flipped: sell entered at 2020-07-30 21:19:00 (Entry Price: 11157.05), exited at 2020-07-30T21:22:00.000000000 (Exit Price: 11124.99), Volume: 0.1013, P&L: 0.0003\n",
      "Trade executed: buy entered at 2020-07-30 21:22:00 (Entry Price: 11124.99), exited at 2020-07-30T21:23:00.000000000 (Exit Price: 11133.00), Volume: 0.1013, P&L: 0.0001\n",
      "Trade executed: buy entered at 2020-07-30 21:25:00 (Entry Price: 11121.70), exited at 2020-07-30T21:27:00.000000000 (Exit Price: 11135.17), Volume: 0.1013, P&L: 0.0001\n",
      "Trade executed: buy entered at 2020-07-30 21:28:00 (Entry Price: 11115.56), exited at 2020-07-30T21:30:00.000000000 (Exit Price: 11133.17), Volume: 0.1013, P&L: 0.0001\n",
      "Trade executed: buy entered at 2020-07-30 21:33:00 (Entry Price: 11127.35), exited at 2020-07-30T22:30:00.000000000 (Exit Price: 11137.02), Volume: 0.1013, P&L: 0.0001\n",
      "Trade executed: buy entered at 2020-07-30 22:10:00 (Entry Price: 11102.05), exited at 2020-07-30T22:30:00.000000000 (Exit Price: 11137.02), Volume: 0.1013, P&L: 0.0003\n",
      "Trade executed: buy entered at 2020-07-31 02:29:00 (Entry Price: 11034.00), exited at 2020-07-31T04:23:00.000000000 (Exit Price: 11018.69), Volume: 0.1014, P&L: -0.0002\n",
      "Trade executed: buy entered at 2020-07-31 02:42:00 (Entry Price: 11007.70), exited at 2020-07-31T04:23:00.000000000 (Exit Price: 11018.69), Volume: 0.1014, P&L: 0.0001\n",
      "Trade executed: sell entered at 2020-07-31 06:31:00 (Entry Price: 11114.98), exited at 2020-07-31T08:06:00.000000000 (Exit Price: 11117.46), Volume: 0.1013, P&L: -0.0000\n",
      "Trade executed: sell entered at 2020-07-31 07:44:00 (Entry Price: 11145.19), exited at 2020-07-31T08:06:00.000000000 (Exit Price: 11117.46), Volume: 0.1013, P&L: 0.0002\n",
      "Trade executed: sell entered at 2020-07-31 08:10:00 (Entry Price: 11147.53), exited at 2020-07-31T08:45:00.000000000 (Exit Price: 11144.04), Volume: 0.1014, P&L: 0.0000\n",
      "Trade executed: sell entered at 2020-07-31 09:10:00 (Entry Price: 11152.33), exited at 2020-07-31T09:16:00.000000000 (Exit Price: 11146.30), Volume: 0.1014, P&L: 0.0000\n",
      "Trade executed: sell entered at 2020-07-31 09:20:00 (Entry Price: 11150.68), exited at 2020-07-31T09:21:00.000000000 (Exit Price: 11149.49), Volume: 0.1014, P&L: -0.0000\n",
      "Trade executed: buy entered at 2020-07-31 09:40:00 (Entry Price: 11127.73), exited at 2020-07-31T10:06:00.000000000 (Exit Price: 11141.01), Volume: 0.1014, P&L: 0.0001\n",
      "Trade executed: sell entered at 2020-07-31 12:59:00 (Entry Price: 11248.45), exited at 2020-07-31T13:05:00.000000000 (Exit Price: 11218.98), Volume: 0.1014, P&L: 0.0002\n",
      "Trade executed: sell entered at 2020-07-31 11:44:00 (Entry Price: 11167.22), exited at 2020-07-31T13:08:00.000000000 (Exit Price: 11199.00), Volume: 0.1014, P&L: -0.0003\n",
      "Trade executed: sell entered at 2020-07-31 12:32:00 (Entry Price: 11218.50), exited at 2020-07-31T13:08:00.000000000 (Exit Price: 11199.00), Volume: 0.1014, P&L: 0.0002\n",
      "Trade executed: buy entered at 2020-07-31 13:27:00 (Entry Price: 11171.31), exited at 2020-07-31T14:18:00.000000000 (Exit Price: 11188.52), Volume: 0.1014, P&L: 0.0001\n",
      "Trade executed: sell entered at 2020-07-31 15:59:00 (Entry Price: 11355.05), exited at 2020-07-31T16:27:00.000000000 (Exit Price: 11275.44), Volume: 0.1014, P&L: 0.0007\n",
      "Trade executed: sell entered at 2020-07-31 16:37:00 (Entry Price: 11337.45), exited at 2020-07-31T16:40:00.000000000 (Exit Price: 11333.84), Volume: 0.1015, P&L: 0.0000\n",
      "Trade executed: sell entered at 2020-07-31 16:48:00 (Entry Price: 11346.44), exited at 2020-07-31T16:49:00.000000000 (Exit Price: 11334.32), Volume: 0.1015, P&L: 0.0001\n",
      "Trade executed: sell entered at 2020-07-31 20:51:00 (Entry Price: 11344.16), exited at 2020-07-31T20:55:00.000000000 (Exit Price: 11340.72), Volume: 0.1015, P&L: 0.0000\n",
      "Trade executed: sell entered at 2020-07-31 20:56:00 (Entry Price: 11349.21), exited at 2020-07-31T20:59:00.000000000 (Exit Price: 11336.75), Volume: 0.1015, P&L: 0.0001\n",
      "Trade executed: sell entered at 2020-07-31 21:03:00 (Entry Price: 11355.87), exited at 2020-07-31T21:49:00.000000000 (Exit Price: 11375.42), Volume: 0.1015, P&L: -0.0002\n",
      "Trade executed: sell entered at 2020-07-31 21:35:00 (Entry Price: 11399.64), exited at 2020-07-31T21:49:00.000000000 (Exit Price: 11375.42), Volume: 0.1015, P&L: 0.0002\n",
      "Trade executed: sell entered at 2020-07-31 21:50:00 (Entry Price: 11392.86), exited at 2020-07-31T22:02:00.000000000 (Exit Price: 11380.00), Volume: 0.1015, P&L: 0.0001\n",
      "Trade executed: buy entered at 2020-08-01 01:06:00 (Entry Price: 11265.59), exited at 2020-08-01T01:37:00.000000000 (Exit Price: 11302.20), Volume: 0.1015, P&L: 0.0003\n",
      "Trade executed: buy entered at 2020-08-01 00:12:00 (Entry Price: 11339.68), exited at 2020-08-01T02:08:00.000000000 (Exit Price: 11304.28), Volume: 0.1015, P&L: -0.0003\n",
      "Trade executed: buy entered at 2020-08-01 01:37:00 (Entry Price: 11302.20), exited at 2020-08-01T02:08:00.000000000 (Exit Price: 11304.28), Volume: 0.1015, P&L: -0.0000\n",
      "Trade executed: sell entered at 2020-08-01 03:43:00 (Entry Price: 11404.01), exited at 2020-08-01T04:00:00.000000000 (Exit Price: 11358.78), Volume: 0.1015, P&L: 0.0004\n",
      "Trade executed: sell entered at 2020-08-01 04:43:00 (Entry Price: 11433.34), exited at 2020-08-01T04:59:00.000000000 (Exit Price: 11396.22), Volume: 0.1015, P&L: 0.0003\n",
      "Trade executed: sell entered at 2020-08-01 04:10:00 (Entry Price: 11365.77), exited at 2020-08-01T05:00:00.000000000 (Exit Price: 11390.17), Volume: 0.1015, P&L: -0.0002\n",
      "Trade executed: sell entered at 2020-08-01 05:08:00 (Entry Price: 11446.64), exited at 2020-08-01T07:06:00.000000000 (Exit Price: 11632.44), Volume: 0.1015, P&L: -0.0017\n",
      "Trade executed: sell entered at 2020-08-01 05:51:00 (Entry Price: 11570.36), exited at 2020-08-01T07:06:00.000000000 (Exit Price: 11632.44), Volume: 0.1015, P&L: -0.0006\n",
      "Trade executed: buy entered at 2020-08-01 10:29:00 (Entry Price: 11642.79), exited at 2020-08-01T12:02:00.000000000 (Exit Price: 11670.99), Volume: 0.1013, P&L: 0.0002\n",
      "Trade executed: buy entered at 2020-08-01 13:49:00 (Entry Price: 11571.13), exited at 2020-08-01T15:02:00.000000000 (Exit Price: 11614.43), Volume: 0.1013, P&L: 0.0004\n",
      "Trade executed: sell entered at 2020-08-01 15:08:00 (Entry Price: 11629.30), exited at 2020-08-01T15:30:00.000000000 (Exit Price: 11594.70), Volume: 0.1014, P&L: 0.0003\n",
      "Trade executed: sell entered at 2020-08-01 17:58:00 (Entry Price: 11741.72), exited at 2020-08-01T18:06:00.000000000 (Exit Price: 11700.83), Volume: 0.1014, P&L: 0.0003\n",
      "Trade executed: sell entered at 2020-08-01 17:03:00 (Entry Price: 11662.84), exited at 2020-08-01T18:09:00.000000000 (Exit Price: 11676.17), Volume: 0.1014, P&L: -0.0001\n",
      "Trade executed: sell entered at 2020-08-01 17:42:00 (Entry Price: 11723.80), exited at 2020-08-01T18:09:00.000000000 (Exit Price: 11676.17), Volume: 0.1014, P&L: 0.0004\n",
      "Trade executed: buy entered at 2020-08-01 18:18:00 (Entry Price: 11645.14), exited at 2020-08-01T18:46:00.000000000 (Exit Price: 11669.99), Volume: 0.1015, P&L: 0.0002\n",
      "Trade executed: sell entered at 2020-08-01 18:56:00 (Entry Price: 11690.32), exited at 2020-08-01T18:57:00.000000000 (Exit Price: 11680.50), Volume: 0.1015, P&L: 0.0001\n",
      "Trade executed: sell entered at 2020-08-01 19:02:00 (Entry Price: 11713.89), exited at 2020-08-01T20:16:00.000000000 (Exit Price: 11722.13), Volume: 0.1015, P&L: -0.0001\n",
      "Trade executed: sell entered at 2020-08-01 19:34:00 (Entry Price: 11869.10), exited at 2020-08-01T20:16:00.000000000 (Exit Price: 11722.13), Volume: 0.1015, P&L: 0.0012\n",
      "Trade executed: sell entered at 2020-08-01 20:39:00 (Entry Price: 11845.67), exited at 2020-08-01T20:52:00.000000000 (Exit Price: 11812.00), Volume: 0.1016, P&L: 0.0003\n",
      "Trade executed: buy entered at 2020-08-01 21:53:00 (Entry Price: 11771.10), exited at 2020-08-01T23:40:00.000000000 (Exit Price: 11799.13), Volume: 0.1016, P&L: 0.0002\n",
      "Trade executed: sell entered at 2020-08-02 01:25:00 (Entry Price: 11860.96), exited at 2020-08-02T03:02:00.000000000 (Exit Price: 11924.76), Volume: 0.1017, P&L: -0.0006\n",
      "Trade executed: sell entered at 2020-08-02 02:24:00 (Entry Price: 11926.99), exited at 2020-08-02T03:02:00.000000000 (Exit Price: 11924.76), Volume: 0.1017, P&L: -0.0000\n",
      "Trade executed: sell entered at 2020-08-02 04:23:00 (Entry Price: 12007.42), exited at 2020-08-02T04:24:00.000000000 (Exit Price: 11970.00), Volume: 0.1016, P&L: 0.0003\n",
      "Trade executed: sell entered at 2020-08-02 04:25:00 (Entry Price: 12000.50), exited at 2020-08-02T04:28:00.000000000 (Exit Price: 11955.60), Volume: 0.1016, P&L: 0.0004\n",
      "Trade executed: sell entered at 2020-08-02 04:31:00 (Entry Price: 11976.60), exited at 2020-08-02T04:34:00.000000000 (Exit Price: 11958.00), Volume: 0.1017, P&L: 0.0001\n",
      "Trade executed: buy entered at 2020-08-02 05:27:00 (Entry Price: 11207.12), exited at 2020-08-02T05:47:00.000000000 (Exit Price: 11318.15), Volume: 0.1017, P&L: 0.0010\n",
      "Trade executed: buy entered at 2020-08-02 04:38:00 (Entry Price: 11417.29), exited at 2020-08-02T07:36:00.000000000 (Exit Price: 11357.05), Volume: 0.1017, P&L: -0.0006\n",
      "Trade executed: buy entered at 2020-08-02 05:47:00 (Entry Price: 11318.15), exited at 2020-08-02T07:36:00.000000000 (Exit Price: 11357.05), Volume: 0.1018, P&L: 0.0003\n",
      "Trade executed: buy entered at 2020-08-02 09:27:00 (Entry Price: 11267.81), exited at 2020-08-02T09:35:00.000000000 (Exit Price: 11317.19), Volume: 0.1018, P&L: 0.0004\n",
      "Trade executed: buy entered at 2020-08-02 09:39:00 (Entry Price: 11302.63), exited at 2020-08-02T09:52:00.000000000 (Exit Price: 11319.44), Volume: 0.1018, P&L: 0.0001\n",
      "Trade executed: buy entered at 2020-08-02 12:57:00 (Entry Price: 11048.96), exited at 2020-08-02T13:36:00.000000000 (Exit Price: 11114.28), Volume: 0.1018, P&L: 0.0006\n",
      "Trade executed: buy entered at 2020-08-02 12:53:00 (Entry Price: 11069.99), exited at 2020-08-02T13:39:00.000000000 (Exit Price: 11134.37), Volume: 0.1018, P&L: 0.0006\n",
      "Trade executed: buy entered at 2020-08-02 11:20:00 (Entry Price: 11082.44), exited at 2020-08-02T13:40:00.000000000 (Exit Price: 11141.05), Volume: 0.1018, P&L: 0.0005\n",
      "Trade executed: buy entered at 2020-08-02 10:49:00 (Entry Price: 11251.56), exited at 2020-08-02T14:15:00.000000000 (Exit Price: 11120.76), Volume: 0.1018, P&L: -0.0012\n",
      "Trade executed: sell entered at 2020-08-02 17:51:00 (Entry Price: 11282.00), exited at 2020-08-02T18:21:00.000000000 (Exit Price: 11244.51), Volume: 0.1019, P&L: 0.0003\n",
      "Trade executed: sell entered at 2020-08-02 17:13:00 (Entry Price: 11217.06), exited at 2020-08-02T18:35:00.000000000 (Exit Price: 11232.39), Volume: 0.1019, P&L: -0.0002\n",
      "Trade executed: sell entered at 2020-08-02 18:31:00 (Entry Price: 11273.32), exited at 2020-08-02T18:35:00.000000000 (Exit Price: 11232.39), Volume: 0.1019, P&L: 0.0003\n",
      "Trade flipped: buy entered at 2020-08-02 20:07:00 (Entry Price: 11198.00), exited at 2020-08-02T22:06:00.000000000 (Exit Price: 11175.29), Volume: 0.1019, P&L: -0.0002\n",
      "Trade flipped: buy entered at 2020-08-02 20:50:00 (Entry Price: 11121.78), exited at 2020-08-02T22:06:00.000000000 (Exit Price: 11175.29), Volume: 0.1019, P&L: 0.0005\n",
      "Trade flipped: buy entered at 2020-08-02 21:34:00 (Entry Price: 11123.19), exited at 2020-08-02T22:06:00.000000000 (Exit Price: 11175.29), Volume: 0.1019, P&L: 0.0005\n",
      "Trade flipped: sell entered at 2020-08-02 22:06:00 (Entry Price: 11175.29), exited at 2020-08-02T22:20:00.000000000 (Exit Price: 11165.25), Volume: 0.1020, P&L: 0.0001\n",
      "Trade flipped: buy entered at 2020-08-02 22:20:00 (Entry Price: 11165.25), exited at 2020-08-02T22:23:00.000000000 (Exit Price: 11179.84), Volume: 0.1020, P&L: 0.0001\n",
      "Trade flipped: sell entered at 2020-08-02 22:23:00 (Entry Price: 11179.84), exited at 2020-08-02T22:31:00.000000000 (Exit Price: 11157.87), Volume: 0.1020, P&L: 0.0002\n",
      "Trade flipped: buy entered at 2020-08-02 22:31:00 (Entry Price: 11157.87), exited at 2020-08-02T22:35:00.000000000 (Exit Price: 11170.17), Volume: 0.1020, P&L: 0.0001\n",
      "Trade executed: sell entered at 2020-08-02 22:35:00 (Entry Price: 11170.17), exited at 2020-08-02T22:39:00.000000000 (Exit Price: 11142.92), Volume: 0.1020, P&L: 0.0002\n",
      "Trade executed: buy entered at 2020-08-02 22:41:00 (Entry Price: 11149.88), exited at 2020-08-03T00:40:00.000000000 (Exit Price: 11139.98), Volume: 0.1020, P&L: -0.0001\n",
      "Trade executed: sell entered at 2020-08-03 01:01:00 (Entry Price: 11170.79), exited at 2020-08-03T01:41:00.000000000 (Exit Price: 11134.19), Volume: 0.1020, P&L: 0.0003\n",
      "Trade executed: buy entered at 2020-08-03 03:55:00 (Entry Price: 11139.22), exited at 2020-08-03T04:10:00.000000000 (Exit Price: 11167.37), Volume: 0.1021, P&L: 0.0002\n",
      "Trade executed: sell entered at 2020-08-03 07:11:00 (Entry Price: 11228.08), exited at 2020-08-03T07:47:00.000000000 (Exit Price: 11220.93), Volume: 0.1021, P&L: 0.0000\n",
      "Trade executed: buy entered at 2020-08-03 08:06:00 (Entry Price: 11197.31), exited at 2020-08-03T08:07:00.000000000 (Exit Price: 11208.10), Volume: 0.1021, P&L: 0.0001\n",
      "Trade executed: sell entered at 2020-08-03 08:14:00 (Entry Price: 11219.01), exited at 2020-08-03T08:37:00.000000000 (Exit Price: 11225.62), Volume: 0.1021, P&L: -0.0001\n",
      "Trade flipped: buy entered at 2020-08-03 11:18:00 (Entry Price: 11193.73), exited at 2020-08-03T11:20:00.000000000 (Exit Price: 11208.21), Volume: 0.1021, P&L: 0.0001\n",
      "Trade executed: sell entered at 2020-08-03 11:20:00 (Entry Price: 11208.21), exited at 2020-08-03T12:12:00.000000000 (Exit Price: 11217.39), Volume: 0.1021, P&L: -0.0001\n",
      "Trade executed: sell entered at 2020-08-03 12:09:00 (Entry Price: 11234.00), exited at 2020-08-03T12:12:00.000000000 (Exit Price: 11217.39), Volume: 0.1021, P&L: 0.0001\n",
      "Trade executed: sell entered at 2020-08-03 12:13:00 (Entry Price: 11222.15), exited at 2020-08-03T12:14:00.000000000 (Exit Price: 11220.21), Volume: 0.1021, P&L: -0.0000\n",
      "Trade executed: sell entered at 2020-08-03 12:48:00 (Entry Price: 11237.66), exited at 2020-08-03T12:59:00.000000000 (Exit Price: 11230.18), Volume: 0.1021, P&L: 0.0000\n",
      "Trade executed: sell entered at 2020-08-03 15:06:00 (Entry Price: 11339.01), exited at 2020-08-03T16:46:00.000000000 (Exit Price: 11398.46), Volume: 0.1021, P&L: -0.0006\n",
      "Trade executed: sell entered at 2020-08-03 15:35:00 (Entry Price: 11386.01), exited at 2020-08-03T16:46:00.000000000 (Exit Price: 11398.46), Volume: 0.1021, P&L: -0.0001\n",
      "Trade executed: sell entered at 2020-08-03 17:41:00 (Entry Price: 11435.28), exited at 2020-08-03T18:11:00.000000000 (Exit Price: 11408.33), Volume: 0.1020, P&L: 0.0002\n",
      "Trade executed: buy entered at 2020-08-03 21:59:00 (Entry Price: 11201.33), exited at 2020-08-03T22:20:00.000000000 (Exit Price: 11288.46), Volume: 0.1021, P&L: 0.0008\n",
      "Trade executed: buy entered at 2020-08-03 22:46:00 (Entry Price: 11224.97), exited at 2020-08-04T00:01:00.000000000 (Exit Price: 11246.02), Volume: 0.1021, P&L: 0.0002\n",
      "Trade executed: buy entered at 2020-08-03 21:13:00 (Entry Price: 11346.29), exited at 2020-08-04T00:15:00.000000000 (Exit Price: 11298.55), Volume: 0.1021, P&L: -0.0004\n",
      "Trade executed: buy entered at 2020-08-03 22:34:00 (Entry Price: 11263.31), exited at 2020-08-04T00:15:00.000000000 (Exit Price: 11298.55), Volume: 0.1021, P&L: 0.0003\n",
      "Trade executed: sell entered at 2020-08-04 01:38:00 (Entry Price: 11374.07), exited at 2020-08-04T01:46:00.000000000 (Exit Price: 11350.00), Volume: 0.1021, P&L: 0.0002\n",
      "Trade flipped: buy entered at 2020-08-04 04:27:00 (Entry Price: 11270.35), exited at 2020-08-04T04:53:00.000000000 (Exit Price: 11315.30), Volume: 0.1022, P&L: 0.0004\n",
      "Trade executed: sell entered at 2020-08-04 04:53:00 (Entry Price: 11315.30), exited at 2020-08-04T05:20:00.000000000 (Exit Price: 11287.65), Volume: 0.1022, P&L: 0.0002\n",
      "Trade executed: sell entered at 2020-08-04 07:09:00 (Entry Price: 11281.48), exited at 2020-08-04T08:03:00.000000000 (Exit Price: 11282.00), Volume: 0.1022, P&L: -0.0000\n",
      "Trade executed: buy entered at 2020-08-04 09:41:00 (Entry Price: 11244.73), exited at 2020-08-04T10:02:00.000000000 (Exit Price: 11276.00), Volume: 0.1022, P&L: 0.0003\n",
      "Trade flipped: buy entered at 2020-08-04 09:16:00 (Entry Price: 11274.44), exited at 2020-08-04T10:05:00.000000000 (Exit Price: 11286.03), Volume: 0.1022, P&L: 0.0001\n",
      "Trade flipped: sell entered at 2020-08-04 10:05:00 (Entry Price: 11286.03), exited at 2020-08-04T10:07:00.000000000 (Exit Price: 11280.01), Volume: 0.1023, P&L: 0.0000\n",
      "Trade flipped: buy entered at 2020-08-04 10:07:00 (Entry Price: 11280.01), exited at 2020-08-04T10:08:00.000000000 (Exit Price: 11281.99), Volume: 0.1023, P&L: -0.0000\n",
      "Trade flipped: sell entered at 2020-08-04 10:08:00 (Entry Price: 11281.99), exited at 2020-08-04T10:15:00.000000000 (Exit Price: 11267.21), Volume: 0.1023, P&L: 0.0001\n",
      "Trade flipped: buy entered at 2020-08-04 10:15:00 (Entry Price: 11267.21), exited at 2020-08-04T10:24:00.000000000 (Exit Price: 11287.25), Volume: 0.1023, P&L: 0.0002\n",
      "Trade executed: sell entered at 2020-08-04 10:24:00 (Entry Price: 11287.25), exited at 2020-08-04T10:49:00.000000000 (Exit Price: 11263.24), Volume: 0.1023, P&L: 0.0002\n",
      "Trade flipped: buy entered at 2020-08-04 10:51:00 (Entry Price: 11246.64), exited at 2020-08-04T11:12:00.000000000 (Exit Price: 11275.58), Volume: 0.1023, P&L: 0.0002\n",
      "Trade flipped: sell entered at 2020-08-04 11:12:00 (Entry Price: 11275.58), exited at 2020-08-04T11:13:00.000000000 (Exit Price: 11270.66), Volume: 0.1023, P&L: 0.0000\n",
      "Trade executed: buy entered at 2020-08-04 11:13:00 (Entry Price: 11270.66), exited at 2020-08-04T11:15:00.000000000 (Exit Price: 11277.56), Volume: 0.1023, P&L: 0.0000\n",
      "Trade executed: buy entered at 2020-08-04 11:54:00 (Entry Price: 11089.27), exited at 2020-08-04T12:17:00.000000000 (Exit Price: 11169.59), Volume: 0.1023, P&L: 0.0007\n",
      "Trade executed: buy entered at 2020-08-04 11:37:00 (Entry Price: 11218.85), exited at 2020-08-04T14:15:00.000000000 (Exit Price: 11167.75), Volume: 0.1023, P&L: -0.0005\n",
      "Trade executed: buy entered at 2020-08-04 12:33:00 (Entry Price: 11131.56), exited at 2020-08-04T14:15:00.000000000 (Exit Price: 11167.75), Volume: 0.1024, P&L: 0.0003\n",
      "Trade executed: sell entered at 2020-08-04 18:01:00 (Entry Price: 11272.32), exited at 2020-08-04T18:32:00.000000000 (Exit Price: 11240.87), Volume: 0.1024, P&L: 0.0003\n",
      "Trade executed: sell entered at 2020-08-04 18:35:00 (Entry Price: 11233.61), exited at 2020-08-04T18:38:00.000000000 (Exit Price: 11223.18), Volume: 0.1024, P&L: 0.0001\n",
      "Trade executed: sell entered at 2020-08-04 18:40:00 (Entry Price: 11230.47), exited at 2020-08-04T18:43:00.000000000 (Exit Price: 11227.88), Volume: 0.1024, P&L: 0.0000\n",
      "Trade executed: sell entered at 2020-08-04 19:01:00 (Entry Price: 11236.51), exited at 2020-08-04T19:05:00.000000000 (Exit Price: 11232.80), Volume: 0.1024, P&L: 0.0000\n",
      "Trade executed: sell entered at 2020-08-04 19:07:00 (Entry Price: 11240.27), exited at 2020-08-04T19:10:00.000000000 (Exit Price: 11234.95), Volume: 0.1024, P&L: 0.0000\n",
      "Trade executed: sell entered at 2020-08-04 19:32:00 (Entry Price: 11241.50), exited at 2020-08-04T19:56:00.000000000 (Exit Price: 11231.25), Volume: 0.1024, P&L: 0.0001\n",
      "Trade executed: buy entered at 2020-08-04 21:21:00 (Entry Price: 11223.20), exited at 2020-08-04T21:38:00.000000000 (Exit Price: 11241.77), Volume: 0.1024, P&L: 0.0001\n",
      "Trade flipped: buy entered at 2020-08-04 21:44:00 (Entry Price: 11226.87), exited at 2020-08-04T21:48:00.000000000 (Exit Price: 11239.17), Volume: 0.1025, P&L: 0.0001\n",
      "Trade flipped: sell entered at 2020-08-04 21:48:00 (Entry Price: 11239.17), exited at 2020-08-04T21:50:00.000000000 (Exit Price: 11234.12), Volume: 0.1025, P&L: 0.0000\n",
      "Trade flipped: buy entered at 2020-08-04 21:50:00 (Entry Price: 11234.12), exited at 2020-08-04T21:51:00.000000000 (Exit Price: 11236.45), Volume: 0.1025, P&L: 0.0000\n",
      "Trade flipped: sell entered at 2020-08-04 21:51:00 (Entry Price: 11236.45), exited at 2020-08-04T22:15:00.000000000 (Exit Price: 11237.48), Volume: 0.1025, P&L: -0.0000\n",
      "Trade flipped: buy entered at 2020-08-04 22:15:00 (Entry Price: 11237.48), exited at 2020-08-04T22:22:00.000000000 (Exit Price: 11238.62), Volume: 0.1025, P&L: -0.0000\n",
      "Trade flipped: sell entered at 2020-08-04 22:22:00 (Entry Price: 11238.62), exited at 2020-08-04T22:25:00.000000000 (Exit Price: 11235.84), Volume: 0.1025, P&L: 0.0000\n",
      "Trade flipped: buy entered at 2020-08-04 22:25:00 (Entry Price: 11235.84), exited at 2020-08-04T22:26:00.000000000 (Exit Price: 11240.00), Volume: 0.1025, P&L: 0.0000\n",
      "Trade flipped: sell entered at 2020-08-04 22:26:00 (Entry Price: 11240.00), exited at 2020-08-04T22:37:00.000000000 (Exit Price: 11230.23), Volume: 0.1025, P&L: 0.0001\n",
      "Trade executed: buy entered at 2020-08-04 22:37:00 (Entry Price: 11230.23), exited at 2020-08-04T22:57:00.000000000 (Exit Price: 11237.87), Volume: 0.1025, P&L: 0.0000\n",
      "Trade executed: buy entered at 2020-08-04 23:15:00 (Entry Price: 11217.35), exited at 2020-08-05T00:10:00.000000000 (Exit Price: 11223.96), Volume: 0.1025, P&L: 0.0000\n",
      "Trade executed: buy entered at 2020-08-05 01:18:00 (Entry Price: 11143.78), exited at 2020-08-05T01:38:00.000000000 (Exit Price: 11180.36), Volume: 0.1025, P&L: 0.0003\n",
      "Trade executed: buy entered at 2020-08-05 01:40:00 (Entry Price: 11178.54), exited at 2020-08-05T01:59:00.000000000 (Exit Price: 11192.83), Volume: 0.1025, P&L: 0.0001\n",
      "Trade flipped: buy entered at 2020-08-05 02:01:00 (Entry Price: 11189.89), exited at 2020-08-05T02:02:00.000000000 (Exit Price: 11194.99), Volume: 0.1025, P&L: 0.0000\n",
      "Trade flipped: sell entered at 2020-08-05 02:02:00 (Entry Price: 11194.99), exited at 2020-08-05T02:10:00.000000000 (Exit Price: 11187.67), Volume: 0.1025, P&L: 0.0000\n",
      "Trade flipped: buy entered at 2020-08-05 02:10:00 (Entry Price: 11187.67), exited at 2020-08-05T02:11:00.000000000 (Exit Price: 11196.96), Volume: 0.1025, P&L: 0.0001\n",
      "Trade flipped: sell entered at 2020-08-05 02:11:00 (Entry Price: 11196.96), exited at 2020-08-05T02:13:00.000000000 (Exit Price: 11189.52), Volume: 0.1025, P&L: 0.0000\n",
      "Trade executed: buy entered at 2020-08-05 02:13:00 (Entry Price: 11189.52), exited at 2020-08-05T02:14:00.000000000 (Exit Price: 11189.85), Volume: 0.1025, P&L: -0.0000\n",
      "Trade executed: sell entered at 2020-08-05 04:31:00 (Entry Price: 11250.53), exited at 2020-08-05T05:16:00.000000000 (Exit Price: 11248.00), Volume: 0.1025, P&L: 0.0000\n",
      "Trade executed: sell entered at 2020-08-05 07:01:00 (Entry Price: 11302.46), exited at 2020-08-05T07:04:00.000000000 (Exit Price: 11293.44), Volume: 0.1025, P&L: 0.0001\n",
      "Trade executed: sell entered at 2020-08-05 07:12:00 (Entry Price: 11308.55), exited at 2020-08-05T07:27:00.000000000 (Exit Price: 11307.74), Volume: 0.1025, P&L: -0.0000\n",
      "Trade executed: sell entered at 2020-08-05 08:01:00 (Entry Price: 11310.72), exited at 2020-08-05T08:25:00.000000000 (Exit Price: 11304.08), Volume: 0.1025, P&L: 0.0000\n",
      "Trade executed: sell entered at 2020-08-05 11:55:00 (Entry Price: 11426.34), exited at 2020-08-05T12:18:00.000000000 (Exit Price: 11417.20), Volume: 0.1025, P&L: 0.0001\n",
      "Trade executed: sell entered at 2020-08-05 12:35:00 (Entry Price: 11440.00), exited at 2020-08-05T14:22:00.000000000 (Exit Price: 11588.72), Volume: 0.1026, P&L: -0.0014\n",
      "Trade executed: sell entered at 2020-08-05 13:16:00 (Entry Price: 11580.44), exited at 2020-08-05T14:22:00.000000000 (Exit Price: 11588.72), Volume: 0.1026, P&L: -0.0001\n",
      "Trade executed: sell entered at 2020-08-05 20:30:00 (Entry Price: 11678.59), exited at 2020-08-05T20:42:00.000000000 (Exit Price: 11671.41), Volume: 0.1024, P&L: 0.0000\n",
      "Trade executed: sell entered at 2020-08-05 21:37:00 (Entry Price: 11785.42), exited at 2020-08-05T22:00:00.000000000 (Exit Price: 11748.19), Volume: 0.1024, P&L: 0.0003\n",
      "Trade executed: sell entered at 2020-08-05 21:06:00 (Entry Price: 11704.99), exited at 2020-08-05T22:02:00.000000000 (Exit Price: 11593.16), Volume: 0.1024, P&L: 0.0010\n",
      "Trade executed: buy entered at 2020-08-05 22:03:00 (Entry Price: 11589.70), exited at 2020-08-05T22:35:00.000000000 (Exit Price: 11665.43), Volume: 0.1025, P&L: 0.0006\n",
      "Trade executed: buy entered at 2020-08-05 22:42:00 (Entry Price: 11649.39), exited at 2020-08-05T23:28:00.000000000 (Exit Price: 11692.49), Volume: 0.1026, P&L: 0.0004\n",
      "Trade executed: sell entered at 2020-08-05 23:36:00 (Entry Price: 11701.09), exited at 2020-08-06T00:29:00.000000000 (Exit Price: 11705.32), Volume: 0.1026, P&L: -0.0001\n",
      "Trade executed: buy entered at 2020-08-06 05:42:00 (Entry Price: 11592.30), exited at 2020-08-06T05:57:00.000000000 (Exit Price: 11625.64), Volume: 0.1026, P&L: 0.0003\n",
      "Trade executed: buy entered at 2020-08-06 04:23:00 (Entry Price: 11632.78), exited at 2020-08-06T06:02:00.000000000 (Exit Price: 11644.98), Volume: 0.1026, P&L: 0.0001\n",
      "Trade executed: sell entered at 2020-08-06 06:52:00 (Entry Price: 11692.45), exited at 2020-08-06T07:01:00.000000000 (Exit Price: 11666.10), Volume: 0.1027, P&L: 0.0002\n",
      "Trade executed: sell entered at 2020-08-06 06:03:00 (Entry Price: 11655.73), exited at 2020-08-06T07:13:00.000000000 (Exit Price: 11658.89), Volume: 0.1027, P&L: -0.0000\n",
      "Trade executed: sell entered at 2020-08-06 09:50:00 (Entry Price: 11765.93), exited at 2020-08-06T10:07:00.000000000 (Exit Price: 11739.32), Volume: 0.1027, P&L: 0.0002\n",
      "Trade executed: sell entered at 2020-08-06 08:06:00 (Entry Price: 11676.55), exited at 2020-08-06T10:11:00.000000000 (Exit Price: 11729.29), Volume: 0.1027, P&L: -0.0005\n",
      "Trade executed: sell entered at 2020-08-06 08:54:00 (Entry Price: 11717.99), exited at 2020-08-06T10:11:00.000000000 (Exit Price: 11729.29), Volume: 0.1027, P&L: -0.0001\n",
      "Trade executed: sell entered at 2020-08-06 09:12:00 (Entry Price: 11738.00), exited at 2020-08-06T10:11:00.000000000 (Exit Price: 11729.29), Volume: 0.1027, P&L: 0.0001\n",
      "Trade executed: sell entered at 2020-08-06 12:43:00 (Entry Price: 11770.77), exited at 2020-08-06T14:45:00.000000000 (Exit Price: 11839.65), Volume: 0.1027, P&L: -0.0006\n",
      "Trade executed: buy entered at 2020-08-06 14:54:00 (Entry Price: 11788.06), exited at 2020-08-06T14:55:00.000000000 (Exit Price: 11808.51), Volume: 0.1026, P&L: 0.0002\n",
      "Trade executed: sell entered at 2020-08-06 15:06:00 (Entry Price: 11856.44), exited at 2020-08-06T15:11:00.000000000 (Exit Price: 11847.90), Volume: 0.1026, P&L: 0.0001\n",
      "Trade executed: sell entered at 2020-08-06 19:33:00 (Entry Price: 11904.35), exited at 2020-08-06T19:39:00.000000000 (Exit Price: 11866.34), Volume: 0.1026, P&L: 0.0003\n",
      "Trade executed: sell entered at 2020-08-06 19:41:00 (Entry Price: 11872.52), exited at 2020-08-06T19:47:00.000000000 (Exit Price: 11857.16), Volume: 0.1026, P&L: 0.0001\n",
      "Trade executed: buy entered at 2020-08-06 21:48:00 (Entry Price: 11650.51), exited at 2020-08-06T22:13:00.000000000 (Exit Price: 11766.46), Volume: 0.1027, P&L: 0.0010\n",
      "Trade executed: buy entered at 2020-08-06 21:45:00 (Entry Price: 11801.67), exited at 2020-08-07T00:14:00.000000000 (Exit Price: 11800.17), Volume: 0.1027, P&L: -0.0000\n",
      "Trade executed: buy entered at 2020-08-06 22:46:00 (Entry Price: 11770.89), exited at 2020-08-07T00:14:00.000000000 (Exit Price: 11800.17), Volume: 0.1028, P&L: 0.0002\n",
      "Trade executed: sell entered at 2020-08-07 01:08:00 (Entry Price: 11844.28), exited at 2020-08-07T02:04:00.000000000 (Exit Price: 11829.01), Volume: 0.1028, P&L: 0.0001\n",
      "Trade executed: sell entered at 2020-08-07 02:44:00 (Entry Price: 11896.96), exited at 2020-08-07T02:57:00.000000000 (Exit Price: 11865.00), Volume: 0.1028, P&L: 0.0003\n",
      "Trade executed: sell entered at 2020-08-07 02:08:00 (Entry Price: 11864.64), exited at 2020-08-07T03:16:00.000000000 (Exit Price: 11868.66), Volume: 0.1028, P&L: -0.0001\n",
      "Trade executed: sell entered at 2020-08-07 03:25:00 (Entry Price: 11873.81), exited at 2020-08-07T03:26:00.000000000 (Exit Price: 11869.63), Volume: 0.1028, P&L: 0.0000\n",
      "Trade executed: buy entered at 2020-08-07 05:20:00 (Entry Price: 11786.91), exited at 2020-08-07T06:17:00.000000000 (Exit Price: 11818.02), Volume: 0.1028, P&L: 0.0003\n",
      "Trade executed: sell entered at 2020-08-07 08:16:00 (Entry Price: 11822.69), exited at 2020-08-07T09:30:00.000000000 (Exit Price: 11819.00), Volume: 0.1028, P&L: 0.0000\n",
      "Trade executed: sell entered at 2020-08-07 08:54:00 (Entry Price: 11844.92), exited at 2020-08-07T09:30:00.000000000 (Exit Price: 11819.00), Volume: 0.1028, P&L: 0.0002\n",
      "Trade executed: buy entered at 2020-08-07 09:41:00 (Entry Price: 11812.74), exited at 2020-08-07T09:42:00.000000000 (Exit Price: 11817.10), Volume: 0.1029, P&L: 0.0000\n",
      "Trade executed: buy entered at 2020-08-07 12:26:00 (Entry Price: 11692.00), exited at 2020-08-07T12:48:00.000000000 (Exit Price: 11754.71), Volume: 0.1029, P&L: 0.0005\n",
      "Trade executed: buy entered at 2020-08-07 11:43:00 (Entry Price: 11751.95), exited at 2020-08-07T20:04:00.000000000 (Exit Price: 11527.75), Volume: 0.1029, P&L: -0.0020\n",
      "Trade executed: buy entered at 2020-08-07 15:32:00 (Entry Price: 11667.28), exited at 2020-08-07T20:04:00.000000000 (Exit Price: 11527.75), Volume: 0.1029, P&L: -0.0013\n",
      "Trade executed: buy entered at 2020-08-07 15:33:00 (Entry Price: 11665.06), exited at 2020-08-07T20:04:00.000000000 (Exit Price: 11527.75), Volume: 0.1029, P&L: -0.0012\n",
      "Trade executed: buy entered at 2020-08-07 15:41:00 (Entry Price: 11653.30), exited at 2020-08-07T20:04:00.000000000 (Exit Price: 11527.75), Volume: 0.1029, P&L: -0.0011\n",
      "Trade executed: buy entered at 2020-08-07 15:42:00 (Entry Price: 11654.99), exited at 2020-08-07T20:04:00.000000000 (Exit Price: 11527.75), Volume: 0.1029, P&L: -0.0011\n",
      "Trade executed: buy entered at 2020-08-07 18:06:00 (Entry Price: 11497.43), exited at 2020-08-07T20:04:00.000000000 (Exit Price: 11527.75), Volume: 0.1029, P&L: 0.0003\n",
      "Trade executed: sell entered at 2020-08-07 22:18:00 (Entry Price: 11623.25), exited at 2020-08-07T22:52:00.000000000 (Exit Price: 11595.93), Volume: 0.1023, P&L: 0.0002\n",
      "Trade executed: sell entered at 2020-08-07 22:56:00 (Entry Price: 11612.29), exited at 2020-08-07T22:57:00.000000000 (Exit Price: 11608.68), Volume: 0.1023, P&L: 0.0000\n",
      "Trade executed: sell entered at 2020-08-07 23:04:00 (Entry Price: 11628.00), exited at 2020-08-07T23:18:00.000000000 (Exit Price: 11612.48), Volume: 0.1023, P&L: 0.0001\n",
      "Trade executed: sell entered at 2020-08-07 23:21:00 (Entry Price: 11618.90), exited at 2020-08-07T23:23:00.000000000 (Exit Price: 11610.00), Volume: 0.1023, P&L: 0.0001\n",
      "Trade executed: buy entered at 2020-08-08 00:10:00 (Entry Price: 11580.75), exited at 2020-08-08T00:37:00.000000000 (Exit Price: 11601.87), Volume: 0.1023, P&L: 0.0002\n",
      "Trade executed: sell entered at 2020-08-08 01:37:00 (Entry Price: 11647.27), exited at 2020-08-08T01:50:00.000000000 (Exit Price: 11613.45), Volume: 0.1023, P&L: 0.0003\n",
      "Trade executed: sell entered at 2020-08-08 00:38:00 (Entry Price: 11611.61), exited at 2020-08-08T01:51:00.000000000 (Exit Price: 11613.15), Volume: 0.1023, P&L: -0.0000\n",
      "Trade executed: buy entered at 2020-08-08 04:16:00 (Entry Price: 11562.00), exited at 2020-08-08T05:29:00.000000000 (Exit Price: 11581.87), Volume: 0.1023, P&L: 0.0002\n",
      "Trade executed: sell entered at 2020-08-08 05:30:00 (Entry Price: 11583.83), exited at 2020-08-08T06:50:00.000000000 (Exit Price: 11596.26), Volume: 0.1024, P&L: -0.0001\n",
      "Trade executed: sell entered at 2020-08-08 06:30:00 (Entry Price: 11611.96), exited at 2020-08-08T06:50:00.000000000 (Exit Price: 11596.26), Volume: 0.1024, P&L: 0.0001\n",
      "Trade executed: sell entered at 2020-08-08 07:00:00 (Entry Price: 11603.64), exited at 2020-08-08T07:01:00.000000000 (Exit Price: 11598.42), Volume: 0.1024, P&L: 0.0000\n",
      "Trade flipped: buy entered at 2020-08-08 09:01:00 (Entry Price: 11595.49), exited at 2020-08-08T09:02:00.000000000 (Exit Price: 11600.95), Volume: 0.1024, P&L: 0.0000\n",
      "Trade executed: sell entered at 2020-08-08 09:02:00 (Entry Price: 11600.95), exited at 2020-08-08T10:55:00.000000000 (Exit Price: 11734.92), Volume: 0.1024, P&L: -0.0012\n",
      "Trade executed: sell entered at 2020-08-08 09:31:00 (Entry Price: 11676.52), exited at 2020-08-08T10:55:00.000000000 (Exit Price: 11734.92), Volume: 0.1024, P&L: -0.0005\n",
      "Trade executed: sell entered at 2020-08-08 12:05:00 (Entry Price: 11772.26), exited at 2020-08-08T12:24:00.000000000 (Exit Price: 11770.54), Volume: 0.1022, P&L: -0.0000\n",
      "Trade executed: sell entered at 2020-08-08 12:56:00 (Entry Price: 11775.94), exited at 2020-08-08T13:02:00.000000000 (Exit Price: 11771.13), Volume: 0.1022, P&L: 0.0000\n",
      "Trade executed: buy entered at 2020-08-08 14:07:00 (Entry Price: 11737.22), exited at 2020-08-08T15:01:00.000000000 (Exit Price: 11758.01), Volume: 0.1022, P&L: 0.0002\n",
      "Trade executed: sell entered at 2020-08-08 15:03:00 (Entry Price: 11764.00), exited at 2020-08-08T15:45:00.000000000 (Exit Price: 11752.39), Volume: 0.1022, P&L: 0.0001\n",
      "Trade executed: buy entered at 2020-08-08 16:08:00 (Entry Price: 11689.06), exited at 2020-08-08T17:45:00.000000000 (Exit Price: 11714.99), Volume: 0.1022, P&L: 0.0002\n",
      "Trade executed: sell entered at 2020-08-08 19:38:00 (Entry Price: 11716.81), exited at 2020-08-08T20:20:00.000000000 (Exit Price: 11691.97), Volume: 0.1022, P&L: 0.0002\n",
      "Trade executed: sell entered at 2020-08-08 20:25:00 (Entry Price: 11698.81), exited at 2020-08-08T20:27:00.000000000 (Exit Price: 11693.74), Volume: 0.1023, P&L: 0.0000\n",
      "Trade executed: buy entered at 2020-08-08 20:35:00 (Entry Price: 11675.52), exited at 2020-08-08T20:40:00.000000000 (Exit Price: 11699.48), Volume: 0.1023, P&L: 0.0002\n",
      "Trade executed: sell entered at 2020-08-08 22:10:00 (Entry Price: 11750.55), exited at 2020-08-08T22:31:00.000000000 (Exit Price: 11755.63), Volume: 0.1023, P&L: -0.0001\n",
      "Trade executed: buy entered at 2020-08-08 22:48:00 (Entry Price: 11730.59), exited at 2020-08-08T22:49:00.000000000 (Exit Price: 11738.05), Volume: 0.1023, P&L: 0.0000\n",
      "Trade executed: buy entered at 2020-08-08 23:14:00 (Entry Price: 11705.71), exited at 2020-08-08T23:28:00.000000000 (Exit Price: 11746.99), Volume: 0.1023, P&L: 0.0003\n",
      "Trade executed: sell entered at 2020-08-09 00:00:00 (Entry Price: 11782.22), exited at 2020-08-09T00:59:00.000000000 (Exit Price: 11762.71), Volume: 0.1023, P&L: 0.0001\n",
      "Trade executed: buy entered at 2020-08-09 01:43:00 (Entry Price: 11715.15), exited at 2020-08-09T03:06:00.000000000 (Exit Price: 11745.00), Volume: 0.1023, P&L: 0.0002\n",
      "Trade executed: sell entered at 2020-08-09 03:29:00 (Entry Price: 11769.00), exited at 2020-08-09T03:51:00.000000000 (Exit Price: 11740.09), Volume: 0.1023, P&L: 0.0002\n",
      "Trade executed: sell entered at 2020-08-09 03:56:00 (Entry Price: 11753.15), exited at 2020-08-09T03:59:00.000000000 (Exit Price: 11739.80), Volume: 0.1024, P&L: 0.0001\n",
      "Trade executed: buy entered at 2020-08-09 04:56:00 (Entry Price: 11694.84), exited at 2020-08-09T05:03:00.000000000 (Exit Price: 11719.01), Volume: 0.1024, P&L: 0.0002\n",
      "Trade executed: buy entered at 2020-08-09 05:57:00 (Entry Price: 11669.99), exited at 2020-08-09T06:33:00.000000000 (Exit Price: 11688.99), Volume: 0.1024, P&L: 0.0001\n",
      "Trade executed: buy entered at 2020-08-09 05:04:00 (Entry Price: 11713.94), exited at 2020-08-09T07:13:00.000000000 (Exit Price: 11702.51), Volume: 0.1024, P&L: -0.0001\n",
      "Trade executed: buy entered at 2020-08-09 09:51:00 (Entry Price: 11671.15), exited at 2020-08-09T11:03:00.000000000 (Exit Price: 11685.00), Volume: 0.1024, P&L: 0.0001\n",
      "Trade executed: sell entered at 2020-08-09 11:07:00 (Entry Price: 11693.53), exited at 2020-08-09T12:01:00.000000000 (Exit Price: 11679.01), Volume: 0.1024, P&L: 0.0001\n",
      "Trade executed: buy entered at 2020-08-09 13:04:00 (Entry Price: 11622.57), exited at 2020-08-09T13:11:00.000000000 (Exit Price: 11663.47), Volume: 0.1024, P&L: 0.0003\n",
      "Trade flipped: buy entered at 2020-08-09 12:48:00 (Entry Price: 11654.00), exited at 2020-08-09T13:12:00.000000000 (Exit Price: 11674.61), Volume: 0.1024, P&L: 0.0002\n",
      "Trade executed: sell entered at 2020-08-09 13:12:00 (Entry Price: 11674.61), exited at 2020-08-09T13:34:00.000000000 (Exit Price: 11653.29), Volume: 0.1025, P&L: 0.0002\n",
      "Trade executed: buy entered at 2020-08-09 13:38:00 (Entry Price: 11631.12), exited at 2020-08-09T16:10:00.000000000 (Exit Price: 11634.05), Volume: 0.1025, P&L: 0.0000\n",
      "Trade executed: buy entered at 2020-08-09 14:09:00 (Entry Price: 11589.99), exited at 2020-08-09T16:10:00.000000000 (Exit Price: 11634.05), Volume: 0.1025, P&L: 0.0004\n",
      "Trade executed: buy entered at 2020-08-09 17:33:00 (Entry Price: 11575.01), exited at 2020-08-09T18:31:00.000000000 (Exit Price: 11591.74), Volume: 0.1025, P&L: 0.0001\n",
      "Trade executed: sell entered at 2020-08-09 18:43:00 (Entry Price: 11620.00), exited at 2020-08-09T19:54:00.000000000 (Exit Price: 11629.13), Volume: 0.1025, P&L: -0.0001\n",
      "Trade executed: buy entered at 2020-08-09 21:33:00 (Entry Price: 11635.00), exited at 2020-08-09T21:38:00.000000000 (Exit Price: 11646.74), Volume: 0.1025, P&L: 0.0001\n",
      "Trade executed: buy entered at 2020-08-09 21:43:00 (Entry Price: 11643.38), exited at 2020-08-09T21:54:00.000000000 (Exit Price: 11651.58), Volume: 0.1025, P&L: 0.0001\n",
      "Trade executed: sell entered at 2020-08-09 22:19:00 (Entry Price: 11695.70), exited at 2020-08-09T22:44:00.000000000 (Exit Price: 11658.60), Volume: 0.1025, P&L: 0.0003\n",
      "Trade executed: sell entered at 2020-08-09 22:47:00 (Entry Price: 11667.00), exited at 2020-08-09T23:33:00.000000000 (Exit Price: 11675.00), Volume: 0.1026, P&L: -0.0001\n",
      "Trade executed: sell entered at 2020-08-10 01:54:00 (Entry Price: 11788.34), exited at 2020-08-10T03:39:00.000000000 (Exit Price: 12023.80), Volume: 0.1026, P&L: -0.0021\n",
      "Trade executed: sell entered at 2020-08-10 01:56:00 (Entry Price: 11870.53), exited at 2020-08-10T03:39:00.000000000 (Exit Price: 12023.80), Volume: 0.1026, P&L: -0.0013\n",
      "Trade executed: sell entered at 2020-08-10 02:41:00 (Entry Price: 12032.96), exited at 2020-08-10T03:39:00.000000000 (Exit Price: 12023.80), Volume: 0.1026, P&L: 0.0001\n",
      "Trade executed: sell entered at 2020-08-10 03:00:00 (Entry Price: 12038.72), exited at 2020-08-10T03:39:00.000000000 (Exit Price: 12023.80), Volume: 0.1026, P&L: 0.0001\n",
      "Trade executed: buy entered at 2020-08-10 07:51:00 (Entry Price: 11978.97), exited at 2020-08-10T08:00:00.000000000 (Exit Price: 12003.80), Volume: 0.1022, P&L: 0.0002\n",
      "Trade executed: sell entered at 2020-08-10 08:01:00 (Entry Price: 12001.23), exited at 2020-08-10T08:05:00.000000000 (Exit Price: 11988.03), Volume: 0.1023, P&L: 0.0001\n",
      "Trade executed: buy entered at 2020-08-10 08:09:00 (Entry Price: 11976.31), exited at 2020-08-10T08:17:00.000000000 (Exit Price: 11999.02), Volume: 0.1023, P&L: 0.0002\n",
      "Trade executed: sell entered at 2020-08-10 08:18:00 (Entry Price: 11996.00), exited at 2020-08-10T08:48:00.000000000 (Exit Price: 11988.89), Volume: 0.1023, P&L: 0.0000\n",
      "Trade executed: buy entered at 2020-08-10 09:07:00 (Entry Price: 11981.55), exited at 2020-08-10T09:11:00.000000000 (Exit Price: 11997.88), Volume: 0.1023, P&L: 0.0001\n",
      "Trade executed: buy entered at 2020-08-10 10:29:00 (Entry Price: 11531.16), exited at 2020-08-10T11:01:00.000000000 (Exit Price: 11710.83), Volume: 0.1023, P&L: 0.0016\n",
      "Trade executed: buy entered at 2020-08-10 12:04:00 (Entry Price: 11718.47), exited at 2020-08-10T12:15:00.000000000 (Exit Price: 11754.61), Volume: 0.1025, P&L: 0.0003\n",
      "Trade executed: sell entered at 2020-08-10 13:54:00 (Entry Price: 11902.61), exited at 2020-08-10T14:10:00.000000000 (Exit Price: 11894.01), Volume: 0.1025, P&L: 0.0001\n",
      "Trade executed: sell entered at 2020-08-10 14:15:00 (Entry Price: 11911.31), exited at 2020-08-10T14:42:00.000000000 (Exit Price: 11900.20), Volume: 0.1025, P&L: 0.0001\n",
      "Trade executed: sell entered at 2020-08-10 15:59:00 (Entry Price: 11930.80), exited at 2020-08-10T16:22:00.000000000 (Exit Price: 11888.00), Volume: 0.1025, P&L: 0.0003\n",
      "Trade executed: buy entered at 2020-08-10 16:42:00 (Entry Price: 11877.01), exited at 2020-08-10T18:15:00.000000000 (Exit Price: 11907.98), Volume: 0.1025, P&L: 0.0002\n",
      "Trade executed: buy entered at 2020-08-10 20:51:00 (Entry Price: 11807.87), exited at 2020-08-10T20:57:00.000000000 (Exit Price: 11863.72), Volume: 0.1026, P&L: 0.0005\n",
      "Trade executed: buy entered at 2020-08-10 20:57:00 (Entry Price: 11863.72), exited at 2020-08-10T23:12:00.000000000 (Exit Price: 11834.02), Volume: 0.1026, P&L: -0.0003\n",
      "Trade executed: buy entered at 2020-08-10 21:46:00 (Entry Price: 11821.89), exited at 2020-08-10T23:12:00.000000000 (Exit Price: 11834.02), Volume: 0.1026, P&L: 0.0001\n",
      "Trade executed: buy entered at 2020-08-10 22:05:00 (Entry Price: 11807.76), exited at 2020-08-10T23:12:00.000000000 (Exit Price: 11834.02), Volume: 0.1026, P&L: 0.0002\n",
      "Trade executed: sell entered at 2020-08-11 01:32:00 (Entry Price: 11913.17), exited at 2020-08-11T02:04:00.000000000 (Exit Price: 11886.00), Volume: 0.1026, P&L: 0.0002\n",
      "Trade executed: sell entered at 2020-08-11 02:05:00 (Entry Price: 11897.85), exited at 2020-08-11T02:06:00.000000000 (Exit Price: 11894.14), Volume: 0.1026, P&L: 0.0000\n",
      "Trade executed: sell entered at 2020-08-11 02:12:00 (Entry Price: 11913.67), exited at 2020-08-11T02:23:00.000000000 (Exit Price: 11902.58), Volume: 0.1026, P&L: 0.0001\n",
      "Trade executed: sell entered at 2020-08-11 02:25:00 (Entry Price: 11906.01), exited at 2020-08-11T02:26:00.000000000 (Exit Price: 11900.95), Volume: 0.1026, P&L: 0.0000\n",
      "Trade executed: buy entered at 2020-08-11 03:00:00 (Entry Price: 11863.75), exited at 2020-08-11T05:42:00.000000000 (Exit Price: 11860.12), Volume: 0.1026, P&L: -0.0001\n",
      "Trade executed: buy entered at 2020-08-11 04:30:00 (Entry Price: 11840.34), exited at 2020-08-11T05:42:00.000000000 (Exit Price: 11860.12), Volume: 0.1026, P&L: 0.0002\n",
      "Trade flipped: buy entered at 2020-08-11 05:55:00 (Entry Price: 11850.00), exited at 2020-08-11T05:56:00.000000000 (Exit Price: 11854.00), Volume: 0.1026, P&L: 0.0000\n",
      "Trade executed: sell entered at 2020-08-11 05:56:00 (Entry Price: 11854.00), exited at 2020-08-11T06:12:00.000000000 (Exit Price: 11841.17), Volume: 0.1026, P&L: 0.0001\n",
      "Trade executed: buy entered at 2020-08-11 07:25:00 (Entry Price: 11744.45), exited at 2020-08-11T08:16:00.000000000 (Exit Price: 11777.00), Volume: 0.1027, P&L: 0.0003\n",
      "Trade executed: buy entered at 2020-08-11 06:13:00 (Entry Price: 11845.34), exited at 2020-08-11T09:16:00.000000000 (Exit Price: 11775.20), Volume: 0.1027, P&L: -0.0006\n",
      "Trade executed: buy entered at 2020-08-11 06:25:00 (Entry Price: 11788.00), exited at 2020-08-11T09:16:00.000000000 (Exit Price: 11775.20), Volume: 0.1027, P&L: -0.0001\n",
      "Trade executed: buy entered at 2020-08-11 08:28:00 (Entry Price: 11741.70), exited at 2020-08-11T09:16:00.000000000 (Exit Price: 11775.20), Volume: 0.1027, P&L: 0.0003\n",
      "Trade executed: buy entered at 2020-08-11 10:09:00 (Entry Price: 11705.76), exited at 2020-08-11T10:52:00.000000000 (Exit Price: 11729.73), Volume: 0.1026, P&L: 0.0002\n",
      "Trade executed: buy entered at 2020-08-11 13:19:00 (Entry Price: 11641.98), exited at 2020-08-11T17:37:00.000000000 (Exit Price: 11522.00), Volume: 0.1027, P&L: -0.0011\n",
      "Trade executed: buy entered at 2020-08-11 15:49:00 (Entry Price: 11534.01), exited at 2020-08-11T17:37:00.000000000 (Exit Price: 11522.00), Volume: 0.1027, P&L: -0.0001\n",
      "Trade executed: sell entered at 2020-08-11 17:46:00 (Entry Price: 11525.00), exited at 2020-08-11T18:17:00.000000000 (Exit Price: 11477.60), Volume: 0.1025, P&L: 0.0004\n",
      "Trade executed: buy entered at 2020-08-11 19:13:00 (Entry Price: 11445.35), exited at 2020-08-11T19:14:00.000000000 (Exit Price: 11494.01), Volume: 0.1026, P&L: 0.0004\n",
      "Trade executed: buy entered at 2020-08-11 20:19:00 (Entry Price: 11220.46), exited at 2020-08-11T21:38:00.000000000 (Exit Price: 11365.20), Volume: 0.1026, P&L: 0.0013\n",
      "Trade flipped: sell entered at 2020-08-11 21:39:00 (Entry Price: 11367.23), exited at 2020-08-11T21:40:00.000000000 (Exit Price: 11349.08), Volume: 0.1027, P&L: 0.0001\n",
      "Trade flipped: buy entered at 2020-08-11 21:40:00 (Entry Price: 11349.08), exited at 2020-08-11T21:41:00.000000000 (Exit Price: 11356.31), Volume: 0.1028, P&L: 0.0000\n",
      "Trade flipped: sell entered at 2020-08-11 21:41:00 (Entry Price: 11356.31), exited at 2020-08-11T21:56:00.000000000 (Exit Price: 11332.94), Volume: 0.1028, P&L: 0.0002\n",
      "Trade executed: buy entered at 2020-08-11 21:56:00 (Entry Price: 11332.94), exited at 2020-08-11T22:13:00.000000000 (Exit Price: 11368.80), Volume: 0.1028, P&L: 0.0003\n",
      "Trade executed: buy entered at 2020-08-12 02:59:00 (Entry Price: 11253.56), exited at 2020-08-12T03:14:00.000000000 (Exit Price: 11293.00), Volume: 0.1028, P&L: 0.0003\n",
      "Trade executed: sell entered at 2020-08-12 03:53:00 (Entry Price: 11362.53), exited at 2020-08-12T04:30:00.000000000 (Exit Price: 11323.05), Volume: 0.1028, P&L: 0.0003\n",
      "Trade executed: sell entered at 2020-08-12 05:14:00 (Entry Price: 11342.90), exited at 2020-08-12T05:16:00.000000000 (Exit Price: 11337.80), Volume: 0.1029, P&L: 0.0000\n",
      "Trade executed: buy entered at 2020-08-12 05:52:00 (Entry Price: 11292.43), exited at 2020-08-12T06:20:00.000000000 (Exit Price: 11320.00), Volume: 0.1029, P&L: 0.0002\n",
      "Trade executed: buy entered at 2020-08-12 06:01:00 (Entry Price: 11258.62), exited at 2020-08-12T06:20:00.000000000 (Exit Price: 11320.00), Volume: 0.1029, P&L: 0.0005\n",
      "Trade executed: sell entered at 2020-08-12 06:32:00 (Entry Price: 11314.64), exited at 2020-08-12T08:54:00.000000000 (Exit Price: 11428.77), Volume: 0.1030, P&L: -0.0011\n",
      "Trade executed: sell entered at 2020-08-12 07:40:00 (Entry Price: 11395.82), exited at 2020-08-12T08:54:00.000000000 (Exit Price: 11428.77), Volume: 0.1030, P&L: -0.0003\n",
      "Trade executed: sell entered at 2020-08-12 08:17:00 (Entry Price: 11437.64), exited at 2020-08-12T08:54:00.000000000 (Exit Price: 11428.77), Volume: 0.1030, P&L: 0.0001\n",
      "Trade executed: sell entered at 2020-08-12 08:21:00 (Entry Price: 11459.99), exited at 2020-08-12T08:54:00.000000000 (Exit Price: 11428.77), Volume: 0.1030, P&L: 0.0003\n",
      "Trade executed: sell entered at 2020-08-12 08:22:00 (Entry Price: 11469.13), exited at 2020-08-12T08:54:00.000000000 (Exit Price: 11428.77), Volume: 0.1030, P&L: 0.0003\n",
      "Trade executed: sell entered at 2020-08-12 09:03:00 (Entry Price: 11464.02), exited at 2020-08-12T09:17:00.000000000 (Exit Price: 11452.00), Volume: 0.1029, P&L: 0.0001\n",
      "Trade executed: sell entered at 2020-08-12 09:24:00 (Entry Price: 11459.90), exited at 2020-08-12T09:32:00.000000000 (Exit Price: 11454.47), Volume: 0.1029, P&L: 0.0000\n",
      "Trade executed: sell entered at 2020-08-12 11:06:00 (Entry Price: 11508.61), exited at 2020-08-12T11:08:00.000000000 (Exit Price: 11499.65), Volume: 0.1029, P&L: 0.0001\n",
      "Trade executed: buy entered at 2020-08-12 11:45:00 (Entry Price: 11475.00), exited at 2020-08-12T12:28:00.000000000 (Exit Price: 11484.97), Volume: 0.1029, P&L: 0.0001\n",
      "Trade executed: sell entered at 2020-08-12 14:53:00 (Entry Price: 11580.19), exited at 2020-08-12T15:30:00.000000000 (Exit Price: 11570.00), Volume: 0.1029, P&L: 0.0001\n",
      "Trade executed: sell entered at 2020-08-12 16:24:00 (Entry Price: 11594.84), exited at 2020-08-12T16:26:00.000000000 (Exit Price: 11573.56), Volume: 0.1029, P&L: 0.0002\n",
      "Trade executed: buy entered at 2020-08-12 16:33:00 (Entry Price: 11559.05), exited at 2020-08-12T16:34:00.000000000 (Exit Price: 11559.96), Volume: 0.1029, P&L: -0.0000\n",
      "Trade executed: buy entered at 2020-08-12 17:10:00 (Entry Price: 11532.87), exited at 2020-08-12T19:11:00.000000000 (Exit Price: 11544.79), Volume: 0.1029, P&L: 0.0001\n",
      "Trade executed: sell entered at 2020-08-12 19:29:00 (Entry Price: 11565.88), exited at 2020-08-12T20:20:00.000000000 (Exit Price: 11555.00), Volume: 0.1029, P&L: 0.0001\n",
      "Trade executed: buy entered at 2020-08-12 22:05:00 (Entry Price: 11532.99), exited at 2020-08-12T22:06:00.000000000 (Exit Price: 11569.47), Volume: 0.1030, P&L: 0.0003\n",
      "Trade executed: sell entered at 2020-08-12 22:07:00 (Entry Price: 11571.05), exited at 2020-08-12T22:41:00.000000000 (Exit Price: 11550.64), Volume: 0.1030, P&L: 0.0002\n",
      "Trade executed: sell entered at 2020-08-12 23:08:00 (Entry Price: 11572.48), exited at 2020-08-13T00:00:00.000000000 (Exit Price: 11562.03), Volume: 0.1030, P&L: 0.0001\n",
      "Trade executed: sell entered at 2020-08-13 00:39:00 (Entry Price: 11655.90), exited at 2020-08-13T01:07:00.000000000 (Exit Price: 11626.31), Volume: 0.1030, P&L: 0.0002\n",
      "Trade executed: sell entered at 2020-08-13 00:50:00 (Entry Price: 11656.65), exited at 2020-08-13T01:07:00.000000000 (Exit Price: 11626.31), Volume: 0.1030, P&L: 0.0002\n",
      "Trade executed: sell entered at 2020-08-13 00:05:00 (Entry Price: 11587.85), exited at 2020-08-13T01:14:00.000000000 (Exit Price: 11617.86), Volume: 0.1030, P&L: -0.0003\n",
      "Trade executed: sell entered at 2020-08-13 01:07:00 (Entry Price: 11626.31), exited at 2020-08-13T01:14:00.000000000 (Exit Price: 11617.86), Volume: 0.1031, P&L: 0.0001\n",
      "Trade executed: sell entered at 2020-08-13 01:15:00 (Entry Price: 11632.00), exited at 2020-08-13T01:25:00.000000000 (Exit Price: 11619.60), Volume: 0.1030, P&L: 0.0001\n",
      "Trade executed: sell entered at 2020-08-13 01:29:00 (Entry Price: 11629.11), exited at 2020-08-13T01:30:00.000000000 (Exit Price: 11623.41), Volume: 0.1030, P&L: 0.0000\n",
      "Trade executed: sell entered at 2020-08-13 02:08:00 (Entry Price: 11631.66), exited at 2020-08-13T02:09:00.000000000 (Exit Price: 11625.17), Volume: 0.1030, P&L: 0.0000\n",
      "Trade executed: buy entered at 2020-08-13 03:24:00 (Entry Price: 11552.00), exited at 2020-08-13T04:04:00.000000000 (Exit Price: 11594.27), Volume: 0.1030, P&L: 0.0004\n",
      "Trade executed: buy entered at 2020-08-13 02:34:00 (Entry Price: 11584.98), exited at 2020-08-13T04:22:00.000000000 (Exit Price: 11593.71), Volume: 0.1030, P&L: 0.0001\n",
      "Trade flipped: buy entered at 2020-08-13 06:32:00 (Entry Price: 11550.15), exited at 2020-08-13T06:34:00.000000000 (Exit Price: 11554.41), Volume: 0.1031, P&L: 0.0000\n",
      "Trade flipped: sell entered at 2020-08-13 06:34:00 (Entry Price: 11554.41), exited at 2020-08-13T06:43:00.000000000 (Exit Price: 11551.82), Volume: 0.1031, P&L: 0.0000\n",
      "Trade flipped: buy entered at 2020-08-13 06:43:00 (Entry Price: 11551.82), exited at 2020-08-13T06:44:00.000000000 (Exit Price: 11557.04), Volume: 0.1031, P&L: 0.0000\n",
      "Trade executed: sell entered at 2020-08-13 06:44:00 (Entry Price: 11557.04), exited at 2020-08-13T07:12:00.000000000 (Exit Price: 11542.00), Volume: 0.1031, P&L: 0.0001\n",
      "Trade executed: buy entered at 2020-08-13 07:13:00 (Entry Price: 11539.32), exited at 2020-08-13T07:28:00.000000000 (Exit Price: 11550.72), Volume: 0.1031, P&L: 0.0001\n",
      "Trade executed: buy entered at 2020-08-13 07:29:00 (Entry Price: 11550.05), exited at 2020-08-13T10:53:00.000000000 (Exit Price: 11420.51), Volume: 0.1031, P&L: -0.0012\n",
      "Trade executed: buy entered at 2020-08-13 07:55:00 (Entry Price: 11501.59), exited at 2020-08-13T10:53:00.000000000 (Exit Price: 11420.51), Volume: 0.1031, P&L: -0.0007\n",
      "Trade executed: buy entered at 2020-08-13 09:02:00 (Entry Price: 11399.27), exited at 2020-08-13T10:53:00.000000000 (Exit Price: 11420.51), Volume: 0.1031, P&L: 0.0002\n",
      "Trade executed: buy entered at 2020-08-13 09:03:00 (Entry Price: 11387.48), exited at 2020-08-13T10:53:00.000000000 (Exit Price: 11420.51), Volume: 0.1031, P&L: 0.0003\n",
      "Trade executed: buy entered at 2020-08-13 12:34:00 (Entry Price: 11431.71), exited at 2020-08-13T12:39:00.000000000 (Exit Price: 11461.05), Volume: 0.1030, P&L: 0.0002\n",
      "Trade executed: buy entered at 2020-08-13 12:41:00 (Entry Price: 11450.39), exited at 2020-08-13T12:45:00.000000000 (Exit Price: 11467.09), Volume: 0.1030, P&L: 0.0001\n",
      "Trade executed: buy entered at 2020-08-13 12:46:00 (Entry Price: 11461.00), exited at 2020-08-13T12:47:00.000000000 (Exit Price: 11463.86), Volume: 0.1030, P&L: 0.0000\n",
      "Trade executed: buy entered at 2020-08-13 12:50:00 (Entry Price: 11454.93), exited at 2020-08-13T12:53:00.000000000 (Exit Price: 11475.54), Volume: 0.1030, P&L: 0.0002\n",
      "Trade flipped: buy entered at 2020-08-13 13:19:00 (Entry Price: 11473.24), exited at 2020-08-13T13:20:00.000000000 (Exit Price: 11489.99), Volume: 0.1030, P&L: 0.0001\n",
      "Trade flipped: sell entered at 2020-08-13 13:20:00 (Entry Price: 11489.99), exited at 2020-08-13T13:30:00.000000000 (Exit Price: 11470.67), Volume: 0.1030, P&L: 0.0002\n",
      "Trade executed: buy entered at 2020-08-13 13:30:00 (Entry Price: 11470.67), exited at 2020-08-13T13:36:00.000000000 (Exit Price: 11499.98), Volume: 0.1030, P&L: 0.0002\n",
      "Trade flipped: sell entered at 2020-08-13 13:38:00 (Entry Price: 11499.58), exited at 2020-08-13T14:07:00.000000000 (Exit Price: 11502.31), Volume: 0.1031, P&L: -0.0000\n",
      "Trade executed: buy entered at 2020-08-13 14:07:00 (Entry Price: 11502.31), exited at 2020-08-13T14:22:00.000000000 (Exit Price: 11520.03), Volume: 0.1031, P&L: 0.0001\n",
      "Trade executed: sell entered at 2020-08-13 16:52:00 (Entry Price: 11535.98), exited at 2020-08-13T17:34:00.000000000 (Exit Price: 11505.28), Volume: 0.1031, P&L: 0.0003\n",
      "Trade executed: sell entered at 2020-08-13 20:51:00 (Entry Price: 11608.86), exited at 2020-08-13T22:59:00.000000000 (Exit Price: 11729.21), Volume: 0.1031, P&L: -0.0011\n",
      "Trade executed: sell entered at 2020-08-13 21:01:00 (Entry Price: 11708.84), exited at 2020-08-13T22:59:00.000000000 (Exit Price: 11729.21), Volume: 0.1031, P&L: -0.0002\n",
      "Trade executed: sell entered at 2020-08-13 21:55:00 (Entry Price: 11703.36), exited at 2020-08-13T22:59:00.000000000 (Exit Price: 11729.21), Volume: 0.1031, P&L: -0.0002\n",
      "Trade executed: sell entered at 2020-08-13 22:44:00 (Entry Price: 11756.98), exited at 2020-08-13T22:59:00.000000000 (Exit Price: 11729.21), Volume: 0.1031, P&L: 0.0002\n",
      "Trade executed: sell entered at 2020-08-14 02:03:00 (Entry Price: 11771.76), exited at 2020-08-14T02:04:00.000000000 (Exit Price: 11763.23), Volume: 0.1030, P&L: 0.0001\n",
      "Trade flipped: buy entered at 2020-08-14 02:37:00 (Entry Price: 11753.56), exited at 2020-08-14T04:01:00.000000000 (Exit Price: 11757.59), Volume: 0.1030, P&L: 0.0000\n",
      "Trade flipped: sell entered at 2020-08-14 04:01:00 (Entry Price: 11757.59), exited at 2020-08-14T04:02:00.000000000 (Exit Price: 11748.10), Volume: 0.1030, P&L: 0.0001\n",
      "Trade executed: buy entered at 2020-08-14 04:02:00 (Entry Price: 11748.10), exited at 2020-08-14T04:03:00.000000000 (Exit Price: 11756.99), Volume: 0.1030, P&L: 0.0001\n",
      "Trade executed: sell entered at 2020-08-14 04:07:00 (Entry Price: 11766.71), exited at 2020-08-14T04:23:00.000000000 (Exit Price: 11737.95), Volume: 0.1030, P&L: 0.0002\n",
      "Trade executed: buy entered at 2020-08-14 06:57:00 (Entry Price: 11687.01), exited at 2020-08-14T07:54:00.000000000 (Exit Price: 11704.91), Volume: 0.1030, P&L: 0.0001\n",
      "Trade executed: buy entered at 2020-08-14 08:35:00 (Entry Price: 11690.01), exited at 2020-08-14T09:14:00.000000000 (Exit Price: 11704.36), Volume: 0.1030, P&L: 0.0001\n",
      "Trade executed: sell entered at 2020-08-14 09:15:00 (Entry Price: 11712.00), exited at 2020-08-14T09:17:00.000000000 (Exit Price: 11706.38), Volume: 0.1030, P&L: 0.0000\n",
      "Trade executed: sell entered at 2020-08-14 09:56:00 (Entry Price: 11710.70), exited at 2020-08-14T11:00:00.000000000 (Exit Price: 11714.45), Volume: 0.1030, P&L: -0.0001\n",
      "Trade executed: buy entered at 2020-08-14 11:01:00 (Entry Price: 11708.33), exited at 2020-08-14T11:02:00.000000000 (Exit Price: 11719.99), Volume: 0.1030, P&L: 0.0001\n",
      "Trade executed: sell entered at 2020-08-14 11:03:00 (Entry Price: 11730.00), exited at 2020-08-14T11:07:00.000000000 (Exit Price: 11722.51), Volume: 0.1030, P&L: 0.0000\n",
      "Trade executed: sell entered at 2020-08-14 11:08:00 (Entry Price: 11727.11), exited at 2020-08-14T11:10:00.000000000 (Exit Price: 11721.61), Volume: 0.1031, P&L: 0.0000\n",
      "Trade executed: sell entered at 2020-08-14 11:11:00 (Entry Price: 11739.98), exited at 2020-08-14T11:28:00.000000000 (Exit Price: 11732.47), Volume: 0.1031, P&L: 0.0000\n",
      "Trade executed: sell entered at 2020-08-14 11:53:00 (Entry Price: 11768.49), exited at 2020-08-14T12:09:00.000000000 (Exit Price: 11740.61), Volume: 0.1031, P&L: 0.0002\n",
      "Trade executed: buy entered at 2020-08-14 12:28:00 (Entry Price: 11727.91), exited at 2020-08-14T12:29:00.000000000 (Exit Price: 11737.96), Volume: 0.1031, P&L: 0.0001\n",
      "Trade executed: buy entered at 2020-08-14 14:12:00 (Entry Price: 11673.58), exited at 2020-08-14T14:38:00.000000000 (Exit Price: 11704.00), Volume: 0.1031, P&L: 0.0002\n",
      "Trade executed: buy entered at 2020-08-14 15:06:00 (Entry Price: 11673.31), exited at 2020-08-14T15:32:00.000000000 (Exit Price: 11702.78), Volume: 0.1031, P&L: 0.0002\n",
      "Trade executed: buy entered at 2020-08-14 13:04:00 (Entry Price: 11710.82), exited at 2020-08-14T15:38:00.000000000 (Exit Price: 11709.99), Volume: 0.1031, P&L: -0.0000\n",
      "Trade executed: sell entered at 2020-08-14 15:52:00 (Entry Price: 11752.46), exited at 2020-08-14T17:30:00.000000000 (Exit Price: 11809.11), Volume: 0.1031, P&L: -0.0005\n",
      "Trade executed: sell entered at 2020-08-14 17:07:00 (Entry Price: 11807.43), exited at 2020-08-14T17:30:00.000000000 (Exit Price: 11809.11), Volume: 0.1031, P&L: -0.0000\n",
      "Trade executed: sell entered at 2020-08-14 17:16:00 (Entry Price: 11822.47), exited at 2020-08-14T17:30:00.000000000 (Exit Price: 11809.11), Volume: 0.1031, P&L: 0.0001\n",
      "Trade executed: buy entered at 2020-08-14 21:05:00 (Entry Price: 11745.52), exited at 2020-08-14T21:54:00.000000000 (Exit Price: 11785.39), Volume: 0.1031, P&L: 0.0003\n",
      "Trade executed: buy entered at 2020-08-14 21:54:00 (Entry Price: 11785.39), exited at 2020-08-14T22:45:00.000000000 (Exit Price: 11774.31), Volume: 0.1031, P&L: -0.0001\n",
      "Trade executed: sell entered at 2020-08-15 00:03:00 (Entry Price: 11793.62), exited at 2020-08-15T01:39:00.000000000 (Exit Price: 11880.25), Volume: 0.1031, P&L: -0.0008\n",
      "Trade executed: sell entered at 2020-08-15 00:25:00 (Entry Price: 11901.00), exited at 2020-08-15T01:39:00.000000000 (Exit Price: 11880.25), Volume: 0.1031, P&L: 0.0002\n",
      "Trade executed: buy entered at 2020-08-15 05:51:00 (Entry Price: 11874.94), exited at 2020-08-15T05:56:00.000000000 (Exit Price: 11886.99), Volume: 0.1030, P&L: 0.0001\n",
      "Trade executed: buy entered at 2020-08-15 08:42:00 (Entry Price: 11845.35), exited at 2020-08-15T09:22:00.000000000 (Exit Price: 11874.07), Volume: 0.1031, P&L: 0.0002\n",
      "Trade flipped: buy entered at 2020-08-15 09:24:00 (Entry Price: 11882.30), exited at 2020-08-15T09:25:00.000000000 (Exit Price: 11895.73), Volume: 0.1031, P&L: 0.0001\n",
      "Trade flipped: sell entered at 2020-08-15 09:25:00 (Entry Price: 11895.73), exited at 2020-08-15T09:26:00.000000000 (Exit Price: 11890.00), Volume: 0.1031, P&L: 0.0000\n",
      "Trade flipped: buy entered at 2020-08-15 09:26:00 (Entry Price: 11890.00), exited at 2020-08-15T09:27:00.000000000 (Exit Price: 11897.44), Volume: 0.1031, P&L: 0.0000\n",
      "Trade flipped: sell entered at 2020-08-15 09:27:00 (Entry Price: 11897.44), exited at 2020-08-15T09:35:00.000000000 (Exit Price: 11893.29), Volume: 0.1031, P&L: 0.0000\n",
      "Trade flipped: buy entered at 2020-08-15 09:35:00 (Entry Price: 11893.29), exited at 2020-08-15T09:37:00.000000000 (Exit Price: 11903.45), Volume: 0.1031, P&L: 0.0001\n",
      "Trade executed: sell entered at 2020-08-15 09:37:00 (Entry Price: 11903.45), exited at 2020-08-15T10:31:00.000000000 (Exit Price: 11899.14), Volume: 0.1031, P&L: 0.0000\n",
      "Trade executed: buy entered at 2020-08-15 12:22:00 (Entry Price: 11750.45), exited at 2020-08-15T13:11:00.000000000 (Exit Price: 11793.01), Volume: 0.1031, P&L: 0.0004\n",
      "Trade executed: buy entered at 2020-08-15 13:16:00 (Entry Price: 11783.62), exited at 2020-08-15T13:49:00.000000000 (Exit Price: 11829.84), Volume: 0.1031, P&L: 0.0004\n",
      "Trade executed: buy entered at 2020-08-15 13:53:00 (Entry Price: 11814.28), exited at 2020-08-15T14:19:00.000000000 (Exit Price: 11826.55), Volume: 0.1032, P&L: 0.0001\n",
      "Trade executed: sell entered at 2020-08-15 16:03:00 (Entry Price: 11909.27), exited at 2020-08-15T16:12:00.000000000 (Exit Price: 11865.44), Volume: 0.1032, P&L: 0.0004\n",
      "Trade executed: sell entered at 2020-08-15 16:12:00 (Entry Price: 11865.44), exited at 2020-08-15T16:27:00.000000000 (Exit Price: 11859.63), Volume: 0.1032, P&L: 0.0000\n",
      "Trade executed: sell entered at 2020-08-15 16:49:00 (Entry Price: 11869.99), exited at 2020-08-15T16:54:00.000000000 (Exit Price: 11870.88), Volume: 0.1032, P&L: -0.0000\n",
      "Trade executed: sell entered at 2020-08-15 17:04:00 (Entry Price: 11893.70), exited at 2020-08-15T17:11:00.000000000 (Exit Price: 11860.80), Volume: 0.1032, P&L: 0.0003\n",
      "Trade executed: sell entered at 2020-08-15 17:18:00 (Entry Price: 11884.72), exited at 2020-08-15T17:43:00.000000000 (Exit Price: 11870.52), Volume: 0.1033, P&L: 0.0001\n",
      "Trade executed: buy entered at 2020-08-15 19:36:00 (Entry Price: 11854.31), exited at 2020-08-15T20:23:00.000000000 (Exit Price: 11877.50), Volume: 0.1033, P&L: 0.0002\n",
      "Trade executed: sell entered at 2020-08-15 21:33:00 (Entry Price: 11950.00), exited at 2020-08-15T21:56:00.000000000 (Exit Price: 11882.39), Volume: 0.1033, P&L: 0.0006\n",
      "Trade executed: sell entered at 2020-08-15 21:58:00 (Entry Price: 11926.01), exited at 2020-08-15T21:59:00.000000000 (Exit Price: 11901.76), Volume: 0.1033, P&L: 0.0002\n",
      "Trade executed: sell entered at 2020-08-15 22:00:00 (Entry Price: 11930.00), exited at 2020-08-15T22:23:00.000000000 (Exit Price: 11932.54), Volume: 0.1034, P&L: -0.0000\n",
      "Trade executed: buy entered at 2020-08-15 22:40:00 (Entry Price: 11893.99), exited at 2020-08-15T22:44:00.000000000 (Exit Price: 11905.87), Volume: 0.1034, P&L: 0.0001\n",
      "Trade executed: buy entered at 2020-08-15 22:53:00 (Entry Price: 11863.09), exited at 2020-08-16T01:21:00.000000000 (Exit Price: 11870.33), Volume: 0.1034, P&L: 0.0000\n",
      "Trade executed: sell entered at 2020-08-16 05:59:00 (Entry Price: 11915.67), exited at 2020-08-16T06:01:00.000000000 (Exit Price: 11910.01), Volume: 0.1034, P&L: 0.0000\n",
      "Trade executed: buy entered at 2020-08-16 06:48:00 (Entry Price: 11884.07), exited at 2020-08-16T09:28:00.000000000 (Exit Price: 11885.93), Volume: 0.1034, P&L: -0.0000\n",
      "Trade executed: buy entered at 2020-08-16 08:03:00 (Entry Price: 11857.16), exited at 2020-08-16T09:28:00.000000000 (Exit Price: 11885.93), Volume: 0.1034, P&L: 0.0002\n",
      "Trade executed: sell entered at 2020-08-16 09:29:00 (Entry Price: 11884.58), exited at 2020-08-16T09:47:00.000000000 (Exit Price: 11871.79), Volume: 0.1034, P&L: 0.0001\n",
      "Trade executed: buy entered at 2020-08-16 10:18:00 (Entry Price: 11843.61), exited at 2020-08-16T13:08:00.000000000 (Exit Price: 11797.68), Volume: 0.1034, P&L: -0.0004\n",
      "Trade executed: buy entered at 2020-08-16 11:04:00 (Entry Price: 11796.76), exited at 2020-08-16T13:08:00.000000000 (Exit Price: 11797.68), Volume: 0.1034, P&L: -0.0000\n",
      "Trade executed: buy entered at 2020-08-16 12:04:00 (Entry Price: 11765.96), exited at 2020-08-16T13:08:00.000000000 (Exit Price: 11797.68), Volume: 0.1034, P&L: 0.0003\n",
      "Trade executed: sell entered at 2020-08-16 15:59:00 (Entry Price: 11867.06), exited at 2020-08-16T17:03:00.000000000 (Exit Price: 11863.52), Volume: 0.1034, P&L: 0.0000\n",
      "Trade executed: buy entered at 2020-08-16 19:28:00 (Entry Price: 11841.03), exited at 2020-08-16T20:01:00.000000000 (Exit Price: 11848.99), Volume: 0.1034, P&L: 0.0000\n",
      "Trade flipped: sell entered at 2020-08-16 20:02:00 (Entry Price: 11851.70), exited at 2020-08-16T20:06:00.000000000 (Exit Price: 11846.52), Volume: 0.1034, P&L: 0.0000\n",
      "Trade executed: buy entered at 2020-08-16 20:06:00 (Entry Price: 11846.52), exited at 2020-08-16T20:47:00.000000000 (Exit Price: 11841.48), Volume: 0.1034, P&L: -0.0001\n",
      "Trade executed: sell entered at 2020-08-16 21:55:00 (Entry Price: 11865.21), exited at 2020-08-16T22:01:00.000000000 (Exit Price: 11854.60), Volume: 0.1034, P&L: 0.0001\n",
      "Trade executed: buy entered at 2020-08-16 22:10:00 (Entry Price: 11843.04), exited at 2020-08-16T22:13:00.000000000 (Exit Price: 11853.21), Volume: 0.1034, P&L: 0.0001\n",
      "Trade executed: sell entered at 2020-08-16 22:21:00 (Entry Price: 11867.62), exited at 2020-08-16T22:22:00.000000000 (Exit Price: 11864.76), Volume: 0.1034, P&L: 0.0000\n",
      "Trade executed: sell entered at 2020-08-16 22:32:00 (Entry Price: 11882.22), exited at 2020-08-16T23:39:00.000000000 (Exit Price: 11886.68), Volume: 0.1034, P&L: -0.0001\n",
      "Trade executed: buy entered at 2020-08-17 00:11:00 (Entry Price: 11874.29), exited at 2020-08-17T02:41:00.000000000 (Exit Price: 11857.00), Volume: 0.1034, P&L: -0.0002\n",
      "Trade executed: buy entered at 2020-08-17 00:48:00 (Entry Price: 11843.65), exited at 2020-08-17T02:41:00.000000000 (Exit Price: 11857.00), Volume: 0.1034, P&L: 0.0001\n",
      "Trade executed: buy entered at 2020-08-17 06:05:00 (Entry Price: 11829.55), exited at 2020-08-17T06:13:00.000000000 (Exit Price: 11847.50), Volume: 0.1034, P&L: 0.0001\n",
      "Trade flipped: buy entered at 2020-08-17 06:17:00 (Entry Price: 11837.00), exited at 2020-08-17T06:19:00.000000000 (Exit Price: 11843.74), Volume: 0.1034, P&L: 0.0000\n",
      "Trade flipped: sell entered at 2020-08-17 06:19:00 (Entry Price: 11843.74), exited at 2020-08-17T06:34:00.000000000 (Exit Price: 11837.40), Volume: 0.1034, P&L: 0.0000\n",
      "Trade executed: buy entered at 2020-08-17 06:34:00 (Entry Price: 11837.40), exited at 2020-08-17T07:17:00.000000000 (Exit Price: 11832.33), Volume: 0.1034, P&L: -0.0001\n",
      "Trade flipped: sell entered at 2020-08-17 07:30:00 (Entry Price: 11840.85), exited at 2020-08-17T07:33:00.000000000 (Exit Price: 11828.40), Volume: 0.1034, P&L: 0.0001\n",
      "Trade executed: buy entered at 2020-08-17 07:33:00 (Entry Price: 11828.40), exited at 2020-08-17T07:35:00.000000000 (Exit Price: 11839.00), Volume: 0.1034, P&L: 0.0001\n",
      "Trade executed: sell entered at 2020-08-17 07:39:00 (Entry Price: 11845.33), exited at 2020-08-17T07:51:00.000000000 (Exit Price: 11830.01), Volume: 0.1034, P&L: 0.0001\n",
      "Trade executed: sell entered at 2020-08-17 08:13:00 (Entry Price: 11891.00), exited at 2020-08-17T08:43:00.000000000 (Exit Price: 11858.60), Volume: 0.1034, P&L: 0.0003\n",
      "Trade executed: sell entered at 2020-08-17 08:50:00 (Entry Price: 11872.09), exited at 2020-08-17T09:32:00.000000000 (Exit Price: 11873.57), Volume: 0.1035, P&L: -0.0000\n",
      "Trade executed: sell entered at 2020-08-17 09:46:00 (Entry Price: 11881.50), exited at 2020-08-17T09:47:00.000000000 (Exit Price: 11875.65), Volume: 0.1034, P&L: 0.0000\n",
      "Trade executed: sell entered at 2020-08-17 09:48:00 (Entry Price: 11879.00), exited at 2020-08-17T09:52:00.000000000 (Exit Price: 11864.98), Volume: 0.1035, P&L: 0.0001\n",
      "Trade flipped: sell entered at 2020-08-17 11:58:00 (Entry Price: 11926.99), exited at 2020-08-17T12:05:00.000000000 (Exit Price: 11887.07), Volume: 0.1035, P&L: 0.0003\n",
      "Trade flipped: buy entered at 2020-08-17 12:05:00 (Entry Price: 11887.07), exited at 2020-08-17T12:07:00.000000000 (Exit Price: 11894.97), Volume: 0.1035, P&L: 0.0000\n",
      "Trade executed: sell entered at 2020-08-17 12:07:00 (Entry Price: 11894.97), exited at 2020-08-17T12:08:00.000000000 (Exit Price: 11891.78), Volume: 0.1035, P&L: 0.0000\n",
      "Trade executed: sell entered at 2020-08-17 12:09:00 (Entry Price: 11894.92), exited at 2020-08-17T12:15:00.000000000 (Exit Price: 11888.80), Volume: 0.1035, P&L: 0.0000\n",
      "Trade executed: sell entered at 2020-08-17 12:34:00 (Entry Price: 11912.63), exited at 2020-08-17T12:56:00.000000000 (Exit Price: 11894.95), Volume: 0.1035, P&L: 0.0001\n",
      "Trade flipped: sell entered at 2020-08-17 13:21:00 (Entry Price: 12046.65), exited at 2020-08-17T13:27:00.000000000 (Exit Price: 11856.62), Volume: 0.1035, P&L: 0.0016\n",
      "Trade executed: buy entered at 2020-08-17 13:27:00 (Entry Price: 11856.62), exited at 2020-08-17T13:28:00.000000000 (Exit Price: 11918.05), Volume: 0.1037, P&L: 0.0005\n",
      "Trade executed: sell entered at 2020-08-17 13:29:00 (Entry Price: 11960.00), exited at 2020-08-17T15:19:00.000000000 (Exit Price: 12150.55), Volume: 0.1037, P&L: -0.0017\n",
      "Trade executed: buy entered at 2020-08-17 19:25:00 (Entry Price: 12341.27), exited at 2020-08-17T20:01:00.000000000 (Exit Price: 12378.17), Volume: 0.1036, P&L: 0.0003\n",
      "Trade flipped: sell entered at 2020-08-17 20:02:00 (Entry Price: 12376.73), exited at 2020-08-17T20:03:00.000000000 (Exit Price: 12373.90), Volume: 0.1036, P&L: 0.0000\n",
      "Trade executed: buy entered at 2020-08-17 20:03:00 (Entry Price: 12373.90), exited at 2020-08-17T21:14:00.000000000 (Exit Price: 12352.88), Volume: 0.1036, P&L: -0.0002\n",
      "Trade executed: buy entered at 2020-08-17 20:13:00 (Entry Price: 12337.31), exited at 2020-08-17T21:14:00.000000000 (Exit Price: 12352.88), Volume: 0.1036, P&L: 0.0001\n",
      "Trade executed: buy entered at 2020-08-17 23:12:00 (Entry Price: 12339.06), exited at 2020-08-17T23:23:00.000000000 (Exit Price: 12347.07), Volume: 0.1036, P&L: 0.0000\n",
      "Trade flipped: buy entered at 2020-08-17 23:46:00 (Entry Price: 12288.24), exited at 2020-08-18T00:07:00.000000000 (Exit Price: 12342.98), Volume: 0.1036, P&L: 0.0004\n",
      "Trade executed: sell entered at 2020-08-18 00:07:00 (Entry Price: 12342.98), exited at 2020-08-18T00:09:00.000000000 (Exit Price: 12340.02), Volume: 0.1036, P&L: 0.0000\n",
      "Trade executed: buy entered at 2020-08-18 00:10:00 (Entry Price: 12327.27), exited at 2020-08-18T00:12:00.000000000 (Exit Price: 12355.46), Volume: 0.1036, P&L: 0.0002\n",
      "Trade flipped: buy entered at 2020-08-18 00:19:00 (Entry Price: 12341.26), exited at 2020-08-18T00:39:00.000000000 (Exit Price: 12344.70), Volume: 0.1037, P&L: 0.0000\n",
      "Trade executed: sell entered at 2020-08-18 00:39:00 (Entry Price: 12344.70), exited at 2020-08-18T01:40:00.000000000 (Exit Price: 12350.36), Volume: 0.1037, P&L: -0.0001\n",
      "Trade executed: buy entered at 2020-08-18 06:31:00 (Entry Price: 12218.94), exited at 2020-08-18T06:38:00.000000000 (Exit Price: 12252.02), Volume: 0.1036, P&L: 0.0003\n",
      "Trade executed: buy entered at 2020-08-18 06:30:00 (Entry Price: 12227.96), exited at 2020-08-18T06:39:00.000000000 (Exit Price: 12261.43), Volume: 0.1036, P&L: 0.0003\n",
      "Trade executed: buy entered at 2020-08-18 04:46:00 (Entry Price: 12304.00), exited at 2020-08-18T06:57:00.000000000 (Exit Price: 12281.01), Volume: 0.1036, P&L: -0.0002\n",
      "Trade executed: buy entered at 2020-08-18 04:52:00 (Entry Price: 12266.25), exited at 2020-08-18T06:57:00.000000000 (Exit Price: 12281.01), Volume: 0.1036, P&L: 0.0001\n",
      "Trade executed: buy entered at 2020-08-18 07:07:00 (Entry Price: 12261.65), exited at 2020-08-18T07:17:00.000000000 (Exit Price: 12276.77), Volume: 0.1037, P&L: 0.0001\n",
      "Trade flipped: sell entered at 2020-08-18 07:18:00 (Entry Price: 12279.99), exited at 2020-08-18T07:28:00.000000000 (Exit Price: 12262.98), Volume: 0.1037, P&L: 0.0001\n",
      "Trade executed: buy entered at 2020-08-18 07:28:00 (Entry Price: 12262.98), exited at 2020-08-18T07:35:00.000000000 (Exit Price: 12268.07), Volume: 0.1037, P&L: 0.0000\n",
      "Trade executed: buy entered at 2020-08-18 07:45:00 (Entry Price: 12253.62), exited at 2020-08-18T07:57:00.000000000 (Exit Price: 12268.51), Volume: 0.1037, P&L: 0.0001\n",
      "Trade executed: buy entered at 2020-08-18 09:14:00 (Entry Price: 12257.69), exited at 2020-08-18T09:19:00.000000000 (Exit Price: 12268.68), Volume: 0.1037, P&L: 0.0001\n",
      "Trade executed: buy entered at 2020-08-18 09:26:00 (Entry Price: 12254.39), exited at 2020-08-18T09:32:00.000000000 (Exit Price: 12267.65), Volume: 0.1037, P&L: 0.0001\n",
      "Trade executed: sell entered at 2020-08-18 09:35:00 (Entry Price: 12272.62), exited at 2020-08-18T09:36:00.000000000 (Exit Price: 12268.84), Volume: 0.1037, P&L: 0.0000\n",
      "Trade executed: sell entered at 2020-08-18 09:37:00 (Entry Price: 12272.00), exited at 2020-08-18T09:38:00.000000000 (Exit Price: 12267.18), Volume: 0.1037, P&L: 0.0000\n",
      "Trade flipped: buy entered at 2020-08-18 09:44:00 (Entry Price: 12255.98), exited at 2020-08-18T10:35:00.000000000 (Exit Price: 12280.29), Volume: 0.1037, P&L: 0.0002\n",
      "Trade flipped: buy entered at 2020-08-18 10:28:00 (Entry Price: 12224.66), exited at 2020-08-18T10:35:00.000000000 (Exit Price: 12280.29), Volume: 0.1037, P&L: 0.0005\n",
      "Trade executed: sell entered at 2020-08-18 10:35:00 (Entry Price: 12280.29), exited at 2020-08-18T11:20:00.000000000 (Exit Price: 12266.36), Volume: 0.1038, P&L: 0.0001\n",
      "Trade executed: buy entered at 2020-08-18 12:34:00 (Entry Price: 12215.99), exited at 2020-08-18T12:49:00.000000000 (Exit Price: 12248.66), Volume: 0.1038, P&L: 0.0003\n",
      "Trade executed: buy entered at 2020-08-18 11:22:00 (Entry Price: 12256.57), exited at 2020-08-18T12:52:00.000000000 (Exit Price: 12258.68), Volume: 0.1038, P&L: -0.0000\n",
      "Trade executed: sell entered at 2020-08-18 12:53:00 (Entry Price: 12254.04), exited at 2020-08-18T13:19:00.000000000 (Exit Price: 12237.10), Volume: 0.1038, P&L: 0.0001\n",
      "Trade executed: buy entered at 2020-08-18 14:15:00 (Entry Price: 11975.26), exited at 2020-08-18T17:05:00.000000000 (Exit Price: 12004.20), Volume: 0.1039, P&L: 0.0002\n",
      "Trade executed: buy entered at 2020-08-18 15:06:00 (Entry Price: 11973.67), exited at 2020-08-18T17:05:00.000000000 (Exit Price: 12004.20), Volume: 0.1039, P&L: 0.0002\n",
      "Trade executed: buy entered at 2020-08-18 13:56:00 (Entry Price: 12140.40), exited at 2020-08-18T17:06:00.000000000 (Exit Price: 12017.78), Volume: 0.1039, P&L: -0.0011\n",
      "Trade executed: sell entered at 2020-08-18 21:04:00 (Entry Price: 12066.89), exited at 2020-08-18T21:43:00.000000000 (Exit Price: 12050.00), Volume: 0.1038, P&L: 0.0001\n",
      "Trade executed: sell entered at 2020-08-18 21:45:00 (Entry Price: 12069.13), exited at 2020-08-18T22:09:00.000000000 (Exit Price: 12060.00), Volume: 0.1038, P&L: 0.0001\n",
      "Trade executed: buy entered at 2020-08-19 00:19:00 (Entry Price: 11988.54), exited at 2020-08-19T01:06:00.000000000 (Exit Price: 12019.00), Volume: 0.1038, P&L: 0.0002\n",
      "Trade executed: buy entered at 2020-08-19 03:01:00 (Entry Price: 11912.79), exited at 2020-08-19T03:08:00.000000000 (Exit Price: 11946.41), Volume: 0.1038, P&L: 0.0003\n",
      "Trade executed: buy entered at 2020-08-19 01:27:00 (Entry Price: 12005.44), exited at 2020-08-19T07:04:00.000000000 (Exit Price: 11767.69), Volume: 0.1038, P&L: -0.0021\n",
      "Trade executed: buy entered at 2020-08-19 02:49:00 (Entry Price: 11929.06), exited at 2020-08-19T07:04:00.000000000 (Exit Price: 11767.69), Volume: 0.1038, P&L: -0.0014\n",
      "Trade executed: buy entered at 2020-08-19 02:50:00 (Entry Price: 11934.99), exited at 2020-08-19T07:04:00.000000000 (Exit Price: 11767.69), Volume: 0.1038, P&L: -0.0015\n",
      "Trade executed: buy entered at 2020-08-19 04:16:00 (Entry Price: 11824.82), exited at 2020-08-19T07:04:00.000000000 (Exit Price: 11767.69), Volume: 0.1039, P&L: -0.0005\n",
      "Trade executed: buy entered at 2020-08-19 05:12:00 (Entry Price: 11759.32), exited at 2020-08-19T07:04:00.000000000 (Exit Price: 11767.69), Volume: 0.1039, P&L: 0.0001\n",
      "Trade executed: sell entered at 2020-08-19 09:03:00 (Entry Price: 11829.61), exited at 2020-08-19T09:29:00.000000000 (Exit Price: 11818.29), Volume: 0.1033, P&L: 0.0001\n",
      "Trade executed: sell entered at 2020-08-19 11:14:00 (Entry Price: 11853.73), exited at 2020-08-19T12:15:00.000000000 (Exit Price: 11822.02), Volume: 0.1033, P&L: 0.0003\n",
      "Trade executed: sell entered at 2020-08-19 12:32:00 (Entry Price: 11848.45), exited at 2020-08-19T12:35:00.000000000 (Exit Price: 11838.14), Volume: 0.1034, P&L: 0.0001\n",
      "Trade executed: sell entered at 2020-08-19 14:36:00 (Entry Price: 11875.58), exited at 2020-08-19T14:44:00.000000000 (Exit Price: 11854.40), Volume: 0.1034, P&L: 0.0002\n",
      "Trade executed: buy entered at 2020-08-19 14:47:00 (Entry Price: 11797.35), exited at 2020-08-19T17:31:00.000000000 (Exit Price: 11768.55), Volume: 0.1034, P&L: -0.0003\n",
      "Trade executed: buy entered at 2020-08-19 15:27:00 (Entry Price: 11735.00), exited at 2020-08-19T17:31:00.000000000 (Exit Price: 11768.55), Volume: 0.1034, P&L: 0.0003\n",
      "Trade executed: buy entered at 2020-08-19 18:47:00 (Entry Price: 11704.10), exited at 2020-08-19T18:55:00.000000000 (Exit Price: 11742.72), Volume: 0.1034, P&L: 0.0003\n",
      "Trade executed: sell entered at 2020-08-19 18:57:00 (Entry Price: 11740.00), exited at 2020-08-19T19:04:00.000000000 (Exit Price: 11734.01), Volume: 0.1034, P&L: 0.0000\n",
      "Trade flipped: buy entered at 2020-08-19 19:15:00 (Entry Price: 11670.01), exited at 2020-08-19T19:28:00.000000000 (Exit Price: 11746.08), Volume: 0.1034, P&L: 0.0007\n",
      "Trade flipped: sell entered at 2020-08-19 19:28:00 (Entry Price: 11746.08), exited at 2020-08-19T19:35:00.000000000 (Exit Price: 11731.24), Volume: 0.1035, P&L: 0.0001\n",
      "Trade flipped: buy entered at 2020-08-19 19:35:00 (Entry Price: 11731.24), exited at 2020-08-19T20:36:00.000000000 (Exit Price: 11720.91), Volume: 0.1035, P&L: -0.0001\n",
      "Trade flipped: buy entered at 2020-08-19 20:09:00 (Entry Price: 11686.31), exited at 2020-08-19T20:36:00.000000000 (Exit Price: 11720.91), Volume: 0.1035, P&L: 0.0003\n",
      "Trade executed: sell entered at 2020-08-19 20:36:00 (Entry Price: 11720.91), exited at 2020-08-19T20:38:00.000000000 (Exit Price: 11691.06), Volume: 0.1035, P&L: 0.0002\n",
      "Trade flipped: sell entered at 2020-08-19 20:46:00 (Entry Price: 11718.97), exited at 2020-08-19T20:47:00.000000000 (Exit Price: 11704.98), Volume: 0.1035, P&L: 0.0001\n",
      "Trade executed: buy entered at 2020-08-19 20:47:00 (Entry Price: 11704.98), exited at 2020-08-19T20:57:00.000000000 (Exit Price: 11717.65), Volume: 0.1035, P&L: 0.0001\n",
      "Trade executed: sell entered at 2020-08-19 21:03:00 (Entry Price: 11745.88), exited at 2020-08-19T21:44:00.000000000 (Exit Price: 11716.00), Volume: 0.1035, P&L: 0.0002\n",
      "Trade executed: sell entered at 2020-08-19 21:49:00 (Entry Price: 11733.96), exited at 2020-08-19T21:50:00.000000000 (Exit Price: 11719.79), Volume: 0.1036, P&L: 0.0001\n",
      "Trade executed: buy entered at 2020-08-19 21:52:00 (Entry Price: 11708.00), exited at 2020-08-19T21:54:00.000000000 (Exit Price: 11714.91), Volume: 0.1036, P&L: 0.0000\n",
      "Trade executed: buy entered at 2020-08-20 03:04:00 (Entry Price: 11720.60), exited at 2020-08-20T03:25:00.000000000 (Exit Price: 11760.88), Volume: 0.1036, P&L: 0.0003\n",
      "Trade executed: buy entered at 2020-08-20 03:25:00 (Entry Price: 11760.88), exited at 2020-08-20T06:08:00.000000000 (Exit Price: 11727.23), Volume: 0.1036, P&L: -0.0003\n",
      "Trade executed: sell entered at 2020-08-20 06:09:00 (Entry Price: 11732.94), exited at 2020-08-20T07:14:00.000000000 (Exit Price: 11745.58), Volume: 0.1036, P&L: -0.0001\n",
      "Trade executed: sell entered at 2020-08-20 06:58:00 (Entry Price: 11767.16), exited at 2020-08-20T07:14:00.000000000 (Exit Price: 11745.58), Volume: 0.1036, P&L: 0.0002\n",
      "Trade executed: buy entered at 2020-08-20 07:33:00 (Entry Price: 11735.28), exited at 2020-08-20T07:34:00.000000000 (Exit Price: 11741.20), Volume: 0.1036, P&L: 0.0000\n",
      "Trade executed: buy entered at 2020-08-20 07:35:00 (Entry Price: 11733.40), exited at 2020-08-20T07:40:00.000000000 (Exit Price: 11736.63), Volume: 0.1036, P&L: 0.0000\n",
      "Trade flipped: buy entered at 2020-08-20 08:11:00 (Entry Price: 11720.95), exited at 2020-08-20T08:29:00.000000000 (Exit Price: 11738.08), Volume: 0.1036, P&L: 0.0001\n",
      "Trade executed: sell entered at 2020-08-20 08:29:00 (Entry Price: 11738.08), exited at 2020-08-20T10:15:00.000000000 (Exit Price: 11773.60), Volume: 0.1036, P&L: -0.0003\n",
      "Trade executed: buy entered at 2020-08-20 11:09:00 (Entry Price: 11752.96), exited at 2020-08-20T11:13:00.000000000 (Exit Price: 11761.99), Volume: 0.1036, P&L: 0.0001\n",
      "Trade executed: buy entered at 2020-08-20 11:19:00 (Entry Price: 11762.69), exited at 2020-08-20T11:22:00.000000000 (Exit Price: 11765.58), Volume: 0.1036, P&L: 0.0000\n",
      "Trade executed: buy entered at 2020-08-20 13:14:00 (Entry Price: 11762.10), exited at 2020-08-20T13:26:00.000000000 (Exit Price: 11786.46), Volume: 0.1036, P&L: 0.0002\n",
      "Trade executed: buy entered at 2020-08-20 13:27:00 (Entry Price: 11782.17), exited at 2020-08-20T13:30:00.000000000 (Exit Price: 11788.99), Volume: 0.1036, P&L: 0.0000\n",
      "Trade executed: sell entered at 2020-08-20 13:34:00 (Entry Price: 11808.35), exited at 2020-08-20T15:26:00.000000000 (Exit Price: 11830.00), Volume: 0.1036, P&L: -0.0002\n",
      "Trade executed: sell entered at 2020-08-20 15:57:00 (Entry Price: 11866.75), exited at 2020-08-20T16:04:00.000000000 (Exit Price: 11840.07), Volume: 0.1036, P&L: 0.0002\n",
      "Trade executed: sell entered at 2020-08-20 16:14:00 (Entry Price: 11856.93), exited at 2020-08-20T16:54:00.000000000 (Exit Price: 11852.96), Volume: 0.1036, P&L: 0.0000\n",
      "Trade executed: buy entered at 2020-08-20 22:06:00 (Entry Price: 11835.27), exited at 2020-08-20T23:24:00.000000000 (Exit Price: 11855.06), Volume: 0.1036, P&L: 0.0002\n",
      "Trade executed: buy entered at 2020-08-21 00:27:00 (Entry Price: 11849.65), exited at 2020-08-21T00:28:00.000000000 (Exit Price: 11853.48), Volume: 0.1036, P&L: 0.0000\n",
      "Trade executed: buy entered at 2020-08-21 00:34:00 (Entry Price: 11847.48), exited at 2020-08-21T00:56:00.000000000 (Exit Price: 11851.99), Volume: 0.1036, P&L: 0.0000\n",
      "Trade executed: buy entered at 2020-08-21 00:57:00 (Entry Price: 11844.99), exited at 2020-08-21T00:58:00.000000000 (Exit Price: 11846.88), Volume: 0.1036, P&L: -0.0000\n",
      "Trade executed: buy entered at 2020-08-21 01:11:00 (Entry Price: 11809.62), exited at 2020-08-21T01:21:00.000000000 (Exit Price: 11835.01), Volume: 0.1036, P&L: 0.0002\n",
      "Trade executed: buy entered at 2020-08-21 01:33:00 (Entry Price: 11808.15), exited at 2020-08-21T02:30:00.000000000 (Exit Price: 11831.00), Volume: 0.1036, P&L: 0.0002\n",
      "Trade executed: buy entered at 2020-08-21 00:59:00 (Entry Price: 11835.74), exited at 2020-08-21T03:20:00.000000000 (Exit Price: 11829.74), Volume: 0.1036, P&L: -0.0001\n",
      "Trade executed: buy entered at 2020-08-21 02:45:00 (Entry Price: 11809.01), exited at 2020-08-21T03:20:00.000000000 (Exit Price: 11829.74), Volume: 0.1037, P&L: 0.0002\n",
      "Trade executed: sell entered at 2020-08-21 04:51:00 (Entry Price: 11853.04), exited at 2020-08-21T04:52:00.000000000 (Exit Price: 11845.60), Volume: 0.1037, P&L: 0.0000\n",
      "Trade executed: sell entered at 2020-08-21 04:58:00 (Entry Price: 11869.82), exited at 2020-08-21T05:21:00.000000000 (Exit Price: 11857.09), Volume: 0.1037, P&L: 0.0001\n",
      "Trade executed: sell entered at 2020-08-21 05:29:00 (Entry Price: 11859.11), exited at 2020-08-21T05:37:00.000000000 (Exit Price: 11853.77), Volume: 0.1037, P&L: 0.0000\n",
      "Trade executed: buy entered at 2020-08-21 06:11:00 (Entry Price: 11843.73), exited at 2020-08-21T06:13:00.000000000 (Exit Price: 11848.88), Volume: 0.1037, P&L: 0.0000\n",
      "Trade flipped: buy entered at 2020-08-21 07:05:00 (Entry Price: 11847.11), exited at 2020-08-21T07:28:00.000000000 (Exit Price: 11857.44), Volume: 0.1037, P&L: 0.0001\n",
      "Trade flipped: sell entered at 2020-08-21 07:28:00 (Entry Price: 11857.44), exited at 2020-08-21T07:37:00.000000000 (Exit Price: 11843.84), Volume: 0.1037, P&L: 0.0001\n",
      "Trade executed: buy entered at 2020-08-21 07:37:00 (Entry Price: 11843.84), exited at 2020-08-21T08:59:00.000000000 (Exit Price: 11834.45), Volume: 0.1037, P&L: -0.0001\n",
      "Trade executed: buy entered at 2020-08-21 09:04:00 (Entry Price: 11832.80), exited at 2020-08-21T09:11:00.000000000 (Exit Price: 11835.31), Volume: 0.1037, P&L: 0.0000\n",
      "Trade executed: buy entered at 2020-08-21 10:57:00 (Entry Price: 11769.95), exited at 2020-08-21T12:54:00.000000000 (Exit Price: 11749.31), Volume: 0.1037, P&L: -0.0002\n",
      "Trade executed: buy entered at 2020-08-21 17:05:00 (Entry Price: 11695.76), exited at 2020-08-21T17:14:00.000000000 (Exit Price: 11748.03), Volume: 0.1037, P&L: 0.0004\n",
      "Trade flipped: sell entered at 2020-08-21 17:15:00 (Entry Price: 11743.03), exited at 2020-08-21T17:21:00.000000000 (Exit Price: 11715.18), Volume: 0.1037, P&L: 0.0002\n",
      "Trade executed: buy entered at 2020-08-21 17:21:00 (Entry Price: 11715.18), exited at 2020-08-21T17:28:00.000000000 (Exit Price: 11729.99), Volume: 0.1037, P&L: 0.0001\n",
      "Trade executed: sell entered at 2020-08-21 17:31:00 (Entry Price: 11733.57), exited at 2020-08-21T17:35:00.000000000 (Exit Price: 11716.42), Volume: 0.1038, P&L: 0.0001\n",
      "Trade executed: buy entered at 2020-08-21 17:37:00 (Entry Price: 11710.00), exited at 2020-08-21T19:05:00.000000000 (Exit Price: 11701.85), Volume: 0.1038, P&L: -0.0001\n",
      "Trade executed: buy entered at 2020-08-21 18:13:00 (Entry Price: 11657.12), exited at 2020-08-21T19:05:00.000000000 (Exit Price: 11701.85), Volume: 0.1038, P&L: 0.0004\n",
      "Trade executed: buy entered at 2020-08-21 21:21:00 (Entry Price: 11598.99), exited at 2020-08-22T02:03:00.000000000 (Exit Price: 11489.00), Volume: 0.1038, P&L: -0.0010\n",
      "Trade executed: buy entered at 2020-08-22 05:00:00 (Entry Price: 11442.00), exited at 2020-08-22T05:07:00.000000000 (Exit Price: 11459.99), Volume: 0.1037, P&L: 0.0001\n",
      "Trade flipped: sell entered at 2020-08-22 05:13:00 (Entry Price: 11458.99), exited at 2020-08-22T05:15:00.000000000 (Exit Price: 11457.89), Volume: 0.1037, P&L: -0.0000\n",
      "Trade executed: buy entered at 2020-08-22 05:15:00 (Entry Price: 11457.89), exited at 2020-08-22T05:16:00.000000000 (Exit Price: 11462.56), Volume: 0.1037, P&L: 0.0000\n",
      "Trade executed: sell entered at 2020-08-22 07:00:00 (Entry Price: 11567.81), exited at 2020-08-22T07:08:00.000000000 (Exit Price: 11541.01), Volume: 0.1037, P&L: 0.0002\n",
      "Trade executed: sell entered at 2020-08-22 06:02:00 (Entry Price: 11494.92), exited at 2020-08-22T08:04:00.000000000 (Exit Price: 11558.05), Volume: 0.1037, P&L: -0.0006\n",
      "Trade executed: sell entered at 2020-08-22 06:52:00 (Entry Price: 11554.58), exited at 2020-08-22T08:04:00.000000000 (Exit Price: 11558.05), Volume: 0.1037, P&L: -0.0001\n",
      "Trade executed: sell entered at 2020-08-22 07:12:00 (Entry Price: 11549.11), exited at 2020-08-22T08:04:00.000000000 (Exit Price: 11558.05), Volume: 0.1037, P&L: -0.0001\n",
      "Trade executed: sell entered at 2020-08-22 07:58:00 (Entry Price: 11582.98), exited at 2020-08-22T08:04:00.000000000 (Exit Price: 11558.05), Volume: 0.1037, P&L: 0.0002\n",
      "Trade executed: sell entered at 2020-08-22 08:05:00 (Entry Price: 11563.02), exited at 2020-08-22T08:06:00.000000000 (Exit Price: 11562.12), Volume: 0.1037, P&L: -0.0000\n",
      "Trade executed: sell entered at 2020-08-22 08:07:00 (Entry Price: 11563.05), exited at 2020-08-22T08:08:00.000000000 (Exit Price: 11559.99), Volume: 0.1037, P&L: 0.0000\n",
      "Trade executed: sell entered at 2020-08-22 08:14:00 (Entry Price: 11587.65), exited at 2020-08-22T08:50:00.000000000 (Exit Price: 11581.12), Volume: 0.1037, P&L: 0.0000\n",
      "Trade executed: buy entered at 2020-08-22 13:08:00 (Entry Price: 11574.47), exited at 2020-08-22T13:28:00.000000000 (Exit Price: 11580.00), Volume: 0.1037, P&L: 0.0000\n",
      "Trade executed: sell entered at 2020-08-22 13:30:00 (Entry Price: 11589.06), exited at 2020-08-22T13:32:00.000000000 (Exit Price: 11586.61), Volume: 0.1037, P&L: 0.0000\n",
      "Trade executed: sell entered at 2020-08-22 13:47:00 (Entry Price: 11594.25), exited at 2020-08-22T14:04:00.000000000 (Exit Price: 11588.33), Volume: 0.1037, P&L: 0.0000\n",
      "Trade executed: sell entered at 2020-08-22 14:57:00 (Entry Price: 11625.42), exited at 2020-08-22T15:37:00.000000000 (Exit Price: 11607.51), Volume: 0.1037, P&L: 0.0001\n",
      "Trade executed: buy entered at 2020-08-22 15:52:00 (Entry Price: 11598.34), exited at 2020-08-22T15:57:00.000000000 (Exit Price: 11599.60), Volume: 0.1037, P&L: -0.0000\n",
      "Trade executed: buy entered at 2020-08-22 16:10:00 (Entry Price: 11575.20), exited at 2020-08-22T17:28:00.000000000 (Exit Price: 11594.95), Volume: 0.1037, P&L: 0.0002\n",
      "Trade executed: sell entered at 2020-08-22 18:33:00 (Entry Price: 11609.56), exited at 2020-08-22T18:54:00.000000000 (Exit Price: 11606.39), Volume: 0.1037, P&L: 0.0000\n",
      "Trade executed: buy entered at 2020-08-22 20:28:00 (Entry Price: 11583.56), exited at 2020-08-22T20:30:00.000000000 (Exit Price: 11600.91), Volume: 0.1037, P&L: 0.0001\n",
      "Trade executed: buy entered at 2020-08-22 20:31:00 (Entry Price: 11594.92), exited at 2020-08-22T20:39:00.000000000 (Exit Price: 11604.36), Volume: 0.1037, P&L: 0.0001\n",
      "Trade executed: buy entered at 2020-08-22 20:45:00 (Entry Price: 11600.82), exited at 2020-08-22T20:50:00.000000000 (Exit Price: 11604.38), Volume: 0.1037, P&L: 0.0000\n",
      "Trade executed: sell entered at 2020-08-22 21:21:00 (Entry Price: 11622.99), exited at 2020-08-22T22:36:00.000000000 (Exit Price: 11656.00), Volume: 0.1037, P&L: -0.0003\n",
      "Trade executed: sell entered at 2020-08-22 22:03:00 (Entry Price: 11674.79), exited at 2020-08-22T22:36:00.000000000 (Exit Price: 11656.00), Volume: 0.1037, P&L: 0.0001\n",
      "Trade executed: sell entered at 2020-08-22 22:06:00 (Entry Price: 11666.99), exited at 2020-08-22T22:36:00.000000000 (Exit Price: 11656.00), Volume: 0.1037, P&L: 0.0001\n",
      "Trade executed: sell entered at 2020-08-22 22:39:00 (Entry Price: 11667.98), exited at 2020-08-22T22:42:00.000000000 (Exit Price: 11656.30), Volume: 0.1037, P&L: 0.0001\n",
      "Trade executed: sell entered at 2020-08-22 22:59:00 (Entry Price: 11667.47), exited at 2020-08-22T23:03:00.000000000 (Exit Price: 11664.65), Volume: 0.1037, P&L: 0.0000\n",
      "Trade executed: sell entered at 2020-08-22 23:14:00 (Entry Price: 11672.60), exited at 2020-08-22T23:59:00.000000000 (Exit Price: 11670.47), Volume: 0.1037, P&L: -0.0000\n",
      "Trade executed: sell entered at 2020-08-23 00:08:00 (Entry Price: 11679.58), exited at 2020-08-23T00:10:00.000000000 (Exit Price: 11673.12), Volume: 0.1037, P&L: 0.0000\n",
      "Trade executed: buy entered at 2020-08-23 00:15:00 (Entry Price: 11658.89), exited at 2020-08-23T06:07:00.000000000 (Exit Price: 11603.26), Volume: 0.1037, P&L: -0.0005\n",
      "Trade executed: buy entered at 2020-08-23 01:03:00 (Entry Price: 11643.77), exited at 2020-08-23T06:07:00.000000000 (Exit Price: 11603.26), Volume: 0.1037, P&L: -0.0004\n",
      "Trade executed: buy entered at 2020-08-23 05:58:00 (Entry Price: 11583.31), exited at 2020-08-23T06:07:00.000000000 (Exit Price: 11603.26), Volume: 0.1037, P&L: 0.0002\n",
      "Trade executed: buy entered at 2020-08-23 05:59:00 (Entry Price: 11583.16), exited at 2020-08-23T06:07:00.000000000 (Exit Price: 11603.26), Volume: 0.1037, P&L: 0.0002\n",
      "Trade executed: buy entered at 2020-08-23 06:02:00 (Entry Price: 11576.57), exited at 2020-08-23T06:07:00.000000000 (Exit Price: 11603.26), Volume: 0.1037, P&L: 0.0002\n",
      "Trade executed: buy entered at 2020-08-23 06:03:00 (Entry Price: 11576.55), exited at 2020-08-23T06:07:00.000000000 (Exit Price: 11603.26), Volume: 0.1037, P&L: 0.0002\n",
      "Trade flipped: buy entered at 2020-08-23 06:08:00 (Entry Price: 11599.32), exited at 2020-08-23T06:09:00.000000000 (Exit Price: 11599.62), Volume: 0.1037, P&L: -0.0000\n",
      "Trade flipped: sell entered at 2020-08-23 06:09:00 (Entry Price: 11599.62), exited at 2020-08-23T06:11:00.000000000 (Exit Price: 11596.05), Volume: 0.1037, P&L: 0.0000\n",
      "Trade flipped: buy entered at 2020-08-23 06:11:00 (Entry Price: 11596.05), exited at 2020-08-23T06:13:00.000000000 (Exit Price: 11600.00), Volume: 0.1037, P&L: 0.0000\n",
      "Trade flipped: sell entered at 2020-08-23 06:13:00 (Entry Price: 11600.00), exited at 2020-08-23T06:16:00.000000000 (Exit Price: 11596.57), Volume: 0.1037, P&L: 0.0000\n",
      "Trade executed: buy entered at 2020-08-23 06:16:00 (Entry Price: 11596.57), exited at 2020-08-23T06:32:00.000000000 (Exit Price: 11596.40), Volume: 0.1037, P&L: -0.0000\n",
      "Trade executed: buy entered at 2020-08-23 06:36:00 (Entry Price: 11593.35), exited at 2020-08-23T06:40:00.000000000 (Exit Price: 11599.22), Volume: 0.1037, P&L: 0.0000\n",
      "Trade executed: buy entered at 2020-08-23 09:01:00 (Entry Price: 11570.96), exited at 2020-08-23T09:05:00.000000000 (Exit Price: 11591.43), Volume: 0.1037, P&L: 0.0002\n",
      "Trade flipped: buy entered at 2020-08-23 08:48:00 (Entry Price: 11590.01), exited at 2020-08-23T09:18:00.000000000 (Exit Price: 11601.08), Volume: 0.1037, P&L: 0.0001\n",
      "Trade executed: sell entered at 2020-08-23 09:18:00 (Entry Price: 11601.08), exited at 2020-08-23T09:30:00.000000000 (Exit Price: 11588.85), Volume: 0.1038, P&L: 0.0001\n",
      "Trade flipped: buy entered at 2020-08-23 09:31:00 (Entry Price: 11594.50), exited at 2020-08-23T09:35:00.000000000 (Exit Price: 11600.97), Volume: 0.1038, P&L: 0.0000\n",
      "Trade flipped: sell entered at 2020-08-23 09:35:00 (Entry Price: 11600.97), exited at 2020-08-23T09:52:00.000000000 (Exit Price: 11595.42), Volume: 0.1038, P&L: 0.0000\n",
      "Trade executed: buy entered at 2020-08-23 09:52:00 (Entry Price: 11595.42), exited at 2020-08-23T12:52:00.000000000 (Exit Price: 11566.70), Volume: 0.1038, P&L: -0.0003\n",
      "Trade executed: buy entered at 2020-08-23 11:53:00 (Entry Price: 11543.99), exited at 2020-08-23T12:52:00.000000000 (Exit Price: 11566.70), Volume: 0.1038, P&L: 0.0002\n",
      "Trade executed: buy entered at 2020-08-23 11:54:00 (Entry Price: 11542.53), exited at 2020-08-23T12:52:00.000000000 (Exit Price: 11566.70), Volume: 0.1038, P&L: 0.0002\n",
      "Trade executed: buy entered at 2020-08-23 12:34:00 (Entry Price: 11545.00), exited at 2020-08-23T12:52:00.000000000 (Exit Price: 11566.70), Volume: 0.1038, P&L: 0.0002\n",
      "Trade executed: sell entered at 2020-08-23 13:29:00 (Entry Price: 11638.82), exited at 2020-08-23T14:27:00.000000000 (Exit Price: 11603.43), Volume: 0.1038, P&L: 0.0003\n",
      "Trade executed: sell entered at 2020-08-23 15:02:00 (Entry Price: 11636.47), exited at 2020-08-23T15:40:00.000000000 (Exit Price: 11615.01), Volume: 0.1038, P&L: 0.0002\n",
      "Trade executed: buy entered at 2020-08-23 17:14:00 (Entry Price: 11628.30), exited at 2020-08-23T17:15:00.000000000 (Exit Price: 11632.75), Volume: 0.1038, P&L: 0.0000\n",
      "Trade executed: sell entered at 2020-08-23 17:24:00 (Entry Price: 11643.00), exited at 2020-08-23T17:53:00.000000000 (Exit Price: 11641.08), Volume: 0.1038, P&L: -0.0000\n",
      "Trade executed: sell entered at 2020-08-23 20:00:00 (Entry Price: 11705.33), exited at 2020-08-23T20:39:00.000000000 (Exit Price: 11688.89), Volume: 0.1038, P&L: 0.0001\n",
      "Trade executed: buy entered at 2020-08-23 22:46:00 (Entry Price: 11658.53), exited at 2020-08-23T23:17:00.000000000 (Exit Price: 11675.75), Volume: 0.1039, P&L: 0.0001\n",
      "Trade executed: buy entered at 2020-08-24 01:01:00 (Entry Price: 11629.93), exited at 2020-08-24T02:04:00.000000000 (Exit Price: 11642.06), Volume: 0.1039, P&L: 0.0001\n",
      "Trade executed: sell entered at 2020-08-24 03:26:00 (Entry Price: 11689.98), exited at 2020-08-24T03:46:00.000000000 (Exit Price: 11677.00), Volume: 0.1039, P&L: 0.0001\n",
      "Trade flipped: buy entered at 2020-08-24 05:41:00 (Entry Price: 11663.48), exited at 2020-08-24T06:10:00.000000000 (Exit Price: 11673.79), Volume: 0.1039, P&L: 0.0001\n",
      "Trade executed: sell entered at 2020-08-24 07:15:00 (Entry Price: 11765.46), exited at 2020-08-24T07:44:00.000000000 (Exit Price: 11752.14), Volume: 0.1039, P&L: 0.0001\n",
      "Trade executed: sell entered at 2020-08-24 07:23:00 (Entry Price: 11766.32), exited at 2020-08-24T07:44:00.000000000 (Exit Price: 11752.14), Volume: 0.1039, P&L: 0.0001\n",
      "Trade executed: sell entered at 2020-08-24 06:10:00 (Entry Price: 11673.79), exited at 2020-08-24T08:34:00.000000000 (Exit Price: 11769.02), Volume: 0.1039, P&L: -0.0009\n",
      "Trade executed: sell entered at 2020-08-24 06:37:00 (Entry Price: 11737.75), exited at 2020-08-24T08:34:00.000000000 (Exit Price: 11769.02), Volume: 0.1039, P&L: -0.0003\n",
      "Trade executed: sell entered at 2020-08-24 07:41:00 (Entry Price: 11760.30), exited at 2020-08-24T08:34:00.000000000 (Exit Price: 11769.02), Volume: 0.1039, P&L: -0.0001\n",
      "Trade executed: sell entered at 2020-08-24 07:42:00 (Entry Price: 11760.00), exited at 2020-08-24T08:34:00.000000000 (Exit Price: 11769.02), Volume: 0.1039, P&L: -0.0001\n",
      "Trade executed: sell entered at 2020-08-24 07:50:00 (Entry Price: 11763.14), exited at 2020-08-24T08:34:00.000000000 (Exit Price: 11769.02), Volume: 0.1039, P&L: -0.0001\n",
      "Trade executed: sell entered at 2020-08-24 11:05:00 (Entry Price: 11805.99), exited at 2020-08-24T11:41:00.000000000 (Exit Price: 11796.76), Volume: 0.1038, P&L: 0.0001\n",
      "Trade executed: sell entered at 2020-08-24 11:43:00 (Entry Price: 11800.15), exited at 2020-08-24T11:44:00.000000000 (Exit Price: 11794.74), Volume: 0.1038, P&L: 0.0000\n",
      "Trade executed: sell entered at 2020-08-24 12:07:00 (Entry Price: 11809.45), exited at 2020-08-24T12:27:00.000000000 (Exit Price: 11804.00), Volume: 0.1038, P&L: 0.0000\n",
      "Trade executed: buy entered at 2020-08-24 15:32:00 (Entry Price: 11737.41), exited at 2020-08-24T15:59:00.000000000 (Exit Price: 11768.00), Volume: 0.1038, P&L: 0.0002\n",
      "Trade executed: buy entered at 2020-08-24 14:44:00 (Entry Price: 11757.85), exited at 2020-08-24T16:25:00.000000000 (Exit Price: 11771.97), Volume: 0.1038, P&L: 0.0001\n",
      "Trade executed: buy entered at 2020-08-24 19:06:00 (Entry Price: 11720.51), exited at 2020-08-24T19:43:00.000000000 (Exit Price: 11746.50), Volume: 0.1038, P&L: 0.0002\n",
      "Trade executed: buy entered at 2020-08-24 19:47:00 (Entry Price: 11740.06), exited at 2020-08-24T19:52:00.000000000 (Exit Price: 11747.84), Volume: 0.1038, P&L: 0.0000\n",
      "Trade executed: buy entered at 2020-08-24 20:21:00 (Entry Price: 11729.39), exited at 2020-08-24T20:42:00.000000000 (Exit Price: 11739.48), Volume: 0.1038, P&L: 0.0001\n",
      "Trade executed: buy entered at 2020-08-24 21:01:00 (Entry Price: 11724.83), exited at 2020-08-24T21:05:00.000000000 (Exit Price: 11738.22), Volume: 0.1039, P&L: 0.0001\n",
      "Trade executed: sell entered at 2020-08-24 21:55:00 (Entry Price: 11772.67), exited at 2020-08-24T21:57:00.000000000 (Exit Price: 11758.34), Volume: 0.1039, P&L: 0.0001\n",
      "Trade executed: sell entered at 2020-08-24 21:07:00 (Entry Price: 11742.00), exited at 2020-08-24T22:08:00.000000000 (Exit Price: 11753.10), Volume: 0.1039, P&L: -0.0001\n",
      "Trade executed: sell entered at 2020-08-24 21:57:00 (Entry Price: 11758.34), exited at 2020-08-24T22:08:00.000000000 (Exit Price: 11753.10), Volume: 0.1039, P&L: 0.0000\n",
      "Trade executed: buy entered at 2020-08-24 22:41:00 (Entry Price: 11743.07), exited at 2020-08-24T22:54:00.000000000 (Exit Price: 11753.33), Volume: 0.1039, P&L: 0.0001\n",
      "Trade executed: buy entered at 2020-08-24 23:59:00 (Entry Price: 11753.30), exited at 2020-08-25T00:00:00.000000000 (Exit Price: 11760.83), Volume: 0.1039, P&L: 0.0000\n",
      "Trade executed: buy entered at 2020-08-25 00:51:00 (Entry Price: 11744.49), exited at 2020-08-25T01:28:00.000000000 (Exit Price: 11756.27), Volume: 0.1039, P&L: 0.0001\n",
      "Trade executed: buy entered at 2020-08-25 00:07:00 (Entry Price: 11758.80), exited at 2020-08-25T01:29:00.000000000 (Exit Price: 11760.00), Volume: 0.1039, P&L: -0.0000\n",
      "Trade executed: buy entered at 2020-08-25 04:03:00 (Entry Price: 11673.34), exited at 2020-08-25T05:07:00.000000000 (Exit Price: 11690.45), Volume: 0.1039, P&L: 0.0001\n",
      "Trade executed: buy entered at 2020-08-25 03:35:00 (Entry Price: 11682.96), exited at 2020-08-25T05:12:00.000000000 (Exit Price: 11691.95), Volume: 0.1039, P&L: 0.0001\n",
      "Trade executed: buy entered at 2020-08-25 02:07:00 (Entry Price: 11736.95), exited at 2020-08-25T05:13:00.000000000 (Exit Price: 11696.99), Volume: 0.1039, P&L: -0.0004\n",
      "Trade executed: buy entered at 2020-08-25 03:34:00 (Entry Price: 11691.64), exited at 2020-08-25T05:13:00.000000000 (Exit Price: 11696.99), Volume: 0.1039, P&L: 0.0000\n",
      "Trade executed: buy entered at 2020-08-25 06:35:00 (Entry Price: 11637.20), exited at 2020-08-25T09:42:00.000000000 (Exit Price: 11593.66), Volume: 0.1039, P&L: -0.0004\n",
      "Trade executed: buy entered at 2020-08-25 07:25:00 (Entry Price: 11595.86), exited at 2020-08-25T09:42:00.000000000 (Exit Price: 11593.66), Volume: 0.1039, P&L: -0.0000\n",
      "Trade executed: buy entered at 2020-08-25 07:49:00 (Entry Price: 11585.84), exited at 2020-08-25T09:42:00.000000000 (Exit Price: 11593.66), Volume: 0.1039, P&L: 0.0000\n",
      "Trade executed: buy entered at 2020-08-25 12:08:00 (Entry Price: 11579.33), exited at 2020-08-25T16:10:00.000000000 (Exit Price: 11440.25), Volume: 0.1038, P&L: -0.0013\n",
      "Trade executed: buy entered at 2020-08-25 13:05:00 (Entry Price: 11535.98), exited at 2020-08-25T16:10:00.000000000 (Exit Price: 11440.25), Volume: 0.1038, P&L: -0.0009\n",
      "Trade executed: buy entered at 2020-08-25 13:08:00 (Entry Price: 11494.15), exited at 2020-08-25T16:10:00.000000000 (Exit Price: 11440.25), Volume: 0.1038, P&L: -0.0005\n",
      "Trade executed: buy entered at 2020-08-25 17:40:00 (Entry Price: 11277.02), exited at 2020-08-25T19:16:00.000000000 (Exit Price: 11318.00), Volume: 0.1036, P&L: 0.0004\n",
      "Trade executed: buy entered at 2020-08-25 17:31:00 (Entry Price: 11330.24), exited at 2020-08-25T19:17:00.000000000 (Exit Price: 11329.29), Volume: 0.1036, P&L: -0.0000\n",
      "Trade executed: sell entered at 2020-08-25 20:32:00 (Entry Price: 11327.35), exited at 2020-08-25T20:43:00.000000000 (Exit Price: 11306.98), Volume: 0.1036, P&L: 0.0002\n",
      "Trade executed: buy entered at 2020-08-26 00:16:00 (Entry Price: 11307.21), exited at 2020-08-26T01:30:00.000000000 (Exit Price: 11348.52), Volume: 0.1036, P&L: 0.0004\n",
      "Trade executed: sell entered at 2020-08-26 01:44:00 (Entry Price: 11344.02), exited at 2020-08-26T03:13:00.000000000 (Exit Price: 11365.85), Volume: 0.1036, P&L: -0.0002\n",
      "Trade executed: sell entered at 2020-08-26 04:01:00 (Entry Price: 11377.14), exited at 2020-08-26T04:03:00.000000000 (Exit Price: 11361.50), Volume: 0.1036, P&L: 0.0001\n",
      "Trade executed: sell entered at 2020-08-26 04:11:00 (Entry Price: 11397.14), exited at 2020-08-26T04:34:00.000000000 (Exit Price: 11367.67), Volume: 0.1036, P&L: 0.0002\n",
      "Trade executed: buy entered at 2020-08-26 04:37:00 (Entry Price: 11358.39), exited at 2020-08-26T04:44:00.000000000 (Exit Price: 11366.96), Volume: 0.1037, P&L: 0.0001\n",
      "Trade executed: sell entered at 2020-08-26 05:05:00 (Entry Price: 11385.00), exited at 2020-08-26T05:23:00.000000000 (Exit Price: 11372.27), Volume: 0.1037, P&L: 0.0001\n",
      "Trade executed: buy entered at 2020-08-26 06:30:00 (Entry Price: 11341.26), exited at 2020-08-26T07:40:00.000000000 (Exit Price: 11359.48), Volume: 0.1037, P&L: 0.0001\n",
      "Trade executed: sell entered at 2020-08-26 07:42:00 (Entry Price: 11360.62), exited at 2020-08-26T08:33:00.000000000 (Exit Price: 11348.30), Volume: 0.1037, P&L: 0.0001\n",
      "Trade executed: sell entered at 2020-08-26 08:51:00 (Entry Price: 11358.68), exited at 2020-08-26T08:54:00.000000000 (Exit Price: 11357.52), Volume: 0.1037, P&L: -0.0000\n",
      "Trade executed: sell entered at 2020-08-26 09:32:00 (Entry Price: 11372.85), exited at 2020-08-26T09:37:00.000000000 (Exit Price: 11360.74), Volume: 0.1037, P&L: 0.0001\n",
      "Trade executed: sell entered at 2020-08-26 09:42:00 (Entry Price: 11368.52), exited at 2020-08-26T10:56:00.000000000 (Exit Price: 11391.00), Volume: 0.1037, P&L: -0.0002\n",
      "Trade executed: sell entered at 2020-08-26 10:22:00 (Entry Price: 11397.83), exited at 2020-08-26T10:56:00.000000000 (Exit Price: 11391.00), Volume: 0.1037, P&L: 0.0000\n",
      "Trade executed: buy entered at 2020-08-26 11:49:00 (Entry Price: 11388.00), exited at 2020-08-26T11:50:00.000000000 (Exit Price: 11392.95), Volume: 0.1037, P&L: 0.0000\n",
      "Trade executed: buy entered at 2020-08-26 11:58:00 (Entry Price: 11386.90), exited at 2020-08-26T12:00:00.000000000 (Exit Price: 11397.23), Volume: 0.1037, P&L: 0.0001\n",
      "Trade flipped: buy entered at 2020-08-26 12:24:00 (Entry Price: 11374.77), exited at 2020-08-26T13:58:00.000000000 (Exit Price: 11410.32), Volume: 0.1037, P&L: 0.0003\n",
      "Trade flipped: buy entered at 2020-08-26 12:55:00 (Entry Price: 11295.83), exited at 2020-08-26T13:58:00.000000000 (Exit Price: 11410.32), Volume: 0.1037, P&L: 0.0010\n",
      "Trade flipped: buy entered at 2020-08-26 13:23:00 (Entry Price: 11307.62), exited at 2020-08-26T13:58:00.000000000 (Exit Price: 11410.32), Volume: 0.1037, P&L: 0.0009\n",
      "Trade executed: sell entered at 2020-08-26 14:35:00 (Entry Price: 11476.70), exited at 2020-08-26T14:52:00.000000000 (Exit Price: 11432.67), Volume: 0.1039, P&L: 0.0004\n",
      "Trade executed: sell entered at 2020-08-26 14:36:00 (Entry Price: 11467.64), exited at 2020-08-26T14:52:00.000000000 (Exit Price: 11432.67), Volume: 0.1039, P&L: 0.0003\n",
      "Trade executed: sell entered at 2020-08-26 13:58:00 (Entry Price: 11410.32), exited at 2020-08-26T15:37:00.000000000 (Exit Price: 11464.75), Volume: 0.1039, P&L: -0.0005\n",
      "Trade executed: buy entered at 2020-08-26 19:50:00 (Entry Price: 11470.00), exited at 2020-08-26T19:53:00.000000000 (Exit Price: 11471.58), Volume: 0.1039, P&L: -0.0000\n",
      "Trade executed: sell entered at 2020-08-26 20:45:00 (Entry Price: 11494.14), exited at 2020-08-26T21:13:00.000000000 (Exit Price: 11480.26), Volume: 0.1039, P&L: 0.0001\n",
      "Trade executed: buy entered at 2020-08-26 22:33:00 (Entry Price: 11442.25), exited at 2020-08-26T23:06:00.000000000 (Exit Price: 11465.62), Volume: 0.1040, P&L: 0.0002\n",
      "Trade flipped: buy entered at 2020-08-26 22:28:00 (Entry Price: 11466.98), exited at 2020-08-26T23:13:00.000000000 (Exit Price: 11475.85), Volume: 0.1040, P&L: 0.0001\n",
      "Trade flipped: sell entered at 2020-08-26 23:13:00 (Entry Price: 11475.85), exited at 2020-08-26T23:14:00.000000000 (Exit Price: 11470.02), Volume: 0.1040, P&L: 0.0000\n",
      "Trade flipped: buy entered at 2020-08-26 23:14:00 (Entry Price: 11470.02), exited at 2020-08-26T23:16:00.000000000 (Exit Price: 11475.48), Volume: 0.1040, P&L: 0.0000\n",
      "Trade flipped: sell entered at 2020-08-26 23:16:00 (Entry Price: 11475.48), exited at 2020-08-26T23:17:00.000000000 (Exit Price: 11471.10), Volume: 0.1040, P&L: 0.0000\n",
      "Trade flipped: buy entered at 2020-08-26 23:17:00 (Entry Price: 11471.10), exited at 2020-08-26T23:18:00.000000000 (Exit Price: 11476.41), Volume: 0.1040, P&L: 0.0000\n",
      "Trade flipped: sell entered at 2020-08-26 23:18:00 (Entry Price: 11476.41), exited at 2020-08-26T23:42:00.000000000 (Exit Price: 11470.77), Volume: 0.1040, P&L: 0.0000\n",
      "Trade flipped: buy entered at 2020-08-26 23:42:00 (Entry Price: 11470.77), exited at 2020-08-26T23:43:00.000000000 (Exit Price: 11478.66), Volume: 0.1040, P&L: 0.0001\n",
      "Trade flipped: sell entered at 2020-08-26 23:43:00 (Entry Price: 11478.66), exited at 2020-08-26T23:44:00.000000000 (Exit Price: 11473.23), Volume: 0.1040, P&L: 0.0000\n",
      "Trade executed: buy entered at 2020-08-26 23:44:00 (Entry Price: 11473.23), exited at 2020-08-26T23:56:00.000000000 (Exit Price: 11477.59), Volume: 0.1040, P&L: 0.0000\n",
      "Trade executed: buy entered at 2020-08-27 02:08:00 (Entry Price: 11389.74), exited at 2020-08-27T03:33:00.000000000 (Exit Price: 11420.01), Volume: 0.1040, P&L: 0.0003\n",
      "Trade executed: buy entered at 2020-08-27 06:17:00 (Entry Price: 11377.66), exited at 2020-08-27T06:32:00.000000000 (Exit Price: 11385.14), Volume: 0.1040, P&L: 0.0000\n",
      "Trade executed: buy entered at 2020-08-27 06:37:00 (Entry Price: 11378.52), exited at 2020-08-27T06:41:00.000000000 (Exit Price: 11387.99), Volume: 0.1040, P&L: 0.0001\n",
      "Trade executed: sell entered at 2020-08-27 06:45:00 (Entry Price: 11391.84), exited at 2020-08-27T07:21:00.000000000 (Exit Price: 11378.81), Volume: 0.1040, P&L: 0.0001\n",
      "Trade executed: sell entered at 2020-08-27 07:34:00 (Entry Price: 11393.87), exited at 2020-08-27T08:01:00.000000000 (Exit Price: 11387.80), Volume: 0.1040, P&L: 0.0000\n",
      "Trade flipped: sell entered at 2020-08-27 09:35:00 (Entry Price: 11392.65), exited at 2020-08-27T10:10:00.000000000 (Exit Price: 11391.14), Volume: 0.1040, P&L: -0.0000\n",
      "Trade flipped: sell entered at 2020-08-27 09:37:00 (Entry Price: 11425.58), exited at 2020-08-27T10:10:00.000000000 (Exit Price: 11391.14), Volume: 0.1040, P&L: 0.0003\n",
      "Trade executed: buy entered at 2020-08-27 10:10:00 (Entry Price: 11391.14), exited at 2020-08-27T10:11:00.000000000 (Exit Price: 11394.99), Volume: 0.1041, P&L: 0.0000\n",
      "Trade flipped: buy entered at 2020-08-27 10:25:00 (Entry Price: 11377.75), exited at 2020-08-27T12:53:00.000000000 (Exit Price: 11365.79), Volume: 0.1041, P&L: -0.0001\n",
      "Trade flipped: buy entered at 2020-08-27 11:14:00 (Entry Price: 11356.00), exited at 2020-08-27T12:53:00.000000000 (Exit Price: 11365.79), Volume: 0.1041, P&L: 0.0001\n",
      "Trade executed: sell entered at 2020-08-27 12:53:00 (Entry Price: 11365.79), exited at 2020-08-27T13:46:00.000000000 (Exit Price: 11370.00), Volume: 0.1041, P&L: -0.0001\n",
      "Trade executed: sell entered at 2020-08-27 13:16:00 (Entry Price: 11517.10), exited at 2020-08-27T13:46:00.000000000 (Exit Price: 11370.00), Volume: 0.1041, P&L: 0.0013\n",
      "Trade executed: sell entered at 2020-08-27 13:57:00 (Entry Price: 11416.97), exited at 2020-08-27T13:58:00.000000000 (Exit Price: 11398.84), Volume: 0.1042, P&L: 0.0001\n",
      "Trade executed: buy entered at 2020-08-27 14:02:00 (Entry Price: 11369.49), exited at 2020-08-27T18:51:00.000000000 (Exit Price: 11271.43), Volume: 0.1042, P&L: -0.0009\n",
      "Trade executed: sell entered at 2020-08-27 22:12:00 (Entry Price: 11306.08), exited at 2020-08-27T22:24:00.000000000 (Exit Price: 11282.36), Volume: 0.1041, P&L: 0.0002\n",
      "Trade executed: sell entered at 2020-08-28 00:06:00 (Entry Price: 11311.50), exited at 2020-08-28T00:08:00.000000000 (Exit Price: 11301.53), Volume: 0.1041, P&L: 0.0001\n",
      "Trade executed: buy entered at 2020-08-28 00:30:00 (Entry Price: 11294.25), exited at 2020-08-28T00:31:00.000000000 (Exit Price: 11299.66), Volume: 0.1041, P&L: 0.0000\n",
      "Trade executed: buy entered at 2020-08-28 00:38:00 (Entry Price: 11285.26), exited at 2020-08-28T00:40:00.000000000 (Exit Price: 11300.99), Volume: 0.1042, P&L: 0.0001\n",
      "Trade executed: sell entered at 2020-08-28 01:14:00 (Entry Price: 11368.54), exited at 2020-08-28T01:28:00.000000000 (Exit Price: 11343.57), Volume: 0.1042, P&L: 0.0002\n",
      "Trade executed: sell entered at 2020-08-28 00:42:00 (Entry Price: 11319.20), exited at 2020-08-28T02:34:00.000000000 (Exit Price: 11366.27), Volume: 0.1042, P&L: -0.0005\n",
      "Trade executed: sell entered at 2020-08-28 01:28:00 (Entry Price: 11343.57), exited at 2020-08-28T02:34:00.000000000 (Exit Price: 11366.27), Volume: 0.1042, P&L: -0.0002\n",
      "Trade executed: sell entered at 2020-08-28 05:01:00 (Entry Price: 11406.75), exited at 2020-08-28T05:12:00.000000000 (Exit Price: 11381.84), Volume: 0.1041, P&L: 0.0002\n",
      "Trade executed: sell entered at 2020-08-28 05:15:00 (Entry Price: 11384.93), exited at 2020-08-28T05:21:00.000000000 (Exit Price: 11383.67), Volume: 0.1041, P&L: -0.0000\n",
      "Trade executed: buy entered at 2020-08-28 05:31:00 (Entry Price: 11375.89), exited at 2020-08-28T05:37:00.000000000 (Exit Price: 11378.62), Volume: 0.1041, P&L: 0.0000\n",
      "Trade executed: sell entered at 2020-08-28 06:15:00 (Entry Price: 11406.04), exited at 2020-08-28T07:11:00.000000000 (Exit Price: 11411.98), Volume: 0.1041, P&L: -0.0001\n",
      "Trade executed: sell entered at 2020-08-28 06:49:00 (Entry Price: 11436.22), exited at 2020-08-28T07:11:00.000000000 (Exit Price: 11411.98), Volume: 0.1041, P&L: 0.0002\n",
      "Trade executed: buy entered at 2020-08-28 07:25:00 (Entry Price: 11392.06), exited at 2020-08-28T07:26:00.000000000 (Exit Price: 11399.99), Volume: 0.1041, P&L: 0.0001\n",
      "Trade executed: buy entered at 2020-08-28 07:27:00 (Entry Price: 11397.75), exited at 2020-08-28T07:30:00.000000000 (Exit Price: 11400.57), Volume: 0.1042, P&L: 0.0000\n",
      "Trade executed: buy entered at 2020-08-28 07:33:00 (Entry Price: 11391.56), exited at 2020-08-28T08:25:00.000000000 (Exit Price: 11401.61), Volume: 0.1042, P&L: 0.0001\n",
      "Trade executed: sell entered at 2020-08-28 09:43:00 (Entry Price: 11432.07), exited at 2020-08-28T10:04:00.000000000 (Exit Price: 11426.09), Volume: 0.1042, P&L: 0.0000\n",
      "Trade executed: sell entered at 2020-08-28 10:14:00 (Entry Price: 11431.34), exited at 2020-08-28T10:15:00.000000000 (Exit Price: 11423.00), Volume: 0.1042, P&L: 0.0001\n",
      "Trade executed: sell entered at 2020-08-28 11:32:00 (Entry Price: 11442.48), exited at 2020-08-28T12:37:00.000000000 (Exit Price: 11455.15), Volume: 0.1042, P&L: -0.0001\n",
      "Trade executed: sell entered at 2020-08-28 12:20:00 (Entry Price: 11469.07), exited at 2020-08-28T12:37:00.000000000 (Exit Price: 11455.15), Volume: 0.1042, P&L: 0.0001\n",
      "Trade executed: buy entered at 2020-08-28 13:10:00 (Entry Price: 11441.97), exited at 2020-08-28T13:11:00.000000000 (Exit Price: 11447.20), Volume: 0.1042, P&L: 0.0000\n",
      "Trade executed: buy entered at 2020-08-28 13:28:00 (Entry Price: 11434.29), exited at 2020-08-28T13:35:00.000000000 (Exit Price: 11447.00), Volume: 0.1042, P&L: 0.0001\n",
      "Trade flipped: buy entered at 2020-08-28 13:39:00 (Entry Price: 11441.03), exited at 2020-08-28T13:40:00.000000000 (Exit Price: 11450.77), Volume: 0.1042, P&L: 0.0001\n",
      "Trade executed: sell entered at 2020-08-28 13:40:00 (Entry Price: 11450.77), exited at 2020-08-28T13:41:00.000000000 (Exit Price: 11450.03), Volume: 0.1042, P&L: -0.0000\n",
      "Trade executed: buy entered at 2020-08-28 13:46:00 (Entry Price: 11443.99), exited at 2020-08-28T13:47:00.000000000 (Exit Price: 11447.99), Volume: 0.1042, P&L: 0.0000\n",
      "Trade executed: buy entered at 2020-08-28 13:48:00 (Entry Price: 11442.95), exited at 2020-08-28T13:50:00.000000000 (Exit Price: 11448.83), Volume: 0.1042, P&L: 0.0000\n",
      "Trade executed: buy entered at 2020-08-28 14:22:00 (Entry Price: 11443.70), exited at 2020-08-28T15:09:00.000000000 (Exit Price: 11453.53), Volume: 0.1042, P&L: 0.0001\n",
      "Trade executed: buy entered at 2020-08-28 18:37:00 (Entry Price: 11490.24), exited at 2020-08-28T19:35:00.000000000 (Exit Price: 11504.93), Volume: 0.1042, P&L: 0.0001\n",
      "Trade executed: sell entered at 2020-08-28 19:40:00 (Entry Price: 11518.86), exited at 2020-08-28T20:00:00.000000000 (Exit Price: 11495.49), Volume: 0.1042, P&L: 0.0002\n",
      "Trade executed: buy entered at 2020-08-28 21:12:00 (Entry Price: 11484.74), exited at 2020-08-28T21:27:00.000000000 (Exit Price: 11496.18), Volume: 0.1042, P&L: 0.0001\n",
      "Trade flipped: buy entered at 2020-08-28 21:33:00 (Entry Price: 11486.01), exited at 2020-08-28T21:52:00.000000000 (Exit Price: 11493.73), Volume: 0.1042, P&L: 0.0000\n",
      "Trade flipped: sell entered at 2020-08-28 21:52:00 (Entry Price: 11493.73), exited at 2020-08-28T21:58:00.000000000 (Exit Price: 11490.33), Volume: 0.1042, P&L: 0.0000\n",
      "Trade flipped: buy entered at 2020-08-28 21:58:00 (Entry Price: 11490.33), exited at 2020-08-28T21:59:00.000000000 (Exit Price: 11492.13), Volume: 0.1042, P&L: -0.0000\n",
      "Trade flipped: sell entered at 2020-08-28 21:59:00 (Entry Price: 11492.13), exited at 2020-08-28T22:00:00.000000000 (Exit Price: 11488.23), Volume: 0.1042, P&L: 0.0000\n",
      "Trade executed: buy entered at 2020-08-28 22:00:00 (Entry Price: 11488.23), exited at 2020-08-28T23:06:00.000000000 (Exit Price: 11486.37), Volume: 0.1042, P&L: -0.0000\n",
      "Trade executed: sell entered at 2020-08-29 00:08:00 (Entry Price: 11513.62), exited at 2020-08-29T00:14:00.000000000 (Exit Price: 11498.22), Volume: 0.1042, P&L: 0.0001\n",
      "Trade executed: buy entered at 2020-08-29 01:10:00 (Entry Price: 11490.99), exited at 2020-08-29T01:12:00.000000000 (Exit Price: 11500.40), Volume: 0.1042, P&L: 0.0001\n",
      "Trade executed: buy entered at 2020-08-29 01:16:00 (Entry Price: 11491.43), exited at 2020-08-29T01:39:00.000000000 (Exit Price: 11498.99), Volume: 0.1043, P&L: 0.0000\n",
      "Trade executed: buy entered at 2020-08-29 01:48:00 (Entry Price: 11470.74), exited at 2020-08-29T02:21:00.000000000 (Exit Price: 11484.16), Volume: 0.1043, P&L: 0.0001\n",
      "Trade executed: buy entered at 2020-08-29 02:23:00 (Entry Price: 11484.64), exited at 2020-08-29T03:35:00.000000000 (Exit Price: 11487.33), Volume: 0.1043, P&L: 0.0000\n",
      "Trade executed: sell entered at 2020-08-29 05:17:00 (Entry Price: 11506.67), exited at 2020-08-29T05:20:00.000000000 (Exit Price: 11494.63), Volume: 0.1043, P&L: 0.0001\n",
      "Trade executed: buy entered at 2020-08-29 05:30:00 (Entry Price: 11486.77), exited at 2020-08-29T05:32:00.000000000 (Exit Price: 11493.49), Volume: 0.1043, P&L: 0.0000\n",
      "Trade executed: sell entered at 2020-08-29 06:47:00 (Entry Price: 11518.29), exited at 2020-08-29T07:05:00.000000000 (Exit Price: 11509.09), Volume: 0.1043, P&L: 0.0001\n",
      "Trade executed: sell entered at 2020-08-29 07:16:00 (Entry Price: 11520.23), exited at 2020-08-29T07:19:00.000000000 (Exit Price: 11513.80), Volume: 0.1043, P&L: 0.0000\n",
      "Trade executed: sell entered at 2020-08-29 07:28:00 (Entry Price: 11525.99), exited at 2020-08-29T08:23:00.000000000 (Exit Price: 11539.07), Volume: 0.1043, P&L: -0.0001\n",
      "Trade executed: sell entered at 2020-08-29 08:40:00 (Entry Price: 11546.55), exited at 2020-08-29T08:44:00.000000000 (Exit Price: 11544.91), Volume: 0.1043, P&L: -0.0000\n",
      "Trade executed: sell entered at 2020-08-29 08:50:00 (Entry Price: 11548.08), exited at 2020-08-29T08:51:00.000000000 (Exit Price: 11538.34), Volume: 0.1043, P&L: 0.0001\n",
      "Trade executed: buy entered at 2020-08-29 09:04:00 (Entry Price: 11524.42), exited at 2020-08-29T09:06:00.000000000 (Exit Price: 11539.22), Volume: 0.1043, P&L: 0.0001\n",
      "Trade executed: buy entered at 2020-08-29 10:48:00 (Entry Price: 11460.45), exited at 2020-08-29T12:03:00.000000000 (Exit Price: 11479.00), Volume: 0.1043, P&L: 0.0001\n",
      "Trade executed: buy entered at 2020-08-29 12:03:00 (Entry Price: 11479.00), exited at 2020-08-29T14:30:00.000000000 (Exit Price: 11462.00), Volume: 0.1043, P&L: -0.0002\n",
      "Trade executed: sell entered at 2020-08-29 15:24:00 (Entry Price: 11501.69), exited at 2020-08-29T15:55:00.000000000 (Exit Price: 11487.40), Volume: 0.1043, P&L: 0.0001\n",
      "Trade executed: sell entered at 2020-08-29 15:56:00 (Entry Price: 11494.61), exited at 2020-08-29T16:02:00.000000000 (Exit Price: 11489.61), Volume: 0.1043, P&L: 0.0000\n",
      "Trade executed: sell entered at 2020-08-29 17:01:00 (Entry Price: 11516.34), exited at 2020-08-29T17:11:00.000000000 (Exit Price: 11501.47), Volume: 0.1043, P&L: 0.0001\n",
      "Trade executed: sell entered at 2020-08-29 19:12:00 (Entry Price: 11532.23), exited at 2020-08-29T19:46:00.000000000 (Exit Price: 11525.00), Volume: 0.1043, P&L: 0.0000\n",
      "Trade executed: buy entered at 2020-08-29 19:48:00 (Entry Price: 11523.35), exited at 2020-08-29T19:53:00.000000000 (Exit Price: 11527.84), Volume: 0.1043, P&L: 0.0000\n",
      "Trade executed: buy entered at 2020-08-29 20:08:00 (Entry Price: 11521.10), exited at 2020-08-29T20:26:00.000000000 (Exit Price: 11527.66), Volume: 0.1043, P&L: 0.0000\n",
      "Trade executed: buy entered at 2020-08-29 22:03:00 (Entry Price: 11499.22), exited at 2020-08-29T22:20:00.000000000 (Exit Price: 11512.75), Volume: 0.1043, P&L: 0.0001\n",
      "Trade executed: buy entered at 2020-08-30 00:00:00 (Entry Price: 11468.95), exited at 2020-08-30T00:18:00.000000000 (Exit Price: 11497.33), Volume: 0.1043, P&L: 0.0002\n",
      "Trade executed: buy entered at 2020-08-30 00:19:00 (Entry Price: 11496.12), exited at 2020-08-30T00:40:00.000000000 (Exit Price: 11500.99), Volume: 0.1044, P&L: 0.0000\n",
      "Trade flipped: buy entered at 2020-08-30 00:42:00 (Entry Price: 11496.95), exited at 2020-08-30T00:44:00.000000000 (Exit Price: 11502.23), Volume: 0.1044, P&L: 0.0000\n",
      "Trade executed: sell entered at 2020-08-30 00:44:00 (Entry Price: 11502.23), exited at 2020-08-30T03:02:00.000000000 (Exit Price: 11624.18), Volume: 0.1044, P&L: -0.0011\n",
      "Trade executed: sell entered at 2020-08-30 01:19:00 (Entry Price: 11519.48), exited at 2020-08-30T03:02:00.000000000 (Exit Price: 11624.18), Volume: 0.1044, P&L: -0.0010\n",
      "Trade executed: sell entered at 2020-08-30 02:14:00 (Entry Price: 11624.31), exited at 2020-08-30T03:02:00.000000000 (Exit Price: 11624.18), Volume: 0.1044, P&L: -0.0000\n",
      "Trade executed: sell entered at 2020-08-30 02:15:00 (Entry Price: 11629.89), exited at 2020-08-30T03:02:00.000000000 (Exit Price: 11624.18), Volume: 0.1044, P&L: 0.0000\n",
      "Trade executed: sell entered at 2020-08-30 02:16:00 (Entry Price: 11633.29), exited at 2020-08-30T03:02:00.000000000 (Exit Price: 11624.18), Volume: 0.1044, P&L: 0.0001\n",
      "Trade executed: sell entered at 2020-08-30 02:17:00 (Entry Price: 11627.66), exited at 2020-08-30T03:02:00.000000000 (Exit Price: 11624.18), Volume: 0.1044, P&L: 0.0000\n",
      "Trade executed: sell entered at 2020-08-30 02:23:00 (Entry Price: 11628.01), exited at 2020-08-30T03:02:00.000000000 (Exit Price: 11624.18), Volume: 0.1044, P&L: 0.0000\n",
      "Trade executed: buy entered at 2020-08-30 07:23:00 (Entry Price: 11585.69), exited at 2020-08-30T07:43:00.000000000 (Exit Price: 11591.29), Volume: 0.1042, P&L: 0.0000\n",
      "Trade executed: sell entered at 2020-08-30 07:50:00 (Entry Price: 11592.01), exited at 2020-08-30T08:29:00.000000000 (Exit Price: 11592.49), Volume: 0.1042, P&L: -0.0000\n",
      "Trade executed: buy entered at 2020-08-30 08:31:00 (Entry Price: 11588.79), exited at 2020-08-30T09:35:00.000000000 (Exit Price: 11588.95), Volume: 0.1042, P&L: -0.0000\n",
      "Trade executed: sell entered at 2020-08-30 09:40:00 (Entry Price: 11589.85), exited at 2020-08-30T10:05:00.000000000 (Exit Price: 11575.01), Volume: 0.1042, P&L: 0.0001\n",
      "Trade executed: sell entered at 2020-08-30 12:11:00 (Entry Price: 11592.14), exited at 2020-08-30T12:12:00.000000000 (Exit Price: 11584.03), Volume: 0.1042, P&L: 0.0001\n",
      "Trade executed: buy entered at 2020-08-30 12:14:00 (Entry Price: 11578.00), exited at 2020-08-30T12:17:00.000000000 (Exit Price: 11585.01), Volume: 0.1042, P&L: 0.0000\n",
      "Trade executed: buy entered at 2020-08-30 12:20:00 (Entry Price: 11578.10), exited at 2020-08-30T12:22:00.000000000 (Exit Price: 11587.62), Volume: 0.1042, P&L: 0.0001\n",
      "Trade executed: buy entered at 2020-08-30 12:24:00 (Entry Price: 11582.71), exited at 2020-08-30T12:25:00.000000000 (Exit Price: 11587.05), Volume: 0.1042, P&L: 0.0000\n",
      "Trade executed: sell entered at 2020-08-30 12:36:00 (Entry Price: 11612.87), exited at 2020-08-30T14:04:00.000000000 (Exit Price: 11622.49), Volume: 0.1042, P&L: -0.0001\n",
      "Trade executed: sell entered at 2020-08-30 13:10:00 (Entry Price: 11633.52), exited at 2020-08-30T14:04:00.000000000 (Exit Price: 11622.49), Volume: 0.1042, P&L: 0.0001\n",
      "Trade flipped: buy entered at 2020-08-30 15:53:00 (Entry Price: 11604.45), exited at 2020-08-30T16:18:00.000000000 (Exit Price: 11631.96), Volume: 0.1042, P&L: 0.0002\n",
      "Trade executed: sell entered at 2020-08-30 16:18:00 (Entry Price: 11631.96), exited at 2020-08-30T17:17:00.000000000 (Exit Price: 11639.20), Volume: 0.1042, P&L: -0.0001\n",
      "Trade executed: sell entered at 2020-08-30 17:05:00 (Entry Price: 11669.02), exited at 2020-08-30T17:17:00.000000000 (Exit Price: 11639.20), Volume: 0.1042, P&L: 0.0002\n",
      "Trade executed: sell entered at 2020-08-30 17:24:00 (Entry Price: 11657.58), exited at 2020-08-30T17:28:00.000000000 (Exit Price: 11647.06), Volume: 0.1042, P&L: 0.0001\n",
      "Trade executed: buy entered at 2020-08-30 20:48:00 (Entry Price: 11631.75), exited at 2020-08-30T21:06:00.000000000 (Exit Price: 11643.95), Volume: 0.1042, P&L: 0.0001\n",
      "Trade flipped: buy entered at 2020-08-30 21:07:00 (Entry Price: 11639.00), exited at 2020-08-30T21:21:00.000000000 (Exit Price: 11647.14), Volume: 0.1042, P&L: 0.0001\n",
      "Trade flipped: sell entered at 2020-08-30 21:21:00 (Entry Price: 11647.14), exited at 2020-08-30T21:23:00.000000000 (Exit Price: 11644.30), Volume: 0.1043, P&L: 0.0000\n",
      "Trade executed: buy entered at 2020-08-30 21:23:00 (Entry Price: 11644.30), exited at 2020-08-30T22:18:00.000000000 (Exit Price: 11642.01), Volume: 0.1043, P&L: -0.0000\n",
      "Trade executed: buy entered at 2020-08-30 21:46:00 (Entry Price: 11614.85), exited at 2020-08-30T22:18:00.000000000 (Exit Price: 11642.01), Volume: 0.1043, P&L: 0.0002\n",
      "Trade flipped: sell entered at 2020-08-30 22:24:00 (Entry Price: 11637.73), exited at 2020-08-30T22:25:00.000000000 (Exit Price: 11633.24), Volume: 0.1043, P&L: 0.0000\n",
      "Trade executed: buy entered at 2020-08-30 22:25:00 (Entry Price: 11633.24), exited at 2020-08-30T22:27:00.000000000 (Exit Price: 11641.01), Volume: 0.1043, P&L: 0.0000\n",
      "Trade executed: sell entered at 2020-08-30 22:44:00 (Entry Price: 11651.59), exited at 2020-08-31T00:19:00.000000000 (Exit Price: 11692.89), Volume: 0.1043, P&L: -0.0004\n",
      "Trade executed: sell entered at 2020-08-30 23:12:00 (Entry Price: 11694.82), exited at 2020-08-31T00:19:00.000000000 (Exit Price: 11692.89), Volume: 0.1043, P&L: -0.0000\n",
      "Trade executed: buy entered at 2020-08-31 05:06:00 (Entry Price: 11670.25), exited at 2020-08-31T06:50:00.000000000 (Exit Price: 11676.62), Volume: 0.1042, P&L: 0.0000\n",
      "Trade executed: buy entered at 2020-08-31 08:19:00 (Entry Price: 11589.89), exited at 2020-08-31T09:36:00.000000000 (Exit Price: 11610.99), Volume: 0.1042, P&L: 0.0002\n",
      "Trade executed: buy entered at 2020-08-31 07:28:00 (Entry Price: 11622.38), exited at 2020-08-31T10:17:00.000000000 (Exit Price: 11621.00), Volume: 0.1042, P&L: -0.0000\n",
      "Trade executed: sell entered at 2020-08-31 11:34:00 (Entry Price: 11677.76), exited at 2020-08-31T12:34:00.000000000 (Exit Price: 11672.01), Volume: 0.1043, P&L: 0.0000\n",
      "Trade executed: sell entered at 2020-08-31 12:39:00 (Entry Price: 11679.99), exited at 2020-08-31T12:40:00.000000000 (Exit Price: 11674.85), Volume: 0.1043, P&L: 0.0000\n",
      "Trade executed: sell entered at 2020-08-31 12:44:00 (Entry Price: 11694.76), exited at 2020-08-31T13:45:00.000000000 (Exit Price: 11720.27), Volume: 0.1043, P&L: -0.0002\n",
      "Trade executed: sell entered at 2020-08-31 12:54:00 (Entry Price: 11749.22), exited at 2020-08-31T13:45:00.000000000 (Exit Price: 11720.27), Volume: 0.1043, P&L: 0.0002\n",
      "Trade executed: buy entered at 2020-08-31 17:02:00 (Entry Price: 11703.50), exited at 2020-08-31T17:07:00.000000000 (Exit Price: 11726.23), Volume: 0.1043, P&L: 0.0002\n",
      "Trade executed: buy entered at 2020-08-31 17:08:00 (Entry Price: 11717.00), exited at 2020-08-31T17:16:00.000000000 (Exit Price: 11725.81), Volume: 0.1043, P&L: 0.0001\n",
      "Trade executed: sell entered at 2020-08-31 17:18:00 (Entry Price: 11729.59), exited at 2020-08-31T17:19:00.000000000 (Exit Price: 11727.25), Volume: 0.1043, P&L: -0.0000\n",
      "Trade flipped: buy entered at 2020-08-31 17:20:00 (Entry Price: 11723.09), exited at 2020-08-31T17:21:00.000000000 (Exit Price: 11729.42), Volume: 0.1043, P&L: 0.0000\n",
      "Trade executed: sell entered at 2020-08-31 17:21:00 (Entry Price: 11729.42), exited at 2020-08-31T17:22:00.000000000 (Exit Price: 11727.81), Volume: 0.1043, P&L: -0.0000\n",
      "Trade executed: sell entered at 2020-08-31 17:24:00 (Entry Price: 11730.00), exited at 2020-08-31T17:25:00.000000000 (Exit Price: 11719.00), Volume: 0.1043, P&L: 0.0001\n",
      "Trade flipped: buy entered at 2020-08-31 17:27:00 (Entry Price: 11716.03), exited at 2020-08-31T17:34:00.000000000 (Exit Price: 11732.63), Volume: 0.1043, P&L: 0.0001\n",
      "Trade executed: sell entered at 2020-08-31 17:34:00 (Entry Price: 11732.63), exited at 2020-08-31T17:56:00.000000000 (Exit Price: 11722.36), Volume: 0.1043, P&L: 0.0001\n",
      "Trade executed: buy entered at 2020-08-31 20:21:00 (Entry Price: 11681.94), exited at 2020-08-31T21:17:00.000000000 (Exit Price: 11706.11), Volume: 0.1043, P&L: 0.0002\n",
      "Trade executed: buy entered at 2020-08-31 21:17:00 (Entry Price: 11706.11), exited at 2020-08-31T23:13:00.000000000 (Exit Price: 11686.34), Volume: 0.1043, P&L: -0.0002\n",
      "Trade executed: buy entered at 2020-08-31 21:48:00 (Entry Price: 11671.42), exited at 2020-08-31T23:13:00.000000000 (Exit Price: 11686.34), Volume: 0.1043, P&L: 0.0001\n",
      "Trade executed: buy entered at 2020-09-01 01:16:00 (Entry Price: 11596.91), exited at 2020-09-01T01:24:00.000000000 (Exit Price: 11627.12), Volume: 0.1043, P&L: 0.0003\n",
      "Trade executed: buy entered at 2020-09-01 00:13:00 (Entry Price: 11635.00), exited at 2020-09-01T02:14:00.000000000 (Exit Price: 11645.00), Volume: 0.1043, P&L: 0.0001\n",
      "Trade executed: sell entered at 2020-09-01 05:50:00 (Entry Price: 11760.22), exited at 2020-09-01T08:14:00.000000000 (Exit Price: 11888.89), Volume: 0.1044, P&L: -0.0012\n",
      "Trade executed: sell entered at 2020-09-01 07:01:00 (Entry Price: 11878.99), exited at 2020-09-01T08:14:00.000000000 (Exit Price: 11888.89), Volume: 0.1044, P&L: -0.0001\n",
      "Trade executed: buy entered at 2020-09-01 11:10:00 (Entry Price: 11903.81), exited at 2020-09-01T12:44:00.000000000 (Exit Price: 11920.66), Volume: 0.1042, P&L: 0.0001\n",
      "Trade executed: buy entered at 2020-09-01 14:05:00 (Entry Price: 11832.59), exited at 2020-09-01T14:35:00.000000000 (Exit Price: 11863.00), Volume: 0.1042, P&L: 0.0002\n",
      "Trade executed: buy entered at 2020-09-01 13:10:00 (Entry Price: 11892.52), exited at 2020-09-01T14:52:00.000000000 (Exit Price: 11883.29), Volume: 0.1042, P&L: -0.0001\n",
      "Trade executed: sell entered at 2020-09-01 15:36:00 (Entry Price: 11959.80), exited at 2020-09-01T16:54:00.000000000 (Exit Price: 12007.26), Volume: 0.1043, P&L: -0.0004\n",
      "Trade executed: sell entered at 2020-09-01 16:25:00 (Entry Price: 12017.72), exited at 2020-09-01T16:54:00.000000000 (Exit Price: 12007.26), Volume: 0.1043, P&L: 0.0001\n",
      "Trade executed: buy entered at 2020-09-01 20:20:00 (Entry Price: 11980.00), exited at 2020-09-01T20:34:00.000000000 (Exit Price: 11986.25), Volume: 0.1042, P&L: 0.0000\n",
      "Trade executed: sell entered at 2020-09-01 20:55:00 (Entry Price: 12018.98), exited at 2020-09-01T22:02:00.000000000 (Exit Price: 12014.99), Volume: 0.1042, P&L: 0.0000\n",
      "Trade executed: sell entered at 2020-09-01 22:08:00 (Entry Price: 12027.14), exited at 2020-09-01T22:26:00.000000000 (Exit Price: 12019.28), Volume: 0.1042, P&L: 0.0000\n",
      "Trade executed: buy entered at 2020-09-01 22:27:00 (Entry Price: 11997.31), exited at 2020-09-01T22:29:00.000000000 (Exit Price: 12004.82), Volume: 0.1042, P&L: 0.0000\n",
      "Trade flipped: buy entered at 2020-09-01 22:30:00 (Entry Price: 11990.95), exited at 2020-09-01T23:15:00.000000000 (Exit Price: 12004.00), Volume: 0.1042, P&L: 0.0001\n",
      "Trade flipped: sell entered at 2020-09-01 23:15:00 (Entry Price: 12004.00), exited at 2020-09-01T23:20:00.000000000 (Exit Price: 11999.99), Volume: 0.1042, P&L: 0.0000\n",
      "Trade executed: buy entered at 2020-09-01 23:20:00 (Entry Price: 11999.99), exited at 2020-09-01T23:22:00.000000000 (Exit Price: 12014.32), Volume: 0.1042, P&L: 0.0001\n",
      "Trade flipped: sell entered at 2020-09-01 23:28:00 (Entry Price: 12007.20), exited at 2020-09-01T23:36:00.000000000 (Exit Price: 12004.04), Volume: 0.1043, P&L: 0.0000\n",
      "Trade executed: buy entered at 2020-09-01 23:36:00 (Entry Price: 12004.04), exited at 2020-09-01T23:37:00.000000000 (Exit Price: 12007.33), Volume: 0.1043, P&L: 0.0000\n",
      "Trade executed: buy entered at 2020-09-01 23:52:00 (Entry Price: 11884.53), exited at 2020-09-02T00:21:00.000000000 (Exit Price: 11957.05), Volume: 0.1043, P&L: 0.0006\n",
      "Trade executed: buy entered at 2020-09-01 23:44:00 (Entry Price: 11991.02), exited at 2020-09-02T04:27:00.000000000 (Exit Price: 11891.92), Volume: 0.1043, P&L: -0.0009\n",
      "Trade executed: buy entered at 2020-09-02 00:30:00 (Entry Price: 11939.18), exited at 2020-09-02T04:27:00.000000000 (Exit Price: 11891.92), Volume: 0.1043, P&L: -0.0004\n",
      "Trade executed: buy entered at 2020-09-02 01:00:00 (Entry Price: 11902.99), exited at 2020-09-02T04:27:00.000000000 (Exit Price: 11891.92), Volume: 0.1043, P&L: -0.0001\n",
      "Trade executed: buy entered at 2020-09-02 04:08:00 (Entry Price: 11869.49), exited at 2020-09-02T04:27:00.000000000 (Exit Price: 11891.92), Volume: 0.1043, P&L: 0.0002\n",
      "Trade executed: buy entered at 2020-09-02 06:39:00 (Entry Price: 11774.48), exited at 2020-09-02T07:30:00.000000000 (Exit Price: 11811.89), Volume: 0.1042, P&L: 0.0003\n",
      "Trade executed: buy entered at 2020-09-02 07:34:00 (Entry Price: 11771.17), exited at 2020-09-02T09:50:00.000000000 (Exit Price: 11752.86), Volume: 0.1042, P&L: -0.0002\n",
      "Trade executed: buy entered at 2020-09-02 11:22:00 (Entry Price: 11245.80), exited at 2020-09-02T11:42:00.000000000 (Exit Price: 11368.92), Volume: 0.1042, P&L: 0.0011\n",
      "Trade executed: buy entered at 2020-09-02 11:42:00 (Entry Price: 11368.92), exited at 2020-09-02T12:05:00.000000000 (Exit Price: 11428.75), Volume: 0.1043, P&L: 0.0005\n",
      "Trade executed: buy entered at 2020-09-02 12:01:00 (Entry Price: 11398.10), exited at 2020-09-02T12:18:00.000000000 (Exit Price: 11484.71), Volume: 0.1043, P&L: 0.0008\n",
      "Trade executed: buy entered at 2020-09-02 15:02:00 (Entry Price: 11276.57), exited at 2020-09-02T15:33:00.000000000 (Exit Price: 11345.76), Volume: 0.1044, P&L: 0.0006\n",
      "Trade executed: buy entered at 2020-09-02 15:03:00 (Entry Price: 11276.96), exited at 2020-09-02T15:34:00.000000000 (Exit Price: 11358.11), Volume: 0.1044, P&L: 0.0007\n",
      "Trade executed: buy entered at 2020-09-02 15:04:00 (Entry Price: 11286.30), exited at 2020-09-02T15:34:00.000000000 (Exit Price: 11358.11), Volume: 0.1044, P&L: 0.0006\n",
      "Trade executed: buy entered at 2020-09-02 10:58:00 (Entry Price: 11584.84), exited at 2020-09-02T16:01:00.000000000 (Exit Price: 11367.08), Volume: 0.1042, P&L: -0.0020\n",
      "Trade executed: buy entered at 2020-09-02 15:34:00 (Entry Price: 11358.11), exited at 2020-09-02T16:01:00.000000000 (Exit Price: 11367.08), Volume: 0.1046, P&L: 0.0001\n",
      "Trade executed: buy entered at 2020-09-02 15:35:00 (Entry Price: 11348.33), exited at 2020-09-02T16:01:00.000000000 (Exit Price: 11367.08), Volume: 0.1046, P&L: 0.0002\n",
      "Trade executed: buy entered at 2020-09-02 16:48:00 (Entry Price: 11286.78), exited at 2020-09-02T17:08:00.000000000 (Exit Price: 11323.26), Volume: 0.1045, P&L: 0.0003\n",
      "Trade executed: buy entered at 2020-09-02 20:07:00 (Entry Price: 11357.90), exited at 2020-09-02T20:08:00.000000000 (Exit Price: 11364.06), Volume: 0.1045, P&L: 0.0000\n",
      "Trade flipped: buy entered at 2020-09-02 20:24:00 (Entry Price: 11341.00), exited at 2020-09-02T20:46:00.000000000 (Exit Price: 11368.01), Volume: 0.1045, P&L: 0.0002\n",
      "Trade flipped: sell entered at 2020-09-02 20:46:00 (Entry Price: 11368.01), exited at 2020-09-02T20:47:00.000000000 (Exit Price: 11362.94), Volume: 0.1045, P&L: 0.0000\n",
      "Trade flipped: buy entered at 2020-09-02 20:47:00 (Entry Price: 11362.94), exited at 2020-09-02T20:58:00.000000000 (Exit Price: 11368.43), Volume: 0.1045, P&L: 0.0000\n",
      "Trade flipped: sell entered at 2020-09-02 20:58:00 (Entry Price: 11368.43), exited at 2020-09-02T20:59:00.000000000 (Exit Price: 11364.63), Volume: 0.1045, P&L: 0.0000\n",
      "Trade executed: buy entered at 2020-09-02 20:59:00 (Entry Price: 11364.63), exited at 2020-09-02T21:26:00.000000000 (Exit Price: 11368.80), Volume: 0.1045, P&L: 0.0000\n",
      "Trade executed: sell entered at 2020-09-02 23:02:00 (Entry Price: 11421.86), exited at 2020-09-02T23:35:00.000000000 (Exit Price: 11411.55), Volume: 0.1045, P&L: 0.0001\n",
      "Trade executed: sell entered at 2020-09-03 00:49:00 (Entry Price: 11438.46), exited at 2020-09-03T01:01:00.000000000 (Exit Price: 11414.01), Volume: 0.1045, P&L: 0.0002\n",
      "Trade executed: buy entered at 2020-09-03 01:18:00 (Entry Price: 11399.43), exited at 2020-09-03T01:31:00.000000000 (Exit Price: 11414.74), Volume: 0.1046, P&L: 0.0001\n",
      "Trade executed: sell entered at 2020-09-03 01:35:00 (Entry Price: 11419.71), exited at 2020-09-03T02:04:00.000000000 (Exit Price: 11412.29), Volume: 0.1046, P&L: 0.0000\n",
      "Trade executed: buy entered at 2020-09-03 02:06:00 (Entry Price: 11414.78), exited at 2020-09-03T02:07:00.000000000 (Exit Price: 11418.93), Volume: 0.1046, P&L: 0.0000\n",
      "Trade executed: buy entered at 2020-09-03 03:52:00 (Entry Price: 11354.00), exited at 2020-09-03T04:15:00.000000000 (Exit Price: 11384.66), Volume: 0.1046, P&L: 0.0003\n",
      "Trade executed: buy entered at 2020-09-03 07:08:00 (Entry Price: 11259.77), exited at 2020-09-03T07:15:00.000000000 (Exit Price: 11309.68), Volume: 0.1046, P&L: 0.0004\n",
      "Trade executed: buy entered at 2020-09-03 03:19:00 (Entry Price: 11393.99), exited at 2020-09-03T07:23:00.000000000 (Exit Price: 11314.00), Volume: 0.1046, P&L: -0.0008\n",
      "Trade executed: buy entered at 2020-09-03 04:30:00 (Entry Price: 11345.75), exited at 2020-09-03T07:23:00.000000000 (Exit Price: 11314.00), Volume: 0.1046, P&L: -0.0003\n",
      "Trade executed: buy entered at 2020-09-03 05:12:00 (Entry Price: 11298.19), exited at 2020-09-03T07:23:00.000000000 (Exit Price: 11314.00), Volume: 0.1046, P&L: 0.0001\n",
      "Trade executed: sell entered at 2020-09-03 07:54:00 (Entry Price: 11414.59), exited at 2020-09-03T08:29:00.000000000 (Exit Price: 11362.04), Volume: 0.1046, P&L: 0.0005\n",
      "Trade executed: sell entered at 2020-09-03 07:25:00 (Entry Price: 11327.00), exited at 2020-09-03T08:49:00.000000000 (Exit Price: 11368.00), Volume: 0.1046, P&L: -0.0004\n",
      "Trade executed: buy entered at 2020-09-03 15:42:00 (Entry Price: 10631.93), exited at 2020-09-03T16:22:00.000000000 (Exit Price: 10734.86), Volume: 0.1046, P&L: 0.0010\n",
      "Trade executed: buy entered at 2020-09-03 16:51:00 (Entry Price: 10607.84), exited at 2020-09-03T17:14:00.000000000 (Exit Price: 10717.85), Volume: 0.1047, P&L: 0.0011\n",
      "Trade executed: buy entered at 2020-09-03 11:15:00 (Entry Price: 11255.23), exited at 2020-09-03T17:23:00.000000000 (Exit Price: 10744.94), Volume: 0.1046, P&L: -0.0048\n",
      "Trade executed: buy entered at 2020-09-03 12:10:00 (Entry Price: 11174.05), exited at 2020-09-03T17:23:00.000000000 (Exit Price: 10744.94), Volume: 0.1046, P&L: -0.0040\n",
      "Trade executed: buy entered at 2020-09-03 15:48:00 (Entry Price: 10735.93), exited at 2020-09-03T17:23:00.000000000 (Exit Price: 10744.94), Volume: 0.1046, P&L: 0.0001\n",
      "Trade executed: buy entered at 2020-09-03 16:32:00 (Entry Price: 10690.80), exited at 2020-09-03T17:23:00.000000000 (Exit Price: 10744.94), Volume: 0.1047, P&L: 0.0005\n",
      "Trade executed: buy entered at 2020-09-03 16:33:00 (Entry Price: 10685.70), exited at 2020-09-03T17:23:00.000000000 (Exit Price: 10744.94), Volume: 0.1047, P&L: 0.0006\n",
      "Trade executed: buy entered at 2020-09-03 16:34:00 (Entry Price: 10705.00), exited at 2020-09-03T17:23:00.000000000 (Exit Price: 10744.94), Volume: 0.1047, P&L: 0.0004\n",
      "Trade executed: buy entered at 2020-09-03 21:42:00 (Entry Price: 10708.80), exited at 2020-09-03T21:44:00.000000000 (Exit Price: 10722.68), Volume: 0.1040, P&L: 0.0001\n",
      "Trade executed: buy entered at 2020-09-03 21:54:00 (Entry Price: 10703.05), exited at 2020-09-03T21:55:00.000000000 (Exit Price: 10718.96), Volume: 0.1041, P&L: 0.0001\n",
      "Trade executed: buy entered at 2020-09-04 00:05:00 (Entry Price: 10148.35), exited at 2020-09-04T00:15:00.000000000 (Exit Price: 10286.74), Volume: 0.1041, P&L: 0.0014\n",
      "Trade executed: buy entered at 2020-09-04 00:00:00 (Entry Price: 10196.11), exited at 2020-09-04T00:41:00.000000000 (Exit Price: 10313.17), Volume: 0.1041, P&L: 0.0012\n",
      "Trade executed: buy entered at 2020-09-04 00:01:00 (Entry Price: 10204.21), exited at 2020-09-04T00:42:00.000000000 (Exit Price: 10317.71), Volume: 0.1041, P&L: 0.0011\n",
      "Trade executed: buy entered at 2020-09-03 23:07:00 (Entry Price: 10598.64), exited at 2020-09-04T02:52:00.000000000 (Exit Price: 10261.25), Volume: 0.1041, P&L: -0.0033\n",
      "Trade executed: buy entered at 2020-09-04 03:23:00 (Entry Price: 10259.00), exited at 2020-09-04T03:25:00.000000000 (Exit Price: 10270.00), Volume: 0.1041, P&L: 0.0001\n",
      "Trade executed: sell entered at 2020-09-04 04:54:00 (Entry Price: 10283.04), exited at 2020-09-04T05:07:00.000000000 (Exit Price: 10274.00), Volume: 0.1041, P&L: 0.0001\n",
      "Trade executed: buy entered at 2020-09-04 05:22:00 (Entry Price: 10262.47), exited at 2020-09-04T05:24:00.000000000 (Exit Price: 10262.79), Volume: 0.1041, P&L: -0.0000\n",
      "Trade executed: buy entered at 2020-09-04 05:38:00 (Entry Price: 10246.00), exited at 2020-09-04T05:40:00.000000000 (Exit Price: 10275.85), Volume: 0.1041, P&L: 0.0003\n",
      "Trade executed: sell entered at 2020-09-04 05:42:00 (Entry Price: 10275.66), exited at 2020-09-04T06:04:00.000000000 (Exit Price: 10265.02), Volume: 0.1041, P&L: 0.0001\n",
      "Trade flipped: buy entered at 2020-09-04 07:38:00 (Entry Price: 10231.06), exited at 2020-09-04T07:47:00.000000000 (Exit Price: 10274.43), Volume: 0.1042, P&L: 0.0004\n",
      "Trade flipped: buy entered at 2020-09-04 07:43:00 (Entry Price: 10122.33), exited at 2020-09-04T07:47:00.000000000 (Exit Price: 10274.43), Volume: 0.1042, P&L: 0.0015\n",
      "Trade executed: sell entered at 2020-09-04 07:47:00 (Entry Price: 10274.43), exited at 2020-09-04T10:55:00.000000000 (Exit Price: 10475.78), Volume: 0.1044, P&L: -0.0021\n",
      "Trade executed: sell entered at 2020-09-04 08:35:00 (Entry Price: 10397.69), exited at 2020-09-04T10:55:00.000000000 (Exit Price: 10475.78), Volume: 0.1044, P&L: -0.0008\n",
      "Trade executed: sell entered at 2020-09-04 08:36:00 (Entry Price: 10380.89), exited at 2020-09-04T10:55:00.000000000 (Exit Price: 10475.78), Volume: 0.1044, P&L: -0.0010\n",
      "Trade executed: sell entered at 2020-09-04 08:37:00 (Entry Price: 10406.07), exited at 2020-09-04T10:55:00.000000000 (Exit Price: 10475.78), Volume: 0.1044, P&L: -0.0007\n",
      "Trade executed: sell entered at 2020-09-04 09:13:00 (Entry Price: 10459.56), exited at 2020-09-04T10:55:00.000000000 (Exit Price: 10475.78), Volume: 0.1044, P&L: -0.0002\n",
      "Trade flipped: buy entered at 2020-09-04 12:01:00 (Entry Price: 10442.91), exited at 2020-09-04T12:04:00.000000000 (Exit Price: 10452.36), Volume: 0.1039, P&L: 0.0001\n",
      "Trade flipped: sell entered at 2020-09-04 12:04:00 (Entry Price: 10452.36), exited at 2020-09-04T12:06:00.000000000 (Exit Price: 10446.62), Volume: 0.1039, P&L: 0.0000\n",
      "Trade executed: buy entered at 2020-09-04 12:06:00 (Entry Price: 10446.62), exited at 2020-09-04T12:47:00.000000000 (Exit Price: 10454.99), Volume: 0.1039, P&L: 0.0001\n",
      "Trade executed: buy entered at 2020-09-04 14:51:00 (Entry Price: 10056.52), exited at 2020-09-04T14:59:00.000000000 (Exit Price: 10384.13), Volume: 0.1039, P&L: 0.0034\n",
      "Trade executed: buy entered at 2020-09-04 14:18:00 (Entry Price: 10300.01), exited at 2020-09-04T15:54:00.000000000 (Exit Price: 10368.48), Volume: 0.1039, P&L: 0.0007\n",
      "Trade executed: sell entered at 2020-09-04 15:55:00 (Entry Price: 10413.77), exited at 2020-09-04T17:18:00.000000000 (Exit Price: 10396.32), Volume: 0.1043, P&L: 0.0002\n",
      "Trade executed: sell entered at 2020-09-04 20:21:00 (Entry Price: 10583.10), exited at 2020-09-04T20:25:00.000000000 (Exit Price: 10540.97), Volume: 0.1043, P&L: 0.0004\n",
      "Trade executed: sell entered at 2020-09-04 19:25:00 (Entry Price: 10483.07), exited at 2020-09-04T21:17:00.000000000 (Exit Price: 10565.44), Volume: 0.1043, P&L: -0.0008\n",
      "Trade executed: sell entered at 2020-09-04 19:47:00 (Entry Price: 10538.77), exited at 2020-09-04T21:17:00.000000000 (Exit Price: 10565.44), Volume: 0.1043, P&L: -0.0003\n",
      "Trade executed: sell entered at 2020-09-04 20:31:00 (Entry Price: 10557.47), exited at 2020-09-04T21:17:00.000000000 (Exit Price: 10565.44), Volume: 0.1044, P&L: -0.0001\n",
      "Trade executed: buy entered at 2020-09-04 23:19:00 (Entry Price: 10447.12), exited at 2020-09-04T23:44:00.000000000 (Exit Price: 10487.65), Volume: 0.1042, P&L: 0.0004\n",
      "Trade executed: buy entered at 2020-09-04 22:49:00 (Entry Price: 10510.00), exited at 2020-09-05T00:09:00.000000000 (Exit Price: 10526.31), Volume: 0.1042, P&L: 0.0001\n",
      "Trade executed: buy entered at 2020-09-05 00:25:00 (Entry Price: 10513.72), exited at 2020-09-05T00:28:00.000000000 (Exit Price: 10537.32), Volume: 0.1043, P&L: 0.0002\n",
      "Trade executed: buy entered at 2020-09-05 01:43:00 (Entry Price: 10476.53), exited at 2020-09-05T01:46:00.000000000 (Exit Price: 10490.73), Volume: 0.1043, P&L: 0.0001\n",
      "Trade executed: buy entered at 2020-09-05 02:07:00 (Entry Price: 10470.00), exited at 2020-09-05T02:08:00.000000000 (Exit Price: 10495.87), Volume: 0.1043, P&L: 0.0002\n",
      "Trade executed: sell entered at 2020-09-05 02:18:00 (Entry Price: 10482.68), exited at 2020-09-05T02:21:00.000000000 (Exit Price: 10465.06), Volume: 0.1043, P&L: 0.0002\n",
      "Trade executed: sell entered at 2020-09-05 04:23:00 (Entry Price: 10460.31), exited at 2020-09-05T04:50:00.000000000 (Exit Price: 10419.78), Volume: 0.1044, P&L: 0.0004\n",
      "Trade executed: buy entered at 2020-09-05 04:52:00 (Entry Price: 10418.84), exited at 2020-09-05T05:03:00.000000000 (Exit Price: 10448.12), Volume: 0.1044, P&L: 0.0003\n",
      "Trade flipped: sell entered at 2020-09-05 05:04:00 (Entry Price: 10454.75), exited at 2020-09-05T05:05:00.000000000 (Exit Price: 10439.92), Volume: 0.1044, P&L: 0.0001\n",
      "Trade executed: buy entered at 2020-09-05 05:05:00 (Entry Price: 10439.92), exited at 2020-09-05T05:06:00.000000000 (Exit Price: 10440.85), Volume: 0.1044, P&L: -0.0000\n",
      "Trade flipped: sell entered at 2020-09-05 05:11:00 (Entry Price: 10441.02), exited at 2020-09-05T05:12:00.000000000 (Exit Price: 10426.40), Volume: 0.1044, P&L: 0.0001\n",
      "Trade flipped: buy entered at 2020-09-05 05:12:00 (Entry Price: 10426.40), exited at 2020-09-05T05:13:00.000000000 (Exit Price: 10439.94), Volume: 0.1044, P&L: 0.0001\n",
      "Trade flipped: sell entered at 2020-09-05 05:13:00 (Entry Price: 10439.94), exited at 2020-09-05T05:14:00.000000000 (Exit Price: 10436.11), Volume: 0.1045, P&L: 0.0000\n",
      "Trade executed: buy entered at 2020-09-05 05:14:00 (Entry Price: 10436.11), exited at 2020-09-05T05:27:00.000000000 (Exit Price: 10438.25), Volume: 0.1045, P&L: 0.0000\n",
      "Trade executed: buy entered at 2020-09-05 12:57:00 (Entry Price: 10020.73), exited at 2020-09-05T13:05:00.000000000 (Exit Price: 10206.79), Volume: 0.1045, P&L: 0.0019\n",
      "Trade flipped: buy entered at 2020-09-05 07:30:00 (Entry Price: 10411.01), exited at 2020-09-05T13:06:00.000000000 (Exit Price: 10218.80), Volume: 0.1045, P&L: -0.0019\n",
      "Trade flipped: buy entered at 2020-09-05 08:09:00 (Entry Price: 10360.60), exited at 2020-09-05T13:06:00.000000000 (Exit Price: 10218.80), Volume: 0.1045, P&L: -0.0015\n",
      "Trade flipped: buy entered at 2020-09-05 10:18:00 (Entry Price: 10317.97), exited at 2020-09-05T13:06:00.000000000 (Exit Price: 10218.80), Volume: 0.1045, P&L: -0.0010\n",
      "Trade flipped: sell entered at 2020-09-05 13:06:00 (Entry Price: 10218.80), exited at 2020-09-05T13:07:00.000000000 (Exit Price: 10179.32), Volume: 0.1042, P&L: 0.0004\n",
      "Trade flipped: buy entered at 2020-09-05 13:07:00 (Entry Price: 10179.32), exited at 2020-09-05T13:20:00.000000000 (Exit Price: 10209.10), Volume: 0.1042, P&L: 0.0003\n",
      "Trade flipped: sell entered at 2020-09-05 13:20:00 (Entry Price: 10209.10), exited at 2020-09-05T13:21:00.000000000 (Exit Price: 10198.52), Volume: 0.1043, P&L: 0.0001\n",
      "Trade executed: buy entered at 2020-09-05 13:21:00 (Entry Price: 10198.52), exited at 2020-09-05T13:31:00.000000000 (Exit Price: 10206.81), Volume: 0.1043, P&L: 0.0001\n",
      "Trade executed: sell entered at 2020-09-05 13:46:00 (Entry Price: 10294.15), exited at 2020-09-05T15:32:00.000000000 (Exit Price: 10280.00), Volume: 0.1043, P&L: 0.0001\n",
      "Trade executed: buy entered at 2020-09-05 17:42:00 (Entry Price: 10050.04), exited at 2020-09-05T17:48:00.000000000 (Exit Price: 10135.97), Volume: 0.1043, P&L: 0.0009\n",
      "Trade flipped: buy entered at 2020-09-05 16:55:00 (Entry Price: 10190.15), exited at 2020-09-05T18:58:00.000000000 (Exit Price: 10168.56), Volume: 0.1043, P&L: -0.0002\n",
      "Trade flipped: buy entered at 2020-09-05 17:51:00 (Entry Price: 10113.68), exited at 2020-09-05T18:58:00.000000000 (Exit Price: 10168.56), Volume: 0.1044, P&L: 0.0005\n",
      "Trade flipped: sell entered at 2020-09-05 18:58:00 (Entry Price: 10168.56), exited at 2020-09-05T18:59:00.000000000 (Exit Price: 10157.66), Volume: 0.1044, P&L: 0.0001\n",
      "Trade flipped: buy entered at 2020-09-05 18:59:00 (Entry Price: 10157.66), exited at 2020-09-05T19:00:00.000000000 (Exit Price: 10190.00), Volume: 0.1044, P&L: 0.0003\n",
      "Trade flipped: sell entered at 2020-09-05 19:00:00 (Entry Price: 10190.00), exited at 2020-09-05T19:02:00.000000000 (Exit Price: 10158.40), Volume: 0.1045, P&L: 0.0003\n",
      "Trade executed: buy entered at 2020-09-05 19:02:00 (Entry Price: 10158.40), exited at 2020-09-05T20:21:00.000000000 (Exit Price: 10064.16), Volume: 0.1045, P&L: -0.0010\n",
      "Trade executed: buy entered at 2020-09-05 19:45:00 (Entry Price: 10022.40), exited at 2020-09-05T20:21:00.000000000 (Exit Price: 10064.16), Volume: 0.1045, P&L: 0.0004\n",
      "Trade executed: buy entered at 2020-09-05 20:23:00 (Entry Price: 10050.00), exited at 2020-09-05T20:41:00.000000000 (Exit Price: 10074.67), Volume: 0.1044, P&L: 0.0002\n",
      "Trade executed: sell entered at 2020-09-05 23:05:00 (Entry Price: 10072.31), exited at 2020-09-05T23:15:00.000000000 (Exit Price: 10065.53), Volume: 0.1045, P&L: 0.0000\n",
      "Trade executed: sell entered at 2020-09-06 00:09:00 (Entry Price: 10179.64), exited at 2020-09-06T01:08:00.000000000 (Exit Price: 10181.10), Volume: 0.1045, P&L: -0.0000\n",
      "Trade executed: buy entered at 2020-09-06 02:40:00 (Entry Price: 10136.81), exited at 2020-09-06T02:55:00.000000000 (Exit Price: 10166.00), Volume: 0.1045, P&L: 0.0003\n",
      "Trade flipped: sell entered at 2020-09-06 04:13:00 (Entry Price: 10161.92), exited at 2020-09-06T04:14:00.000000000 (Exit Price: 10151.15), Volume: 0.1045, P&L: 0.0001\n",
      "Trade executed: buy entered at 2020-09-06 04:14:00 (Entry Price: 10151.15), exited at 2020-09-06T04:15:00.000000000 (Exit Price: 10159.57), Volume: 0.1045, P&L: 0.0001\n",
      "Trade executed: buy entered at 2020-09-06 04:50:00 (Entry Price: 10040.70), exited at 2020-09-06T05:46:00.000000000 (Exit Price: 10120.78), Volume: 0.1045, P&L: 0.0008\n",
      "Trade executed: buy entered at 2020-09-06 06:22:00 (Entry Price: 10098.99), exited at 2020-09-06T06:41:00.000000000 (Exit Price: 10114.12), Volume: 0.1046, P&L: 0.0001\n",
      "Trade executed: sell entered at 2020-09-06 08:24:00 (Entry Price: 10221.58), exited at 2020-09-06T08:29:00.000000000 (Exit Price: 10196.37), Volume: 0.1046, P&L: 0.0002\n",
      "Trade executed: sell entered at 2020-09-06 08:34:00 (Entry Price: 10200.12), exited at 2020-09-06T09:17:00.000000000 (Exit Price: 10212.00), Volume: 0.1046, P&L: -0.0001\n",
      "Trade executed: sell entered at 2020-09-06 08:44:00 (Entry Price: 10254.48), exited at 2020-09-06T09:17:00.000000000 (Exit Price: 10212.00), Volume: 0.1046, P&L: 0.0004\n",
      "Trade executed: sell entered at 2020-09-06 09:26:00 (Entry Price: 10236.94), exited at 2020-09-06T09:30:00.000000000 (Exit Price: 10218.98), Volume: 0.1046, P&L: 0.0002\n",
      "Trade executed: buy entered at 2020-09-06 09:46:00 (Entry Price: 10190.99), exited at 2020-09-06T09:50:00.000000000 (Exit Price: 10202.74), Volume: 0.1047, P&L: 0.0001\n",
      "Trade executed: sell entered at 2020-09-06 11:57:00 (Entry Price: 10265.33), exited at 2020-09-06T12:46:00.000000000 (Exit Price: 10254.38), Volume: 0.1047, P&L: 0.0001\n",
      "Trade executed: buy entered at 2020-09-06 13:03:00 (Entry Price: 10223.98), exited at 2020-09-06T13:31:00.000000000 (Exit Price: 10235.15), Volume: 0.1047, P&L: 0.0001\n",
      "Trade executed: buy entered at 2020-09-06 13:32:00 (Entry Price: 10234.65), exited at 2020-09-06T13:33:00.000000000 (Exit Price: 10240.92), Volume: 0.1047, P&L: 0.0000\n",
      "Trade executed: buy entered at 2020-09-06 13:34:00 (Entry Price: 10227.72), exited at 2020-09-06T13:54:00.000000000 (Exit Price: 10241.50), Volume: 0.1047, P&L: 0.0001\n",
      "Trade executed: buy entered at 2020-09-06 14:00:00 (Entry Price: 10232.49), exited at 2020-09-06T14:02:00.000000000 (Exit Price: 10245.88), Volume: 0.1047, P&L: 0.0001\n",
      "Trade flipped: sell entered at 2020-09-06 14:06:00 (Entry Price: 10249.00), exited at 2020-09-06T14:17:00.000000000 (Exit Price: 10213.27), Volume: 0.1047, P&L: 0.0003\n",
      "Trade executed: buy entered at 2020-09-06 14:17:00 (Entry Price: 10213.27), exited at 2020-09-06T14:55:00.000000000 (Exit Price: 10241.94), Volume: 0.1048, P&L: 0.0003\n",
      "Trade executed: sell entered at 2020-09-06 16:54:00 (Entry Price: 10245.00), exited at 2020-09-06T17:02:00.000000000 (Exit Price: 10217.94), Volume: 0.1048, P&L: 0.0003\n",
      "Trade executed: sell entered at 2020-09-06 16:18:00 (Entry Price: 10207.89), exited at 2020-09-06T17:16:00.000000000 (Exit Price: 10209.26), Volume: 0.1048, P&L: -0.0000\n",
      "Trade executed: sell entered at 2020-09-06 17:22:00 (Entry Price: 10211.59), exited at 2020-09-06T17:23:00.000000000 (Exit Price: 10210.23), Volume: 0.1048, P&L: -0.0000\n",
      "Trade executed: sell entered at 2020-09-06 17:42:00 (Entry Price: 10229.00), exited at 2020-09-06T17:45:00.000000000 (Exit Price: 10218.12), Volume: 0.1048, P&L: 0.0001\n",
      "Trade executed: sell entered at 2020-09-06 18:15:00 (Entry Price: 10220.00), exited at 2020-09-06T19:17:00.000000000 (Exit Price: 10223.46), Volume: 0.1048, P&L: -0.0001\n",
      "Trade executed: buy entered at 2020-09-06 20:46:00 (Entry Price: 10232.01), exited at 2020-09-06T20:48:00.000000000 (Exit Price: 10237.31), Volume: 0.1048, P&L: 0.0000\n",
      "Trade executed: sell entered at 2020-09-06 21:06:00 (Entry Price: 10269.00), exited at 2020-09-06T22:15:00.000000000 (Exit Price: 10287.17), Volume: 0.1048, P&L: -0.0002\n",
      "Trade executed: sell entered at 2020-09-06 22:10:00 (Entry Price: 10308.74), exited at 2020-09-06T22:15:00.000000000 (Exit Price: 10287.17), Volume: 0.1048, P&L: 0.0002\n",
      "Trade executed: buy entered at 2020-09-06 22:28:00 (Entry Price: 10230.47), exited at 2020-09-06T23:41:00.000000000 (Exit Price: 10269.00), Volume: 0.1048, P&L: 0.0004\n",
      "Trade flipped: sell entered at 2020-09-06 23:43:00 (Entry Price: 10300.85), exited at 2020-09-06T23:54:00.000000000 (Exit Price: 10253.67), Volume: 0.1048, P&L: 0.0005\n",
      "Trade executed: buy entered at 2020-09-06 23:54:00 (Entry Price: 10253.67), exited at 2020-09-07T00:02:00.000000000 (Exit Price: 10265.37), Volume: 0.1049, P&L: 0.0001\n",
      "Trade flipped: buy entered at 2020-09-07 00:03:00 (Entry Price: 10251.94), exited at 2020-09-07T00:06:00.000000000 (Exit Price: 10266.16), Volume: 0.1049, P&L: 0.0001\n",
      "Trade executed: sell entered at 2020-09-07 00:06:00 (Entry Price: 10266.16), exited at 2020-09-07T01:04:00.000000000 (Exit Price: 10266.64), Volume: 0.1049, P&L: -0.0000\n",
      "Trade executed: buy entered at 2020-09-07 03:44:00 (Entry Price: 10221.72), exited at 2020-09-07T04:33:00.000000000 (Exit Price: 10239.14), Volume: 0.1049, P&L: 0.0002\n",
      "Trade executed: buy entered at 2020-09-07 04:01:00 (Entry Price: 10193.27), exited at 2020-09-07T04:33:00.000000000 (Exit Price: 10239.14), Volume: 0.1049, P&L: 0.0005\n",
      "Trade executed: buy entered at 2020-09-07 05:00:00 (Entry Price: 10181.15), exited at 2020-09-07T07:29:00.000000000 (Exit Price: 10159.32), Volume: 0.1050, P&L: -0.0002\n",
      "Trade executed: buy entered at 2020-09-07 05:28:00 (Entry Price: 10145.03), exited at 2020-09-07T07:29:00.000000000 (Exit Price: 10159.32), Volume: 0.1050, P&L: 0.0001\n",
      "Trade executed: buy entered at 2020-09-07 06:28:00 (Entry Price: 10094.13), exited at 2020-09-07T07:29:00.000000000 (Exit Price: 10159.32), Volume: 0.1050, P&L: 0.0007\n",
      "Trade executed: buy entered at 2020-09-07 09:52:00 (Entry Price: 10123.36), exited at 2020-09-07T10:09:00.000000000 (Exit Price: 10137.23), Volume: 0.1050, P&L: 0.0001\n",
      "Trade executed: buy entered at 2020-09-07 10:10:00 (Entry Price: 10132.29), exited at 2020-09-07T10:11:00.000000000 (Exit Price: 10139.14), Volume: 0.1050, P&L: 0.0001\n",
      "Trade executed: buy entered at 2020-09-07 11:42:00 (Entry Price: 10008.52), exited at 2020-09-07T12:00:00.000000000 (Exit Price: 10061.19), Volume: 0.1050, P&L: 0.0005\n",
      "Trade executed: buy entered at 2020-09-07 10:18:00 (Entry Price: 10114.00), exited at 2020-09-07T13:16:00.000000000 (Exit Price: 10041.71), Volume: 0.1050, P&L: -0.0008\n",
      "Trade executed: buy entered at 2020-09-07 12:18:00 (Entry Price: 10047.17), exited at 2020-09-07T13:16:00.000000000 (Exit Price: 10041.71), Volume: 0.1051, P&L: -0.0001\n",
      "Trade executed: sell entered at 2020-09-07 16:35:00 (Entry Price: 10187.72), exited at 2020-09-07T17:04:00.000000000 (Exit Price: 10173.00), Volume: 0.1050, P&L: 0.0001\n",
      "Trade executed: buy entered at 2020-09-07 20:18:00 (Entry Price: 10118.36), exited at 2020-09-07T20:53:00.000000000 (Exit Price: 10152.93), Volume: 0.1050, P&L: 0.0003\n",
      "Trade executed: buy entered at 2020-09-07 20:55:00 (Entry Price: 10143.80), exited at 2020-09-07T21:00:00.000000000 (Exit Price: 10167.53), Volume: 0.1051, P&L: 0.0002\n",
      "Trade flipped: sell entered at 2020-09-07 21:02:00 (Entry Price: 10181.09), exited at 2020-09-07T21:06:00.000000000 (Exit Price: 10161.47), Volume: 0.1051, P&L: 0.0002\n",
      "Trade flipped: buy entered at 2020-09-07 21:06:00 (Entry Price: 10161.47), exited at 2020-09-07T21:07:00.000000000 (Exit Price: 10171.07), Volume: 0.1051, P&L: 0.0001\n",
      "Trade flipped: sell entered at 2020-09-07 21:07:00 (Entry Price: 10171.07), exited at 2020-09-07T21:16:00.000000000 (Exit Price: 10162.00), Volume: 0.1051, P&L: 0.0001\n",
      "Trade executed: buy entered at 2020-09-07 21:16:00 (Entry Price: 10162.00), exited at 2020-09-07T21:18:00.000000000 (Exit Price: 10169.44), Volume: 0.1051, P&L: 0.0001\n",
      "Trade flipped: buy entered at 2020-09-07 21:24:00 (Entry Price: 10162.19), exited at 2020-09-07T21:25:00.000000000 (Exit Price: 10170.63), Volume: 0.1051, P&L: 0.0001\n",
      "Trade executed: sell entered at 2020-09-07 21:25:00 (Entry Price: 10170.63), exited at 2020-09-07T21:51:00.000000000 (Exit Price: 10153.24), Volume: 0.1051, P&L: 0.0002\n",
      "Trade executed: sell entered at 2020-09-07 22:01:00 (Entry Price: 10188.38), exited at 2020-09-07T23:52:00.000000000 (Exit Price: 10351.83), Volume: 0.1051, P&L: -0.0017\n",
      "Trade executed: sell entered at 2020-09-07 22:30:00 (Entry Price: 10306.14), exited at 2020-09-07T23:52:00.000000000 (Exit Price: 10351.83), Volume: 0.1051, P&L: -0.0005\n",
      "Trade executed: buy entered at 2020-09-08 05:55:00 (Entry Price: 10234.58), exited at 2020-09-08T06:17:00.000000000 (Exit Price: 10274.14), Volume: 0.1049, P&L: 0.0004\n",
      "Trade executed: buy entered at 2020-09-08 04:30:00 (Entry Price: 10281.07), exited at 2020-09-08T06:52:00.000000000 (Exit Price: 10292.87), Volume: 0.1049, P&L: 0.0001\n",
      "Trade executed: sell entered at 2020-09-08 06:53:00 (Entry Price: 10298.30), exited at 2020-09-08T07:32:00.000000000 (Exit Price: 10266.39), Volume: 0.1050, P&L: 0.0003\n",
      "Trade executed: sell entered at 2020-09-08 08:02:00 (Entry Price: 10318.62), exited at 2020-09-08T08:10:00.000000000 (Exit Price: 10281.54), Volume: 0.1050, P&L: 0.0004\n",
      "Trade executed: sell entered at 2020-09-08 08:11:00 (Entry Price: 10289.33), exited at 2020-09-08T08:17:00.000000000 (Exit Price: 10281.92), Volume: 0.1050, P&L: 0.0001\n",
      "Trade executed: buy entered at 2020-09-08 09:02:00 (Entry Price: 10166.00), exited at 2020-09-08T09:14:00.000000000 (Exit Price: 10206.38), Volume: 0.1050, P&L: 0.0004\n",
      "Trade executed: buy entered at 2020-09-08 08:24:00 (Entry Price: 10244.34), exited at 2020-09-08T12:32:00.000000000 (Exit Price: 10046.30), Volume: 0.1050, P&L: -0.0021\n",
      "Trade executed: buy entered at 2020-09-08 09:17:00 (Entry Price: 10182.21), exited at 2020-09-08T12:32:00.000000000 (Exit Price: 10046.30), Volume: 0.1051, P&L: -0.0014\n",
      "Trade executed: buy entered at 2020-09-08 09:18:00 (Entry Price: 10178.81), exited at 2020-09-08T12:32:00.000000000 (Exit Price: 10046.30), Volume: 0.1051, P&L: -0.0014\n",
      "Trade executed: buy entered at 2020-09-08 12:21:00 (Entry Price: 9994.37), exited at 2020-09-08T12:32:00.000000000 (Exit Price: 10046.30), Volume: 0.1051, P&L: 0.0005\n",
      "Trade executed: buy entered at 2020-09-08 12:22:00 (Entry Price: 9996.30), exited at 2020-09-08T12:32:00.000000000 (Exit Price: 10046.30), Volume: 0.1051, P&L: 0.0005\n",
      "Trade flipped: sell entered at 2020-09-08 12:33:00 (Entry Price: 10051.12), exited at 2020-09-08T12:34:00.000000000 (Exit Price: 10040.29), Volume: 0.1047, P&L: 0.0001\n",
      "Trade executed: buy entered at 2020-09-08 12:34:00 (Entry Price: 10040.29), exited at 2020-09-08T12:57:00.000000000 (Exit Price: 10026.20), Volume: 0.1047, P&L: -0.0002\n",
      "Trade flipped: buy entered at 2020-09-08 12:59:00 (Entry Price: 10010.41), exited at 2020-09-08T13:03:00.000000000 (Exit Price: 10028.48), Volume: 0.1047, P&L: 0.0002\n",
      "Trade flipped: sell entered at 2020-09-08 13:03:00 (Entry Price: 10028.48), exited at 2020-09-08T13:09:00.000000000 (Exit Price: 10008.56), Volume: 0.1047, P&L: 0.0002\n",
      "Trade executed: buy entered at 2020-09-08 13:09:00 (Entry Price: 10008.56), exited at 2020-09-08T13:14:00.000000000 (Exit Price: 10014.75), Volume: 0.1047, P&L: 0.0000\n",
      "Trade executed: buy entered at 2020-09-08 13:22:00 (Entry Price: 9974.88), exited at 2020-09-08T13:31:00.000000000 (Exit Price: 10025.30), Volume: 0.1047, P&L: 0.0005\n",
      "Trade executed: buy entered at 2020-09-08 13:32:00 (Entry Price: 9990.83), exited at 2020-09-08T14:00:00.000000000 (Exit Price: 10005.52), Volume: 0.1048, P&L: 0.0001\n",
      "Trade executed: buy entered at 2020-09-08 18:30:00 (Entry Price: 10093.65), exited at 2020-09-08T20:31:00.000000000 (Exit Price: 10063.89), Volume: 0.1048, P&L: -0.0003\n",
      "Trade executed: buy entered at 2020-09-08 18:42:00 (Entry Price: 10012.83), exited at 2020-09-08T20:31:00.000000000 (Exit Price: 10063.89), Volume: 0.1048, P&L: 0.0005\n",
      "Trade executed: buy entered at 2020-09-08 19:16:00 (Entry Price: 9998.51), exited at 2020-09-08T20:31:00.000000000 (Exit Price: 10063.89), Volume: 0.1048, P&L: 0.0007\n",
      "Trade executed: buy entered at 2020-09-08 22:03:00 (Entry Price: 10004.13), exited at 2020-09-08T22:33:00.000000000 (Exit Price: 10120.94), Volume: 0.1049, P&L: 0.0012\n",
      "Trade executed: sell entered at 2020-09-08 22:34:00 (Entry Price: 10178.86), exited at 2020-09-08T23:20:00.000000000 (Exit Price: 10119.17), Volume: 0.1050, P&L: 0.0006\n",
      "Trade executed: buy entered at 2020-09-09 02:59:00 (Entry Price: 9996.43), exited at 2020-09-09T03:54:00.000000000 (Exit Price: 10016.46), Volume: 0.1051, P&L: 0.0002\n",
      "Trade executed: buy entered at 2020-09-09 02:56:00 (Entry Price: 10010.00), exited at 2020-09-09T04:28:00.000000000 (Exit Price: 10040.01), Volume: 0.1051, P&L: 0.0003\n",
      "Trade executed: buy entered at 2020-09-09 02:05:00 (Entry Price: 10096.02), exited at 2020-09-09T04:29:00.000000000 (Exit Price: 10046.54), Volume: 0.1051, P&L: -0.0005\n",
      "Trade executed: buy entered at 2020-09-09 02:50:00 (Entry Price: 10022.44), exited at 2020-09-09T04:29:00.000000000 (Exit Price: 10046.54), Volume: 0.1051, P&L: 0.0002\n",
      "Trade executed: sell entered at 2020-09-09 05:41:00 (Entry Price: 10101.07), exited at 2020-09-09T05:54:00.000000000 (Exit Price: 10084.64), Volume: 0.1051, P&L: 0.0001\n",
      "Trade executed: sell entered at 2020-09-09 06:00:00 (Entry Price: 10100.01), exited at 2020-09-09T06:02:00.000000000 (Exit Price: 10086.75), Volume: 0.1051, P&L: 0.0001\n",
      "Trade executed: sell entered at 2020-09-09 06:06:00 (Entry Price: 10105.08), exited at 2020-09-09T06:11:00.000000000 (Exit Price: 10092.65), Volume: 0.1051, P&L: 0.0001\n",
      "Trade executed: sell entered at 2020-09-09 12:04:00 (Entry Price: 10240.00), exited at 2020-09-09T12:22:00.000000000 (Exit Price: 10220.00), Volume: 0.1051, P&L: 0.0002\n",
      "Trade executed: buy entered at 2020-09-09 12:35:00 (Entry Price: 10182.34), exited at 2020-09-09T13:06:00.000000000 (Exit Price: 10199.99), Volume: 0.1051, P&L: 0.0002\n",
      "Trade executed: sell entered at 2020-09-09 13:19:00 (Entry Price: 10256.11), exited at 2020-09-09T13:51:00.000000000 (Exit Price: 10214.19), Volume: 0.1051, P&L: 0.0004\n",
      "Trade flipped: sell entered at 2020-09-09 13:56:00 (Entry Price: 10218.04), exited at 2020-09-09T13:57:00.000000000 (Exit Price: 10208.91), Volume: 0.1052, P&L: 0.0001\n",
      "Trade flipped: buy entered at 2020-09-09 13:57:00 (Entry Price: 10208.91), exited at 2020-09-09T13:59:00.000000000 (Exit Price: 10216.47), Volume: 0.1052, P&L: 0.0001\n",
      "Trade executed: sell entered at 2020-09-09 13:59:00 (Entry Price: 10216.47), exited at 2020-09-09T14:09:00.000000000 (Exit Price: 10214.95), Volume: 0.1052, P&L: -0.0000\n",
      "Trade executed: sell entered at 2020-09-09 14:19:00 (Entry Price: 10235.43), exited at 2020-09-09T14:38:00.000000000 (Exit Price: 10223.11), Volume: 0.1052, P&L: 0.0001\n",
      "Trade executed: sell entered at 2020-09-09 15:01:00 (Entry Price: 10267.14), exited at 2020-09-09T15:59:00.000000000 (Exit Price: 10246.00), Volume: 0.1052, P&L: 0.0002\n",
      "Trade executed: buy entered at 2020-09-09 16:10:00 (Entry Price: 10223.62), exited at 2020-09-09T16:55:00.000000000 (Exit Price: 10248.77), Volume: 0.1052, P&L: 0.0002\n",
      "Trade executed: buy entered at 2020-09-09 20:19:00 (Entry Price: 10273.60), exited at 2020-09-09T20:29:00.000000000 (Exit Price: 10284.01), Volume: 0.1053, P&L: 0.0001\n",
      "Trade executed: buy entered at 2020-09-09 22:35:00 (Entry Price: 10242.09), exited at 2020-09-09T22:41:00.000000000 (Exit Price: 10259.67), Volume: 0.1053, P&L: 0.0002\n",
      "Trade executed: buy entered at 2020-09-09 20:40:00 (Entry Price: 10282.60), exited at 2020-09-09T22:45:00.000000000 (Exit Price: 10273.41), Volume: 0.1053, P&L: -0.0001\n",
      "Trade executed: buy entered at 2020-09-09 21:34:00 (Entry Price: 10251.75), exited at 2020-09-09T22:45:00.000000000 (Exit Price: 10273.41), Volume: 0.1053, P&L: 0.0002\n",
      "Trade executed: buy entered at 2020-09-09 23:24:00 (Entry Price: 10192.20), exited at 2020-09-10T00:00:00.000000000 (Exit Price: 10230.74), Volume: 0.1053, P&L: 0.0004\n",
      "Trade flipped: buy entered at 2020-09-10 00:03:00 (Entry Price: 10241.54), exited at 2020-09-10T00:05:00.000000000 (Exit Price: 10249.70), Volume: 0.1053, P&L: 0.0001\n",
      "Trade flipped: sell entered at 2020-09-10 00:05:00 (Entry Price: 10249.70), exited at 2020-09-10T00:06:00.000000000 (Exit Price: 10235.98), Volume: 0.1053, P&L: 0.0001\n",
      "Trade executed: buy entered at 2020-09-10 00:06:00 (Entry Price: 10235.98), exited at 2020-09-10T00:10:00.000000000 (Exit Price: 10296.32), Volume: 0.1053, P&L: 0.0006\n",
      "Trade executed: sell entered at 2020-09-10 00:11:00 (Entry Price: 10299.36), exited at 2020-09-10T01:00:00.000000000 (Exit Price: 10260.71), Volume: 0.1054, P&L: 0.0004\n",
      "Trade executed: sell entered at 2020-09-10 01:01:00 (Entry Price: 10267.37), exited at 2020-09-10T01:21:00.000000000 (Exit Price: 10280.00), Volume: 0.1054, P&L: -0.0002\n",
      "Trade executed: sell entered at 2020-09-10 01:36:00 (Entry Price: 10335.10), exited at 2020-09-10T02:58:00.000000000 (Exit Price: 10366.01), Volume: 0.1054, P&L: -0.0003\n",
      "Trade executed: buy entered at 2020-09-10 06:40:00 (Entry Price: 10327.07), exited at 2020-09-10T10:01:00.000000000 (Exit Price: 10290.66), Volume: 0.1054, P&L: -0.0004\n",
      "Trade executed: buy entered at 2020-09-10 07:34:00 (Entry Price: 10291.61), exited at 2020-09-10T10:01:00.000000000 (Exit Price: 10290.66), Volume: 0.1054, P&L: -0.0000\n",
      "Trade executed: buy entered at 2020-09-10 08:16:00 (Entry Price: 10270.01), exited at 2020-09-10T10:01:00.000000000 (Exit Price: 10290.66), Volume: 0.1054, P&L: 0.0002\n",
      "Trade executed: sell entered at 2020-09-10 10:05:00 (Entry Price: 10303.44), exited at 2020-09-10T10:32:00.000000000 (Exit Price: 10276.00), Volume: 0.1054, P&L: 0.0003\n",
      "Trade executed: buy entered at 2020-09-10 10:33:00 (Entry Price: 10272.67), exited at 2020-09-10T11:02:00.000000000 (Exit Price: 10279.04), Volume: 0.1054, P&L: 0.0000\n",
      "Trade executed: sell entered at 2020-09-10 12:36:00 (Entry Price: 10362.99), exited at 2020-09-10T14:45:00.000000000 (Exit Price: 10406.01), Volume: 0.1054, P&L: -0.0005\n",
      "Trade executed: sell entered at 2020-09-10 13:39:00 (Entry Price: 10399.31), exited at 2020-09-10T14:45:00.000000000 (Exit Price: 10406.01), Volume: 0.1054, P&L: -0.0001\n",
      "Trade executed: buy entered at 2020-09-10 15:01:00 (Entry Price: 10368.00), exited at 2020-09-10T15:02:00.000000000 (Exit Price: 10376.28), Volume: 0.1053, P&L: 0.0001\n",
      "Trade executed: buy entered at 2020-09-10 15:03:00 (Entry Price: 10369.49), exited at 2020-09-10T15:05:00.000000000 (Exit Price: 10389.14), Volume: 0.1054, P&L: 0.0002\n",
      "Trade flipped: sell entered at 2020-09-10 15:58:00 (Entry Price: 10425.83), exited at 2020-09-10T16:07:00.000000000 (Exit Price: 10383.00), Volume: 0.1054, P&L: 0.0004\n",
      "Trade executed: buy entered at 2020-09-10 16:07:00 (Entry Price: 10383.00), exited at 2020-09-10T18:04:00.000000000 (Exit Price: 10369.11), Volume: 0.1054, P&L: -0.0002\n",
      "Trade executed: buy entered at 2020-09-10 19:21:00 (Entry Price: 10272.52), exited at 2020-09-10T20:13:00.000000000 (Exit Price: 10322.99), Volume: 0.1054, P&L: 0.0005\n",
      "Trade executed: buy entered at 2020-09-11 02:14:00 (Entry Price: 10281.97), exited at 2020-09-11T05:36:00.000000000 (Exit Price: 10251.77), Volume: 0.1054, P&L: -0.0003\n",
      "Trade executed: buy entered at 2020-09-11 03:13:00 (Entry Price: 10251.53), exited at 2020-09-11T05:36:00.000000000 (Exit Price: 10251.77), Volume: 0.1054, P&L: -0.0000\n",
      "Trade executed: sell entered at 2020-09-11 07:00:00 (Entry Price: 10272.31), exited at 2020-09-11T07:18:00.000000000 (Exit Price: 10269.93), Volume: 0.1054, P&L: 0.0000\n",
      "Trade executed: sell entered at 2020-09-11 07:25:00 (Entry Price: 10277.92), exited at 2020-09-11T07:31:00.000000000 (Exit Price: 10268.95), Volume: 0.1054, P&L: 0.0001\n",
      "Trade executed: buy entered at 2020-09-11 07:35:00 (Entry Price: 10256.05), exited at 2020-09-11T07:54:00.000000000 (Exit Price: 10270.80), Volume: 0.1054, P&L: 0.0001\n",
      "Trade executed: sell entered at 2020-09-11 08:08:00 (Entry Price: 10301.08), exited at 2020-09-11T08:31:00.000000000 (Exit Price: 10270.08), Volume: 0.1054, P&L: 0.0003\n",
      "Trade executed: sell entered at 2020-09-11 08:33:00 (Entry Price: 10279.42), exited at 2020-09-11T08:34:00.000000000 (Exit Price: 10266.77), Volume: 0.1055, P&L: 0.0001\n",
      "Trade executed: buy entered at 2020-09-11 08:46:00 (Entry Price: 10262.74), exited at 2020-09-11T08:47:00.000000000 (Exit Price: 10271.12), Volume: 0.1055, P&L: 0.0001\n",
      "Trade executed: sell entered at 2020-09-11 09:05:00 (Entry Price: 10316.66), exited at 2020-09-11T10:03:00.000000000 (Exit Price: 10299.00), Volume: 0.1055, P&L: 0.0002\n",
      "Trade executed: buy entered at 2020-09-11 10:27:00 (Entry Price: 10284.10), exited at 2020-09-11T10:28:00.000000000 (Exit Price: 10291.15), Volume: 0.1055, P&L: 0.0001\n",
      "Trade executed: buy entered at 2020-09-11 10:41:00 (Entry Price: 10286.99), exited at 2020-09-11T10:42:00.000000000 (Exit Price: 10292.77), Volume: 0.1055, P&L: 0.0000\n",
      "Trade executed: sell entered at 2020-09-11 10:44:00 (Entry Price: 10304.69), exited at 2020-09-11T10:45:00.000000000 (Exit Price: 10302.26), Volume: 0.1055, P&L: 0.0000\n",
      "Trade executed: buy entered at 2020-09-11 10:47:00 (Entry Price: 10287.76), exited at 2020-09-11T10:53:00.000000000 (Exit Price: 10292.57), Volume: 0.1055, P&L: 0.0000\n",
      "Trade executed: buy entered at 2020-09-11 10:56:00 (Entry Price: 10289.99), exited at 2020-09-11T11:00:00.000000000 (Exit Price: 10292.97), Volume: 0.1055, P&L: 0.0000\n",
      "Trade flipped: buy entered at 2020-09-11 11:04:00 (Entry Price: 10278.41), exited at 2020-09-11T11:13:00.000000000 (Exit Price: 10297.42), Volume: 0.1055, P&L: 0.0002\n",
      "Trade executed: sell entered at 2020-09-11 11:13:00 (Entry Price: 10297.42), exited at 2020-09-11T11:20:00.000000000 (Exit Price: 10294.95), Volume: 0.1055, P&L: 0.0000\n",
      "Trade executed: sell entered at 2020-09-11 11:21:00 (Entry Price: 10296.47), exited at 2020-09-11T11:26:00.000000000 (Exit Price: 10294.33), Volume: 0.1055, P&L: 0.0000\n",
      "Trade executed: buy entered at 2020-09-11 13:57:00 (Entry Price: 10267.06), exited at 2020-09-11T14:22:00.000000000 (Exit Price: 10279.58), Volume: 0.1055, P&L: 0.0001\n",
      "Trade executed: sell entered at 2020-09-11 14:25:00 (Entry Price: 10290.25), exited at 2020-09-11T14:26:00.000000000 (Exit Price: 10285.11), Volume: 0.1055, P&L: 0.0000\n",
      "Trade executed: sell entered at 2020-09-11 15:12:00 (Entry Price: 10317.26), exited at 2020-09-11T16:09:00.000000000 (Exit Price: 10303.02), Volume: 0.1055, P&L: 0.0001\n",
      "Trade executed: sell entered at 2020-09-11 22:39:00 (Entry Price: 10388.02), exited at 2020-09-11T22:58:00.000000000 (Exit Price: 10365.69), Volume: 0.1056, P&L: 0.0002\n",
      "Trade executed: sell entered at 2020-09-11 21:57:00 (Entry Price: 10335.01), exited at 2020-09-11T23:07:00.000000000 (Exit Price: 10362.01), Volume: 0.1056, P&L: -0.0003\n",
      "Trade executed: sell entered at 2020-09-11 22:36:00 (Entry Price: 10374.23), exited at 2020-09-11T23:07:00.000000000 (Exit Price: 10362.01), Volume: 0.1056, P&L: 0.0001\n",
      "Trade executed: sell entered at 2020-09-11 23:24:00 (Entry Price: 10370.72), exited at 2020-09-11T23:25:00.000000000 (Exit Price: 10357.92), Volume: 0.1056, P&L: 0.0001\n",
      "Trade executed: sell entered at 2020-09-12 00:08:00 (Entry Price: 10372.38), exited at 2020-09-12T00:09:00.000000000 (Exit Price: 10371.63), Volume: 0.1056, P&L: -0.0000\n",
      "Trade executed: buy entered at 2020-09-12 03:12:00 (Entry Price: 10340.92), exited at 2020-09-12T03:36:00.000000000 (Exit Price: 10351.82), Volume: 0.1056, P&L: 0.0001\n",
      "Trade flipped: sell entered at 2020-09-12 03:37:00 (Entry Price: 10354.02), exited at 2020-09-12T03:38:00.000000000 (Exit Price: 10348.27), Volume: 0.1056, P&L: 0.0000\n",
      "Trade flipped: buy entered at 2020-09-12 03:38:00 (Entry Price: 10348.27), exited at 2020-09-12T03:40:00.000000000 (Exit Price: 10351.43), Volume: 0.1056, P&L: 0.0000\n",
      "Trade flipped: sell entered at 2020-09-12 03:40:00 (Entry Price: 10351.43), exited at 2020-09-12T03:42:00.000000000 (Exit Price: 10349.46), Volume: 0.1056, P&L: -0.0000\n",
      "Trade flipped: buy entered at 2020-09-12 03:42:00 (Entry Price: 10349.46), exited at 2020-09-12T03:51:00.000000000 (Exit Price: 10351.00), Volume: 0.1056, P&L: -0.0000\n",
      "Trade flipped: sell entered at 2020-09-12 03:51:00 (Entry Price: 10351.00), exited at 2020-09-12T03:53:00.000000000 (Exit Price: 10349.37), Volume: 0.1056, P&L: -0.0000\n",
      "Trade flipped: buy entered at 2020-09-12 03:53:00 (Entry Price: 10349.37), exited at 2020-09-12T03:54:00.000000000 (Exit Price: 10354.54), Volume: 0.1056, P&L: 0.0000\n",
      "Trade flipped: sell entered at 2020-09-12 03:54:00 (Entry Price: 10354.54), exited at 2020-09-12T04:00:00.000000000 (Exit Price: 10340.00), Volume: 0.1056, P&L: 0.0001\n",
      "Trade flipped: buy entered at 2020-09-12 04:00:00 (Entry Price: 10340.00), exited at 2020-09-12T04:05:00.000000000 (Exit Price: 10353.00), Volume: 0.1056, P&L: 0.0001\n",
      "Trade flipped: sell entered at 2020-09-12 04:05:00 (Entry Price: 10353.00), exited at 2020-09-12T04:08:00.000000000 (Exit Price: 10350.44), Volume: 0.1056, P&L: 0.0000\n",
      "Trade flipped: buy entered at 2020-09-12 04:08:00 (Entry Price: 10350.44), exited at 2020-09-12T04:09:00.000000000 (Exit Price: 10361.85), Volume: 0.1056, P&L: 0.0001\n",
      "Trade executed: sell entered at 2020-09-12 04:09:00 (Entry Price: 10361.85), exited at 2020-09-12T04:44:00.000000000 (Exit Price: 10349.73), Volume: 0.1056, P&L: 0.0001\n",
      "Trade executed: buy entered at 2020-09-12 07:10:00 (Entry Price: 10332.67), exited at 2020-09-12T07:53:00.000000000 (Exit Price: 10343.96), Volume: 0.1056, P&L: 0.0001\n",
      "Trade executed: buy entered at 2020-09-12 08:02:00 (Entry Price: 10335.05), exited at 2020-09-12T09:05:00.000000000 (Exit Price: 10340.99), Volume: 0.1056, P&L: 0.0000\n",
      "Trade executed: sell entered at 2020-09-12 09:07:00 (Entry Price: 10338.55), exited at 2020-09-12T10:28:00.000000000 (Exit Price: 10346.00), Volume: 0.1056, P&L: -0.0001\n",
      "Trade executed: sell entered at 2020-09-12 09:55:00 (Entry Price: 10352.74), exited at 2020-09-12T10:28:00.000000000 (Exit Price: 10346.00), Volume: 0.1056, P&L: 0.0000\n",
      "Trade executed: buy entered at 2020-09-12 12:44:00 (Entry Price: 10305.84), exited at 2020-09-12T12:54:00.000000000 (Exit Price: 10320.71), Volume: 0.1056, P&L: 0.0001\n",
      "Trade flipped: buy entered at 2020-09-12 12:14:00 (Entry Price: 10319.89), exited at 2020-09-12T14:17:00.000000000 (Exit Price: 10336.85), Volume: 0.1056, P&L: 0.0002\n",
      "Trade flipped: buy entered at 2020-09-12 13:29:00 (Entry Price: 10308.01), exited at 2020-09-12T14:17:00.000000000 (Exit Price: 10336.85), Volume: 0.1056, P&L: 0.0003\n",
      "Trade executed: sell entered at 2020-09-12 15:42:00 (Entry Price: 10373.70), exited at 2020-09-12T15:53:00.000000000 (Exit Price: 10359.12), Volume: 0.1057, P&L: 0.0001\n",
      "Trade executed: sell entered at 2020-09-12 14:17:00 (Entry Price: 10336.85), exited at 2020-09-12T16:04:00.000000000 (Exit Price: 10353.41), Volume: 0.1057, P&L: -0.0002\n",
      "Trade executed: sell entered at 2020-09-12 15:13:00 (Entry Price: 10365.33), exited at 2020-09-12T16:04:00.000000000 (Exit Price: 10353.41), Volume: 0.1057, P&L: 0.0001\n",
      "Trade executed: sell entered at 2020-09-12 19:31:00 (Entry Price: 10445.88), exited at 2020-09-12T19:33:00.000000000 (Exit Price: 10443.00), Volume: 0.1057, P&L: 0.0000\n",
      "Trade executed: sell entered at 2020-09-12 21:18:00 (Entry Price: 10452.59), exited at 2020-09-12T21:54:00.000000000 (Exit Price: 10447.88), Volume: 0.1057, P&L: 0.0000\n",
      "Trade executed: buy entered at 2020-09-12 22:21:00 (Entry Price: 10408.59), exited at 2020-09-12T22:44:00.000000000 (Exit Price: 10426.71), Volume: 0.1057, P&L: 0.0002\n",
      "Trade flipped: sell entered at 2020-09-12 23:51:00 (Entry Price: 10439.02), exited at 2020-09-12T23:53:00.000000000 (Exit Price: 10435.44), Volume: 0.1057, P&L: 0.0000\n",
      "Trade executed: buy entered at 2020-09-12 23:53:00 (Entry Price: 10435.44), exited at 2020-09-12T23:55:00.000000000 (Exit Price: 10439.00), Volume: 0.1057, P&L: 0.0000\n",
      "Trade executed: buy entered at 2020-09-13 00:02:00 (Entry Price: 10432.68), exited at 2020-09-13T00:26:00.000000000 (Exit Price: 10435.99), Volume: 0.1057, P&L: 0.0000\n",
      "Trade executed: sell entered at 2020-09-13 03:57:00 (Entry Price: 10542.98), exited at 2020-09-13T04:38:00.000000000 (Exit Price: 10527.46), Volume: 0.1057, P&L: 0.0001\n",
      "Trade executed: sell entered at 2020-09-13 08:06:00 (Entry Price: 10549.99), exited at 2020-09-13T08:25:00.000000000 (Exit Price: 10535.57), Volume: 0.1057, P&L: 0.0001\n",
      "Trade executed: buy entered at 2020-09-13 08:36:00 (Entry Price: 10527.71), exited at 2020-09-13T08:46:00.000000000 (Exit Price: 10536.98), Volume: 0.1057, P&L: 0.0001\n",
      "Trade executed: sell entered at 2020-09-13 08:56:00 (Entry Price: 10540.50), exited at 2020-09-13T08:58:00.000000000 (Exit Price: 10538.22), Volume: 0.1057, P&L: 0.0000\n",
      "Trade executed: sell entered at 2020-09-13 09:05:00 (Entry Price: 10542.30), exited at 2020-09-13T09:06:00.000000000 (Exit Price: 10538.30), Volume: 0.1057, P&L: 0.0000\n",
      "Trade executed: sell entered at 2020-09-13 09:14:00 (Entry Price: 10543.30), exited at 2020-09-13T09:38:00.000000000 (Exit Price: 10538.85), Volume: 0.1057, P&L: 0.0000\n",
      "Trade executed: buy entered at 2020-09-13 13:04:00 (Entry Price: 10296.34), exited at 2020-09-13T13:24:00.000000000 (Exit Price: 10339.64), Volume: 0.1058, P&L: 0.0004\n",
      "Trade executed: buy entered at 2020-09-13 09:46:00 (Entry Price: 10483.11), exited at 2020-09-13T14:46:00.000000000 (Exit Price: 10331.32), Volume: 0.1058, P&L: -0.0016\n",
      "Trade executed: buy entered at 2020-09-13 10:47:00 (Entry Price: 10457.79), exited at 2020-09-13T14:46:00.000000000 (Exit Price: 10331.32), Volume: 0.1058, P&L: -0.0013\n",
      "Trade executed: buy entered at 2020-09-13 12:54:00 (Entry Price: 10324.24), exited at 2020-09-13T14:46:00.000000000 (Exit Price: 10331.32), Volume: 0.1058, P&L: 0.0001\n",
      "Trade executed: buy entered at 2020-09-13 16:22:00 (Entry Price: 10253.91), exited at 2020-09-13T17:57:00.000000000 (Exit Price: 10278.99), Volume: 0.1055, P&L: 0.0002\n",
      "Trade executed: sell entered at 2020-09-13 19:50:00 (Entry Price: 10306.66), exited at 2020-09-13T20:20:00.000000000 (Exit Price: 10288.67), Volume: 0.1055, P&L: 0.0002\n",
      "Trade executed: sell entered at 2020-09-13 20:22:00 (Entry Price: 10291.95), exited at 2020-09-13T20:26:00.000000000 (Exit Price: 10286.80), Volume: 0.1056, P&L: 0.0000\n",
      "Trade executed: sell entered at 2020-09-13 20:29:00 (Entry Price: 10294.15), exited at 2020-09-13T20:30:00.000000000 (Exit Price: 10290.10), Volume: 0.1056, P&L: 0.0000\n",
      "Trade executed: sell entered at 2020-09-13 20:31:00 (Entry Price: 10295.20), exited at 2020-09-13T20:32:00.000000000 (Exit Price: 10291.89), Volume: 0.1056, P&L: 0.0000\n",
      "Trade executed: sell entered at 2020-09-13 20:41:00 (Entry Price: 10302.79), exited at 2020-09-13T20:46:00.000000000 (Exit Price: 10295.61), Volume: 0.1056, P&L: 0.0001\n",
      "Trade executed: sell entered at 2020-09-13 20:53:00 (Entry Price: 10307.77), exited at 2020-09-13T21:17:00.000000000 (Exit Price: 10301.67), Volume: 0.1056, P&L: 0.0000\n",
      "Trade executed: sell entered at 2020-09-13 21:36:00 (Entry Price: 10309.46), exited at 2020-09-13T21:56:00.000000000 (Exit Price: 10303.92), Volume: 0.1056, P&L: 0.0000\n",
      "Trade executed: buy entered at 2020-09-13 22:29:00 (Entry Price: 10296.03), exited at 2020-09-13T22:30:00.000000000 (Exit Price: 10301.54), Volume: 0.1056, P&L: 0.0000\n",
      "Trade executed: buy entered at 2020-09-14 00:43:00 (Entry Price: 10273.91), exited at 2020-09-14T01:27:00.000000000 (Exit Price: 10295.01), Volume: 0.1056, P&L: 0.0002\n",
      "Trade executed: sell entered at 2020-09-14 01:31:00 (Entry Price: 10299.50), exited at 2020-09-14T03:07:00.000000000 (Exit Price: 10335.89), Volume: 0.1056, P&L: -0.0004\n",
      "Trade executed: sell entered at 2020-09-14 02:00:00 (Entry Price: 10341.01), exited at 2020-09-14T03:07:00.000000000 (Exit Price: 10335.89), Volume: 0.1056, P&L: 0.0000\n",
      "Trade executed: sell entered at 2020-09-14 02:41:00 (Entry Price: 10350.01), exited at 2020-09-14T03:07:00.000000000 (Exit Price: 10335.89), Volume: 0.1056, P&L: 0.0001\n",
      "Trade executed: sell entered at 2020-09-14 03:02:00 (Entry Price: 10347.04), exited at 2020-09-14T03:07:00.000000000 (Exit Price: 10335.89), Volume: 0.1056, P&L: 0.0001\n",
      "Trade executed: sell entered at 2020-09-14 03:11:00 (Entry Price: 10339.37), exited at 2020-09-14T03:33:00.000000000 (Exit Price: 10345.81), Volume: 0.1056, P&L: -0.0001\n",
      "Trade executed: sell entered at 2020-09-14 03:36:00 (Entry Price: 10352.06), exited at 2020-09-14T03:38:00.000000000 (Exit Price: 10347.82), Volume: 0.1056, P&L: 0.0000\n",
      "Trade executed: buy entered at 2020-09-14 04:17:00 (Entry Price: 10328.32), exited at 2020-09-14T04:18:00.000000000 (Exit Price: 10332.84), Volume: 0.1056, P&L: 0.0000\n",
      "Trade executed: buy entered at 2020-09-14 04:35:00 (Entry Price: 10326.58), exited at 2020-09-14T04:36:00.000000000 (Exit Price: 10333.99), Volume: 0.1056, P&L: 0.0001\n",
      "Trade executed: buy entered at 2020-09-14 04:37:00 (Entry Price: 10329.75), exited at 2020-09-14T04:50:00.000000000 (Exit Price: 10337.31), Volume: 0.1056, P&L: 0.0001\n",
      "Trade executed: buy entered at 2020-09-14 04:52:00 (Entry Price: 10335.50), exited at 2020-09-14T04:55:00.000000000 (Exit Price: 10338.47), Volume: 0.1056, P&L: 0.0000\n",
      "Trade executed: sell entered at 2020-09-14 05:01:00 (Entry Price: 10345.00), exited at 2020-09-14T05:13:00.000000000 (Exit Price: 10334.98), Volume: 0.1056, P&L: 0.0001\n",
      "Trade executed: buy entered at 2020-09-14 05:17:00 (Entry Price: 10337.12), exited at 2020-09-14T05:21:00.000000000 (Exit Price: 10343.75), Volume: 0.1056, P&L: 0.0000\n",
      "Trade flipped: sell entered at 2020-09-14 05:22:00 (Entry Price: 10343.12), exited at 2020-09-14T05:23:00.000000000 (Exit Price: 10342.07), Volume: 0.1056, P&L: -0.0000\n",
      "Trade flipped: buy entered at 2020-09-14 05:23:00 (Entry Price: 10342.07), exited at 2020-09-14T05:24:00.000000000 (Exit Price: 10343.14), Volume: 0.1056, P&L: -0.0000\n",
      "Trade executed: sell entered at 2020-09-14 05:24:00 (Entry Price: 10343.14), exited at 2020-09-14T05:33:00.000000000 (Exit Price: 10333.60), Volume: 0.1056, P&L: 0.0001\n",
      "Trade executed: buy entered at 2020-09-14 05:35:00 (Entry Price: 10314.61), exited at 2020-09-14T06:00:00.000000000 (Exit Price: 10349.12), Volume: 0.1056, P&L: 0.0003\n",
      "Trade executed: buy entered at 2020-09-14 08:50:00 (Entry Price: 10362.34), exited at 2020-09-14T08:51:00.000000000 (Exit Price: 10368.91), Volume: 0.1056, P&L: 0.0000\n",
      "Trade executed: buy entered at 2020-09-14 09:06:00 (Entry Price: 10348.49), exited at 2020-09-14T09:59:00.000000000 (Exit Price: 10364.57), Volume: 0.1056, P&L: 0.0001\n",
      "Trade executed: sell entered at 2020-09-14 10:02:00 (Entry Price: 10388.93), exited at 2020-09-14T12:38:00.000000000 (Exit Price: 10449.49), Volume: 0.1057, P&L: -0.0006\n",
      "Trade executed: sell entered at 2020-09-14 13:57:00 (Entry Price: 10633.99), exited at 2020-09-14T14:32:00.000000000 (Exit Price: 10605.18), Volume: 0.1056, P&L: 0.0003\n",
      "Trade executed: sell entered at 2020-09-14 17:49:00 (Entry Price: 10687.72), exited at 2020-09-14T17:50:00.000000000 (Exit Price: 10682.25), Volume: 0.1056, P&L: 0.0000\n",
      "Trade executed: sell entered at 2020-09-14 19:43:00 (Entry Price: 10678.66), exited at 2020-09-14T19:58:00.000000000 (Exit Price: 10662.99), Volume: 0.1056, P&L: 0.0001\n",
      "Trade executed: sell entered at 2020-09-14 22:01:00 (Entry Price: 10717.06), exited at 2020-09-14T22:26:00.000000000 (Exit Price: 10684.01), Volume: 0.1056, P&L: 0.0003\n",
      "Trade flipped: sell entered at 2020-09-14 22:29:00 (Entry Price: 10693.38), exited at 2020-09-14T22:30:00.000000000 (Exit Price: 10675.12), Volume: 0.1057, P&L: 0.0002\n",
      "Trade executed: buy entered at 2020-09-14 23:07:00 (Entry Price: 10633.41), exited at 2020-09-14T23:59:00.000000000 (Exit Price: 10664.10), Volume: 0.1057, P&L: 0.0003\n",
      "Trade executed: buy entered at 2020-09-14 22:30:00 (Entry Price: 10675.12), exited at 2020-09-15T00:02:00.000000000 (Exit Price: 10688.12), Volume: 0.1057, P&L: 0.0001\n",
      "Trade executed: sell entered at 2020-09-15 02:24:00 (Entry Price: 10777.00), exited at 2020-09-15T03:22:00.000000000 (Exit Price: 10758.02), Volume: 0.1057, P&L: 0.0002\n",
      "Trade executed: sell entered at 2020-09-15 02:57:00 (Entry Price: 10774.99), exited at 2020-09-15T03:25:00.000000000 (Exit Price: 10756.42), Volume: 0.1057, P&L: 0.0002\n",
      "Trade executed: sell entered at 2020-09-15 02:04:00 (Entry Price: 10697.82), exited at 2020-09-15T03:33:00.000000000 (Exit Price: 10757.65), Volume: 0.1057, P&L: -0.0006\n",
      "Trade flipped: buy entered at 2020-09-15 05:21:00 (Entry Price: 10745.14), exited at 2020-09-15T06:54:00.000000000 (Exit Price: 10734.89), Volume: 0.1057, P&L: -0.0001\n",
      "Trade flipped: buy entered at 2020-09-15 06:25:00 (Entry Price: 10714.92), exited at 2020-09-15T06:54:00.000000000 (Exit Price: 10734.89), Volume: 0.1057, P&L: 0.0002\n",
      "Trade flipped: buy entered at 2020-09-15 06:33:00 (Entry Price: 10708.03), exited at 2020-09-15T06:54:00.000000000 (Exit Price: 10734.89), Volume: 0.1057, P&L: 0.0002\n",
      "Trade flipped: sell entered at 2020-09-15 06:54:00 (Entry Price: 10734.89), exited at 2020-09-15T06:55:00.000000000 (Exit Price: 10725.22), Volume: 0.1057, P&L: 0.0001\n",
      "Trade executed: buy entered at 2020-09-15 06:55:00 (Entry Price: 10725.22), exited at 2020-09-15T07:27:00.000000000 (Exit Price: 10726.99), Volume: 0.1057, P&L: -0.0000\n",
      "Trade flipped: sell entered at 2020-09-15 07:30:00 (Entry Price: 10742.04), exited at 2020-09-15T07:40:00.000000000 (Exit Price: 10722.99), Volume: 0.1057, P&L: 0.0002\n",
      "Trade flipped: buy entered at 2020-09-15 07:40:00 (Entry Price: 10722.99), exited at 2020-09-15T07:41:00.000000000 (Exit Price: 10724.87), Volume: 0.1058, P&L: -0.0000\n",
      "Trade flipped: sell entered at 2020-09-15 07:41:00 (Entry Price: 10724.87), exited at 2020-09-15T07:42:00.000000000 (Exit Price: 10721.99), Volume: 0.1058, P&L: 0.0000\n",
      "Trade flipped: buy entered at 2020-09-15 07:42:00 (Entry Price: 10721.99), exited at 2020-09-15T07:45:00.000000000 (Exit Price: 10728.99), Volume: 0.1058, P&L: 0.0000\n",
      "Trade flipped: sell entered at 2020-09-15 07:45:00 (Entry Price: 10728.99), exited at 2020-09-15T07:46:00.000000000 (Exit Price: 10720.00), Volume: 0.1058, P&L: 0.0001\n",
      "Trade executed: buy entered at 2020-09-15 07:46:00 (Entry Price: 10720.00), exited at 2020-09-15T07:51:00.000000000 (Exit Price: 10724.57), Volume: 0.1058, P&L: 0.0000\n",
      "Trade executed: buy entered at 2020-09-15 08:40:00 (Entry Price: 10654.91), exited at 2020-09-15T10:02:00.000000000 (Exit Price: 10685.73), Volume: 0.1058, P&L: 0.0003\n",
      "Trade executed: buy entered at 2020-09-15 10:09:00 (Entry Price: 10661.29), exited at 2020-09-15T10:32:00.000000000 (Exit Price: 10688.00), Volume: 0.1058, P&L: 0.0002\n",
      "Trade executed: buy entered at 2020-09-15 08:16:00 (Entry Price: 10713.48), exited at 2020-09-15T10:33:00.000000000 (Exit Price: 10715.00), Volume: 0.1058, P&L: -0.0000\n",
      "Trade executed: buy entered at 2020-09-15 10:08:00 (Entry Price: 10663.60), exited at 2020-09-15T10:33:00.000000000 (Exit Price: 10715.00), Volume: 0.1058, P&L: 0.0005\n",
      "Trade executed: sell entered at 2020-09-15 10:40:00 (Entry Price: 10764.00), exited at 2020-09-15T13:09:00.000000000 (Exit Price: 10861.31), Volume: 0.1059, P&L: -0.0010\n",
      "Trade executed: sell entered at 2020-09-15 11:42:00 (Entry Price: 10821.62), exited at 2020-09-15T13:09:00.000000000 (Exit Price: 10861.31), Volume: 0.1059, P&L: -0.0004\n",
      "Trade executed: sell entered at 2020-09-15 12:02:00 (Entry Price: 10837.99), exited at 2020-09-15T13:09:00.000000000 (Exit Price: 10861.31), Volume: 0.1059, P&L: -0.0002\n",
      "Trade executed: buy entered at 2020-09-15 16:22:00 (Entry Price: 10728.85), exited at 2020-09-15T17:00:00.000000000 (Exit Price: 10786.95), Volume: 0.1057, P&L: 0.0006\n",
      "Trade executed: sell entered at 2020-09-15 20:16:00 (Entry Price: 10836.78), exited at 2020-09-15T21:08:00.000000000 (Exit Price: 10811.20), Volume: 0.1058, P&L: 0.0002\n",
      "Trade executed: sell entered at 2020-09-15 21:16:00 (Entry Price: 10834.36), exited at 2020-09-15T21:28:00.000000000 (Exit Price: 10827.27), Volume: 0.1058, P&L: 0.0000\n",
      "Trade executed: sell entered at 2020-09-15 21:36:00 (Entry Price: 10844.00), exited at 2020-09-15T21:57:00.000000000 (Exit Price: 10835.27), Volume: 0.1058, P&L: 0.0001\n",
      "Trade executed: buy entered at 2020-09-16 01:23:00 (Entry Price: 10685.96), exited at 2020-09-16T01:35:00.000000000 (Exit Price: 10723.53), Volume: 0.1058, P&L: 0.0004\n",
      "Trade executed: buy entered at 2020-09-16 01:24:00 (Entry Price: 10683.23), exited at 2020-09-16T01:35:00.000000000 (Exit Price: 10723.53), Volume: 0.1058, P&L: 0.0004\n",
      "Trade executed: buy entered at 2020-09-16 00:54:00 (Entry Price: 10694.11), exited at 2020-09-16T02:05:00.000000000 (Exit Price: 10719.31), Volume: 0.1058, P&L: 0.0002\n",
      "Trade executed: buy entered at 2020-09-15 22:42:00 (Entry Price: 10814.51), exited at 2020-09-16T02:47:00.000000000 (Exit Price: 10722.01), Volume: 0.1058, P&L: -0.0009\n",
      "Trade executed: buy entered at 2020-09-15 23:51:00 (Entry Price: 10772.07), exited at 2020-09-16T02:47:00.000000000 (Exit Price: 10722.01), Volume: 0.1058, P&L: -0.0005\n",
      "Trade executed: buy entered at 2020-09-16 02:04:00 (Entry Price: 10719.06), exited at 2020-09-16T02:47:00.000000000 (Exit Price: 10722.01), Volume: 0.1059, P&L: 0.0000\n",
      "Trade executed: sell entered at 2020-09-16 04:21:00 (Entry Price: 10792.72), exited at 2020-09-16T05:29:00.000000000 (Exit Price: 10787.50), Volume: 0.1057, P&L: 0.0000\n",
      "Trade executed: sell entered at 2020-09-16 06:42:00 (Entry Price: 10794.34), exited at 2020-09-16T08:44:00.000000000 (Exit Price: 10867.95), Volume: 0.1057, P&L: -0.0007\n",
      "Trade executed: sell entered at 2020-09-16 07:17:00 (Entry Price: 10829.57), exited at 2020-09-16T08:44:00.000000000 (Exit Price: 10867.95), Volume: 0.1057, P&L: -0.0004\n",
      "Trade executed: sell entered at 2020-09-16 07:30:00 (Entry Price: 10838.19), exited at 2020-09-16T08:44:00.000000000 (Exit Price: 10867.95), Volume: 0.1057, P&L: -0.0003\n",
      "Trade flipped: sell entered at 2020-09-16 11:04:00 (Entry Price: 10874.41), exited at 2020-09-16T11:06:00.000000000 (Exit Price: 10867.00), Volume: 0.1056, P&L: 0.0001\n",
      "Trade executed: buy entered at 2020-09-16 11:06:00 (Entry Price: 10867.00), exited at 2020-09-16T11:09:00.000000000 (Exit Price: 10872.42), Volume: 0.1056, P&L: 0.0000\n",
      "Trade flipped: sell entered at 2020-09-16 11:55:00 (Entry Price: 10888.00), exited at 2020-09-16T12:04:00.000000000 (Exit Price: 10859.99), Volume: 0.1056, P&L: 0.0003\n",
      "Trade flipped: buy entered at 2020-09-16 12:04:00 (Entry Price: 10859.99), exited at 2020-09-16T12:05:00.000000000 (Exit Price: 10865.25), Volume: 0.1056, P&L: 0.0000\n",
      "Trade flipped: sell entered at 2020-09-16 12:05:00 (Entry Price: 10865.25), exited at 2020-09-16T12:06:00.000000000 (Exit Price: 10863.23), Volume: 0.1056, P&L: -0.0000\n",
      "Trade flipped: buy entered at 2020-09-16 12:06:00 (Entry Price: 10863.23), exited at 2020-09-16T12:07:00.000000000 (Exit Price: 10871.40), Volume: 0.1056, P&L: 0.0001\n",
      "Trade flipped: sell entered at 2020-09-16 12:07:00 (Entry Price: 10871.40), exited at 2020-09-16T12:09:00.000000000 (Exit Price: 10863.00), Volume: 0.1056, P&L: 0.0001\n",
      "Trade executed: buy entered at 2020-09-16 12:09:00 (Entry Price: 10863.00), exited at 2020-09-16T12:10:00.000000000 (Exit Price: 10867.97), Volume: 0.1057, P&L: 0.0000\n",
      "Trade executed: sell entered at 2020-09-16 12:14:00 (Entry Price: 10878.08), exited at 2020-09-16T12:18:00.000000000 (Exit Price: 10861.47), Volume: 0.1057, P&L: 0.0001\n",
      "Trade executed: sell entered at 2020-09-16 12:22:00 (Entry Price: 10884.97), exited at 2020-09-16T13:44:00.000000000 (Exit Price: 10910.30), Volume: 0.1057, P&L: -0.0003\n",
      "Trade executed: sell entered at 2020-09-16 13:14:00 (Entry Price: 10937.46), exited at 2020-09-16T13:44:00.000000000 (Exit Price: 10910.30), Volume: 0.1057, P&L: 0.0002\n",
      "Trade executed: sell entered at 2020-09-16 16:05:00 (Entry Price: 11011.45), exited at 2020-09-16T17:21:00.000000000 (Exit Price: 11017.44), Volume: 0.1057, P&L: -0.0001\n",
      "Trade executed: buy entered at 2020-09-16 18:08:00 (Entry Price: 10971.17), exited at 2020-09-16T18:17:00.000000000 (Exit Price: 11005.89), Volume: 0.1057, P&L: 0.0003\n",
      "Trade executed: sell entered at 2020-09-16 18:18:00 (Entry Price: 11021.91), exited at 2020-09-16T18:53:00.000000000 (Exit Price: 11010.35), Volume: 0.1057, P&L: 0.0001\n",
      "Trade executed: buy entered at 2020-09-16 19:20:00 (Entry Price: 10998.42), exited at 2020-09-16T20:30:00.000000000 (Exit Price: 11006.33), Volume: 0.1057, P&L: 0.0001\n",
      "Trade flipped: buy entered at 2020-09-17 00:12:00 (Entry Price: 10933.85), exited at 2020-09-17T00:32:00.000000000 (Exit Price: 10984.52), Volume: 0.1057, P&L: 0.0005\n",
      "Trade executed: sell entered at 2020-09-17 01:27:00 (Entry Price: 11018.95), exited at 2020-09-17T01:39:00.000000000 (Exit Price: 10995.21), Volume: 0.1057, P&L: 0.0002\n",
      "Trade executed: sell entered at 2020-09-17 00:32:00 (Entry Price: 10984.52), exited at 2020-09-17T01:41:00.000000000 (Exit Price: 10995.13), Volume: 0.1057, P&L: -0.0001\n",
      "Trade executed: buy entered at 2020-09-17 04:01:00 (Entry Price: 10868.64), exited at 2020-09-17T04:26:00.000000000 (Exit Price: 10903.40), Volume: 0.1058, P&L: 0.0003\n",
      "Trade executed: buy entered at 2020-09-17 04:06:00 (Entry Price: 10881.00), exited at 2020-09-17T04:55:00.000000000 (Exit Price: 10901.73), Volume: 0.1058, P&L: 0.0002\n",
      "Trade executed: buy entered at 2020-09-17 01:51:00 (Entry Price: 10964.02), exited at 2020-09-17T05:08:00.000000000 (Exit Price: 10910.63), Volume: 0.1058, P&L: -0.0005\n",
      "Trade executed: buy entered at 2020-09-17 04:34:00 (Entry Price: 10895.33), exited at 2020-09-17T05:08:00.000000000 (Exit Price: 10910.63), Volume: 0.1058, P&L: 0.0001\n",
      "Trade flipped: buy entered at 2020-09-17 07:43:00 (Entry Price: 10868.00), exited at 2020-09-17T07:54:00.000000000 (Exit Price: 10888.00), Volume: 0.1058, P&L: 0.0002\n",
      "Trade flipped: sell entered at 2020-09-17 07:54:00 (Entry Price: 10888.00), exited at 2020-09-17T07:55:00.000000000 (Exit Price: 10883.41), Volume: 0.1058, P&L: 0.0000\n",
      "Trade executed: buy entered at 2020-09-17 07:55:00 (Entry Price: 10883.41), exited at 2020-09-17T08:03:00.000000000 (Exit Price: 10897.17), Volume: 0.1058, P&L: 0.0001\n",
      "Trade executed: buy entered at 2020-09-17 08:19:00 (Entry Price: 10861.41), exited at 2020-09-17T08:29:00.000000000 (Exit Price: 10885.00), Volume: 0.1058, P&L: 0.0002\n",
      "Trade executed: buy entered at 2020-09-17 10:36:00 (Entry Price: 10787.17), exited at 2020-09-17T10:55:00.000000000 (Exit Price: 10828.58), Volume: 0.1058, P&L: 0.0004\n",
      "Trade executed: buy entered at 2020-09-17 11:23:00 (Entry Price: 10821.42), exited at 2020-09-17T11:30:00.000000000 (Exit Price: 10854.71), Volume: 0.1059, P&L: 0.0003\n",
      "Trade executed: sell entered at 2020-09-17 11:32:00 (Entry Price: 10857.06), exited at 2020-09-17T12:21:00.000000000 (Exit Price: 10839.00), Volume: 0.1059, P&L: 0.0002\n",
      "Trade flipped: sell entered at 2020-09-17 14:06:00 (Entry Price: 10839.92), exited at 2020-09-17T14:15:00.000000000 (Exit Price: 10818.64), Volume: 0.1059, P&L: 0.0002\n",
      "Trade flipped: buy entered at 2020-09-17 14:15:00 (Entry Price: 10818.64), exited at 2020-09-17T14:17:00.000000000 (Exit Price: 10819.40), Volume: 0.1059, P&L: -0.0000\n",
      "Trade flipped: sell entered at 2020-09-17 14:17:00 (Entry Price: 10819.40), exited at 2020-09-17T14:24:00.000000000 (Exit Price: 10813.06), Volume: 0.1059, P&L: 0.0000\n",
      "Trade executed: buy entered at 2020-09-17 14:24:00 (Entry Price: 10813.06), exited at 2020-09-17T14:33:00.000000000 (Exit Price: 10823.15), Volume: 0.1059, P&L: 0.0001\n",
      "Trade flipped: buy entered at 2020-09-17 14:47:00 (Entry Price: 10791.46), exited at 2020-09-17T14:49:00.000000000 (Exit Price: 10820.00), Volume: 0.1059, P&L: 0.0003\n",
      "Trade flipped: sell entered at 2020-09-17 14:49:00 (Entry Price: 10820.00), exited at 2020-09-17T14:51:00.000000000 (Exit Price: 10815.00), Volume: 0.1060, P&L: 0.0000\n",
      "Trade flipped: buy entered at 2020-09-17 14:51:00 (Entry Price: 10815.00), exited at 2020-09-17T14:52:00.000000000 (Exit Price: 10825.50), Volume: 0.1060, P&L: 0.0001\n",
      "Trade executed: sell entered at 2020-09-17 14:52:00 (Entry Price: 10825.50), exited at 2020-09-17T15:44:00.000000000 (Exit Price: 10836.00), Volume: 0.1060, P&L: -0.0001\n",
      "Trade executed: sell entered at 2020-09-17 18:16:00 (Entry Price: 10903.00), exited at 2020-09-17T19:03:00.000000000 (Exit Price: 10884.72), Volume: 0.1060, P&L: 0.0002\n",
      "Trade executed: sell entered at 2020-09-17 19:04:00 (Entry Price: 10886.02), exited at 2020-09-17T19:26:00.000000000 (Exit Price: 10888.52), Volume: 0.1060, P&L: -0.0000\n",
      "Trade executed: sell entered at 2020-09-17 19:30:00 (Entry Price: 10894.73), exited at 2020-09-17T20:29:00.000000000 (Exit Price: 10903.88), Volume: 0.1060, P&L: -0.0001\n",
      "Trade executed: buy entered at 2020-09-17 22:18:00 (Entry Price: 10919.64), exited at 2020-09-17T22:19:00.000000000 (Exit Price: 10923.79), Volume: 0.1060, P&L: 0.0000\n",
      "Trade executed: sell entered at 2020-09-17 22:29:00 (Entry Price: 10936.95), exited at 2020-09-17T22:32:00.000000000 (Exit Price: 10929.38), Volume: 0.1060, P&L: 0.0001\n",
      "Trade executed: buy entered at 2020-09-17 22:44:00 (Entry Price: 10915.60), exited at 2020-09-17T23:05:00.000000000 (Exit Price: 10927.33), Volume: 0.1060, P&L: 0.0001\n",
      "Trade executed: buy entered at 2020-09-17 23:06:00 (Entry Price: 10919.77), exited at 2020-09-17T23:17:00.000000000 (Exit Price: 10929.62), Volume: 0.1060, P&L: 0.0001\n",
      "Trade executed: buy entered at 2020-09-17 23:21:00 (Entry Price: 10924.38), exited at 2020-09-17T23:25:00.000000000 (Exit Price: 10927.00), Volume: 0.1060, P&L: 0.0000\n",
      "Trade executed: buy entered at 2020-09-18 01:32:00 (Entry Price: 10888.81), exited at 2020-09-18T02:03:00.000000000 (Exit Price: 10906.99), Volume: 0.1060, P&L: 0.0002\n",
      "Trade executed: buy entered at 2020-09-18 04:34:00 (Entry Price: 10907.84), exited at 2020-09-18T05:16:00.000000000 (Exit Price: 10913.99), Volume: 0.1060, P&L: 0.0000\n",
      "Trade executed: buy entered at 2020-09-18 05:22:00 (Entry Price: 10909.04), exited at 2020-09-18T05:27:00.000000000 (Exit Price: 10913.88), Volume: 0.1060, P&L: 0.0000\n",
      "Trade flipped: sell entered at 2020-09-18 05:40:00 (Entry Price: 10913.04), exited at 2020-09-18T05:44:00.000000000 (Exit Price: 10911.26), Volume: 0.1060, P&L: -0.0000\n",
      "Trade executed: buy entered at 2020-09-18 05:44:00 (Entry Price: 10911.26), exited at 2020-09-18T05:45:00.000000000 (Exit Price: 10913.86), Volume: 0.1060, P&L: 0.0000\n",
      "Trade executed: sell entered at 2020-09-18 07:39:00 (Entry Price: 10943.08), exited at 2020-09-18T08:05:00.000000000 (Exit Price: 10946.51), Volume: 0.1060, P&L: -0.0001\n",
      "Trade executed: buy entered at 2020-09-18 08:31:00 (Entry Price: 10928.38), exited at 2020-09-18T08:36:00.000000000 (Exit Price: 10931.84), Volume: 0.1060, P&L: 0.0000\n",
      "Trade executed: sell entered at 2020-09-18 08:39:00 (Entry Price: 10944.66), exited at 2020-09-18T08:50:00.000000000 (Exit Price: 10940.03), Volume: 0.1060, P&L: 0.0000\n",
      "Trade executed: sell entered at 2020-09-18 08:59:00 (Entry Price: 10953.38), exited at 2020-09-18T10:30:00.000000000 (Exit Price: 10984.09), Volume: 0.1060, P&L: -0.0003\n",
      "Trade executed: sell entered at 2020-09-18 09:37:00 (Entry Price: 10995.85), exited at 2020-09-18T10:30:00.000000000 (Exit Price: 10984.09), Volume: 0.1060, P&L: 0.0001\n",
      "Trade executed: buy entered at 2020-09-18 11:38:00 (Entry Price: 10973.22), exited at 2020-09-18T11:41:00.000000000 (Exit Price: 10978.00), Volume: 0.1060, P&L: 0.0000\n",
      "Trade executed: sell entered at 2020-09-18 12:05:00 (Entry Price: 10983.00), exited at 2020-09-18T12:07:00.000000000 (Exit Price: 10979.99), Volume: 0.1060, P&L: 0.0000\n",
      "Trade executed: buy entered at 2020-09-18 12:12:00 (Entry Price: 10965.65), exited at 2020-09-18T12:46:00.000000000 (Exit Price: 10984.38), Volume: 0.1060, P&L: 0.0002\n",
      "Trade executed: sell entered at 2020-09-18 13:12:00 (Entry Price: 10984.95), exited at 2020-09-18T13:25:00.000000000 (Exit Price: 10971.17), Volume: 0.1060, P&L: 0.0001\n",
      "Trade executed: buy entered at 2020-09-18 13:29:00 (Entry Price: 10965.00), exited at 2020-09-18T18:38:00.000000000 (Exit Price: 10861.98), Volume: 0.1060, P&L: -0.0010\n",
      "Trade executed: buy entered at 2020-09-18 14:37:00 (Entry Price: 10931.84), exited at 2020-09-18T18:38:00.000000000 (Exit Price: 10861.98), Volume: 0.1060, P&L: -0.0007\n",
      "Trade executed: buy entered at 2020-09-18 14:47:00 (Entry Price: 10931.81), exited at 2020-09-18T18:38:00.000000000 (Exit Price: 10861.98), Volume: 0.1060, P&L: -0.0007\n",
      "Trade executed: buy entered at 2020-09-18 17:15:00 (Entry Price: 10881.11), exited at 2020-09-18T18:38:00.000000000 (Exit Price: 10861.98), Volume: 0.1060, P&L: -0.0002\n",
      "Trade executed: buy entered at 2020-09-18 17:21:00 (Entry Price: 10865.67), exited at 2020-09-18T18:38:00.000000000 (Exit Price: 10861.98), Volume: 0.1060, P&L: -0.0001\n",
      "Trade executed: sell entered at 2020-09-18 20:23:00 (Entry Price: 10879.88), exited at 2020-09-18T21:18:00.000000000 (Exit Price: 10871.18), Volume: 0.1057, P&L: 0.0001\n",
      "Trade executed: sell entered at 2020-09-18 22:30:00 (Entry Price: 10918.46), exited at 2020-09-18T23:04:00.000000000 (Exit Price: 10915.01), Volume: 0.1057, P&L: 0.0000\n",
      "Trade executed: sell entered at 2020-09-19 00:39:00 (Entry Price: 10951.47), exited at 2020-09-19T01:09:00.000000000 (Exit Price: 10936.95), Volume: 0.1057, P&L: 0.0001\n",
      "Trade executed: sell entered at 2020-09-19 02:58:00 (Entry Price: 10963.00), exited at 2020-09-19T03:22:00.000000000 (Exit Price: 10948.64), Volume: 0.1058, P&L: 0.0001\n",
      "Trade executed: sell entered at 2020-09-19 04:14:00 (Entry Price: 10962.92), exited at 2020-09-19T04:19:00.000000000 (Exit Price: 10953.89), Volume: 0.1058, P&L: 0.0001\n",
      "Trade executed: buy entered at 2020-09-19 04:21:00 (Entry Price: 10949.07), exited at 2020-09-19T04:23:00.000000000 (Exit Price: 10951.00), Volume: 0.1058, P&L: -0.0000\n",
      "Trade executed: sell entered at 2020-09-19 04:26:00 (Entry Price: 10957.99), exited at 2020-09-19T04:30:00.000000000 (Exit Price: 10951.64), Volume: 0.1058, P&L: 0.0000\n",
      "Trade executed: buy entered at 2020-09-19 04:33:00 (Entry Price: 10948.74), exited at 2020-09-19T04:34:00.000000000 (Exit Price: 10955.10), Volume: 0.1058, P&L: 0.0000\n",
      "Trade flipped: buy entered at 2020-09-19 05:18:00 (Entry Price: 10936.14), exited at 2020-09-19T08:57:00.000000000 (Exit Price: 10920.00), Volume: 0.1058, P&L: -0.0002\n",
      "Trade flipped: buy entered at 2020-09-19 07:23:00 (Entry Price: 10918.83), exited at 2020-09-19T08:57:00.000000000 (Exit Price: 10920.00), Volume: 0.1058, P&L: -0.0000\n",
      "Trade executed: sell entered at 2020-09-19 08:57:00 (Entry Price: 10920.00), exited at 2020-09-19T10:09:00.000000000 (Exit Price: 10930.01), Volume: 0.1058, P&L: -0.0001\n",
      "Trade executed: sell entered at 2020-09-19 10:56:00 (Entry Price: 10970.00), exited at 2020-09-19T13:13:00.000000000 (Exit Price: 11082.99), Volume: 0.1058, P&L: -0.0011\n",
      "Trade executed: sell entered at 2020-09-19 11:26:00 (Entry Price: 11017.97), exited at 2020-09-19T13:13:00.000000000 (Exit Price: 11082.99), Volume: 0.1058, P&L: -0.0006\n",
      "Trade flipped: sell entered at 2020-09-19 16:11:00 (Entry Price: 11083.00), exited at 2020-09-19T16:23:00.000000000 (Exit Price: 11076.26), Volume: 0.1056, P&L: 0.0000\n",
      "Trade executed: buy entered at 2020-09-19 16:23:00 (Entry Price: 11076.26), exited at 2020-09-19T17:12:00.000000000 (Exit Price: 11072.27), Volume: 0.1056, P&L: -0.0001\n",
      "Trade executed: buy entered at 2020-09-19 18:30:00 (Entry Price: 11009.79), exited at 2020-09-19T18:39:00.000000000 (Exit Price: 11037.62), Volume: 0.1056, P&L: 0.0002\n",
      "Trade executed: buy entered at 2020-09-19 18:39:00 (Entry Price: 11037.62), exited at 2020-09-19T19:17:00.000000000 (Exit Price: 11054.14), Volume: 0.1056, P&L: 0.0001\n",
      "Trade executed: buy entered at 2020-09-19 19:17:00 (Entry Price: 11054.14), exited at 2020-09-19T19:23:00.000000000 (Exit Price: 11057.77), Volume: 0.1056, P&L: 0.0000\n",
      "Trade executed: sell entered at 2020-09-19 19:26:00 (Entry Price: 11061.00), exited at 2020-09-19T19:56:00.000000000 (Exit Price: 11044.29), Volume: 0.1056, P&L: 0.0001\n",
      "Trade executed: buy entered at 2020-09-19 21:46:00 (Entry Price: 11019.65), exited at 2020-09-19T22:18:00.000000000 (Exit Price: 11040.61), Volume: 0.1056, P&L: 0.0002\n",
      "Trade executed: buy entered at 2020-09-19 22:20:00 (Entry Price: 11043.93), exited at 2020-09-19T22:48:00.000000000 (Exit Price: 11053.65), Volume: 0.1057, P&L: 0.0001\n",
      "Trade flipped: sell entered at 2020-09-19 22:49:00 (Entry Price: 11054.34), exited at 2020-09-19T23:02:00.000000000 (Exit Price: 11035.12), Volume: 0.1057, P&L: 0.0002\n",
      "Trade executed: buy entered at 2020-09-19 23:02:00 (Entry Price: 11035.12), exited at 2020-09-19T23:15:00.000000000 (Exit Price: 11051.99), Volume: 0.1057, P&L: 0.0001\n",
      "Trade executed: buy entered at 2020-09-20 01:02:00 (Entry Price: 10985.75), exited at 2020-09-20T04:13:00.000000000 (Exit Price: 10952.02), Volume: 0.1057, P&L: -0.0003\n",
      "Trade executed: buy entered at 2020-09-20 01:47:00 (Entry Price: 10955.00), exited at 2020-09-20T04:13:00.000000000 (Exit Price: 10952.02), Volume: 0.1057, P&L: -0.0000\n",
      "Trade executed: buy entered at 2020-09-20 02:37:00 (Entry Price: 10946.85), exited at 2020-09-20T04:13:00.000000000 (Exit Price: 10952.02), Volume: 0.1057, P&L: 0.0000\n",
      "Trade executed: sell entered at 2020-09-20 07:15:00 (Entry Price: 10968.26), exited at 2020-09-20T07:58:00.000000000 (Exit Price: 10958.01), Volume: 0.1057, P&L: 0.0001\n",
      "Trade executed: buy entered at 2020-09-20 08:03:00 (Entry Price: 10949.39), exited at 2020-09-20T08:05:00.000000000 (Exit Price: 10951.49), Volume: 0.1057, P&L: -0.0000\n",
      "Trade executed: sell entered at 2020-09-20 08:09:00 (Entry Price: 10966.07), exited at 2020-09-20T08:13:00.000000000 (Exit Price: 10962.98), Volume: 0.1057, P&L: 0.0000\n",
      "Trade executed: sell entered at 2020-09-20 08:18:00 (Entry Price: 10965.76), exited at 2020-09-20T08:27:00.000000000 (Exit Price: 10964.99), Volume: 0.1057, P&L: -0.0000\n",
      "Trade executed: buy entered at 2020-09-20 08:37:00 (Entry Price: 10949.07), exited at 2020-09-20T08:46:00.000000000 (Exit Price: 10953.72), Volume: 0.1057, P&L: 0.0000\n",
      "Trade executed: sell entered at 2020-09-20 10:40:00 (Entry Price: 10955.06), exited at 2020-09-20T11:18:00.000000000 (Exit Price: 10956.58), Volume: 0.1057, P&L: -0.0000\n",
      "Trade executed: buy entered at 2020-09-20 12:16:00 (Entry Price: 10839.04), exited at 2020-09-20T12:52:00.000000000 (Exit Price: 10863.00), Volume: 0.1057, P&L: 0.0002\n",
      "Trade executed: buy entered at 2020-09-20 13:26:00 (Entry Price: 10852.20), exited at 2020-09-20T15:21:00.000000000 (Exit Price: 10859.99), Volume: 0.1057, P&L: 0.0001\n",
      "Trade flipped: buy entered at 2020-09-20 16:33:00 (Entry Price: 10805.39), exited at 2020-09-20T16:43:00.000000000 (Exit Price: 10841.67), Volume: 0.1057, P&L: 0.0003\n",
      "Trade flipped: sell entered at 2020-09-20 16:43:00 (Entry Price: 10841.67), exited at 2020-09-20T16:45:00.000000000 (Exit Price: 10831.92), Volume: 0.1057, P&L: 0.0001\n",
      "Trade executed: buy entered at 2020-09-20 16:45:00 (Entry Price: 10831.92), exited at 2020-09-20T16:57:00.000000000 (Exit Price: 10838.00), Volume: 0.1057, P&L: 0.0000\n",
      "Trade executed: sell entered at 2020-09-20 17:39:00 (Entry Price: 10885.00), exited at 2020-09-20T18:16:00.000000000 (Exit Price: 10863.87), Volume: 0.1057, P&L: 0.0002\n",
      "Trade executed: sell entered at 2020-09-20 18:16:00 (Entry Price: 10863.87), exited at 2020-09-20T18:27:00.000000000 (Exit Price: 10865.97), Volume: 0.1057, P&L: -0.0000\n",
      "Trade flipped: sell entered at 2020-09-20 21:19:00 (Entry Price: 10865.10), exited at 2020-09-20T22:07:00.000000000 (Exit Price: 10859.37), Volume: 0.1057, P&L: 0.0000\n",
      "Trade executed: buy entered at 2020-09-20 22:07:00 (Entry Price: 10859.37), exited at 2020-09-20T22:44:00.000000000 (Exit Price: 10856.27), Volume: 0.1057, P&L: -0.0001\n",
      "Trade executed: sell entered at 2020-09-20 22:45:00 (Entry Price: 10863.08), exited at 2020-09-21T00:06:00.000000000 (Exit Price: 10894.11), Volume: 0.1057, P&L: -0.0003\n",
      "Trade executed: sell entered at 2020-09-21 00:52:00 (Entry Price: 10950.75), exited at 2020-09-21T01:52:00.000000000 (Exit Price: 10945.52), Volume: 0.1057, P&L: 0.0000\n",
      "Trade executed: buy entered at 2020-09-21 05:43:00 (Entry Price: 10932.53), exited at 2020-09-21T05:48:00.000000000 (Exit Price: 10945.04), Volume: 0.1057, P&L: 0.0001\n",
      "Trade executed: buy entered at 2020-09-21 05:53:00 (Entry Price: 10942.24), exited at 2020-09-21T05:57:00.000000000 (Exit Price: 10950.00), Volume: 0.1057, P&L: 0.0001\n",
      "Trade executed: sell entered at 2020-09-21 06:03:00 (Entry Price: 10965.63), exited at 2020-09-21T06:23:00.000000000 (Exit Price: 10941.95), Volume: 0.1057, P&L: 0.0002\n",
      "Trade executed: buy entered at 2020-09-21 06:30:00 (Entry Price: 10939.86), exited at 2020-09-21T13:19:00.000000000 (Exit Price: 10632.32), Volume: 0.1057, P&L: -0.0030\n",
      "Trade executed: buy entered at 2020-09-21 07:45:00 (Entry Price: 10911.97), exited at 2020-09-21T13:19:00.000000000 (Exit Price: 10632.32), Volume: 0.1057, P&L: -0.0027\n",
      "Trade executed: buy entered at 2020-09-21 07:57:00 (Entry Price: 10890.59), exited at 2020-09-21T13:19:00.000000000 (Exit Price: 10632.32), Volume: 0.1057, P&L: -0.0025\n",
      "Trade executed: buy entered at 2020-09-21 08:43:00 (Entry Price: 10838.59), exited at 2020-09-21T13:19:00.000000000 (Exit Price: 10632.32), Volume: 0.1057, P&L: -0.0020\n",
      "Trade executed: buy entered at 2020-09-21 10:33:00 (Entry Price: 10711.56), exited at 2020-09-21T13:19:00.000000000 (Exit Price: 10632.32), Volume: 0.1057, P&L: -0.0008\n",
      "Trade flipped: buy entered at 2020-09-21 13:38:00 (Entry Price: 10578.42), exited at 2020-09-21T13:49:00.000000000 (Exit Price: 10617.22), Volume: 0.1046, P&L: 0.0004\n",
      "Trade flipped: sell entered at 2020-09-21 13:49:00 (Entry Price: 10617.22), exited at 2020-09-21T13:50:00.000000000 (Exit Price: 10610.00), Volume: 0.1047, P&L: 0.0001\n",
      "Trade executed: buy entered at 2020-09-21 13:50:00 (Entry Price: 10610.00), exited at 2020-09-21T13:52:00.000000000 (Exit Price: 10613.00), Volume: 0.1047, P&L: 0.0000\n",
      "Trade executed: buy entered at 2020-09-21 13:56:00 (Entry Price: 10591.98), exited at 2020-09-21T17:31:00.000000000 (Exit Price: 10419.29), Volume: 0.1047, P&L: -0.0017\n",
      "Trade executed: sell entered at 2020-09-21 20:35:00 (Entry Price: 10521.00), exited at 2020-09-21T20:53:00.000000000 (Exit Price: 10498.85), Volume: 0.1045, P&L: 0.0002\n",
      "Trade executed: sell entered at 2020-09-21 21:41:00 (Entry Price: 10509.98), exited at 2020-09-21T22:00:00.000000000 (Exit Price: 10492.26), Volume: 0.1045, P&L: 0.0002\n",
      "Trade executed: buy entered at 2020-09-21 22:11:00 (Entry Price: 10470.72), exited at 2020-09-21T22:18:00.000000000 (Exit Price: 10496.09), Volume: 0.1045, P&L: 0.0002\n",
      "Trade flipped: sell entered at 2020-09-21 22:20:00 (Entry Price: 10502.94), exited at 2020-09-21T22:31:00.000000000 (Exit Price: 10487.64), Volume: 0.1046, P&L: 0.0001\n",
      "Trade executed: buy entered at 2020-09-21 22:31:00 (Entry Price: 10487.64), exited at 2020-09-21T22:34:00.000000000 (Exit Price: 10496.46), Volume: 0.1046, P&L: 0.0001\n",
      "Trade executed: buy entered at 2020-09-21 22:46:00 (Entry Price: 10492.34), exited at 2020-09-21T23:15:00.000000000 (Exit Price: 10497.53), Volume: 0.1046, P&L: 0.0000\n",
      "Trade flipped: sell entered at 2020-09-21 23:16:00 (Entry Price: 10498.09), exited at 2020-09-21T23:17:00.000000000 (Exit Price: 10487.30), Volume: 0.1046, P&L: 0.0001\n",
      "Trade executed: buy entered at 2020-09-22 00:03:00 (Entry Price: 10378.16), exited at 2020-09-22T00:14:00.000000000 (Exit Price: 10462.90), Volume: 0.1046, P&L: 0.0008\n",
      "Trade executed: buy entered at 2020-09-21 23:17:00 (Entry Price: 10487.30), exited at 2020-09-22T00:23:00.000000000 (Exit Price: 10478.84), Volume: 0.1046, P&L: -0.0001\n",
      "Trade executed: buy entered at 2020-09-22 00:39:00 (Entry Price: 10457.27), exited at 2020-09-22T02:01:00.000000000 (Exit Price: 10454.22), Volume: 0.1047, P&L: -0.0001\n",
      "Trade executed: buy entered at 2020-09-22 03:28:00 (Entry Price: 10444.00), exited at 2020-09-22T03:29:00.000000000 (Exit Price: 10446.68), Volume: 0.1047, P&L: 0.0000\n",
      "Trade executed: sell entered at 2020-09-22 03:31:00 (Entry Price: 10448.53), exited at 2020-09-22T03:35:00.000000000 (Exit Price: 10446.56), Volume: 0.1047, P&L: -0.0000\n",
      "Trade executed: sell entered at 2020-09-22 03:37:00 (Entry Price: 10452.55), exited at 2020-09-22T03:51:00.000000000 (Exit Price: 10444.95), Volume: 0.1047, P&L: 0.0001\n",
      "Trade executed: sell entered at 2020-09-22 04:01:00 (Entry Price: 10452.99), exited at 2020-09-22T04:40:00.000000000 (Exit Price: 10458.83), Volume: 0.1047, P&L: -0.0001\n",
      "Trade executed: sell entered at 2020-09-22 06:01:00 (Entry Price: 10477.00), exited at 2020-09-22T06:19:00.000000000 (Exit Price: 10458.76), Volume: 0.1047, P&L: 0.0002\n",
      "Trade executed: buy entered at 2020-09-22 06:31:00 (Entry Price: 10430.77), exited at 2020-09-22T08:13:00.000000000 (Exit Price: 10436.87), Volume: 0.1047, P&L: 0.0000\n",
      "Trade executed: buy entered at 2020-09-22 07:35:00 (Entry Price: 10377.69), exited at 2020-09-22T08:13:00.000000000 (Exit Price: 10436.87), Volume: 0.1047, P&L: 0.0006\n",
      "Trade executed: buy entered at 2020-09-22 08:14:00 (Entry Price: 10431.65), exited at 2020-09-22T08:18:00.000000000 (Exit Price: 10433.00), Volume: 0.1047, P&L: -0.0000\n",
      "Trade executed: buy entered at 2020-09-22 08:20:00 (Entry Price: 10417.14), exited at 2020-09-22T08:30:00.000000000 (Exit Price: 10430.57), Volume: 0.1047, P&L: 0.0001\n",
      "Trade executed: sell entered at 2020-09-22 08:31:00 (Entry Price: 10433.88), exited at 2020-09-22T09:56:00.000000000 (Exit Price: 10447.51), Volume: 0.1048, P&L: -0.0002\n",
      "Trade executed: sell entered at 2020-09-22 09:10:00 (Entry Price: 10453.99), exited at 2020-09-22T09:56:00.000000000 (Exit Price: 10447.51), Volume: 0.1048, P&L: 0.0000\n",
      "Trade flipped: buy entered at 2020-09-22 12:29:00 (Entry Price: 10448.92), exited at 2020-09-22T12:31:00.000000000 (Exit Price: 10459.69), Volume: 0.1047, P&L: 0.0001\n",
      "Trade executed: sell entered at 2020-09-22 12:31:00 (Entry Price: 10459.69), exited at 2020-09-22T13:45:00.000000000 (Exit Price: 10480.26), Volume: 0.1047, P&L: -0.0002\n",
      "Trade executed: sell entered at 2020-09-22 13:01:00 (Entry Price: 10507.61), exited at 2020-09-22T13:45:00.000000000 (Exit Price: 10480.26), Volume: 0.1047, P&L: 0.0003\n",
      "Trade executed: buy entered at 2020-09-22 13:49:00 (Entry Price: 10468.61), exited at 2020-09-22T14:00:00.000000000 (Exit Price: 10476.17), Volume: 0.1048, P&L: 0.0001\n",
      "Trade executed: buy entered at 2020-09-22 14:01:00 (Entry Price: 10466.67), exited at 2020-09-22T14:07:00.000000000 (Exit Price: 10474.73), Volume: 0.1048, P&L: 0.0001\n",
      "Trade flipped: sell entered at 2020-09-22 20:46:00 (Entry Price: 10501.32), exited at 2020-09-22T21:04:00.000000000 (Exit Price: 10485.82), Volume: 0.1048, P&L: 0.0001\n",
      "Trade executed: buy entered at 2020-09-22 21:04:00 (Entry Price: 10485.82), exited at 2020-09-22T21:05:00.000000000 (Exit Price: 10540.00), Volume: 0.1048, P&L: 0.0005\n",
      "Trade executed: sell entered at 2020-09-22 21:06:00 (Entry Price: 10552.35), exited at 2020-09-22T21:08:00.000000000 (Exit Price: 10490.04), Volume: 0.1048, P&L: 0.0006\n",
      "Trade flipped: sell entered at 2020-09-22 21:08:00 (Entry Price: 10490.04), exited at 2020-09-22T21:09:00.000000000 (Exit Price: 10484.00), Volume: 0.1049, P&L: 0.0000\n",
      "Trade flipped: buy entered at 2020-09-22 21:09:00 (Entry Price: 10484.00), exited at 2020-09-22T21:11:00.000000000 (Exit Price: 10494.01), Volume: 0.1049, P&L: 0.0001\n",
      "Trade flipped: sell entered at 2020-09-22 21:11:00 (Entry Price: 10494.01), exited at 2020-09-22T21:12:00.000000000 (Exit Price: 10486.58), Volume: 0.1049, P&L: 0.0001\n",
      "Trade executed: buy entered at 2020-09-22 21:12:00 (Entry Price: 10486.58), exited at 2020-09-22T21:13:00.000000000 (Exit Price: 10490.06), Volume: 0.1049, P&L: 0.0000\n",
      "Trade flipped: buy entered at 2020-09-22 21:14:00 (Entry Price: 10486.63), exited at 2020-09-22T21:15:00.000000000 (Exit Price: 10491.91), Volume: 0.1049, P&L: 0.0000\n",
      "Trade executed: sell entered at 2020-09-22 21:15:00 (Entry Price: 10491.91), exited at 2020-09-22T22:06:00.000000000 (Exit Price: 10513.71), Volume: 0.1049, P&L: -0.0002\n",
      "Trade executed: sell entered at 2020-09-22 21:55:00 (Entry Price: 10532.60), exited at 2020-09-22T22:06:00.000000000 (Exit Price: 10513.71), Volume: 0.1049, P&L: 0.0002\n",
      "Trade executed: buy entered at 2020-09-23 02:48:00 (Entry Price: 10501.81), exited at 2020-09-23T02:53:00.000000000 (Exit Price: 10513.82), Volume: 0.1049, P&L: 0.0001\n",
      "Trade executed: sell entered at 2020-09-23 02:58:00 (Entry Price: 10510.92), exited at 2020-09-23T03:02:00.000000000 (Exit Price: 10505.00), Volume: 0.1049, P&L: 0.0000\n",
      "Trade executed: buy entered at 2020-09-23 04:45:00 (Entry Price: 10457.53), exited at 2020-09-23T05:15:00.000000000 (Exit Price: 10475.70), Volume: 0.1049, P&L: 0.0002\n",
      "Trade executed: buy entered at 2020-09-23 03:04:00 (Entry Price: 10500.11), exited at 2020-09-23T05:34:00.000000000 (Exit Price: 10481.36), Volume: 0.1049, P&L: -0.0002\n",
      "Trade executed: buy entered at 2020-09-23 03:39:00 (Entry Price: 10478.87), exited at 2020-09-23T05:34:00.000000000 (Exit Price: 10481.36), Volume: 0.1049, P&L: 0.0000\n",
      "Trade executed: buy entered at 2020-09-23 06:22:00 (Entry Price: 10420.89), exited at 2020-09-23T08:21:00.000000000 (Exit Price: 10436.99), Volume: 0.1049, P&L: 0.0001\n",
      "Trade executed: sell entered at 2020-09-23 13:45:00 (Entry Price: 10513.78), exited at 2020-09-23T13:53:00.000000000 (Exit Price: 10502.43), Volume: 0.1049, P&L: 0.0001\n",
      "Trade executed: buy entered at 2020-09-23 15:49:00 (Entry Price: 10453.39), exited at 2020-09-23T16:38:00.000000000 (Exit Price: 10472.82), Volume: 0.1049, P&L: 0.0002\n",
      "Trade executed: buy entered at 2020-09-23 14:05:00 (Entry Price: 10484.54), exited at 2020-09-23T16:39:00.000000000 (Exit Price: 10477.99), Volume: 0.1049, P&L: -0.0001\n",
      "Trade executed: buy entered at 2020-09-23 18:15:00 (Entry Price: 10443.39), exited at 2020-09-23T22:06:00.000000000 (Exit Price: 10281.67), Volume: 0.1049, P&L: -0.0016\n",
      "Trade executed: buy entered at 2020-09-23 18:56:00 (Entry Price: 10411.61), exited at 2020-09-23T22:06:00.000000000 (Exit Price: 10281.67), Volume: 0.1049, P&L: -0.0013\n",
      "Trade executed: buy entered at 2020-09-23 19:38:00 (Entry Price: 10295.00), exited at 2020-09-23T22:06:00.000000000 (Exit Price: 10281.67), Volume: 0.1049, P&L: -0.0002\n",
      "Trade executed: buy entered at 2020-09-23 19:39:00 (Entry Price: 10298.33), exited at 2020-09-23T22:06:00.000000000 (Exit Price: 10281.67), Volume: 0.1049, P&L: -0.0002\n",
      "Trade executed: buy entered at 2020-09-23 19:40:00 (Entry Price: 10297.40), exited at 2020-09-23T22:06:00.000000000 (Exit Price: 10281.67), Volume: 0.1049, P&L: -0.0002\n",
      "Trade executed: buy entered at 2020-09-23 19:48:00 (Entry Price: 10295.96), exited at 2020-09-23T22:06:00.000000000 (Exit Price: 10281.67), Volume: 0.1049, P&L: -0.0002\n",
      "Trade executed: buy entered at 2020-09-24 06:52:00 (Entry Price: 10289.66), exited at 2020-09-24T06:57:00.000000000 (Exit Price: 10294.19), Volume: 0.1046, P&L: 0.0000\n",
      "Trade executed: sell entered at 2020-09-24 07:16:00 (Entry Price: 10301.33), exited at 2020-09-24T07:25:00.000000000 (Exit Price: 10298.04), Volume: 0.1046, P&L: 0.0000\n",
      "Trade executed: sell entered at 2020-09-24 07:34:00 (Entry Price: 10302.72), exited at 2020-09-24T08:45:00.000000000 (Exit Price: 10317.29), Volume: 0.1046, P&L: -0.0002\n",
      "Trade executed: sell entered at 2020-09-24 07:55:00 (Entry Price: 10335.85), exited at 2020-09-24T08:45:00.000000000 (Exit Price: 10317.29), Volume: 0.1046, P&L: 0.0002\n",
      "Trade executed: buy entered at 2020-09-24 09:11:00 (Entry Price: 10282.00), exited at 2020-09-24T09:44:00.000000000 (Exit Price: 10301.85), Volume: 0.1046, P&L: 0.0002\n",
      "Trade executed: sell entered at 2020-09-24 11:33:00 (Entry Price: 10401.29), exited at 2020-09-24T12:03:00.000000000 (Exit Price: 10388.39), Volume: 0.1046, P&L: 0.0001\n",
      "Trade executed: sell entered at 2020-09-24 11:46:00 (Entry Price: 10405.75), exited at 2020-09-24T12:03:00.000000000 (Exit Price: 10388.39), Volume: 0.1046, P&L: 0.0002\n",
      "Trade executed: sell entered at 2020-09-24 11:47:00 (Entry Price: 10402.16), exited at 2020-09-24T12:03:00.000000000 (Exit Price: 10388.39), Volume: 0.1046, P&L: 0.0001\n",
      "Trade executed: sell entered at 2020-09-24 10:27:00 (Entry Price: 10317.99), exited at 2020-09-24T12:31:00.000000000 (Exit Price: 10392.99), Volume: 0.1046, P&L: -0.0008\n",
      "Trade executed: sell entered at 2020-09-24 10:57:00 (Entry Price: 10342.82), exited at 2020-09-24T12:31:00.000000000 (Exit Price: 10392.99), Volume: 0.1046, P&L: -0.0005\n",
      "Trade executed: sell entered at 2020-09-24 12:04:00 (Entry Price: 10387.00), exited at 2020-09-24T12:31:00.000000000 (Exit Price: 10392.99), Volume: 0.1046, P&L: -0.0001\n",
      "Trade executed: sell entered at 2020-09-24 12:05:00 (Entry Price: 10386.00), exited at 2020-09-24T12:31:00.000000000 (Exit Price: 10392.99), Volume: 0.1046, P&L: -0.0001\n",
      "Trade executed: sell entered at 2020-09-24 12:33:00 (Entry Price: 10399.34), exited at 2020-09-24T12:34:00.000000000 (Exit Price: 10391.11), Volume: 0.1045, P&L: 0.0001\n",
      "Trade executed: buy entered at 2020-09-24 13:37:00 (Entry Price: 10345.00), exited at 2020-09-24T14:00:00.000000000 (Exit Price: 10396.97), Volume: 0.1045, P&L: 0.0005\n",
      "Trade flipped: sell entered at 2020-09-24 14:01:00 (Entry Price: 10397.67), exited at 2020-09-24T14:31:00.000000000 (Exit Price: 10381.00), Volume: 0.1045, P&L: 0.0001\n",
      "Trade flipped: buy entered at 2020-09-24 14:31:00 (Entry Price: 10381.00), exited at 2020-09-24T14:53:00.000000000 (Exit Price: 10390.69), Volume: 0.1046, P&L: 0.0001\n",
      "Trade executed: sell entered at 2020-09-24 14:53:00 (Entry Price: 10390.69), exited at 2020-09-24T17:59:00.000000000 (Exit Price: 10649.90), Volume: 0.1046, P&L: -0.0026\n",
      "Trade executed: sell entered at 2020-09-24 21:09:00 (Entry Price: 10642.24), exited at 2020-09-24T21:29:00.000000000 (Exit Price: 10640.01), Volume: 0.1043, P&L: 0.0000\n",
      "Trade executed: sell entered at 2020-09-24 22:56:00 (Entry Price: 10760.00), exited at 2020-09-24T23:33:00.000000000 (Exit Price: 10732.00), Volume: 0.1043, P&L: 0.0003\n",
      "Trade executed: sell entered at 2020-09-24 23:40:00 (Entry Price: 10729.32), exited at 2020-09-24T23:53:00.000000000 (Exit Price: 10716.84), Volume: 0.1043, P&L: 0.0001\n",
      "Trade executed: sell entered at 2020-09-25 02:54:00 (Entry Price: 10707.41), exited at 2020-09-25T03:00:00.000000000 (Exit Price: 10694.16), Volume: 0.1043, P&L: 0.0001\n",
      "Trade executed: buy entered at 2020-09-25 03:05:00 (Entry Price: 10702.24), exited at 2020-09-25T03:26:00.000000000 (Exit Price: 10702.54), Volume: 0.1044, P&L: -0.0000\n",
      "Trade executed: buy entered at 2020-09-25 03:40:00 (Entry Price: 10685.02), exited at 2020-09-25T06:50:00.000000000 (Exit Price: 10667.79), Volume: 0.1043, P&L: -0.0002\n",
      "Trade executed: buy entered at 2020-09-25 06:25:00 (Entry Price: 10648.07), exited at 2020-09-25T06:50:00.000000000 (Exit Price: 10667.79), Volume: 0.1043, P&L: 0.0002\n",
      "Trade executed: sell entered at 2020-09-25 06:54:00 (Entry Price: 10668.75), exited at 2020-09-25T08:02:00.000000000 (Exit Price: 10672.68), Volume: 0.1043, P&L: -0.0001\n",
      "Trade executed: buy entered at 2020-09-25 08:31:00 (Entry Price: 10649.36), exited at 2020-09-25T11:24:00.000000000 (Exit Price: 10610.50), Volume: 0.1043, P&L: -0.0004\n",
      "Trade executed: buy entered at 2020-09-25 09:20:00 (Entry Price: 10604.77), exited at 2020-09-25T11:24:00.000000000 (Exit Price: 10610.50), Volume: 0.1043, P&L: 0.0000\n",
      "Trade executed: buy entered at 2020-09-25 09:40:00 (Entry Price: 10586.50), exited at 2020-09-25T11:24:00.000000000 (Exit Price: 10610.50), Volume: 0.1043, P&L: 0.0002\n",
      "Trade executed: sell entered at 2020-09-25 12:16:00 (Entry Price: 10643.16), exited at 2020-09-25T12:23:00.000000000 (Exit Price: 10616.12), Volume: 0.1043, P&L: 0.0002\n",
      "Trade executed: buy entered at 2020-09-25 12:37:00 (Entry Price: 10590.39), exited at 2020-09-25T12:42:00.000000000 (Exit Price: 10606.00), Volume: 0.1044, P&L: 0.0001\n",
      "Trade executed: buy entered at 2020-09-25 12:43:00 (Entry Price: 10599.07), exited at 2020-09-25T12:45:00.000000000 (Exit Price: 10612.44), Volume: 0.1044, P&L: 0.0001\n",
      "Trade flipped: buy entered at 2020-09-25 15:03:00 (Entry Price: 10585.20), exited at 2020-09-25T15:12:00.000000000 (Exit Price: 10620.73), Volume: 0.1044, P&L: 0.0003\n",
      "Trade executed: sell entered at 2020-09-25 15:12:00 (Entry Price: 10620.73), exited at 2020-09-25T16:01:00.000000000 (Exit Price: 10628.98), Volume: 0.1044, P&L: -0.0001\n",
      "Trade executed: sell entered at 2020-09-25 17:44:00 (Entry Price: 10708.78), exited at 2020-09-25T18:43:00.000000000 (Exit Price: 10692.04), Volume: 0.1044, P&L: 0.0001\n",
      "Trade executed: sell entered at 2020-09-25 18:48:00 (Entry Price: 10698.88), exited at 2020-09-25T18:50:00.000000000 (Exit Price: 10696.87), Volume: 0.1044, P&L: -0.0000\n",
      "Trade executed: sell entered at 2020-09-25 18:51:00 (Entry Price: 10700.35), exited at 2020-09-25T18:55:00.000000000 (Exit Price: 10698.18), Volume: 0.1044, P&L: 0.0000\n",
      "Trade executed: sell entered at 2020-09-25 19:00:00 (Entry Price: 10707.90), exited at 2020-09-25T19:01:00.000000000 (Exit Price: 10701.82), Volume: 0.1044, P&L: 0.0000\n",
      "Trade executed: sell entered at 2020-09-25 19:09:00 (Entry Price: 10710.69), exited at 2020-09-25T19:11:00.000000000 (Exit Price: 10706.87), Volume: 0.1044, P&L: 0.0000\n",
      "Trade executed: sell entered at 2020-09-25 19:20:00 (Entry Price: 10709.60), exited at 2020-09-25T19:21:00.000000000 (Exit Price: 10705.05), Volume: 0.1044, P&L: 0.0000\n",
      "Trade executed: buy entered at 2020-09-25 22:19:00 (Entry Price: 10693.43), exited at 2020-09-25T22:41:00.000000000 (Exit Price: 10713.96), Volume: 0.1044, P&L: 0.0002\n",
      "Trade executed: buy entered at 2020-09-25 23:40:00 (Entry Price: 10661.07), exited at 2020-09-25T23:45:00.000000000 (Exit Price: 10681.07), Volume: 0.1044, P&L: 0.0002\n",
      "Trade executed: buy entered at 2020-09-25 22:48:00 (Entry Price: 10683.89), exited at 2020-09-26T00:16:00.000000000 (Exit Price: 10698.99), Volume: 0.1044, P&L: 0.0001\n",
      "Trade executed: sell entered at 2020-09-26 03:34:00 (Entry Price: 10730.53), exited at 2020-09-26T03:44:00.000000000 (Exit Price: 10707.83), Volume: 0.1045, P&L: 0.0002\n",
      "Trade executed: sell entered at 2020-09-26 03:44:00 (Entry Price: 10707.83), exited at 2020-09-26T03:45:00.000000000 (Exit Price: 10702.35), Volume: 0.1045, P&L: 0.0000\n",
      "Trade executed: sell entered at 2020-09-26 03:52:00 (Entry Price: 10709.98), exited at 2020-09-26T03:56:00.000000000 (Exit Price: 10701.52), Volume: 0.1045, P&L: 0.0001\n",
      "Trade executed: buy entered at 2020-09-26 04:15:00 (Entry Price: 10688.98), exited at 2020-09-26T04:19:00.000000000 (Exit Price: 10693.07), Volume: 0.1045, P&L: 0.0000\n",
      "Trade executed: sell entered at 2020-09-26 04:40:00 (Entry Price: 10708.59), exited at 2020-09-26T05:45:00.000000000 (Exit Price: 10716.39), Volume: 0.1045, P&L: -0.0001\n",
      "Trade executed: sell entered at 2020-09-26 05:52:00 (Entry Price: 10800.77), exited at 2020-09-26T05:54:00.000000000 (Exit Price: 10748.04), Volume: 0.1045, P&L: 0.0005\n",
      "Trade executed: sell entered at 2020-09-26 05:51:00 (Entry Price: 10738.86), exited at 2020-09-26T05:55:00.000000000 (Exit Price: 10715.08), Volume: 0.1045, P&L: 0.0002\n",
      "Trade executed: sell entered at 2020-09-26 05:58:00 (Entry Price: 10736.02), exited at 2020-09-26T05:59:00.000000000 (Exit Price: 10722.71), Volume: 0.1046, P&L: 0.0001\n",
      "Trade executed: sell entered at 2020-09-26 06:00:00 (Entry Price: 10727.50), exited at 2020-09-26T06:53:00.000000000 (Exit Price: 10742.03), Volume: 0.1046, P&L: -0.0002\n",
      "Trade executed: buy entered at 2020-09-26 09:38:00 (Entry Price: 10700.85), exited at 2020-09-26T09:47:00.000000000 (Exit Price: 10708.00), Volume: 0.1046, P&L: 0.0000\n",
      "Trade executed: buy entered at 2020-09-26 09:48:00 (Entry Price: 10698.05), exited at 2020-09-26T10:31:00.000000000 (Exit Price: 10697.00), Volume: 0.1046, P&L: -0.0000\n",
      "Trade executed: sell entered at 2020-09-26 10:40:00 (Entry Price: 10717.71), exited at 2020-09-26T11:33:00.000000000 (Exit Price: 10703.60), Volume: 0.1046, P&L: 0.0001\n",
      "Trade executed: buy entered at 2020-09-26 12:14:00 (Entry Price: 10687.43), exited at 2020-09-26T12:25:00.000000000 (Exit Price: 10697.19), Volume: 0.1046, P&L: 0.0001\n",
      "Trade executed: sell entered at 2020-09-26 14:53:00 (Entry Price: 10706.79), exited at 2020-09-26T15:07:00.000000000 (Exit Price: 10699.48), Volume: 0.1046, P&L: 0.0001\n",
      "Trade executed: sell entered at 2020-09-26 16:36:00 (Entry Price: 10727.49), exited at 2020-09-26T17:43:00.000000000 (Exit Price: 10722.98), Volume: 0.1046, P&L: 0.0000\n",
      "Trade executed: sell entered at 2020-09-26 18:01:00 (Entry Price: 10768.21), exited at 2020-09-26T18:07:00.000000000 (Exit Price: 10727.03), Volume: 0.1046, P&L: 0.0004\n",
      "Trade executed: sell entered at 2020-09-26 18:19:00 (Entry Price: 10736.00), exited at 2020-09-26T18:22:00.000000000 (Exit Price: 10730.00), Volume: 0.1046, P&L: 0.0000\n",
      "Trade executed: buy entered at 2020-09-26 19:23:00 (Entry Price: 10711.74), exited at 2020-09-26T21:01:00.000000000 (Exit Price: 10721.52), Volume: 0.1046, P&L: 0.0001\n",
      "Trade executed: sell entered at 2020-09-26 21:55:00 (Entry Price: 10728.20), exited at 2020-09-26T21:58:00.000000000 (Exit Price: 10718.46), Volume: 0.1046, P&L: 0.0001\n",
      "Trade executed: buy entered at 2020-09-26 22:00:00 (Entry Price: 10710.42), exited at 2020-09-26T22:17:00.000000000 (Exit Price: 10719.63), Volume: 0.1046, P&L: 0.0001\n",
      "Trade executed: sell entered at 2020-09-26 22:18:00 (Entry Price: 10723.95), exited at 2020-09-26T22:25:00.000000000 (Exit Price: 10722.00), Volume: 0.1046, P&L: -0.0000\n",
      "Trade executed: sell entered at 2020-09-26 22:26:00 (Entry Price: 10724.20), exited at 2020-09-26T22:27:00.000000000 (Exit Price: 10722.00), Volume: 0.1046, P&L: 0.0000\n",
      "Trade executed: sell entered at 2020-09-26 22:28:00 (Entry Price: 10727.30), exited at 2020-09-26T22:29:00.000000000 (Exit Price: 10719.02), Volume: 0.1046, P&L: 0.0001\n",
      "Trade executed: buy entered at 2020-09-26 22:33:00 (Entry Price: 10717.51), exited at 2020-09-26T22:34:00.000000000 (Exit Price: 10723.74), Volume: 0.1047, P&L: 0.0000\n",
      "Trade executed: sell entered at 2020-09-26 22:38:00 (Entry Price: 10727.46), exited at 2020-09-26T23:38:00.000000000 (Exit Price: 10730.57), Volume: 0.1047, P&L: -0.0001\n",
      "Trade executed: sell entered at 2020-09-26 23:11:00 (Entry Price: 10742.30), exited at 2020-09-26T23:38:00.000000000 (Exit Price: 10730.57), Volume: 0.1047, P&L: 0.0001\n",
      "Trade executed: sell entered at 2020-09-27 01:33:00 (Entry Price: 10774.20), exited at 2020-09-27T01:48:00.000000000 (Exit Price: 10765.05), Volume: 0.1047, P&L: 0.0001\n",
      "Trade executed: sell entered at 2020-09-27 02:00:00 (Entry Price: 10771.47), exited at 2020-09-27T02:03:00.000000000 (Exit Price: 10770.17), Volume: 0.1047, P&L: -0.0000\n",
      "Trade executed: sell entered at 2020-09-27 02:47:00 (Entry Price: 10775.51), exited at 2020-09-27T02:54:00.000000000 (Exit Price: 10769.72), Volume: 0.1047, P&L: 0.0000\n",
      "Trade executed: buy entered at 2020-09-27 07:11:00 (Entry Price: 10665.00), exited at 2020-09-27T07:25:00.000000000 (Exit Price: 10685.76), Volume: 0.1047, P&L: 0.0002\n",
      "Trade executed: buy entered at 2020-09-27 07:19:00 (Entry Price: 10664.63), exited at 2020-09-27T07:25:00.000000000 (Exit Price: 10685.76), Volume: 0.1047, P&L: 0.0002\n",
      "Trade executed: buy entered at 2020-09-27 06:38:00 (Entry Price: 10708.37), exited at 2020-09-27T10:14:00.000000000 (Exit Price: 10651.96), Volume: 0.1047, P&L: -0.0006\n",
      "Trade executed: buy entered at 2020-09-27 07:35:00 (Entry Price: 10668.96), exited at 2020-09-27T10:14:00.000000000 (Exit Price: 10651.96), Volume: 0.1047, P&L: -0.0002\n",
      "Trade executed: buy entered at 2020-09-27 08:14:00 (Entry Price: 10647.69), exited at 2020-09-27T10:14:00.000000000 (Exit Price: 10651.96), Volume: 0.1047, P&L: 0.0000\n",
      "Trade flipped: buy entered at 2020-09-27 12:06:00 (Entry Price: 10636.22), exited at 2020-09-27T12:08:00.000000000 (Exit Price: 10651.80), Volume: 0.1046, P&L: 0.0001\n",
      "Trade executed: sell entered at 2020-09-27 12:08:00 (Entry Price: 10651.80), exited at 2020-09-27T12:09:00.000000000 (Exit Price: 10645.66), Volume: 0.1046, P&L: 0.0000\n",
      "Trade executed: sell entered at 2020-09-27 12:10:00 (Entry Price: 10646.86), exited at 2020-09-27T12:11:00.000000000 (Exit Price: 10644.20), Volume: 0.1046, P&L: 0.0000\n",
      "Trade executed: sell entered at 2020-09-27 12:12:00 (Entry Price: 10648.59), exited at 2020-09-27T12:13:00.000000000 (Exit Price: 10644.85), Volume: 0.1047, P&L: 0.0000\n",
      "Trade executed: sell entered at 2020-09-27 12:16:00 (Entry Price: 10646.60), exited at 2020-09-27T12:44:00.000000000 (Exit Price: 10645.71), Volume: 0.1047, P&L: -0.0000\n",
      "Trade executed: sell entered at 2020-09-27 13:23:00 (Entry Price: 10660.60), exited at 2020-09-27T14:13:00.000000000 (Exit Price: 10662.55), Volume: 0.1047, P&L: -0.0000\n",
      "Trade executed: buy entered at 2020-09-27 15:19:00 (Entry Price: 10644.04), exited at 2020-09-27T15:38:00.000000000 (Exit Price: 10664.19), Volume: 0.1046, P&L: 0.0002\n",
      "Trade executed: sell entered at 2020-09-27 15:39:00 (Entry Price: 10663.06), exited at 2020-09-27T16:50:00.000000000 (Exit Price: 10717.70), Volume: 0.1047, P&L: -0.0006\n",
      "Trade executed: sell entered at 2020-09-27 16:12:00 (Entry Price: 10742.46), exited at 2020-09-27T16:50:00.000000000 (Exit Price: 10717.70), Volume: 0.1047, P&L: 0.0002\n",
      "Trade executed: sell entered at 2020-09-27 16:20:00 (Entry Price: 10743.33), exited at 2020-09-27T16:50:00.000000000 (Exit Price: 10717.70), Volume: 0.1047, P&L: 0.0002\n",
      "Trade executed: sell entered at 2020-09-27 16:26:00 (Entry Price: 10739.05), exited at 2020-09-27T16:50:00.000000000 (Exit Price: 10717.70), Volume: 0.1047, P&L: 0.0002\n",
      "Trade flipped: buy entered at 2020-09-27 20:12:00 (Entry Price: 10718.75), exited at 2020-09-27T20:14:00.000000000 (Exit Price: 10723.40), Volume: 0.1047, P&L: 0.0000\n",
      "Trade flipped: sell entered at 2020-09-27 20:14:00 (Entry Price: 10723.40), exited at 2020-09-27T20:15:00.000000000 (Exit Price: 10719.96), Volume: 0.1047, P&L: 0.0000\n",
      "Trade executed: buy entered at 2020-09-27 20:15:00 (Entry Price: 10719.96), exited at 2020-09-27T20:17:00.000000000 (Exit Price: 10724.83), Volume: 0.1047, P&L: 0.0000\n",
      "Trade executed: buy entered at 2020-09-27 20:25:00 (Entry Price: 10721.93), exited at 2020-09-27T20:26:00.000000000 (Exit Price: 10725.00), Volume: 0.1047, P&L: 0.0000\n",
      "Trade executed: sell entered at 2020-09-27 22:43:00 (Entry Price: 10740.62), exited at 2020-09-27T23:04:00.000000000 (Exit Price: 10733.03), Volume: 0.1047, P&L: 0.0001\n",
      "Trade executed: sell entered at 2020-09-27 23:19:00 (Entry Price: 10735.87), exited at 2020-09-27T23:21:00.000000000 (Exit Price: 10730.58), Volume: 0.1047, P&L: 0.0000\n",
      "Trade executed: sell entered at 2020-09-27 23:29:00 (Entry Price: 10737.71), exited at 2020-09-28T02:26:00.000000000 (Exit Price: 10906.22), Volume: 0.1047, P&L: -0.0017\n",
      "Trade executed: buy entered at 2020-09-28 06:17:00 (Entry Price: 10876.54), exited at 2020-09-28T08:25:00.000000000 (Exit Price: 10870.49), Volume: 0.1045, P&L: -0.0001\n",
      "Trade executed: buy entered at 2020-09-28 06:35:00 (Entry Price: 10859.10), exited at 2020-09-28T08:25:00.000000000 (Exit Price: 10870.49), Volume: 0.1045, P&L: 0.0001\n",
      "Trade flipped: buy entered at 2020-09-28 08:26:00 (Entry Price: 10867.35), exited at 2020-09-28T08:27:00.000000000 (Exit Price: 10870.95), Volume: 0.1045, P&L: 0.0000\n",
      "Trade executed: sell entered at 2020-09-28 08:27:00 (Entry Price: 10870.95), exited at 2020-09-28T08:51:00.000000000 (Exit Price: 10861.71), Volume: 0.1045, P&L: 0.0001\n",
      "Trade executed: buy entered at 2020-09-28 08:53:00 (Entry Price: 10854.28), exited at 2020-09-28T09:08:00.000000000 (Exit Price: 10864.00), Volume: 0.1045, P&L: 0.0001\n",
      "Trade flipped: sell entered at 2020-09-28 09:14:00 (Entry Price: 10871.58), exited at 2020-09-28T09:15:00.000000000 (Exit Price: 10863.34), Volume: 0.1045, P&L: 0.0001\n",
      "Trade executed: buy entered at 2020-09-28 09:15:00 (Entry Price: 10863.34), exited at 2020-09-28T09:21:00.000000000 (Exit Price: 10866.41), Volume: 0.1045, P&L: 0.0000\n",
      "Trade executed: buy entered at 2020-09-28 09:35:00 (Entry Price: 10838.41), exited at 2020-09-28T09:56:00.000000000 (Exit Price: 10858.79), Volume: 0.1045, P&L: 0.0002\n",
      "Trade executed: buy entered at 2020-09-28 09:25:00 (Entry Price: 10861.24), exited at 2020-09-28T10:05:00.000000000 (Exit Price: 10862.98), Volume: 0.1045, P&L: -0.0000\n",
      "Trade executed: sell entered at 2020-09-28 10:06:00 (Entry Price: 10865.63), exited at 2020-09-28T11:20:00.000000000 (Exit Price: 10870.00), Volume: 0.1046, P&L: -0.0001\n",
      "Trade flipped: sell entered at 2020-09-28 12:41:00 (Entry Price: 10890.17), exited at 2020-09-28T12:42:00.000000000 (Exit Price: 10860.92), Volume: 0.1046, P&L: 0.0003\n",
      "Trade executed: buy entered at 2020-09-28 12:42:00 (Entry Price: 10860.92), exited at 2020-09-28T12:49:00.000000000 (Exit Price: 10875.77), Volume: 0.1046, P&L: 0.0001\n",
      "Trade executed: sell entered at 2020-09-28 12:50:00 (Entry Price: 10887.50), exited at 2020-09-28T13:03:00.000000000 (Exit Price: 10883.39), Volume: 0.1046, P&L: 0.0000\n",
      "Trade executed: sell entered at 2020-09-28 13:11:00 (Entry Price: 10909.18), exited at 2020-09-28T13:43:00.000000000 (Exit Price: 10905.69), Volume: 0.1046, P&L: 0.0000\n",
      "Trade executed: buy entered at 2020-09-28 13:49:00 (Entry Price: 10876.97), exited at 2020-09-28T14:13:00.000000000 (Exit Price: 10891.55), Volume: 0.1046, P&L: 0.0001\n",
      "Trade executed: sell entered at 2020-09-28 14:17:00 (Entry Price: 10908.12), exited at 2020-09-28T14:29:00.000000000 (Exit Price: 10896.50), Volume: 0.1046, P&L: 0.0001\n",
      "Trade executed: buy entered at 2020-09-28 16:50:00 (Entry Price: 10881.39), exited at 2020-09-28T16:52:00.000000000 (Exit Price: 10894.67), Volume: 0.1046, P&L: 0.0001\n",
      "Trade executed: sell entered at 2020-09-28 16:53:00 (Entry Price: 10890.01), exited at 2020-09-28T16:59:00.000000000 (Exit Price: 10879.51), Volume: 0.1046, P&L: 0.0001\n",
      "Trade flipped: buy entered at 2020-09-28 17:00:00 (Entry Price: 10875.66), exited at 2020-09-28T17:25:00.000000000 (Exit Price: 10890.37), Volume: 0.1046, P&L: 0.0001\n",
      "Trade flipped: sell entered at 2020-09-28 17:25:00 (Entry Price: 10890.37), exited at 2020-09-28T17:36:00.000000000 (Exit Price: 10886.51), Volume: 0.1046, P&L: 0.0000\n",
      "Trade executed: buy entered at 2020-09-28 17:36:00 (Entry Price: 10886.51), exited at 2020-09-28T17:53:00.000000000 (Exit Price: 10884.84), Volume: 0.1047, P&L: -0.0000\n",
      "Trade executed: sell entered at 2020-09-28 17:57:00 (Entry Price: 10886.79), exited at 2020-09-28T18:00:00.000000000 (Exit Price: 10873.50), Volume: 0.1046, P&L: 0.0001\n",
      "Trade executed: buy entered at 2020-09-28 18:14:00 (Entry Price: 10856.68), exited at 2020-09-28T18:47:00.000000000 (Exit Price: 10869.99), Volume: 0.1047, P&L: 0.0001\n",
      "Trade executed: buy entered at 2020-09-28 20:29:00 (Entry Price: 10865.44), exited at 2020-09-28T20:36:00.000000000 (Exit Price: 10865.85), Volume: 0.1047, P&L: -0.0000\n",
      "Trade executed: buy entered at 2020-09-28 20:40:00 (Entry Price: 10863.88), exited at 2020-09-28T20:43:00.000000000 (Exit Price: 10869.98), Volume: 0.1047, P&L: 0.0000\n",
      "Trade flipped: sell entered at 2020-09-28 20:44:00 (Entry Price: 10867.05), exited at 2020-09-28T20:47:00.000000000 (Exit Price: 10861.97), Volume: 0.1047, P&L: 0.0000\n",
      "Trade flipped: buy entered at 2020-09-28 20:47:00 (Entry Price: 10861.97), exited at 2020-09-28T20:49:00.000000000 (Exit Price: 10865.48), Volume: 0.1047, P&L: 0.0000\n",
      "Trade executed: sell entered at 2020-09-28 20:49:00 (Entry Price: 10865.48), exited at 2020-09-28T21:01:00.000000000 (Exit Price: 10857.66), Volume: 0.1047, P&L: 0.0001\n",
      "Trade executed: buy entered at 2020-09-28 23:47:00 (Entry Price: 10693.20), exited at 2020-09-29T00:38:00.000000000 (Exit Price: 10712.00), Volume: 0.1047, P&L: 0.0002\n",
      "Trade executed: buy entered at 2020-09-28 23:48:00 (Entry Price: 10692.11), exited at 2020-09-29T00:38:00.000000000 (Exit Price: 10712.00), Volume: 0.1047, P&L: 0.0002\n",
      "Trade executed: buy entered at 2020-09-28 23:03:00 (Entry Price: 10854.62), exited at 2020-09-29T03:35:00.000000000 (Exit Price: 10700.35), Volume: 0.1047, P&L: -0.0015\n",
      "Trade executed: buy entered at 2020-09-29 00:18:00 (Entry Price: 10720.91), exited at 2020-09-29T03:35:00.000000000 (Exit Price: 10700.35), Volume: 0.1047, P&L: -0.0002\n",
      "Trade executed: buy entered at 2020-09-29 05:27:00 (Entry Price: 10687.20), exited at 2020-09-29T05:33:00.000000000 (Exit Price: 10691.53), Volume: 0.1045, P&L: 0.0000\n",
      "Trade executed: buy entered at 2020-09-29 05:39:00 (Entry Price: 10690.51), exited at 2020-09-29T05:48:00.000000000 (Exit Price: 10691.56), Volume: 0.1045, P&L: -0.0000\n",
      "Trade executed: buy entered at 2020-09-29 05:49:00 (Entry Price: 10687.99), exited at 2020-09-29T06:09:00.000000000 (Exit Price: 10692.21), Volume: 0.1045, P&L: 0.0000\n",
      "Trade executed: buy entered at 2020-09-29 05:57:00 (Entry Price: 10670.00), exited at 2020-09-29T06:09:00.000000000 (Exit Price: 10692.21), Volume: 0.1045, P&L: 0.0002\n",
      "Trade executed: buy entered at 2020-09-29 06:16:00 (Entry Price: 10687.99), exited at 2020-09-29T06:20:00.000000000 (Exit Price: 10692.05), Volume: 0.1046, P&L: 0.0000\n",
      "Trade executed: sell entered at 2020-09-29 06:53:00 (Entry Price: 10726.99), exited at 2020-09-29T08:02:00.000000000 (Exit Price: 10715.00), Volume: 0.1046, P&L: 0.0001\n",
      "Trade executed: sell entered at 2020-09-29 08:27:00 (Entry Price: 10729.07), exited at 2020-09-29T08:49:00.000000000 (Exit Price: 10724.01), Volume: 0.1046, P&L: 0.0000\n",
      "Trade executed: buy entered at 2020-09-29 10:04:00 (Entry Price: 10723.94), exited at 2020-09-29T10:10:00.000000000 (Exit Price: 10730.54), Volume: 0.1046, P&L: 0.0000\n",
      "Trade executed: sell entered at 2020-09-29 11:44:00 (Entry Price: 10783.76), exited at 2020-09-29T11:48:00.000000000 (Exit Price: 10766.63), Volume: 0.1046, P&L: 0.0001\n",
      "Trade executed: sell entered at 2020-09-29 10:11:00 (Entry Price: 10729.99), exited at 2020-09-29T11:53:00.000000000 (Exit Price: 10761.83), Volume: 0.1046, P&L: -0.0003\n",
      "Trade executed: sell entered at 2020-09-29 10:30:00 (Entry Price: 10769.99), exited at 2020-09-29T11:53:00.000000000 (Exit Price: 10761.83), Volume: 0.1046, P&L: 0.0001\n",
      "Trade executed: sell entered at 2020-09-29 11:28:00 (Entry Price: 10768.68), exited at 2020-09-29T11:53:00.000000000 (Exit Price: 10761.83), Volume: 0.1046, P&L: 0.0000\n",
      "Trade executed: buy entered at 2020-09-29 12:06:00 (Entry Price: 10742.61), exited at 2020-09-29T12:07:00.000000000 (Exit Price: 10752.34), Volume: 0.1046, P&L: 0.0001\n",
      "Trade executed: buy entered at 2020-09-29 13:49:00 (Entry Price: 10748.17), exited at 2020-09-29T14:01:00.000000000 (Exit Price: 10756.60), Volume: 0.1046, P&L: 0.0001\n",
      "Trade flipped: sell entered at 2020-09-29 14:27:00 (Entry Price: 10775.86), exited at 2020-09-29T14:36:00.000000000 (Exit Price: 10754.50), Volume: 0.1046, P&L: 0.0002\n",
      "Trade executed: buy entered at 2020-09-29 14:36:00 (Entry Price: 10754.50), exited at 2020-09-29T14:58:00.000000000 (Exit Price: 10754.28), Volume: 0.1046, P&L: -0.0000\n",
      "Trade executed: buy entered at 2020-09-29 15:45:00 (Entry Price: 10744.32), exited at 2020-09-29T18:19:00.000000000 (Exit Price: 10699.51), Volume: 0.1046, P&L: -0.0005\n",
      "Trade executed: buy entered at 2020-09-29 16:20:00 (Entry Price: 10714.67), exited at 2020-09-29T18:19:00.000000000 (Exit Price: 10699.51), Volume: 0.1046, P&L: -0.0002\n",
      "Trade executed: buy entered at 2020-09-29 16:54:00 (Entry Price: 10681.48), exited at 2020-09-29T18:19:00.000000000 (Exit Price: 10699.51), Volume: 0.1046, P&L: 0.0002\n",
      "Trade executed: buy entered at 2020-09-29 17:02:00 (Entry Price: 10685.65), exited at 2020-09-29T18:19:00.000000000 (Exit Price: 10699.51), Volume: 0.1046, P&L: 0.0001\n",
      "Trade executed: sell entered at 2020-09-29 20:20:00 (Entry Price: 10758.05), exited at 2020-09-29T20:26:00.000000000 (Exit Price: 10741.32), Volume: 0.1046, P&L: 0.0001\n",
      "Trade executed: sell entered at 2020-09-29 20:26:00 (Entry Price: 10741.32), exited at 2020-09-29T21:36:00.000000000 (Exit Price: 10756.38), Volume: 0.1046, P&L: -0.0002\n",
      "Trade executed: sell entered at 2020-09-29 20:34:00 (Entry Price: 10759.50), exited at 2020-09-29T21:36:00.000000000 (Exit Price: 10756.38), Volume: 0.1046, P&L: 0.0000\n",
      "Trade executed: buy entered at 2020-09-30 02:09:00 (Entry Price: 10790.91), exited at 2020-09-30T07:11:00.000000000 (Exit Price: 10735.00), Volume: 0.1046, P&L: -0.0006\n",
      "Trade executed: buy entered at 2020-09-30 03:13:00 (Entry Price: 10759.79), exited at 2020-09-30T07:11:00.000000000 (Exit Price: 10735.00), Volume: 0.1046, P&L: -0.0003\n",
      "Trade executed: buy entered at 2020-09-30 04:00:00 (Entry Price: 10745.03), exited at 2020-09-30T07:11:00.000000000 (Exit Price: 10735.00), Volume: 0.1046, P&L: -0.0001\n",
      "Trade flipped: sell entered at 2020-09-30 07:21:00 (Entry Price: 10731.34), exited at 2020-09-30T07:22:00.000000000 (Exit Price: 10728.69), Volume: 0.1045, P&L: 0.0000\n",
      "Trade executed: buy entered at 2020-09-30 07:22:00 (Entry Price: 10728.69), exited at 2020-09-30T07:32:00.000000000 (Exit Price: 10730.66), Volume: 0.1045, P&L: -0.0000\n",
      "Trade executed: buy entered at 2020-09-30 07:42:00 (Entry Price: 10716.00), exited at 2020-09-30T08:39:00.000000000 (Exit Price: 10721.33), Volume: 0.1045, P&L: 0.0000\n",
      "Trade executed: sell entered at 2020-09-30 08:46:00 (Entry Price: 10723.11), exited at 2020-09-30T08:54:00.000000000 (Exit Price: 10713.01), Volume: 0.1045, P&L: 0.0001\n",
      "Trade executed: buy entered at 2020-09-30 09:53:00 (Entry Price: 10689.37), exited at 2020-09-30T10:03:00.000000000 (Exit Price: 10707.43), Volume: 0.1045, P&L: 0.0002\n",
      "Trade executed: sell entered at 2020-09-30 10:41:00 (Entry Price: 10709.00), exited at 2020-09-30T11:17:00.000000000 (Exit Price: 10707.74), Volume: 0.1045, P&L: -0.0000\n",
      "Trade executed: sell entered at 2020-09-30 12:44:00 (Entry Price: 10740.00), exited at 2020-09-30T13:06:00.000000000 (Exit Price: 10719.05), Volume: 0.1045, P&L: 0.0002\n",
      "Trade executed: sell entered at 2020-09-30 13:12:00 (Entry Price: 10740.99), exited at 2020-09-30T13:27:00.000000000 (Exit Price: 10725.27), Volume: 0.1045, P&L: 0.0001\n",
      "Trade executed: sell entered at 2020-09-30 12:05:00 (Entry Price: 10707.80), exited at 2020-09-30T13:39:00.000000000 (Exit Price: 10727.08), Volume: 0.1045, P&L: -0.0002\n",
      "Trade executed: sell entered at 2020-09-30 13:33:00 (Entry Price: 10739.85), exited at 2020-09-30T13:39:00.000000000 (Exit Price: 10727.08), Volume: 0.1045, P&L: 0.0001\n",
      "Trade executed: sell entered at 2020-09-30 16:31:00 (Entry Price: 10779.29), exited at 2020-09-30T16:35:00.000000000 (Exit Price: 10767.44), Volume: 0.1045, P&L: 0.0001\n",
      "Trade executed: sell entered at 2020-09-30 16:43:00 (Entry Price: 10771.29), exited at 2020-09-30T16:48:00.000000000 (Exit Price: 10766.92), Volume: 0.1045, P&L: 0.0000\n",
      "Trade executed: sell entered at 2020-09-30 17:01:00 (Entry Price: 10791.82), exited at 2020-09-30T17:08:00.000000000 (Exit Price: 10768.07), Volume: 0.1045, P&L: 0.0002\n",
      "Trade executed: buy entered at 2020-09-30 17:21:00 (Entry Price: 10759.02), exited at 2020-09-30T17:25:00.000000000 (Exit Price: 10761.97), Volume: 0.1046, P&L: 0.0000\n",
      "Trade executed: buy entered at 2020-09-30 17:49:00 (Entry Price: 10752.91), exited at 2020-09-30T17:57:00.000000000 (Exit Price: 10763.00), Volume: 0.1046, P&L: 0.0001\n",
      "Trade executed: buy entered at 2020-09-30 18:07:00 (Entry Price: 10753.00), exited at 2020-09-30T18:12:00.000000000 (Exit Price: 10765.36), Volume: 0.1046, P&L: 0.0001\n",
      "Trade executed: buy entered at 2020-09-30 18:15:00 (Entry Price: 10763.74), exited at 2020-09-30T21:14:00.000000000 (Exit Price: 10715.37), Volume: 0.1046, P&L: -0.0005\n",
      "Trade executed: buy entered at 2020-09-30 18:24:00 (Entry Price: 10729.66), exited at 2020-09-30T21:14:00.000000000 (Exit Price: 10715.37), Volume: 0.1046, P&L: -0.0002\n",
      "Trade executed: buy entered at 2020-09-30 19:44:00 (Entry Price: 10707.94), exited at 2020-09-30T21:14:00.000000000 (Exit Price: 10715.37), Volume: 0.1046, P&L: 0.0001\n"
     ]
    },
    {
     "data": {
      "image/png": "[encoded data removed]",
      "text/plain": [
       "<Figure size 1200x500 with 1 Axes>"
      ]
     },
     "metadata": {},
     "output_type": "display_data"
    },
    {
     "data": {
      "image/png": "[encoded data removed]",
      "text/plain": [
       "<Figure size 1200x800 with 1 Axes>"
      ]
     },
     "metadata": {},
     "output_type": "display_data"
    }
   ],
   "source": [
    "# for filename in os.listdir(preds_path):\n",
    "#     if filename.endswith(\"_combined_scores_3m_20202021full.npy\"):\n",
    "#         model_name = filename.replace(\"_combined_scores_3m_20202021full.npy\", \"\")\n",
    "#         combined_scores[model_name] = np.load(\n",
    "#             preds_path + filename, allow_pickle=True\n",
    "#         )\n",
    "#         print(f\"Loaded combined_scores for {model_name} from {filename}\")\n",
    "\n",
    "# for filename in os.listdir(preds_path):\n",
    "#     if filename.endswith(\"_combined_preds_3m.npy\"):\n",
    "#         model_name = filename.replace(\"_combined_preds_3m.npy\", \"\")\n",
    "#         combined_predictions[model_name] = np.load(\n",
    "#             preds_path + filename, allow_pickle=True\n",
    "#         )\n",
    "#         print(f\"Loaded combined_predictions for {model_name} from {filename}\")\n",
    "\n",
    "dates = pd.to_datetime(combined_test_dates)\n",
    "df = pd.DataFrame(index=dates)\n",
    "df.index.name = \"datetime\"\n",
    "\n",
    "df[\"close\"] = original_prices_buffer\n",
    "df[\"scaled_price\"] = scaled_prices\n",
    "df[\"scores\"] = combined_scores[\"autoencoder\"]\n",
    "\n",
    "df[\"predicted_price\"] = combined_predictions[\"autoencoder\"]\n",
    "\n",
    "data_dict = {\"BTCUSDT\": df}\n",
    "\n",
    "best_params = {\n",
    "    \"num_std\": 3,\n",
    "    \"num_std_exit\": 3,\n",
    "    \"percentile\": 95,\n",
    "    \"exit_val\": \"ma\",\n",
    "    \"max_entries\": 10,\n",
    "    \"distr_len\": 34,\n",
    "    \"ma_window_short\": 89,\n",
    "    \"ma_window_long\": 200,\n",
    "    \"window_size_minutes\": 100,\n",
    "    \"RSI_window_minutes\": 55,\n",
    "    \"rsi_entry\": \"30,70\",\n",
    "    \"rsi_exit\": \"30,70\",\n",
    "    \"plot_pl\": True,\n",
    "    \"print_trades\": True,\n",
    "    \"comission_rate\": 0.0002,\n",
    "    \"with_short\": True,\n",
    "}\n",
    "\n",
    "# start_date = \"2021-06-01\"\n",
    "# end_date = \"2021-12-31\"\n",
    "\n",
    "# data_dict[\"BTCUSDT\"] = data_dict[\"BTCUSDT\"].loc[start_date:end_date]\n",
    "\n",
    "# results, closed_trades, rolling_anomalies = calc_pl(data_dict, best_params)\n",
    "\n",
    "# print(calculate_sharpe_ratio(results))\n",
    "\n",
    "params = {\n",
    "    \"num_std\": [1, 2, 3],\n",
    "    \"num_std_exit\": [1, 2, 3],\n",
    "    \"percentile\": [75, 90, 95, 99],\n",
    "    \"exit_val\": [\"rsi\", \"ma\"],  # or \"ma\"\n",
    "    \"max_entries\": [5, 10, 20],\n",
    "    \"plot_pl\": False,\n",
    "    \"distr_len\": [34, 144],\n",
    "    \"RSI_window_minutes\": [55, 89],\n",
    "    \"Ma_window_short\": [34, 89],\n",
    "    \"Ma_window_long\": [200, 500],\n",
    "    \"window_size_minutes\": [100, 1000, 5000],\n",
    "    \"rsi_entry\": [\"30,70\", \"40,60\"],\n",
    "    \"rsi_exit\": [\"30,70\", \"40,60\", \"50,50\"],\n",
    "    \"print_trades\": False,\n",
    "    \"comission_rate\": 0.0002,\n",
    "    \"with_short\": [True, False],\n",
    "}\n",
    "\n",
    "# save_path = \"/Users/alexanderdemachev/PycharmProjects/strategy/aq/portfolio_optimization/market_regimes/trading_models/anomaly/results/\"\n",
    "save_path = \"results/\"\n",
    "file_prefix = f\"anomaly_\"\n",
    "\n",
    "optimizer = ParameterOptimizer(\n",
    "    calc_pl, save_path=save_path, save_file_prefix=file_prefix, n_jobs=5\n",
    ")\n",
    "\n",
    "# optimizer.split_data(data_dict, \"2021-06-01\")\n",
    "# optimizer.optimize(\n",
    "#     data_dict=data_dict,\n",
    "#     params=params,\n",
    "#     n_runs=64,\n",
    "#     best_trials_pct=0.1,\n",
    "#     n_splits=3,\n",
    "#     n_test_splits=1,\n",
    "# )\n",
    "optimizer.plot_returns(data_dict, best_params)"
   ]
  },
  {
   "cell_type": "code",
   "execution_count": 12,
   "id": "fbc90404-e659-4620-8d91-96047805cf50",
   "metadata": {},
   "outputs": [
    {
     "data": {
      "text/html": [
       "<div>\n",
       "<style scoped>\n",
       "    .dataframe tbody tr th:only-of-type {\n",
       "        vertical-align: middle;\n",
       "    }\n",
       "\n",
       "    .dataframe tbody tr th {\n",
       "        vertical-align: top;\n",
       "    }\n",
       "\n",
       "    .dataframe thead th {\n",
       "        text-align: right;\n",
       "    }\n",
       "</style>\n",
       "<table border=\"1\" class=\"dataframe\">\n",
       "  <thead>\n",
       "    <tr style=\"text-align: right;\">\n",
       "      <th></th>\n",
       "      <th>open</th>\n",
       "      <th>high</th>\n",
       "      <th>low</th>\n",
       "      <th>close</th>\n",
       "      <th>volume</th>\n",
       "      <th>symbol</th>\n",
       "      <th>open time</th>\n",
       "      <th>asset volume</th>\n",
       "      <th>number of trades</th>\n",
       "      <th>taker buy base asset volume</th>\n",
       "      <th>taker buy quote asset volume</th>\n",
       "      <th>scaled_price</th>\n",
       "    </tr>\n",
       "    <tr>\n",
       "      <th>datetime</th>\n",
       "      <th></th>\n",
       "      <th></th>\n",
       "      <th></th>\n",
       "      <th></th>\n",
       "      <th></th>\n",
       "      <th></th>\n",
       "      <th></th>\n",
       "      <th></th>\n",
       "      <th></th>\n",
       "      <th></th>\n",
       "      <th></th>\n",
       "      <th></th>\n",
       "    </tr>\n",
       "  </thead>\n",
       "  <tbody>\n",
       "    <tr>\n",
       "      <th>2024-12-24 06:33:00</th>\n",
       "      <td>94349.4</td>\n",
       "      <td>94368.7</td>\n",
       "      <td>94329.9</td>\n",
       "      <td>94358.8</td>\n",
       "      <td>4.277121e+06</td>\n",
       "      <td>BTCUSDT</td>\n",
       "      <td>2024-12-24 06:32:00</td>\n",
       "      <td>45.331</td>\n",
       "      <td>1161.0</td>\n",
       "      <td>26.199</td>\n",
       "      <td>2.471893e+06</td>\n",
       "      <td>0.612796</td>\n",
       "    </tr>\n",
       "    <tr>\n",
       "      <th>2024-12-24 06:34:00</th>\n",
       "      <td>94358.8</td>\n",
       "      <td>94360.1</td>\n",
       "      <td>94313.1</td>\n",
       "      <td>94313.3</td>\n",
       "      <td>2.704642e+06</td>\n",
       "      <td>BTCUSDT</td>\n",
       "      <td>2024-12-24 06:33:00</td>\n",
       "      <td>28.668</td>\n",
       "      <td>821.0</td>\n",
       "      <td>14.598</td>\n",
       "      <td>1.377329e+06</td>\n",
       "      <td>0.597483</td>\n",
       "    </tr>\n",
       "    <tr>\n",
       "      <th>2024-12-24 06:35:00</th>\n",
       "      <td>94313.2</td>\n",
       "      <td>94341.8</td>\n",
       "      <td>94301.7</td>\n",
       "      <td>94328.4</td>\n",
       "      <td>2.290662e+06</td>\n",
       "      <td>BTCUSDT</td>\n",
       "      <td>2024-12-24 06:34:00</td>\n",
       "      <td>24.286</td>\n",
       "      <td>1075.0</td>\n",
       "      <td>15.319</td>\n",
       "      <td>1.444955e+06</td>\n",
       "      <td>0.602565</td>\n",
       "    </tr>\n",
       "    <tr>\n",
       "      <th>2024-12-24 06:36:00</th>\n",
       "      <td>94328.3</td>\n",
       "      <td>94361.0</td>\n",
       "      <td>94328.3</td>\n",
       "      <td>94350.1</td>\n",
       "      <td>2.533146e+06</td>\n",
       "      <td>BTCUSDT</td>\n",
       "      <td>2024-12-24 06:35:00</td>\n",
       "      <td>26.850</td>\n",
       "      <td>854.0</td>\n",
       "      <td>20.658</td>\n",
       "      <td>1.948942e+06</td>\n",
       "      <td>0.609868</td>\n",
       "    </tr>\n",
       "    <tr>\n",
       "      <th>2024-12-24 06:37:00</th>\n",
       "      <td>94350.1</td>\n",
       "      <td>94360.8</td>\n",
       "      <td>94342.9</td>\n",
       "      <td>94360.8</td>\n",
       "      <td>9.965444e+05</td>\n",
       "      <td>BTCUSDT</td>\n",
       "      <td>2024-12-24 06:36:00</td>\n",
       "      <td>10.562</td>\n",
       "      <td>280.0</td>\n",
       "      <td>6.806</td>\n",
       "      <td>6.421635e+05</td>\n",
       "      <td>0.613469</td>\n",
       "    </tr>\n",
       "  </tbody>\n",
       "</table>\n",
       "</div>"
      ],
      "text/plain": [
       "                        open     high      low    close        volume  \\\n",
       "datetime                                                                \n",
       "2024-12-24 06:33:00  94349.4  94368.7  94329.9  94358.8  4.277121e+06   \n",
       "2024-12-24 06:34:00  94358.8  94360.1  94313.1  94313.3  2.704642e+06   \n",
       "2024-12-24 06:35:00  94313.2  94341.8  94301.7  94328.4  2.290662e+06   \n",
       "2024-12-24 06:36:00  94328.3  94361.0  94328.3  94350.1  2.533146e+06   \n",
       "2024-12-24 06:37:00  94350.1  94360.8  94342.9  94360.8  9.965444e+05   \n",
       "\n",
       "                      symbol            open time  asset volume  \\\n",
       "datetime                                                          \n",
       "2024-12-24 06:33:00  BTCUSDT  2024-12-24 06:32:00        45.331   \n",
       "2024-12-24 06:34:00  BTCUSDT  2024-12-24 06:33:00        28.668   \n",
       "2024-12-24 06:35:00  BTCUSDT  2024-12-24 06:34:00        24.286   \n",
       "2024-12-24 06:36:00  BTCUSDT  2024-12-24 06:35:00        26.850   \n",
       "2024-12-24 06:37:00  BTCUSDT  2024-12-24 06:36:00        10.562   \n",
       "\n",
       "                     number of trades  taker buy base asset volume  \\\n",
       "datetime                                                             \n",
       "2024-12-24 06:33:00            1161.0                       26.199   \n",
       "2024-12-24 06:34:00             821.0                       14.598   \n",
       "2024-12-24 06:35:00            1075.0                       15.319   \n",
       "2024-12-24 06:36:00             854.0                       20.658   \n",
       "2024-12-24 06:37:00             280.0                        6.806   \n",
       "\n",
       "                     taker buy quote asset volume  scaled_price  \n",
       "datetime                                                         \n",
       "2024-12-24 06:33:00                  2.471893e+06      0.612796  \n",
       "2024-12-24 06:34:00                  1.377329e+06      0.597483  \n",
       "2024-12-24 06:35:00                  1.444955e+06      0.602565  \n",
       "2024-12-24 06:36:00                  1.948942e+06      0.609868  \n",
       "2024-12-24 06:37:00                  6.421635e+05      0.613469  "
      ]
     },
     "execution_count": 12,
     "metadata": {},
     "output_type": "execute_result"
    }
   ],
   "source": []
  },
  {
   "cell_type": "code",
   "execution_count": null,
   "id": "5c5bbe93-3d8f-4a40-a079-3672a5ec190f",
   "metadata": {},
   "outputs": [],
   "source": []
  }
 ],
 "metadata": {
  "kernelspec": {
   "display_name": "Python 3 (ipykernel)",
   "language": "python",
   "name": "python3"
  },
  "language_info": {
   "codemirror_mode": {
    "name": "ipython",
    "version": 3
   },
   "file_extension": ".py",
   "mimetype": "text/x-python",
   "name": "python",
   "nbconvert_exporter": "python",
   "pygments_lexer": "ipython3",
   "version": "3.11.10"
  }
 },
 "nbformat": 4,
 "nbformat_minor": 5
}
